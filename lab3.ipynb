{
  "nbformat": 4,
  "nbformat_minor": 0,
  "metadata": {
    "colab": {
      "name": "lab3.ipynb",
      "provenance": [],
      "authorship_tag": "ABX9TyMAGVt1keRaSGQykLjd+MrB",
      "include_colab_link": true
    },
    "kernelspec": {
      "name": "python3",
      "display_name": "Python 3"
    }
  },
  "cells": [
    {
      "cell_type": "markdown",
      "metadata": {
        "id": "view-in-github",
        "colab_type": "text"
      },
      "source": [
        "<a href=\"https://colab.research.google.com/github/jrg94/CSE5522/blob/lab3/lab3.ipynb\" target=\"_parent\"><img src=\"https://colab.research.google.com/assets/colab-badge.svg\" alt=\"Open In Colab\"/></a>"
      ]
    },
    {
      "cell_type": "markdown",
      "metadata": {
        "id": "vrgdO_tAwbfS",
        "colab_type": "text"
      },
      "source": [
        "# CSE 5522 - Lab 3\n",
        "By Jeremy Grifski"
      ]
    },
    {
      "cell_type": "markdown",
      "metadata": {
        "id": "jIj108SHxH0j",
        "colab_type": "text"
      },
      "source": [
        "In this lab, we'll take a look at Hidden Markov Models (HMMs) for the Eisner Ice Cream Problem. "
      ]
    },
    {
      "cell_type": "markdown",
      "metadata": {
        "id": "_agHmKJtwf46",
        "colab_type": "text"
      },
      "source": [
        "## Part 1: Viterbi Algorithm"
      ]
    },
    {
      "cell_type": "markdown",
      "metadata": {
        "id": "RmpIEeUews-S",
        "colab_type": "text"
      },
      "source": [
        "Implement the Viterbi algorithm for HMMs for Eisner's Ice Cream Problem (predict whether each day is hot or cold based on the number of ice creams eaten).  Remember that the Viterbi algorithm computes the most likely sequence for an input.\n",
        "\n",
        "Your solution should be able to handle variable length sequences (in the range of 3-5).\n",
        "\n",
        "[This zip file has observation probabilities, transition probabilities, and test data for evaluation](https://osu.instructure.com/courses/76815/files/18485497/download).  Please read the probabilities and observations from a file, do not hard-code them. (This is so that we can test with different data/probabilities.)\n",
        "\n",
        "The observation and transition probabilities have rows being the variable of interest, and columns being the conditioning variables.    For example, P(2|H) is in the 3rd row (including header), 3rd column (including row label).  The columns sum to 1.\n",
        "\n",
        "The test data has one line per sequence.  When a sequence is less than five observations long, the last columns are filled with zeros."
      ]
    },
    {
      "cell_type": "markdown",
      "metadata": {
        "id": "TGHVzel9xjMu",
        "colab_type": "text"
      },
      "source": [
        "**1.0**: Let's setup the environment for data loading."
      ]
    },
    {
      "cell_type": "code",
      "metadata": {
        "id": "qWj7C3bWyGfE",
        "colab_type": "code",
        "colab": {}
      },
      "source": [
        "import matplotlib.pyplot as plt\n",
        "import pandas as pd\n",
        "import numpy as np"
      ],
      "execution_count": 0,
      "outputs": []
    },
    {
      "cell_type": "markdown",
      "metadata": {
        "id": "bupi3P1AxsXq",
        "colab_type": "text"
      },
      "source": [
        "**1.1**: Now, we'll need to load all the data from the CSV files."
      ]
    },
    {
      "cell_type": "code",
      "metadata": {
        "id": "bMpCMaOJxpG6",
        "colab_type": "code",
        "colab": {}
      },
      "source": [
        "observation_dataframe = pd.read_csv(\"observationProbs.csv\")\n",
        "test_dataframe = pd.read_csv(\"testData.csv\")\n",
        "transition_dataframe = pd.read_csv(\"transitionProbs.csv\")"
      ],
      "execution_count": 0,
      "outputs": []
    },
    {
      "cell_type": "markdown",
      "metadata": {
        "id": "-rr8YULOysYU",
        "colab_type": "text"
      },
      "source": [
        "**1.2**: Let's now take a peak at our data."
      ]
    },
    {
      "cell_type": "code",
      "metadata": {
        "id": "5crPSZyyyxtR",
        "colab_type": "code",
        "colab": {
          "base_uri": "https://localhost:8080/",
          "height": 484
        },
        "outputId": "5722dc1b-5757-4fb0-88a2-8c2b58435667"
      },
      "source": [
        "display(\n",
        "    observation_dataframe.shape,\n",
        "    observation_dataframe.head(), \n",
        "    test_dataframe.shape, \n",
        "    test_dataframe.head(),\n",
        "    transition_dataframe.shape,\n",
        "    transition_dataframe.head()\n",
        ")"
      ],
      "execution_count": 87,
      "outputs": [
        {
          "output_type": "display_data",
          "data": {
            "text/plain": [
              "(3, 3)"
            ]
          },
          "metadata": {
            "tags": []
          }
        },
        {
          "output_type": "display_data",
          "data": {
            "text/html": [
              "<div>\n",
              "<style scoped>\n",
              "    .dataframe tbody tr th:only-of-type {\n",
              "        vertical-align: middle;\n",
              "    }\n",
              "\n",
              "    .dataframe tbody tr th {\n",
              "        vertical-align: top;\n",
              "    }\n",
              "\n",
              "    .dataframe thead th {\n",
              "        text-align: right;\n",
              "    }\n",
              "</style>\n",
              "<table border=\"1\" class=\"dataframe\">\n",
              "  <thead>\n",
              "    <tr style=\"text-align: right;\">\n",
              "      <th></th>\n",
              "      <th>P(x|...)</th>\n",
              "      <th>C</th>\n",
              "      <th>H</th>\n",
              "    </tr>\n",
              "  </thead>\n",
              "  <tbody>\n",
              "    <tr>\n",
              "      <th>0</th>\n",
              "      <td>1</td>\n",
              "      <td>0.6407</td>\n",
              "      <td>0.0002</td>\n",
              "    </tr>\n",
              "    <tr>\n",
              "      <th>1</th>\n",
              "      <td>2</td>\n",
              "      <td>0.1481</td>\n",
              "      <td>0.5341</td>\n",
              "    </tr>\n",
              "    <tr>\n",
              "      <th>2</th>\n",
              "      <td>3</td>\n",
              "      <td>0.2122</td>\n",
              "      <td>0.4657</td>\n",
              "    </tr>\n",
              "  </tbody>\n",
              "</table>\n",
              "</div>"
            ],
            "text/plain": [
              "   P(x|...)       C       H\n",
              "0         1  0.6407  0.0002\n",
              "1         2  0.1481  0.5341\n",
              "2         3  0.2122  0.4657"
            ]
          },
          "metadata": {
            "tags": []
          }
        },
        {
          "output_type": "display_data",
          "data": {
            "text/plain": [
              "(10, 6)"
            ]
          },
          "metadata": {
            "tags": []
          }
        },
        {
          "output_type": "display_data",
          "data": {
            "text/html": [
              "<div>\n",
              "<style scoped>\n",
              "    .dataframe tbody tr th:only-of-type {\n",
              "        vertical-align: middle;\n",
              "    }\n",
              "\n",
              "    .dataframe tbody tr th {\n",
              "        vertical-align: top;\n",
              "    }\n",
              "\n",
              "    .dataframe thead th {\n",
              "        text-align: right;\n",
              "    }\n",
              "</style>\n",
              "<table border=\"1\" class=\"dataframe\">\n",
              "  <thead>\n",
              "    <tr style=\"text-align: right;\">\n",
              "      <th></th>\n",
              "      <th>SeqNumber</th>\n",
              "      <th>Obs1</th>\n",
              "      <th>Obs2</th>\n",
              "      <th>Obs3</th>\n",
              "      <th>Obs4</th>\n",
              "      <th>Obs5</th>\n",
              "    </tr>\n",
              "  </thead>\n",
              "  <tbody>\n",
              "    <tr>\n",
              "      <th>0</th>\n",
              "      <td>1</td>\n",
              "      <td>2</td>\n",
              "      <td>3</td>\n",
              "      <td>3</td>\n",
              "      <td>2</td>\n",
              "      <td>3</td>\n",
              "    </tr>\n",
              "    <tr>\n",
              "      <th>1</th>\n",
              "      <td>2</td>\n",
              "      <td>2</td>\n",
              "      <td>3</td>\n",
              "      <td>2</td>\n",
              "      <td>2</td>\n",
              "      <td>0</td>\n",
              "    </tr>\n",
              "    <tr>\n",
              "      <th>2</th>\n",
              "      <td>3</td>\n",
              "      <td>3</td>\n",
              "      <td>1</td>\n",
              "      <td>3</td>\n",
              "      <td>3</td>\n",
              "      <td>1</td>\n",
              "    </tr>\n",
              "    <tr>\n",
              "      <th>3</th>\n",
              "      <td>4</td>\n",
              "      <td>2</td>\n",
              "      <td>1</td>\n",
              "      <td>1</td>\n",
              "      <td>0</td>\n",
              "      <td>0</td>\n",
              "    </tr>\n",
              "    <tr>\n",
              "      <th>4</th>\n",
              "      <td>5</td>\n",
              "      <td>1</td>\n",
              "      <td>1</td>\n",
              "      <td>1</td>\n",
              "      <td>2</td>\n",
              "      <td>3</td>\n",
              "    </tr>\n",
              "  </tbody>\n",
              "</table>\n",
              "</div>"
            ],
            "text/plain": [
              "   SeqNumber  Obs1  Obs2  Obs3  Obs4  Obs5\n",
              "0          1     2     3     3     2     3\n",
              "1          2     2     3     2     2     0\n",
              "2          3     3     1     3     3     1\n",
              "3          4     2     1     1     0     0\n",
              "4          5     1     1     1     2     3"
            ]
          },
          "metadata": {
            "tags": []
          }
        },
        {
          "output_type": "display_data",
          "data": {
            "text/plain": [
              "(3, 4)"
            ]
          },
          "metadata": {
            "tags": []
          }
        },
        {
          "output_type": "display_data",
          "data": {
            "text/html": [
              "<div>\n",
              "<style scoped>\n",
              "    .dataframe tbody tr th:only-of-type {\n",
              "        vertical-align: middle;\n",
              "    }\n",
              "\n",
              "    .dataframe tbody tr th {\n",
              "        vertical-align: top;\n",
              "    }\n",
              "\n",
              "    .dataframe thead th {\n",
              "        text-align: right;\n",
              "    }\n",
              "</style>\n",
              "<table border=\"1\" class=\"dataframe\">\n",
              "  <thead>\n",
              "    <tr style=\"text-align: right;\">\n",
              "      <th></th>\n",
              "      <th>P(x|...)</th>\n",
              "      <th>C</th>\n",
              "      <th>H</th>\n",
              "      <th>START</th>\n",
              "    </tr>\n",
              "  </thead>\n",
              "  <tbody>\n",
              "    <tr>\n",
              "      <th>0</th>\n",
              "      <td>C</td>\n",
              "      <td>0.86</td>\n",
              "      <td>0.07</td>\n",
              "      <td>0.5</td>\n",
              "    </tr>\n",
              "    <tr>\n",
              "      <th>1</th>\n",
              "      <td>H</td>\n",
              "      <td>0.07</td>\n",
              "      <td>0.86</td>\n",
              "      <td>0.5</td>\n",
              "    </tr>\n",
              "    <tr>\n",
              "      <th>2</th>\n",
              "      <td>STOP</td>\n",
              "      <td>0.07</td>\n",
              "      <td>0.07</td>\n",
              "      <td>0.0</td>\n",
              "    </tr>\n",
              "  </tbody>\n",
              "</table>\n",
              "</div>"
            ],
            "text/plain": [
              "  P(x|...)     C     H  START\n",
              "0        C  0.86  0.07    0.5\n",
              "1        H  0.07  0.86    0.5\n",
              "2     STOP  0.07  0.07    0.0"
            ]
          },
          "metadata": {
            "tags": []
          }
        }
      ]
    },
    {
      "cell_type": "markdown",
      "metadata": {
        "id": "m6OR6vN9DATD",
        "colab_type": "text"
      },
      "source": [
        "**1.3**: Now, let's build up some strings for indexing the data sets."
      ]
    },
    {
      "cell_type": "code",
      "metadata": {
        "id": "eJUFSKYvDFgz",
        "colab_type": "code",
        "colab": {}
      },
      "source": [
        "COND_PROB_LABEL = \"P(x|...)\"\n",
        "HOT_LABEL = \"H\"\n",
        "COLD_LABEL = \"C\"\n",
        "START_LABEL = \"START\"\n",
        "SEQUENCE_NUM_LABEL = \"SeqNumber\"\n",
        "LENGTH_LABEL = \"length\""
      ],
      "execution_count": 0,
      "outputs": []
    },
    {
      "cell_type": "markdown",
      "metadata": {
        "id": "Fr1MU5_P0o42",
        "colab_type": "text"
      },
      "source": [
        "**1.4**: With our data loaded, we can begin to construct our M and C matrices—assuming the first sequence for now. "
      ]
    },
    {
      "cell_type": "code",
      "metadata": {
        "id": "YfbG4R740yPC",
        "colab_type": "code",
        "colab": {
          "base_uri": "https://localhost:8080/",
          "height": 168
        },
        "outputId": "632e25a9-ecd2-40bd-da44-72a2ea85f316"
      },
      "source": [
        "test_dataframe_copy = test_dataframe.copy()\n",
        "\n",
        "# Gets everything but seqnumber and adds column with sequence length\n",
        "cols = test_dataframe_copy.loc[:, test_dataframe_copy.columns != SEQUENCE_NUM_LABEL]  \n",
        "test_dataframe_copy[LENGTH_LABEL] = cols.astype(bool).sum(axis=1)  \n",
        "\n",
        "# Computes dimensions of m matrix\n",
        "m_height = test_dataframe_copy.loc[test_dataframe_copy[SEQUENCE_NUM_LABEL] == 1, LENGTH_LABEL].iloc[0]\n",
        "m_width = observation_dataframe.shape[1] - 1\n",
        "\n",
        "# Creates m and c matrix\n",
        "m = np.zeros(shape=(m_height, m_width))\n",
        "c = np.zeros(shape=(m_height - 1, m_width))\n",
        "\n",
        "display(m, c)"
      ],
      "execution_count": 89,
      "outputs": [
        {
          "output_type": "display_data",
          "data": {
            "text/plain": [
              "array([[0., 0.],\n",
              "       [0., 0.],\n",
              "       [0., 0.],\n",
              "       [0., 0.],\n",
              "       [0., 0.]])"
            ]
          },
          "metadata": {
            "tags": []
          }
        },
        {
          "output_type": "display_data",
          "data": {
            "text/plain": [
              "array([[0., 0.],\n",
              "       [0., 0.],\n",
              "       [0., 0.],\n",
              "       [0., 0.]])"
            ]
          },
          "metadata": {
            "tags": []
          }
        }
      ]
    },
    {
      "cell_type": "markdown",
      "metadata": {
        "id": "8Tb8uqRe4jrD",
        "colab_type": "text"
      },
      "source": [
        "**1.5**: At this point, we can initialize the first row of the m matrix using the following formula: M<sub>1, k</sub> = π<sub>k</sub>B<sub>k,y<sub>1</sub></sub>. Here, π represents the prior probabilities and B is the emission probability.\n",
        "\n",
        "We can get π from the START column of our transition matrix. Meanwhile, we can get B from a sequence in our test data and our observation data.  "
      ]
    },
    {
      "cell_type": "code",
      "metadata": {
        "id": "LXZoICSp8T1V",
        "colab_type": "code",
        "colab": {
          "base_uri": "https://localhost:8080/",
          "height": 134
        },
        "outputId": "84c8b8c1-d71f-4a86-d5ab-089e5e26a9e2"
      },
      "source": [
        "# Compute prior probabilities from transition matrix\n",
        "p_hot_given_start = transition_dataframe.loc[transition_dataframe[COND_PROB_LABEL] == HOT_LABEL, START_LABEL].iloc[0]\n",
        "p_cold_given_start = transition_dataframe.loc[transition_dataframe[COND_PROB_LABEL] == COLD_LABEL, START_LABEL].iloc[0]\n",
        "\n",
        "# Compute observation 1 from test data \n",
        "obs1 = test_dataframe_copy.loc[test_dataframe_copy[SEQUENCE_NUM_LABEL] == 1, cols.columns[0]].iloc[0]\n",
        "\n",
        "# Compute emission probability from observation 1\n",
        "p_obs_given_hot = observation_dataframe.loc[observation_dataframe[COND_PROB_LABEL] == obs1, HOT_LABEL].iloc[0]\n",
        "p_obs_given_cold = observation_dataframe.loc[observation_dataframe[COND_PROB_LABEL] == obs1, COLD_LABEL].iloc[0]\n",
        "\n",
        "# Compute initial probabilities\n",
        "m11 = p_cold_given_start * p_obs_given_cold\n",
        "m12 = p_hot_given_start * p_obs_given_hot\n",
        "\n",
        "display(\n",
        "    obs1,\n",
        "    p_hot_given_start,\n",
        "    p_cold_given_start,\n",
        "    p_obs_given_hot,\n",
        "    p_obs_given_cold,\n",
        "    m11,\n",
        "    m12\n",
        ")"
      ],
      "execution_count": 90,
      "outputs": [
        {
          "output_type": "display_data",
          "data": {
            "text/plain": [
              "2"
            ]
          },
          "metadata": {
            "tags": []
          }
        },
        {
          "output_type": "display_data",
          "data": {
            "text/plain": [
              "0.5"
            ]
          },
          "metadata": {
            "tags": []
          }
        },
        {
          "output_type": "display_data",
          "data": {
            "text/plain": [
              "0.5"
            ]
          },
          "metadata": {
            "tags": []
          }
        },
        {
          "output_type": "display_data",
          "data": {
            "text/plain": [
              "0.5341"
            ]
          },
          "metadata": {
            "tags": []
          }
        },
        {
          "output_type": "display_data",
          "data": {
            "text/plain": [
              "0.1481"
            ]
          },
          "metadata": {
            "tags": []
          }
        },
        {
          "output_type": "display_data",
          "data": {
            "text/plain": [
              "0.07405"
            ]
          },
          "metadata": {
            "tags": []
          }
        },
        {
          "output_type": "display_data",
          "data": {
            "text/plain": [
              "0.26705"
            ]
          },
          "metadata": {
            "tags": []
          }
        }
      ]
    },
    {
      "cell_type": "markdown",
      "metadata": {
        "id": "RlcS489gGFvc",
        "colab_type": "text"
      },
      "source": [
        "**1.6**: Let's find a way to turn this initialization step into a function."
      ]
    },
    {
      "cell_type": "code",
      "metadata": {
        "id": "7-kNyMo8GKWC",
        "colab_type": "code",
        "colab": {}
      },
      "source": [
        "def init_matrices(test, observation, transition, sequence):\n",
        "  test_copy = test.copy()\n",
        "\n",
        "  # Gets everything but seqnumber and adds column with sequence length\n",
        "  COLS = test_copy.loc[:, test_copy.columns != SEQUENCE_NUM_LABEL]  \n",
        "  test_copy[LENGTH_LABEL] = COLS.astype(bool).sum(axis=1)  \n",
        "\n",
        "  # Computes dimensions of m matrix\n",
        "  M_HEIGHT = test_copy.loc[test_copy[SEQUENCE_NUM_LABEL] == sequence, LENGTH_LABEL].iloc[0]\n",
        "  M_WIDTH = observation.shape[1] - 1\n",
        "\n",
        "  # Creates m and c matrix\n",
        "  m = np.zeros(shape=(M_HEIGHT, M_WIDTH))\n",
        "  c = np.zeros(shape=(M_HEIGHT - 1, M_WIDTH))\n",
        "\n",
        "  # Compute prior probabilities from transition matrix\n",
        "  P_COLD_GIVEN_START = transition.loc[transition[COND_PROB_LABEL] == COLD_LABEL, START_LABEL].iloc[0]\n",
        "  P_HOT_GIVEN_START = transition.loc[transition[COND_PROB_LABEL] == HOT_LABEL, START_LABEL].iloc[0]\n",
        "\n",
        "  # Compute observation 1 from test data \n",
        "  OBS1 = test_copy.loc[test_copy[SEQUENCE_NUM_LABEL] == sequence, COLS.columns[0]].iloc[0]\n",
        "\n",
        "  # Compute emission probability from observation 1\n",
        "  P_OBS1_GIVEN_COLD = observation.loc[observation[COND_PROB_LABEL] == OBS1, COLD_LABEL].iloc[0]\n",
        "  P_OBS1_GIVEN_HOT = observation.loc[observation[COND_PROB_LABEL] == OBS1, HOT_LABEL].iloc[0]\n",
        "\n",
        "  # Compute initial probabilities\n",
        "  M11 = P_COLD_GIVEN_START * P_OBS1_GIVEN_COLD\n",
        "  M12 = P_HOT_GIVEN_START * P_OBS1_GIVEN_HOT\n",
        "\n",
        "  m[0, 0] = M11\n",
        "  m[0, 1] = M12\n",
        "\n",
        "  return m, c"
      ],
      "execution_count": 0,
      "outputs": []
    },
    {
      "cell_type": "code",
      "metadata": {
        "id": "IkPEvwuqJeXi",
        "colab_type": "code",
        "colab": {
          "base_uri": "https://localhost:8080/",
          "height": 168
        },
        "outputId": "966269fe-45b1-4a43-e939-2c676e0906a5"
      },
      "source": [
        "m, c = init_matrices(test_dataframe, observation_dataframe, transition_dataframe, 1)\n",
        "display(m, c)"
      ],
      "execution_count": 92,
      "outputs": [
        {
          "output_type": "display_data",
          "data": {
            "text/plain": [
              "array([[0.07405, 0.26705],\n",
              "       [0.     , 0.     ],\n",
              "       [0.     , 0.     ],\n",
              "       [0.     , 0.     ],\n",
              "       [0.     , 0.     ]])"
            ]
          },
          "metadata": {
            "tags": []
          }
        },
        {
          "output_type": "display_data",
          "data": {
            "text/plain": [
              "array([[0., 0.],\n",
              "       [0., 0.],\n",
              "       [0., 0.],\n",
              "       [0., 0.]])"
            ]
          },
          "metadata": {
            "tags": []
          }
        }
      ]
    },
    {
      "cell_type": "markdown",
      "metadata": {
        "id": "JJlSjJEYwmlC",
        "colab_type": "text"
      },
      "source": [
        "## Part 2: Likelihood Sampling\n",
        "\n"
      ]
    },
    {
      "cell_type": "markdown",
      "metadata": {
        "id": "NqlENA24wyPj",
        "colab_type": "text"
      },
      "source": [
        "Using the same network, implement likelihood sampling for approximate inference.  For any test sequence, sample complete sequences of the hidden states n times, where n can range from 10 to 100000 samples. The goal is to approximate the likelihood of all possible sequences.\n",
        "\n",
        "Assuming the Viterbi sequence is \"correct\", how long (how many samples) does it take the sampler to converge so that you get the highest match between samples and the Viterbi sequence?\n",
        "\n",
        "How do I sample a sequence?  In essence, pick a length (3, 4, or 5) - pick the same lengths as each test sample.  Then, sample each weather-day (Hot/Cold) according to the distribution given by the transition network.  You will need to sample Day 1 before sampling Day 2, for example.  You will then have a complete sample of sequence length 3/4/5).  The weight of that sequence sample will be the product of the observation probabilities given the sample (why?).  You can then judge by the overall weight which the most likely weather sequence would be.  Does the best string match your Viterbi answer?\n",
        "\n",
        "Note: Technically, in the original problem there is the probability of sampling STOP given either HOT or COLD.  For this section of the homework, please just remove the STOP probability and renormalize the other two probabilities so that they sum to one."
      ]
    }
  ]
}