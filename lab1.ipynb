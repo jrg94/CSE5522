{
  "nbformat": 4,
  "nbformat_minor": 0,
  "metadata": {
    "colab": {
      "name": "lab1.ipynb",
      "provenance": [],
      "collapsed_sections": [
        "nBTflHYgB7w1",
        "3pRGMU8MLZ6C",
        "dlps9uqvLrPy",
        "zOawgH6ZLy2m"
      ],
      "authorship_tag": "ABX9TyOY83oxTnw4ijgn9KjnRS2Y",
      "include_colab_link": true
    },
    "kernelspec": {
      "name": "python3",
      "display_name": "Python 3"
    }
  },
  "cells": [
    {
      "cell_type": "markdown",
      "metadata": {
        "id": "view-in-github",
        "colab_type": "text"
      },
      "source": [
        "<a href=\"https://colab.research.google.com/github/jrg94/CSE5522/blob/lab1/lab1.ipynb\" target=\"_parent\"><img src=\"https://colab.research.google.com/assets/colab-badge.svg\" alt=\"Open In Colab\"/></a>"
      ]
    },
    {
      "cell_type": "markdown",
      "metadata": {
        "id": "Xb0irARgr4LN",
        "colab_type": "text"
      },
      "source": [
        "# CSE 5522 - Lab 1\n",
        "By Jeremy Grifski"
      ]
    },
    {
      "cell_type": "markdown",
      "metadata": {
        "id": "EmwA66pPsK-L",
        "colab_type": "text"
      },
      "source": [
        "In this lab, we'll be taking a look at two different types of regressions: linear and logistic. In this first part, we'll be looking at linear regressions on gene expression. Meanwhile, in the second part, we'll be looking at logistic regressions on basketball players. "
      ]
    },
    {
      "cell_type": "markdown",
      "metadata": {
        "id": "nBTflHYgB7w1",
        "colab_type": "text"
      },
      "source": [
        "## Part 1 - Linear Regression for Gene Expression Prediction"
      ]
    },
    {
      "cell_type": "markdown",
      "metadata": {
        "id": "2qbbweuQCRTb",
        "colab_type": "text"
      },
      "source": [
        "In this portion of the lab, we were asked to run a linear regression over 21 features of micro RNA to predict mRNA. In a later portion of this section, we were also asked to bump up the number of overall features to include dummie variables for tissue types."
      ]
    },
    {
      "cell_type": "markdown",
      "metadata": {
        "id": "npLvY9zmkZ7R",
        "colab_type": "text"
      },
      "source": [
        "**1.0**: Set up the environment. "
      ]
    },
    {
      "cell_type": "code",
      "metadata": {
        "id": "MRicJTZFkNKj",
        "colab_type": "code",
        "colab": {}
      },
      "source": [
        "import matplotlib.pyplot as plt\n",
        "import pandas as pd\n",
        "import numpy as np"
      ],
      "execution_count": 0,
      "outputs": []
    },
    {
      "cell_type": "markdown",
      "metadata": {
        "id": "a-MaOhV5UUvD",
        "colab_type": "text"
      },
      "source": [
        "**1.1** Read the data from GitHub into a pandas dataframe. "
      ]
    },
    {
      "cell_type": "code",
      "metadata": {
        "id": "Udx-lpGDk-aB",
        "colab_type": "code",
        "colab": {}
      },
      "source": [
        "micro_rna_data_url = 'https://raw.githubusercontent.com/efosler/cse5522data/master/miRScore-x.csv'\n",
        "micro_rna_dataframe = pd.read_csv(micro_rna_data_url, index_col=0) # Removes the index column\n",
        "mrna_well_data_url = 'https://raw.githubusercontent.com/efosler/cse5522data/master/mRNA-y-well-explained.csv'\n",
        "mrna_well_dataframe = pd.read_csv(mrna_well_data_url, index_col=0, header=None, skiprows=1).T\n",
        "mrna_poor_data_url = 'https://raw.githubusercontent.com/efosler/cse5522data/master/mRNA-y-poor-explained.csv'\n",
        "mrna_poor_dataframe = pd.read_csv(mrna_poor_data_url, index_col=0, header=None, skiprows=1).T\n",
        "tissue_types_data_url = 'https://raw.githubusercontent.com/efosler/cse5522data/master/cancerType-x-Categorical.csv'\n",
        "tissue_types_dataframe = pd.read_csv(tissue_types_data_url, index_col=0)"
      ],
      "execution_count": 0,
      "outputs": []
    },
    {
      "cell_type": "markdown",
      "metadata": {
        "id": "Rvgt0PYLVHYr",
        "colab_type": "text"
      },
      "source": [
        "**1.2** Print out the top of the dataframe to make sure that the data loaded correctly."
      ]
    },
    {
      "cell_type": "code",
      "metadata": {
        "id": "ScERznWSVBK3",
        "colab_type": "code",
        "outputId": "8b2f0e79-1a56-4993-b368-8a8b2c257ddf",
        "colab": {
          "base_uri": "https://localhost:8080/",
          "height": 0
        }
      },
      "source": [
        "micro_rna_dataframe.head()"
      ],
      "execution_count": 4,
      "outputs": [
        {
          "output_type": "execute_result",
          "data": {
            "text/html": [
              "<div>\n",
              "<style scoped>\n",
              "    .dataframe tbody tr th:only-of-type {\n",
              "        vertical-align: middle;\n",
              "    }\n",
              "\n",
              "    .dataframe tbody tr th {\n",
              "        vertical-align: top;\n",
              "    }\n",
              "\n",
              "    .dataframe thead th {\n",
              "        text-align: right;\n",
              "    }\n",
              "</style>\n",
              "<table border=\"1\" class=\"dataframe\">\n",
              "  <thead>\n",
              "    <tr style=\"text-align: right;\">\n",
              "      <th></th>\n",
              "      <th>MIRC1</th>\n",
              "      <th>MIRC2</th>\n",
              "      <th>MIRC3</th>\n",
              "      <th>MIRC4</th>\n",
              "      <th>MIRC5</th>\n",
              "      <th>MIRC6</th>\n",
              "      <th>MIRC7</th>\n",
              "      <th>MIRC8</th>\n",
              "      <th>MIRC9</th>\n",
              "      <th>MIRC10</th>\n",
              "      <th>MIRC11</th>\n",
              "      <th>MIRC12</th>\n",
              "      <th>MIRC13</th>\n",
              "      <th>MIRC14</th>\n",
              "      <th>MIRC15</th>\n",
              "      <th>MIRC16</th>\n",
              "      <th>MIRC17</th>\n",
              "      <th>MIRC18</th>\n",
              "      <th>MIRC19</th>\n",
              "      <th>MIRC20</th>\n",
              "      <th>MIRC21</th>\n",
              "    </tr>\n",
              "  </thead>\n",
              "  <tbody>\n",
              "    <tr>\n",
              "      <th>1</th>\n",
              "      <td>5.453767</td>\n",
              "      <td>4.383828</td>\n",
              "      <td>3.216983</td>\n",
              "      <td>3.428224</td>\n",
              "      <td>7.308519</td>\n",
              "      <td>5.509137</td>\n",
              "      <td>5.515894</td>\n",
              "      <td>3.371819</td>\n",
              "      <td>6.036913</td>\n",
              "      <td>2.876100</td>\n",
              "      <td>8.064057</td>\n",
              "      <td>3.388470</td>\n",
              "      <td>3.931960</td>\n",
              "      <td>6.401138</td>\n",
              "      <td>6.571827</td>\n",
              "      <td>3.785073</td>\n",
              "      <td>5.201207</td>\n",
              "      <td>2.575824</td>\n",
              "      <td>3.977328</td>\n",
              "      <td>5.501027</td>\n",
              "      <td>4.756962</td>\n",
              "    </tr>\n",
              "    <tr>\n",
              "      <th>2</th>\n",
              "      <td>4.321988</td>\n",
              "      <td>3.986583</td>\n",
              "      <td>3.829885</td>\n",
              "      <td>4.502739</td>\n",
              "      <td>1.685509</td>\n",
              "      <td>5.206405</td>\n",
              "      <td>6.445237</td>\n",
              "      <td>3.465323</td>\n",
              "      <td>6.618933</td>\n",
              "      <td>2.851471</td>\n",
              "      <td>7.730359</td>\n",
              "      <td>2.738890</td>\n",
              "      <td>3.567882</td>\n",
              "      <td>4.360902</td>\n",
              "      <td>6.082557</td>\n",
              "      <td>3.343985</td>\n",
              "      <td>6.303041</td>\n",
              "      <td>3.140004</td>\n",
              "      <td>4.199990</td>\n",
              "      <td>5.224254</td>\n",
              "      <td>4.429511</td>\n",
              "    </tr>\n",
              "    <tr>\n",
              "      <th>3</th>\n",
              "      <td>4.089116</td>\n",
              "      <td>4.178590</td>\n",
              "      <td>3.393789</td>\n",
              "      <td>3.582799</td>\n",
              "      <td>8.103207</td>\n",
              "      <td>4.997112</td>\n",
              "      <td>5.359251</td>\n",
              "      <td>3.681484</td>\n",
              "      <td>6.373393</td>\n",
              "      <td>2.851890</td>\n",
              "      <td>8.934644</td>\n",
              "      <td>2.892689</td>\n",
              "      <td>3.132659</td>\n",
              "      <td>6.555559</td>\n",
              "      <td>6.559177</td>\n",
              "      <td>3.469511</td>\n",
              "      <td>5.373332</td>\n",
              "      <td>4.424949</td>\n",
              "      <td>3.138479</td>\n",
              "      <td>5.682007</td>\n",
              "      <td>4.403253</td>\n",
              "    </tr>\n",
              "    <tr>\n",
              "      <th>4</th>\n",
              "      <td>4.884692</td>\n",
              "      <td>4.061140</td>\n",
              "      <td>3.475111</td>\n",
              "      <td>4.017083</td>\n",
              "      <td>8.005837</td>\n",
              "      <td>5.491073</td>\n",
              "      <td>5.014364</td>\n",
              "      <td>4.300977</td>\n",
              "      <td>6.017040</td>\n",
              "      <td>2.834699</td>\n",
              "      <td>8.646215</td>\n",
              "      <td>3.163199</td>\n",
              "      <td>3.531044</td>\n",
              "      <td>6.908134</td>\n",
              "      <td>6.624755</td>\n",
              "      <td>3.833247</td>\n",
              "      <td>5.495557</td>\n",
              "      <td>4.954630</td>\n",
              "      <td>4.542415</td>\n",
              "      <td>5.469924</td>\n",
              "      <td>4.693171</td>\n",
              "    </tr>\n",
              "    <tr>\n",
              "      <th>5</th>\n",
              "      <td>4.053976</td>\n",
              "      <td>4.224208</td>\n",
              "      <td>3.801616</td>\n",
              "      <td>3.329253</td>\n",
              "      <td>9.208897</td>\n",
              "      <td>5.518924</td>\n",
              "      <td>5.534329</td>\n",
              "      <td>2.391842</td>\n",
              "      <td>6.183707</td>\n",
              "      <td>3.029387</td>\n",
              "      <td>7.351146</td>\n",
              "      <td>2.873874</td>\n",
              "      <td>3.305899</td>\n",
              "      <td>6.917566</td>\n",
              "      <td>6.138030</td>\n",
              "      <td>3.250404</td>\n",
              "      <td>5.502236</td>\n",
              "      <td>4.572714</td>\n",
              "      <td>2.677879</td>\n",
              "      <td>5.577007</td>\n",
              "      <td>4.290140</td>\n",
              "    </tr>\n",
              "  </tbody>\n",
              "</table>\n",
              "</div>"
            ],
            "text/plain": [
              "      MIRC1     MIRC2     MIRC3  ...    MIRC19    MIRC20    MIRC21\n",
              "1  5.453767  4.383828  3.216983  ...  3.977328  5.501027  4.756962\n",
              "2  4.321988  3.986583  3.829885  ...  4.199990  5.224254  4.429511\n",
              "3  4.089116  4.178590  3.393789  ...  3.138479  5.682007  4.403253\n",
              "4  4.884692  4.061140  3.475111  ...  4.542415  5.469924  4.693171\n",
              "5  4.053976  4.224208  3.801616  ...  2.677879  5.577007  4.290140\n",
              "\n",
              "[5 rows x 21 columns]"
            ]
          },
          "metadata": {
            "tags": []
          },
          "execution_count": 4
        }
      ]
    },
    {
      "cell_type": "code",
      "metadata": {
        "id": "tsbVjvq6t0LM",
        "colab_type": "code",
        "outputId": "6a6bb08e-cd01-46d9-c29c-5fdd19bf2089",
        "colab": {
          "base_uri": "https://localhost:8080/",
          "height": 0
        }
      },
      "source": [
        "mrna_well_dataframe.head()"
      ],
      "execution_count": 5,
      "outputs": [
        {
          "output_type": "execute_result",
          "data": {
            "text/html": [
              "<div>\n",
              "<style scoped>\n",
              "    .dataframe tbody tr th:only-of-type {\n",
              "        vertical-align: middle;\n",
              "    }\n",
              "\n",
              "    .dataframe tbody tr th {\n",
              "        vertical-align: top;\n",
              "    }\n",
              "\n",
              "    .dataframe thead th {\n",
              "        text-align: right;\n",
              "    }\n",
              "</style>\n",
              "<table border=\"1\" class=\"dataframe\">\n",
              "  <thead>\n",
              "    <tr style=\"text-align: right;\">\n",
              "      <th></th>\n",
              "      <th>SNORD88B</th>\n",
              "      <th>GRHL2</th>\n",
              "      <th>C1orf172</th>\n",
              "      <th>RAB25</th>\n",
              "      <th>ANKS4B</th>\n",
              "      <th>HNF4A</th>\n",
              "      <th>AP1M2</th>\n",
              "      <th>PKP3</th>\n",
              "      <th>STMN4</th>\n",
              "      <th>ESRP1</th>\n",
              "      <th>CDHR5</th>\n",
              "      <th>MEG3</th>\n",
              "      <th>PRSS8</th>\n",
              "      <th>OVOL2</th>\n",
              "      <th>SPINT1</th>\n",
              "      <th>TM4SF5</th>\n",
              "      <th>ELAVL3</th>\n",
              "      <th>FAM123A</th>\n",
              "      <th>ZDHHC22</th>\n",
              "      <th>MMD2</th>\n",
              "      <th>SH2D3A</th>\n",
              "      <th>C21orf131</th>\n",
              "      <th>NCAN</th>\n",
              "      <th>CRB3</th>\n",
              "      <th>CLDN4</th>\n",
              "      <th>CACNG7</th>\n",
              "      <th>C1orf210</th>\n",
              "      <th>KCNJ9</th>\n",
              "      <th>CLDN7</th>\n",
              "      <th>ATCAY</th>\n",
              "      <th>C2orf80</th>\n",
              "      <th>ATP6V1G2</th>\n",
              "      <th>ST14</th>\n",
              "      <th>SHISA7</th>\n",
              "      <th>ELF3</th>\n",
              "    </tr>\n",
              "  </thead>\n",
              "  <tbody>\n",
              "    <tr>\n",
              "      <th>1</th>\n",
              "      <td>3.321928</td>\n",
              "      <td>3.389608</td>\n",
              "      <td>5.822470</td>\n",
              "      <td>3.389608</td>\n",
              "      <td>3.321928</td>\n",
              "      <td>3.321928</td>\n",
              "      <td>4.820266</td>\n",
              "      <td>3.321928</td>\n",
              "      <td>3.516129</td>\n",
              "      <td>4.744742</td>\n",
              "      <td>11.026446</td>\n",
              "      <td>13.639151</td>\n",
              "      <td>3.454255</td>\n",
              "      <td>3.454255</td>\n",
              "      <td>6.383480</td>\n",
              "      <td>3.321928</td>\n",
              "      <td>3.791033</td>\n",
              "      <td>3.389608</td>\n",
              "      <td>3.516129</td>\n",
              "      <td>3.887827</td>\n",
              "      <td>3.575458</td>\n",
              "      <td>3.321928</td>\n",
              "      <td>3.389608</td>\n",
              "      <td>3.933894</td>\n",
              "      <td>5.313939</td>\n",
              "      <td>3.321928</td>\n",
              "      <td>3.321928</td>\n",
              "      <td>3.321928</td>\n",
              "      <td>5.398508</td>\n",
              "      <td>3.840242</td>\n",
              "      <td>3.321928</td>\n",
              "      <td>5.547879</td>\n",
              "      <td>6.207130</td>\n",
              "      <td>3.454255</td>\n",
              "      <td>3.575458</td>\n",
              "    </tr>\n",
              "    <tr>\n",
              "      <th>2</th>\n",
              "      <td>3.321928</td>\n",
              "      <td>3.586549</td>\n",
              "      <td>3.586549</td>\n",
              "      <td>3.486444</td>\n",
              "      <td>3.321928</td>\n",
              "      <td>4.813443</td>\n",
              "      <td>3.634105</td>\n",
              "      <td>3.634105</td>\n",
              "      <td>3.433667</td>\n",
              "      <td>3.724759</td>\n",
              "      <td>11.313428</td>\n",
              "      <td>4.108299</td>\n",
              "      <td>9.012650</td>\n",
              "      <td>3.321928</td>\n",
              "      <td>7.532506</td>\n",
              "      <td>3.321928</td>\n",
              "      <td>3.378872</td>\n",
              "      <td>3.378872</td>\n",
              "      <td>3.433667</td>\n",
              "      <td>4.541440</td>\n",
              "      <td>5.285010</td>\n",
              "      <td>3.321928</td>\n",
              "      <td>3.486444</td>\n",
              "      <td>4.074223</td>\n",
              "      <td>6.461239</td>\n",
              "      <td>3.586549</td>\n",
              "      <td>3.321928</td>\n",
              "      <td>3.433667</td>\n",
              "      <td>5.254900</td>\n",
              "      <td>3.586549</td>\n",
              "      <td>3.321928</td>\n",
              "      <td>4.237097</td>\n",
              "      <td>6.810804</td>\n",
              "      <td>3.586549</td>\n",
              "      <td>4.003557</td>\n",
              "    </tr>\n",
              "    <tr>\n",
              "      <th>3</th>\n",
              "      <td>3.321928</td>\n",
              "      <td>3.938521</td>\n",
              "      <td>3.993221</td>\n",
              "      <td>3.321928</td>\n",
              "      <td>3.321928</td>\n",
              "      <td>3.938521</td>\n",
              "      <td>3.404971</td>\n",
              "      <td>3.557961</td>\n",
              "      <td>3.483493</td>\n",
              "      <td>3.557961</td>\n",
              "      <td>3.483493</td>\n",
              "      <td>13.089396</td>\n",
              "      <td>4.369124</td>\n",
              "      <td>3.404971</td>\n",
              "      <td>4.239367</td>\n",
              "      <td>3.321928</td>\n",
              "      <td>4.193385</td>\n",
              "      <td>3.321928</td>\n",
              "      <td>3.760753</td>\n",
              "      <td>3.938521</td>\n",
              "      <td>5.172736</td>\n",
              "      <td>3.321928</td>\n",
              "      <td>3.483493</td>\n",
              "      <td>3.760753</td>\n",
              "      <td>9.293219</td>\n",
              "      <td>3.404971</td>\n",
              "      <td>3.404971</td>\n",
              "      <td>3.483493</td>\n",
              "      <td>4.856000</td>\n",
              "      <td>3.557961</td>\n",
              "      <td>3.321928</td>\n",
              "      <td>5.635110</td>\n",
              "      <td>5.812894</td>\n",
              "      <td>3.938521</td>\n",
              "      <td>4.369124</td>\n",
              "    </tr>\n",
              "    <tr>\n",
              "      <th>4</th>\n",
              "      <td>3.321928</td>\n",
              "      <td>3.794208</td>\n",
              "      <td>4.985892</td>\n",
              "      <td>3.321928</td>\n",
              "      <td>3.623375</td>\n",
              "      <td>3.711319</td>\n",
              "      <td>3.529721</td>\n",
              "      <td>3.946937</td>\n",
              "      <td>3.872592</td>\n",
              "      <td>5.695660</td>\n",
              "      <td>3.623375</td>\n",
              "      <td>15.672826</td>\n",
              "      <td>3.794208</td>\n",
              "      <td>3.711319</td>\n",
              "      <td>6.619172</td>\n",
              "      <td>3.321928</td>\n",
              "      <td>6.810524</td>\n",
              "      <td>3.429562</td>\n",
              "      <td>5.436545</td>\n",
              "      <td>6.056265</td>\n",
              "      <td>6.970559</td>\n",
              "      <td>3.321928</td>\n",
              "      <td>4.381581</td>\n",
              "      <td>3.711319</td>\n",
              "      <td>5.717062</td>\n",
              "      <td>5.511952</td>\n",
              "      <td>3.429562</td>\n",
              "      <td>3.429562</td>\n",
              "      <td>5.462121</td>\n",
              "      <td>5.969756</td>\n",
              "      <td>3.321928</td>\n",
              "      <td>6.450540</td>\n",
              "      <td>6.537319</td>\n",
              "      <td>4.534068</td>\n",
              "      <td>5.511952</td>\n",
              "    </tr>\n",
              "    <tr>\n",
              "      <th>5</th>\n",
              "      <td>3.321928</td>\n",
              "      <td>3.321928</td>\n",
              "      <td>11.037026</td>\n",
              "      <td>3.400388</td>\n",
              "      <td>3.400388</td>\n",
              "      <td>6.225495</td>\n",
              "      <td>3.400388</td>\n",
              "      <td>3.321928</td>\n",
              "      <td>3.400388</td>\n",
              "      <td>3.321928</td>\n",
              "      <td>7.825508</td>\n",
              "      <td>14.555980</td>\n",
              "      <td>5.900582</td>\n",
              "      <td>3.321928</td>\n",
              "      <td>7.980390</td>\n",
              "      <td>3.321928</td>\n",
              "      <td>4.939118</td>\n",
              "      <td>3.321928</td>\n",
              "      <td>3.400388</td>\n",
              "      <td>4.912592</td>\n",
              "      <td>5.266850</td>\n",
              "      <td>3.321928</td>\n",
              "      <td>3.739103</td>\n",
              "      <td>6.159351</td>\n",
              "      <td>4.200292</td>\n",
              "      <td>3.321928</td>\n",
              "      <td>3.321928</td>\n",
              "      <td>3.321928</td>\n",
              "      <td>5.568135</td>\n",
              "      <td>3.321928</td>\n",
              "      <td>3.321928</td>\n",
              "      <td>3.677429</td>\n",
              "      <td>6.029603</td>\n",
              "      <td>3.321928</td>\n",
              "      <td>3.545548</td>\n",
              "    </tr>\n",
              "  </tbody>\n",
              "</table>\n",
              "</div>"
            ],
            "text/plain": [
              "0  SNORD88B     GRHL2   C1orf172  ...      ST14    SHISA7      ELF3\n",
              "1  3.321928  3.389608   5.822470  ...  6.207130  3.454255  3.575458\n",
              "2  3.321928  3.586549   3.586549  ...  6.810804  3.586549  4.003557\n",
              "3  3.321928  3.938521   3.993221  ...  5.812894  3.938521  4.369124\n",
              "4  3.321928  3.794208   4.985892  ...  6.537319  4.534068  5.511952\n",
              "5  3.321928  3.321928  11.037026  ...  6.029603  3.321928  3.545548\n",
              "\n",
              "[5 rows x 35 columns]"
            ]
          },
          "metadata": {
            "tags": []
          },
          "execution_count": 5
        }
      ]
    },
    {
      "cell_type": "code",
      "metadata": {
        "id": "_XUcYWjDt9Nk",
        "colab_type": "code",
        "outputId": "e31d28ce-2dba-4e99-9802-cda2dea71911",
        "colab": {
          "base_uri": "https://localhost:8080/",
          "height": 0
        }
      },
      "source": [
        "mrna_poor_dataframe.head()"
      ],
      "execution_count": 6,
      "outputs": [
        {
          "output_type": "execute_result",
          "data": {
            "text/html": [
              "<div>\n",
              "<style scoped>\n",
              "    .dataframe tbody tr th:only-of-type {\n",
              "        vertical-align: middle;\n",
              "    }\n",
              "\n",
              "    .dataframe tbody tr th {\n",
              "        vertical-align: top;\n",
              "    }\n",
              "\n",
              "    .dataframe thead th {\n",
              "        text-align: right;\n",
              "    }\n",
              "</style>\n",
              "<table border=\"1\" class=\"dataframe\">\n",
              "  <thead>\n",
              "    <tr style=\"text-align: right;\">\n",
              "      <th></th>\n",
              "      <th>NOBOX</th>\n",
              "      <th>SCGB1D4</th>\n",
              "      <th>RPL9</th>\n",
              "      <th>SPATA8</th>\n",
              "      <th>C2orf78</th>\n",
              "      <th>FAM138B</th>\n",
              "      <th>LCE3C</th>\n",
              "      <th>POU5F2</th>\n",
              "      <th>OR2D3</th>\n",
              "      <th>PABPC1P2</th>\n",
              "      <th>CATSPER4</th>\n",
              "      <th>FTHL17</th>\n",
              "      <th>OR5K1</th>\n",
              "      <th>SNORA3</th>\n",
              "      <th>IL13</th>\n",
              "      <th>C10orf122</th>\n",
              "      <th>SULT1C3</th>\n",
              "      <th>KRT38</th>\n",
              "      <th>TMPRSS12</th>\n",
              "      <th>C4orf11</th>\n",
              "    </tr>\n",
              "  </thead>\n",
              "  <tbody>\n",
              "    <tr>\n",
              "      <th>1</th>\n",
              "      <td>3.321928</td>\n",
              "      <td>3.321928</td>\n",
              "      <td>7.556077</td>\n",
              "      <td>3.321928</td>\n",
              "      <td>3.321928</td>\n",
              "      <td>3.321928</td>\n",
              "      <td>3.321928</td>\n",
              "      <td>3.389608</td>\n",
              "      <td>3.321928</td>\n",
              "      <td>3.321928</td>\n",
              "      <td>3.321928</td>\n",
              "      <td>3.321928</td>\n",
              "      <td>3.321928</td>\n",
              "      <td>3.321928</td>\n",
              "      <td>3.321928</td>\n",
              "      <td>3.321928</td>\n",
              "      <td>3.321928</td>\n",
              "      <td>3.321928</td>\n",
              "      <td>3.321928</td>\n",
              "      <td>3.321928</td>\n",
              "    </tr>\n",
              "    <tr>\n",
              "      <th>2</th>\n",
              "      <td>3.321928</td>\n",
              "      <td>3.321928</td>\n",
              "      <td>8.111351</td>\n",
              "      <td>3.321928</td>\n",
              "      <td>3.321928</td>\n",
              "      <td>3.321928</td>\n",
              "      <td>3.321928</td>\n",
              "      <td>3.321928</td>\n",
              "      <td>3.321928</td>\n",
              "      <td>3.321928</td>\n",
              "      <td>3.321928</td>\n",
              "      <td>3.321928</td>\n",
              "      <td>3.321928</td>\n",
              "      <td>3.321928</td>\n",
              "      <td>3.586549</td>\n",
              "      <td>3.321928</td>\n",
              "      <td>3.321928</td>\n",
              "      <td>3.321928</td>\n",
              "      <td>3.321928</td>\n",
              "      <td>3.321928</td>\n",
              "    </tr>\n",
              "    <tr>\n",
              "      <th>3</th>\n",
              "      <td>3.321928</td>\n",
              "      <td>3.321928</td>\n",
              "      <td>8.297134</td>\n",
              "      <td>3.321928</td>\n",
              "      <td>3.321928</td>\n",
              "      <td>3.321928</td>\n",
              "      <td>3.321928</td>\n",
              "      <td>3.321928</td>\n",
              "      <td>3.321928</td>\n",
              "      <td>3.404971</td>\n",
              "      <td>3.404971</td>\n",
              "      <td>3.321928</td>\n",
              "      <td>3.321928</td>\n",
              "      <td>3.321928</td>\n",
              "      <td>3.993221</td>\n",
              "      <td>3.321928</td>\n",
              "      <td>3.321928</td>\n",
              "      <td>3.321928</td>\n",
              "      <td>3.321928</td>\n",
              "      <td>3.321928</td>\n",
              "    </tr>\n",
              "    <tr>\n",
              "      <th>4</th>\n",
              "      <td>3.321928</td>\n",
              "      <td>3.321928</td>\n",
              "      <td>8.482979</td>\n",
              "      <td>3.321928</td>\n",
              "      <td>3.529721</td>\n",
              "      <td>3.321928</td>\n",
              "      <td>3.321928</td>\n",
              "      <td>3.429562</td>\n",
              "      <td>3.321928</td>\n",
              "      <td>3.321928</td>\n",
              "      <td>3.321928</td>\n",
              "      <td>3.321928</td>\n",
              "      <td>3.321928</td>\n",
              "      <td>3.321928</td>\n",
              "      <td>6.718019</td>\n",
              "      <td>3.321928</td>\n",
              "      <td>3.321928</td>\n",
              "      <td>3.321928</td>\n",
              "      <td>3.321928</td>\n",
              "      <td>3.321928</td>\n",
              "    </tr>\n",
              "    <tr>\n",
              "      <th>5</th>\n",
              "      <td>3.321928</td>\n",
              "      <td>3.321928</td>\n",
              "      <td>11.794430</td>\n",
              "      <td>3.400388</td>\n",
              "      <td>3.321928</td>\n",
              "      <td>3.321928</td>\n",
              "      <td>3.321928</td>\n",
              "      <td>3.400388</td>\n",
              "      <td>3.321928</td>\n",
              "      <td>3.400388</td>\n",
              "      <td>3.321928</td>\n",
              "      <td>3.321928</td>\n",
              "      <td>3.321928</td>\n",
              "      <td>3.321928</td>\n",
              "      <td>3.321928</td>\n",
              "      <td>3.321928</td>\n",
              "      <td>3.321928</td>\n",
              "      <td>3.321928</td>\n",
              "      <td>3.321928</td>\n",
              "      <td>3.321928</td>\n",
              "    </tr>\n",
              "  </tbody>\n",
              "</table>\n",
              "</div>"
            ],
            "text/plain": [
              "0     NOBOX   SCGB1D4       RPL9  ...     KRT38  TMPRSS12   C4orf11\n",
              "1  3.321928  3.321928   7.556077  ...  3.321928  3.321928  3.321928\n",
              "2  3.321928  3.321928   8.111351  ...  3.321928  3.321928  3.321928\n",
              "3  3.321928  3.321928   8.297134  ...  3.321928  3.321928  3.321928\n",
              "4  3.321928  3.321928   8.482979  ...  3.321928  3.321928  3.321928\n",
              "5  3.321928  3.321928  11.794430  ...  3.321928  3.321928  3.321928\n",
              "\n",
              "[5 rows x 20 columns]"
            ]
          },
          "metadata": {
            "tags": []
          },
          "execution_count": 6
        }
      ]
    },
    {
      "cell_type": "code",
      "metadata": {
        "id": "QZXDcejmuQ96",
        "colab_type": "code",
        "outputId": "e5413e8e-73d3-4abf-83ff-9be1b822dca8",
        "colab": {
          "base_uri": "https://localhost:8080/",
          "height": 0
        }
      },
      "source": [
        "tissue_types_dataframe.head()"
      ],
      "execution_count": 7,
      "outputs": [
        {
          "output_type": "execute_result",
          "data": {
            "text/html": [
              "<div>\n",
              "<style scoped>\n",
              "    .dataframe tbody tr th:only-of-type {\n",
              "        vertical-align: middle;\n",
              "    }\n",
              "\n",
              "    .dataframe tbody tr th {\n",
              "        vertical-align: top;\n",
              "    }\n",
              "\n",
              "    .dataframe thead th {\n",
              "        text-align: right;\n",
              "    }\n",
              "</style>\n",
              "<table border=\"1\" class=\"dataframe\">\n",
              "  <thead>\n",
              "    <tr style=\"text-align: right;\">\n",
              "      <th></th>\n",
              "      <th>cancerType</th>\n",
              "    </tr>\n",
              "  </thead>\n",
              "  <tbody>\n",
              "    <tr>\n",
              "      <th>1</th>\n",
              "      <td>ACC</td>\n",
              "    </tr>\n",
              "    <tr>\n",
              "      <th>2</th>\n",
              "      <td>ACC</td>\n",
              "    </tr>\n",
              "    <tr>\n",
              "      <th>3</th>\n",
              "      <td>ACC</td>\n",
              "    </tr>\n",
              "    <tr>\n",
              "      <th>4</th>\n",
              "      <td>ACC</td>\n",
              "    </tr>\n",
              "    <tr>\n",
              "      <th>5</th>\n",
              "      <td>ACC</td>\n",
              "    </tr>\n",
              "  </tbody>\n",
              "</table>\n",
              "</div>"
            ],
            "text/plain": [
              "  cancerType\n",
              "1        ACC\n",
              "2        ACC\n",
              "3        ACC\n",
              "4        ACC\n",
              "5        ACC"
            ]
          },
          "metadata": {
            "tags": []
          },
          "execution_count": 7
        }
      ]
    },
    {
      "cell_type": "markdown",
      "metadata": {
        "id": "bKeRF2EHpvkU",
        "colab_type": "text"
      },
      "source": [
        "**1.3** Explore data shape"
      ]
    },
    {
      "cell_type": "code",
      "metadata": {
        "id": "dt6msv1rp0qj",
        "colab_type": "code",
        "outputId": "c3b8f5ed-d3db-4caa-a0e2-551e3d346efd",
        "colab": {
          "base_uri": "https://localhost:8080/",
          "height": 0
        }
      },
      "source": [
        "micro_rna_dataframe.shape"
      ],
      "execution_count": 8,
      "outputs": [
        {
          "output_type": "execute_result",
          "data": {
            "text/plain": [
              "(8895, 21)"
            ]
          },
          "metadata": {
            "tags": []
          },
          "execution_count": 8
        }
      ]
    },
    {
      "cell_type": "code",
      "metadata": {
        "id": "--LRn-CSqC2b",
        "colab_type": "code",
        "outputId": "9910750a-512b-4f3d-dacf-43b6aeb071fe",
        "colab": {
          "base_uri": "https://localhost:8080/",
          "height": 0
        }
      },
      "source": [
        "mrna_well_dataframe.shape"
      ],
      "execution_count": 9,
      "outputs": [
        {
          "output_type": "execute_result",
          "data": {
            "text/plain": [
              "(8895, 35)"
            ]
          },
          "metadata": {
            "tags": []
          },
          "execution_count": 9
        }
      ]
    },
    {
      "cell_type": "code",
      "metadata": {
        "id": "eHB8MGn2qF5q",
        "colab_type": "code",
        "outputId": "90605524-b67c-4039-e7c4-bc40a5cf677f",
        "colab": {
          "base_uri": "https://localhost:8080/",
          "height": 0
        }
      },
      "source": [
        "mrna_poor_dataframe.shape"
      ],
      "execution_count": 10,
      "outputs": [
        {
          "output_type": "execute_result",
          "data": {
            "text/plain": [
              "(8895, 20)"
            ]
          },
          "metadata": {
            "tags": []
          },
          "execution_count": 10
        }
      ]
    },
    {
      "cell_type": "code",
      "metadata": {
        "id": "181GH0KvqJ-S",
        "colab_type": "code",
        "outputId": "b44a7b34-9297-453c-f908-cb35c1cbb8d8",
        "colab": {
          "base_uri": "https://localhost:8080/",
          "height": 0
        }
      },
      "source": [
        "tissue_types_dataframe.shape"
      ],
      "execution_count": 11,
      "outputs": [
        {
          "output_type": "execute_result",
          "data": {
            "text/plain": [
              "(8895, 1)"
            ]
          },
          "metadata": {
            "tags": []
          },
          "execution_count": 11
        }
      ]
    },
    {
      "cell_type": "markdown",
      "metadata": {
        "id": "ZkY2kP_tqiVq",
        "colab_type": "text"
      },
      "source": [
        "**1.4** Explore data description"
      ]
    },
    {
      "cell_type": "code",
      "metadata": {
        "id": "xrSMf5mLqndL",
        "colab_type": "code",
        "outputId": "07e5b900-ac04-4f1b-e633-de4b1a7beff1",
        "colab": {
          "base_uri": "https://localhost:8080/",
          "height": 0
        }
      },
      "source": [
        "micro_rna_dataframe.describe()"
      ],
      "execution_count": 12,
      "outputs": [
        {
          "output_type": "execute_result",
          "data": {
            "text/html": [
              "<div>\n",
              "<style scoped>\n",
              "    .dataframe tbody tr th:only-of-type {\n",
              "        vertical-align: middle;\n",
              "    }\n",
              "\n",
              "    .dataframe tbody tr th {\n",
              "        vertical-align: top;\n",
              "    }\n",
              "\n",
              "    .dataframe thead th {\n",
              "        text-align: right;\n",
              "    }\n",
              "</style>\n",
              "<table border=\"1\" class=\"dataframe\">\n",
              "  <thead>\n",
              "    <tr style=\"text-align: right;\">\n",
              "      <th></th>\n",
              "      <th>MIRC1</th>\n",
              "      <th>MIRC2</th>\n",
              "      <th>MIRC3</th>\n",
              "      <th>MIRC4</th>\n",
              "      <th>MIRC5</th>\n",
              "      <th>MIRC6</th>\n",
              "      <th>MIRC7</th>\n",
              "      <th>MIRC8</th>\n",
              "      <th>MIRC9</th>\n",
              "      <th>MIRC10</th>\n",
              "      <th>MIRC11</th>\n",
              "      <th>MIRC12</th>\n",
              "      <th>MIRC13</th>\n",
              "      <th>MIRC14</th>\n",
              "      <th>MIRC15</th>\n",
              "      <th>MIRC16</th>\n",
              "      <th>MIRC17</th>\n",
              "      <th>MIRC18</th>\n",
              "      <th>MIRC19</th>\n",
              "      <th>MIRC20</th>\n",
              "      <th>MIRC21</th>\n",
              "    </tr>\n",
              "  </thead>\n",
              "  <tbody>\n",
              "    <tr>\n",
              "      <th>count</th>\n",
              "      <td>8895.000000</td>\n",
              "      <td>8895.000000</td>\n",
              "      <td>8895.000000</td>\n",
              "      <td>8895.000000</td>\n",
              "      <td>8895.000000</td>\n",
              "      <td>8895.000000</td>\n",
              "      <td>8895.000000</td>\n",
              "      <td>8895.000000</td>\n",
              "      <td>8895.000000</td>\n",
              "      <td>8895.000000</td>\n",
              "      <td>8895.000000</td>\n",
              "      <td>8895.000000</td>\n",
              "      <td>8895.000000</td>\n",
              "      <td>8895.000000</td>\n",
              "      <td>8895.000000</td>\n",
              "      <td>8895.000000</td>\n",
              "      <td>8895.000000</td>\n",
              "      <td>8895.000000</td>\n",
              "      <td>8895.000000</td>\n",
              "      <td>8895.000000</td>\n",
              "      <td>8895.000000</td>\n",
              "    </tr>\n",
              "    <tr>\n",
              "      <th>mean</th>\n",
              "      <td>4.129920</td>\n",
              "      <td>4.765170</td>\n",
              "      <td>5.057100</td>\n",
              "      <td>4.097146</td>\n",
              "      <td>2.846338</td>\n",
              "      <td>4.797431</td>\n",
              "      <td>5.383079</td>\n",
              "      <td>3.425811</td>\n",
              "      <td>4.792121</td>\n",
              "      <td>3.453612</td>\n",
              "      <td>7.859492</td>\n",
              "      <td>2.851375</td>\n",
              "      <td>3.649230</td>\n",
              "      <td>4.651203</td>\n",
              "      <td>4.903554</td>\n",
              "      <td>4.026922</td>\n",
              "      <td>6.893040</td>\n",
              "      <td>5.199461</td>\n",
              "      <td>7.382938</td>\n",
              "      <td>5.445934</td>\n",
              "      <td>4.740501</td>\n",
              "    </tr>\n",
              "    <tr>\n",
              "      <th>std</th>\n",
              "      <td>1.099592</td>\n",
              "      <td>0.828207</td>\n",
              "      <td>0.987020</td>\n",
              "      <td>0.835212</td>\n",
              "      <td>1.521580</td>\n",
              "      <td>0.799616</td>\n",
              "      <td>0.874974</td>\n",
              "      <td>0.875548</td>\n",
              "      <td>0.977154</td>\n",
              "      <td>0.773364</td>\n",
              "      <td>0.882516</td>\n",
              "      <td>0.617543</td>\n",
              "      <td>0.837230</td>\n",
              "      <td>1.257902</td>\n",
              "      <td>0.913718</td>\n",
              "      <td>0.711169</td>\n",
              "      <td>1.036150</td>\n",
              "      <td>2.423279</td>\n",
              "      <td>2.677375</td>\n",
              "      <td>0.824836</td>\n",
              "      <td>0.775925</td>\n",
              "    </tr>\n",
              "    <tr>\n",
              "      <th>min</th>\n",
              "      <td>0.668085</td>\n",
              "      <td>1.305794</td>\n",
              "      <td>2.193773</td>\n",
              "      <td>0.728425</td>\n",
              "      <td>0.073645</td>\n",
              "      <td>2.380204</td>\n",
              "      <td>2.716960</td>\n",
              "      <td>1.086365</td>\n",
              "      <td>0.879080</td>\n",
              "      <td>1.117544</td>\n",
              "      <td>4.459917</td>\n",
              "      <td>0.899994</td>\n",
              "      <td>0.435114</td>\n",
              "      <td>0.672520</td>\n",
              "      <td>2.212343</td>\n",
              "      <td>1.447088</td>\n",
              "      <td>2.643597</td>\n",
              "      <td>1.193575</td>\n",
              "      <td>0.530771</td>\n",
              "      <td>1.428634</td>\n",
              "      <td>2.218998</td>\n",
              "    </tr>\n",
              "    <tr>\n",
              "      <th>25%</th>\n",
              "      <td>3.390396</td>\n",
              "      <td>4.331190</td>\n",
              "      <td>4.376916</td>\n",
              "      <td>3.567006</td>\n",
              "      <td>1.926821</td>\n",
              "      <td>4.272392</td>\n",
              "      <td>4.758908</td>\n",
              "      <td>2.866235</td>\n",
              "      <td>4.276781</td>\n",
              "      <td>2.910465</td>\n",
              "      <td>7.288990</td>\n",
              "      <td>2.447650</td>\n",
              "      <td>3.222392</td>\n",
              "      <td>3.737002</td>\n",
              "      <td>4.303779</td>\n",
              "      <td>3.517319</td>\n",
              "      <td>6.447339</td>\n",
              "      <td>3.579986</td>\n",
              "      <td>5.268867</td>\n",
              "      <td>5.119781</td>\n",
              "      <td>4.247824</td>\n",
              "    </tr>\n",
              "    <tr>\n",
              "      <th>50%</th>\n",
              "      <td>4.139365</td>\n",
              "      <td>4.829788</td>\n",
              "      <td>5.103757</td>\n",
              "      <td>4.090588</td>\n",
              "      <td>2.623955</td>\n",
              "      <td>4.695558</td>\n",
              "      <td>5.374751</td>\n",
              "      <td>3.242166</td>\n",
              "      <td>4.791324</td>\n",
              "      <td>3.379283</td>\n",
              "      <td>7.801186</td>\n",
              "      <td>2.822985</td>\n",
              "      <td>3.677365</td>\n",
              "      <td>4.569216</td>\n",
              "      <td>4.744346</td>\n",
              "      <td>3.947587</td>\n",
              "      <td>7.133301</td>\n",
              "      <td>4.226871</td>\n",
              "      <td>8.475008</td>\n",
              "      <td>5.482303</td>\n",
              "      <td>4.651004</td>\n",
              "    </tr>\n",
              "    <tr>\n",
              "      <th>75%</th>\n",
              "      <td>4.913180</td>\n",
              "      <td>5.327773</td>\n",
              "      <td>5.694544</td>\n",
              "      <td>4.596960</td>\n",
              "      <td>3.370140</td>\n",
              "      <td>5.217066</td>\n",
              "      <td>5.983875</td>\n",
              "      <td>3.750545</td>\n",
              "      <td>5.426297</td>\n",
              "      <td>3.904954</td>\n",
              "      <td>8.343808</td>\n",
              "      <td>3.220396</td>\n",
              "      <td>4.154977</td>\n",
              "      <td>5.542658</td>\n",
              "      <td>5.277193</td>\n",
              "      <td>4.510465</td>\n",
              "      <td>7.590129</td>\n",
              "      <td>5.691993</td>\n",
              "      <td>9.415745</td>\n",
              "      <td>5.900317</td>\n",
              "      <td>5.122929</td>\n",
              "    </tr>\n",
              "    <tr>\n",
              "      <th>max</th>\n",
              "      <td>7.923561</td>\n",
              "      <td>6.974327</td>\n",
              "      <td>8.134850</td>\n",
              "      <td>7.393546</td>\n",
              "      <td>9.563560</td>\n",
              "      <td>8.406599</td>\n",
              "      <td>8.029896</td>\n",
              "      <td>7.569143</td>\n",
              "      <td>8.414998</td>\n",
              "      <td>6.977404</td>\n",
              "      <td>11.898551</td>\n",
              "      <td>5.590978</td>\n",
              "      <td>6.459934</td>\n",
              "      <td>10.067625</td>\n",
              "      <td>8.956072</td>\n",
              "      <td>6.734989</td>\n",
              "      <td>9.154822</td>\n",
              "      <td>12.814622</td>\n",
              "      <td>12.092160</td>\n",
              "      <td>7.651443</td>\n",
              "      <td>7.945005</td>\n",
              "    </tr>\n",
              "  </tbody>\n",
              "</table>\n",
              "</div>"
            ],
            "text/plain": [
              "             MIRC1        MIRC2  ...       MIRC20       MIRC21\n",
              "count  8895.000000  8895.000000  ...  8895.000000  8895.000000\n",
              "mean      4.129920     4.765170  ...     5.445934     4.740501\n",
              "std       1.099592     0.828207  ...     0.824836     0.775925\n",
              "min       0.668085     1.305794  ...     1.428634     2.218998\n",
              "25%       3.390396     4.331190  ...     5.119781     4.247824\n",
              "50%       4.139365     4.829788  ...     5.482303     4.651004\n",
              "75%       4.913180     5.327773  ...     5.900317     5.122929\n",
              "max       7.923561     6.974327  ...     7.651443     7.945005\n",
              "\n",
              "[8 rows x 21 columns]"
            ]
          },
          "metadata": {
            "tags": []
          },
          "execution_count": 12
        }
      ]
    },
    {
      "cell_type": "code",
      "metadata": {
        "id": "THy6IBjT4Miu",
        "colab_type": "code",
        "outputId": "255d2670-598f-46c3-d1c4-b18c59a2e0fb",
        "colab": {
          "base_uri": "https://localhost:8080/",
          "height": 0
        }
      },
      "source": [
        "mrna_well_dataframe.describe()"
      ],
      "execution_count": 13,
      "outputs": [
        {
          "output_type": "execute_result",
          "data": {
            "text/html": [
              "<div>\n",
              "<style scoped>\n",
              "    .dataframe tbody tr th:only-of-type {\n",
              "        vertical-align: middle;\n",
              "    }\n",
              "\n",
              "    .dataframe tbody tr th {\n",
              "        vertical-align: top;\n",
              "    }\n",
              "\n",
              "    .dataframe thead th {\n",
              "        text-align: right;\n",
              "    }\n",
              "</style>\n",
              "<table border=\"1\" class=\"dataframe\">\n",
              "  <thead>\n",
              "    <tr style=\"text-align: right;\">\n",
              "      <th></th>\n",
              "      <th>SNORD88B</th>\n",
              "      <th>GRHL2</th>\n",
              "      <th>C1orf172</th>\n",
              "      <th>RAB25</th>\n",
              "      <th>ANKS4B</th>\n",
              "      <th>HNF4A</th>\n",
              "      <th>AP1M2</th>\n",
              "      <th>PKP3</th>\n",
              "      <th>STMN4</th>\n",
              "      <th>ESRP1</th>\n",
              "      <th>CDHR5</th>\n",
              "      <th>MEG3</th>\n",
              "      <th>PRSS8</th>\n",
              "      <th>OVOL2</th>\n",
              "      <th>SPINT1</th>\n",
              "      <th>TM4SF5</th>\n",
              "      <th>ELAVL3</th>\n",
              "      <th>FAM123A</th>\n",
              "      <th>ZDHHC22</th>\n",
              "      <th>MMD2</th>\n",
              "      <th>SH2D3A</th>\n",
              "      <th>C21orf131</th>\n",
              "      <th>NCAN</th>\n",
              "      <th>CRB3</th>\n",
              "      <th>CLDN4</th>\n",
              "      <th>CACNG7</th>\n",
              "      <th>C1orf210</th>\n",
              "      <th>KCNJ9</th>\n",
              "      <th>CLDN7</th>\n",
              "      <th>ATCAY</th>\n",
              "      <th>C2orf80</th>\n",
              "      <th>ATP6V1G2</th>\n",
              "      <th>ST14</th>\n",
              "      <th>SHISA7</th>\n",
              "      <th>ELF3</th>\n",
              "    </tr>\n",
              "  </thead>\n",
              "  <tbody>\n",
              "    <tr>\n",
              "      <th>count</th>\n",
              "      <td>8.895000e+03</td>\n",
              "      <td>8895.000000</td>\n",
              "      <td>8895.000000</td>\n",
              "      <td>8895.000000</td>\n",
              "      <td>8895.000000</td>\n",
              "      <td>8895.000000</td>\n",
              "      <td>8895.000000</td>\n",
              "      <td>8895.000000</td>\n",
              "      <td>8895.000000</td>\n",
              "      <td>8895.000000</td>\n",
              "      <td>8895.000000</td>\n",
              "      <td>8895.000000</td>\n",
              "      <td>8895.000000</td>\n",
              "      <td>8895.000000</td>\n",
              "      <td>8895.000000</td>\n",
              "      <td>8895.000000</td>\n",
              "      <td>8895.000000</td>\n",
              "      <td>8895.000000</td>\n",
              "      <td>8895.000000</td>\n",
              "      <td>8895.000000</td>\n",
              "      <td>8895.000000</td>\n",
              "      <td>8895.000000</td>\n",
              "      <td>8895.000000</td>\n",
              "      <td>8895.000000</td>\n",
              "      <td>8895.000000</td>\n",
              "      <td>8895.000000</td>\n",
              "      <td>8895.000000</td>\n",
              "      <td>8895.000000</td>\n",
              "      <td>8895.000000</td>\n",
              "      <td>8895.000000</td>\n",
              "      <td>8895.000000</td>\n",
              "      <td>8895.000000</td>\n",
              "      <td>8895.000000</td>\n",
              "      <td>8895.000000</td>\n",
              "      <td>8895.000000</td>\n",
              "    </tr>\n",
              "    <tr>\n",
              "      <th>mean</th>\n",
              "      <td>3.321928e+00</td>\n",
              "      <td>8.155817</td>\n",
              "      <td>7.593661</td>\n",
              "      <td>8.785721</td>\n",
              "      <td>4.627285</td>\n",
              "      <td>5.378231</td>\n",
              "      <td>8.976169</td>\n",
              "      <td>8.860184</td>\n",
              "      <td>4.044450</td>\n",
              "      <td>9.361552</td>\n",
              "      <td>5.359268</td>\n",
              "      <td>6.365150</td>\n",
              "      <td>9.773930</td>\n",
              "      <td>6.348790</td>\n",
              "      <td>10.782612</td>\n",
              "      <td>4.534172</td>\n",
              "      <td>4.239040</td>\n",
              "      <td>3.894851</td>\n",
              "      <td>4.056129</td>\n",
              "      <td>3.704895</td>\n",
              "      <td>7.709817</td>\n",
              "      <td>3.585181</td>\n",
              "      <td>4.240817</td>\n",
              "      <td>7.642334</td>\n",
              "      <td>10.707382</td>\n",
              "      <td>3.914341</td>\n",
              "      <td>7.076422</td>\n",
              "      <td>3.824674</td>\n",
              "      <td>9.725093</td>\n",
              "      <td>4.468322</td>\n",
              "      <td>3.601279</td>\n",
              "      <td>5.252473</td>\n",
              "      <td>11.016779</td>\n",
              "      <td>4.015498</td>\n",
              "      <td>10.302955</td>\n",
              "    </tr>\n",
              "    <tr>\n",
              "      <th>std</th>\n",
              "      <td>3.286445e-13</td>\n",
              "      <td>3.178686</td>\n",
              "      <td>2.162151</td>\n",
              "      <td>3.414385</td>\n",
              "      <td>2.251971</td>\n",
              "      <td>3.201652</td>\n",
              "      <td>3.026656</td>\n",
              "      <td>3.212414</td>\n",
              "      <td>1.939588</td>\n",
              "      <td>3.152476</td>\n",
              "      <td>3.170327</td>\n",
              "      <td>2.448115</td>\n",
              "      <td>3.333205</td>\n",
              "      <td>2.019891</td>\n",
              "      <td>2.696889</td>\n",
              "      <td>2.391540</td>\n",
              "      <td>2.039951</td>\n",
              "      <td>1.627266</td>\n",
              "      <td>1.935259</td>\n",
              "      <td>1.385978</td>\n",
              "      <td>2.042799</td>\n",
              "      <td>1.061898</td>\n",
              "      <td>2.478874</td>\n",
              "      <td>2.121472</td>\n",
              "      <td>3.465986</td>\n",
              "      <td>1.798836</td>\n",
              "      <td>2.144705</td>\n",
              "      <td>1.398936</td>\n",
              "      <td>2.856072</td>\n",
              "      <td>2.449587</td>\n",
              "      <td>1.044203</td>\n",
              "      <td>1.856013</td>\n",
              "      <td>2.539577</td>\n",
              "      <td>1.584956</td>\n",
              "      <td>3.407289</td>\n",
              "    </tr>\n",
              "    <tr>\n",
              "      <th>min</th>\n",
              "      <td>3.321928e+00</td>\n",
              "      <td>3.321928</td>\n",
              "      <td>3.321928</td>\n",
              "      <td>3.321928</td>\n",
              "      <td>3.321928</td>\n",
              "      <td>3.321928</td>\n",
              "      <td>3.321928</td>\n",
              "      <td>3.321928</td>\n",
              "      <td>3.321928</td>\n",
              "      <td>3.321928</td>\n",
              "      <td>3.321928</td>\n",
              "      <td>3.321928</td>\n",
              "      <td>3.321928</td>\n",
              "      <td>3.321928</td>\n",
              "      <td>3.321928</td>\n",
              "      <td>3.321928</td>\n",
              "      <td>3.321928</td>\n",
              "      <td>3.321928</td>\n",
              "      <td>3.321928</td>\n",
              "      <td>3.321928</td>\n",
              "      <td>3.321928</td>\n",
              "      <td>3.321928</td>\n",
              "      <td>3.321928</td>\n",
              "      <td>3.321928</td>\n",
              "      <td>3.321928</td>\n",
              "      <td>3.321928</td>\n",
              "      <td>3.321928</td>\n",
              "      <td>3.321928</td>\n",
              "      <td>3.321928</td>\n",
              "      <td>3.321928</td>\n",
              "      <td>3.321928</td>\n",
              "      <td>3.321928</td>\n",
              "      <td>3.456596</td>\n",
              "      <td>3.321928</td>\n",
              "      <td>3.321928</td>\n",
              "    </tr>\n",
              "    <tr>\n",
              "      <th>25%</th>\n",
              "      <td>3.321928e+00</td>\n",
              "      <td>3.827169</td>\n",
              "      <td>6.568491</td>\n",
              "      <td>4.138856</td>\n",
              "      <td>3.321928</td>\n",
              "      <td>3.321928</td>\n",
              "      <td>7.390474</td>\n",
              "      <td>5.492842</td>\n",
              "      <td>3.321928</td>\n",
              "      <td>7.868540</td>\n",
              "      <td>3.420213</td>\n",
              "      <td>4.570809</td>\n",
              "      <td>8.432295</td>\n",
              "      <td>3.791871</td>\n",
              "      <td>10.121418</td>\n",
              "      <td>3.321928</td>\n",
              "      <td>3.321928</td>\n",
              "      <td>3.321928</td>\n",
              "      <td>3.321928</td>\n",
              "      <td>3.321928</td>\n",
              "      <td>6.649594</td>\n",
              "      <td>3.321928</td>\n",
              "      <td>3.321928</td>\n",
              "      <td>7.091705</td>\n",
              "      <td>8.336141</td>\n",
              "      <td>3.321928</td>\n",
              "      <td>5.705131</td>\n",
              "      <td>3.321928</td>\n",
              "      <td>8.154926</td>\n",
              "      <td>3.321928</td>\n",
              "      <td>3.321928</td>\n",
              "      <td>4.087904</td>\n",
              "      <td>9.768306</td>\n",
              "      <td>3.380293</td>\n",
              "      <td>8.762381</td>\n",
              "    </tr>\n",
              "    <tr>\n",
              "      <th>50%</th>\n",
              "      <td>3.321928e+00</td>\n",
              "      <td>9.721445</td>\n",
              "      <td>8.584962</td>\n",
              "      <td>10.578029</td>\n",
              "      <td>3.380397</td>\n",
              "      <td>3.487615</td>\n",
              "      <td>10.362406</td>\n",
              "      <td>10.032601</td>\n",
              "      <td>3.382280</td>\n",
              "      <td>10.825702</td>\n",
              "      <td>3.616934</td>\n",
              "      <td>5.775633</td>\n",
              "      <td>11.172563</td>\n",
              "      <td>7.065259</td>\n",
              "      <td>11.868456</td>\n",
              "      <td>3.321928</td>\n",
              "      <td>3.434668</td>\n",
              "      <td>3.321928</td>\n",
              "      <td>3.398610</td>\n",
              "      <td>3.321928</td>\n",
              "      <td>8.352049</td>\n",
              "      <td>3.321928</td>\n",
              "      <td>3.445316</td>\n",
              "      <td>8.492150</td>\n",
              "      <td>12.129232</td>\n",
              "      <td>3.321928</td>\n",
              "      <td>7.871400</td>\n",
              "      <td>3.399144</td>\n",
              "      <td>10.862832</td>\n",
              "      <td>3.401125</td>\n",
              "      <td>3.321928</td>\n",
              "      <td>4.682478</td>\n",
              "      <td>11.992357</td>\n",
              "      <td>3.487332</td>\n",
              "      <td>11.465436</td>\n",
              "    </tr>\n",
              "    <tr>\n",
              "      <th>75%</th>\n",
              "      <td>3.321928e+00</td>\n",
              "      <td>10.602422</td>\n",
              "      <td>9.106035</td>\n",
              "      <td>11.346711</td>\n",
              "      <td>4.613274</td>\n",
              "      <td>6.889222</td>\n",
              "      <td>11.159029</td>\n",
              "      <td>11.314739</td>\n",
              "      <td>3.548504</td>\n",
              "      <td>11.592149</td>\n",
              "      <td>5.771523</td>\n",
              "      <td>7.415182</td>\n",
              "      <td>12.132662</td>\n",
              "      <td>7.976795</td>\n",
              "      <td>12.536744</td>\n",
              "      <td>3.958196</td>\n",
              "      <td>3.806989</td>\n",
              "      <td>3.466366</td>\n",
              "      <td>3.599824</td>\n",
              "      <td>3.321928</td>\n",
              "      <td>9.185166</td>\n",
              "      <td>3.321928</td>\n",
              "      <td>3.667188</td>\n",
              "      <td>9.067013</td>\n",
              "      <td>13.256996</td>\n",
              "      <td>3.391637</td>\n",
              "      <td>8.679830</td>\n",
              "      <td>3.539184</td>\n",
              "      <td>11.819972</td>\n",
              "      <td>3.889011</td>\n",
              "      <td>3.321928</td>\n",
              "      <td>5.645023</td>\n",
              "      <td>12.805950</td>\n",
              "      <td>3.726068</td>\n",
              "      <td>12.869153</td>\n",
              "    </tr>\n",
              "    <tr>\n",
              "      <th>max</th>\n",
              "      <td>3.321928e+00</td>\n",
              "      <td>13.214960</td>\n",
              "      <td>11.400681</td>\n",
              "      <td>13.952766</td>\n",
              "      <td>11.334583</td>\n",
              "      <td>14.143314</td>\n",
              "      <td>14.195280</td>\n",
              "      <td>15.187468</td>\n",
              "      <td>13.293996</td>\n",
              "      <td>13.750252</td>\n",
              "      <td>16.494252</td>\n",
              "      <td>16.003397</td>\n",
              "      <td>16.222350</td>\n",
              "      <td>10.315371</td>\n",
              "      <td>15.279120</td>\n",
              "      <td>15.933825</td>\n",
              "      <td>13.872720</td>\n",
              "      <td>11.958680</td>\n",
              "      <td>13.540386</td>\n",
              "      <td>11.930154</td>\n",
              "      <td>11.773909</td>\n",
              "      <td>10.807282</td>\n",
              "      <td>17.157491</td>\n",
              "      <td>11.553039</td>\n",
              "      <td>16.765540</td>\n",
              "      <td>11.635063</td>\n",
              "      <td>11.841375</td>\n",
              "      <td>11.694423</td>\n",
              "      <td>14.485464</td>\n",
              "      <td>14.530785</td>\n",
              "      <td>10.079880</td>\n",
              "      <td>13.195618</td>\n",
              "      <td>15.532057</td>\n",
              "      <td>11.369453</td>\n",
              "      <td>15.908748</td>\n",
              "    </tr>\n",
              "  </tbody>\n",
              "</table>\n",
              "</div>"
            ],
            "text/plain": [
              "0          SNORD88B        GRHL2  ...       SHISA7         ELF3\n",
              "count  8.895000e+03  8895.000000  ...  8895.000000  8895.000000\n",
              "mean   3.321928e+00     8.155817  ...     4.015498    10.302955\n",
              "std    3.286445e-13     3.178686  ...     1.584956     3.407289\n",
              "min    3.321928e+00     3.321928  ...     3.321928     3.321928\n",
              "25%    3.321928e+00     3.827169  ...     3.380293     8.762381\n",
              "50%    3.321928e+00     9.721445  ...     3.487332    11.465436\n",
              "75%    3.321928e+00    10.602422  ...     3.726068    12.869153\n",
              "max    3.321928e+00    13.214960  ...    11.369453    15.908748\n",
              "\n",
              "[8 rows x 35 columns]"
            ]
          },
          "metadata": {
            "tags": []
          },
          "execution_count": 13
        }
      ]
    },
    {
      "cell_type": "markdown",
      "metadata": {
        "id": "3pRGMU8MLZ6C",
        "colab_type": "text"
      },
      "source": [
        "### Subproblem 1 - Computer R<sup>2</sup> and RMSE Mean and Standard Deviation"
      ]
    },
    {
      "cell_type": "markdown",
      "metadata": {
        "id": "P2Um4yCF0ww9",
        "colab_type": "text"
      },
      "source": [
        "**1.5** Import linear regression library from scikit."
      ]
    },
    {
      "cell_type": "code",
      "metadata": {
        "id": "HUPvijNa09uM",
        "colab_type": "code",
        "colab": {}
      },
      "source": [
        "from sklearn.linear_model import LinearRegression\n",
        "from sklearn.model_selection import train_test_split \n",
        "from sklearn import metrics"
      ],
      "execution_count": 0,
      "outputs": []
    },
    {
      "cell_type": "markdown",
      "metadata": {
        "id": "Ep-D88hypQvU",
        "colab_type": "text"
      },
      "source": [
        "**1.6** Setup x (microRNA features) and y (mRNA targets) values for regression. *Proof of concept*: let's try a single target value for now (SNORD88B)."
      ]
    },
    {
      "cell_type": "code",
      "metadata": {
        "id": "DsUlNsQspXGa",
        "colab_type": "code",
        "outputId": "9f7c46b7-06bd-45f5-8609-c29eaf8822f6",
        "colab": {
          "base_uri": "https://localhost:8080/",
          "height": 0
        }
      },
      "source": [
        "x = micro_rna_dataframe.values\n",
        "print(f'Micro RNA Features:\\n {x}')\n",
        "y = mrna_well_dataframe[\"SNORD88B\"].values\n",
        "print(f'mRNA Target Value SNORD88B:\\n {y}')"
      ],
      "execution_count": 15,
      "outputs": [
        {
          "output_type": "stream",
          "text": [
            "Micro RNA Features:\n",
            " [[5.45376694 4.3838276  3.2169834  ... 3.97732759 5.50102704 4.75696249]\n",
            " [4.32198812 3.98658259 3.82988503 ... 4.19998992 5.22425381 4.42951072]\n",
            " [4.08911559 4.17859005 3.39378873 ... 3.1384791  5.68200738 4.40325252]\n",
            " ...\n",
            " [3.02645513 4.1710086  4.45773238 ... 2.69657029 4.73838707 5.70546468]\n",
            " [2.72775755 4.33952219 4.56746271 ... 3.01168894 5.60531597 5.87649015]\n",
            " [2.41979846 4.25275134 4.75874578 ... 2.74892305 5.13766053 6.12771056]]\n",
            "mRNA Target Value SNORD88B:\n",
            " [3.32192809 3.32192809 3.32192809 ... 3.32192809 3.32192809 3.32192809]\n"
          ],
          "name": "stdout"
        }
      ]
    },
    {
      "cell_type": "markdown",
      "metadata": {
        "id": "9FjsRSODwgCH",
        "colab_type": "text"
      },
      "source": [
        "**1.7** Split data 80/20 and run linear regression."
      ]
    },
    {
      "cell_type": "code",
      "metadata": {
        "id": "MpvHAl2AwmxV",
        "colab_type": "code",
        "outputId": "e8bcf8d9-be0d-424d-985f-5e0fcd4cd9a8",
        "colab": {
          "base_uri": "https://localhost:8080/",
          "height": 0
        }
      },
      "source": [
        "x_train, x_test, y_train, y_test = train_test_split(x, y, test_size=0.2)\n",
        "r = LinearRegression()  \n",
        "r.fit(x_train, y_train)\n",
        "y_prediction = r.predict(x_test)\n",
        "df = pd.DataFrame({'Actual': y_test, 'Predicted': y_prediction})\n",
        "df.head()"
      ],
      "execution_count": 16,
      "outputs": [
        {
          "output_type": "execute_result",
          "data": {
            "text/html": [
              "<div>\n",
              "<style scoped>\n",
              "    .dataframe tbody tr th:only-of-type {\n",
              "        vertical-align: middle;\n",
              "    }\n",
              "\n",
              "    .dataframe tbody tr th {\n",
              "        vertical-align: top;\n",
              "    }\n",
              "\n",
              "    .dataframe thead th {\n",
              "        text-align: right;\n",
              "    }\n",
              "</style>\n",
              "<table border=\"1\" class=\"dataframe\">\n",
              "  <thead>\n",
              "    <tr style=\"text-align: right;\">\n",
              "      <th></th>\n",
              "      <th>Actual</th>\n",
              "      <th>Predicted</th>\n",
              "    </tr>\n",
              "  </thead>\n",
              "  <tbody>\n",
              "    <tr>\n",
              "      <th>0</th>\n",
              "      <td>3.321928</td>\n",
              "      <td>3.321928</td>\n",
              "    </tr>\n",
              "    <tr>\n",
              "      <th>1</th>\n",
              "      <td>3.321928</td>\n",
              "      <td>3.321928</td>\n",
              "    </tr>\n",
              "    <tr>\n",
              "      <th>2</th>\n",
              "      <td>3.321928</td>\n",
              "      <td>3.321928</td>\n",
              "    </tr>\n",
              "    <tr>\n",
              "      <th>3</th>\n",
              "      <td>3.321928</td>\n",
              "      <td>3.321928</td>\n",
              "    </tr>\n",
              "    <tr>\n",
              "      <th>4</th>\n",
              "      <td>3.321928</td>\n",
              "      <td>3.321928</td>\n",
              "    </tr>\n",
              "  </tbody>\n",
              "</table>\n",
              "</div>"
            ],
            "text/plain": [
              "     Actual  Predicted\n",
              "0  3.321928   3.321928\n",
              "1  3.321928   3.321928\n",
              "2  3.321928   3.321928\n",
              "3  3.321928   3.321928\n",
              "4  3.321928   3.321928"
            ]
          },
          "metadata": {
            "tags": []
          },
          "execution_count": 16
        }
      ]
    },
    {
      "cell_type": "markdown",
      "metadata": {
        "id": "FmPegxCxgxTy",
        "colab_type": "text"
      },
      "source": [
        "**1.8** Let's take a look at some of the metrics. In particular, R<sup>2</sup> and RMSE."
      ]
    },
    {
      "cell_type": "code",
      "metadata": {
        "id": "udGf6Ypeg3BQ",
        "colab_type": "code",
        "outputId": "7269ce4d-66b6-4102-b657-a34973b0f661",
        "colab": {
          "base_uri": "https://localhost:8080/",
          "height": 0
        }
      },
      "source": [
        "rmse = np.sqrt(metrics.mean_squared_error(y_test, y_prediction))\n",
        "r2 = metrics.r2_score(y_test, y_prediction)\n",
        "print(f'RMSE: {rmse}; R2: {r2}') # Notice how error is essentially zero, so we have a perfect prediciton"
      ],
      "execution_count": 17,
      "outputs": [
        {
          "output_type": "stream",
          "text": [
            "RMSE: 0.0; R2: 1.0\n"
          ],
          "name": "stdout"
        }
      ]
    },
    {
      "cell_type": "markdown",
      "metadata": {
        "id": "r9qGpiFb4FEP",
        "colab_type": "text"
      },
      "source": [
        "**1.9** Turns out SNORD88B is extremely stable. In other words, it's fairly easy to predict regardless of which features we choose. Let's try creating an experiment for all target values.\n",
        "\n"
      ]
    },
    {
      "cell_type": "code",
      "metadata": {
        "id": "TKqmZeuKjCOz",
        "colab_type": "code",
        "colab": {}
      },
      "source": [
        "def experiment(features, targets):\n",
        "  rmse_list = []\n",
        "  r2_list = []\n",
        "  for _ in range(10):\n",
        "    y = targets.values\n",
        "    x_train, x_test, y_train, y_test = train_test_split(features, y, test_size=0.2)\n",
        "    r = LinearRegression()  \n",
        "    r.fit(x_train, y_train)\n",
        "    y_prediction = r.predict(x_test)\n",
        "    rmse = np.sqrt(metrics.mean_squared_error(y_test, y_prediction))\n",
        "    rmse_list.append(rmse)\n",
        "    r2 = metrics.r2_score(y_test, y_prediction)\n",
        "    r2_list.append(r2)\n",
        "  return {\n",
        "      \"rmse_avg\": np.average(rmse_list),\n",
        "      \"rmse_std\": np.std(rmse_list), \n",
        "      \"r2_avg\": np.average(r2_list),\n",
        "      \"r2_std\": np.std(r2_list)\n",
        "  }"
      ],
      "execution_count": 0,
      "outputs": []
    },
    {
      "cell_type": "code",
      "metadata": {
        "id": "_LaArQZBAPhX",
        "colab_type": "code",
        "colab": {}
      },
      "source": [
        "def compute_experiment_error(features, targets):\n",
        "  error_columns = {}\n",
        "  for column in targets:\n",
        "    error = experiment(features, targets[column])\n",
        "    error_columns[column] = error\n",
        "  return error_columns"
      ],
      "execution_count": 0,
      "outputs": []
    },
    {
      "cell_type": "markdown",
      "metadata": {
        "id": "JIVacT6djupL",
        "colab_type": "text"
      },
      "source": [
        "**1.10** Great! Now, we can quickly iterate over every column and report the average mean and rmse."
      ]
    },
    {
      "cell_type": "code",
      "metadata": {
        "id": "bmFmzqpp4kTJ",
        "colab_type": "code",
        "colab": {}
      },
      "source": [
        "well_error = compute_experiment_error(x, mrna_well_dataframe)\n",
        "poor_error = compute_experiment_error(x, mrna_poor_dataframe)"
      ],
      "execution_count": 0,
      "outputs": []
    },
    {
      "cell_type": "markdown",
      "metadata": {
        "id": "dlps9uqvLrPy",
        "colab_type": "text"
      },
      "source": [
        "### Subproblem 2 - Visualize Error"
      ]
    },
    {
      "cell_type": "markdown",
      "metadata": {
        "id": "1ZC_OL_3nXXB",
        "colab_type": "text"
      },
      "source": [
        "**1.11** Time to visualize the error between the two target sets."
      ]
    },
    {
      "cell_type": "code",
      "metadata": {
        "id": "_KkNZSpInf5Z",
        "colab_type": "code",
        "outputId": "c3eadfca-e20e-44d4-8586-d13ab8095a17",
        "colab": {
          "base_uri": "https://localhost:8080/",
          "height": 0
        }
      },
      "source": [
        "well_r2_dataframe = pd.DataFrame.from_dict(well_error).T[\"r2_avg\"]\n",
        "poor_r2_dataframe = pd.DataFrame.from_dict(poor_error).T[\"r2_avg\"]\n",
        "r2_dataframe = pd.DataFrame([well_r2_dataframe, poor_r2_dataframe]).T\n",
        "r2_dataframe.columns = [\"Well\", \"Poor\"]\n",
        "r2_dataframe.plot(kind='bar',figsize=(16,10))"
      ],
      "execution_count": 21,
      "outputs": [
        {
          "output_type": "execute_result",
          "data": {
            "text/plain": [
              "<matplotlib.axes._subplots.AxesSubplot at 0x7f888d457f28>"
            ]
          },
          "metadata": {
            "tags": []
          },
          "execution_count": 21
        },
        {
          "output_type": "display_data",
          "data": {
            "image/png": "[encoded data removed]",
            "text/plain": [
              "<Figure size 1152x720 with 1 Axes>"
            ]
          },
          "metadata": {
            "tags": []
          }
        }
      ]
    },
    {
      "cell_type": "markdown",
      "metadata": {
        "id": "ZZHVcwIDq62M",
        "colab_type": "text"
      },
      "source": [
        "Here, we can see that the R<sup>2</sup> value for the well expressed genes is much higher than the poorly expressed genes. In other words, the 21 features more clearly fit the well expressed genes on average. \n",
        "\n"
      ]
    },
    {
      "cell_type": "markdown",
      "metadata": {
        "id": "eKYo-Tgxs481",
        "colab_type": "text"
      },
      "source": [
        "**1.12** That said, I think we can get an even more convincing plot by computing the average of all R<sup>2</sup> values for each set."
      ]
    },
    {
      "cell_type": "code",
      "metadata": {
        "id": "IL_jzaVhtFEk",
        "colab_type": "code",
        "outputId": "32966eb9-9741-4e55-f8f4-c946e176b84c",
        "colab": {
          "base_uri": "https://localhost:8080/",
          "height": 0
        }
      },
      "source": [
        "well_r2_avg = np.average(well_r2_dataframe.values)\n",
        "poor_r2_avg = np.average(poor_r2_dataframe.values)\n",
        "avg_dict = {\n",
        "    \"R2\": {\n",
        "        \"Well\": well_r2_avg,\n",
        "        \"Poor\": poor_r2_avg\n",
        "    }\n",
        "}\n",
        "pd.DataFrame.from_dict(avg_dict).plot(kind='bar',figsize=(12,8))"
      ],
      "execution_count": 22,
      "outputs": [
        {
          "output_type": "execute_result",
          "data": {
            "text/plain": [
              "<matplotlib.axes._subplots.AxesSubplot at 0x7f8889ebfb38>"
            ]
          },
          "metadata": {
            "tags": []
          },
          "execution_count": 22
        },
        {
          "output_type": "display_data",
          "data": {
            "image/png": "[encoded data removed]",
            "text/plain": [
              "<Figure size 864x576 with 1 Axes>"
            ]
          },
          "metadata": {
            "tags": []
          }
        }
      ]
    },
    {
      "cell_type": "markdown",
      "metadata": {
        "id": "zOawgH6ZLy2m",
        "colab_type": "text"
      },
      "source": [
        "### Subproblem 3 - Introduce Categorical Variable"
      ]
    },
    {
      "cell_type": "markdown",
      "metadata": {
        "id": "3urM1OA6zuXh",
        "colab_type": "text"
      },
      "source": [
        "**1.13** At this point, we can introduce another categorical variable, tissue type. To do that, we'll need to treat the feature as a dummy variable: either 0 or 1. According to the assignment, we'll need 32 columns for our 33 tissues. "
      ]
    },
    {
      "cell_type": "code",
      "metadata": {
        "id": "_fm_twfe0UW_",
        "colab_type": "code",
        "outputId": "bde75640-2d08-4c5c-88ac-c8d6378b8c72",
        "colab": {
          "base_uri": "https://localhost:8080/",
          "height": 0
        }
      },
      "source": [
        "dummies = pd.get_dummies(tissue_types_dataframe)  # Generates dummies for us\n",
        "dummies.head()"
      ],
      "execution_count": 23,
      "outputs": [
        {
          "output_type": "execute_result",
          "data": {
            "text/html": [
              "<div>\n",
              "<style scoped>\n",
              "    .dataframe tbody tr th:only-of-type {\n",
              "        vertical-align: middle;\n",
              "    }\n",
              "\n",
              "    .dataframe tbody tr th {\n",
              "        vertical-align: top;\n",
              "    }\n",
              "\n",
              "    .dataframe thead th {\n",
              "        text-align: right;\n",
              "    }\n",
              "</style>\n",
              "<table border=\"1\" class=\"dataframe\">\n",
              "  <thead>\n",
              "    <tr style=\"text-align: right;\">\n",
              "      <th></th>\n",
              "      <th>cancerType_ACC</th>\n",
              "      <th>cancerType_BLCA</th>\n",
              "      <th>cancerType_BRCA</th>\n",
              "      <th>cancerType_CESC</th>\n",
              "      <th>cancerType_CHOL</th>\n",
              "      <th>cancerType_COAD</th>\n",
              "      <th>cancerType_DLBC</th>\n",
              "      <th>cancerType_ESCA</th>\n",
              "      <th>cancerType_GBM</th>\n",
              "      <th>cancerType_HNSC</th>\n",
              "      <th>cancerType_KICH</th>\n",
              "      <th>cancerType_KIRC</th>\n",
              "      <th>cancerType_KIRP</th>\n",
              "      <th>cancerType_LGG</th>\n",
              "      <th>cancerType_LIHC</th>\n",
              "      <th>cancerType_LUAD</th>\n",
              "      <th>cancerType_LUSC</th>\n",
              "      <th>cancerType_MESO</th>\n",
              "      <th>cancerType_OV</th>\n",
              "      <th>cancerType_PAAD</th>\n",
              "      <th>cancerType_PCPG</th>\n",
              "      <th>cancerType_PRAD</th>\n",
              "      <th>cancerType_READ</th>\n",
              "      <th>cancerType_SARC</th>\n",
              "      <th>cancerType_SKCM</th>\n",
              "      <th>cancerType_STAD</th>\n",
              "      <th>cancerType_TGCT</th>\n",
              "      <th>cancerType_THCA</th>\n",
              "      <th>cancerType_THYM</th>\n",
              "      <th>cancerType_UCEC</th>\n",
              "      <th>cancerType_UCS</th>\n",
              "      <th>cancerType_UVM</th>\n",
              "    </tr>\n",
              "  </thead>\n",
              "  <tbody>\n",
              "    <tr>\n",
              "      <th>1</th>\n",
              "      <td>1</td>\n",
              "      <td>0</td>\n",
              "      <td>0</td>\n",
              "      <td>0</td>\n",
              "      <td>0</td>\n",
              "      <td>0</td>\n",
              "      <td>0</td>\n",
              "      <td>0</td>\n",
              "      <td>0</td>\n",
              "      <td>0</td>\n",
              "      <td>0</td>\n",
              "      <td>0</td>\n",
              "      <td>0</td>\n",
              "      <td>0</td>\n",
              "      <td>0</td>\n",
              "      <td>0</td>\n",
              "      <td>0</td>\n",
              "      <td>0</td>\n",
              "      <td>0</td>\n",
              "      <td>0</td>\n",
              "      <td>0</td>\n",
              "      <td>0</td>\n",
              "      <td>0</td>\n",
              "      <td>0</td>\n",
              "      <td>0</td>\n",
              "      <td>0</td>\n",
              "      <td>0</td>\n",
              "      <td>0</td>\n",
              "      <td>0</td>\n",
              "      <td>0</td>\n",
              "      <td>0</td>\n",
              "      <td>0</td>\n",
              "    </tr>\n",
              "    <tr>\n",
              "      <th>2</th>\n",
              "      <td>1</td>\n",
              "      <td>0</td>\n",
              "      <td>0</td>\n",
              "      <td>0</td>\n",
              "      <td>0</td>\n",
              "      <td>0</td>\n",
              "      <td>0</td>\n",
              "      <td>0</td>\n",
              "      <td>0</td>\n",
              "      <td>0</td>\n",
              "      <td>0</td>\n",
              "      <td>0</td>\n",
              "      <td>0</td>\n",
              "      <td>0</td>\n",
              "      <td>0</td>\n",
              "      <td>0</td>\n",
              "      <td>0</td>\n",
              "      <td>0</td>\n",
              "      <td>0</td>\n",
              "      <td>0</td>\n",
              "      <td>0</td>\n",
              "      <td>0</td>\n",
              "      <td>0</td>\n",
              "      <td>0</td>\n",
              "      <td>0</td>\n",
              "      <td>0</td>\n",
              "      <td>0</td>\n",
              "      <td>0</td>\n",
              "      <td>0</td>\n",
              "      <td>0</td>\n",
              "      <td>0</td>\n",
              "      <td>0</td>\n",
              "    </tr>\n",
              "    <tr>\n",
              "      <th>3</th>\n",
              "      <td>1</td>\n",
              "      <td>0</td>\n",
              "      <td>0</td>\n",
              "      <td>0</td>\n",
              "      <td>0</td>\n",
              "      <td>0</td>\n",
              "      <td>0</td>\n",
              "      <td>0</td>\n",
              "      <td>0</td>\n",
              "      <td>0</td>\n",
              "      <td>0</td>\n",
              "      <td>0</td>\n",
              "      <td>0</td>\n",
              "      <td>0</td>\n",
              "      <td>0</td>\n",
              "      <td>0</td>\n",
              "      <td>0</td>\n",
              "      <td>0</td>\n",
              "      <td>0</td>\n",
              "      <td>0</td>\n",
              "      <td>0</td>\n",
              "      <td>0</td>\n",
              "      <td>0</td>\n",
              "      <td>0</td>\n",
              "      <td>0</td>\n",
              "      <td>0</td>\n",
              "      <td>0</td>\n",
              "      <td>0</td>\n",
              "      <td>0</td>\n",
              "      <td>0</td>\n",
              "      <td>0</td>\n",
              "      <td>0</td>\n",
              "    </tr>\n",
              "    <tr>\n",
              "      <th>4</th>\n",
              "      <td>1</td>\n",
              "      <td>0</td>\n",
              "      <td>0</td>\n",
              "      <td>0</td>\n",
              "      <td>0</td>\n",
              "      <td>0</td>\n",
              "      <td>0</td>\n",
              "      <td>0</td>\n",
              "      <td>0</td>\n",
              "      <td>0</td>\n",
              "      <td>0</td>\n",
              "      <td>0</td>\n",
              "      <td>0</td>\n",
              "      <td>0</td>\n",
              "      <td>0</td>\n",
              "      <td>0</td>\n",
              "      <td>0</td>\n",
              "      <td>0</td>\n",
              "      <td>0</td>\n",
              "      <td>0</td>\n",
              "      <td>0</td>\n",
              "      <td>0</td>\n",
              "      <td>0</td>\n",
              "      <td>0</td>\n",
              "      <td>0</td>\n",
              "      <td>0</td>\n",
              "      <td>0</td>\n",
              "      <td>0</td>\n",
              "      <td>0</td>\n",
              "      <td>0</td>\n",
              "      <td>0</td>\n",
              "      <td>0</td>\n",
              "    </tr>\n",
              "    <tr>\n",
              "      <th>5</th>\n",
              "      <td>1</td>\n",
              "      <td>0</td>\n",
              "      <td>0</td>\n",
              "      <td>0</td>\n",
              "      <td>0</td>\n",
              "      <td>0</td>\n",
              "      <td>0</td>\n",
              "      <td>0</td>\n",
              "      <td>0</td>\n",
              "      <td>0</td>\n",
              "      <td>0</td>\n",
              "      <td>0</td>\n",
              "      <td>0</td>\n",
              "      <td>0</td>\n",
              "      <td>0</td>\n",
              "      <td>0</td>\n",
              "      <td>0</td>\n",
              "      <td>0</td>\n",
              "      <td>0</td>\n",
              "      <td>0</td>\n",
              "      <td>0</td>\n",
              "      <td>0</td>\n",
              "      <td>0</td>\n",
              "      <td>0</td>\n",
              "      <td>0</td>\n",
              "      <td>0</td>\n",
              "      <td>0</td>\n",
              "      <td>0</td>\n",
              "      <td>0</td>\n",
              "      <td>0</td>\n",
              "      <td>0</td>\n",
              "      <td>0</td>\n",
              "    </tr>\n",
              "  </tbody>\n",
              "</table>\n",
              "</div>"
            ],
            "text/plain": [
              "   cancerType_ACC  cancerType_BLCA  ...  cancerType_UCS  cancerType_UVM\n",
              "1               1                0  ...               0               0\n",
              "2               1                0  ...               0               0\n",
              "3               1                0  ...               0               0\n",
              "4               1                0  ...               0               0\n",
              "5               1                0  ...               0               0\n",
              "\n",
              "[5 rows x 32 columns]"
            ]
          },
          "metadata": {
            "tags": []
          },
          "execution_count": 23
        }
      ]
    },
    {
      "cell_type": "markdown",
      "metadata": {
        "id": "v4Lz-kDz2zGm",
        "colab_type": "text"
      },
      "source": [
        "**1.14** At this point, we can try appending this data to our existing data and rerun our experiments."
      ]
    },
    {
      "cell_type": "code",
      "metadata": {
        "id": "QfkdNIE1264e",
        "colab_type": "code",
        "outputId": "c2193942-3c01-4d16-b3bc-1b8b5602259c",
        "colab": {
          "base_uri": "https://localhost:8080/",
          "height": 0
        }
      },
      "source": [
        "x = pd.concat([micro_rna_dataframe, dummies], axis=1)\n",
        "  \n",
        "well_error = compute_experiment_error(x, mrna_well_dataframe)\n",
        "poor_error = compute_experiment_error(x, mrna_poor_dataframe)\n",
        "\n",
        "well_r2_dataframe = pd.DataFrame.from_dict(well_error).T[\"r2_avg\"]\n",
        "poor_r2_dataframe = pd.DataFrame.from_dict(poor_error).T[\"r2_avg\"]\n",
        "r2_dataframe = pd.DataFrame([well_r2_dataframe, poor_r2_dataframe]).T\n",
        "r2_dataframe.columns = [\"Well\", \"Poor\"]\n",
        "r2_dataframe.plot(kind='bar',figsize=(16,10))"
      ],
      "execution_count": 24,
      "outputs": [
        {
          "output_type": "execute_result",
          "data": {
            "text/plain": [
              "<matplotlib.axes._subplots.AxesSubplot at 0x7f8889e46438>"
            ]
          },
          "metadata": {
            "tags": []
          },
          "execution_count": 24
        },
        {
          "output_type": "display_data",
          "data": {
            "image/png": "[encoded data removed]",
            "text/plain": [
              "<Figure size 1152x720 with 1 Axes>"
            ]
          },
          "metadata": {
            "tags": []
          }
        }
      ]
    },
    {
      "cell_type": "markdown",
      "metadata": {
        "id": "nr_f_LauC6be",
        "colab_type": "text"
      },
      "source": [
        "Here, it seems like the additional features improved the R<sup>2</sup> for just about every possible target value. I suspect the additional categorical feature data is causing some overfitting. That said, prediction performance appears to have improved overall."
      ]
    },
    {
      "cell_type": "markdown",
      "metadata": {
        "id": "T6aWpq_zCJmi",
        "colab_type": "text"
      },
      "source": [
        "## Part 2 - Logistic Regression"
      ]
    },
    {
      "cell_type": "markdown",
      "metadata": {
        "id": "QzcaSlT0CQOF",
        "colab_type": "text"
      },
      "source": [
        "In this portion of the lab, we were asked to modify the hands-on lab to support logistic regression. In other words, modify the gradient descent code to support logistic functions rather than linear functions. "
      ]
    },
    {
      "cell_type": "markdown",
      "metadata": {
        "id": "x4-k06s-IVmW",
        "colab_type": "text"
      },
      "source": [
        "**2.0** Set up the environment."
      ]
    },
    {
      "cell_type": "code",
      "metadata": {
        "id": "C2bnUIq3IZbs",
        "colab_type": "code",
        "colab": {}
      },
      "source": [
        "import matplotlib.pyplot as plt\n",
        "import pandas as pd\n",
        "import numpy as np\n",
        "import seaborn as sns\n",
        "from sklearn.linear_model import LogisticRegression"
      ],
      "execution_count": 0,
      "outputs": []
    },
    {
      "cell_type": "markdown",
      "metadata": {
        "id": "Cb4-6IS2IdR7",
        "colab_type": "text"
      },
      "source": [
        "**2.1** Read the data from GitHub into a pandas dataframe."
      ]
    },
    {
      "cell_type": "code",
      "metadata": {
        "id": "VVrOCeniIhfM",
        "colab_type": "code",
        "colab": {}
      },
      "source": [
        "basketball_data_url = 'https://raw.githubusercontent.com/efosler/cse5522data/master/height_vs_weight.csv'\n",
        "basketball_dataframe = pd.read_csv(basketball_data_url)"
      ],
      "execution_count": 0,
      "outputs": []
    },
    {
      "cell_type": "markdown",
      "metadata": {
        "id": "YEGVu6xUIzb9",
        "colab_type": "text"
      },
      "source": [
        "**2.2** Print out the top of the dataframe to make sure that the data loaded correctly."
      ]
    },
    {
      "cell_type": "code",
      "metadata": {
        "id": "pD3aP79XI2nL",
        "colab_type": "code",
        "outputId": "d5354623-754b-4dac-beb3-e2fbacf77d0b",
        "colab": {
          "base_uri": "https://localhost:8080/",
          "height": 195
        }
      },
      "source": [
        "basketball_dataframe.head()"
      ],
      "execution_count": 27,
      "outputs": [
        {
          "output_type": "execute_result",
          "data": {
            "text/html": [
              "<div>\n",
              "<style scoped>\n",
              "    .dataframe tbody tr th:only-of-type {\n",
              "        vertical-align: middle;\n",
              "    }\n",
              "\n",
              "    .dataframe tbody tr th {\n",
              "        vertical-align: top;\n",
              "    }\n",
              "\n",
              "    .dataframe thead th {\n",
              "        text-align: right;\n",
              "    }\n",
              "</style>\n",
              "<table border=\"1\" class=\"dataframe\">\n",
              "  <thead>\n",
              "    <tr style=\"text-align: right;\">\n",
              "      <th></th>\n",
              "      <th>height</th>\n",
              "      <th>weight</th>\n",
              "      <th>female</th>\n",
              "      <th>basketball</th>\n",
              "    </tr>\n",
              "  </thead>\n",
              "  <tbody>\n",
              "    <tr>\n",
              "      <th>0</th>\n",
              "      <td>74.8</td>\n",
              "      <td>221.2</td>\n",
              "      <td>0</td>\n",
              "      <td>1</td>\n",
              "    </tr>\n",
              "    <tr>\n",
              "      <th>1</th>\n",
              "      <td>65.6</td>\n",
              "      <td>147.3</td>\n",
              "      <td>1</td>\n",
              "      <td>1</td>\n",
              "    </tr>\n",
              "    <tr>\n",
              "      <th>2</th>\n",
              "      <td>74.8</td>\n",
              "      <td>166.8</td>\n",
              "      <td>0</td>\n",
              "      <td>0</td>\n",
              "    </tr>\n",
              "    <tr>\n",
              "      <th>3</th>\n",
              "      <td>68.5</td>\n",
              "      <td>174.1</td>\n",
              "      <td>0</td>\n",
              "      <td>0</td>\n",
              "    </tr>\n",
              "    <tr>\n",
              "      <th>4</th>\n",
              "      <td>66.8</td>\n",
              "      <td>156.6</td>\n",
              "      <td>1</td>\n",
              "      <td>0</td>\n",
              "    </tr>\n",
              "  </tbody>\n",
              "</table>\n",
              "</div>"
            ],
            "text/plain": [
              "   height  weight  female  basketball\n",
              "0    74.8   221.2       0           1\n",
              "1    65.6   147.3       1           1\n",
              "2    74.8   166.8       0           0\n",
              "3    68.5   174.1       0           0\n",
              "4    66.8   156.6       1           0"
            ]
          },
          "metadata": {
            "tags": []
          },
          "execution_count": 27
        }
      ]
    },
    {
      "cell_type": "markdown",
      "metadata": {
        "id": "b8cBSsS0MCjs",
        "colab_type": "text"
      },
      "source": [
        "### Subproblem 1 - Train Model for Height"
      ]
    },
    {
      "cell_type": "markdown",
      "metadata": {
        "id": "m2c48JHOxVLr",
        "colab_type": "text"
      },
      "source": [
        "**2.3** Take a look at the data. "
      ]
    },
    {
      "cell_type": "code",
      "metadata": {
        "id": "2iC-cjfqwQ4b",
        "colab_type": "code",
        "outputId": "298d3ad8-c40a-4984-ad07-0d883254f7f9",
        "colab": {
          "base_uri": "https://localhost:8080/",
          "height": 514
        }
      },
      "source": [
        "basketball_dataframe.plot(x=\"height\", y=\"basketball\", kind=\"scatter\", figsize=(12,8))"
      ],
      "execution_count": 28,
      "outputs": [
        {
          "output_type": "execute_result",
          "data": {
            "text/plain": [
              "<matplotlib.axes._subplots.AxesSubplot at 0x7f8888f89f60>"
            ]
          },
          "metadata": {
            "tags": []
          },
          "execution_count": 28
        },
        {
          "output_type": "display_data",
          "data": {
            "image/png": "[encoded data removed]",
            "text/plain": [
              "<Figure size 864x576 with 1 Axes>"
            ]
          },
          "metadata": {
            "tags": []
          }
        }
      ]
    },
    {
      "cell_type": "code",
      "metadata": {
        "id": "o5W9HY1Lxx2b",
        "colab_type": "code",
        "outputId": "2e09f1f5-40c9-4250-b826-1e82234f3a29",
        "colab": {
          "base_uri": "https://localhost:8080/",
          "height": 296
        }
      },
      "source": [
        "# Let's take a look at the expected logistic curve using seaborn\n",
        "sns.regplot(x='height', y='basketball', data=basketball_dataframe, logistic=True) "
      ],
      "execution_count": 29,
      "outputs": [
        {
          "output_type": "execute_result",
          "data": {
            "text/plain": [
              "<matplotlib.axes._subplots.AxesSubplot at 0x7f8889c1a9b0>"
            ]
          },
          "metadata": {
            "tags": []
          },
          "execution_count": 29
        },
        {
          "output_type": "display_data",
          "data": {
            "image/png": "[encoded data removed]",
            "text/plain": [
              "<Figure size 432x288 with 1 Axes>"
            ]
          },
          "metadata": {
            "tags": []
          }
        }
      ]
    },
    {
      "cell_type": "markdown",
      "metadata": {
        "id": "XL2PO8HSMb5m",
        "colab_type": "text"
      },
      "source": [
        "**2.4** Select Height and Basketball Columns and construct our test and training sets. "
      ]
    },
    {
      "cell_type": "code",
      "metadata": {
        "id": "DfLHCQPuMgQo",
        "colab_type": "code",
        "colab": {}
      },
      "source": [
        "height = np.array(basketball_dataframe['height'], dtype='float').reshape(-1, 1)\n",
        "basketball = np.array(basketball_dataframe['basketball'], dtype='float').reshape(-1, 1)\n",
        "x_train, x_test, y_train, y_test = train_test_split(height, basketball.ravel(), test_size=0.2, random_state=17)"
      ],
      "execution_count": 0,
      "outputs": []
    },
    {
      "cell_type": "markdown",
      "metadata": {
        "id": "Rti0Y6MxUPII",
        "colab_type": "text"
      },
      "source": [
        "**2.5** Now, let's borrow some code from the hands-on, and adjust it for the logistic regression."
      ]
    },
    {
      "cell_type": "code",
      "metadata": {
        "id": "rGP63WWxUajU",
        "colab_type": "code",
        "colab": {}
      },
      "source": [
        "def computeMSEBatchGradient(weights, features, targets):\n",
        "  \"\"\"\n",
        "  Computes the average gradient over the batch of features.\n",
        "\n",
        "  :param weights: vector of weights (univariate linear = 2 weights)\n",
        "  :param features: vector (or matrix) of feature values\n",
        "  :param targets: vector of target values, same length as features\n",
        "  :returns: vector of gradient values\n",
        "  \"\"\"\n",
        "  predictions = features * weights[1] + weights[0]\n",
        "  sigmoid = 1 / (1 + np.exp(-1 * predictions))\n",
        "  errors = targets - sigmoid\n",
        "  gradient=np.array([-2.0 * np.average(errors), -2.0 * np.average(features * errors)])\n",
        "  \n",
        "  return gradient"
      ],
      "execution_count": 0,
      "outputs": []
    },
    {
      "cell_type": "code",
      "metadata": {
        "id": "y8AAGWkhaS9_",
        "colab_type": "code",
        "colab": {}
      },
      "source": [
        "def computeGradientDescentWeightUpdate(weights, features, targets, learning_rate):\n",
        "  \"\"\"\n",
        "  Updates weights by computing gradient.\n",
        "\n",
        "  :param weights: vector of weights (univariate linear = 2 weights)\n",
        "  :param features: vector (or matrix) of feature values\n",
        "  :param targets: vector of target values, same length as features\n",
        "  :param learning_rate: a scalar for adjusting corrections in error\n",
        "  \"\"\"\n",
        "\n",
        "  gradient = computeMSEBatchGradient(weights, features, targets)\n",
        "  weights = weights - learning_rate * gradient\n",
        "\n",
        "  return weights"
      ],
      "execution_count": 0,
      "outputs": []
    },
    {
      "cell_type": "markdown",
      "metadata": {
        "id": "92YAO-zpeV7d",
        "colab_type": "text"
      },
      "source": [
        "**2.6** Let's run our experiment!"
      ]
    },
    {
      "cell_type": "code",
      "metadata": {
        "id": "SYPAe2WieaAR",
        "colab_type": "code",
        "outputId": "0521d86e-5dde-4f30-c715-43888083b805",
        "colab": {
          "base_uri": "https://localhost:8080/",
          "height": 202
        }
      },
      "source": [
        "# naively selected the same weights and learning rate from the linear regression hands-on\n",
        "weights = [20000.,150.]\n",
        "learning_rate = 0.0001\n",
        "\n",
        "def run(weights, features, targets, learning_rate):\n",
        "  for step in range(10000):\n",
        "    weights = computeGradientDescentWeightUpdate(weights, features, targets, learning_rate)\n",
        "    if (step % 1000 == 0):\n",
        "      print(weights)\n",
        "  print(weights)\n",
        "  return weights\n",
        "\n",
        "final_weights = run(weights, x_train.ravel(), y_train, learning_rate)"
      ],
      "execution_count": 33,
      "outputs": [
        {
          "output_type": "stream",
          "text": [
            "[19999.99989688   149.99301263]\n",
            "[19999.89677188   143.00563763]\n",
            "[19999.79364688   136.01826263]\n",
            "[19999.69052188   129.03088763]\n",
            "[19999.58739688   122.04351263]\n",
            "[19999.48427188   115.05613763]\n",
            "[19999.38114688   108.06876263]\n",
            "[19999.27802188   101.08138763]\n",
            "[19999.17489688    94.09401263]\n",
            "[19999.07177188    87.10663763]\n",
            "[19998.96875001    80.12625   ]\n"
          ],
          "name": "stdout"
        }
      ]
    },
    {
      "cell_type": "markdown",
      "metadata": {
        "id": "rQSc9ntDzAA0",
        "colab_type": "text"
      },
      "source": [
        "**2.7** Get some sample weights for comparison with our own model."
      ]
    },
    {
      "cell_type": "code",
      "metadata": {
        "id": "aVjZSEd5zF0q",
        "colab_type": "code",
        "colab": {}
      },
      "source": [
        "regression = LogisticRegression()\n",
        "regression.fit(x_train, y_train)\n",
        "predictions = regression.predict(x_test)"
      ],
      "execution_count": 0,
      "outputs": []
    },
    {
      "cell_type": "code",
      "metadata": {
        "id": "7gZOZN0b029z",
        "colab_type": "code",
        "outputId": "453e9152-620d-40b6-d805-29b0fa07e674",
        "colab": {
          "base_uri": "https://localhost:8080/",
          "height": 34
        }
      },
      "source": [
        "regression.coef_  # slope"
      ],
      "execution_count": 35,
      "outputs": [
        {
          "output_type": "execute_result",
          "data": {
            "text/plain": [
              "array([[0.1578324]])"
            ]
          },
          "metadata": {
            "tags": []
          },
          "execution_count": 35
        }
      ]
    },
    {
      "cell_type": "code",
      "metadata": {
        "id": "4iTuXWH103_7",
        "colab_type": "code",
        "outputId": "863edfb5-f0fa-4066-ade4-85b96e4a789b",
        "colab": {
          "base_uri": "https://localhost:8080/",
          "height": 34
        }
      },
      "source": [
        "regression.intercept_  # intercept"
      ],
      "execution_count": 36,
      "outputs": [
        {
          "output_type": "execute_result",
          "data": {
            "text/plain": [
              "array([-11.0449742])"
            ]
          },
          "metadata": {
            "tags": []
          },
          "execution_count": 36
        }
      ]
    },
    {
      "cell_type": "markdown",
      "metadata": {
        "id": "_hwPZuwE2Er2",
        "colab_type": "text"
      },
      "source": [
        "**2.8** Let's try toying with the learning rates for the two parameters with a new definition of the run function."
      ]
    },
    {
      "cell_type": "code",
      "metadata": {
        "id": "VF5cm52q2SR9",
        "colab_type": "code",
        "outputId": "50dbd2a0-7ccf-4a6d-ea95-016c578e1519",
        "colab": {
          "base_uri": "https://localhost:8080/",
          "height": 470
        }
      },
      "source": [
        "epsilon = 0.00000001\n",
        "def run(weights, features, targets, learning_rate):\n",
        "  for step in range(1000000):\n",
        "    prev_weights = weights\n",
        "    weights = computeGradientDescentWeightUpdate(weights, features, targets, learning_rate)\n",
        "    avg_gradient = (weights - prev_weights) / learning_rate\n",
        "    if (np.linalg.norm(avg_gradient) < epsilon):\n",
        "      break\n",
        "    if (step % 1000 == 0):\n",
        "      print(weights)\n",
        "  print(weights)\n",
        "  return weights\n",
        "\n",
        "learning_rate = [2.5, .0003]\n",
        "final_weights = run(weights, x_train.ravel(), y_train, learning_rate)"
      ],
      "execution_count": 37,
      "outputs": [
        {
          "output_type": "stream",
          "text": [
            "[19997.421875     149.97903787]\n",
            "[17419.296875     129.01691287]\n",
            "[14841.171875     108.05478787]\n",
            "[12263.046875      87.09266287]\n",
            "[9684.921875     66.13053787]\n",
            "[7106.796875     45.16841288]\n",
            "[4528.671875     24.20628788]\n",
            "[1950.546875      3.24416288]\n",
            "[520.38827692  -7.54108541]\n",
            "[440.77782959  -6.38689981]\n",
            "[361.198797    -5.23322987]\n",
            "[281.6822946   -4.08052178]\n",
            "[202.30555272  -2.92979379]\n",
            "[123.30150093  -1.78421677]\n",
            "[46.05600881 -0.6646882 ]\n",
            "[-3.33329083  0.04719196]\n",
            "[-9.93404279  0.14188557]\n",
            "[-10.86531299   0.15525334]\n",
            "[-11.02038238   0.15747948]\n",
            "[-11.04688221   0.15785991]\n",
            "[-11.05143062   0.15792521]\n",
            "[-11.05221188   0.15793642]\n",
            "[-11.0523461    0.15793835]\n",
            "[-11.05236915   0.15793868]\n",
            "[-11.05237311   0.15793874]\n",
            "[-11.05237379   0.15793875]\n",
            "[-11.05237382   0.15793875]\n"
          ],
          "name": "stdout"
        }
      ]
    },
    {
      "cell_type": "markdown",
      "metadata": {
        "id": "PXFQMiAv3Tln",
        "colab_type": "text"
      },
      "source": [
        "**2.9** Looks great! Now, let's compute the average loss on the test set. "
      ]
    },
    {
      "cell_type": "code",
      "metadata": {
        "id": "z09aZrvaMn9K",
        "colab_type": "code",
        "colab": {}
      },
      "source": [
        "def probability(weights, features):\n",
        "  \"\"\"\n",
        "  Computes the probability of an outcome (basketball).\n",
        "\n",
        "  :param weights: the computed weights\n",
        "  :param features: the x test set\n",
        "  \"\"\"\n",
        "  predictions = features * weights[1] + weights[0]\n",
        "  sigmoid = 1 / (1 + np.exp(-1 * predictions))\n",
        "  return sigmoid"
      ],
      "execution_count": 0,
      "outputs": []
    },
    {
      "cell_type": "code",
      "metadata": {
        "id": "Uje1TMYlNIQB",
        "colab_type": "code",
        "colab": {}
      },
      "source": [
        "def average_loss(weights, features, targets):\n",
        "  \"\"\"\n",
        "  Computes average loss.\n",
        "\n",
        "  :param weights: the computed weights\n",
        "  :param features: the x test set\n",
        "  :param targets: the y test set\n",
        "  \"\"\"\n",
        "  p_basketball = probability(weights, features)\n",
        "  loss = np.log(targets * p_basketball + (1 - targets) * (1 - p_basketball))\n",
        "  average_loss = -np.average(loss)\n",
        "  return average_loss"
      ],
      "execution_count": 0,
      "outputs": []
    },
    {
      "cell_type": "code",
      "metadata": {
        "id": "aNjuLVwhOPRD",
        "colab_type": "code",
        "outputId": "2415ca62-c0cb-4e80-f034-8389f3a90bef",
        "colab": {
          "base_uri": "https://localhost:8080/",
          "height": 34
        }
      },
      "source": [
        "average_loss(final_weights, x_test.ravel(), y_test)"
      ],
      "execution_count": 40,
      "outputs": [
        {
          "output_type": "execute_result",
          "data": {
            "text/plain": [
              "0.634631923885026"
            ]
          },
          "metadata": {
            "tags": []
          },
          "execution_count": 40
        }
      ]
    },
    {
      "cell_type": "markdown",
      "metadata": {
        "id": "yJkBBpoNQFx5",
        "colab_type": "text"
      },
      "source": [
        "**2.10** Let's try to compute the accuracy of the model now."
      ]
    },
    {
      "cell_type": "code",
      "metadata": {
        "id": "yBz7zB6qRMvj",
        "colab_type": "code",
        "colab": {}
      },
      "source": [
        "def probability_to_prediction(probability):\n",
        "  if probability > .5:\n",
        "    return 1\n",
        "  else:\n",
        "    return 0"
      ],
      "execution_count": 0,
      "outputs": []
    },
    {
      "cell_type": "code",
      "metadata": {
        "id": "-5JVvdbPQLlX",
        "colab_type": "code",
        "outputId": "8624f98b-d0b5-4743-940c-a02bb1a875a9",
        "colab": {
          "base_uri": "https://localhost:8080/",
          "height": 34
        }
      },
      "source": [
        "p_basketball = probability(final_weights, x_test.ravel())\n",
        "basketball_predictions = np.array([probability_to_prediction(p) for p in p_basketball])\n",
        "matches = np.equal(basketball_predictions, y_test)\n",
        "np.average(matches) # returns the accuracy"
      ],
      "execution_count": 42,
      "outputs": [
        {
          "output_type": "execute_result",
          "data": {
            "text/plain": [
              "0.625"
            ]
          },
          "metadata": {
            "tags": []
          },
          "execution_count": 42
        }
      ]
    },
    {
      "cell_type": "markdown",
      "metadata": {
        "id": "EZkX1guqXP4N",
        "colab_type": "text"
      },
      "source": [
        "**2.11** Finally, let's generate our own graph."
      ]
    },
    {
      "cell_type": "code",
      "metadata": {
        "id": "p8mvsdl2agpe",
        "colab_type": "code",
        "outputId": "0a3dbbf0-95f5-4eda-ea39-681f5971c3cd",
        "colab": {
          "base_uri": "https://localhost:8080/",
          "height": 296
        }
      },
      "source": [
        "fig, ax = plt.subplots()\n",
        "\n",
        "heights = np.array(basketball_dataframe[\"height\"].unique())\n",
        "heights.sort()\n",
        "y = probability(final_weights, heights)\n",
        "ax.plot(heights, y)\n",
        "\n",
        "basketball_dataframe.plot(x=\"height\", y=\"basketball\", ax=ax, kind=\"scatter\")"
      ],
      "execution_count": 43,
      "outputs": [
        {
          "output_type": "execute_result",
          "data": {
            "text/plain": [
              "<matplotlib.axes._subplots.AxesSubplot at 0x7f8888cf8be0>"
            ]
          },
          "metadata": {
            "tags": []
          },
          "execution_count": 43
        },
        {
          "output_type": "display_data",
          "data": {
            "image/png": "[encoded data removed]",
            "text/plain": [
              "<Figure size 432x288 with 1 Axes>"
            ]
          },
          "metadata": {
            "tags": []
          }
        }
      ]
    },
    {
      "cell_type": "markdown",
      "metadata": {
        "id": "KagU1fWwgfsC",
        "colab_type": "text"
      },
      "source": [
        "### Subproblem 2 - Incorporate Gender"
      ]
    },
    {
      "cell_type": "markdown",
      "metadata": {
        "id": "TZITn86Plw8Z",
        "colab_type": "text"
      },
      "source": [
        "**2.12** Let's separate our data out to incorporate gender."
      ]
    },
    {
      "cell_type": "code",
      "metadata": {
        "id": "derAdow7gvTN",
        "colab_type": "code",
        "colab": {}
      },
      "source": [
        "features = pd.DataFrame([basketball_dataframe[\"height\"], basketball_dataframe[\"female\"]]).T.values\n",
        "targets = basketball_dataframe[\"basketball\"].values\n",
        "x_train, x_test, y_train, y_test = train_test_split(features, targets, test_size=0.2, random_state=9)"
      ],
      "execution_count": 0,
      "outputs": []
    },
    {
      "cell_type": "markdown",
      "metadata": {
        "id": "7Q7Mj1zCoscE",
        "colab_type": "text"
      },
      "source": [
        "**2.13** Let's update our MSE gradient computation to include one additional feature. *I'm not sure about this yet!*"
      ]
    },
    {
      "cell_type": "code",
      "metadata": {
        "id": "BYdz3VGoxYZX",
        "colab_type": "code",
        "colab": {}
      },
      "source": [
        "def probability(weights, features):\n",
        "  \"\"\"\n",
        "  Computes the probability of an outcome (basketball).\n",
        "\n",
        "  :param weights: the computed weights\n",
        "  :param features: the x test set\n",
        "  \"\"\"\n",
        "  predictions = features * weights[1:] + weights[0]  # there is a bug here? I'm not sure how to multiple these features correctly\n",
        "  sigmoid = 1 / (1 + np.exp(-1 * predictions))\n",
        "  return sigmoid"
      ],
      "execution_count": 0,
      "outputs": []
    },
    {
      "cell_type": "code",
      "metadata": {
        "colab_type": "code",
        "id": "m9ltXbexoy7L",
        "colab": {}
      },
      "source": [
        "def computeMSEBatchGradient(weights, features, targets):\n",
        "  \"\"\"\n",
        "  Computes the average gradient over the batch of features.\n",
        "\n",
        "  :param weights: vector of weights (univariate linear = 2 weights)\n",
        "  :param features: vector (or matrix) of feature values\n",
        "  :param targets: vector of target values, same length as features\n",
        "  :returns: vector of gradient values\n",
        "  \"\"\"\n",
        "  sigmoid = probability(weights, features)\n",
        "  errors = targets - sigmoid\n",
        "  gradient = np.array(\n",
        "      [\n",
        "          -2.0 * np.average(errors), \n",
        "          -2.0 * np.average(features[0] * errors),\n",
        "          -2.0 * np.average(features[1] * errors)\n",
        "      ]\n",
        "  )\n",
        "  \n",
        "  return gradient"
      ],
      "execution_count": 0,
      "outputs": []
    },
    {
      "cell_type": "markdown",
      "metadata": {
        "id": "rUUtCCOKlzpY",
        "colab_type": "text"
      },
      "source": [
        "**2.13** Let's run the same experiment by tuning our learning rate."
      ]
    },
    {
      "cell_type": "code",
      "metadata": {
        "id": "B20aIf3nl6xQ",
        "colab_type": "code",
        "outputId": "98a36c9b-19cf-4d83-95ed-222825bafca2",
        "colab": {
          "base_uri": "https://localhost:8080/",
          "height": 1000
        }
      },
      "source": [
        "weights = [100, 100, 100]\n",
        "learning_rate = [.01, .0001, .001]\n",
        "final_weights = run(weights, x_train, y_train.reshape(-1, 1), learning_rate)"
      ],
      "execution_count": 47,
      "outputs": [
        {
          "output_type": "stream",
          "text": [
            "[99.9899375  99.99642278 99.96734719]\n",
            "[89.9274375  96.41920403 67.31453469]\n",
            "[79.8649375  92.84198528 34.66172219]\n",
            "[69.8024375  89.26476653  2.00890969]\n",
            "[ 59.7399375   85.68754778 -30.64390281]\n",
            "[ 51.33104763  82.12686513 -63.1313543 ]\n",
            "[ 46.51854654  78.60214637 -95.25916691]\n",
            "[  41.70604654   75.07742762 -127.38697941]\n",
            "[  36.89354654   71.55270887 -159.51479191]\n",
            "[  32.08104654   68.02799012 -191.64260441]\n",
            "[  27.26854654   64.50327137 -223.77041691]\n",
            "[  22.45604654   60.97855262 -255.89822941]\n",
            "[  17.64354656   57.45383387 -288.02604191]\n",
            "[  12.83104917   53.92911515 -320.15385414]\n",
            "[   8.01887067   50.40439961 -352.2816345 ]\n",
            "[   3.24443044   46.88006146 -384.40564102]\n",
            "[-2.94655330e-01  4.33680769e+01 -4.16406112e+02]\n",
            "[  -1.61514682   39.87827819 -448.18472374]\n",
            "[  -2.26658405   36.39517007 -479.89642997]\n",
            "[  -2.69419111   32.91430025 -511.58575317]\n",
            "[  -3.01471561   29.43450125 -543.26436812]\n",
            "[  -3.27326999   25.95532196 -574.93678606]\n",
            "[  -3.49167917   22.47654411 -606.60518948]\n",
            "[  -3.68208225   18.99804633 -638.27079229]\n",
            "[  -3.85190103   15.5197544  -669.93433666]\n",
            "[  -4.00599414   12.04161971 -701.59630848]\n",
            "[  -4.14771101    8.5636088  -733.25704266]\n"
          ],
          "name": "stdout"
        },
        {
          "output_type": "stream",
          "text": [
            "/usr/local/lib/python3.6/dist-packages/ipykernel_launcher.py:9: RuntimeWarning: overflow encountered in exp\n",
            "  if __name__ == '__main__':\n"
          ],
          "name": "stderr"
        },
        {
          "output_type": "stream",
          "text": [
            "[  -4.27945595    5.0856976  -764.91677966]\n",
            "[  -4.40301185    1.60786829 -796.57569775]\n",
            "[-1.91476632e+00  2.82168620e-02 -8.10932543e+02]\n",
            "[ 8.65546806e-01 -1.23050541e-02 -8.11276458e+02]\n",
            "[ 1.95359563e+00 -2.81140747e-02 -8.11410601e+02]\n",
            "[ 2.59105034e+00 -3.73332410e-02 -8.11488801e+02]\n",
            "[ 3.05892527e+00 -4.40861953e-02 -8.11546074e+02]\n",
            "[ 3.44151885e+00 -4.96024776e-02 -8.11592854e+02]\n",
            "[ 3.77405735e+00 -5.43941193e-02 -8.11633487e+02]\n",
            "[ 4.07437407e+00 -5.87197990e-02 -8.11670168e+02]\n",
            "[ 4.35266420e+00 -6.27272001e-02 -8.11704150e+02]\n",
            "[ 4.61526079e+00 -6.65079738e-02 -8.11736209e+02]\n",
            "[ 4.86633945e+00 -7.01225079e-02 -8.11766859e+02]\n",
            "[ 5.10877794e+00 -7.36123996e-02 -8.11796451e+02]\n",
            "[ 5.34462746e+00 -7.70072875e-02 -8.11825238e+02]\n",
            "[ 5.57538864e+00 -8.03288489e-02 -8.11853402e+02]\n",
            "[ 5.80218187e+00 -8.35932653e-02 -8.11881083e+02]\n",
            "[ 6.02585724e+00 -8.68128123e-02 -8.11908382e+02]\n",
            "[ 6.24706799e+00 -8.99969221e-02 -8.11935382e+02]\n",
            "[ 6.46632124e+00 -9.31529170e-02 -8.11962143e+02]\n",
            "[ 6.68401391e+00 -9.62865273e-02 -8.11988714e+02]\n",
            "[ 6.90045867e+00 -9.94022677e-02 -8.12015134e+02]\n",
            "[ 7.11590316e+00 -1.02503713e-01 -8.12041432e+02]\n",
            "[ 7.33054430e+00 -1.05593708e-01 -8.12067634e+02]\n",
            "[ 7.54453924e+00 -1.08674520e-01 -8.12093758e+02]\n",
            "[ 7.75801375e+00 -1.11747966e-01 -8.12119819e+02]\n",
            "[ 7.97106867e+00 -1.14815502e-01 -8.12145831e+02]\n",
            "[ 8.18378505e+00 -1.17878298e-01 -8.12171802e+02]\n",
            "[ 8.39622806e+00 -1.20937295e-01 -8.12197741e+02]\n",
            "[ 8.60845023e+00 -1.23993253e-01 -8.12223654e+02]\n",
            "[ 8.82049390e+00 -1.27046783e-01 -8.12249547e+02]\n",
            "[ 9.03239323e+00 -1.30098377e-01 -8.12275424e+02]\n",
            "[ 9.24417583e+00 -1.33148434e-01 -8.12301288e+02]\n",
            "[ 9.45586396e+00 -1.36197276e-01 -8.12327141e+02]\n",
            "[ 9.66747564e+00 -1.39245162e-01 -8.12352987e+02]\n",
            "[ 9.87902544e+00 -1.42292303e-01 -8.12378826e+02]\n",
            "[ 1.00905251e+01 -1.45338868e-01 -8.12404660e+02]\n",
            "[ 1.03019842e+01 -1.48384994e-01 -8.12430491e+02]\n",
            "[ 1.05134104e+01 -1.51430792e-01 -8.12456319e+02]\n",
            "[ 1.07248099e+01 -1.54476352e-01 -8.12482145e+02]\n",
            "[ 1.09361879e+01 -1.57521744e-01 -8.12507970e+02]\n",
            "[ 1.11475483e+01 -1.60567028e-01 -8.12533794e+02]\n",
            "[ 1.13588944e+01 -1.63612251e-01 -8.12559618e+02]\n",
            "[ 1.15702291e+01 -1.66657450e-01 -8.12585441e+02]\n",
            "[ 1.17815543e+01 -1.69702656e-01 -8.12611265e+02]\n",
            "[ 1.19928719e+01 -1.72747893e-01 -8.12637089e+02]\n",
            "[ 1.22041833e+01 -1.75793180e-01 -8.12662913e+02]\n",
            "[ 1.24154896e+01 -1.78838533e-01 -8.12688739e+02]\n",
            "[ 1.26267917e+01 -1.81883965e-01 -8.12714564e+02]\n",
            "[ 1.28380905e+01 -1.84929485e-01 -8.12740391e+02]\n",
            "[ 1.30493865e+01 -1.87975101e-01 -8.12766219e+02]\n",
            "[ 1.32606802e+01 -1.91020819e-01 -8.12792047e+02]\n",
            "[ 1.34719721e+01 -1.94066643e-01 -8.12817877e+02]\n",
            "[ 1.36832624e+01 -1.97112578e-01 -8.12843708e+02]\n",
            "[ 1.38945513e+01 -2.00158625e-01 -8.12869539e+02]\n",
            "[ 1.41058392e+01 -2.03204787e-01 -8.12895372e+02]\n",
            "[ 1.43171262e+01 -2.06251064e-01 -8.12921206e+02]\n",
            "[ 1.45284125e+01 -2.09297458e-01 -8.12947040e+02]\n",
            "[ 1.47396981e+01 -2.12343969e-01 -8.12972876e+02]\n",
            "[ 1.49509831e+01 -2.15390597e-01 -8.12998713e+02]\n",
            "[ 1.51622676e+01 -2.18437342e-01 -8.13024551e+02]\n",
            "[ 1.53735517e+01 -2.21484203e-01 -8.13050390e+02]\n",
            "[ 1.55848354e+01 -2.24531181e-01 -8.13076230e+02]\n",
            "[ 1.57961188e+01 -2.27578273e-01 -8.13102071e+02]\n",
            "[ 1.60074019e+01 -2.30625480e-01 -8.13127914e+02]\n",
            "[ 1.62186848e+01 -2.33672800e-01 -8.13153757e+02]\n",
            "[ 1.64299673e+01 -2.36720234e-01 -8.13179601e+02]\n",
            "[ 1.66412497e+01 -2.39767778e-01 -8.13205447e+02]\n",
            "[ 1.68525318e+01 -2.42815434e-01 -8.13231293e+02]\n",
            "[ 1.70638137e+01 -2.45863199e-01 -8.13257140e+02]\n",
            "[ 1.72750954e+01 -2.48911072e-01 -8.13282988e+02]\n",
            "[ 1.74863770e+01 -2.51959053e-01 -8.13308838e+02]\n",
            "[ 1.76976584e+01 -2.55007140e-01 -8.13334688e+02]\n",
            "[ 1.79089396e+01 -2.58055332e-01 -8.13360539e+02]\n",
            "[ 1.81202206e+01 -2.61103629e-01 -8.13386391e+02]\n",
            "[ 1.83315015e+01 -2.64152028e-01 -8.13412244e+02]\n",
            "[ 1.85427822e+01 -2.67200529e-01 -8.13438099e+02]\n",
            "[ 1.87540627e+01 -2.70249130e-01 -8.13463953e+02]\n",
            "[ 1.89653432e+01 -2.73297831e-01 -8.13489809e+02]\n",
            "[ 1.91766234e+01 -2.76346631e-01 -8.13515666e+02]\n",
            "[ 1.93879035e+01 -2.79395527e-01 -8.13541524e+02]\n",
            "[ 1.95991835e+01 -2.82444521e-01 -8.13567382e+02]\n",
            "[ 1.98104634e+01 -2.85493609e-01 -8.13593242e+02]\n",
            "[ 2.00217431e+01 -2.88542791e-01 -8.13619102e+02]\n",
            "[ 2.02330226e+01 -2.91592067e-01 -8.13644963e+02]\n",
            "[ 2.04443021e+01 -2.94641434e-01 -8.13670825e+02]\n",
            "[ 2.06555814e+01 -2.97690892e-01 -8.13696688e+02]\n",
            "[ 2.08668606e+01 -3.00740440e-01 -8.13722551e+02]\n",
            "[ 2.10781396e+01 -3.03790078e-01 -8.13748416e+02]\n",
            "[ 2.12894186e+01 -3.06839803e-01 -8.13774281e+02]\n",
            "[ 2.15006974e+01 -3.09889615e-01 -8.13800147e+02]\n",
            "[ 2.17119760e+01 -3.12939513e-01 -8.13826013e+02]\n",
            "[ 2.19232546e+01 -3.15989495e-01 -8.13851881e+02]\n",
            "[ 2.21345330e+01 -3.19039562e-01 -8.13877749e+02]\n",
            "[ 2.23458113e+01 -3.22089712e-01 -8.13903618e+02]\n",
            "[ 2.25570895e+01 -3.25139945e-01 -8.13929488e+02]\n",
            "[ 2.27683676e+01 -3.28190258e-01 -8.13955359e+02]\n",
            "[ 2.29796456e+01 -3.31240652e-01 -8.13981230e+02]\n",
            "[ 2.31909235e+01 -3.34291125e-01 -8.14007102e+02]\n",
            "[ 2.34022012e+01 -3.37341677e-01 -8.14032975e+02]\n",
            "[ 2.36134788e+01 -3.40392307e-01 -8.14058848e+02]\n",
            "[ 2.38247564e+01 -3.43443014e-01 -8.14084722e+02]\n",
            "[ 2.40360338e+01 -3.46493796e-01 -8.14110597e+02]\n",
            "[ 2.42473111e+01 -3.49544654e-01 -8.14136473e+02]\n",
            "[ 2.44585883e+01 -3.52595586e-01 -8.14162349e+02]\n",
            "[ 2.46698654e+01 -3.55646592e-01 -8.14188226e+02]\n",
            "[ 2.48811424e+01 -3.58697671e-01 -8.14214103e+02]\n",
            "[ 2.50924193e+01 -3.61748821e-01 -8.14239981e+02]\n",
            "[ 2.53036960e+01 -3.64800043e-01 -8.14265860e+02]\n",
            "[ 2.55149727e+01 -3.67851335e-01 -8.14291740e+02]\n",
            "[ 2.57262493e+01 -3.70902697e-01 -8.14317620e+02]\n",
            "[ 2.59375258e+01 -3.73954128e-01 -8.14343500e+02]\n",
            "[ 2.61488022e+01 -3.77005627e-01 -8.14369382e+02]\n",
            "[ 2.63600785e+01 -3.80057194e-01 -8.14395264e+02]\n",
            "[ 2.65713547e+01 -3.83108828e-01 -8.14421146e+02]\n",
            "[ 2.67826308e+01 -3.86160527e-01 -8.14447030e+02]\n",
            "[ 2.69939068e+01 -3.89212293e-01 -8.14472913e+02]\n",
            "[ 2.72051827e+01 -3.92264122e-01 -8.14498798e+02]\n",
            "[ 2.74164586e+01 -3.95316016e-01 -8.14524683e+02]\n",
            "[ 2.76277343e+01 -3.98367974e-01 -8.14550568e+02]\n",
            "[ 2.78390100e+01 -4.01419994e-01 -8.14576454e+02]\n",
            "[ 2.80502855e+01 -4.04472076e-01 -8.14602341e+02]\n",
            "[ 2.82615610e+01 -4.07524220e-01 -8.14628228e+02]\n",
            "[ 2.84728364e+01 -4.10576425e-01 -8.14654116e+02]\n",
            "[ 2.86841117e+01 -4.13628690e-01 -8.14680004e+02]\n",
            "[ 2.88953869e+01 -4.16681015e-01 -8.14705893e+02]\n",
            "[ 2.91066620e+01 -4.19733398e-01 -8.14731783e+02]\n",
            "[ 2.93179371e+01 -4.22785841e-01 -8.14757673e+02]\n",
            "[ 2.95292120e+01 -4.25838341e-01 -8.14783563e+02]\n",
            "[ 2.97404869e+01 -4.28890898e-01 -8.14809454e+02]\n",
            "[ 2.99517617e+01 -4.31943512e-01 -8.14835346e+02]\n",
            "[ 3.01630364e+01 -4.34996183e-01 -8.14861238e+02]\n",
            "[ 3.03743111e+01 -4.38048909e-01 -8.14887130e+02]\n",
            "[ 3.05855856e+01 -4.41101690e-01 -8.14913023e+02]\n",
            "[ 3.07968601e+01 -4.44154526e-01 -8.14938917e+02]\n",
            "[ 3.10081345e+01 -4.47207416e-01 -8.14964811e+02]\n",
            "[ 3.12194089e+01 -4.50260359e-01 -8.14990705e+02]\n",
            "[ 3.14306831e+01 -4.53313356e-01 -8.15016600e+02]\n",
            "[ 3.16419573e+01 -4.56366405e-01 -8.15042496e+02]\n",
            "[ 3.18532314e+01 -4.59419506e-01 -8.15068392e+02]\n",
            "[ 3.20645054e+01 -4.62472659e-01 -8.15094288e+02]\n",
            "[ 3.22757794e+01 -4.65525863e-01 -8.15120185e+02]\n",
            "[ 3.24870533e+01 -4.68579117e-01 -8.15146082e+02]\n",
            "[ 3.26983271e+01 -4.71632422e-01 -8.15171980e+02]\n",
            "[ 3.29096008e+01 -4.74685776e-01 -8.15197878e+02]\n",
            "[ 3.31208745e+01 -4.77739179e-01 -8.15223777e+02]\n",
            "[ 3.33321481e+01 -4.80792631e-01 -8.15249676e+02]\n",
            "[ 3.35434217e+01 -4.83846132e-01 -8.15275576e+02]\n",
            "[ 3.37546951e+01 -4.86899680e-01 -8.15301476e+02]\n",
            "[ 3.39659685e+01 -4.89953276e-01 -8.15327376e+02]\n",
            "[ 3.41772419e+01 -4.93006919e-01 -8.15353277e+02]\n",
            "[ 3.43885151e+01 -4.96060609e-01 -8.15379179e+02]\n",
            "[ 3.45997883e+01 -4.99114344e-01 -8.15405080e+02]\n",
            "[ 3.48110615e+01 -5.02168126e-01 -8.15430983e+02]\n",
            "[ 3.50223345e+01 -5.05221953e-01 -8.15456885e+02]\n",
            "[ 3.52336076e+01 -5.08275825e-01 -8.15482788e+02]\n",
            "[ 3.54448805e+01 -5.11329742e-01 -8.15508691e+02]\n",
            "[ 3.56561534e+01 -5.14383702e-01 -8.15534595e+02]\n",
            "[ 3.58674262e+01 -5.17437707e-01 -8.15560499e+02]\n",
            "[ 3.60786990e+01 -5.20491755e-01 -8.15586404e+02]\n",
            "[ 3.62899716e+01 -5.23545847e-01 -8.15612309e+02]\n",
            "[ 3.65012443e+01 -5.26599981e-01 -8.15638214e+02]\n",
            "[ 3.67125169e+01 -5.29654157e-01 -8.15664120e+02]\n",
            "[ 3.69237894e+01 -5.32708375e-01 -8.15690026e+02]\n",
            "[ 3.71350618e+01 -5.35762636e-01 -8.15715933e+02]\n",
            "[ 3.73463342e+01 -5.38816937e-01 -8.15741840e+02]\n",
            "[ 3.75576065e+01 -5.41871279e-01 -8.15767747e+02]\n",
            "[ 3.77688788e+01 -5.44925662e-01 -8.15793655e+02]\n",
            "[ 3.79801510e+01 -5.47980086e-01 -8.15819563e+02]\n",
            "[ 3.81914232e+01 -5.51034549e-01 -8.15845471e+02]\n",
            "[ 3.84026953e+01 -5.54089052e-01 -8.15871380e+02]\n",
            "[ 3.86139674e+01 -5.57143595e-01 -8.15897289e+02]\n",
            "[ 3.88252394e+01 -5.60198176e-01 -8.15923198e+02]\n",
            "[ 3.90365113e+01 -5.63252796e-01 -8.15949108e+02]\n",
            "[ 3.92477832e+01 -5.66307455e-01 -8.15975018e+02]\n",
            "[ 3.94590550e+01 -5.69362151e-01 -8.16000929e+02]\n",
            "[ 3.96703268e+01 -5.72416886e-01 -8.16026840e+02]\n",
            "[ 3.98815985e+01 -5.75471657e-01 -8.16052751e+02]\n",
            "[ 4.00928702e+01 -5.78526467e-01 -8.16078662e+02]\n",
            "[ 4.03041418e+01 -5.81581313e-01 -8.16104574e+02]\n",
            "[ 4.05154134e+01 -5.84636195e-01 -8.16130486e+02]\n",
            "[ 4.07266849e+01 -5.87691114e-01 -8.16156399e+02]\n",
            "[ 4.09379563e+01 -5.90746070e-01 -8.16182312e+02]\n",
            "[ 4.11492278e+01 -5.93801061e-01 -8.16208225e+02]\n",
            "[ 4.13604991e+01 -5.96856087e-01 -8.16234138e+02]\n",
            "[ 4.15717704e+01 -5.99911149e-01 -8.16260052e+02]\n",
            "[ 4.17830417e+01 -6.02966245e-01 -8.16285966e+02]\n",
            "[ 4.19943129e+01 -6.06021377e-01 -8.16311881e+02]\n",
            "[ 4.22055841e+01 -6.09076543e-01 -8.16337796e+02]\n",
            "[ 4.24168552e+01 -6.12131743e-01 -8.16363711e+02]\n",
            "[ 4.26281262e+01 -6.15186977e-01 -8.16389626e+02]\n",
            "[ 4.28393973e+01 -6.18242245e-01 -8.16415542e+02]\n",
            "[ 4.30506682e+01 -6.21297546e-01 -8.16441458e+02]\n",
            "[ 4.32619391e+01 -6.24352881e-01 -8.16467374e+02]\n",
            "[ 4.34732100e+01 -6.27408248e-01 -8.16493291e+02]\n",
            "[ 4.36844808e+01 -6.30463648e-01 -8.16519208e+02]\n",
            "[ 4.38957516e+01 -6.33519081e-01 -8.16545125e+02]\n",
            "[ 4.41070224e+01 -6.36574546e-01 -8.16571042e+02]\n",
            "[ 4.43182930e+01 -6.39630043e-01 -8.16596960e+02]\n",
            "[ 4.45295637e+01 -6.42685572e-01 -8.16622878e+02]\n",
            "[ 4.47408343e+01 -6.45741132e-01 -8.16648797e+02]\n",
            "[ 4.49521048e+01 -6.48796724e-01 -8.16674715e+02]\n",
            "[ 4.51633754e+01 -6.51852347e-01 -8.16700634e+02]\n",
            "[ 4.53746458e+01 -6.54908001e-01 -8.16726554e+02]\n",
            "[ 4.55859162e+01 -6.57963685e-01 -8.16752473e+02]\n",
            "[ 4.57971866e+01 -6.61019400e-01 -8.16778393e+02]\n",
            "[ 4.60084570e+01 -6.64075145e-01 -8.16804313e+02]\n",
            "[ 4.62197272e+01 -6.67130921e-01 -8.16830233e+02]\n",
            "[ 4.64309975e+01 -6.70186726e-01 -8.16856154e+02]\n",
            "[ 4.66422677e+01 -6.73242561e-01 -8.16882075e+02]\n",
            "[ 4.68535379e+01 -6.76298425e-01 -8.16907996e+02]\n",
            "[ 4.70648080e+01 -6.79354319e-01 -8.16933917e+02]\n",
            "[ 4.72760781e+01 -6.82410241e-01 -8.16959839e+02]\n",
            "[ 4.74873481e+01 -6.85466193e-01 -8.16985761e+02]\n",
            "[ 4.76986181e+01 -6.88522173e-01 -8.17011683e+02]\n",
            "[ 4.79098881e+01 -6.91578181e-01 -8.17037606e+02]\n",
            "[ 4.81211580e+01 -6.94634218e-01 -8.17063528e+02]\n",
            "[ 4.83324279e+01 -6.97690283e-01 -8.17089451e+02]\n",
            "[ 4.85436977e+01 -7.00746376e-01 -8.17115374e+02]\n",
            "[ 4.87549675e+01 -7.03802496e-01 -8.17141298e+02]\n",
            "[ 4.89662373e+01 -7.06858644e-01 -8.17167222e+02]\n",
            "[ 4.91775070e+01 -7.09914820e-01 -8.17193146e+02]\n",
            "[ 4.93887767e+01 -7.12971022e-01 -8.17219070e+02]\n",
            "[ 4.96000463e+01 -7.16027252e-01 -8.17244994e+02]\n",
            "[ 4.98113159e+01 -7.19083508e-01 -8.17270919e+02]\n",
            "[ 5.00225855e+01 -7.22139791e-01 -8.17296844e+02]\n",
            "[ 5.02338550e+01 -7.25196100e-01 -8.17322769e+02]\n",
            "[ 5.04451245e+01 -7.28252436e-01 -8.17348695e+02]\n",
            "[ 5.06563940e+01 -7.31308798e-01 -8.17374620e+02]\n",
            "[ 5.08676634e+01 -7.34365185e-01 -8.17400546e+02]\n",
            "[ 5.10789328e+01 -7.37421599e-01 -8.17426472e+02]\n",
            "[ 5.12902021e+01 -7.40478038e-01 -8.17452399e+02]\n",
            "[ 5.15014714e+01 -7.43534502e-01 -8.17478325e+02]\n",
            "[ 5.17127407e+01 -7.46590992e-01 -8.17504252e+02]\n",
            "[ 5.19240099e+01 -7.49647507e-01 -8.17530179e+02]\n",
            "[ 5.21352791e+01 -7.52704046e-01 -8.17556107e+02]\n",
            "[ 5.23465483e+01 -7.55760611e-01 -8.17582034e+02]\n",
            "[ 5.25578174e+01 -7.58817200e-01 -8.17607962e+02]\n",
            "[ 5.27690865e+01 -7.61873814e-01 -8.17633890e+02]\n",
            "[ 5.29803556e+01 -7.64930452e-01 -8.17659818e+02]\n",
            "[ 5.31916246e+01 -7.67987114e-01 -8.17685747e+02]\n",
            "[ 5.34028936e+01 -7.71043800e-01 -8.17711675e+02]\n",
            "[ 5.36141626e+01 -7.74100510e-01 -8.17737604e+02]\n",
            "[ 5.38254315e+01 -7.77157243e-01 -8.17763533e+02]\n",
            "[ 5.40367004e+01 -7.80214001e-01 -8.17789462e+02]\n",
            "[ 5.42479692e+01 -7.83270781e-01 -8.17815392e+02]\n",
            "[ 5.44592381e+01 -7.86327585e-01 -8.17841322e+02]\n",
            "[ 5.46705069e+01 -7.89384412e-01 -8.17867252e+02]\n",
            "[ 5.48817756e+01 -7.92441262e-01 -8.17893182e+02]\n",
            "[ 5.50930443e+01 -7.95498135e-01 -8.17919112e+02]\n",
            "[ 5.53043130e+01 -7.98555030e-01 -8.17945043e+02]\n",
            "[ 5.55155817e+01 -8.01611948e-01 -8.17970973e+02]\n",
            "[ 5.57268503e+01 -8.04668888e-01 -8.17996904e+02]\n",
            "[ 5.59381189e+01 -8.07725851e-01 -8.18022835e+02]\n",
            "[ 5.61493875e+01 -8.10782835e-01 -8.18048767e+02]\n",
            "[ 5.63606560e+01 -8.13839842e-01 -8.18074698e+02]\n",
            "[ 5.65719245e+01 -8.16896870e-01 -8.18100630e+02]\n",
            "[  56.78319301   -0.81995392 -818.12656203]\n",
            "[  56.99446145   -0.82301099 -818.15249418]\n",
            "[  57.20572986   -0.82606809 -818.17842653]\n",
            "[  57.41699825   -0.8291252  -818.20435907]\n",
            "[  57.6282666    -0.83218233 -818.2302918 ]\n",
            "[  57.83953492   -0.83523949 -818.25622473]\n",
            "[  58.05080321   -0.83829667 -818.28215784]\n",
            "[  58.26207147   -0.84135387 -818.30809115]\n",
            "[  58.47333971   -0.84441109 -818.33402464]\n",
            "[  58.68460791   -0.84746833 -818.35995832]\n",
            "[  58.89587608   -0.85052559 -818.38589218]\n",
            "[  59.10714423   -0.85358287 -818.41182623]\n",
            "[  59.31841235   -0.85664017 -818.43776047]\n",
            "[  59.52968043   -0.85969749 -818.46369488]\n",
            "[  59.74094849   -0.86275483 -818.48962948]\n",
            "[  59.95221653   -0.86581219 -818.51556426]\n",
            "[  60.16348453   -0.86886956 -818.54149921]\n",
            "[  60.37475251   -0.87192696 -818.56743435]\n",
            "[  60.58602045   -0.87498438 -818.59336966]\n",
            "[  60.79728837   -0.87804182 -818.61930514]\n",
            "[  61.00855627   -0.88109928 -818.6452408 ]\n",
            "[  61.21982413   -0.88415675 -818.67117664]\n",
            "[  61.43109197   -0.88721425 -818.69711264]\n",
            "[  61.64235979   -0.89027176 -818.72304882]\n",
            "[  61.85362757   -0.89332929 -818.74898517]\n",
            "[  62.06489533   -0.89638684 -818.77492169]\n",
            "[  62.27616306   -0.89944441 -818.80085837]\n",
            "[  62.48743077   -0.902502   -818.82679522]\n",
            "[  62.69869845   -0.9055596  -818.85273224]\n",
            "[  62.90996611   -0.90861723 -818.87866943]\n",
            "[  63.12123374   -0.91167487 -818.90460677]\n",
            "[  63.33250134   -0.91473253 -818.93054428]\n",
            "[  63.54376892   -0.91779021 -818.95648196]\n",
            "[  63.75503647   -0.9208479  -818.98241979]\n",
            "[  63.966304     -0.92390561 -819.00835778]\n",
            "[  64.17757151   -0.92696334 -819.03429593]\n",
            "[  64.38883898   -0.93002109 -819.06023424]\n",
            "[  64.60010644   -0.93307886 -819.08617271]\n",
            "[  64.81137387   -0.93613664 -819.11211133]\n",
            "[  65.02264127   -0.93919444 -819.13805011]\n",
            "[  65.23390866   -0.94225225 -819.16398904]\n",
            "[  65.44517601   -0.94531008 -819.18992813]\n",
            "[  65.65644335   -0.94836793 -819.21586736]\n",
            "[  65.86771066   -0.9514258  -819.24180675]\n",
            "[  66.07897794   -0.95448368 -819.26774629]\n",
            "[  66.29024521   -0.95754158 -819.29368598]\n",
            "[  66.50151245   -0.96059949 -819.31962581]\n",
            "[  66.71277966   -0.96365742 -819.3455658 ]\n",
            "[  66.92404686   -0.96671537 -819.37150593]\n",
            "[  67.13531403   -0.96977333 -819.3974462 ]\n",
            "[  67.34658118   -0.97283131 -819.42338662]\n",
            "[  67.55784831   -0.97588931 -819.44932718]\n",
            "[  67.76911541   -0.97894732 -819.47526789]\n",
            "[  67.98038249   -0.98200534 -819.50120874]\n",
            "[  68.19164955   -0.98506338 -819.52714973]\n",
            "[  68.40291659   -0.98812144 -819.55309086]\n",
            "[  68.6141836    -0.99117951 -819.57903212]\n",
            "[  68.8254506    -0.9942376  -819.60497353]\n",
            "[  69.03671757   -0.9972957  -819.63091508]\n",
            "[  69.24798452   -1.00035382 -819.65685676]\n",
            "[  69.45925145   -1.00341195 -819.68279857]\n",
            "[  69.67051836   -1.0064701  -819.70874052]\n",
            "[  69.88178525   -1.00952826 -819.73468261]\n",
            "[  70.09305212   -1.01258644 -819.76062483]\n",
            "[  70.30431896   -1.01564463 -819.78656718]\n",
            "[  70.51558579   -1.01870283 -819.81250966]\n",
            "[  70.7268526    -1.02176105 -819.83845227]\n",
            "[  70.93811938   -1.02481928 -819.86439501]\n",
            "[  71.14938615   -1.02787753 -819.89033789]\n",
            "[  71.36065289   -1.03093579 -819.91628089]\n",
            "[  71.57191962   -1.03399407 -819.94222401]\n",
            "[  71.78318632   -1.03705236 -819.96816727]\n",
            "[  71.99445301   -1.04011066 -819.99411064]\n",
            "[  72.20571967   -1.04316898 -820.02005415]\n",
            "[  72.41698632   -1.04622731 -820.04599778]\n",
            "[  72.62825295   -1.04928565 -820.07194153]\n",
            "[  72.83951955   -1.05234401 -820.0978854 ]\n",
            "[  73.05078614   -1.05540238 -820.12382939]\n",
            "[  73.26205271   -1.05846077 -820.14977351]\n",
            "[  73.47331927   -1.06151916 -820.17571775]\n",
            "[  73.6845858    -1.06457757 -820.2016621 ]\n",
            "[  73.89585231   -1.067636   -820.22760657]\n",
            "[  74.10711881   -1.07069443 -820.25355117]\n",
            "[  74.31838529   -1.07375288 -820.27949587]\n",
            "[  74.52965175   -1.07681135 -820.3054407 ]\n",
            "[  74.74091819   -1.07986982 -820.33138564]\n",
            "[  74.95218461   -1.08292831 -820.35733069]\n",
            "[  75.16345102   -1.08598681 -820.38327586]\n",
            "[  75.3747174    -1.08904532 -820.40922114]\n",
            "[  75.58598377   -1.09210384 -820.43516654]\n",
            "[  75.79725013   -1.09516238 -820.46111204]\n",
            "[  76.00851646   -1.09822093 -820.48705766]\n",
            "[  76.21978278   -1.10127949 -820.51300339]\n",
            "[  76.43104908   -1.10433806 -820.53894922]\n",
            "[  76.64231537   -1.10739665 -820.56489517]\n",
            "[  76.85358163   -1.11045524 -820.59084122]\n",
            "[  77.06484788   -1.11351385 -820.61678738]\n",
            "[  77.27611412   -1.11657247 -820.64273365]\n",
            "[  77.48738033   -1.11963111 -820.66868002]\n",
            "[  77.69864653   -1.12268975 -820.6946265 ]\n",
            "[  77.90991272   -1.1257484  -820.72057308]\n",
            "[  78.12117889   -1.12880707 -820.74651977]\n",
            "[  78.33244504   -1.13186575 -820.77246656]\n",
            "[  78.54371117   -1.13492444 -820.79841345]\n",
            "[  78.75497729   -1.13798314 -820.82436045]\n",
            "[  78.9662434    -1.14104185 -820.85030754]\n",
            "[  79.17750949   -1.14410057 -820.87625474]\n",
            "[  79.38877556   -1.1471593  -820.90220203]\n",
            "[  79.60004162   -1.15021805 -820.92814942]\n",
            "[  79.81130766   -1.1532768  -820.95409692]\n",
            "[  80.02257369   -1.15633557 -820.98004451]\n",
            "[  80.2338397    -1.15939434 -821.00599219]\n",
            "[  80.44510569   -1.16245313 -821.03193998]\n",
            "[  80.65637167   -1.16551193 -821.05788786]\n",
            "[  80.86763764   -1.16857073 -821.08383583]\n",
            "[  81.07890359   -1.17162955 -821.1097839 ]\n",
            "[  81.29016953   -1.17468838 -821.13573206]\n",
            "[  81.50143545   -1.17774722 -821.16168032]\n",
            "[  81.71270136   -1.18080607 -821.18762867]\n",
            "[  81.92396725   -1.18386492 -821.21357711]\n",
            "[  82.13523313   -1.18692379 -821.23952564]\n",
            "[  82.346499     -1.18998267 -821.26547426]\n",
            "[  82.55776485   -1.19304156 -821.29142297]\n",
            "[  82.76903069   -1.19610046 -821.31737177]\n",
            "[  82.98029651   -1.19915937 -821.34332066]\n",
            "[  83.19156232   -1.20221828 -821.36926964]\n",
            "[  83.40282811   -1.20527721 -821.39521871]\n",
            "[  83.6140939    -1.20833615 -821.42116786]\n",
            "[  83.82535966   -1.21139509 -821.4471171 ]\n",
            "[  84.03662542   -1.21445405 -821.47306642]\n",
            "[  84.24789116   -1.21751302 -821.49901583]\n",
            "[  84.45915689   -1.22057199 -821.52496533]\n",
            "[  84.67042261   -1.22363097 -821.55091491]\n",
            "[  84.88168831   -1.22668997 -821.57686457]\n",
            "[  85.092954     -1.22974897 -821.60281431]\n",
            "[  85.30421967   -1.23280798 -821.62876414]\n",
            "[  85.51548534   -1.235867   -821.65471405]\n",
            "[  85.72675099   -1.23892603 -821.68066404]\n",
            "[  85.93801663   -1.24198506 -821.70661411]\n",
            "[  86.14928225   -1.24504411 -821.73256426]\n",
            "[  86.36054787   -1.24810317 -821.75851449]\n",
            "[  86.57181347   -1.25116223 -821.7844648 ]\n",
            "[  86.78307906   -1.2542213  -821.81041518]\n",
            "[  86.99434463   -1.25728038 -821.83636565]\n",
            "[  87.2056102    -1.26033947 -821.86231619]\n",
            "[  87.41687575   -1.26339857 -821.88826681]\n",
            "[  87.62814129   -1.26645767 -821.9142175 ]\n",
            "[  87.83940682   -1.26951679 -821.94016827]\n",
            "[  88.05067234   -1.27257591 -821.96611912]\n",
            "[  88.26193784   -1.27563504 -821.99207003]\n",
            "[  88.47320334   -1.27869418 -822.01802103]\n",
            "[  88.68446882   -1.28175333 -822.04397209]\n",
            "[  88.89573429   -1.28481248 -822.06992323]\n",
            "[  89.10699975   -1.28787164 -822.09587444]\n",
            "[  89.3182652    -1.29093081 -822.12182573]\n",
            "[  89.52953064   -1.29398999 -822.14777708]\n",
            "[  89.74079606   -1.29704918 -822.17372851]\n",
            "[  89.95206148   -1.30010837 -822.19968   ]\n",
            "[  90.16332688   -1.30316757 -822.22563157]\n",
            "[  90.37459228   -1.30622678 -822.2515832 ]\n",
            "[  90.58585766   -1.309286   -822.27753491]\n",
            "[  90.79712303   -1.31234522 -822.30348668]\n",
            "[  91.00838839   -1.31540446 -822.32943852]\n",
            "[  91.21965375   -1.31846369 -822.35539042]\n",
            "[  91.43091909   -1.32152294 -822.3813424 ]\n",
            "[  91.64218442   -1.32458219 -822.40729444]\n",
            "[  91.85344974   -1.32764145 -822.43324654]\n",
            "[  92.06471505   -1.33070072 -822.45919871]\n",
            "[  92.27598035   -1.33376    -822.48515095]\n",
            "[  92.48724563   -1.33681928 -822.51110325]\n",
            "[  92.69851091   -1.33987857 -822.53705561]\n",
            "[  92.90977618   -1.34293786 -822.56300804]\n",
            "[  93.12104144   -1.34599717 -822.58896053]\n",
            "[  93.33230669   -1.34905648 -822.61491308]\n",
            "[  93.54357193   -1.35211579 -822.6408657 ]\n",
            "[  93.75483716   -1.35517512 -822.66681837]\n",
            "[  93.96610239   -1.35823445 -822.69277111]\n",
            "[  94.1773676    -1.36129378 -822.71872391]\n",
            "[  94.3886328    -1.36435313 -822.74467677]\n",
            "[  94.59989799   -1.36741248 -822.77062969]\n",
            "[  94.81116318   -1.37047183 -822.79658266]\n",
            "[  95.02242835   -1.3735312  -822.8225357 ]\n",
            "[  95.23369351   -1.37659057 -822.84848879]\n",
            "[  95.44495867   -1.37964994 -822.87444195]\n",
            "[  95.65622382   -1.38270932 -822.90039516]\n",
            "[  95.86748896   -1.38576871 -822.92634842]\n",
            "[  96.07875409   -1.38882811 -822.95230175]\n",
            "[  96.29001921   -1.39188751 -822.97825513]\n",
            "[  96.50128432   -1.39494691 -823.00420856]\n",
            "[  96.71254942   -1.39800633 -823.03016206]\n",
            "[  96.92381452   -1.40106574 -823.0561156 ]\n",
            "[  97.1350796    -1.40412517 -823.0820692 ]\n",
            "[  97.34634468   -1.4071846  -823.10802286]\n",
            "[  97.55760975   -1.41024404 -823.13397657]\n",
            "[  97.76887481   -1.41330348 -823.15993033]\n",
            "[  97.98013986   -1.41636293 -823.18588414]\n",
            "[  98.19140491   -1.41942238 -823.21183801]\n",
            "[  98.40266994   -1.42248184 -823.23779193]\n",
            "[  98.61393497   -1.42554131 -823.2637459 ]\n",
            "[  98.82519999   -1.42860078 -823.28969993]\n",
            "[  99.036465     -1.43166025 -823.315654  ]\n",
            "[  99.24773001   -1.43471974 -823.34160812]\n",
            "[  99.458995     -1.43777922 -823.3675623 ]\n",
            "[  99.67025999   -1.44083872 -823.39351652]\n",
            "[  99.88152497   -1.44389822 -823.41947079]\n",
            "[ 100.09278994   -1.44695772 -823.44542512]\n",
            "[ 100.30405491   -1.45001723 -823.47137949]\n",
            "[ 100.51531987   -1.45307674 -823.49733391]\n",
            "[ 100.72658482   -1.45613626 -823.52328837]\n",
            "[ 100.93784976   -1.45919579 -823.54924289]\n",
            "[ 101.1491147    -1.46225532 -823.57519745]\n",
            "[ 101.36037962   -1.46531485 -823.60115206]\n",
            "[ 101.57164455   -1.46837439 -823.62710671]\n",
            "[ 101.78290946   -1.47143394 -823.65306141]\n",
            "[ 101.99417437   -1.47449349 -823.67901616]\n",
            "[ 102.20543927   -1.47755304 -823.70497095]\n",
            "[ 102.41670416   -1.4806126  -823.73092578]\n",
            "[ 102.62796904   -1.48367217 -823.75688066]\n",
            "[ 102.83923392   -1.48673174 -823.78283559]\n",
            "[ 103.05049879   -1.48979131 -823.80879056]\n",
            "[ 103.26176366   -1.49285089 -823.83474557]\n",
            "[ 103.47302852   -1.49591048 -823.86070062]\n",
            "[ 103.68429337   -1.49897007 -823.88665572]\n",
            "[ 103.89555822   -1.50202966 -823.91261086]\n",
            "[ 104.10682305   -1.50508926 -823.93856604]\n",
            "[ 104.31808789   -1.50814886 -823.96452127]\n",
            "[ 104.52935271   -1.51120847 -823.99047653]\n",
            "[ 104.74061753   -1.51426808 -824.01643184]\n",
            "[ 104.95188234   -1.5173277  -824.04238718]\n",
            "[ 105.16314715   -1.52038732 -824.06834257]\n",
            "[ 105.37441195   -1.52344694 -824.094298  ]\n",
            "[ 105.58567674   -1.52650657 -824.12025347]\n",
            "[ 105.79694153   -1.52956621 -824.14620897]\n",
            "[ 106.00820631   -1.53262584 -824.17216452]\n",
            "[ 106.21947109   -1.53568549 -824.1981201 ]\n",
            "[ 106.43073586   -1.53874513 -824.22407573]\n",
            "[ 106.64200062   -1.54180478 -824.25003139]\n",
            "[ 106.85326538   -1.54486444 -824.27598708]\n",
            "[ 107.06453013   -1.5479241  -824.30194282]\n",
            "[ 107.27579488   -1.55098376 -824.32789859]\n",
            "[ 107.48705962   -1.55404343 -824.3538544 ]\n",
            "[ 107.69832435   -1.5571031  -824.37981025]\n",
            "[ 107.90958908   -1.56016277 -824.40576613]\n",
            "[ 108.1208538    -1.56322245 -824.43172205]\n",
            "[ 108.33211852   -1.56628214 -824.45767801]\n",
            "[ 108.54338323   -1.56934182 -824.483634  ]\n",
            "[ 108.75464794   -1.57240151 -824.50959002]\n",
            "[ 108.96591264   -1.57546121 -824.53554608]\n",
            "[ 109.17717734   -1.57852091 -824.56150218]\n",
            "[ 109.38844203   -1.58158061 -824.58745831]\n",
            "[ 109.59970671   -1.58464031 -824.61341447]\n",
            "[ 109.81097139   -1.58770002 -824.63937066]\n",
            "[ 110.02223607   -1.59075974 -824.66532689]\n",
            "[ 110.23350074   -1.59381945 -824.69128315]\n",
            "[ 110.4447654    -1.59687917 -824.71723945]\n",
            "[ 110.65603006   -1.5999389  -824.74319578]\n",
            "[ 110.86729471   -1.60299863 -824.76915214]\n",
            "[ 111.07855936   -1.60605836 -824.79510853]\n",
            "[ 111.28982401   -1.60911809 -824.82106495]\n",
            "[ 111.50108865   -1.61217783 -824.8470214 ]\n",
            "[ 111.71235328   -1.61523757 -824.87297789]\n",
            "[ 111.92361791   -1.61829731 -824.89893441]\n",
            "[ 112.13488254   -1.62135706 -824.92489095]\n",
            "[ 112.34614716   -1.62441681 -824.95084753]\n",
            "[ 112.55741177   -1.62747657 -824.97680414]\n",
            "[ 112.76867638   -1.63053633 -825.00276077]\n",
            "[ 112.97994099   -1.63359609 -825.02871744]\n",
            "[ 113.19120559   -1.63665585 -825.05467413]\n",
            "[ 113.40247019   -1.63971562 -825.08063086]\n",
            "[ 113.61373478   -1.64277539 -825.10658761]\n",
            "[ 113.82499937   -1.64583516 -825.13254439]\n",
            "[ 114.03626395   -1.64889494 -825.1585012 ]\n",
            "[ 114.24752853   -1.65195472 -825.18445804]\n",
            "[ 114.45879311   -1.6550145  -825.2104149 ]\n",
            "[ 114.67005768   -1.65807429 -825.23637179]\n",
            "[ 114.88132224   -1.66113408 -825.26232871]\n",
            "[ 115.09258681   -1.66419387 -825.28828566]\n",
            "[ 115.30385137   -1.66725366 -825.31424263]\n",
            "[ 115.51511592   -1.67031346 -825.34019963]\n",
            "[ 115.72638047   -1.67337326 -825.36615666]\n",
            "[ 115.93764502   -1.67643306 -825.39211371]\n",
            "[ 116.14890956   -1.67949287 -825.41807079]\n",
            "[ 116.3601741    -1.68255268 -825.44402789]\n",
            "[ 116.57143863   -1.68561249 -825.46998502]\n",
            "[ 116.78270316   -1.6886723  -825.49594217]\n"
          ],
          "name": "stdout"
        },
        {
          "output_type": "error",
          "ename": "KeyboardInterrupt",
          "evalue": "ignored",
          "traceback": [
            "\u001b[0;31m---------------------------------------------------------------------------\u001b[0m",
            "\u001b[0;31mKeyboardInterrupt\u001b[0m                         Traceback (most recent call last)",
            "\u001b[0;32m<ipython-input-47-669f37931429>\u001b[0m in \u001b[0;36m<module>\u001b[0;34m()\u001b[0m\n\u001b[1;32m      1\u001b[0m \u001b[0mweights\u001b[0m \u001b[0;34m=\u001b[0m \u001b[0;34m[\u001b[0m\u001b[0;36m100\u001b[0m\u001b[0;34m,\u001b[0m \u001b[0;36m100\u001b[0m\u001b[0;34m,\u001b[0m \u001b[0;36m100\u001b[0m\u001b[0;34m]\u001b[0m\u001b[0;34m\u001b[0m\u001b[0;34m\u001b[0m\u001b[0m\n\u001b[1;32m      2\u001b[0m \u001b[0mlearning_rate\u001b[0m \u001b[0;34m=\u001b[0m \u001b[0;34m[\u001b[0m\u001b[0;36m.01\u001b[0m\u001b[0;34m,\u001b[0m \u001b[0;36m.0001\u001b[0m\u001b[0;34m,\u001b[0m \u001b[0;36m.001\u001b[0m\u001b[0;34m]\u001b[0m\u001b[0;34m\u001b[0m\u001b[0;34m\u001b[0m\u001b[0m\n\u001b[0;32m----> 3\u001b[0;31m \u001b[0mfinal_weights\u001b[0m \u001b[0;34m=\u001b[0m \u001b[0mrun\u001b[0m\u001b[0;34m(\u001b[0m\u001b[0mweights\u001b[0m\u001b[0;34m,\u001b[0m \u001b[0mx_train\u001b[0m\u001b[0;34m,\u001b[0m \u001b[0my_train\u001b[0m\u001b[0;34m.\u001b[0m\u001b[0mreshape\u001b[0m\u001b[0;34m(\u001b[0m\u001b[0;34m-\u001b[0m\u001b[0;36m1\u001b[0m\u001b[0;34m,\u001b[0m \u001b[0;36m1\u001b[0m\u001b[0;34m)\u001b[0m\u001b[0;34m,\u001b[0m \u001b[0mlearning_rate\u001b[0m\u001b[0;34m)\u001b[0m\u001b[0;34m\u001b[0m\u001b[0;34m\u001b[0m\u001b[0m\n\u001b[0m",
            "\u001b[0;32m<ipython-input-37-ac157a6e56b6>\u001b[0m in \u001b[0;36mrun\u001b[0;34m(weights, features, targets, learning_rate)\u001b[0m\n\u001b[1;32m      3\u001b[0m   \u001b[0;32mfor\u001b[0m \u001b[0mstep\u001b[0m \u001b[0;32min\u001b[0m \u001b[0mrange\u001b[0m\u001b[0;34m(\u001b[0m\u001b[0;36m1000000\u001b[0m\u001b[0;34m)\u001b[0m\u001b[0;34m:\u001b[0m\u001b[0;34m\u001b[0m\u001b[0;34m\u001b[0m\u001b[0m\n\u001b[1;32m      4\u001b[0m     \u001b[0mprev_weights\u001b[0m \u001b[0;34m=\u001b[0m \u001b[0mweights\u001b[0m\u001b[0;34m\u001b[0m\u001b[0;34m\u001b[0m\u001b[0m\n\u001b[0;32m----> 5\u001b[0;31m     \u001b[0mweights\u001b[0m \u001b[0;34m=\u001b[0m \u001b[0mcomputeGradientDescentWeightUpdate\u001b[0m\u001b[0;34m(\u001b[0m\u001b[0mweights\u001b[0m\u001b[0;34m,\u001b[0m \u001b[0mfeatures\u001b[0m\u001b[0;34m,\u001b[0m \u001b[0mtargets\u001b[0m\u001b[0;34m,\u001b[0m \u001b[0mlearning_rate\u001b[0m\u001b[0;34m)\u001b[0m\u001b[0;34m\u001b[0m\u001b[0;34m\u001b[0m\u001b[0m\n\u001b[0m\u001b[1;32m      6\u001b[0m     \u001b[0mavg_gradient\u001b[0m \u001b[0;34m=\u001b[0m \u001b[0;34m(\u001b[0m\u001b[0mweights\u001b[0m \u001b[0;34m-\u001b[0m \u001b[0mprev_weights\u001b[0m\u001b[0;34m)\u001b[0m \u001b[0;34m/\u001b[0m \u001b[0mlearning_rate\u001b[0m\u001b[0;34m\u001b[0m\u001b[0;34m\u001b[0m\u001b[0m\n\u001b[1;32m      7\u001b[0m     \u001b[0;32mif\u001b[0m \u001b[0;34m(\u001b[0m\u001b[0mnp\u001b[0m\u001b[0;34m.\u001b[0m\u001b[0mlinalg\u001b[0m\u001b[0;34m.\u001b[0m\u001b[0mnorm\u001b[0m\u001b[0;34m(\u001b[0m\u001b[0mavg_gradient\u001b[0m\u001b[0;34m)\u001b[0m \u001b[0;34m<\u001b[0m \u001b[0mepsilon\u001b[0m\u001b[0;34m)\u001b[0m\u001b[0;34m:\u001b[0m\u001b[0;34m\u001b[0m\u001b[0;34m\u001b[0m\u001b[0m\n",
            "\u001b[0;32m<ipython-input-32-051faf1ff9f1>\u001b[0m in \u001b[0;36mcomputeGradientDescentWeightUpdate\u001b[0;34m(weights, features, targets, learning_rate)\u001b[0m\n\u001b[1;32m      9\u001b[0m   \"\"\"\n\u001b[1;32m     10\u001b[0m \u001b[0;34m\u001b[0m\u001b[0m\n\u001b[0;32m---> 11\u001b[0;31m   \u001b[0mgradient\u001b[0m \u001b[0;34m=\u001b[0m \u001b[0mcomputeMSEBatchGradient\u001b[0m\u001b[0;34m(\u001b[0m\u001b[0mweights\u001b[0m\u001b[0;34m,\u001b[0m \u001b[0mfeatures\u001b[0m\u001b[0;34m,\u001b[0m \u001b[0mtargets\u001b[0m\u001b[0;34m)\u001b[0m\u001b[0;34m\u001b[0m\u001b[0;34m\u001b[0m\u001b[0m\n\u001b[0m\u001b[1;32m     12\u001b[0m   \u001b[0mweights\u001b[0m \u001b[0;34m=\u001b[0m \u001b[0mweights\u001b[0m \u001b[0;34m-\u001b[0m \u001b[0mlearning_rate\u001b[0m \u001b[0;34m*\u001b[0m \u001b[0mgradient\u001b[0m\u001b[0;34m\u001b[0m\u001b[0;34m\u001b[0m\u001b[0m\n\u001b[1;32m     13\u001b[0m \u001b[0;34m\u001b[0m\u001b[0m\n",
            "\u001b[0;32m<ipython-input-46-df2d3b94e8cb>\u001b[0m in \u001b[0;36mcomputeMSEBatchGradient\u001b[0;34m(weights, features, targets)\u001b[0m\n\u001b[1;32m      8\u001b[0m   \u001b[0;34m:\u001b[0m\u001b[0mreturns\u001b[0m\u001b[0;34m:\u001b[0m \u001b[0mvector\u001b[0m \u001b[0mof\u001b[0m \u001b[0mgradient\u001b[0m \u001b[0mvalues\u001b[0m\u001b[0;34m\u001b[0m\u001b[0;34m\u001b[0m\u001b[0m\n\u001b[1;32m      9\u001b[0m   \"\"\"\n\u001b[0;32m---> 10\u001b[0;31m   \u001b[0msigmoid\u001b[0m \u001b[0;34m=\u001b[0m \u001b[0mprobability\u001b[0m\u001b[0;34m(\u001b[0m\u001b[0mweights\u001b[0m\u001b[0;34m,\u001b[0m \u001b[0mfeatures\u001b[0m\u001b[0;34m)\u001b[0m\u001b[0;34m\u001b[0m\u001b[0;34m\u001b[0m\u001b[0m\n\u001b[0m\u001b[1;32m     11\u001b[0m   \u001b[0merrors\u001b[0m \u001b[0;34m=\u001b[0m \u001b[0mtargets\u001b[0m \u001b[0;34m-\u001b[0m \u001b[0msigmoid\u001b[0m\u001b[0;34m\u001b[0m\u001b[0;34m\u001b[0m\u001b[0m\n\u001b[1;32m     12\u001b[0m   gradient = np.array(\n",
            "\u001b[0;32m<ipython-input-45-248b5f709ab0>\u001b[0m in \u001b[0;36mprobability\u001b[0;34m(weights, features)\u001b[0m\n\u001b[1;32m      7\u001b[0m   \"\"\"\n\u001b[1;32m      8\u001b[0m   \u001b[0mpredictions\u001b[0m \u001b[0;34m=\u001b[0m \u001b[0mfeatures\u001b[0m \u001b[0;34m*\u001b[0m \u001b[0mweights\u001b[0m\u001b[0;34m[\u001b[0m\u001b[0;36m1\u001b[0m\u001b[0;34m:\u001b[0m\u001b[0;34m]\u001b[0m \u001b[0;34m+\u001b[0m \u001b[0mweights\u001b[0m\u001b[0;34m[\u001b[0m\u001b[0;36m0\u001b[0m\u001b[0;34m]\u001b[0m  \u001b[0;31m# there is a bug here? I'm not sure how to multiple these features correctly\u001b[0m\u001b[0;34m\u001b[0m\u001b[0;34m\u001b[0m\u001b[0m\n\u001b[0;32m----> 9\u001b[0;31m   \u001b[0msigmoid\u001b[0m \u001b[0;34m=\u001b[0m \u001b[0;36m1\u001b[0m \u001b[0;34m/\u001b[0m \u001b[0;34m(\u001b[0m\u001b[0;36m1\u001b[0m \u001b[0;34m+\u001b[0m \u001b[0mnp\u001b[0m\u001b[0;34m.\u001b[0m\u001b[0mexp\u001b[0m\u001b[0;34m(\u001b[0m\u001b[0;34m-\u001b[0m\u001b[0;36m1\u001b[0m \u001b[0;34m*\u001b[0m \u001b[0mpredictions\u001b[0m\u001b[0;34m)\u001b[0m\u001b[0;34m)\u001b[0m\u001b[0;34m\u001b[0m\u001b[0;34m\u001b[0m\u001b[0m\n\u001b[0m\u001b[1;32m     10\u001b[0m   \u001b[0;32mreturn\u001b[0m \u001b[0msigmoid\u001b[0m\u001b[0;34m\u001b[0m\u001b[0;34m\u001b[0m\u001b[0m\n",
            "\u001b[0;31mKeyboardInterrupt\u001b[0m: "
          ]
        }
      ]
    },
    {
      "cell_type": "markdown",
      "metadata": {
        "id": "WoapnMTVob2i",
        "colab_type": "text"
      },
      "source": [
        "**2.14** Let's confirm our findings. "
      ]
    },
    {
      "cell_type": "code",
      "metadata": {
        "id": "6yCvTV7Vn9Sp",
        "colab_type": "code",
        "colab": {}
      },
      "source": [
        "regression = LogisticRegression()\n",
        "regression.fit(x_train, y_train)\n",
        "predictions = regression.predict(x_test)"
      ],
      "execution_count": 0,
      "outputs": []
    },
    {
      "cell_type": "code",
      "metadata": {
        "id": "pGzNvWReoA7p",
        "colab_type": "code",
        "colab": {}
      },
      "source": [
        "regression.coef_"
      ],
      "execution_count": 0,
      "outputs": []
    },
    {
      "cell_type": "code",
      "metadata": {
        "id": "tXq6urrRoItc",
        "colab_type": "code",
        "colab": {}
      },
      "source": [
        "regression.intercept_ "
      ],
      "execution_count": 0,
      "outputs": []
    },
    {
      "cell_type": "markdown",
      "metadata": {
        "id": "l7-9JzEexKrO",
        "colab_type": "text"
      },
      "source": [
        "**2.15** Alright, those numbers don't line up. But, let's take a look at our accuracy."
      ]
    },
    {
      "cell_type": "code",
      "metadata": {
        "id": "eSj71egcxm0v",
        "colab_type": "code",
        "colab": {}
      },
      "source": [
        "average_loss(final_weights, x_test, y_test)"
      ],
      "execution_count": 0,
      "outputs": []
    },
    {
      "cell_type": "markdown",
      "metadata": {
        "id": "2v-ZyZh74WPf",
        "colab_type": "text"
      },
      "source": [
        "### Subproblem 3 - Incorporate Weight"
      ]
    }
  ]
}