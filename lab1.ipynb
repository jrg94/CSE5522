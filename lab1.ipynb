{
  "nbformat": 4,
  "nbformat_minor": 0,
  "metadata": {
    "colab": {
      "name": "lab1.ipynb",
      "provenance": [],
      "collapsed_sections": [],
      "authorship_tag": "ABX9TyNp3khWgTS9riFMImoQ2MOl",
      "include_colab_link": true
    },
    "kernelspec": {
      "name": "python3",
      "display_name": "Python 3"
    }
  },
  "cells": [
    {
      "cell_type": "markdown",
      "metadata": {
        "id": "view-in-github",
        "colab_type": "text"
      },
      "source": [
        "<a href=\"https://colab.research.google.com/github/jrg94/CSE5522/blob/lab1/lab1.ipynb\" target=\"_parent\"><img src=\"https://colab.research.google.com/assets/colab-badge.svg\" alt=\"Open In Colab\"/></a>"
      ]
    },
    {
      "cell_type": "markdown",
      "metadata": {
        "id": "npLvY9zmkZ7R",
        "colab_type": "text"
      },
      "source": [
        "**1.0**: Set up the environment (you can click on the play button below to import the appropriate modules)."
      ]
    },
    {
      "cell_type": "code",
      "metadata": {
        "id": "MRicJTZFkNKj",
        "colab_type": "code",
        "colab": {}
      },
      "source": [
        "import matplotlib.pyplot as plt\n",
        "import pandas as pd\n",
        "import numpy as np"
      ],
      "execution_count": 0,
      "outputs": []
    },
    {
      "cell_type": "markdown",
      "metadata": {
        "id": "a-MaOhV5UUvD",
        "colab_type": "text"
      },
      "source": [
        "**1.1** Read the data from GitHub into a pandas dataframe. "
      ]
    },
    {
      "cell_type": "code",
      "metadata": {
        "id": "Udx-lpGDk-aB",
        "colab_type": "code",
        "colab": {}
      },
      "source": [
        "micro_rna_data_url = 'https://raw.githubusercontent.com/efosler/cse5522data/master/miRScore-x.csv'\n",
        "micro_ran_dataframe = pd.read_csv(micro_rna_data_url)\n",
        "micro_rna_well_data_url = 'https://raw.githubusercontent.com/efosler/cse5522data/master/mRNA-y-well-explained.csv'\n",
        "micro_rna_well_dataframe = pd.read_csv(micro_rna_well_data_url)"
      ],
      "execution_count": 0,
      "outputs": []
    },
    {
      "cell_type": "markdown",
      "metadata": {
        "id": "Rvgt0PYLVHYr",
        "colab_type": "text"
      },
      "source": [
        "**1.2** Print out the top of the dataframe to make sure that the data loaded correctly.  It should be a data table with two columns (price, sf), and 5 rows, with the first row 220000,2240."
      ]
    },
    {
      "cell_type": "code",
      "metadata": {
        "id": "ScERznWSVBK3",
        "colab_type": "code",
        "outputId": "c2fc6679-53c1-462e-d69c-58fee9d99b57",
        "colab": {
          "base_uri": "https://localhost:8080/",
          "height": 195
        }
      },
      "source": [
        "micro_ran_dataframe.head()"
      ],
      "execution_count": 6,
      "outputs": [
        {
          "output_type": "execute_result",
          "data": {
            "text/html": [
              "<div>\n",
              "<style scoped>\n",
              "    .dataframe tbody tr th:only-of-type {\n",
              "        vertical-align: middle;\n",
              "    }\n",
              "\n",
              "    .dataframe tbody tr th {\n",
              "        vertical-align: top;\n",
              "    }\n",
              "\n",
              "    .dataframe thead th {\n",
              "        text-align: right;\n",
              "    }\n",
              "</style>\n",
              "<table border=\"1\" class=\"dataframe\">\n",
              "  <thead>\n",
              "    <tr style=\"text-align: right;\">\n",
              "      <th></th>\n",
              "      <th>Unnamed: 0</th>\n",
              "      <th>MIRC1</th>\n",
              "      <th>MIRC2</th>\n",
              "      <th>MIRC3</th>\n",
              "      <th>MIRC4</th>\n",
              "      <th>MIRC5</th>\n",
              "      <th>MIRC6</th>\n",
              "      <th>MIRC7</th>\n",
              "      <th>MIRC8</th>\n",
              "      <th>MIRC9</th>\n",
              "      <th>MIRC10</th>\n",
              "      <th>MIRC11</th>\n",
              "      <th>MIRC12</th>\n",
              "      <th>MIRC13</th>\n",
              "      <th>MIRC14</th>\n",
              "      <th>MIRC15</th>\n",
              "      <th>MIRC16</th>\n",
              "      <th>MIRC17</th>\n",
              "      <th>MIRC18</th>\n",
              "      <th>MIRC19</th>\n",
              "      <th>MIRC20</th>\n",
              "      <th>MIRC21</th>\n",
              "    </tr>\n",
              "  </thead>\n",
              "  <tbody>\n",
              "    <tr>\n",
              "      <th>0</th>\n",
              "      <td>1</td>\n",
              "      <td>5.453767</td>\n",
              "      <td>4.383828</td>\n",
              "      <td>3.216983</td>\n",
              "      <td>3.428224</td>\n",
              "      <td>7.308519</td>\n",
              "      <td>5.509137</td>\n",
              "      <td>5.515894</td>\n",
              "      <td>3.371819</td>\n",
              "      <td>6.036913</td>\n",
              "      <td>2.876100</td>\n",
              "      <td>8.064057</td>\n",
              "      <td>3.388470</td>\n",
              "      <td>3.931960</td>\n",
              "      <td>6.401138</td>\n",
              "      <td>6.571827</td>\n",
              "      <td>3.785073</td>\n",
              "      <td>5.201207</td>\n",
              "      <td>2.575824</td>\n",
              "      <td>3.977328</td>\n",
              "      <td>5.501027</td>\n",
              "      <td>4.756962</td>\n",
              "    </tr>\n",
              "    <tr>\n",
              "      <th>1</th>\n",
              "      <td>2</td>\n",
              "      <td>4.321988</td>\n",
              "      <td>3.986583</td>\n",
              "      <td>3.829885</td>\n",
              "      <td>4.502739</td>\n",
              "      <td>1.685509</td>\n",
              "      <td>5.206405</td>\n",
              "      <td>6.445237</td>\n",
              "      <td>3.465323</td>\n",
              "      <td>6.618933</td>\n",
              "      <td>2.851471</td>\n",
              "      <td>7.730359</td>\n",
              "      <td>2.738890</td>\n",
              "      <td>3.567882</td>\n",
              "      <td>4.360902</td>\n",
              "      <td>6.082557</td>\n",
              "      <td>3.343985</td>\n",
              "      <td>6.303041</td>\n",
              "      <td>3.140004</td>\n",
              "      <td>4.199990</td>\n",
              "      <td>5.224254</td>\n",
              "      <td>4.429511</td>\n",
              "    </tr>\n",
              "    <tr>\n",
              "      <th>2</th>\n",
              "      <td>3</td>\n",
              "      <td>4.089116</td>\n",
              "      <td>4.178590</td>\n",
              "      <td>3.393789</td>\n",
              "      <td>3.582799</td>\n",
              "      <td>8.103207</td>\n",
              "      <td>4.997112</td>\n",
              "      <td>5.359251</td>\n",
              "      <td>3.681484</td>\n",
              "      <td>6.373393</td>\n",
              "      <td>2.851890</td>\n",
              "      <td>8.934644</td>\n",
              "      <td>2.892689</td>\n",
              "      <td>3.132659</td>\n",
              "      <td>6.555559</td>\n",
              "      <td>6.559177</td>\n",
              "      <td>3.469511</td>\n",
              "      <td>5.373332</td>\n",
              "      <td>4.424949</td>\n",
              "      <td>3.138479</td>\n",
              "      <td>5.682007</td>\n",
              "      <td>4.403253</td>\n",
              "    </tr>\n",
              "    <tr>\n",
              "      <th>3</th>\n",
              "      <td>4</td>\n",
              "      <td>4.884692</td>\n",
              "      <td>4.061140</td>\n",
              "      <td>3.475111</td>\n",
              "      <td>4.017083</td>\n",
              "      <td>8.005837</td>\n",
              "      <td>5.491073</td>\n",
              "      <td>5.014364</td>\n",
              "      <td>4.300977</td>\n",
              "      <td>6.017040</td>\n",
              "      <td>2.834699</td>\n",
              "      <td>8.646215</td>\n",
              "      <td>3.163199</td>\n",
              "      <td>3.531044</td>\n",
              "      <td>6.908134</td>\n",
              "      <td>6.624755</td>\n",
              "      <td>3.833247</td>\n",
              "      <td>5.495557</td>\n",
              "      <td>4.954630</td>\n",
              "      <td>4.542415</td>\n",
              "      <td>5.469924</td>\n",
              "      <td>4.693171</td>\n",
              "    </tr>\n",
              "    <tr>\n",
              "      <th>4</th>\n",
              "      <td>5</td>\n",
              "      <td>4.053976</td>\n",
              "      <td>4.224208</td>\n",
              "      <td>3.801616</td>\n",
              "      <td>3.329253</td>\n",
              "      <td>9.208897</td>\n",
              "      <td>5.518924</td>\n",
              "      <td>5.534329</td>\n",
              "      <td>2.391842</td>\n",
              "      <td>6.183707</td>\n",
              "      <td>3.029387</td>\n",
              "      <td>7.351146</td>\n",
              "      <td>2.873874</td>\n",
              "      <td>3.305899</td>\n",
              "      <td>6.917566</td>\n",
              "      <td>6.138030</td>\n",
              "      <td>3.250404</td>\n",
              "      <td>5.502236</td>\n",
              "      <td>4.572714</td>\n",
              "      <td>2.677879</td>\n",
              "      <td>5.577007</td>\n",
              "      <td>4.290140</td>\n",
              "    </tr>\n",
              "  </tbody>\n",
              "</table>\n",
              "</div>"
            ],
            "text/plain": [
              "   Unnamed: 0     MIRC1     MIRC2  ...    MIRC19    MIRC20    MIRC21\n",
              "0           1  5.453767  4.383828  ...  3.977328  5.501027  4.756962\n",
              "1           2  4.321988  3.986583  ...  4.199990  5.224254  4.429511\n",
              "2           3  4.089116  4.178590  ...  3.138479  5.682007  4.403253\n",
              "3           4  4.884692  4.061140  ...  4.542415  5.469924  4.693171\n",
              "4           5  4.053976  4.224208  ...  2.677879  5.577007  4.290140\n",
              "\n",
              "[5 rows x 22 columns]"
            ]
          },
          "metadata": {
            "tags": []
          },
          "execution_count": 6
        }
      ]
    }
  ]
}