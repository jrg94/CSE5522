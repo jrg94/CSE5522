{
  "nbformat": 4,
  "nbformat_minor": 0,
  "metadata": {
    "colab": {
      "name": "lab1.ipynb",
      "provenance": [],
      "collapsed_sections": [
        "nBTflHYgB7w1",
        "3pRGMU8MLZ6C",
        "dlps9uqvLrPy",
        "zOawgH6ZLy2m"
      ],
      "authorship_tag": "ABX9TyPO8jsT/Fe3ChK+yxbaQqmB",
      "include_colab_link": true
    },
    "kernelspec": {
      "name": "python3",
      "display_name": "Python 3"
    }
  },
  "cells": [
    {
      "cell_type": "markdown",
      "metadata": {
        "id": "view-in-github",
        "colab_type": "text"
      },
      "source": [
        "<a href=\"https://colab.research.google.com/github/jrg94/CSE5522/blob/lab1/lab1.ipynb\" target=\"_parent\"><img src=\"https://colab.research.google.com/assets/colab-badge.svg\" alt=\"Open In Colab\"/></a>"
      ]
    },
    {
      "cell_type": "markdown",
      "metadata": {
        "id": "Xb0irARgr4LN",
        "colab_type": "text"
      },
      "source": [
        "# CSE 5522 - Lab 1\n",
        "By Jeremy Grifski"
      ]
    },
    {
      "cell_type": "markdown",
      "metadata": {
        "id": "EmwA66pPsK-L",
        "colab_type": "text"
      },
      "source": [
        "In this lab, we'll be taking a look at two different types of regressions: linear and logistic. In this first part, we'll be looking at linear regressions on gene expression. Meanwhile, in the second part, we'll be looking at logistic regressions on basketball players. "
      ]
    },
    {
      "cell_type": "markdown",
      "metadata": {
        "id": "nBTflHYgB7w1",
        "colab_type": "text"
      },
      "source": [
        "## Part 1 - Linear Regression for Gene Expression Prediction"
      ]
    },
    {
      "cell_type": "markdown",
      "metadata": {
        "id": "2qbbweuQCRTb",
        "colab_type": "text"
      },
      "source": [
        "In this portion of the lab, we were asked to run a linear regression over 21 features of micro RNA to predict mRNA. In a later portion of this section, we were also asked to bump up the number of overall features to include dummie variables for tissue types."
      ]
    },
    {
      "cell_type": "markdown",
      "metadata": {
        "id": "npLvY9zmkZ7R",
        "colab_type": "text"
      },
      "source": [
        "**1.0**: Set up the environment. "
      ]
    },
    {
      "cell_type": "code",
      "metadata": {
        "id": "MRicJTZFkNKj",
        "colab_type": "code",
        "colab": {}
      },
      "source": [
        "import matplotlib.pyplot as plt\n",
        "import pandas as pd\n",
        "import numpy as np"
      ],
      "execution_count": 0,
      "outputs": []
    },
    {
      "cell_type": "markdown",
      "metadata": {
        "id": "a-MaOhV5UUvD",
        "colab_type": "text"
      },
      "source": [
        "**1.1** Read the data from GitHub into a pandas dataframe. "
      ]
    },
    {
      "cell_type": "code",
      "metadata": {
        "id": "Udx-lpGDk-aB",
        "colab_type": "code",
        "colab": {}
      },
      "source": [
        "micro_rna_data_url = 'https://raw.githubusercontent.com/efosler/cse5522data/master/miRScore-x.csv'\n",
        "micro_rna_dataframe = pd.read_csv(micro_rna_data_url, index_col=0) # Removes the index column\n",
        "mrna_well_data_url = 'https://raw.githubusercontent.com/efosler/cse5522data/master/mRNA-y-well-explained.csv'\n",
        "mrna_well_dataframe = pd.read_csv(mrna_well_data_url, index_col=0, header=None, skiprows=1).T\n",
        "mrna_poor_data_url = 'https://raw.githubusercontent.com/efosler/cse5522data/master/mRNA-y-poor-explained.csv'\n",
        "mrna_poor_dataframe = pd.read_csv(mrna_poor_data_url, index_col=0, header=None, skiprows=1).T\n",
        "tissue_types_data_url = 'https://raw.githubusercontent.com/efosler/cse5522data/master/cancerType-x-Categorical.csv'\n",
        "tissue_types_dataframe = pd.read_csv(tissue_types_data_url, index_col=0)"
      ],
      "execution_count": 0,
      "outputs": []
    },
    {
      "cell_type": "markdown",
      "metadata": {
        "id": "Rvgt0PYLVHYr",
        "colab_type": "text"
      },
      "source": [
        "**1.2** Print out the top of the dataframe to make sure that the data loaded correctly."
      ]
    },
    {
      "cell_type": "code",
      "metadata": {
        "id": "ScERznWSVBK3",
        "colab_type": "code",
        "outputId": "788bde9c-e004-47c8-e556-9d413cae47a9",
        "colab": {
          "base_uri": "https://localhost:8080/",
          "height": 0
        }
      },
      "source": [
        "micro_rna_dataframe.head()"
      ],
      "execution_count": 220,
      "outputs": [
        {
          "output_type": "execute_result",
          "data": {
            "text/html": [
              "<div>\n",
              "<style scoped>\n",
              "    .dataframe tbody tr th:only-of-type {\n",
              "        vertical-align: middle;\n",
              "    }\n",
              "\n",
              "    .dataframe tbody tr th {\n",
              "        vertical-align: top;\n",
              "    }\n",
              "\n",
              "    .dataframe thead th {\n",
              "        text-align: right;\n",
              "    }\n",
              "</style>\n",
              "<table border=\"1\" class=\"dataframe\">\n",
              "  <thead>\n",
              "    <tr style=\"text-align: right;\">\n",
              "      <th></th>\n",
              "      <th>MIRC1</th>\n",
              "      <th>MIRC2</th>\n",
              "      <th>MIRC3</th>\n",
              "      <th>MIRC4</th>\n",
              "      <th>MIRC5</th>\n",
              "      <th>MIRC6</th>\n",
              "      <th>MIRC7</th>\n",
              "      <th>MIRC8</th>\n",
              "      <th>MIRC9</th>\n",
              "      <th>MIRC10</th>\n",
              "      <th>MIRC11</th>\n",
              "      <th>MIRC12</th>\n",
              "      <th>MIRC13</th>\n",
              "      <th>MIRC14</th>\n",
              "      <th>MIRC15</th>\n",
              "      <th>MIRC16</th>\n",
              "      <th>MIRC17</th>\n",
              "      <th>MIRC18</th>\n",
              "      <th>MIRC19</th>\n",
              "      <th>MIRC20</th>\n",
              "      <th>MIRC21</th>\n",
              "    </tr>\n",
              "  </thead>\n",
              "  <tbody>\n",
              "    <tr>\n",
              "      <th>1</th>\n",
              "      <td>5.453767</td>\n",
              "      <td>4.383828</td>\n",
              "      <td>3.216983</td>\n",
              "      <td>3.428224</td>\n",
              "      <td>7.308519</td>\n",
              "      <td>5.509137</td>\n",
              "      <td>5.515894</td>\n",
              "      <td>3.371819</td>\n",
              "      <td>6.036913</td>\n",
              "      <td>2.876100</td>\n",
              "      <td>8.064057</td>\n",
              "      <td>3.388470</td>\n",
              "      <td>3.931960</td>\n",
              "      <td>6.401138</td>\n",
              "      <td>6.571827</td>\n",
              "      <td>3.785073</td>\n",
              "      <td>5.201207</td>\n",
              "      <td>2.575824</td>\n",
              "      <td>3.977328</td>\n",
              "      <td>5.501027</td>\n",
              "      <td>4.756962</td>\n",
              "    </tr>\n",
              "    <tr>\n",
              "      <th>2</th>\n",
              "      <td>4.321988</td>\n",
              "      <td>3.986583</td>\n",
              "      <td>3.829885</td>\n",
              "      <td>4.502739</td>\n",
              "      <td>1.685509</td>\n",
              "      <td>5.206405</td>\n",
              "      <td>6.445237</td>\n",
              "      <td>3.465323</td>\n",
              "      <td>6.618933</td>\n",
              "      <td>2.851471</td>\n",
              "      <td>7.730359</td>\n",
              "      <td>2.738890</td>\n",
              "      <td>3.567882</td>\n",
              "      <td>4.360902</td>\n",
              "      <td>6.082557</td>\n",
              "      <td>3.343985</td>\n",
              "      <td>6.303041</td>\n",
              "      <td>3.140004</td>\n",
              "      <td>4.199990</td>\n",
              "      <td>5.224254</td>\n",
              "      <td>4.429511</td>\n",
              "    </tr>\n",
              "    <tr>\n",
              "      <th>3</th>\n",
              "      <td>4.089116</td>\n",
              "      <td>4.178590</td>\n",
              "      <td>3.393789</td>\n",
              "      <td>3.582799</td>\n",
              "      <td>8.103207</td>\n",
              "      <td>4.997112</td>\n",
              "      <td>5.359251</td>\n",
              "      <td>3.681484</td>\n",
              "      <td>6.373393</td>\n",
              "      <td>2.851890</td>\n",
              "      <td>8.934644</td>\n",
              "      <td>2.892689</td>\n",
              "      <td>3.132659</td>\n",
              "      <td>6.555559</td>\n",
              "      <td>6.559177</td>\n",
              "      <td>3.469511</td>\n",
              "      <td>5.373332</td>\n",
              "      <td>4.424949</td>\n",
              "      <td>3.138479</td>\n",
              "      <td>5.682007</td>\n",
              "      <td>4.403253</td>\n",
              "    </tr>\n",
              "    <tr>\n",
              "      <th>4</th>\n",
              "      <td>4.884692</td>\n",
              "      <td>4.061140</td>\n",
              "      <td>3.475111</td>\n",
              "      <td>4.017083</td>\n",
              "      <td>8.005837</td>\n",
              "      <td>5.491073</td>\n",
              "      <td>5.014364</td>\n",
              "      <td>4.300977</td>\n",
              "      <td>6.017040</td>\n",
              "      <td>2.834699</td>\n",
              "      <td>8.646215</td>\n",
              "      <td>3.163199</td>\n",
              "      <td>3.531044</td>\n",
              "      <td>6.908134</td>\n",
              "      <td>6.624755</td>\n",
              "      <td>3.833247</td>\n",
              "      <td>5.495557</td>\n",
              "      <td>4.954630</td>\n",
              "      <td>4.542415</td>\n",
              "      <td>5.469924</td>\n",
              "      <td>4.693171</td>\n",
              "    </tr>\n",
              "    <tr>\n",
              "      <th>5</th>\n",
              "      <td>4.053976</td>\n",
              "      <td>4.224208</td>\n",
              "      <td>3.801616</td>\n",
              "      <td>3.329253</td>\n",
              "      <td>9.208897</td>\n",
              "      <td>5.518924</td>\n",
              "      <td>5.534329</td>\n",
              "      <td>2.391842</td>\n",
              "      <td>6.183707</td>\n",
              "      <td>3.029387</td>\n",
              "      <td>7.351146</td>\n",
              "      <td>2.873874</td>\n",
              "      <td>3.305899</td>\n",
              "      <td>6.917566</td>\n",
              "      <td>6.138030</td>\n",
              "      <td>3.250404</td>\n",
              "      <td>5.502236</td>\n",
              "      <td>4.572714</td>\n",
              "      <td>2.677879</td>\n",
              "      <td>5.577007</td>\n",
              "      <td>4.290140</td>\n",
              "    </tr>\n",
              "  </tbody>\n",
              "</table>\n",
              "</div>"
            ],
            "text/plain": [
              "      MIRC1     MIRC2     MIRC3  ...    MIRC19    MIRC20    MIRC21\n",
              "1  5.453767  4.383828  3.216983  ...  3.977328  5.501027  4.756962\n",
              "2  4.321988  3.986583  3.829885  ...  4.199990  5.224254  4.429511\n",
              "3  4.089116  4.178590  3.393789  ...  3.138479  5.682007  4.403253\n",
              "4  4.884692  4.061140  3.475111  ...  4.542415  5.469924  4.693171\n",
              "5  4.053976  4.224208  3.801616  ...  2.677879  5.577007  4.290140\n",
              "\n",
              "[5 rows x 21 columns]"
            ]
          },
          "metadata": {
            "tags": []
          },
          "execution_count": 220
        }
      ]
    },
    {
      "cell_type": "code",
      "metadata": {
        "id": "tsbVjvq6t0LM",
        "colab_type": "code",
        "outputId": "091a2cc2-f41b-4d69-c8ed-ff859ed8926b",
        "colab": {
          "base_uri": "https://localhost:8080/",
          "height": 0
        }
      },
      "source": [
        "mrna_well_dataframe.head()"
      ],
      "execution_count": 221,
      "outputs": [
        {
          "output_type": "execute_result",
          "data": {
            "text/html": [
              "<div>\n",
              "<style scoped>\n",
              "    .dataframe tbody tr th:only-of-type {\n",
              "        vertical-align: middle;\n",
              "    }\n",
              "\n",
              "    .dataframe tbody tr th {\n",
              "        vertical-align: top;\n",
              "    }\n",
              "\n",
              "    .dataframe thead th {\n",
              "        text-align: right;\n",
              "    }\n",
              "</style>\n",
              "<table border=\"1\" class=\"dataframe\">\n",
              "  <thead>\n",
              "    <tr style=\"text-align: right;\">\n",
              "      <th></th>\n",
              "      <th>SNORD88B</th>\n",
              "      <th>GRHL2</th>\n",
              "      <th>C1orf172</th>\n",
              "      <th>RAB25</th>\n",
              "      <th>ANKS4B</th>\n",
              "      <th>HNF4A</th>\n",
              "      <th>AP1M2</th>\n",
              "      <th>PKP3</th>\n",
              "      <th>STMN4</th>\n",
              "      <th>ESRP1</th>\n",
              "      <th>CDHR5</th>\n",
              "      <th>MEG3</th>\n",
              "      <th>PRSS8</th>\n",
              "      <th>OVOL2</th>\n",
              "      <th>SPINT1</th>\n",
              "      <th>TM4SF5</th>\n",
              "      <th>ELAVL3</th>\n",
              "      <th>FAM123A</th>\n",
              "      <th>ZDHHC22</th>\n",
              "      <th>MMD2</th>\n",
              "      <th>SH2D3A</th>\n",
              "      <th>C21orf131</th>\n",
              "      <th>NCAN</th>\n",
              "      <th>CRB3</th>\n",
              "      <th>CLDN4</th>\n",
              "      <th>CACNG7</th>\n",
              "      <th>C1orf210</th>\n",
              "      <th>KCNJ9</th>\n",
              "      <th>CLDN7</th>\n",
              "      <th>ATCAY</th>\n",
              "      <th>C2orf80</th>\n",
              "      <th>ATP6V1G2</th>\n",
              "      <th>ST14</th>\n",
              "      <th>SHISA7</th>\n",
              "      <th>ELF3</th>\n",
              "    </tr>\n",
              "  </thead>\n",
              "  <tbody>\n",
              "    <tr>\n",
              "      <th>1</th>\n",
              "      <td>3.321928</td>\n",
              "      <td>3.389608</td>\n",
              "      <td>5.822470</td>\n",
              "      <td>3.389608</td>\n",
              "      <td>3.321928</td>\n",
              "      <td>3.321928</td>\n",
              "      <td>4.820266</td>\n",
              "      <td>3.321928</td>\n",
              "      <td>3.516129</td>\n",
              "      <td>4.744742</td>\n",
              "      <td>11.026446</td>\n",
              "      <td>13.639151</td>\n",
              "      <td>3.454255</td>\n",
              "      <td>3.454255</td>\n",
              "      <td>6.383480</td>\n",
              "      <td>3.321928</td>\n",
              "      <td>3.791033</td>\n",
              "      <td>3.389608</td>\n",
              "      <td>3.516129</td>\n",
              "      <td>3.887827</td>\n",
              "      <td>3.575458</td>\n",
              "      <td>3.321928</td>\n",
              "      <td>3.389608</td>\n",
              "      <td>3.933894</td>\n",
              "      <td>5.313939</td>\n",
              "      <td>3.321928</td>\n",
              "      <td>3.321928</td>\n",
              "      <td>3.321928</td>\n",
              "      <td>5.398508</td>\n",
              "      <td>3.840242</td>\n",
              "      <td>3.321928</td>\n",
              "      <td>5.547879</td>\n",
              "      <td>6.207130</td>\n",
              "      <td>3.454255</td>\n",
              "      <td>3.575458</td>\n",
              "    </tr>\n",
              "    <tr>\n",
              "      <th>2</th>\n",
              "      <td>3.321928</td>\n",
              "      <td>3.586549</td>\n",
              "      <td>3.586549</td>\n",
              "      <td>3.486444</td>\n",
              "      <td>3.321928</td>\n",
              "      <td>4.813443</td>\n",
              "      <td>3.634105</td>\n",
              "      <td>3.634105</td>\n",
              "      <td>3.433667</td>\n",
              "      <td>3.724759</td>\n",
              "      <td>11.313428</td>\n",
              "      <td>4.108299</td>\n",
              "      <td>9.012650</td>\n",
              "      <td>3.321928</td>\n",
              "      <td>7.532506</td>\n",
              "      <td>3.321928</td>\n",
              "      <td>3.378872</td>\n",
              "      <td>3.378872</td>\n",
              "      <td>3.433667</td>\n",
              "      <td>4.541440</td>\n",
              "      <td>5.285010</td>\n",
              "      <td>3.321928</td>\n",
              "      <td>3.486444</td>\n",
              "      <td>4.074223</td>\n",
              "      <td>6.461239</td>\n",
              "      <td>3.586549</td>\n",
              "      <td>3.321928</td>\n",
              "      <td>3.433667</td>\n",
              "      <td>5.254900</td>\n",
              "      <td>3.586549</td>\n",
              "      <td>3.321928</td>\n",
              "      <td>4.237097</td>\n",
              "      <td>6.810804</td>\n",
              "      <td>3.586549</td>\n",
              "      <td>4.003557</td>\n",
              "    </tr>\n",
              "    <tr>\n",
              "      <th>3</th>\n",
              "      <td>3.321928</td>\n",
              "      <td>3.938521</td>\n",
              "      <td>3.993221</td>\n",
              "      <td>3.321928</td>\n",
              "      <td>3.321928</td>\n",
              "      <td>3.938521</td>\n",
              "      <td>3.404971</td>\n",
              "      <td>3.557961</td>\n",
              "      <td>3.483493</td>\n",
              "      <td>3.557961</td>\n",
              "      <td>3.483493</td>\n",
              "      <td>13.089396</td>\n",
              "      <td>4.369124</td>\n",
              "      <td>3.404971</td>\n",
              "      <td>4.239367</td>\n",
              "      <td>3.321928</td>\n",
              "      <td>4.193385</td>\n",
              "      <td>3.321928</td>\n",
              "      <td>3.760753</td>\n",
              "      <td>3.938521</td>\n",
              "      <td>5.172736</td>\n",
              "      <td>3.321928</td>\n",
              "      <td>3.483493</td>\n",
              "      <td>3.760753</td>\n",
              "      <td>9.293219</td>\n",
              "      <td>3.404971</td>\n",
              "      <td>3.404971</td>\n",
              "      <td>3.483493</td>\n",
              "      <td>4.856000</td>\n",
              "      <td>3.557961</td>\n",
              "      <td>3.321928</td>\n",
              "      <td>5.635110</td>\n",
              "      <td>5.812894</td>\n",
              "      <td>3.938521</td>\n",
              "      <td>4.369124</td>\n",
              "    </tr>\n",
              "    <tr>\n",
              "      <th>4</th>\n",
              "      <td>3.321928</td>\n",
              "      <td>3.794208</td>\n",
              "      <td>4.985892</td>\n",
              "      <td>3.321928</td>\n",
              "      <td>3.623375</td>\n",
              "      <td>3.711319</td>\n",
              "      <td>3.529721</td>\n",
              "      <td>3.946937</td>\n",
              "      <td>3.872592</td>\n",
              "      <td>5.695660</td>\n",
              "      <td>3.623375</td>\n",
              "      <td>15.672826</td>\n",
              "      <td>3.794208</td>\n",
              "      <td>3.711319</td>\n",
              "      <td>6.619172</td>\n",
              "      <td>3.321928</td>\n",
              "      <td>6.810524</td>\n",
              "      <td>3.429562</td>\n",
              "      <td>5.436545</td>\n",
              "      <td>6.056265</td>\n",
              "      <td>6.970559</td>\n",
              "      <td>3.321928</td>\n",
              "      <td>4.381581</td>\n",
              "      <td>3.711319</td>\n",
              "      <td>5.717062</td>\n",
              "      <td>5.511952</td>\n",
              "      <td>3.429562</td>\n",
              "      <td>3.429562</td>\n",
              "      <td>5.462121</td>\n",
              "      <td>5.969756</td>\n",
              "      <td>3.321928</td>\n",
              "      <td>6.450540</td>\n",
              "      <td>6.537319</td>\n",
              "      <td>4.534068</td>\n",
              "      <td>5.511952</td>\n",
              "    </tr>\n",
              "    <tr>\n",
              "      <th>5</th>\n",
              "      <td>3.321928</td>\n",
              "      <td>3.321928</td>\n",
              "      <td>11.037026</td>\n",
              "      <td>3.400388</td>\n",
              "      <td>3.400388</td>\n",
              "      <td>6.225495</td>\n",
              "      <td>3.400388</td>\n",
              "      <td>3.321928</td>\n",
              "      <td>3.400388</td>\n",
              "      <td>3.321928</td>\n",
              "      <td>7.825508</td>\n",
              "      <td>14.555980</td>\n",
              "      <td>5.900582</td>\n",
              "      <td>3.321928</td>\n",
              "      <td>7.980390</td>\n",
              "      <td>3.321928</td>\n",
              "      <td>4.939118</td>\n",
              "      <td>3.321928</td>\n",
              "      <td>3.400388</td>\n",
              "      <td>4.912592</td>\n",
              "      <td>5.266850</td>\n",
              "      <td>3.321928</td>\n",
              "      <td>3.739103</td>\n",
              "      <td>6.159351</td>\n",
              "      <td>4.200292</td>\n",
              "      <td>3.321928</td>\n",
              "      <td>3.321928</td>\n",
              "      <td>3.321928</td>\n",
              "      <td>5.568135</td>\n",
              "      <td>3.321928</td>\n",
              "      <td>3.321928</td>\n",
              "      <td>3.677429</td>\n",
              "      <td>6.029603</td>\n",
              "      <td>3.321928</td>\n",
              "      <td>3.545548</td>\n",
              "    </tr>\n",
              "  </tbody>\n",
              "</table>\n",
              "</div>"
            ],
            "text/plain": [
              "0  SNORD88B     GRHL2   C1orf172  ...      ST14    SHISA7      ELF3\n",
              "1  3.321928  3.389608   5.822470  ...  6.207130  3.454255  3.575458\n",
              "2  3.321928  3.586549   3.586549  ...  6.810804  3.586549  4.003557\n",
              "3  3.321928  3.938521   3.993221  ...  5.812894  3.938521  4.369124\n",
              "4  3.321928  3.794208   4.985892  ...  6.537319  4.534068  5.511952\n",
              "5  3.321928  3.321928  11.037026  ...  6.029603  3.321928  3.545548\n",
              "\n",
              "[5 rows x 35 columns]"
            ]
          },
          "metadata": {
            "tags": []
          },
          "execution_count": 221
        }
      ]
    },
    {
      "cell_type": "code",
      "metadata": {
        "id": "_XUcYWjDt9Nk",
        "colab_type": "code",
        "outputId": "1f500745-eb42-485e-c47a-ec0d6c0d16a2",
        "colab": {
          "base_uri": "https://localhost:8080/",
          "height": 0
        }
      },
      "source": [
        "mrna_poor_dataframe.head()"
      ],
      "execution_count": 222,
      "outputs": [
        {
          "output_type": "execute_result",
          "data": {
            "text/html": [
              "<div>\n",
              "<style scoped>\n",
              "    .dataframe tbody tr th:only-of-type {\n",
              "        vertical-align: middle;\n",
              "    }\n",
              "\n",
              "    .dataframe tbody tr th {\n",
              "        vertical-align: top;\n",
              "    }\n",
              "\n",
              "    .dataframe thead th {\n",
              "        text-align: right;\n",
              "    }\n",
              "</style>\n",
              "<table border=\"1\" class=\"dataframe\">\n",
              "  <thead>\n",
              "    <tr style=\"text-align: right;\">\n",
              "      <th></th>\n",
              "      <th>NOBOX</th>\n",
              "      <th>SCGB1D4</th>\n",
              "      <th>RPL9</th>\n",
              "      <th>SPATA8</th>\n",
              "      <th>C2orf78</th>\n",
              "      <th>FAM138B</th>\n",
              "      <th>LCE3C</th>\n",
              "      <th>POU5F2</th>\n",
              "      <th>OR2D3</th>\n",
              "      <th>PABPC1P2</th>\n",
              "      <th>CATSPER4</th>\n",
              "      <th>FTHL17</th>\n",
              "      <th>OR5K1</th>\n",
              "      <th>SNORA3</th>\n",
              "      <th>IL13</th>\n",
              "      <th>C10orf122</th>\n",
              "      <th>SULT1C3</th>\n",
              "      <th>KRT38</th>\n",
              "      <th>TMPRSS12</th>\n",
              "      <th>C4orf11</th>\n",
              "    </tr>\n",
              "  </thead>\n",
              "  <tbody>\n",
              "    <tr>\n",
              "      <th>1</th>\n",
              "      <td>3.321928</td>\n",
              "      <td>3.321928</td>\n",
              "      <td>7.556077</td>\n",
              "      <td>3.321928</td>\n",
              "      <td>3.321928</td>\n",
              "      <td>3.321928</td>\n",
              "      <td>3.321928</td>\n",
              "      <td>3.389608</td>\n",
              "      <td>3.321928</td>\n",
              "      <td>3.321928</td>\n",
              "      <td>3.321928</td>\n",
              "      <td>3.321928</td>\n",
              "      <td>3.321928</td>\n",
              "      <td>3.321928</td>\n",
              "      <td>3.321928</td>\n",
              "      <td>3.321928</td>\n",
              "      <td>3.321928</td>\n",
              "      <td>3.321928</td>\n",
              "      <td>3.321928</td>\n",
              "      <td>3.321928</td>\n",
              "    </tr>\n",
              "    <tr>\n",
              "      <th>2</th>\n",
              "      <td>3.321928</td>\n",
              "      <td>3.321928</td>\n",
              "      <td>8.111351</td>\n",
              "      <td>3.321928</td>\n",
              "      <td>3.321928</td>\n",
              "      <td>3.321928</td>\n",
              "      <td>3.321928</td>\n",
              "      <td>3.321928</td>\n",
              "      <td>3.321928</td>\n",
              "      <td>3.321928</td>\n",
              "      <td>3.321928</td>\n",
              "      <td>3.321928</td>\n",
              "      <td>3.321928</td>\n",
              "      <td>3.321928</td>\n",
              "      <td>3.586549</td>\n",
              "      <td>3.321928</td>\n",
              "      <td>3.321928</td>\n",
              "      <td>3.321928</td>\n",
              "      <td>3.321928</td>\n",
              "      <td>3.321928</td>\n",
              "    </tr>\n",
              "    <tr>\n",
              "      <th>3</th>\n",
              "      <td>3.321928</td>\n",
              "      <td>3.321928</td>\n",
              "      <td>8.297134</td>\n",
              "      <td>3.321928</td>\n",
              "      <td>3.321928</td>\n",
              "      <td>3.321928</td>\n",
              "      <td>3.321928</td>\n",
              "      <td>3.321928</td>\n",
              "      <td>3.321928</td>\n",
              "      <td>3.404971</td>\n",
              "      <td>3.404971</td>\n",
              "      <td>3.321928</td>\n",
              "      <td>3.321928</td>\n",
              "      <td>3.321928</td>\n",
              "      <td>3.993221</td>\n",
              "      <td>3.321928</td>\n",
              "      <td>3.321928</td>\n",
              "      <td>3.321928</td>\n",
              "      <td>3.321928</td>\n",
              "      <td>3.321928</td>\n",
              "    </tr>\n",
              "    <tr>\n",
              "      <th>4</th>\n",
              "      <td>3.321928</td>\n",
              "      <td>3.321928</td>\n",
              "      <td>8.482979</td>\n",
              "      <td>3.321928</td>\n",
              "      <td>3.529721</td>\n",
              "      <td>3.321928</td>\n",
              "      <td>3.321928</td>\n",
              "      <td>3.429562</td>\n",
              "      <td>3.321928</td>\n",
              "      <td>3.321928</td>\n",
              "      <td>3.321928</td>\n",
              "      <td>3.321928</td>\n",
              "      <td>3.321928</td>\n",
              "      <td>3.321928</td>\n",
              "      <td>6.718019</td>\n",
              "      <td>3.321928</td>\n",
              "      <td>3.321928</td>\n",
              "      <td>3.321928</td>\n",
              "      <td>3.321928</td>\n",
              "      <td>3.321928</td>\n",
              "    </tr>\n",
              "    <tr>\n",
              "      <th>5</th>\n",
              "      <td>3.321928</td>\n",
              "      <td>3.321928</td>\n",
              "      <td>11.794430</td>\n",
              "      <td>3.400388</td>\n",
              "      <td>3.321928</td>\n",
              "      <td>3.321928</td>\n",
              "      <td>3.321928</td>\n",
              "      <td>3.400388</td>\n",
              "      <td>3.321928</td>\n",
              "      <td>3.400388</td>\n",
              "      <td>3.321928</td>\n",
              "      <td>3.321928</td>\n",
              "      <td>3.321928</td>\n",
              "      <td>3.321928</td>\n",
              "      <td>3.321928</td>\n",
              "      <td>3.321928</td>\n",
              "      <td>3.321928</td>\n",
              "      <td>3.321928</td>\n",
              "      <td>3.321928</td>\n",
              "      <td>3.321928</td>\n",
              "    </tr>\n",
              "  </tbody>\n",
              "</table>\n",
              "</div>"
            ],
            "text/plain": [
              "0     NOBOX   SCGB1D4       RPL9  ...     KRT38  TMPRSS12   C4orf11\n",
              "1  3.321928  3.321928   7.556077  ...  3.321928  3.321928  3.321928\n",
              "2  3.321928  3.321928   8.111351  ...  3.321928  3.321928  3.321928\n",
              "3  3.321928  3.321928   8.297134  ...  3.321928  3.321928  3.321928\n",
              "4  3.321928  3.321928   8.482979  ...  3.321928  3.321928  3.321928\n",
              "5  3.321928  3.321928  11.794430  ...  3.321928  3.321928  3.321928\n",
              "\n",
              "[5 rows x 20 columns]"
            ]
          },
          "metadata": {
            "tags": []
          },
          "execution_count": 222
        }
      ]
    },
    {
      "cell_type": "code",
      "metadata": {
        "id": "QZXDcejmuQ96",
        "colab_type": "code",
        "outputId": "6515358b-9961-4cd7-fb24-2b9f05a77226",
        "colab": {
          "base_uri": "https://localhost:8080/",
          "height": 0
        }
      },
      "source": [
        "tissue_types_dataframe.head()"
      ],
      "execution_count": 223,
      "outputs": [
        {
          "output_type": "execute_result",
          "data": {
            "text/html": [
              "<div>\n",
              "<style scoped>\n",
              "    .dataframe tbody tr th:only-of-type {\n",
              "        vertical-align: middle;\n",
              "    }\n",
              "\n",
              "    .dataframe tbody tr th {\n",
              "        vertical-align: top;\n",
              "    }\n",
              "\n",
              "    .dataframe thead th {\n",
              "        text-align: right;\n",
              "    }\n",
              "</style>\n",
              "<table border=\"1\" class=\"dataframe\">\n",
              "  <thead>\n",
              "    <tr style=\"text-align: right;\">\n",
              "      <th></th>\n",
              "      <th>cancerType</th>\n",
              "    </tr>\n",
              "  </thead>\n",
              "  <tbody>\n",
              "    <tr>\n",
              "      <th>1</th>\n",
              "      <td>ACC</td>\n",
              "    </tr>\n",
              "    <tr>\n",
              "      <th>2</th>\n",
              "      <td>ACC</td>\n",
              "    </tr>\n",
              "    <tr>\n",
              "      <th>3</th>\n",
              "      <td>ACC</td>\n",
              "    </tr>\n",
              "    <tr>\n",
              "      <th>4</th>\n",
              "      <td>ACC</td>\n",
              "    </tr>\n",
              "    <tr>\n",
              "      <th>5</th>\n",
              "      <td>ACC</td>\n",
              "    </tr>\n",
              "  </tbody>\n",
              "</table>\n",
              "</div>"
            ],
            "text/plain": [
              "  cancerType\n",
              "1        ACC\n",
              "2        ACC\n",
              "3        ACC\n",
              "4        ACC\n",
              "5        ACC"
            ]
          },
          "metadata": {
            "tags": []
          },
          "execution_count": 223
        }
      ]
    },
    {
      "cell_type": "markdown",
      "metadata": {
        "id": "bKeRF2EHpvkU",
        "colab_type": "text"
      },
      "source": [
        "**1.3** Explore data shape"
      ]
    },
    {
      "cell_type": "code",
      "metadata": {
        "id": "dt6msv1rp0qj",
        "colab_type": "code",
        "outputId": "3915e3b6-a7a4-4f38-a6bc-ad74c6b9cbbc",
        "colab": {
          "base_uri": "https://localhost:8080/",
          "height": 0
        }
      },
      "source": [
        "micro_rna_dataframe.shape"
      ],
      "execution_count": 224,
      "outputs": [
        {
          "output_type": "execute_result",
          "data": {
            "text/plain": [
              "(8895, 21)"
            ]
          },
          "metadata": {
            "tags": []
          },
          "execution_count": 224
        }
      ]
    },
    {
      "cell_type": "code",
      "metadata": {
        "id": "--LRn-CSqC2b",
        "colab_type": "code",
        "outputId": "69e562b8-3aa0-4d68-e430-d48e56d839a0",
        "colab": {
          "base_uri": "https://localhost:8080/",
          "height": 0
        }
      },
      "source": [
        "mrna_well_dataframe.shape"
      ],
      "execution_count": 225,
      "outputs": [
        {
          "output_type": "execute_result",
          "data": {
            "text/plain": [
              "(8895, 35)"
            ]
          },
          "metadata": {
            "tags": []
          },
          "execution_count": 225
        }
      ]
    },
    {
      "cell_type": "code",
      "metadata": {
        "id": "eHB8MGn2qF5q",
        "colab_type": "code",
        "outputId": "ad076df9-7299-4f0e-bbf8-bfd63766e55a",
        "colab": {
          "base_uri": "https://localhost:8080/",
          "height": 0
        }
      },
      "source": [
        "mrna_poor_dataframe.shape"
      ],
      "execution_count": 226,
      "outputs": [
        {
          "output_type": "execute_result",
          "data": {
            "text/plain": [
              "(8895, 20)"
            ]
          },
          "metadata": {
            "tags": []
          },
          "execution_count": 226
        }
      ]
    },
    {
      "cell_type": "code",
      "metadata": {
        "id": "181GH0KvqJ-S",
        "colab_type": "code",
        "outputId": "6c925ea1-0460-4683-fd7f-56271fa2f669",
        "colab": {
          "base_uri": "https://localhost:8080/",
          "height": 0
        }
      },
      "source": [
        "tissue_types_dataframe.shape"
      ],
      "execution_count": 227,
      "outputs": [
        {
          "output_type": "execute_result",
          "data": {
            "text/plain": [
              "(8895, 1)"
            ]
          },
          "metadata": {
            "tags": []
          },
          "execution_count": 227
        }
      ]
    },
    {
      "cell_type": "markdown",
      "metadata": {
        "id": "ZkY2kP_tqiVq",
        "colab_type": "text"
      },
      "source": [
        "**1.4** Explore data description"
      ]
    },
    {
      "cell_type": "code",
      "metadata": {
        "id": "xrSMf5mLqndL",
        "colab_type": "code",
        "outputId": "18215134-8f88-4ac9-eeae-64a92c9982b3",
        "colab": {
          "base_uri": "https://localhost:8080/",
          "height": 0
        }
      },
      "source": [
        "micro_rna_dataframe.describe()"
      ],
      "execution_count": 228,
      "outputs": [
        {
          "output_type": "execute_result",
          "data": {
            "text/html": [
              "<div>\n",
              "<style scoped>\n",
              "    .dataframe tbody tr th:only-of-type {\n",
              "        vertical-align: middle;\n",
              "    }\n",
              "\n",
              "    .dataframe tbody tr th {\n",
              "        vertical-align: top;\n",
              "    }\n",
              "\n",
              "    .dataframe thead th {\n",
              "        text-align: right;\n",
              "    }\n",
              "</style>\n",
              "<table border=\"1\" class=\"dataframe\">\n",
              "  <thead>\n",
              "    <tr style=\"text-align: right;\">\n",
              "      <th></th>\n",
              "      <th>MIRC1</th>\n",
              "      <th>MIRC2</th>\n",
              "      <th>MIRC3</th>\n",
              "      <th>MIRC4</th>\n",
              "      <th>MIRC5</th>\n",
              "      <th>MIRC6</th>\n",
              "      <th>MIRC7</th>\n",
              "      <th>MIRC8</th>\n",
              "      <th>MIRC9</th>\n",
              "      <th>MIRC10</th>\n",
              "      <th>MIRC11</th>\n",
              "      <th>MIRC12</th>\n",
              "      <th>MIRC13</th>\n",
              "      <th>MIRC14</th>\n",
              "      <th>MIRC15</th>\n",
              "      <th>MIRC16</th>\n",
              "      <th>MIRC17</th>\n",
              "      <th>MIRC18</th>\n",
              "      <th>MIRC19</th>\n",
              "      <th>MIRC20</th>\n",
              "      <th>MIRC21</th>\n",
              "    </tr>\n",
              "  </thead>\n",
              "  <tbody>\n",
              "    <tr>\n",
              "      <th>count</th>\n",
              "      <td>8895.000000</td>\n",
              "      <td>8895.000000</td>\n",
              "      <td>8895.000000</td>\n",
              "      <td>8895.000000</td>\n",
              "      <td>8895.000000</td>\n",
              "      <td>8895.000000</td>\n",
              "      <td>8895.000000</td>\n",
              "      <td>8895.000000</td>\n",
              "      <td>8895.000000</td>\n",
              "      <td>8895.000000</td>\n",
              "      <td>8895.000000</td>\n",
              "      <td>8895.000000</td>\n",
              "      <td>8895.000000</td>\n",
              "      <td>8895.000000</td>\n",
              "      <td>8895.000000</td>\n",
              "      <td>8895.000000</td>\n",
              "      <td>8895.000000</td>\n",
              "      <td>8895.000000</td>\n",
              "      <td>8895.000000</td>\n",
              "      <td>8895.000000</td>\n",
              "      <td>8895.000000</td>\n",
              "    </tr>\n",
              "    <tr>\n",
              "      <th>mean</th>\n",
              "      <td>4.129920</td>\n",
              "      <td>4.765170</td>\n",
              "      <td>5.057100</td>\n",
              "      <td>4.097146</td>\n",
              "      <td>2.846338</td>\n",
              "      <td>4.797431</td>\n",
              "      <td>5.383079</td>\n",
              "      <td>3.425811</td>\n",
              "      <td>4.792121</td>\n",
              "      <td>3.453612</td>\n",
              "      <td>7.859492</td>\n",
              "      <td>2.851375</td>\n",
              "      <td>3.649230</td>\n",
              "      <td>4.651203</td>\n",
              "      <td>4.903554</td>\n",
              "      <td>4.026922</td>\n",
              "      <td>6.893040</td>\n",
              "      <td>5.199461</td>\n",
              "      <td>7.382938</td>\n",
              "      <td>5.445934</td>\n",
              "      <td>4.740501</td>\n",
              "    </tr>\n",
              "    <tr>\n",
              "      <th>std</th>\n",
              "      <td>1.099592</td>\n",
              "      <td>0.828207</td>\n",
              "      <td>0.987020</td>\n",
              "      <td>0.835212</td>\n",
              "      <td>1.521580</td>\n",
              "      <td>0.799616</td>\n",
              "      <td>0.874974</td>\n",
              "      <td>0.875548</td>\n",
              "      <td>0.977154</td>\n",
              "      <td>0.773364</td>\n",
              "      <td>0.882516</td>\n",
              "      <td>0.617543</td>\n",
              "      <td>0.837230</td>\n",
              "      <td>1.257902</td>\n",
              "      <td>0.913718</td>\n",
              "      <td>0.711169</td>\n",
              "      <td>1.036150</td>\n",
              "      <td>2.423279</td>\n",
              "      <td>2.677375</td>\n",
              "      <td>0.824836</td>\n",
              "      <td>0.775925</td>\n",
              "    </tr>\n",
              "    <tr>\n",
              "      <th>min</th>\n",
              "      <td>0.668085</td>\n",
              "      <td>1.305794</td>\n",
              "      <td>2.193773</td>\n",
              "      <td>0.728425</td>\n",
              "      <td>0.073645</td>\n",
              "      <td>2.380204</td>\n",
              "      <td>2.716960</td>\n",
              "      <td>1.086365</td>\n",
              "      <td>0.879080</td>\n",
              "      <td>1.117544</td>\n",
              "      <td>4.459917</td>\n",
              "      <td>0.899994</td>\n",
              "      <td>0.435114</td>\n",
              "      <td>0.672520</td>\n",
              "      <td>2.212343</td>\n",
              "      <td>1.447088</td>\n",
              "      <td>2.643597</td>\n",
              "      <td>1.193575</td>\n",
              "      <td>0.530771</td>\n",
              "      <td>1.428634</td>\n",
              "      <td>2.218998</td>\n",
              "    </tr>\n",
              "    <tr>\n",
              "      <th>25%</th>\n",
              "      <td>3.390396</td>\n",
              "      <td>4.331190</td>\n",
              "      <td>4.376916</td>\n",
              "      <td>3.567006</td>\n",
              "      <td>1.926821</td>\n",
              "      <td>4.272392</td>\n",
              "      <td>4.758908</td>\n",
              "      <td>2.866235</td>\n",
              "      <td>4.276781</td>\n",
              "      <td>2.910465</td>\n",
              "      <td>7.288990</td>\n",
              "      <td>2.447650</td>\n",
              "      <td>3.222392</td>\n",
              "      <td>3.737002</td>\n",
              "      <td>4.303779</td>\n",
              "      <td>3.517319</td>\n",
              "      <td>6.447339</td>\n",
              "      <td>3.579986</td>\n",
              "      <td>5.268867</td>\n",
              "      <td>5.119781</td>\n",
              "      <td>4.247824</td>\n",
              "    </tr>\n",
              "    <tr>\n",
              "      <th>50%</th>\n",
              "      <td>4.139365</td>\n",
              "      <td>4.829788</td>\n",
              "      <td>5.103757</td>\n",
              "      <td>4.090588</td>\n",
              "      <td>2.623955</td>\n",
              "      <td>4.695558</td>\n",
              "      <td>5.374751</td>\n",
              "      <td>3.242166</td>\n",
              "      <td>4.791324</td>\n",
              "      <td>3.379283</td>\n",
              "      <td>7.801186</td>\n",
              "      <td>2.822985</td>\n",
              "      <td>3.677365</td>\n",
              "      <td>4.569216</td>\n",
              "      <td>4.744346</td>\n",
              "      <td>3.947587</td>\n",
              "      <td>7.133301</td>\n",
              "      <td>4.226871</td>\n",
              "      <td>8.475008</td>\n",
              "      <td>5.482303</td>\n",
              "      <td>4.651004</td>\n",
              "    </tr>\n",
              "    <tr>\n",
              "      <th>75%</th>\n",
              "      <td>4.913180</td>\n",
              "      <td>5.327773</td>\n",
              "      <td>5.694544</td>\n",
              "      <td>4.596960</td>\n",
              "      <td>3.370140</td>\n",
              "      <td>5.217066</td>\n",
              "      <td>5.983875</td>\n",
              "      <td>3.750545</td>\n",
              "      <td>5.426297</td>\n",
              "      <td>3.904954</td>\n",
              "      <td>8.343808</td>\n",
              "      <td>3.220396</td>\n",
              "      <td>4.154977</td>\n",
              "      <td>5.542658</td>\n",
              "      <td>5.277193</td>\n",
              "      <td>4.510465</td>\n",
              "      <td>7.590129</td>\n",
              "      <td>5.691993</td>\n",
              "      <td>9.415745</td>\n",
              "      <td>5.900317</td>\n",
              "      <td>5.122929</td>\n",
              "    </tr>\n",
              "    <tr>\n",
              "      <th>max</th>\n",
              "      <td>7.923561</td>\n",
              "      <td>6.974327</td>\n",
              "      <td>8.134850</td>\n",
              "      <td>7.393546</td>\n",
              "      <td>9.563560</td>\n",
              "      <td>8.406599</td>\n",
              "      <td>8.029896</td>\n",
              "      <td>7.569143</td>\n",
              "      <td>8.414998</td>\n",
              "      <td>6.977404</td>\n",
              "      <td>11.898551</td>\n",
              "      <td>5.590978</td>\n",
              "      <td>6.459934</td>\n",
              "      <td>10.067625</td>\n",
              "      <td>8.956072</td>\n",
              "      <td>6.734989</td>\n",
              "      <td>9.154822</td>\n",
              "      <td>12.814622</td>\n",
              "      <td>12.092160</td>\n",
              "      <td>7.651443</td>\n",
              "      <td>7.945005</td>\n",
              "    </tr>\n",
              "  </tbody>\n",
              "</table>\n",
              "</div>"
            ],
            "text/plain": [
              "             MIRC1        MIRC2  ...       MIRC20       MIRC21\n",
              "count  8895.000000  8895.000000  ...  8895.000000  8895.000000\n",
              "mean      4.129920     4.765170  ...     5.445934     4.740501\n",
              "std       1.099592     0.828207  ...     0.824836     0.775925\n",
              "min       0.668085     1.305794  ...     1.428634     2.218998\n",
              "25%       3.390396     4.331190  ...     5.119781     4.247824\n",
              "50%       4.139365     4.829788  ...     5.482303     4.651004\n",
              "75%       4.913180     5.327773  ...     5.900317     5.122929\n",
              "max       7.923561     6.974327  ...     7.651443     7.945005\n",
              "\n",
              "[8 rows x 21 columns]"
            ]
          },
          "metadata": {
            "tags": []
          },
          "execution_count": 228
        }
      ]
    },
    {
      "cell_type": "code",
      "metadata": {
        "id": "THy6IBjT4Miu",
        "colab_type": "code",
        "outputId": "c14ee7f8-372f-405f-a87b-a9c3c3234bbc",
        "colab": {
          "base_uri": "https://localhost:8080/",
          "height": 0
        }
      },
      "source": [
        "mrna_well_dataframe.describe()"
      ],
      "execution_count": 229,
      "outputs": [
        {
          "output_type": "execute_result",
          "data": {
            "text/html": [
              "<div>\n",
              "<style scoped>\n",
              "    .dataframe tbody tr th:only-of-type {\n",
              "        vertical-align: middle;\n",
              "    }\n",
              "\n",
              "    .dataframe tbody tr th {\n",
              "        vertical-align: top;\n",
              "    }\n",
              "\n",
              "    .dataframe thead th {\n",
              "        text-align: right;\n",
              "    }\n",
              "</style>\n",
              "<table border=\"1\" class=\"dataframe\">\n",
              "  <thead>\n",
              "    <tr style=\"text-align: right;\">\n",
              "      <th></th>\n",
              "      <th>SNORD88B</th>\n",
              "      <th>GRHL2</th>\n",
              "      <th>C1orf172</th>\n",
              "      <th>RAB25</th>\n",
              "      <th>ANKS4B</th>\n",
              "      <th>HNF4A</th>\n",
              "      <th>AP1M2</th>\n",
              "      <th>PKP3</th>\n",
              "      <th>STMN4</th>\n",
              "      <th>ESRP1</th>\n",
              "      <th>CDHR5</th>\n",
              "      <th>MEG3</th>\n",
              "      <th>PRSS8</th>\n",
              "      <th>OVOL2</th>\n",
              "      <th>SPINT1</th>\n",
              "      <th>TM4SF5</th>\n",
              "      <th>ELAVL3</th>\n",
              "      <th>FAM123A</th>\n",
              "      <th>ZDHHC22</th>\n",
              "      <th>MMD2</th>\n",
              "      <th>SH2D3A</th>\n",
              "      <th>C21orf131</th>\n",
              "      <th>NCAN</th>\n",
              "      <th>CRB3</th>\n",
              "      <th>CLDN4</th>\n",
              "      <th>CACNG7</th>\n",
              "      <th>C1orf210</th>\n",
              "      <th>KCNJ9</th>\n",
              "      <th>CLDN7</th>\n",
              "      <th>ATCAY</th>\n",
              "      <th>C2orf80</th>\n",
              "      <th>ATP6V1G2</th>\n",
              "      <th>ST14</th>\n",
              "      <th>SHISA7</th>\n",
              "      <th>ELF3</th>\n",
              "    </tr>\n",
              "  </thead>\n",
              "  <tbody>\n",
              "    <tr>\n",
              "      <th>count</th>\n",
              "      <td>8.895000e+03</td>\n",
              "      <td>8895.000000</td>\n",
              "      <td>8895.000000</td>\n",
              "      <td>8895.000000</td>\n",
              "      <td>8895.000000</td>\n",
              "      <td>8895.000000</td>\n",
              "      <td>8895.000000</td>\n",
              "      <td>8895.000000</td>\n",
              "      <td>8895.000000</td>\n",
              "      <td>8895.000000</td>\n",
              "      <td>8895.000000</td>\n",
              "      <td>8895.000000</td>\n",
              "      <td>8895.000000</td>\n",
              "      <td>8895.000000</td>\n",
              "      <td>8895.000000</td>\n",
              "      <td>8895.000000</td>\n",
              "      <td>8895.000000</td>\n",
              "      <td>8895.000000</td>\n",
              "      <td>8895.000000</td>\n",
              "      <td>8895.000000</td>\n",
              "      <td>8895.000000</td>\n",
              "      <td>8895.000000</td>\n",
              "      <td>8895.000000</td>\n",
              "      <td>8895.000000</td>\n",
              "      <td>8895.000000</td>\n",
              "      <td>8895.000000</td>\n",
              "      <td>8895.000000</td>\n",
              "      <td>8895.000000</td>\n",
              "      <td>8895.000000</td>\n",
              "      <td>8895.000000</td>\n",
              "      <td>8895.000000</td>\n",
              "      <td>8895.000000</td>\n",
              "      <td>8895.000000</td>\n",
              "      <td>8895.000000</td>\n",
              "      <td>8895.000000</td>\n",
              "    </tr>\n",
              "    <tr>\n",
              "      <th>mean</th>\n",
              "      <td>3.321928e+00</td>\n",
              "      <td>8.155817</td>\n",
              "      <td>7.593661</td>\n",
              "      <td>8.785721</td>\n",
              "      <td>4.627285</td>\n",
              "      <td>5.378231</td>\n",
              "      <td>8.976169</td>\n",
              "      <td>8.860184</td>\n",
              "      <td>4.044450</td>\n",
              "      <td>9.361552</td>\n",
              "      <td>5.359268</td>\n",
              "      <td>6.365150</td>\n",
              "      <td>9.773930</td>\n",
              "      <td>6.348790</td>\n",
              "      <td>10.782612</td>\n",
              "      <td>4.534172</td>\n",
              "      <td>4.239040</td>\n",
              "      <td>3.894851</td>\n",
              "      <td>4.056129</td>\n",
              "      <td>3.704895</td>\n",
              "      <td>7.709817</td>\n",
              "      <td>3.585181</td>\n",
              "      <td>4.240817</td>\n",
              "      <td>7.642334</td>\n",
              "      <td>10.707382</td>\n",
              "      <td>3.914341</td>\n",
              "      <td>7.076422</td>\n",
              "      <td>3.824674</td>\n",
              "      <td>9.725093</td>\n",
              "      <td>4.468322</td>\n",
              "      <td>3.601279</td>\n",
              "      <td>5.252473</td>\n",
              "      <td>11.016779</td>\n",
              "      <td>4.015498</td>\n",
              "      <td>10.302955</td>\n",
              "    </tr>\n",
              "    <tr>\n",
              "      <th>std</th>\n",
              "      <td>3.286445e-13</td>\n",
              "      <td>3.178686</td>\n",
              "      <td>2.162151</td>\n",
              "      <td>3.414385</td>\n",
              "      <td>2.251971</td>\n",
              "      <td>3.201652</td>\n",
              "      <td>3.026656</td>\n",
              "      <td>3.212414</td>\n",
              "      <td>1.939588</td>\n",
              "      <td>3.152476</td>\n",
              "      <td>3.170327</td>\n",
              "      <td>2.448115</td>\n",
              "      <td>3.333205</td>\n",
              "      <td>2.019891</td>\n",
              "      <td>2.696889</td>\n",
              "      <td>2.391540</td>\n",
              "      <td>2.039951</td>\n",
              "      <td>1.627266</td>\n",
              "      <td>1.935259</td>\n",
              "      <td>1.385978</td>\n",
              "      <td>2.042799</td>\n",
              "      <td>1.061898</td>\n",
              "      <td>2.478874</td>\n",
              "      <td>2.121472</td>\n",
              "      <td>3.465986</td>\n",
              "      <td>1.798836</td>\n",
              "      <td>2.144705</td>\n",
              "      <td>1.398936</td>\n",
              "      <td>2.856072</td>\n",
              "      <td>2.449587</td>\n",
              "      <td>1.044203</td>\n",
              "      <td>1.856013</td>\n",
              "      <td>2.539577</td>\n",
              "      <td>1.584956</td>\n",
              "      <td>3.407289</td>\n",
              "    </tr>\n",
              "    <tr>\n",
              "      <th>min</th>\n",
              "      <td>3.321928e+00</td>\n",
              "      <td>3.321928</td>\n",
              "      <td>3.321928</td>\n",
              "      <td>3.321928</td>\n",
              "      <td>3.321928</td>\n",
              "      <td>3.321928</td>\n",
              "      <td>3.321928</td>\n",
              "      <td>3.321928</td>\n",
              "      <td>3.321928</td>\n",
              "      <td>3.321928</td>\n",
              "      <td>3.321928</td>\n",
              "      <td>3.321928</td>\n",
              "      <td>3.321928</td>\n",
              "      <td>3.321928</td>\n",
              "      <td>3.321928</td>\n",
              "      <td>3.321928</td>\n",
              "      <td>3.321928</td>\n",
              "      <td>3.321928</td>\n",
              "      <td>3.321928</td>\n",
              "      <td>3.321928</td>\n",
              "      <td>3.321928</td>\n",
              "      <td>3.321928</td>\n",
              "      <td>3.321928</td>\n",
              "      <td>3.321928</td>\n",
              "      <td>3.321928</td>\n",
              "      <td>3.321928</td>\n",
              "      <td>3.321928</td>\n",
              "      <td>3.321928</td>\n",
              "      <td>3.321928</td>\n",
              "      <td>3.321928</td>\n",
              "      <td>3.321928</td>\n",
              "      <td>3.321928</td>\n",
              "      <td>3.456596</td>\n",
              "      <td>3.321928</td>\n",
              "      <td>3.321928</td>\n",
              "    </tr>\n",
              "    <tr>\n",
              "      <th>25%</th>\n",
              "      <td>3.321928e+00</td>\n",
              "      <td>3.827169</td>\n",
              "      <td>6.568491</td>\n",
              "      <td>4.138856</td>\n",
              "      <td>3.321928</td>\n",
              "      <td>3.321928</td>\n",
              "      <td>7.390474</td>\n",
              "      <td>5.492842</td>\n",
              "      <td>3.321928</td>\n",
              "      <td>7.868540</td>\n",
              "      <td>3.420213</td>\n",
              "      <td>4.570809</td>\n",
              "      <td>8.432295</td>\n",
              "      <td>3.791871</td>\n",
              "      <td>10.121418</td>\n",
              "      <td>3.321928</td>\n",
              "      <td>3.321928</td>\n",
              "      <td>3.321928</td>\n",
              "      <td>3.321928</td>\n",
              "      <td>3.321928</td>\n",
              "      <td>6.649594</td>\n",
              "      <td>3.321928</td>\n",
              "      <td>3.321928</td>\n",
              "      <td>7.091705</td>\n",
              "      <td>8.336141</td>\n",
              "      <td>3.321928</td>\n",
              "      <td>5.705131</td>\n",
              "      <td>3.321928</td>\n",
              "      <td>8.154926</td>\n",
              "      <td>3.321928</td>\n",
              "      <td>3.321928</td>\n",
              "      <td>4.087904</td>\n",
              "      <td>9.768306</td>\n",
              "      <td>3.380293</td>\n",
              "      <td>8.762381</td>\n",
              "    </tr>\n",
              "    <tr>\n",
              "      <th>50%</th>\n",
              "      <td>3.321928e+00</td>\n",
              "      <td>9.721445</td>\n",
              "      <td>8.584962</td>\n",
              "      <td>10.578029</td>\n",
              "      <td>3.380397</td>\n",
              "      <td>3.487615</td>\n",
              "      <td>10.362406</td>\n",
              "      <td>10.032601</td>\n",
              "      <td>3.382280</td>\n",
              "      <td>10.825702</td>\n",
              "      <td>3.616934</td>\n",
              "      <td>5.775633</td>\n",
              "      <td>11.172563</td>\n",
              "      <td>7.065259</td>\n",
              "      <td>11.868456</td>\n",
              "      <td>3.321928</td>\n",
              "      <td>3.434668</td>\n",
              "      <td>3.321928</td>\n",
              "      <td>3.398610</td>\n",
              "      <td>3.321928</td>\n",
              "      <td>8.352049</td>\n",
              "      <td>3.321928</td>\n",
              "      <td>3.445316</td>\n",
              "      <td>8.492150</td>\n",
              "      <td>12.129232</td>\n",
              "      <td>3.321928</td>\n",
              "      <td>7.871400</td>\n",
              "      <td>3.399144</td>\n",
              "      <td>10.862832</td>\n",
              "      <td>3.401125</td>\n",
              "      <td>3.321928</td>\n",
              "      <td>4.682478</td>\n",
              "      <td>11.992357</td>\n",
              "      <td>3.487332</td>\n",
              "      <td>11.465436</td>\n",
              "    </tr>\n",
              "    <tr>\n",
              "      <th>75%</th>\n",
              "      <td>3.321928e+00</td>\n",
              "      <td>10.602422</td>\n",
              "      <td>9.106035</td>\n",
              "      <td>11.346711</td>\n",
              "      <td>4.613274</td>\n",
              "      <td>6.889222</td>\n",
              "      <td>11.159029</td>\n",
              "      <td>11.314739</td>\n",
              "      <td>3.548504</td>\n",
              "      <td>11.592149</td>\n",
              "      <td>5.771523</td>\n",
              "      <td>7.415182</td>\n",
              "      <td>12.132662</td>\n",
              "      <td>7.976795</td>\n",
              "      <td>12.536744</td>\n",
              "      <td>3.958196</td>\n",
              "      <td>3.806989</td>\n",
              "      <td>3.466366</td>\n",
              "      <td>3.599824</td>\n",
              "      <td>3.321928</td>\n",
              "      <td>9.185166</td>\n",
              "      <td>3.321928</td>\n",
              "      <td>3.667188</td>\n",
              "      <td>9.067013</td>\n",
              "      <td>13.256996</td>\n",
              "      <td>3.391637</td>\n",
              "      <td>8.679830</td>\n",
              "      <td>3.539184</td>\n",
              "      <td>11.819972</td>\n",
              "      <td>3.889011</td>\n",
              "      <td>3.321928</td>\n",
              "      <td>5.645023</td>\n",
              "      <td>12.805950</td>\n",
              "      <td>3.726068</td>\n",
              "      <td>12.869153</td>\n",
              "    </tr>\n",
              "    <tr>\n",
              "      <th>max</th>\n",
              "      <td>3.321928e+00</td>\n",
              "      <td>13.214960</td>\n",
              "      <td>11.400681</td>\n",
              "      <td>13.952766</td>\n",
              "      <td>11.334583</td>\n",
              "      <td>14.143314</td>\n",
              "      <td>14.195280</td>\n",
              "      <td>15.187468</td>\n",
              "      <td>13.293996</td>\n",
              "      <td>13.750252</td>\n",
              "      <td>16.494252</td>\n",
              "      <td>16.003397</td>\n",
              "      <td>16.222350</td>\n",
              "      <td>10.315371</td>\n",
              "      <td>15.279120</td>\n",
              "      <td>15.933825</td>\n",
              "      <td>13.872720</td>\n",
              "      <td>11.958680</td>\n",
              "      <td>13.540386</td>\n",
              "      <td>11.930154</td>\n",
              "      <td>11.773909</td>\n",
              "      <td>10.807282</td>\n",
              "      <td>17.157491</td>\n",
              "      <td>11.553039</td>\n",
              "      <td>16.765540</td>\n",
              "      <td>11.635063</td>\n",
              "      <td>11.841375</td>\n",
              "      <td>11.694423</td>\n",
              "      <td>14.485464</td>\n",
              "      <td>14.530785</td>\n",
              "      <td>10.079880</td>\n",
              "      <td>13.195618</td>\n",
              "      <td>15.532057</td>\n",
              "      <td>11.369453</td>\n",
              "      <td>15.908748</td>\n",
              "    </tr>\n",
              "  </tbody>\n",
              "</table>\n",
              "</div>"
            ],
            "text/plain": [
              "0          SNORD88B        GRHL2  ...       SHISA7         ELF3\n",
              "count  8.895000e+03  8895.000000  ...  8895.000000  8895.000000\n",
              "mean   3.321928e+00     8.155817  ...     4.015498    10.302955\n",
              "std    3.286445e-13     3.178686  ...     1.584956     3.407289\n",
              "min    3.321928e+00     3.321928  ...     3.321928     3.321928\n",
              "25%    3.321928e+00     3.827169  ...     3.380293     8.762381\n",
              "50%    3.321928e+00     9.721445  ...     3.487332    11.465436\n",
              "75%    3.321928e+00    10.602422  ...     3.726068    12.869153\n",
              "max    3.321928e+00    13.214960  ...    11.369453    15.908748\n",
              "\n",
              "[8 rows x 35 columns]"
            ]
          },
          "metadata": {
            "tags": []
          },
          "execution_count": 229
        }
      ]
    },
    {
      "cell_type": "markdown",
      "metadata": {
        "id": "3pRGMU8MLZ6C",
        "colab_type": "text"
      },
      "source": [
        "### Subproblem 1 - Computer R<sup>2</sup> and RMSE Mean and Standard Deviation"
      ]
    },
    {
      "cell_type": "markdown",
      "metadata": {
        "id": "P2Um4yCF0ww9",
        "colab_type": "text"
      },
      "source": [
        "**1.5** Import linear regression library from scikit."
      ]
    },
    {
      "cell_type": "code",
      "metadata": {
        "id": "HUPvijNa09uM",
        "colab_type": "code",
        "colab": {}
      },
      "source": [
        "from sklearn.linear_model import LinearRegression\n",
        "from sklearn.model_selection import train_test_split \n",
        "from sklearn import metrics"
      ],
      "execution_count": 0,
      "outputs": []
    },
    {
      "cell_type": "markdown",
      "metadata": {
        "id": "Ep-D88hypQvU",
        "colab_type": "text"
      },
      "source": [
        "**1.6** Setup x (microRNA features) and y (mRNA targets) values for regression. *Proof of concept*: let's try a single target value for now (SNORD88B)."
      ]
    },
    {
      "cell_type": "code",
      "metadata": {
        "id": "DsUlNsQspXGa",
        "colab_type": "code",
        "outputId": "8a37e1a3-4816-4a61-a6f4-559e44a999ba",
        "colab": {
          "base_uri": "https://localhost:8080/",
          "height": 0
        }
      },
      "source": [
        "x = micro_rna_dataframe.values\n",
        "print(f'Micro RNA Features:\\n {x}')\n",
        "y = mrna_well_dataframe[\"SNORD88B\"].values\n",
        "print(f'mRNA Target Value SNORD88B:\\n {y}')"
      ],
      "execution_count": 231,
      "outputs": [
        {
          "output_type": "stream",
          "text": [
            "Micro RNA Features:\n",
            " [[5.45376694 4.3838276  3.2169834  ... 3.97732759 5.50102704 4.75696249]\n",
            " [4.32198812 3.98658259 3.82988503 ... 4.19998992 5.22425381 4.42951072]\n",
            " [4.08911559 4.17859005 3.39378873 ... 3.1384791  5.68200738 4.40325252]\n",
            " ...\n",
            " [3.02645513 4.1710086  4.45773238 ... 2.69657029 4.73838707 5.70546468]\n",
            " [2.72775755 4.33952219 4.56746271 ... 3.01168894 5.60531597 5.87649015]\n",
            " [2.41979846 4.25275134 4.75874578 ... 2.74892305 5.13766053 6.12771056]]\n",
            "mRNA Target Value SNORD88B:\n",
            " [3.32192809 3.32192809 3.32192809 ... 3.32192809 3.32192809 3.32192809]\n"
          ],
          "name": "stdout"
        }
      ]
    },
    {
      "cell_type": "markdown",
      "metadata": {
        "id": "9FjsRSODwgCH",
        "colab_type": "text"
      },
      "source": [
        "**1.7** Split data 80/20 and run linear regression."
      ]
    },
    {
      "cell_type": "code",
      "metadata": {
        "id": "MpvHAl2AwmxV",
        "colab_type": "code",
        "outputId": "48d66ef9-bc30-422c-cbff-e1f76d71eb3f",
        "colab": {
          "base_uri": "https://localhost:8080/",
          "height": 0
        }
      },
      "source": [
        "x_train, x_test, y_train, y_test = train_test_split(x, y, test_size=0.2)\n",
        "r = LinearRegression()  \n",
        "r.fit(x_train, y_train)\n",
        "y_prediction = r.predict(x_test)\n",
        "df = pd.DataFrame({'Actual': y_test, 'Predicted': y_prediction})\n",
        "df.head()"
      ],
      "execution_count": 232,
      "outputs": [
        {
          "output_type": "execute_result",
          "data": {
            "text/html": [
              "<div>\n",
              "<style scoped>\n",
              "    .dataframe tbody tr th:only-of-type {\n",
              "        vertical-align: middle;\n",
              "    }\n",
              "\n",
              "    .dataframe tbody tr th {\n",
              "        vertical-align: top;\n",
              "    }\n",
              "\n",
              "    .dataframe thead th {\n",
              "        text-align: right;\n",
              "    }\n",
              "</style>\n",
              "<table border=\"1\" class=\"dataframe\">\n",
              "  <thead>\n",
              "    <tr style=\"text-align: right;\">\n",
              "      <th></th>\n",
              "      <th>Actual</th>\n",
              "      <th>Predicted</th>\n",
              "    </tr>\n",
              "  </thead>\n",
              "  <tbody>\n",
              "    <tr>\n",
              "      <th>0</th>\n",
              "      <td>3.321928</td>\n",
              "      <td>3.321928</td>\n",
              "    </tr>\n",
              "    <tr>\n",
              "      <th>1</th>\n",
              "      <td>3.321928</td>\n",
              "      <td>3.321928</td>\n",
              "    </tr>\n",
              "    <tr>\n",
              "      <th>2</th>\n",
              "      <td>3.321928</td>\n",
              "      <td>3.321928</td>\n",
              "    </tr>\n",
              "    <tr>\n",
              "      <th>3</th>\n",
              "      <td>3.321928</td>\n",
              "      <td>3.321928</td>\n",
              "    </tr>\n",
              "    <tr>\n",
              "      <th>4</th>\n",
              "      <td>3.321928</td>\n",
              "      <td>3.321928</td>\n",
              "    </tr>\n",
              "  </tbody>\n",
              "</table>\n",
              "</div>"
            ],
            "text/plain": [
              "     Actual  Predicted\n",
              "0  3.321928   3.321928\n",
              "1  3.321928   3.321928\n",
              "2  3.321928   3.321928\n",
              "3  3.321928   3.321928\n",
              "4  3.321928   3.321928"
            ]
          },
          "metadata": {
            "tags": []
          },
          "execution_count": 232
        }
      ]
    },
    {
      "cell_type": "markdown",
      "metadata": {
        "id": "FmPegxCxgxTy",
        "colab_type": "text"
      },
      "source": [
        "**1.8** Let's take a look at some of the metrics. In particular, R<sup>2</sup> and RMSE."
      ]
    },
    {
      "cell_type": "code",
      "metadata": {
        "id": "udGf6Ypeg3BQ",
        "colab_type": "code",
        "outputId": "cd78683c-8bf9-417e-99c9-fed4a039e047",
        "colab": {
          "base_uri": "https://localhost:8080/",
          "height": 0
        }
      },
      "source": [
        "rmse = np.sqrt(metrics.mean_squared_error(y_test, y_prediction))\n",
        "r2 = metrics.r2_score(y_test, y_prediction)\n",
        "print(f'RMSE: {rmse}; R2: {r2}') # Notice how error is essentially zero, so we have a perfect prediciton"
      ],
      "execution_count": 233,
      "outputs": [
        {
          "output_type": "stream",
          "text": [
            "RMSE: 0.0; R2: 1.0\n"
          ],
          "name": "stdout"
        }
      ]
    },
    {
      "cell_type": "markdown",
      "metadata": {
        "id": "r9qGpiFb4FEP",
        "colab_type": "text"
      },
      "source": [
        "**1.9** Turns out SNORD88B is extremely stable. In other words, it's fairly easy to predict regardless of which features we choose. Let's try creating an experiment for all target values.\n",
        "\n"
      ]
    },
    {
      "cell_type": "code",
      "metadata": {
        "id": "TKqmZeuKjCOz",
        "colab_type": "code",
        "colab": {}
      },
      "source": [
        "def experiment(features, targets):\n",
        "  rmse_list = []\n",
        "  r2_list = []\n",
        "  for _ in range(10):\n",
        "    y = targets.values\n",
        "    x_train, x_test, y_train, y_test = train_test_split(features, y, test_size=0.2)\n",
        "    r = LinearRegression()  \n",
        "    r.fit(x_train, y_train)\n",
        "    y_prediction = r.predict(x_test)\n",
        "    rmse = np.sqrt(metrics.mean_squared_error(y_test, y_prediction))\n",
        "    rmse_list.append(rmse)\n",
        "    r2 = metrics.r2_score(y_test, y_prediction)\n",
        "    r2_list.append(r2)\n",
        "  return {\n",
        "      \"rmse_avg\": np.average(rmse_list),\n",
        "      \"rmse_std\": np.std(rmse_list), \n",
        "      \"r2_avg\": np.average(r2_list),\n",
        "      \"r2_std\": np.std(r2_list)\n",
        "  }"
      ],
      "execution_count": 0,
      "outputs": []
    },
    {
      "cell_type": "code",
      "metadata": {
        "id": "_LaArQZBAPhX",
        "colab_type": "code",
        "colab": {}
      },
      "source": [
        "def compute_experiment_error(features, targets):\n",
        "  error_columns = {}\n",
        "  for column in targets:\n",
        "    error = experiment(features, targets[column])\n",
        "    error_columns[column] = error\n",
        "  return error_columns"
      ],
      "execution_count": 0,
      "outputs": []
    },
    {
      "cell_type": "markdown",
      "metadata": {
        "id": "JIVacT6djupL",
        "colab_type": "text"
      },
      "source": [
        "**1.10** Great! Now, we can quickly iterate over every column and report the average mean and rmse."
      ]
    },
    {
      "cell_type": "code",
      "metadata": {
        "id": "bmFmzqpp4kTJ",
        "colab_type": "code",
        "colab": {}
      },
      "source": [
        "well_error = compute_experiment_error(x, mrna_well_dataframe)\n",
        "poor_error = compute_experiment_error(x, mrna_poor_dataframe)"
      ],
      "execution_count": 0,
      "outputs": []
    },
    {
      "cell_type": "markdown",
      "metadata": {
        "id": "dlps9uqvLrPy",
        "colab_type": "text"
      },
      "source": [
        "### Subproblem 2 - Visualize Error"
      ]
    },
    {
      "cell_type": "markdown",
      "metadata": {
        "id": "1ZC_OL_3nXXB",
        "colab_type": "text"
      },
      "source": [
        "**1.11** Time to visualize the error between the two target sets."
      ]
    },
    {
      "cell_type": "code",
      "metadata": {
        "id": "_KkNZSpInf5Z",
        "colab_type": "code",
        "outputId": "abd7c525-7adc-4980-d788-b3a105f19cfc",
        "colab": {
          "base_uri": "https://localhost:8080/",
          "height": 0
        }
      },
      "source": [
        "well_r2_dataframe = pd.DataFrame.from_dict(well_error).T[\"r2_avg\"]\n",
        "poor_r2_dataframe = pd.DataFrame.from_dict(poor_error).T[\"r2_avg\"]\n",
        "r2_dataframe = pd.DataFrame([well_r2_dataframe, poor_r2_dataframe]).T\n",
        "r2_dataframe.columns = [\"Well\", \"Poor\"]\n",
        "r2_dataframe.plot(kind='bar',figsize=(16,10))"
      ],
      "execution_count": 237,
      "outputs": [
        {
          "output_type": "execute_result",
          "data": {
            "text/plain": [
              "<matplotlib.axes._subplots.AxesSubplot at 0x7fb4f67dc400>"
            ]
          },
          "metadata": {
            "tags": []
          },
          "execution_count": 237
        },
        {
          "output_type": "display_data",
          "data": {
            "image/png": "[encoded data removed]",
            "text/plain": [
              "<Figure size 1152x720 with 1 Axes>"
            ]
          },
          "metadata": {
            "tags": []
          }
        }
      ]
    },
    {
      "cell_type": "markdown",
      "metadata": {
        "id": "ZZHVcwIDq62M",
        "colab_type": "text"
      },
      "source": [
        "Here, we can see that the R<sup>2</sup> value for the well expressed genes is much higher than the poorly expressed genes. In other words, the 21 features more clearly fit the well expressed genes on average. \n",
        "\n"
      ]
    },
    {
      "cell_type": "markdown",
      "metadata": {
        "id": "eKYo-Tgxs481",
        "colab_type": "text"
      },
      "source": [
        "**1.12** That said, I think we can get an even more convincing plot by computing the average of all R<sup>2</sup> values for each set."
      ]
    },
    {
      "cell_type": "code",
      "metadata": {
        "id": "IL_jzaVhtFEk",
        "colab_type": "code",
        "outputId": "ca5957dd-2416-47c2-af15-3e5180b0d2ef",
        "colab": {
          "base_uri": "https://localhost:8080/",
          "height": 0
        }
      },
      "source": [
        "well_r2_avg = np.average(well_r2_dataframe.values)\n",
        "poor_r2_avg = np.average(poor_r2_dataframe.values)\n",
        "avg_dict = {\n",
        "    \"R2\": {\n",
        "        \"Well\": well_r2_avg,\n",
        "        \"Poor\": poor_r2_avg\n",
        "    }\n",
        "}\n",
        "pd.DataFrame.from_dict(avg_dict).plot(kind='bar',figsize=(12,8))"
      ],
      "execution_count": 238,
      "outputs": [
        {
          "output_type": "execute_result",
          "data": {
            "text/plain": [
              "<matplotlib.axes._subplots.AxesSubplot at 0x7fb4f691c908>"
            ]
          },
          "metadata": {
            "tags": []
          },
          "execution_count": 238
        },
        {
          "output_type": "display_data",
          "data": {
            "image/png": "[encoded data removed]",
            "text/plain": [
              "<Figure size 864x576 with 1 Axes>"
            ]
          },
          "metadata": {
            "tags": []
          }
        }
      ]
    },
    {
      "cell_type": "markdown",
      "metadata": {
        "id": "zOawgH6ZLy2m",
        "colab_type": "text"
      },
      "source": [
        "### Subproblem 3 - Introduce Categorical Variable"
      ]
    },
    {
      "cell_type": "markdown",
      "metadata": {
        "id": "3urM1OA6zuXh",
        "colab_type": "text"
      },
      "source": [
        "**1.13** At this point, we can introduce another categorical variable, tissue type. To do that, we'll need to treat the feature as a dummy variable: either 0 or 1. According to the assignment, we'll need 32 columns for our 33 tissues. "
      ]
    },
    {
      "cell_type": "code",
      "metadata": {
        "id": "_fm_twfe0UW_",
        "colab_type": "code",
        "outputId": "c3d2ab35-7353-43af-9e04-fdf6c7b72663",
        "colab": {
          "base_uri": "https://localhost:8080/",
          "height": 0
        }
      },
      "source": [
        "dummies = pd.get_dummies(tissue_types_dataframe)  # Generates dummies for us\n",
        "dummies.head()"
      ],
      "execution_count": 239,
      "outputs": [
        {
          "output_type": "execute_result",
          "data": {
            "text/html": [
              "<div>\n",
              "<style scoped>\n",
              "    .dataframe tbody tr th:only-of-type {\n",
              "        vertical-align: middle;\n",
              "    }\n",
              "\n",
              "    .dataframe tbody tr th {\n",
              "        vertical-align: top;\n",
              "    }\n",
              "\n",
              "    .dataframe thead th {\n",
              "        text-align: right;\n",
              "    }\n",
              "</style>\n",
              "<table border=\"1\" class=\"dataframe\">\n",
              "  <thead>\n",
              "    <tr style=\"text-align: right;\">\n",
              "      <th></th>\n",
              "      <th>cancerType_ACC</th>\n",
              "      <th>cancerType_BLCA</th>\n",
              "      <th>cancerType_BRCA</th>\n",
              "      <th>cancerType_CESC</th>\n",
              "      <th>cancerType_CHOL</th>\n",
              "      <th>cancerType_COAD</th>\n",
              "      <th>cancerType_DLBC</th>\n",
              "      <th>cancerType_ESCA</th>\n",
              "      <th>cancerType_GBM</th>\n",
              "      <th>cancerType_HNSC</th>\n",
              "      <th>cancerType_KICH</th>\n",
              "      <th>cancerType_KIRC</th>\n",
              "      <th>cancerType_KIRP</th>\n",
              "      <th>cancerType_LGG</th>\n",
              "      <th>cancerType_LIHC</th>\n",
              "      <th>cancerType_LUAD</th>\n",
              "      <th>cancerType_LUSC</th>\n",
              "      <th>cancerType_MESO</th>\n",
              "      <th>cancerType_OV</th>\n",
              "      <th>cancerType_PAAD</th>\n",
              "      <th>cancerType_PCPG</th>\n",
              "      <th>cancerType_PRAD</th>\n",
              "      <th>cancerType_READ</th>\n",
              "      <th>cancerType_SARC</th>\n",
              "      <th>cancerType_SKCM</th>\n",
              "      <th>cancerType_STAD</th>\n",
              "      <th>cancerType_TGCT</th>\n",
              "      <th>cancerType_THCA</th>\n",
              "      <th>cancerType_THYM</th>\n",
              "      <th>cancerType_UCEC</th>\n",
              "      <th>cancerType_UCS</th>\n",
              "      <th>cancerType_UVM</th>\n",
              "    </tr>\n",
              "  </thead>\n",
              "  <tbody>\n",
              "    <tr>\n",
              "      <th>1</th>\n",
              "      <td>1</td>\n",
              "      <td>0</td>\n",
              "      <td>0</td>\n",
              "      <td>0</td>\n",
              "      <td>0</td>\n",
              "      <td>0</td>\n",
              "      <td>0</td>\n",
              "      <td>0</td>\n",
              "      <td>0</td>\n",
              "      <td>0</td>\n",
              "      <td>0</td>\n",
              "      <td>0</td>\n",
              "      <td>0</td>\n",
              "      <td>0</td>\n",
              "      <td>0</td>\n",
              "      <td>0</td>\n",
              "      <td>0</td>\n",
              "      <td>0</td>\n",
              "      <td>0</td>\n",
              "      <td>0</td>\n",
              "      <td>0</td>\n",
              "      <td>0</td>\n",
              "      <td>0</td>\n",
              "      <td>0</td>\n",
              "      <td>0</td>\n",
              "      <td>0</td>\n",
              "      <td>0</td>\n",
              "      <td>0</td>\n",
              "      <td>0</td>\n",
              "      <td>0</td>\n",
              "      <td>0</td>\n",
              "      <td>0</td>\n",
              "    </tr>\n",
              "    <tr>\n",
              "      <th>2</th>\n",
              "      <td>1</td>\n",
              "      <td>0</td>\n",
              "      <td>0</td>\n",
              "      <td>0</td>\n",
              "      <td>0</td>\n",
              "      <td>0</td>\n",
              "      <td>0</td>\n",
              "      <td>0</td>\n",
              "      <td>0</td>\n",
              "      <td>0</td>\n",
              "      <td>0</td>\n",
              "      <td>0</td>\n",
              "      <td>0</td>\n",
              "      <td>0</td>\n",
              "      <td>0</td>\n",
              "      <td>0</td>\n",
              "      <td>0</td>\n",
              "      <td>0</td>\n",
              "      <td>0</td>\n",
              "      <td>0</td>\n",
              "      <td>0</td>\n",
              "      <td>0</td>\n",
              "      <td>0</td>\n",
              "      <td>0</td>\n",
              "      <td>0</td>\n",
              "      <td>0</td>\n",
              "      <td>0</td>\n",
              "      <td>0</td>\n",
              "      <td>0</td>\n",
              "      <td>0</td>\n",
              "      <td>0</td>\n",
              "      <td>0</td>\n",
              "    </tr>\n",
              "    <tr>\n",
              "      <th>3</th>\n",
              "      <td>1</td>\n",
              "      <td>0</td>\n",
              "      <td>0</td>\n",
              "      <td>0</td>\n",
              "      <td>0</td>\n",
              "      <td>0</td>\n",
              "      <td>0</td>\n",
              "      <td>0</td>\n",
              "      <td>0</td>\n",
              "      <td>0</td>\n",
              "      <td>0</td>\n",
              "      <td>0</td>\n",
              "      <td>0</td>\n",
              "      <td>0</td>\n",
              "      <td>0</td>\n",
              "      <td>0</td>\n",
              "      <td>0</td>\n",
              "      <td>0</td>\n",
              "      <td>0</td>\n",
              "      <td>0</td>\n",
              "      <td>0</td>\n",
              "      <td>0</td>\n",
              "      <td>0</td>\n",
              "      <td>0</td>\n",
              "      <td>0</td>\n",
              "      <td>0</td>\n",
              "      <td>0</td>\n",
              "      <td>0</td>\n",
              "      <td>0</td>\n",
              "      <td>0</td>\n",
              "      <td>0</td>\n",
              "      <td>0</td>\n",
              "    </tr>\n",
              "    <tr>\n",
              "      <th>4</th>\n",
              "      <td>1</td>\n",
              "      <td>0</td>\n",
              "      <td>0</td>\n",
              "      <td>0</td>\n",
              "      <td>0</td>\n",
              "      <td>0</td>\n",
              "      <td>0</td>\n",
              "      <td>0</td>\n",
              "      <td>0</td>\n",
              "      <td>0</td>\n",
              "      <td>0</td>\n",
              "      <td>0</td>\n",
              "      <td>0</td>\n",
              "      <td>0</td>\n",
              "      <td>0</td>\n",
              "      <td>0</td>\n",
              "      <td>0</td>\n",
              "      <td>0</td>\n",
              "      <td>0</td>\n",
              "      <td>0</td>\n",
              "      <td>0</td>\n",
              "      <td>0</td>\n",
              "      <td>0</td>\n",
              "      <td>0</td>\n",
              "      <td>0</td>\n",
              "      <td>0</td>\n",
              "      <td>0</td>\n",
              "      <td>0</td>\n",
              "      <td>0</td>\n",
              "      <td>0</td>\n",
              "      <td>0</td>\n",
              "      <td>0</td>\n",
              "    </tr>\n",
              "    <tr>\n",
              "      <th>5</th>\n",
              "      <td>1</td>\n",
              "      <td>0</td>\n",
              "      <td>0</td>\n",
              "      <td>0</td>\n",
              "      <td>0</td>\n",
              "      <td>0</td>\n",
              "      <td>0</td>\n",
              "      <td>0</td>\n",
              "      <td>0</td>\n",
              "      <td>0</td>\n",
              "      <td>0</td>\n",
              "      <td>0</td>\n",
              "      <td>0</td>\n",
              "      <td>0</td>\n",
              "      <td>0</td>\n",
              "      <td>0</td>\n",
              "      <td>0</td>\n",
              "      <td>0</td>\n",
              "      <td>0</td>\n",
              "      <td>0</td>\n",
              "      <td>0</td>\n",
              "      <td>0</td>\n",
              "      <td>0</td>\n",
              "      <td>0</td>\n",
              "      <td>0</td>\n",
              "      <td>0</td>\n",
              "      <td>0</td>\n",
              "      <td>0</td>\n",
              "      <td>0</td>\n",
              "      <td>0</td>\n",
              "      <td>0</td>\n",
              "      <td>0</td>\n",
              "    </tr>\n",
              "  </tbody>\n",
              "</table>\n",
              "</div>"
            ],
            "text/plain": [
              "   cancerType_ACC  cancerType_BLCA  ...  cancerType_UCS  cancerType_UVM\n",
              "1               1                0  ...               0               0\n",
              "2               1                0  ...               0               0\n",
              "3               1                0  ...               0               0\n",
              "4               1                0  ...               0               0\n",
              "5               1                0  ...               0               0\n",
              "\n",
              "[5 rows x 32 columns]"
            ]
          },
          "metadata": {
            "tags": []
          },
          "execution_count": 239
        }
      ]
    },
    {
      "cell_type": "markdown",
      "metadata": {
        "id": "v4Lz-kDz2zGm",
        "colab_type": "text"
      },
      "source": [
        "**1.14** At this point, we can try appending this data to our existing data and rerun our experiments."
      ]
    },
    {
      "cell_type": "code",
      "metadata": {
        "id": "QfkdNIE1264e",
        "colab_type": "code",
        "outputId": "b952ed41-6198-4725-91ff-af3ec79979bb",
        "colab": {
          "base_uri": "https://localhost:8080/",
          "height": 0
        }
      },
      "source": [
        "x = pd.concat([micro_rna_dataframe, dummies], axis=1)\n",
        "  \n",
        "well_error = compute_experiment_error(x, mrna_well_dataframe)\n",
        "poor_error = compute_experiment_error(x, mrna_poor_dataframe)\n",
        "\n",
        "well_r2_dataframe = pd.DataFrame.from_dict(well_error).T[\"r2_avg\"]\n",
        "poor_r2_dataframe = pd.DataFrame.from_dict(poor_error).T[\"r2_avg\"]\n",
        "r2_dataframe = pd.DataFrame([well_r2_dataframe, poor_r2_dataframe]).T\n",
        "r2_dataframe.columns = [\"Well\", \"Poor\"]\n",
        "r2_dataframe.plot(kind='bar',figsize=(16,10))"
      ],
      "execution_count": 240,
      "outputs": [
        {
          "output_type": "execute_result",
          "data": {
            "text/plain": [
              "<matplotlib.axes._subplots.AxesSubplot at 0x7fb4f6f3a080>"
            ]
          },
          "metadata": {
            "tags": []
          },
          "execution_count": 240
        },
        {
          "output_type": "display_data",
          "data": {
            "image/png": "[encoded data removed]",
            "text/plain": [
              "<Figure size 1152x720 with 1 Axes>"
            ]
          },
          "metadata": {
            "tags": []
          }
        }
      ]
    },
    {
      "cell_type": "markdown",
      "metadata": {
        "id": "nr_f_LauC6be",
        "colab_type": "text"
      },
      "source": [
        "Here, it seems like the additional features improved the R<sup>2</sup> for just about every possible target value. I suspect the additional categorical feature data is causing some overfitting. That said, prediction performance appears to have improved overall."
      ]
    },
    {
      "cell_type": "markdown",
      "metadata": {
        "id": "T6aWpq_zCJmi",
        "colab_type": "text"
      },
      "source": [
        "## Part 2 - Logistic Regression"
      ]
    },
    {
      "cell_type": "markdown",
      "metadata": {
        "id": "QzcaSlT0CQOF",
        "colab_type": "text"
      },
      "source": [
        "In this portion of the lab, we were asked to modify the hands-on lab to support logistic regression. In other words, modify the gradient descent code to support logistic functions rather than linear functions. "
      ]
    },
    {
      "cell_type": "markdown",
      "metadata": {
        "id": "x4-k06s-IVmW",
        "colab_type": "text"
      },
      "source": [
        "**2.0** Set up the environment."
      ]
    },
    {
      "cell_type": "code",
      "metadata": {
        "id": "C2bnUIq3IZbs",
        "colab_type": "code",
        "colab": {}
      },
      "source": [
        "import matplotlib.pyplot as plt\n",
        "import pandas as pd\n",
        "import numpy as np\n",
        "import seaborn as sns\n",
        "from sklearn.linear_model import LogisticRegression"
      ],
      "execution_count": 0,
      "outputs": []
    },
    {
      "cell_type": "markdown",
      "metadata": {
        "id": "Cb4-6IS2IdR7",
        "colab_type": "text"
      },
      "source": [
        "**2.1** Read the data from GitHub into a pandas dataframe."
      ]
    },
    {
      "cell_type": "code",
      "metadata": {
        "id": "VVrOCeniIhfM",
        "colab_type": "code",
        "colab": {}
      },
      "source": [
        "basketball_data_url = 'https://raw.githubusercontent.com/efosler/cse5522data/master/height_vs_weight.csv'\n",
        "basketball_dataframe = pd.read_csv(basketball_data_url)"
      ],
      "execution_count": 0,
      "outputs": []
    },
    {
      "cell_type": "markdown",
      "metadata": {
        "id": "YEGVu6xUIzb9",
        "colab_type": "text"
      },
      "source": [
        "**2.2** Print out the top of the dataframe to make sure that the data loaded correctly."
      ]
    },
    {
      "cell_type": "code",
      "metadata": {
        "id": "pD3aP79XI2nL",
        "colab_type": "code",
        "outputId": "748669b0-eb9d-4f0e-887e-7b5c20866a24",
        "colab": {
          "base_uri": "https://localhost:8080/",
          "height": 195
        }
      },
      "source": [
        "basketball_dataframe.head()"
      ],
      "execution_count": 243,
      "outputs": [
        {
          "output_type": "execute_result",
          "data": {
            "text/html": [
              "<div>\n",
              "<style scoped>\n",
              "    .dataframe tbody tr th:only-of-type {\n",
              "        vertical-align: middle;\n",
              "    }\n",
              "\n",
              "    .dataframe tbody tr th {\n",
              "        vertical-align: top;\n",
              "    }\n",
              "\n",
              "    .dataframe thead th {\n",
              "        text-align: right;\n",
              "    }\n",
              "</style>\n",
              "<table border=\"1\" class=\"dataframe\">\n",
              "  <thead>\n",
              "    <tr style=\"text-align: right;\">\n",
              "      <th></th>\n",
              "      <th>height</th>\n",
              "      <th>weight</th>\n",
              "      <th>female</th>\n",
              "      <th>basketball</th>\n",
              "    </tr>\n",
              "  </thead>\n",
              "  <tbody>\n",
              "    <tr>\n",
              "      <th>0</th>\n",
              "      <td>74.8</td>\n",
              "      <td>221.2</td>\n",
              "      <td>0</td>\n",
              "      <td>1</td>\n",
              "    </tr>\n",
              "    <tr>\n",
              "      <th>1</th>\n",
              "      <td>65.6</td>\n",
              "      <td>147.3</td>\n",
              "      <td>1</td>\n",
              "      <td>1</td>\n",
              "    </tr>\n",
              "    <tr>\n",
              "      <th>2</th>\n",
              "      <td>74.8</td>\n",
              "      <td>166.8</td>\n",
              "      <td>0</td>\n",
              "      <td>0</td>\n",
              "    </tr>\n",
              "    <tr>\n",
              "      <th>3</th>\n",
              "      <td>68.5</td>\n",
              "      <td>174.1</td>\n",
              "      <td>0</td>\n",
              "      <td>0</td>\n",
              "    </tr>\n",
              "    <tr>\n",
              "      <th>4</th>\n",
              "      <td>66.8</td>\n",
              "      <td>156.6</td>\n",
              "      <td>1</td>\n",
              "      <td>0</td>\n",
              "    </tr>\n",
              "  </tbody>\n",
              "</table>\n",
              "</div>"
            ],
            "text/plain": [
              "   height  weight  female  basketball\n",
              "0    74.8   221.2       0           1\n",
              "1    65.6   147.3       1           1\n",
              "2    74.8   166.8       0           0\n",
              "3    68.5   174.1       0           0\n",
              "4    66.8   156.6       1           0"
            ]
          },
          "metadata": {
            "tags": []
          },
          "execution_count": 243
        }
      ]
    },
    {
      "cell_type": "markdown",
      "metadata": {
        "id": "b8cBSsS0MCjs",
        "colab_type": "text"
      },
      "source": [
        "### Subproblem 1 - Train Model for Height"
      ]
    },
    {
      "cell_type": "markdown",
      "metadata": {
        "id": "m2c48JHOxVLr",
        "colab_type": "text"
      },
      "source": [
        "**2.3** Take a look at the data. "
      ]
    },
    {
      "cell_type": "code",
      "metadata": {
        "id": "2iC-cjfqwQ4b",
        "colab_type": "code",
        "outputId": "a4de93d7-36cb-4ac6-eab6-9548b147bc98",
        "colab": {
          "base_uri": "https://localhost:8080/",
          "height": 514
        }
      },
      "source": [
        "basketball_dataframe.plot(x=\"height\", y=\"basketball\", kind=\"scatter\", figsize=(12,8))"
      ],
      "execution_count": 244,
      "outputs": [
        {
          "output_type": "execute_result",
          "data": {
            "text/plain": [
              "<matplotlib.axes._subplots.AxesSubplot at 0x7fb4f6cc72e8>"
            ]
          },
          "metadata": {
            "tags": []
          },
          "execution_count": 244
        },
        {
          "output_type": "display_data",
          "data": {
            "image/png": "[encoded data removed]",
            "text/plain": [
              "<Figure size 864x576 with 1 Axes>"
            ]
          },
          "metadata": {
            "tags": []
          }
        }
      ]
    },
    {
      "cell_type": "code",
      "metadata": {
        "id": "o5W9HY1Lxx2b",
        "colab_type": "code",
        "outputId": "cd604a64-7001-4ea1-f2ca-54c89785d6a3",
        "colab": {
          "base_uri": "https://localhost:8080/",
          "height": 296
        }
      },
      "source": [
        "# Let's take a look at the expected logistic curve using seaborn\n",
        "sns.regplot(x='height', y='basketball', data=basketball_dataframe, logistic=True) "
      ],
      "execution_count": 245,
      "outputs": [
        {
          "output_type": "execute_result",
          "data": {
            "text/plain": [
              "<matplotlib.axes._subplots.AxesSubplot at 0x7fb4f65d6198>"
            ]
          },
          "metadata": {
            "tags": []
          },
          "execution_count": 245
        },
        {
          "output_type": "display_data",
          "data": {
            "image/png": "[encoded data removed]",
            "text/plain": [
              "<Figure size 432x288 with 1 Axes>"
            ]
          },
          "metadata": {
            "tags": []
          }
        }
      ]
    },
    {
      "cell_type": "markdown",
      "metadata": {
        "id": "XL2PO8HSMb5m",
        "colab_type": "text"
      },
      "source": [
        "**2.4** Select Height and Basketball Columns and construct our test and training sets. "
      ]
    },
    {
      "cell_type": "code",
      "metadata": {
        "id": "DfLHCQPuMgQo",
        "colab_type": "code",
        "colab": {}
      },
      "source": [
        "height = np.array(basketball_dataframe['height'], dtype='float').reshape(-1, 1)\n",
        "basketball = np.array(basketball_dataframe['basketball'], dtype='float').reshape(-1, 1)\n",
        "x_train, x_test, y_train, y_test = train_test_split(height, basketball.ravel(), test_size=0.2, random_state=17)"
      ],
      "execution_count": 0,
      "outputs": []
    },
    {
      "cell_type": "markdown",
      "metadata": {
        "id": "Rti0Y6MxUPII",
        "colab_type": "text"
      },
      "source": [
        "**2.5** Now, let's borrow some code from the hands-on, and adjust it for the logistic regression."
      ]
    },
    {
      "cell_type": "code",
      "metadata": {
        "id": "rGP63WWxUajU",
        "colab_type": "code",
        "colab": {}
      },
      "source": [
        "def computeMSEBatchGradient(weights, features, targets):\n",
        "  \"\"\"\n",
        "  Computes the average gradient over the batch of features.\n",
        "\n",
        "  :param weights: vector of weights (univariate linear = 2 weights)\n",
        "  :param features: vector (or matrix) of feature values\n",
        "  :param targets: vector of target values, same length as features\n",
        "  :returns: vector of gradient values\n",
        "  \"\"\"\n",
        "  predictions = features * weights[1] + weights[0]\n",
        "  sigmoid = 1 / (1 + np.exp(-1 * predictions))\n",
        "  errors = targets - sigmoid\n",
        "  gradient=np.array([-2.0 * np.average(errors), -2.0 * np.average(features * errors)])\n",
        "  \n",
        "  return gradient"
      ],
      "execution_count": 0,
      "outputs": []
    },
    {
      "cell_type": "code",
      "metadata": {
        "id": "y8AAGWkhaS9_",
        "colab_type": "code",
        "colab": {}
      },
      "source": [
        "def computeGradientDescentWeightUpdate(weights, features, targets, learning_rate):\n",
        "  \"\"\"\n",
        "  Updates weights by computing gradient.\n",
        "\n",
        "  :param weights: vector of weights (univariate linear = 2 weights)\n",
        "  :param features: vector (or matrix) of feature values\n",
        "  :param targets: vector of target values, same length as features\n",
        "  :param learning_rate: a scalar for adjusting corrections in error\n",
        "  \"\"\"\n",
        "\n",
        "  gradient = computeMSEBatchGradient(weights, features, targets)\n",
        "  weights = weights - learning_rate * gradient\n",
        "\n",
        "  return weights"
      ],
      "execution_count": 0,
      "outputs": []
    },
    {
      "cell_type": "markdown",
      "metadata": {
        "id": "92YAO-zpeV7d",
        "colab_type": "text"
      },
      "source": [
        "**2.6** Let's run our experiment!"
      ]
    },
    {
      "cell_type": "code",
      "metadata": {
        "id": "SYPAe2WieaAR",
        "colab_type": "code",
        "outputId": "e1c84c6e-f629-42c7-d49e-90d89f7a71e7",
        "colab": {
          "base_uri": "https://localhost:8080/",
          "height": 202
        }
      },
      "source": [
        "# naively selected the same weights and learning rate from the linear regression hands-on\n",
        "weights = [20000.,150.]\n",
        "learning_rate = 0.0001\n",
        "\n",
        "def run(weights, features, targets, learning_rate):\n",
        "  for step in range(10000):\n",
        "    weights = computeGradientDescentWeightUpdate(weights, features, targets, learning_rate)\n",
        "    if (step % 1000 == 0):\n",
        "      print(weights)\n",
        "  print(weights)\n",
        "  return weights\n",
        "\n",
        "final_weights = run(weights, x_train.ravel(), y_train, learning_rate)"
      ],
      "execution_count": 249,
      "outputs": [
        {
          "output_type": "stream",
          "text": [
            "[19999.99989688   149.99301263]\n",
            "[19999.89677188   143.00563763]\n",
            "[19999.79364688   136.01826263]\n",
            "[19999.69052188   129.03088763]\n",
            "[19999.58739688   122.04351263]\n",
            "[19999.48427188   115.05613763]\n",
            "[19999.38114688   108.06876263]\n",
            "[19999.27802188   101.08138763]\n",
            "[19999.17489688    94.09401263]\n",
            "[19999.07177188    87.10663763]\n",
            "[19998.96875001    80.12625   ]\n"
          ],
          "name": "stdout"
        }
      ]
    },
    {
      "cell_type": "markdown",
      "metadata": {
        "id": "rQSc9ntDzAA0",
        "colab_type": "text"
      },
      "source": [
        "**2.7** Get some sample weights for comparison with our own model."
      ]
    },
    {
      "cell_type": "code",
      "metadata": {
        "id": "aVjZSEd5zF0q",
        "colab_type": "code",
        "colab": {}
      },
      "source": [
        "regression = LogisticRegression()\n",
        "regression.fit(x_train, y_train)\n",
        "predictions = regression.predict(x_test)"
      ],
      "execution_count": 0,
      "outputs": []
    },
    {
      "cell_type": "code",
      "metadata": {
        "id": "7gZOZN0b029z",
        "colab_type": "code",
        "outputId": "8489db78-9a36-4728-fce6-9f699d23f17e",
        "colab": {
          "base_uri": "https://localhost:8080/",
          "height": 34
        }
      },
      "source": [
        "regression.coef_  # slope"
      ],
      "execution_count": 251,
      "outputs": [
        {
          "output_type": "execute_result",
          "data": {
            "text/plain": [
              "array([[0.1578324]])"
            ]
          },
          "metadata": {
            "tags": []
          },
          "execution_count": 251
        }
      ]
    },
    {
      "cell_type": "code",
      "metadata": {
        "id": "4iTuXWH103_7",
        "colab_type": "code",
        "outputId": "9716a4ff-148d-41ae-9a82-b6c78ccd4f63",
        "colab": {
          "base_uri": "https://localhost:8080/",
          "height": 34
        }
      },
      "source": [
        "regression.intercept_  # intercept"
      ],
      "execution_count": 252,
      "outputs": [
        {
          "output_type": "execute_result",
          "data": {
            "text/plain": [
              "array([-11.0449742])"
            ]
          },
          "metadata": {
            "tags": []
          },
          "execution_count": 252
        }
      ]
    },
    {
      "cell_type": "markdown",
      "metadata": {
        "id": "_hwPZuwE2Er2",
        "colab_type": "text"
      },
      "source": [
        "**2.8** Let's try toying with the learning rates for the two parameters with a new definition of the run function."
      ]
    },
    {
      "cell_type": "code",
      "metadata": {
        "id": "VF5cm52q2SR9",
        "colab_type": "code",
        "outputId": "48cd517c-4890-44e7-fe05-9c699eba850a",
        "colab": {
          "base_uri": "https://localhost:8080/",
          "height": 470
        }
      },
      "source": [
        "epsilon = 0.00000001\n",
        "def run(weights, features, targets, learning_rate):\n",
        "  for step in range(1000000):\n",
        "    prev_weights = weights\n",
        "    weights = computeGradientDescentWeightUpdate(weights, features, targets, learning_rate)\n",
        "    avg_gradient = (weights - prev_weights) / learning_rate\n",
        "    if (np.linalg.norm(avg_gradient) < epsilon):\n",
        "      break\n",
        "    if (step % 1000 == 0):\n",
        "      print(weights)\n",
        "  print(weights)\n",
        "  return weights\n",
        "\n",
        "learning_rate = [2.5, .0003]\n",
        "final_weights = run(weights, x_train.ravel(), y_train, learning_rate)"
      ],
      "execution_count": 253,
      "outputs": [
        {
          "output_type": "stream",
          "text": [
            "[19997.421875     149.97903787]\n",
            "[17419.296875     129.01691287]\n",
            "[14841.171875     108.05478787]\n",
            "[12263.046875      87.09266287]\n",
            "[9684.921875     66.13053787]\n",
            "[7106.796875     45.16841288]\n",
            "[4528.671875     24.20628788]\n",
            "[1950.546875      3.24416288]\n",
            "[520.38827692  -7.54108541]\n",
            "[440.77782959  -6.38689981]\n",
            "[361.198797    -5.23322987]\n",
            "[281.6822946   -4.08052178]\n",
            "[202.30555272  -2.92979379]\n",
            "[123.30150093  -1.78421677]\n",
            "[46.05600881 -0.6646882 ]\n",
            "[-3.33329083  0.04719196]\n",
            "[-9.93404279  0.14188557]\n",
            "[-10.86531299   0.15525334]\n",
            "[-11.02038238   0.15747948]\n",
            "[-11.04688221   0.15785991]\n",
            "[-11.05143062   0.15792521]\n",
            "[-11.05221188   0.15793642]\n",
            "[-11.0523461    0.15793835]\n",
            "[-11.05236915   0.15793868]\n",
            "[-11.05237311   0.15793874]\n",
            "[-11.05237379   0.15793875]\n",
            "[-11.05237382   0.15793875]\n"
          ],
          "name": "stdout"
        }
      ]
    },
    {
      "cell_type": "markdown",
      "metadata": {
        "id": "PXFQMiAv3Tln",
        "colab_type": "text"
      },
      "source": [
        "**2.9** Looks great! Now, let's compute the average loss on the test set. "
      ]
    },
    {
      "cell_type": "code",
      "metadata": {
        "id": "z09aZrvaMn9K",
        "colab_type": "code",
        "colab": {}
      },
      "source": [
        "def probability(weights, features):\n",
        "  \"\"\"\n",
        "  Computes the probability of an outcome (basketball).\n",
        "\n",
        "  :param weights: the computed weights\n",
        "  :param features: the x test set\n",
        "  \"\"\"\n",
        "  predictions = features * weights[1] + weights[0]\n",
        "  sigmoid = 1 / (1 + np.exp(-1 * predictions))\n",
        "  return sigmoid"
      ],
      "execution_count": 0,
      "outputs": []
    },
    {
      "cell_type": "code",
      "metadata": {
        "id": "Uje1TMYlNIQB",
        "colab_type": "code",
        "colab": {}
      },
      "source": [
        "def average_loss(weights, features, targets):\n",
        "  \"\"\"\n",
        "  Computes average loss.\n",
        "\n",
        "  :param weights: the computed weights\n",
        "  :param features: the x test set\n",
        "  :param targets: the y test set\n",
        "  \"\"\"\n",
        "  p_basketball = probability(weights, features)\n",
        "  loss = np.log(targets * p_basketball + (1 - targets) * (1 - p_basketball))\n",
        "  average_loss = -np.average(loss)\n",
        "  return average_loss"
      ],
      "execution_count": 0,
      "outputs": []
    },
    {
      "cell_type": "code",
      "metadata": {
        "id": "aNjuLVwhOPRD",
        "colab_type": "code",
        "outputId": "49ea30b1-c4b5-4d8e-ecf9-2239bf6c4bdb",
        "colab": {
          "base_uri": "https://localhost:8080/",
          "height": 34
        }
      },
      "source": [
        "average_loss(final_weights, x_test.ravel(), y_test)"
      ],
      "execution_count": 256,
      "outputs": [
        {
          "output_type": "execute_result",
          "data": {
            "text/plain": [
              "0.634631923885026"
            ]
          },
          "metadata": {
            "tags": []
          },
          "execution_count": 256
        }
      ]
    },
    {
      "cell_type": "markdown",
      "metadata": {
        "id": "yJkBBpoNQFx5",
        "colab_type": "text"
      },
      "source": [
        "**2.10** Let's try to compute the accuracy of the model now."
      ]
    },
    {
      "cell_type": "code",
      "metadata": {
        "id": "yBz7zB6qRMvj",
        "colab_type": "code",
        "colab": {}
      },
      "source": [
        "def probability_to_prediction(probability):\n",
        "  if probability > .5:\n",
        "    return 1\n",
        "  else:\n",
        "    return 0"
      ],
      "execution_count": 0,
      "outputs": []
    },
    {
      "cell_type": "code",
      "metadata": {
        "id": "-5JVvdbPQLlX",
        "colab_type": "code",
        "outputId": "b98198b0-c9f3-4539-a3c6-5a7cb3200200",
        "colab": {
          "base_uri": "https://localhost:8080/",
          "height": 34
        }
      },
      "source": [
        "p_basketball = probability(final_weights, x_test.ravel())\n",
        "basketball_predictions = np.array([probability_to_prediction(p) for p in p_basketball])\n",
        "matches = np.equal(basketball_predictions, y_test)\n",
        "np.average(matches) # returns the accuracy"
      ],
      "execution_count": 258,
      "outputs": [
        {
          "output_type": "execute_result",
          "data": {
            "text/plain": [
              "0.625"
            ]
          },
          "metadata": {
            "tags": []
          },
          "execution_count": 258
        }
      ]
    },
    {
      "cell_type": "markdown",
      "metadata": {
        "id": "EZkX1guqXP4N",
        "colab_type": "text"
      },
      "source": [
        "**2.11** Finally, let's generate our own graph."
      ]
    },
    {
      "cell_type": "code",
      "metadata": {
        "id": "p8mvsdl2agpe",
        "colab_type": "code",
        "outputId": "6ac37421-124f-4d01-b615-ec9c6ce684ba",
        "colab": {
          "base_uri": "https://localhost:8080/",
          "height": 296
        }
      },
      "source": [
        "fig, ax = plt.subplots()\n",
        "\n",
        "heights = np.array(basketball_dataframe[\"height\"].unique())\n",
        "heights.sort()\n",
        "y = probability(final_weights, heights)\n",
        "ax.plot(heights, y)\n",
        "\n",
        "basketball_dataframe.plot(x=\"height\", y=\"basketball\", ax=ax, kind=\"scatter\")"
      ],
      "execution_count": 259,
      "outputs": [
        {
          "output_type": "execute_result",
          "data": {
            "text/plain": [
              "<matplotlib.axes._subplots.AxesSubplot at 0x7fb4f65a2ac8>"
            ]
          },
          "metadata": {
            "tags": []
          },
          "execution_count": 259
        },
        {
          "output_type": "display_data",
          "data": {
            "image/png": "[encoded data removed]",
            "text/plain": [
              "<Figure size 432x288 with 1 Axes>"
            ]
          },
          "metadata": {
            "tags": []
          }
        }
      ]
    },
    {
      "cell_type": "markdown",
      "metadata": {
        "id": "KagU1fWwgfsC",
        "colab_type": "text"
      },
      "source": [
        "### Subproblem 2 - Incorporate Gender"
      ]
    },
    {
      "cell_type": "markdown",
      "metadata": {
        "id": "TZITn86Plw8Z",
        "colab_type": "text"
      },
      "source": [
        "**2.12** Let's separate our data out to incorporate gender."
      ]
    },
    {
      "cell_type": "code",
      "metadata": {
        "id": "derAdow7gvTN",
        "colab_type": "code",
        "colab": {}
      },
      "source": [
        "features = pd.DataFrame([basketball_dataframe[\"height\"], basketball_dataframe[\"female\"]]).T.values\n",
        "targets = basketball_dataframe[\"basketball\"].values\n",
        "x_train, x_test, y_train, y_test = train_test_split(features, targets, test_size=0.2, random_state=9)"
      ],
      "execution_count": 0,
      "outputs": []
    },
    {
      "cell_type": "markdown",
      "metadata": {
        "id": "7Q7Mj1zCoscE",
        "colab_type": "text"
      },
      "source": [
        "**2.13** Let's update our MSE gradient computation to include one additional feature. *I'm not sure about this yet!*"
      ]
    },
    {
      "cell_type": "code",
      "metadata": {
        "id": "BYdz3VGoxYZX",
        "colab_type": "code",
        "colab": {}
      },
      "source": [
        "def probability(weights, features):\n",
        "  \"\"\"\n",
        "  Computes the probability of an outcome (basketball).\n",
        "\n",
        "  :param weights: the computed weights\n",
        "  :param features: the x test set\n",
        "  \"\"\"\n",
        "  predictions = features[1] * weights[2] + features[0] * weights[1] + weights[0]  # there is a bug here? I'm not sure how to multiple these features correctly\n",
        "  sigmoid = 1 / (1 + np.exp(-1 * predictions))\n",
        "  return sigmoid"
      ],
      "execution_count": 0,
      "outputs": []
    },
    {
      "cell_type": "code",
      "metadata": {
        "colab_type": "code",
        "id": "m9ltXbexoy7L",
        "colab": {}
      },
      "source": [
        "def computeMSEBatchGradient(weights, features, targets):\n",
        "  \"\"\"\n",
        "  Computes the average gradient over the batch of features.\n",
        "\n",
        "  :param weights: vector of weights (univariate linear = 2 weights)\n",
        "  :param features: vector (or matrix) of feature values\n",
        "  :param targets: vector of target values, same length as features\n",
        "  :returns: vector of gradient values\n",
        "  \"\"\"\n",
        "  sigmoid = probability(weights, features)\n",
        "  errors = targets - sigmoid\n",
        "  gradient = np.array(\n",
        "      [\n",
        "          -2.0 * np.average(errors), \n",
        "          -2.0 * np.average(features[0] * errors),\n",
        "          -2.0 * np.average(features[1] * errors)\n",
        "      ]\n",
        "  )\n",
        "  \n",
        "  return gradient"
      ],
      "execution_count": 0,
      "outputs": []
    },
    {
      "cell_type": "markdown",
      "metadata": {
        "id": "rUUtCCOKlzpY",
        "colab_type": "text"
      },
      "source": [
        "**2.13** Let's run the same experiment by tuning our learning rate."
      ]
    },
    {
      "cell_type": "code",
      "metadata": {
        "id": "B20aIf3nl6xQ",
        "colab_type": "code",
        "outputId": "6420f429-e740-4fe7-b72a-82c44c4abfc2",
        "colab": {
          "base_uri": "https://localhost:8080/",
          "height": 1000
        }
      },
      "source": [
        "weights = [20, 100, 100]\n",
        "learning_rate = [.0013, .00005, .01]\n",
        "final_weights = run(weights, x_train.transpose(), y_train, learning_rate)"
      ],
      "execution_count": 263,
      "outputs": [
        {
          "output_type": "stream",
          "text": [
            "[19.99869187 99.99659097 99.9946875 ]\n",
            "[18.69056687 96.58755972 94.6821875 ]\n",
            "[17.38244187 93.17852847 89.3696875 ]\n",
            "[16.07431687 89.76949722 84.0571875 ]\n",
            "[14.76619187 86.36046597 78.7446875 ]\n",
            "[13.45806687 82.95143472 73.4321875 ]\n",
            "[12.14994187 79.54240347 68.1196875 ]\n",
            "[10.84181687 76.13337222 62.8071875 ]\n",
            "[ 9.53369187 72.72434097 57.4946875 ]\n",
            "[ 8.22556687 69.31530972 52.1821875 ]\n",
            "[ 6.91744187 65.90627847 46.8696875 ]\n",
            "[ 5.60931687 62.49724722 41.5571875 ]\n",
            "[ 4.30119187 59.08821597 36.2446875 ]\n",
            "[ 2.99306687 55.67918472 30.9321875 ]\n",
            "[ 1.68494187 52.27015347 25.6196875 ]\n",
            "[ 0.37681687 48.86112222 20.3071875 ]\n",
            "[-0.93130813 45.45209097 14.9946875 ]\n",
            "[-2.23943313 42.04305972  9.6821875 ]\n",
            "[-3.54755813 38.63402847  4.3696875 ]\n",
            "[-4.85568313 35.22499722 -0.9428125 ]\n",
            "[-6.16380813 31.81596597 -6.2553125 ]\n",
            "[ -7.47193313  28.40693472 -11.5678125 ]\n",
            "[ -8.78005813  24.99790347 -16.8803125 ]\n",
            "[-10.08818313  21.58887222 -22.1928125 ]\n",
            "[-11.39630813  18.17984097 -27.5053125 ]\n",
            "[-12.70443313  14.77080972 -32.8178125 ]\n",
            "[-14.01255813  11.36177847 -38.1303125 ]\n",
            "[-15.32068313   7.95274722 -43.4428125 ]\n",
            "[-16.62880813   4.54371597 -48.7553125 ]\n",
            "[-17.93380997   1.14196907 -54.04378822]\n",
            "[-18.00123097   0.90292144 -49.81241134]\n",
            "[-18.00425716   0.83890151 -45.08568966]\n",
            "[-18.00739414   0.77487762 -40.35982032]\n",
            "[-18.01070223   0.71075151 -35.63526718]\n",
            "[-18.01422193   0.64650381 -30.91234178]\n",
            "[-18.01800597   0.58211031 -26.19144974]\n",
            "[-18.02212309   0.51754033 -21.47312003]\n",
            "[-18.02666222   0.45275467 -16.75804353]\n",
            "[-18.03171621   0.38774352 -12.04736508]\n",
            "[-18.03626213   0.32487943  -7.35959701]\n",
            "[-18.03102018   0.28302189  -3.09738857]\n",
            "[-18.01893071   0.26211055  -0.4214176 ]\n",
            "[-18.01064385   0.25356601   0.6998698 ]\n",
            "[-18.0063506    0.25051382   1.09951949]\n",
            "[-18.00383902   0.24945145   1.23681655]\n",
            "[-18.00198381   0.24907561   1.28354843]\n",
            "[-18.00035857   0.24893408   1.29936775]\n",
            "[-17.99881337   0.2488723    1.30466762]\n",
            "[-17.99729668   0.24883765   1.30639119]\n",
            "[-17.99579092   0.24881223   1.30689941]\n",
            "[-17.99429012   0.24878998   1.30699471]\n",
            "[-17.99279223   0.24876881   1.3069498 ]\n",
            "[-17.99129657   0.24874802   1.30685734]\n",
            "[-17.9898029    0.24872739   1.30674883]\n",
            "[-17.98831112   0.24870682   1.30663496]\n",
            "[-17.98682123   0.2486863    1.30651936]\n",
            "[-17.9853332    0.2486658    1.30640327]\n",
            "[-17.98384703   0.24864533   1.30628711]\n",
            "[-17.98236271   0.24862489   1.30617103]\n",
            "[-17.98088025   0.24860447   1.30605506]\n",
            "[-17.97939963   0.24858408   1.30593923]\n",
            "[-17.97792087   0.24856371   1.30582354]\n",
            "[-17.97644395   0.24854337   1.30570799]\n",
            "[-17.97496888   0.24852306   1.30559258]\n",
            "[-17.97349564   0.24850277   1.30547732]\n",
            "[-17.97202425   0.2484825    1.30536221]\n",
            "[-17.9705547    0.24846226   1.30524724]\n",
            "[-17.96908698   0.24844205   1.30513241]\n",
            "[-17.96762109   0.24842186   1.30501772]\n",
            "[-17.96615704   0.2484017    1.30490318]\n",
            "[-17.96469481   0.24838156   1.30478878]\n",
            "[-17.96323441   0.24836145   1.30467452]\n",
            "[-17.96177584   0.24834136   1.3045604 ]\n",
            "[-17.96031908   0.2483213    1.30444643]\n",
            "[-17.95886415   0.24830126   1.3043326 ]\n",
            "[-17.95741104   0.24828125   1.30421891]\n",
            "[-17.95595974   0.24826126   1.30410537]\n",
            "[-17.95451026   0.2482413    1.30399196]\n",
            "[-17.95306259   0.24822136   1.3038787 ]\n",
            "[-17.95161673   0.24820145   1.30376558]\n",
            "[-17.95017267   0.24818156   1.30365259]\n",
            "[-17.94873042   0.24816169   1.30353975]\n",
            "[-17.94728998   0.24814186   1.30342706]\n",
            "[-17.94585134   0.24812204   1.3033145 ]\n",
            "[-17.94441449   0.24810225   1.30320208]\n",
            "[-17.94297944   0.24808249   1.3030898 ]\n",
            "[-17.94154619   0.24806275   1.30297766]\n",
            "[-17.94011473   0.24804304   1.30286567]\n",
            "[-17.93868506   0.24802335   1.30275381]\n",
            "[-17.93725718   0.24800368   1.30264209]\n",
            "[-17.93583108   0.24798404   1.30253051]\n",
            "[-17.93440677   0.24796442   1.30241907]\n",
            "[-17.93298425   0.24794483   1.30230777]\n",
            "[-17.9315635    0.24792527   1.30219661]\n",
            "[-17.93014453   0.24790572   1.30208559]\n",
            "[-17.92872733   0.24788621   1.30197471]\n",
            "[-17.92731191   0.24786671   1.30186396]\n",
            "[-17.92589826   0.24784724   1.30175336]\n",
            "[-17.92448638   0.2478278    1.30164289]\n",
            "[-17.92307627   0.24780838   1.30153256]\n",
            "[-17.92166793   0.24778898   1.30142237]\n",
            "[-17.92026134   0.24776961   1.30131231]\n",
            "[-17.91885652   0.24775026   1.30120239]\n",
            "[-17.91745346   0.24773094   1.30109262]\n",
            "[-17.91605215   0.24771164   1.30098297]\n",
            "[-17.9146526    0.24769237   1.30087347]\n",
            "[-17.91325481   0.24767312   1.3007641 ]\n",
            "[-17.91185876   0.24765389   1.30065487]\n",
            "[-17.91046446   0.24763469   1.30054577]\n",
            "[-17.90907191   0.24761551   1.30043682]\n",
            "[-17.9076811    0.24759635   1.30032799]\n",
            "[-17.90629204   0.24757722   1.30021931]\n",
            "[-17.90490472   0.24755812   1.30011076]\n",
            "[-17.90351913   0.24753903   1.30000234]\n",
            "[-17.90213528   0.24751998   1.29989406]\n",
            "[-17.90075317   0.24750094   1.29978592]\n",
            "[-17.89937279   0.24748193   1.29967791]\n",
            "[-17.89799414   0.24746294   1.29957004]\n",
            "[-17.89661721   0.24744398   1.2994623 ]\n",
            "[-17.89524202   0.24742504   1.2993547 ]\n",
            "[-17.89386854   0.24740612   1.29924723]\n",
            "[-17.89249679   0.24738723   1.2991399 ]\n",
            "[-17.89112676   0.24736836   1.2990327 ]\n",
            "[-17.88975845   0.24734952   1.29892563]\n",
            "[-17.88839185   0.2473307    1.2988187 ]\n",
            "[-17.88702697   0.2473119    1.29871191]\n",
            "[-17.8856638    0.24729313   1.29860524]\n",
            "[-17.88430234   0.24727438   1.29849871]\n",
            "[-17.88294258   0.24725565   1.29839232]\n",
            "[-17.88158454   0.24723695   1.29828605]\n",
            "[-17.88022819   0.24721827   1.29817992]\n",
            "[-17.87887355   0.24719961   1.29807393]\n",
            "[-17.87752061   0.24718098   1.29796806]\n",
            "[-17.87616936   0.24716237   1.29786233]\n",
            "[-17.87481982   0.24714378   1.29775673]\n",
            "[-17.87347196   0.24712522   1.29765126]\n",
            "[-17.8721258    0.24710668   1.29754593]\n",
            "[-17.87078132   0.24708816   1.29744073]\n",
            "[-17.86943854   0.24706967   1.29733566]\n",
            "[-17.86809744   0.2470512    1.29723072]\n",
            "[-17.86675802   0.24703276   1.29712591]\n",
            "[-17.86542029   0.24701433   1.29702123]\n",
            "[-17.86408423   0.24699593   1.29691669]\n",
            "[-17.86274985   0.24697755   1.29681227]\n",
            "[-17.86141715   0.2469592    1.29670799]\n",
            "[-17.86008612   0.24694087   1.29660384]\n",
            "[-17.85875677   0.24692256   1.29649982]\n",
            "[-17.85742908   0.24690428   1.29639592]\n",
            "[-17.85610306   0.24688601   1.29629216]\n",
            "[-17.85477871   0.24686778   1.29618853]\n",
            "[-17.85345602   0.24684956   1.29608503]\n",
            "[-17.85213499   0.24683137   1.29598166]\n",
            "[-17.85081562   0.2468132    1.29587842]\n",
            "[-17.84949791   0.24679505   1.29577531]\n",
            "[-17.84818186   0.24677692   1.29567232]\n",
            "[-17.84686746   0.24675882   1.29556947]\n",
            "[-17.84555471   0.24674074   1.29546675]\n",
            "[-17.84424361   0.24672269   1.29536415]\n",
            "[-17.84293416   0.24670465   1.29526168]\n",
            "[-17.84162635   0.24668664   1.29515935]\n",
            "[-17.84032019   0.24666865   1.29505714]\n",
            "[-17.83901567   0.24665069   1.29495505]\n",
            "[-17.8377128    0.24663274   1.2948531 ]\n",
            "[-17.83641156   0.24661482   1.29475128]\n",
            "[-17.83511195   0.24659693   1.29464958]\n",
            "[-17.83381398   0.24657905   1.29454801]\n",
            "[-17.83251764   0.2465612    1.29444657]\n",
            "[-17.83122294   0.24654337   1.29434525]\n",
            "[-17.82992986   0.24652556   1.29424406]\n",
            "[-17.82863841   0.24650777   1.294143  ]\n",
            "[-17.82734858   0.24649001   1.29404207]\n",
            "[-17.82606037   0.24647227   1.29394126]\n",
            "[-17.82477379   0.24645455   1.29384058]\n",
            "[-17.82348882   0.24643685   1.29374003]\n",
            "[-17.82220548   0.24641918   1.2936396 ]\n",
            "[-17.82092374   0.24640153   1.2935393 ]\n",
            "[-17.81964362   0.2463839    1.29343913]\n",
            "[-17.81836511   0.24636629   1.29333908]\n",
            "[-17.81708821   0.2463487    1.29323915]\n",
            "[-17.81581292   0.24633114   1.29313936]\n",
            "[-17.81453923   0.2463136    1.29303968]\n",
            "[-17.81326714   0.24629608   1.29294014]\n",
            "[-17.81199666   0.24627858   1.29284071]\n",
            "[-17.81072778   0.24626111   1.29274142]\n",
            "[-17.80946049   0.24624365   1.29264224]\n",
            "[-17.8081948    0.24622622   1.2925432 ]\n",
            "[-17.8069307    0.24620881   1.29244427]\n",
            "[-17.8056682    0.24619143   1.29234548]\n",
            "[-17.80440728   0.24617406   1.2922468 ]\n",
            "[-17.80314796   0.24615672   1.29214825]\n",
            "[-17.80189022   0.2461394    1.29204982]\n",
            "[-17.80063406   0.2461221    1.29195152]\n",
            "[-17.79937948   0.24610482   1.29185334]\n",
            "[-17.79812649   0.24608756   1.29175529]\n",
            "[-17.79687508   0.24607033   1.29165735]\n",
            "[-17.79562524   0.24605312   1.29155955]\n",
            "[-17.79437697   0.24603593   1.29146186]\n",
            "[-17.79313028   0.24601876   1.2913643 ]\n",
            "[-17.79188516   0.24600161   1.29126686]\n",
            "[-17.79064161   0.24598448   1.29116954]\n",
            "[-17.78939963   0.24596738   1.29107234]\n",
            "[-17.78815921   0.2459503    1.29097527]\n",
            "[-17.78692036   0.24593323   1.29087832]\n",
            "[-17.78568307   0.24591619   1.29078149]\n",
            "[-17.78444733   0.24589918   1.29068478]\n",
            "[-17.78321316   0.24588218   1.2905882 ]\n",
            "[-17.78198054   0.2458652    1.29049174]\n",
            "[-17.78074948   0.24584825   1.29039539]\n",
            "[-17.77951996   0.24583132   1.29029917]\n",
            "[-17.778292     0.24581441   1.29020307]\n",
            "[-17.77706559   0.24579752   1.29010709]\n",
            "[-17.77584072   0.24578065   1.29001124]\n",
            "[-17.7746174   0.2457638   1.2899155]\n",
            "[-17.77339562   0.24574697   1.28981988]\n",
            "[-17.77217538   0.24573017   1.28972439]\n",
            "[-17.77095669   0.24571339   1.28962901]\n",
            "[-17.76973952   0.24569662   1.28953376]\n",
            "[-17.7685239    0.24567988   1.28943862]\n",
            "[-17.76730981   0.24566316   1.28934361]\n",
            "[-17.76609725   0.24564646   1.28924871]\n",
            "[-17.76488622   0.24562978   1.28915393]\n",
            "[-17.76367672   0.24561313   1.28905928]\n",
            "[-17.76246875   0.24559649   1.28896474]\n",
            "[-17.7612623    0.24557988   1.28887032]\n",
            "[-17.76005737   0.24556328   1.28877602]\n",
            "[-17.75885396   0.24554671   1.28868184]\n",
            "[-17.75765208   0.24553016   1.28858778]\n",
            "[-17.75645171   0.24551363   1.28849384]\n",
            "[-17.75525285   0.24549712   1.28840001]\n",
            "[-17.75405551   0.24548063   1.2883063 ]\n",
            "[-17.75285968   0.24546416   1.28821272]\n",
            "[-17.75166536   0.24544771   1.28811924]\n",
            "[-17.75047255   0.24543128   1.28802589]\n",
            "[-17.74928125   0.24541488   1.28793266]\n",
            "[-17.74809145   0.24539849   1.28783954]\n",
            "[-17.74690315   0.24538213   1.28774654]\n",
            "[-17.74571636   0.24536578   1.28765366]\n",
            "[-17.74453106   0.24534946   1.28756089]\n",
            "[-17.74334726   0.24533315   1.28746824]\n",
            "[-17.74216495   0.24531687   1.28737571]\n",
            "[-17.74098414   0.24530061   1.2872833 ]\n",
            "[-17.73980483   0.24528437   1.287191  ]\n",
            "[-17.738627     0.24526815   1.28709882]\n",
            "[-17.73745066   0.24525195   1.28700675]\n",
            "[-17.7362758    0.24523577   1.2869148 ]\n",
            "[-17.73510244   0.24521961   1.28682297]\n",
            "[-17.73393055   0.24520347   1.28673125]\n",
            "[-17.73276015   0.24518735   1.28663965]\n",
            "[-17.73159122   0.24517125   1.28654817]\n",
            "[-17.73042377   0.24515518   1.28645679]\n",
            "[-17.7292578    0.24513912   1.28636554]\n",
            "[-17.7280933    0.24512308   1.2862744 ]\n",
            "[-17.72693028   0.24510706   1.28618338]\n",
            "[-17.72576872   0.24509107   1.28609247]\n",
            "[-17.72460864   0.24507509   1.28600167]\n",
            "[-17.72345002   0.24505914   1.28591099]\n",
            "[-17.72229286   0.2450432    1.28582042]\n",
            "[-17.72113717   0.24502728   1.28572997]\n",
            "[-17.71998294   0.24501139   1.28563964]\n",
            "[-17.71883017   0.24499551   1.28554941]\n",
            "[-17.71767886   0.24497966   1.2854593 ]\n",
            "[-17.71652901   0.24496382   1.28536931]\n",
            "[-17.71538061   0.24494801   1.28527943]\n",
            "[-17.71423366   0.24493221   1.28518966]\n",
            "[-17.71308816   0.24491644   1.2851    ]\n",
            "[-17.71194412   0.24490068   1.28501046]\n",
            "[-17.71080152   0.24488494   1.28492103]\n",
            "[-17.70966036   0.24486923   1.28483172]\n",
            "[-17.70852065   0.24485353   1.28474251]\n",
            "[-17.70738239   0.24483786   1.28465343]\n",
            "[-17.70624556   0.2448222    1.28456445]\n",
            "[-17.70511017   0.24480657   1.28447558]\n",
            "[-17.70397622   0.24479095   1.28438683]\n",
            "[-17.70284371   0.24477535   1.28429819]\n",
            "[-17.70171263   0.24475978   1.28420966]\n",
            "[-17.70058298   0.24474422   1.28412125]\n",
            "[-17.69945476   0.24472868   1.28403294]\n",
            "[-17.69832797   0.24471316   1.28394475]\n",
            "[-17.6972026    0.24469767   1.28385667]\n",
            "[-17.69607866   0.24468219   1.2837687 ]\n",
            "[-17.69495615   0.24466673   1.28368084]\n",
            "[-17.69383505   0.24465129   1.28359309]\n",
            "[-17.69271538   0.24463587   1.28350546]\n",
            "[-17.69159712   0.24462047   1.28341793]\n",
            "[-17.69048028   0.24460509   1.28333052]\n",
            "[-17.68936486   0.24458973   1.28324321]\n",
            "[-17.68825084   0.24457438   1.28315602]\n",
            "[-17.68713824   0.24455906   1.28306893]\n",
            "[-17.68602705   0.24454376   1.28298196]\n",
            "[-17.68491727   0.24452848   1.2828951 ]\n",
            "[-17.68380889   0.24451321   1.28280834]\n",
            "[-17.68270192   0.24449797   1.2827217 ]\n",
            "[-17.68159634   0.24448274   1.28263517]\n",
            "[-17.68049218   0.24446754   1.28254874]\n",
            "[-17.6793894    0.24445235   1.28246243]\n",
            "[-17.67828803   0.24443718   1.28237622]\n",
            "[-17.67718806   0.24442203   1.28229012]\n",
            "[-17.67608947   0.2444069    1.28220413]\n",
            "[-17.67499228   0.24439179   1.28211826]\n",
            "[-17.67389648   0.2443767    1.28203249]\n",
            "[-17.67280207   0.24436163   1.28194682]\n",
            "[-17.67170905   0.24434658   1.28186127]\n",
            "[-17.67061742   0.24433155   1.28177583]\n",
            "[-17.66952716   0.24431653   1.28169049]\n",
            "[-17.66843829   0.24430154   1.28160526]\n",
            "[-17.6673508    0.24428656   1.28152014]\n",
            "[-17.66626469   0.2442716    1.28143513]\n",
            "[-17.66517996   0.24425666   1.28135022]\n",
            "[-17.6640966    0.24424174   1.28126542]\n",
            "[-17.66301462   0.24422684   1.28118073]\n",
            "[-17.66193401   0.24421196   1.28109615]\n",
            "[-17.66085477   0.2441971    1.28101168]\n",
            "[-17.6597769    0.24418225   1.28092731]\n",
            "[-17.6587004    0.24416743   1.28084304]\n",
            "[-17.65762526   0.24415262   1.28075889]\n",
            "[-17.65655149   0.24413784   1.28067484]\n",
            "[-17.65547908   0.24412307   1.2805909 ]\n",
            "[-17.65440803   0.24410832   1.28050706]\n",
            "[-17.65333833   0.24409359   1.28042333]\n",
            "[-17.65227      0.24407887   1.28033971]\n",
            "[-17.65120302   0.24406418   1.28025619]\n",
            "[-17.6501374    0.2440495    1.28017278]\n",
            "[-17.64907313   0.24403485   1.28008948]\n",
            "[-17.64801021   0.24402021   1.28000628]\n",
            "[-17.64694864   0.24400559   1.27992318]\n",
            "[-17.64588841   0.24399099   1.27984019]\n",
            "[-17.64482954   0.24397641   1.27975731]\n",
            "[-17.643772     0.24396184   1.27967453]\n",
            "[-17.64271581   0.2439473    1.27959186]\n",
            "[-17.64166096   0.24393277   1.27950929]\n",
            "[-17.64060745   0.24391826   1.27942682]\n",
            "[-17.63955528   0.24390377   1.27934446]\n",
            "[-17.63850445   0.2438893    1.27926221]\n",
            "[-17.63745495   0.24387485   1.27918006]\n",
            "[-17.63640678   0.24386041   1.27909801]\n",
            "[-17.63535994   0.243846     1.27901607]\n",
            "[-17.63431443   0.2438316    1.27893423]\n",
            "[-17.63327025   0.24381722   1.27885249]\n",
            "[-17.6322274    0.24380286   1.27877086]\n",
            "[-17.63118587   0.24378851   1.27868933]\n",
            "[-17.63014567   0.24377419   1.27860791]\n",
            "[-17.62910678   0.24375988   1.27852659]\n",
            "[-17.62806922   0.24374559   1.27844537]\n",
            "[-17.62703297   0.24373132   1.27836426]\n",
            "[-17.62599805   0.24371707   1.27828325]\n",
            "[-17.62496443   0.24370284   1.27820234]\n",
            "[-17.62393213   0.24368862   1.27812153]\n",
            "[-17.62290115   0.24367442   1.27804083]\n",
            "[-17.62187147   0.24366024   1.27796023]\n",
            "[-17.6208431    0.24364608   1.27787973]\n",
            "[-17.61981604   0.24363194   1.27779933]\n",
            "[-17.61879028   0.24361781   1.27771904]\n",
            "[-17.61776583   0.2436037    1.27763884]\n",
            "[-17.61674268   0.24358961   1.27755875]\n",
            "[-17.61572083   0.24357554   1.27747876]\n",
            "[-17.61470028   0.24356148   1.27739888]\n",
            "[-17.61368103   0.24354745   1.27731909]\n",
            "[-17.61266308   0.24353343   1.2772394 ]\n",
            "[-17.61164642   0.24351943   1.27715982]\n",
            "[-17.61063105   0.24350544   1.27708034]\n",
            "[-17.60961697   0.24349148   1.27700096]\n",
            "[-17.60860418   0.24347753   1.27692168]\n",
            "[-17.60759268   0.2434636    1.2768425 ]\n",
            "[-17.60658247   0.24344969   1.27676342]\n",
            "[-17.60557354   0.2434358    1.27668444]\n",
            "[-17.6045659    0.24342192   1.27660556]\n",
            "[-17.60355954   0.24340806   1.27652678]\n",
            "[-17.60255446   0.24339422   1.2764481 ]\n",
            "[-17.60155065   0.2433804    1.27636952]\n",
            "[-17.60054813   0.24336659   1.27629105]\n",
            "[-17.59954688   0.2433528    1.27621267]\n",
            "[-17.5985469    0.24333903   1.27613439]\n",
            "[-17.59754819   0.24332528   1.27605621]\n",
            "[-17.59655076   0.24331154   1.27597813]\n",
            "[-17.5955546    0.24329782   1.27590015]\n",
            "[-17.5945597    0.24328412   1.27582227]\n",
            "[-17.59356607   0.24327044   1.27574448]\n",
            "[-17.59257371   0.24325677   1.2756668 ]\n",
            "[-17.59158261   0.24324312   1.27558921]\n",
            "[-17.59059277   0.24322949   1.27551173]\n",
            "[-17.58960419   0.24321588   1.27543434]\n",
            "[-17.58861687   0.24320228   1.27535705]\n",
            "[-17.5876308    0.2431887    1.27527986]\n",
            "[-17.58664599   0.24317514   1.27520277]\n",
            "[-17.58566244   0.24316159   1.27512577]\n",
            "[-17.58468013   0.24314807   1.27504887]\n",
            "[-17.58369908   0.24313456   1.27497207]\n",
            "[-17.58271928   0.24312106   1.27489537]\n",
            "[-17.58174073   0.24310759   1.27481877]\n",
            "[-17.58076342   0.24309413   1.27474226]\n",
            "[-17.57978735   0.24308069   1.27466585]\n",
            "[-17.57881253   0.24306726   1.27458954]\n",
            "[-17.57783896   0.24305385   1.27451333]\n",
            "[-17.57686662   0.24304046   1.27443721]\n",
            "[-17.57589552   0.24302709   1.27436119]\n",
            "[-17.57492565   0.24301373   1.27428526]\n",
            "[-17.57395703   0.24300039   1.27420943]\n",
            "[-17.57298964   0.24298707   1.2741337 ]\n",
            "[-17.57202348   0.24297377   1.27405807]\n",
            "[-17.57105855   0.24296048   1.27398253]\n",
            "[-17.57009485   0.24294721   1.27390709]\n",
            "[-17.56913238   0.24293395   1.27383174]\n",
            "[-17.56817113   0.24292072   1.27375649]\n",
            "[-17.56721111   0.24290749   1.27368134]\n",
            "[-17.56625231   0.24289429   1.27360628]\n",
            "[-17.56529474   0.2428811    1.27353131]\n",
            "[-17.56433839   0.24286793   1.27345644]\n",
            "[-17.56338325   0.24285478   1.27338167]\n",
            "[-17.56242933   0.24284164   1.27330699]\n",
            "[-17.56147663   0.24282852   1.27323241]\n",
            "[-17.56052515   0.24281542   1.27315792]\n",
            "[-17.55957487   0.24280233   1.27308353]\n",
            "[-17.55862581   0.24278926   1.27300923]\n",
            "[-17.55767796   0.24277621   1.27293503]\n",
            "[-17.55673132   0.24276318   1.27286092]\n",
            "[-17.55578588   0.24275016   1.27278691]\n",
            "[-17.55484165   0.24273715   1.27271299]\n",
            "[-17.55389863   0.24272417   1.27263916]\n",
            "[-17.5529568    0.2427112    1.27256543]\n",
            "[-17.55201618   0.24269824   1.27249179]\n",
            "[-17.55107676   0.2426853    1.27241825]\n",
            "[-17.55013854   0.24267238   1.2723448 ]\n",
            "[-17.54920151   0.24265948   1.27227144]\n",
            "[-17.54826568   0.24264659   1.27219818]\n",
            "[-17.54733104   0.24263372   1.27212501]\n",
            "[-17.54639759   0.24262087   1.27205193]\n",
            "[-17.54546534   0.24260803   1.27197895]\n",
            "[-17.54453427   0.24259521   1.27190606]\n",
            "[-17.5436044    0.2425824    1.27183326]\n",
            "[-17.54267571   0.24256961   1.27176055]\n",
            "[-17.5417482    0.24255684   1.27168794]\n",
            "[-17.54082188   0.24254408   1.27161542]\n",
            "[-17.53989674   0.24253134   1.27154299]\n",
            "[-17.53897278   0.24251862   1.27147066]\n",
            "[-17.53805      0.24250591   1.27139842]\n",
            "[-17.5371284    0.24249322   1.27132627]\n",
            "[-17.53620797   0.24248054   1.27125421]\n",
            "[-17.53528872   0.24246788   1.27118224]\n",
            "[-17.53437065   0.24245524   1.27111037]\n",
            "[-17.53345374   0.24244261   1.27103858]\n",
            "[-17.53253801   0.24243      1.27096689]\n",
            "[-17.53162344   0.24241741   1.27089529]\n",
            "[-17.53071004   0.24240483   1.27082378]\n",
            "[-17.52979781   0.24239227   1.27075236]\n",
            "[-17.52888675   0.24237972   1.27068104]\n",
            "[-17.52797684   0.24236719   1.2706098 ]\n",
            "[-17.5270681    0.24235468   1.27053866]\n",
            "[-17.52616052   0.24234218   1.2704676 ]\n",
            "[-17.5252541    0.2423297    1.27039664]\n",
            "[-17.52434884   0.24231723   1.27032577]\n",
            "[-17.52344473   0.24230478   1.27025498]\n",
            "[-17.52254178   0.24229234   1.27018429]\n",
            "[-17.52163998   0.24227993   1.27011369]\n",
            "[-17.52073933   0.24226752   1.27004318]\n",
            "[-17.51983983   0.24225514   1.26997276]\n",
            "[-17.51894149   0.24224276   1.26990242]\n",
            "[-17.51804429   0.24223041   1.26983218]\n",
            "[-17.51714823   0.24221807   1.26976203]\n",
            "[-17.51625332   0.24220575   1.26969197]\n",
            "[-17.51535956   0.24219344   1.26962199]\n",
            "[-17.51446694   0.24218114   1.26955211]\n",
            "[-17.51357545   0.24216887   1.26948231]\n",
            "[-17.51268511   0.24215661   1.26941261]\n",
            "[-17.5117959    0.24214436   1.26934299]\n",
            "[-17.51090784   0.24213213   1.26927346]\n",
            "[-17.5100209    0.24211992   1.26920402]\n",
            "[-17.5091351    0.24210772   1.26913467]\n",
            "[-17.50825043   0.24209554   1.26906541]\n",
            "[-17.5073669    0.24208337   1.26899624]\n",
            "[-17.50648449   0.24207122   1.26892715]\n",
            "[-17.50560321   0.24205908   1.26885815]\n",
            "[-17.50472306   0.24204696   1.26878925]\n",
            "[-17.50384403   0.24203486   1.26872042]\n",
            "[-17.50296613   0.24202277   1.26865169]\n",
            "[-17.50208934   0.24201069   1.26858305]\n",
            "[-17.50121368   0.24199863   1.26851449]\n",
            "[-17.50033914   0.24198659   1.26844602]\n",
            "[-17.49946572   0.24197456   1.26837764]\n",
            "[-17.49859342   0.24196255   1.26830934]\n",
            "[-17.49772223   0.24195055   1.26824113]\n",
            "[-17.49685215   0.24193857   1.26817301]\n",
            "[-17.49598319   0.2419266    1.26810498]\n",
            "[-17.49511534   0.24191465   1.26803703]\n",
            "[-17.4942486    0.24190272   1.26796917]\n",
            "[-17.49338297   0.2418908    1.2679014 ]\n",
            "[-17.49251844   0.24187889   1.26783371]\n",
            "[-17.49165502   0.241867     1.26776611]\n",
            "[-17.49079271   0.24185512   1.2676986 ]\n",
            "[-17.4899315    0.24184326   1.26763117]\n",
            "[-17.48907139   0.24183142   1.26756383]\n",
            "[-17.48821238   0.24181959   1.26749657]\n",
            "[-17.48735447   0.24180778   1.2674294 ]\n",
            "[-17.48649766   0.24179598   1.26736232]\n",
            "[-17.48564195   0.24178419   1.26729532]\n",
            "[-17.48478733   0.24177242   1.26722841]\n",
            "[-17.4839338    0.24176067   1.26716158]\n",
            "[-17.48308137   0.24174893   1.26709484]\n",
            "[-17.48223002   0.24173721   1.26702819]\n",
            "[-17.48137977   0.2417255    1.26696162]\n",
            "[-17.4805306    0.2417138    1.26689513]\n",
            "[-17.47968253   0.24170213   1.26682873]\n",
            "[-17.47883553   0.24169046   1.26676242]\n",
            "[-17.47798963   0.24167881   1.26669619]\n",
            "[-17.4771448    0.24166718   1.26663004]\n",
            "[-17.47630106   0.24165556   1.26656398]\n",
            "[-17.4754584    0.24164396   1.266498  ]\n",
            "[-17.47461681   0.24163237   1.26643211]\n",
            "[-17.4737763    0.24162079   1.2663663 ]\n",
            "[-17.47293687   0.24160923   1.26630058]\n",
            "[-17.47209852   0.24159769   1.26623494]\n",
            "[-17.47126124   0.24158616   1.26616938]\n",
            "[-17.47042503   0.24157464   1.26610391]\n",
            "[-17.46958989   0.24156314   1.26603852]\n",
            "[-17.46875582   0.24155165   1.26597322]\n",
            "[-17.46792282   0.24154018   1.265908  ]\n",
            "[-17.46709089   0.24152873   1.26584286]\n",
            "[-17.46626002   0.24151728   1.2657778 ]\n",
            "[-17.46543021   0.24150586   1.26571283]\n",
            "[-17.46460147   0.24149444   1.26564795]\n",
            "[-17.46377379   0.24148305   1.26558314]\n",
            "[-17.46294718   0.24147166   1.26551842]\n",
            "[-17.46212162   0.24146029   1.26545378]\n",
            "[-17.46129711   0.24144894   1.26538922]\n",
            "[-17.46047367   0.2414376    1.26532475]\n",
            "[-17.45965128   0.24142628   1.26526036]\n",
            "[-17.45882994   0.24141496   1.26519605]\n",
            "[-17.45800966   0.24140367   1.26513182]\n",
            "[-17.45719042   0.24139239   1.26506768]\n",
            "[-17.45637224   0.24138112   1.26500362]\n",
            "[-17.45555511   0.24136987   1.26493964]\n",
            "[-17.45473902   0.24135863   1.26487574]\n",
            "[-17.45392398   0.24134741   1.26481192]\n",
            "[-17.45310998   0.2413362    1.26474819]\n",
            "[-17.45229703   0.241325     1.26468454]\n",
            "[-17.45148512   0.24131382   1.26462096]\n",
            "[-17.45067425   0.24130265   1.26455747]\n",
            "[-17.44986442   0.2412915    1.26449407]\n",
            "[-17.44905562   0.24128036   1.26443074]\n",
            "[-17.44824787   0.24126924   1.26436749]\n",
            "[-17.44744115   0.24125813   1.26430433]\n",
            "[-17.44663546   0.24124704   1.26424124]\n",
            "[-17.44583081   0.24123595   1.26417824]\n",
            "[-17.44502719   0.24122489   1.26411532]\n",
            "[-17.4442246    0.24121384   1.26405247]\n",
            "[-17.44342304   0.2412028    1.26398971]\n",
            "[-17.44262251   0.24119177   1.26392703]\n",
            "[-17.441823     0.24118076   1.26386443]\n",
            "[-17.44102452   0.24116977   1.26380191]\n",
            "[-17.44022706   0.24115879   1.26373947]\n",
            "[-17.43943063   0.24114782   1.26367711]\n",
            "[-17.43863522   0.24113686   1.26361483]\n",
            "[-17.43784082   0.24112592   1.26355263]\n",
            "[-17.43704745   0.241115     1.26349051]\n",
            "[-17.4362551    0.24110409   1.26342846]\n",
            "[-17.43546376   0.24109319   1.2633665 ]\n",
            "[-17.43467343   0.24108231   1.26330462]\n",
            "[-17.43388412   0.24107144   1.26324282]\n",
            "[-17.43309583   0.24106058   1.26318109]\n",
            "[-17.43230854   0.24104974   1.26311945]\n",
            "[-17.43152227   0.24103891   1.26305788]\n",
            "[-17.430737     0.2410281    1.26299639]\n",
            "[-17.42995274   0.2410173    1.26293498]\n",
            "[-17.42916949   0.24100651   1.26287366]\n",
            "[-17.42838724   0.24099574   1.2628124 ]\n",
            "[-17.427606     0.24098498   1.26275123]\n",
            "[-17.42682576   0.24097424   1.26269014]\n",
            "[-17.42604652   0.24096351   1.26262912]\n",
            "[-17.42526828   0.24095279   1.26256819]\n",
            "[-17.42449104   0.24094209   1.26250733]\n",
            "[-17.4237148    0.2409314    1.26244655]\n",
            "[-17.42293955   0.24092072   1.26238584]\n",
            "[-17.4221653    0.24091006   1.26232522]\n",
            "[-17.42139205   0.24089941   1.26226467]\n",
            "[-17.42061978   0.24088878   1.2622042 ]\n",
            "[-17.41984851   0.24087815   1.26214381]\n",
            "[-17.41907823   0.24086755   1.26208349]\n",
            "[-17.41830894   0.24085695   1.26202325]\n",
            "[-17.41754063   0.24084637   1.26196309]\n",
            "[-17.41677331   0.24083581   1.26190301]\n",
            "[-17.41600698   0.24082525   1.26184301]\n",
            "[-17.41524163   0.24081471   1.26178308]\n",
            "[-17.41447727   0.24080419   1.26172322]\n",
            "[-17.41371388   0.24079368   1.26166345]\n",
            "[-17.41295148   0.24078318   1.26160375]\n",
            "[-17.41219005   0.24077269   1.26154413]\n",
            "[-17.41142961   0.24076222   1.26148458]\n",
            "[-17.41067014   0.24075176   1.26142511]\n",
            "[-17.40991164   0.24074132   1.26136572]\n",
            "[-17.40915412   0.24073088   1.26130641]\n",
            "[-17.40839757   0.24072047   1.26124717]\n",
            "[-17.407642     0.24071006   1.261188  ]\n",
            "[-17.4068874    0.24069967   1.26112891]\n",
            "[-17.40613376   0.24068929   1.2610699 ]\n",
            "[-17.40538109   0.24067893   1.26101096]\n",
            "[-17.40462939   0.24066857   1.2609521 ]\n",
            "[-17.40387866   0.24065824   1.26089332]\n",
            "[-17.40312889   0.24064791   1.26083461]\n",
            "[-17.40238009   0.2406376    1.26077597]\n",
            "[-17.40163224   0.2406273    1.26071741]\n",
            "[-17.40088536   0.24061702   1.26065893]\n",
            "[-17.40013944   0.24060674   1.26060052]\n",
            "[-17.39939448   0.24059649   1.26054219]\n",
            "[-17.39865047   0.24058624   1.26048393]\n",
            "[-17.39790742   0.24057601   1.26042574]\n",
            "[-17.39716532   0.24056579   1.26036763]\n",
            "[-17.39642418   0.24055558   1.2603096 ]\n",
            "[-17.395684     0.24054539   1.26025164]\n",
            "[-17.39494476   0.24053521   1.26019375]\n",
            "[-17.39420647   0.24052504   1.26013594]\n",
            "[-17.39346914   0.24051489   1.2600782 ]\n",
            "[-17.39273275   0.24050475   1.26002054]\n",
            "[-17.3919973    0.24049462   1.25996295]\n",
            "[-17.39126281   0.24048451   1.25990543]\n",
            "[-17.39052925   0.2404744    1.25984799]\n",
            "[-17.38979665   0.24046432   1.25979062]\n",
            "[-17.38906498   0.24045424   1.25973333]\n",
            "[-17.38833425   0.24044418   1.25967611]\n",
            "[-17.38760447   0.24043413   1.25961896]\n",
            "[-17.38687562   0.24042409   1.25956189]\n",
            "[-17.38614771   0.24041407   1.25950489]\n",
            "[-17.38542073   0.24040406   1.25944796]\n",
            "[-17.38469469   0.24039406   1.25939111]\n",
            "[-17.38396959   0.24038407   1.25933433]\n",
            "[-17.38324541   0.2403741    1.25927762]\n",
            "[-17.38252217   0.24036414   1.25922099]\n",
            "[-17.38179986   0.24035419   1.25916443]\n",
            "[-17.38107848   0.24034426   1.25910794]\n",
            "[-17.38035802   0.24033434   1.25905152]\n",
            "[-17.3796385    0.24032443   1.25899518]\n",
            "[-17.37891989   0.24031453   1.2589389 ]\n",
            "[-17.37820222   0.24030465   1.25888271]\n",
            "[-17.37748546   0.24029478   1.25882658]\n",
            "[-17.37676963   0.24028492   1.25877052]\n",
            "[-17.37605472   0.24027508   1.25871454]\n",
            "[-17.37534073   0.24026525   1.25865863]\n",
            "[-17.37462766   0.24025543   1.25860279]\n",
            "[-17.37391551   0.24024562   1.25854702]\n",
            "[-17.37320427   0.24023583   1.25849133]\n",
            "[-17.37249395   0.24022604   1.2584357 ]\n",
            "[-17.37178454   0.24021628   1.25838015]\n",
            "[-17.37107604   0.24020652   1.25832467]\n",
            "[-17.37036846   0.24019677   1.25826926]\n",
            "[-17.36966179   0.24018704   1.25821392]\n",
            "[-17.36895602   0.24017732   1.25815866]\n",
            "[-17.36825117   0.24016762   1.25810346]\n",
            "[-17.36754722   0.24015792   1.25804834]\n",
            "[-17.36684418   0.24014824   1.25799328]\n",
            "[-17.36614205   0.24013857   1.2579383 ]\n",
            "[-17.36544081   0.24012892   1.25788339]\n",
            "[-17.36474048   0.24011927   1.25782854]\n",
            "[-17.36404106   0.24010964   1.25777377]\n",
            "[-17.36334253   0.24010002   1.25771907]\n",
            "[-17.3626449    0.24009042   1.25766444]\n",
            "[-17.36194817   0.24008082   1.25760988]\n",
            "[-17.36125234   0.24007124   1.25755539]\n",
            "[-17.36055741   0.24006167   1.25750097]\n",
            "[-17.35986336   0.24005211   1.25744662]\n",
            "[-17.35917022   0.24004257   1.25739234]\n",
            "[-17.35847796   0.24003303   1.25733813]\n",
            "[-17.3577866    0.24002351   1.25728399]\n",
            "[-17.35709613   0.24001401   1.25722992]\n",
            "[-17.35640654   0.24000451   1.25717592]\n",
            "[-17.35571785   0.23999503   1.25712199]\n",
            "[-17.35503004   0.23998555   1.25706812]\n",
            "[-17.35434312   0.23997609   1.25701433]\n",
            "[-17.35365708   0.23996665   1.25696061]\n",
            "[-17.35297193   0.23995721   1.25690695]\n",
            "[-17.35228765   0.23994779   1.25685337]\n",
            "[-17.35160427   0.23993838   1.25679985]\n",
            "[-17.35092176   0.23992898   1.2567464 ]\n",
            "[-17.35024013   0.23991959   1.25669303]\n",
            "[-17.34955938   0.23991022   1.25663972]\n",
            "[-17.3488795    0.23990086   1.25658647]\n",
            "[-17.3482005    0.23989151   1.2565333 ]\n",
            "[-17.34752238   0.23988217   1.2564802 ]\n",
            "[-17.34684513   0.23987284   1.25642716]\n",
            "[-17.34616875   0.23986353   1.25637419]\n",
            "[-17.34549325   0.23985423   1.25632129]\n",
            "[-17.34481861   0.23984494   1.25626846]\n",
            "[-17.34414485   0.23983566   1.2562157 ]\n",
            "[-17.34347195   0.23982639   1.256163  ]\n",
            "[-17.34279992   0.23981714   1.25611038]\n",
            "[-17.34212876   0.23980789   1.25605782]\n",
            "[-17.34145846   0.23979866   1.25600532]\n",
            "[-17.34078903   0.23978945   1.2559529 ]\n",
            "[-17.34012045   0.23978024   1.25590054]\n",
            "[-17.33945274   0.23977104   1.25584825]\n",
            "[-17.3387859    0.23976186   1.25579603]\n",
            "[-17.33811991   0.23975269   1.25574388]\n",
            "[-17.33745478   0.23974353   1.25569179]\n",
            "[-17.3367905    0.23973438   1.25563977]\n",
            "[-17.33612709   0.23972525   1.25558781]\n",
            "[-17.33546452   0.23971612   1.25553593]\n",
            "[-17.33480282   0.23970701   1.25548411]\n",
            "[-17.33414196   0.23969791   1.25543235]\n",
            "[-17.33348196   0.23968882   1.25538067]\n",
            "[-17.33282281   0.23967975   1.25532905]\n",
            "[-17.33216451   0.23967068   1.25527749]\n",
            "[-17.33150706   0.23966163   1.25522601]\n",
            "[-17.33085046   0.23965259   1.25517459]\n",
            "[-17.3301947    0.23964355   1.25512323]\n",
            "[-17.32953979   0.23963454   1.25507194]\n",
            "[-17.32888572   0.23962553   1.25502072]\n",
            "[-17.3282325    0.23961653   1.25496957]\n",
            "[-17.32758012   0.23960755   1.25491848]\n",
            "[-17.32692858   0.23959858   1.25486745]\n",
            "[-17.32627788   0.23958962   1.25481649]\n",
            "[-17.32562802   0.23958067   1.2547656 ]\n",
            "[-17.324979     0.23957173   1.25471477]\n",
            "[-17.32433082   0.23956281   1.25466401]\n",
            "[-17.32368347   0.23955389   1.25461332]\n",
            "[-17.32303696   0.23954499   1.25456269]\n",
            "[-17.32239128   0.2395361    1.25451212]\n",
            "[-17.32174643   0.23952722   1.25446162]\n",
            "[-17.32110242   0.23951835   1.25441118]\n",
            "[-17.32045924   0.23950949   1.25436081]\n",
            "[-17.31981689   0.23950065   1.25431051]\n",
            "[-17.31917536   0.23949181   1.25426027]\n",
            "[-17.31853467   0.23948299   1.25421009]\n",
            "[-17.3178948    0.23947418   1.25415998]\n",
            "[-17.31725575   0.23946538   1.25410994]\n",
            "[-17.31661754   0.23945659   1.25405995]\n",
            "[-17.31598014   0.23944781   1.25401004]\n",
            "[-17.31534357   0.23943905   1.25396018]\n",
            "[-17.31470782   0.23943029   1.2539104 ]\n",
            "[-17.31407289   0.23942155   1.25386067]\n",
            "[-17.31343878   0.23941282   1.25381101]\n",
            "[-17.31280549   0.23940409   1.25376141]\n",
            "[-17.31217301   0.23939539   1.25371188]\n",
            "[-17.31154136   0.23938669   1.25366241]\n",
            "[-17.31091051   0.239378     1.25361301]\n",
            "[-17.31028049   0.23936932   1.25356367]\n",
            "[-17.30965127   0.23936066   1.25351439]\n",
            "[-17.30902287   0.23935201   1.25346518]\n",
            "[-17.30839528   0.23934336   1.25341603]\n",
            "[-17.3077685    0.23933473   1.25336694]\n",
            "[-17.30714252   0.23932611   1.25331792]\n",
            "[-17.30651736   0.2393175    1.25326896]\n",
            "[-17.30589301   0.23930891   1.25322006]\n",
            "[-17.30526946   0.23930032   1.25317123]\n",
            "[-17.30464671   0.23929174   1.25312246]\n",
            "[-17.30402477   0.23928318   1.25307375]\n",
            "[-17.30340363   0.23927463   1.2530251 ]\n",
            "[-17.3027833    0.23926608   1.25297652]\n",
            "[-17.30216376   0.23925755   1.252928  ]\n",
            "[-17.30154503   0.23924903   1.25287954]\n",
            "[-17.3009271    0.23924052   1.25283115]\n",
            "[-17.30030996   0.23923202   1.25278282]\n",
            "[-17.29969362   0.23922354   1.25273455]\n",
            "[-17.29907808   0.23921506   1.25268634]\n",
            "[-17.29846333   0.2392066    1.2526382 ]\n",
            "[-17.29784937   0.23919814   1.25259011]\n",
            "[-17.29723621   0.2391897    1.25254209]\n",
            "[-17.29662384   0.23918126   1.25249413]\n",
            "[-17.29601227   0.23917284   1.25244624]\n",
            "[-17.29540148   0.23916443   1.2523984 ]\n",
            "[-17.29479148   0.23915603   1.25235063]\n",
            "[-17.29418227   0.23914764   1.25230292]\n",
            "[-17.29357385   0.23913926   1.25225527]\n",
            "[-17.29296621   0.2391309    1.25220768]\n",
            "[-17.29235936   0.23912254   1.25216015]\n",
            "[-17.29175329   0.23911419   1.25211269]\n",
            "[-17.291148     0.23910586   1.25206528]\n",
            "[-17.2905435    0.23909754   1.25201794]\n",
            "[-17.28993978   0.23908922   1.25197066]\n",
            "[-17.28933684   0.23908092   1.25192343]\n",
            "[-17.28873467   0.23907263   1.25187627]\n",
            "[-17.28813329   0.23906435   1.25182918]\n",
            "[-17.28753268   0.23905607   1.25178214]\n",
            "[-17.28693285   0.23904781   1.25173516]\n",
            "[-17.2863338    0.23903957   1.25168824]\n",
            "[-17.28573552   0.23903133   1.25164139]\n",
            "[-17.28513801   0.2390231    1.25159459]\n",
            "[-17.28454127   0.23901488   1.25154785]\n",
            "[-17.28394531   0.23900667   1.25150118]\n",
            "[-17.28335012   0.23899848   1.25145457]\n",
            "[-17.28275569   0.23899029   1.25140801]\n",
            "[-17.28216204   0.23898212   1.25136152]\n",
            "[-17.28156915   0.23897395   1.25131508]\n",
            "[-17.28097703   0.2389658    1.25126871]\n",
            "[-17.28038567   0.23895766   1.25122239]\n",
            "[-17.27979508   0.23894952   1.25117614]\n",
            "[-17.27920525   0.2389414    1.25112994]\n",
            "[-17.27861619   0.23893329   1.25108381]\n",
            "[-17.27802788   0.23892519   1.25103773]\n",
            "[-17.27744034   0.2389171    1.25099172]\n",
            "[-17.27685356   0.23890902   1.25094576]\n",
            "[-17.27626753   0.23890095   1.25089986]\n",
            "[-17.27568226   0.23889289   1.25085403]\n",
            "[-17.27509776   0.23888484   1.25080825]\n",
            "[-17.274514     0.2388768    1.25076253]\n",
            "[-17.273931     0.23886877   1.25071687]\n",
            "[-17.27334876   0.23886076   1.25067127]\n",
            "[-17.27276727   0.23885275   1.25062573]\n",
            "[-17.27218653   0.23884475   1.25058024]\n",
            "[-17.27160654   0.23883676   1.25053482]\n",
            "[-17.2710273    0.23882879   1.25048945]\n",
            "[-17.27044881   0.23882082   1.25044414]\n",
            "[-17.26987107   0.23881287   1.2503989 ]\n",
            "[-17.26929408   0.23880492   1.25035371]\n",
            "[-17.26871783   0.23879699   1.25030857]\n",
            "[-17.26814233   0.23878906   1.2502635 ]\n",
            "[-17.26756757   0.23878115   1.25021849]\n",
            "[-17.26699356   0.23877324   1.25017353]\n",
            "[-17.26642029   0.23876535   1.25012863]\n",
            "[-17.26584776   0.23875746   1.25008379]\n",
            "[-17.26527597   0.23874959   1.25003901]\n",
            "[-17.26470492   0.23874173   1.24999428]\n",
            "[-17.26413461   0.23873387   1.24994961]\n",
            "[-17.26356504   0.23872603   1.249905  ]\n",
            "[-17.26299621   0.2387182    1.24986045]\n",
            "[-17.26242811   0.23871037   1.24981596]\n",
            "[-17.26186074   0.23870256   1.24977152]\n",
            "[-17.26129411   0.23869476   1.24972714]\n",
            "[-17.26072822   0.23868696   1.24968282]\n",
            "[-17.26016306   0.23867918   1.24963856]\n",
            "[-17.25959862   0.23867141   1.24959435]\n",
            "[-17.25903492   0.23866365   1.2495502 ]\n",
            "[-17.25847195   0.23865589   1.24950611]\n",
            "[-17.25790971   0.23864815   1.24946207]\n",
            "[-17.25734819   0.23864042   1.24941809]\n",
            "[-17.2567874    0.2386327    1.24937417]\n",
            "[-17.25622734   0.23862499   1.24933031]\n",
            "[-17.255668     0.23861728   1.2492865 ]\n",
            "[-17.25510939   0.23860959   1.24924275]\n",
            "[-17.2545515    0.23860191   1.24919905]\n",
            "[-17.25399433   0.23859424   1.24915541]\n",
            "[-17.25343788   0.23858657   1.24911183]\n",
            "[-17.25288216   0.23857892   1.2490683 ]\n",
            "[-17.25232715   0.23857128   1.24902484]\n",
            "[-17.25177286   0.23856365   1.24898142]\n",
            "[-17.25121929   0.23855602   1.24893807]\n",
            "[-17.25066644   0.23854841   1.24889476]\n",
            "[-17.2501143    0.23854081   1.24885152]\n",
            "[-17.24956287   0.23853321   1.24880833]\n",
            "[-17.24901216   0.23852563   1.2487652 ]\n",
            "[-17.24846217   0.23851806   1.24872212]\n",
            "[-17.24791288   0.23851049   1.2486791 ]\n",
            "[-17.24736431   0.23850294   1.24863613]\n",
            "[-17.24681645   0.23849539   1.24859322]\n",
            "[-17.2462693    0.23848786   1.24855037]\n",
            "[-17.24572285   0.23848033   1.24850757]\n",
            "[-17.24517712   0.23847282   1.24846483]\n",
            "[-17.24463209   0.23846531   1.24842214]\n",
            "[-17.24408776   0.23845782   1.2483795 ]\n",
            "[-17.24354415   0.23845033   1.24833693]\n",
            "[-17.24300123   0.23844286   1.2482944 ]\n",
            "[-17.24245902   0.23843539   1.24825194]\n",
            "[-17.24191751   0.23842793   1.24820952]\n",
            "[-17.2413767    0.23842049   1.24816717]\n",
            "[-17.2408366    0.23841305   1.24812486]\n",
            "[-17.24029719   0.23840562   1.24808261]\n",
            "[-17.23975848   0.2383982    1.24804042]\n",
            "[-17.23922047   0.23839079   1.24799828]\n",
            "[-17.23868316   0.2383834    1.2479562 ]\n",
            "[-17.23814654   0.23837601   1.24791417]\n",
            "[-17.23761062   0.23836863   1.24787219]\n",
            "[-17.23707539   0.23836126   1.24783027]\n",
            "[-17.23654086   0.23835389   1.2477884 ]\n",
            "[-17.23600702   0.23834654   1.24774659]\n",
            "[-17.23547387   0.2383392    1.24770483]\n",
            "[-17.23494141   0.23833187   1.24766313]\n",
            "[-17.23440964   0.23832455   1.24762148]\n",
            "[-17.23387856   0.23831723   1.24757988]\n",
            "[-17.23334817   0.23830993   1.24753834]\n",
            "[-17.23281846   0.23830264   1.24749685]\n",
            "[-17.23228945   0.23829535   1.24745541]\n",
            "[-17.23176111   0.23828808   1.24741403]\n",
            "[-17.23123347   0.23828081   1.24737271]\n",
            "[-17.2307065    0.23827355   1.24733143]\n",
            "[-17.23018022   0.23826631   1.24729021]\n",
            "[-17.22965462   0.23825907   1.24724904]\n",
            "[-17.22912971   0.23825184   1.24720793]\n",
            "[-17.22860547   0.23824462   1.24716687]\n",
            "[-17.22808191   0.23823741   1.24712586]\n",
            "[-17.22755904   0.23823021   1.24708491]\n",
            "[-17.22703684   0.23822302   1.247044  ]\n",
            "[-17.22651531   0.23821584   1.24700316]\n",
            "[-17.22599446   0.23820867   1.24696236]\n",
            "[-17.22547429   0.2382015    1.24692162]\n",
            "[-17.22495479   0.23819435   1.24688093]\n",
            "[-17.22443597   0.23818721   1.24684029]\n",
            "[-17.22391782   0.23818007   1.24679971]\n",
            "[-17.22340034   0.23817295   1.24675917]\n",
            "[-17.22288353   0.23816583   1.24671869]\n",
            "[-17.22236739   0.23815872   1.24667827]\n",
            "[-17.22185192   0.23815162   1.24663789]\n",
            "[-17.22133712   0.23814453   1.24659757]\n",
            "[-17.22082299   0.23813745   1.2465573 ]\n",
            "[-17.22030952   0.23813038   1.24651708]\n",
            "[-17.21979672   0.23812332   1.24647692]\n",
            "[-17.21928458   0.23811627   1.2464368 ]\n",
            "[-17.21877311   0.23810923   1.24639674]\n",
            "[-17.2182623    0.23810219   1.24635673]\n",
            "[-17.21775216   0.23809517   1.24631677]\n",
            "[-17.21724267   0.23808815   1.24627687]\n",
            "[-17.21673385   0.23808115   1.24623701]\n",
            "[-17.21622568   0.23807415   1.24619721]\n",
            "[-17.21571818   0.23806716   1.24615746]\n",
            "[-17.21521133   0.23806018   1.24611776]\n",
            "[-17.21470514   0.23805321   1.24607811]\n",
            "[-17.21419961   0.23804625   1.24603852]\n",
            "[-17.21369474   0.2380393    1.24599897]\n",
            "[-17.21319051   0.23803235   1.24595948]\n",
            "[-17.21268695   0.23802542   1.24592003]\n",
            "[-17.21218403   0.23801849   1.24588064]\n",
            "[-17.21168177   0.23801158   1.2458413 ]\n",
            "[-17.21118016   0.23800467   1.24580201]\n",
            "[-17.2106792    0.23799777   1.24576277]\n",
            "[-17.21017889   0.23799088   1.24572359]\n",
            "[-17.20967923   0.237984     1.24568445]\n",
            "[-17.20918022   0.23797713   1.24564536]\n",
            "[-17.20868186   0.23797027   1.24560633]\n",
            "[-17.20818414   0.23796341   1.24556734]\n",
            "[-17.20768707   0.23795657   1.24552841]\n",
            "[-17.20719064   0.23794973   1.24548952]\n",
            "[-17.20669486   0.23794291   1.24545069]\n",
            "[-17.20619972   0.23793609   1.24541191]\n",
            "[-17.20570522   0.23792928   1.24537317]\n",
            "[-17.20521136   0.23792248   1.24533449]\n",
            "[-17.20471815   0.23791569   1.24529586]\n",
            "[-17.20422558   0.2379089    1.24525728]\n",
            "[-17.20373364   0.23790213   1.24521874]\n",
            "[-17.20324234   0.23789536   1.24518026]\n",
            "[-17.20275169   0.23788861   1.24514183]\n",
            "[-17.20226166   0.23788186   1.24510345]\n",
            "[-17.20177228   0.23787512   1.24506511]\n",
            "[-17.20128353   0.23786839   1.24502683]\n",
            "[-17.20079541   0.23786167   1.2449886 ]\n",
            "[-17.20030793   0.23785496   1.24495041]\n",
            "[-17.19982108   0.23784825   1.24491228]\n",
            "[-17.19933486   0.23784156   1.2448742 ]\n",
            "[-17.19884927   0.23783487   1.24483616]\n",
            "[-17.19836432   0.23782819   1.24479817]\n",
            "[-17.19787999   0.23782152   1.24476024]\n",
            "[-17.19739629   0.23781486   1.24472235]\n",
            "[-17.19691322   0.23780821   1.24468451]\n",
            "[-17.19643078   0.23780157   1.24464672]\n",
            "[-17.19594896   0.23779493   1.24460898]\n",
            "[-17.19546777   0.23778831   1.24457129]\n",
            "[-17.1949872    0.23778169   1.24453365]\n",
            "[-17.19450726   0.23777508   1.24449606]\n",
            "[-17.19402794   0.23776848   1.24445851]\n",
            "[-17.19354925   0.23776189   1.24442101]\n",
            "[-17.19307117   0.2377553    1.24438357]\n",
            "[-17.19259372   0.23774873   1.24434617]\n",
            "[-17.19211688   0.23774216   1.24430882]\n",
            "[-17.19164067   0.23773561   1.24427152]\n",
            "[-17.19116507   0.23772906   1.24423426]\n",
            "[-17.19069009   0.23772252   1.24419706]\n",
            "[-17.19021573   0.23771598   1.2441599 ]\n",
            "[-17.18974198   0.23770946   1.24412279]\n",
            "[-17.18926885   0.23770294   1.24408573]\n",
            "[-17.18879634   0.23769644   1.24404872]\n",
            "[-17.18832443   0.23768994   1.24401176]\n",
            "[-17.18785314   0.23768345   1.24397484]\n",
            "[-17.18738247   0.23767697   1.24393797]\n",
            "[-17.1869124    0.2376705    1.24390115]\n",
            "[-17.18644295   0.23766403   1.24386438]\n",
            "[-17.1859741    0.23765758   1.24382766]\n",
            "[-17.18550586   0.23765113   1.24379098]\n",
            "[-17.18503823   0.23764469   1.24375435]\n",
            "[-17.18457121   0.23763826   1.24371777]\n",
            "[-17.1841048    0.23763183   1.24368123]\n",
            "[-17.18363899   0.23762542   1.24364475]\n",
            "[-17.18317379   0.23761901   1.24360831]\n",
            "[-17.18270919   0.23761262   1.24357191]\n",
            "[-17.18224519   0.23760623   1.24353557]\n",
            "[-17.1817818    0.23759985   1.24349927]\n",
            "[-17.18131901   0.23759347   1.24346302]\n",
            "[-17.18085682   0.23758711   1.24342682]\n",
            "[-17.18039523   0.23758075   1.24339066]\n",
            "[-17.17993425   0.23757441   1.24335455]\n",
            "[-17.17947386   0.23756807   1.24331849]\n",
            "[-17.17901406   0.23756173   1.24328247]\n",
            "[-17.17855487   0.23755541   1.2432465 ]\n",
            "[-17.17809627   0.2375491    1.24321058]\n",
            "[-17.17763827   0.23754279   1.24317471]\n",
            "[-17.17718087   0.23753649   1.24313888]\n",
            "[-17.17672406   0.2375302    1.24310309]\n",
            "[-17.17626784   0.23752392   1.24306736]\n",
            "[-17.17581221   0.23751764   1.24303167]\n",
            "[-17.17535718   0.23751138   1.24299603]\n",
            "[-17.17490274   0.23750512   1.24296043]\n",
            "[-17.17444889   0.23749887   1.24292488]\n",
            "[-17.17399563   0.23749263   1.24288937]\n",
            "[-17.17354295   0.2374864    1.24285391]\n",
            "[-17.17309087   0.23748017   1.2428185 ]\n",
            "[-17.17263938   0.23747395   1.24278314]\n",
            "[-17.17218847   0.23746774   1.24274782]\n",
            "[-17.17173814   0.23746154   1.24271254]\n",
            "[-17.17128841   0.23745535   1.24267731]\n",
            "[-17.17083925   0.23744917   1.24264213]\n",
            "[-17.17039069   0.23744299   1.24260699]\n",
            "[-17.1699427    0.23743682   1.2425719 ]\n",
            "[-17.1694953    0.23743066   1.24253685]\n",
            "[-17.16904848   0.23742451   1.24250185]\n",
            "[-17.16860223   0.23741836   1.2424669 ]\n",
            "[-17.16815657   0.23741222   1.24243199]\n",
            "[-17.16771149   0.2374061    1.24239712]\n",
            "[-17.16726743   0.23739998   1.24236234]\n"
          ],
          "name": "stdout"
        }
      ]
    },
    {
      "cell_type": "markdown",
      "metadata": {
        "id": "WoapnMTVob2i",
        "colab_type": "text"
      },
      "source": [
        "**2.14** Wow! That took a long time to converge. I suspect that if we ran for another million iterations we might have tuned the weigths a bit more. Let's confirm our findings. "
      ]
    },
    {
      "cell_type": "code",
      "metadata": {
        "id": "6yCvTV7Vn9Sp",
        "colab_type": "code",
        "colab": {}
      },
      "source": [
        "regression = LogisticRegression()\n",
        "regression.fit(x_train, y_train)\n",
        "predictions = regression.predict(x_test)"
      ],
      "execution_count": 0,
      "outputs": []
    },
    {
      "cell_type": "code",
      "metadata": {
        "id": "pGzNvWReoA7p",
        "colab_type": "code",
        "colab": {
          "base_uri": "https://localhost:8080/",
          "height": 34
        },
        "outputId": "ebbd8576-c702-4ec9-8fc8-012f5426c7d6"
      },
      "source": [
        "regression.coef_"
      ],
      "execution_count": 265,
      "outputs": [
        {
          "output_type": "execute_result",
          "data": {
            "text/plain": [
              "array([[0.22576025, 1.11182673]])"
            ]
          },
          "metadata": {
            "tags": []
          },
          "execution_count": 265
        }
      ]
    },
    {
      "cell_type": "code",
      "metadata": {
        "id": "tXq6urrRoItc",
        "colab_type": "code",
        "colab": {
          "base_uri": "https://localhost:8080/",
          "height": 34
        },
        "outputId": "2d02093a-ba3d-4f20-cf42-e563f9055a26"
      },
      "source": [
        "regression.intercept_ "
      ],
      "execution_count": 266,
      "outputs": [
        {
          "output_type": "execute_result",
          "data": {
            "text/plain": [
              "array([-16.28891047])"
            ]
          },
          "metadata": {
            "tags": []
          },
          "execution_count": 266
        }
      ]
    },
    {
      "cell_type": "markdown",
      "metadata": {
        "id": "l7-9JzEexKrO",
        "colab_type": "text"
      },
      "source": [
        "**2.15** Alright, those numbers are close! Let's take a look at our accuracy."
      ]
    },
    {
      "cell_type": "code",
      "metadata": {
        "id": "eSj71egcxm0v",
        "colab_type": "code",
        "colab": {
          "base_uri": "https://localhost:8080/",
          "height": 34
        },
        "outputId": "bf403b7e-e1a9-4746-b7cf-8b8cdae7b951"
      },
      "source": [
        "average_loss(final_weights, x_test.transpose(), y_test)"
      ],
      "execution_count": 267,
      "outputs": [
        {
          "output_type": "execute_result",
          "data": {
            "text/plain": [
              "0.5776522177125549"
            ]
          },
          "metadata": {
            "tags": []
          },
          "execution_count": 267
        }
      ]
    },
    {
      "cell_type": "markdown",
      "metadata": {
        "id": "SEwkz8A_68KO",
        "colab_type": "text"
      },
      "source": [
        "**2.16** Here, it looks like we're getting about 57% loss. Let's try computing the accuracy. "
      ]
    },
    {
      "cell_type": "code",
      "metadata": {
        "id": "5roC1ZLh7ZYe",
        "colab_type": "code",
        "colab": {
          "base_uri": "https://localhost:8080/",
          "height": 34
        },
        "outputId": "031bbc00-d1f3-4d75-866d-3b3ef688e04e"
      },
      "source": [
        "p_basketball = probability(final_weights, x_test.transpose())\n",
        "basketball_predictions = np.array([probability_to_prediction(p) for p in p_basketball])\n",
        "matches = np.equal(basketball_predictions, y_test)\n",
        "np.average(matches) # returns the accuracy"
      ],
      "execution_count": 268,
      "outputs": [
        {
          "output_type": "execute_result",
          "data": {
            "text/plain": [
              "0.6875"
            ]
          },
          "metadata": {
            "tags": []
          },
          "execution_count": 268
        }
      ]
    },
    {
      "cell_type": "markdown",
      "metadata": {
        "id": "a94DjmtL7k5C",
        "colab_type": "text"
      },
      "source": [
        "**2.17** Alright! We have an even better accuracy once we include gender. Lets plot the results."
      ]
    },
    {
      "cell_type": "code",
      "metadata": {
        "id": "m0MFiHdq70EE",
        "colab_type": "code",
        "colab": {
          "base_uri": "https://localhost:8080/",
          "height": 296
        },
        "outputId": "5af45a16-fdbc-4b12-d7f5-7423ceeee9de"
      },
      "source": [
        "fig, ax = plt.subplots()\n",
        "\n",
        "data = basketball_dataframe.copy()\n",
        "data = data.sort_values(by=\"height\")\n",
        "\n",
        "male = data[data[\"female\"] == 0].sort_values(by=\"height\")\n",
        "y_male = probability(final_weights, np.array([male[\"height\"], male[\"female\"]]))\n",
        "ax.plot(male[\"height\"].values, y_male)  # Blue\n",
        "\n",
        "female = data[data[\"female\"] == 1].sort_values(by=\"height\")\n",
        "y_female = probability(final_weights, np.array([female[\"height\"], female[\"female\"]]))\n",
        "ax.plot(female[\"height\"].values, y_female)  # Orange\n",
        "\n",
        "basketball_dataframe.plot(x=\"height\", y=\"basketball\", ax=ax, kind=\"scatter\")"
      ],
      "execution_count": 269,
      "outputs": [
        {
          "output_type": "execute_result",
          "data": {
            "text/plain": [
              "<matplotlib.axes._subplots.AxesSubplot at 0x7fb4f6523f60>"
            ]
          },
          "metadata": {
            "tags": []
          },
          "execution_count": 269
        },
        {
          "output_type": "display_data",
          "data": {
            "image/png": "[encoded data removed]",
            "text/plain": [
              "<Figure size 432x288 with 1 Axes>"
            ]
          },
          "metadata": {
            "tags": []
          }
        }
      ]
    },
    {
      "cell_type": "markdown",
      "metadata": {
        "id": "wd7DS2eVCDxR",
        "colab_type": "text"
      },
      "source": [
        "Based on this graph, we can see that women on average don't need to be as tall as men to play basketball. In other words, the inflection point (50% probability) is further left on the graph. Likewise, the curve for women is more steep meaning there is less ambiguity in terms of the impact that height has for women.  "
      ]
    },
    {
      "cell_type": "markdown",
      "metadata": {
        "id": "2v-ZyZh74WPf",
        "colab_type": "text"
      },
      "source": [
        "### Subproblem 3 - Incorporate Weight"
      ]
    }
  ]
}