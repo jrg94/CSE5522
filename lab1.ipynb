{
  "nbformat": 4,
  "nbformat_minor": 0,
  "metadata": {
    "colab": {
      "name": "lab1.ipynb",
      "provenance": [],
      "collapsed_sections": [
        "3pRGMU8MLZ6C",
        "dlps9uqvLrPy",
        "zOawgH6ZLy2m"
      ],
      "authorship_tag": "ABX9TyOooQfKICsyU82cGQZLf7ms",
      "include_colab_link": true
    },
    "kernelspec": {
      "name": "python3",
      "display_name": "Python 3"
    }
  },
  "cells": [
    {
      "cell_type": "markdown",
      "metadata": {
        "id": "view-in-github",
        "colab_type": "text"
      },
      "source": [
        "<a href=\"https://colab.research.google.com/github/jrg94/CSE5522/blob/lab1/lab1.ipynb\" target=\"_parent\"><img src=\"https://colab.research.google.com/assets/colab-badge.svg\" alt=\"Open In Colab\"/></a>"
      ]
    },
    {
      "cell_type": "markdown",
      "metadata": {
        "id": "Xb0irARgr4LN",
        "colab_type": "text"
      },
      "source": [
        "# CSE 5522 - Lab 1\n",
        "By Jeremy Grifski"
      ]
    },
    {
      "cell_type": "markdown",
      "metadata": {
        "id": "EmwA66pPsK-L",
        "colab_type": "text"
      },
      "source": [
        "In this lab, we'll be taking a look at two different types of regressions: linear and logistic. In this first part, we'll be looking at linear regressions on gene expression. Meanwhile, in the second part, we'll be looking at logistic regressions on basketball players. "
      ]
    },
    {
      "cell_type": "markdown",
      "metadata": {
        "id": "nBTflHYgB7w1",
        "colab_type": "text"
      },
      "source": [
        "## Part 1 - Linear Regression for Gene Expression Prediction"
      ]
    },
    {
      "cell_type": "markdown",
      "metadata": {
        "id": "2qbbweuQCRTb",
        "colab_type": "text"
      },
      "source": [
        "In this portion of the lab, we were asked to run a linear regression over 21 features of micro RNA to predict mRNA. In a later portion of this section, we were also asked to bump up the number of overall features to include dummie variables for tissue types."
      ]
    },
    {
      "cell_type": "markdown",
      "metadata": {
        "id": "npLvY9zmkZ7R",
        "colab_type": "text"
      },
      "source": [
        "**1.0**: Set up the environment. "
      ]
    },
    {
      "cell_type": "code",
      "metadata": {
        "id": "MRicJTZFkNKj",
        "colab_type": "code",
        "colab": {}
      },
      "source": [
        "import matplotlib.pyplot as plt\n",
        "import pandas as pd\n",
        "import numpy as np"
      ],
      "execution_count": 0,
      "outputs": []
    },
    {
      "cell_type": "markdown",
      "metadata": {
        "id": "a-MaOhV5UUvD",
        "colab_type": "text"
      },
      "source": [
        "**1.1** Read the data from GitHub into a pandas dataframe. "
      ]
    },
    {
      "cell_type": "code",
      "metadata": {
        "id": "Udx-lpGDk-aB",
        "colab_type": "code",
        "colab": {}
      },
      "source": [
        "micro_rna_data_url = 'https://raw.githubusercontent.com/efosler/cse5522data/master/miRScore-x.csv'\n",
        "micro_rna_dataframe = pd.read_csv(micro_rna_data_url, index_col=0) # Removes the index column\n",
        "mrna_well_data_url = 'https://raw.githubusercontent.com/efosler/cse5522data/master/mRNA-y-well-explained.csv'\n",
        "mrna_well_dataframe = pd.read_csv(mrna_well_data_url, index_col=0, header=None, skiprows=1).T\n",
        "mrna_poor_data_url = 'https://raw.githubusercontent.com/efosler/cse5522data/master/mRNA-y-poor-explained.csv'\n",
        "mrna_poor_dataframe = pd.read_csv(mrna_poor_data_url, index_col=0, header=None, skiprows=1).T\n",
        "tissue_types_data_url = 'https://raw.githubusercontent.com/efosler/cse5522data/master/cancerType-x-Categorical.csv'\n",
        "tissue_types_dataframe = pd.read_csv(tissue_types_data_url, index_col=0)"
      ],
      "execution_count": 0,
      "outputs": []
    },
    {
      "cell_type": "markdown",
      "metadata": {
        "id": "Rvgt0PYLVHYr",
        "colab_type": "text"
      },
      "source": [
        "**1.2** Print out the top of the dataframe to make sure that the data loaded correctly."
      ]
    },
    {
      "cell_type": "code",
      "metadata": {
        "id": "ScERznWSVBK3",
        "colab_type": "code",
        "outputId": "9d845830-eaa5-4bf0-ec18-52e0e2823bd5",
        "colab": {
          "base_uri": "https://localhost:8080/",
          "height": 195
        }
      },
      "source": [
        "micro_rna_dataframe.head()"
      ],
      "execution_count": 215,
      "outputs": [
        {
          "output_type": "execute_result",
          "data": {
            "text/html": [
              "<div>\n",
              "<style scoped>\n",
              "    .dataframe tbody tr th:only-of-type {\n",
              "        vertical-align: middle;\n",
              "    }\n",
              "\n",
              "    .dataframe tbody tr th {\n",
              "        vertical-align: top;\n",
              "    }\n",
              "\n",
              "    .dataframe thead th {\n",
              "        text-align: right;\n",
              "    }\n",
              "</style>\n",
              "<table border=\"1\" class=\"dataframe\">\n",
              "  <thead>\n",
              "    <tr style=\"text-align: right;\">\n",
              "      <th></th>\n",
              "      <th>MIRC1</th>\n",
              "      <th>MIRC2</th>\n",
              "      <th>MIRC3</th>\n",
              "      <th>MIRC4</th>\n",
              "      <th>MIRC5</th>\n",
              "      <th>MIRC6</th>\n",
              "      <th>MIRC7</th>\n",
              "      <th>MIRC8</th>\n",
              "      <th>MIRC9</th>\n",
              "      <th>MIRC10</th>\n",
              "      <th>MIRC11</th>\n",
              "      <th>MIRC12</th>\n",
              "      <th>MIRC13</th>\n",
              "      <th>MIRC14</th>\n",
              "      <th>MIRC15</th>\n",
              "      <th>MIRC16</th>\n",
              "      <th>MIRC17</th>\n",
              "      <th>MIRC18</th>\n",
              "      <th>MIRC19</th>\n",
              "      <th>MIRC20</th>\n",
              "      <th>MIRC21</th>\n",
              "    </tr>\n",
              "  </thead>\n",
              "  <tbody>\n",
              "    <tr>\n",
              "      <th>1</th>\n",
              "      <td>5.453767</td>\n",
              "      <td>4.383828</td>\n",
              "      <td>3.216983</td>\n",
              "      <td>3.428224</td>\n",
              "      <td>7.308519</td>\n",
              "      <td>5.509137</td>\n",
              "      <td>5.515894</td>\n",
              "      <td>3.371819</td>\n",
              "      <td>6.036913</td>\n",
              "      <td>2.876100</td>\n",
              "      <td>8.064057</td>\n",
              "      <td>3.388470</td>\n",
              "      <td>3.931960</td>\n",
              "      <td>6.401138</td>\n",
              "      <td>6.571827</td>\n",
              "      <td>3.785073</td>\n",
              "      <td>5.201207</td>\n",
              "      <td>2.575824</td>\n",
              "      <td>3.977328</td>\n",
              "      <td>5.501027</td>\n",
              "      <td>4.756962</td>\n",
              "    </tr>\n",
              "    <tr>\n",
              "      <th>2</th>\n",
              "      <td>4.321988</td>\n",
              "      <td>3.986583</td>\n",
              "      <td>3.829885</td>\n",
              "      <td>4.502739</td>\n",
              "      <td>1.685509</td>\n",
              "      <td>5.206405</td>\n",
              "      <td>6.445237</td>\n",
              "      <td>3.465323</td>\n",
              "      <td>6.618933</td>\n",
              "      <td>2.851471</td>\n",
              "      <td>7.730359</td>\n",
              "      <td>2.738890</td>\n",
              "      <td>3.567882</td>\n",
              "      <td>4.360902</td>\n",
              "      <td>6.082557</td>\n",
              "      <td>3.343985</td>\n",
              "      <td>6.303041</td>\n",
              "      <td>3.140004</td>\n",
              "      <td>4.199990</td>\n",
              "      <td>5.224254</td>\n",
              "      <td>4.429511</td>\n",
              "    </tr>\n",
              "    <tr>\n",
              "      <th>3</th>\n",
              "      <td>4.089116</td>\n",
              "      <td>4.178590</td>\n",
              "      <td>3.393789</td>\n",
              "      <td>3.582799</td>\n",
              "      <td>8.103207</td>\n",
              "      <td>4.997112</td>\n",
              "      <td>5.359251</td>\n",
              "      <td>3.681484</td>\n",
              "      <td>6.373393</td>\n",
              "      <td>2.851890</td>\n",
              "      <td>8.934644</td>\n",
              "      <td>2.892689</td>\n",
              "      <td>3.132659</td>\n",
              "      <td>6.555559</td>\n",
              "      <td>6.559177</td>\n",
              "      <td>3.469511</td>\n",
              "      <td>5.373332</td>\n",
              "      <td>4.424949</td>\n",
              "      <td>3.138479</td>\n",
              "      <td>5.682007</td>\n",
              "      <td>4.403253</td>\n",
              "    </tr>\n",
              "    <tr>\n",
              "      <th>4</th>\n",
              "      <td>4.884692</td>\n",
              "      <td>4.061140</td>\n",
              "      <td>3.475111</td>\n",
              "      <td>4.017083</td>\n",
              "      <td>8.005837</td>\n",
              "      <td>5.491073</td>\n",
              "      <td>5.014364</td>\n",
              "      <td>4.300977</td>\n",
              "      <td>6.017040</td>\n",
              "      <td>2.834699</td>\n",
              "      <td>8.646215</td>\n",
              "      <td>3.163199</td>\n",
              "      <td>3.531044</td>\n",
              "      <td>6.908134</td>\n",
              "      <td>6.624755</td>\n",
              "      <td>3.833247</td>\n",
              "      <td>5.495557</td>\n",
              "      <td>4.954630</td>\n",
              "      <td>4.542415</td>\n",
              "      <td>5.469924</td>\n",
              "      <td>4.693171</td>\n",
              "    </tr>\n",
              "    <tr>\n",
              "      <th>5</th>\n",
              "      <td>4.053976</td>\n",
              "      <td>4.224208</td>\n",
              "      <td>3.801616</td>\n",
              "      <td>3.329253</td>\n",
              "      <td>9.208897</td>\n",
              "      <td>5.518924</td>\n",
              "      <td>5.534329</td>\n",
              "      <td>2.391842</td>\n",
              "      <td>6.183707</td>\n",
              "      <td>3.029387</td>\n",
              "      <td>7.351146</td>\n",
              "      <td>2.873874</td>\n",
              "      <td>3.305899</td>\n",
              "      <td>6.917566</td>\n",
              "      <td>6.138030</td>\n",
              "      <td>3.250404</td>\n",
              "      <td>5.502236</td>\n",
              "      <td>4.572714</td>\n",
              "      <td>2.677879</td>\n",
              "      <td>5.577007</td>\n",
              "      <td>4.290140</td>\n",
              "    </tr>\n",
              "  </tbody>\n",
              "</table>\n",
              "</div>"
            ],
            "text/plain": [
              "      MIRC1     MIRC2     MIRC3  ...    MIRC19    MIRC20    MIRC21\n",
              "1  5.453767  4.383828  3.216983  ...  3.977328  5.501027  4.756962\n",
              "2  4.321988  3.986583  3.829885  ...  4.199990  5.224254  4.429511\n",
              "3  4.089116  4.178590  3.393789  ...  3.138479  5.682007  4.403253\n",
              "4  4.884692  4.061140  3.475111  ...  4.542415  5.469924  4.693171\n",
              "5  4.053976  4.224208  3.801616  ...  2.677879  5.577007  4.290140\n",
              "\n",
              "[5 rows x 21 columns]"
            ]
          },
          "metadata": {
            "tags": []
          },
          "execution_count": 215
        }
      ]
    },
    {
      "cell_type": "code",
      "metadata": {
        "id": "tsbVjvq6t0LM",
        "colab_type": "code",
        "outputId": "b836348b-da7b-4a5f-ddc0-cccb0424d003",
        "colab": {
          "base_uri": "https://localhost:8080/",
          "height": 215
        }
      },
      "source": [
        "mrna_well_dataframe.head()"
      ],
      "execution_count": 216,
      "outputs": [
        {
          "output_type": "execute_result",
          "data": {
            "text/html": [
              "<div>\n",
              "<style scoped>\n",
              "    .dataframe tbody tr th:only-of-type {\n",
              "        vertical-align: middle;\n",
              "    }\n",
              "\n",
              "    .dataframe tbody tr th {\n",
              "        vertical-align: top;\n",
              "    }\n",
              "\n",
              "    .dataframe thead th {\n",
              "        text-align: right;\n",
              "    }\n",
              "</style>\n",
              "<table border=\"1\" class=\"dataframe\">\n",
              "  <thead>\n",
              "    <tr style=\"text-align: right;\">\n",
              "      <th></th>\n",
              "      <th>SNORD88B</th>\n",
              "      <th>GRHL2</th>\n",
              "      <th>C1orf172</th>\n",
              "      <th>RAB25</th>\n",
              "      <th>ANKS4B</th>\n",
              "      <th>HNF4A</th>\n",
              "      <th>AP1M2</th>\n",
              "      <th>PKP3</th>\n",
              "      <th>STMN4</th>\n",
              "      <th>ESRP1</th>\n",
              "      <th>CDHR5</th>\n",
              "      <th>MEG3</th>\n",
              "      <th>PRSS8</th>\n",
              "      <th>OVOL2</th>\n",
              "      <th>SPINT1</th>\n",
              "      <th>TM4SF5</th>\n",
              "      <th>ELAVL3</th>\n",
              "      <th>FAM123A</th>\n",
              "      <th>ZDHHC22</th>\n",
              "      <th>MMD2</th>\n",
              "      <th>SH2D3A</th>\n",
              "      <th>C21orf131</th>\n",
              "      <th>NCAN</th>\n",
              "      <th>CRB3</th>\n",
              "      <th>CLDN4</th>\n",
              "      <th>CACNG7</th>\n",
              "      <th>C1orf210</th>\n",
              "      <th>KCNJ9</th>\n",
              "      <th>CLDN7</th>\n",
              "      <th>ATCAY</th>\n",
              "      <th>C2orf80</th>\n",
              "      <th>ATP6V1G2</th>\n",
              "      <th>ST14</th>\n",
              "      <th>SHISA7</th>\n",
              "      <th>ELF3</th>\n",
              "    </tr>\n",
              "  </thead>\n",
              "  <tbody>\n",
              "    <tr>\n",
              "      <th>1</th>\n",
              "      <td>3.321928</td>\n",
              "      <td>3.389608</td>\n",
              "      <td>5.822470</td>\n",
              "      <td>3.389608</td>\n",
              "      <td>3.321928</td>\n",
              "      <td>3.321928</td>\n",
              "      <td>4.820266</td>\n",
              "      <td>3.321928</td>\n",
              "      <td>3.516129</td>\n",
              "      <td>4.744742</td>\n",
              "      <td>11.026446</td>\n",
              "      <td>13.639151</td>\n",
              "      <td>3.454255</td>\n",
              "      <td>3.454255</td>\n",
              "      <td>6.383480</td>\n",
              "      <td>3.321928</td>\n",
              "      <td>3.791033</td>\n",
              "      <td>3.389608</td>\n",
              "      <td>3.516129</td>\n",
              "      <td>3.887827</td>\n",
              "      <td>3.575458</td>\n",
              "      <td>3.321928</td>\n",
              "      <td>3.389608</td>\n",
              "      <td>3.933894</td>\n",
              "      <td>5.313939</td>\n",
              "      <td>3.321928</td>\n",
              "      <td>3.321928</td>\n",
              "      <td>3.321928</td>\n",
              "      <td>5.398508</td>\n",
              "      <td>3.840242</td>\n",
              "      <td>3.321928</td>\n",
              "      <td>5.547879</td>\n",
              "      <td>6.207130</td>\n",
              "      <td>3.454255</td>\n",
              "      <td>3.575458</td>\n",
              "    </tr>\n",
              "    <tr>\n",
              "      <th>2</th>\n",
              "      <td>3.321928</td>\n",
              "      <td>3.586549</td>\n",
              "      <td>3.586549</td>\n",
              "      <td>3.486444</td>\n",
              "      <td>3.321928</td>\n",
              "      <td>4.813443</td>\n",
              "      <td>3.634105</td>\n",
              "      <td>3.634105</td>\n",
              "      <td>3.433667</td>\n",
              "      <td>3.724759</td>\n",
              "      <td>11.313428</td>\n",
              "      <td>4.108299</td>\n",
              "      <td>9.012650</td>\n",
              "      <td>3.321928</td>\n",
              "      <td>7.532506</td>\n",
              "      <td>3.321928</td>\n",
              "      <td>3.378872</td>\n",
              "      <td>3.378872</td>\n",
              "      <td>3.433667</td>\n",
              "      <td>4.541440</td>\n",
              "      <td>5.285010</td>\n",
              "      <td>3.321928</td>\n",
              "      <td>3.486444</td>\n",
              "      <td>4.074223</td>\n",
              "      <td>6.461239</td>\n",
              "      <td>3.586549</td>\n",
              "      <td>3.321928</td>\n",
              "      <td>3.433667</td>\n",
              "      <td>5.254900</td>\n",
              "      <td>3.586549</td>\n",
              "      <td>3.321928</td>\n",
              "      <td>4.237097</td>\n",
              "      <td>6.810804</td>\n",
              "      <td>3.586549</td>\n",
              "      <td>4.003557</td>\n",
              "    </tr>\n",
              "    <tr>\n",
              "      <th>3</th>\n",
              "      <td>3.321928</td>\n",
              "      <td>3.938521</td>\n",
              "      <td>3.993221</td>\n",
              "      <td>3.321928</td>\n",
              "      <td>3.321928</td>\n",
              "      <td>3.938521</td>\n",
              "      <td>3.404971</td>\n",
              "      <td>3.557961</td>\n",
              "      <td>3.483493</td>\n",
              "      <td>3.557961</td>\n",
              "      <td>3.483493</td>\n",
              "      <td>13.089396</td>\n",
              "      <td>4.369124</td>\n",
              "      <td>3.404971</td>\n",
              "      <td>4.239367</td>\n",
              "      <td>3.321928</td>\n",
              "      <td>4.193385</td>\n",
              "      <td>3.321928</td>\n",
              "      <td>3.760753</td>\n",
              "      <td>3.938521</td>\n",
              "      <td>5.172736</td>\n",
              "      <td>3.321928</td>\n",
              "      <td>3.483493</td>\n",
              "      <td>3.760753</td>\n",
              "      <td>9.293219</td>\n",
              "      <td>3.404971</td>\n",
              "      <td>3.404971</td>\n",
              "      <td>3.483493</td>\n",
              "      <td>4.856000</td>\n",
              "      <td>3.557961</td>\n",
              "      <td>3.321928</td>\n",
              "      <td>5.635110</td>\n",
              "      <td>5.812894</td>\n",
              "      <td>3.938521</td>\n",
              "      <td>4.369124</td>\n",
              "    </tr>\n",
              "    <tr>\n",
              "      <th>4</th>\n",
              "      <td>3.321928</td>\n",
              "      <td>3.794208</td>\n",
              "      <td>4.985892</td>\n",
              "      <td>3.321928</td>\n",
              "      <td>3.623375</td>\n",
              "      <td>3.711319</td>\n",
              "      <td>3.529721</td>\n",
              "      <td>3.946937</td>\n",
              "      <td>3.872592</td>\n",
              "      <td>5.695660</td>\n",
              "      <td>3.623375</td>\n",
              "      <td>15.672826</td>\n",
              "      <td>3.794208</td>\n",
              "      <td>3.711319</td>\n",
              "      <td>6.619172</td>\n",
              "      <td>3.321928</td>\n",
              "      <td>6.810524</td>\n",
              "      <td>3.429562</td>\n",
              "      <td>5.436545</td>\n",
              "      <td>6.056265</td>\n",
              "      <td>6.970559</td>\n",
              "      <td>3.321928</td>\n",
              "      <td>4.381581</td>\n",
              "      <td>3.711319</td>\n",
              "      <td>5.717062</td>\n",
              "      <td>5.511952</td>\n",
              "      <td>3.429562</td>\n",
              "      <td>3.429562</td>\n",
              "      <td>5.462121</td>\n",
              "      <td>5.969756</td>\n",
              "      <td>3.321928</td>\n",
              "      <td>6.450540</td>\n",
              "      <td>6.537319</td>\n",
              "      <td>4.534068</td>\n",
              "      <td>5.511952</td>\n",
              "    </tr>\n",
              "    <tr>\n",
              "      <th>5</th>\n",
              "      <td>3.321928</td>\n",
              "      <td>3.321928</td>\n",
              "      <td>11.037026</td>\n",
              "      <td>3.400388</td>\n",
              "      <td>3.400388</td>\n",
              "      <td>6.225495</td>\n",
              "      <td>3.400388</td>\n",
              "      <td>3.321928</td>\n",
              "      <td>3.400388</td>\n",
              "      <td>3.321928</td>\n",
              "      <td>7.825508</td>\n",
              "      <td>14.555980</td>\n",
              "      <td>5.900582</td>\n",
              "      <td>3.321928</td>\n",
              "      <td>7.980390</td>\n",
              "      <td>3.321928</td>\n",
              "      <td>4.939118</td>\n",
              "      <td>3.321928</td>\n",
              "      <td>3.400388</td>\n",
              "      <td>4.912592</td>\n",
              "      <td>5.266850</td>\n",
              "      <td>3.321928</td>\n",
              "      <td>3.739103</td>\n",
              "      <td>6.159351</td>\n",
              "      <td>4.200292</td>\n",
              "      <td>3.321928</td>\n",
              "      <td>3.321928</td>\n",
              "      <td>3.321928</td>\n",
              "      <td>5.568135</td>\n",
              "      <td>3.321928</td>\n",
              "      <td>3.321928</td>\n",
              "      <td>3.677429</td>\n",
              "      <td>6.029603</td>\n",
              "      <td>3.321928</td>\n",
              "      <td>3.545548</td>\n",
              "    </tr>\n",
              "  </tbody>\n",
              "</table>\n",
              "</div>"
            ],
            "text/plain": [
              "0  SNORD88B     GRHL2   C1orf172  ...      ST14    SHISA7      ELF3\n",
              "1  3.321928  3.389608   5.822470  ...  6.207130  3.454255  3.575458\n",
              "2  3.321928  3.586549   3.586549  ...  6.810804  3.586549  4.003557\n",
              "3  3.321928  3.938521   3.993221  ...  5.812894  3.938521  4.369124\n",
              "4  3.321928  3.794208   4.985892  ...  6.537319  4.534068  5.511952\n",
              "5  3.321928  3.321928  11.037026  ...  6.029603  3.321928  3.545548\n",
              "\n",
              "[5 rows x 35 columns]"
            ]
          },
          "metadata": {
            "tags": []
          },
          "execution_count": 216
        }
      ]
    },
    {
      "cell_type": "code",
      "metadata": {
        "id": "_XUcYWjDt9Nk",
        "colab_type": "code",
        "outputId": "9cb49495-8b10-4b25-ca1d-4408c067f13d",
        "colab": {
          "base_uri": "https://localhost:8080/",
          "height": 195
        }
      },
      "source": [
        "mrna_poor_dataframe.head()"
      ],
      "execution_count": 217,
      "outputs": [
        {
          "output_type": "execute_result",
          "data": {
            "text/html": [
              "<div>\n",
              "<style scoped>\n",
              "    .dataframe tbody tr th:only-of-type {\n",
              "        vertical-align: middle;\n",
              "    }\n",
              "\n",
              "    .dataframe tbody tr th {\n",
              "        vertical-align: top;\n",
              "    }\n",
              "\n",
              "    .dataframe thead th {\n",
              "        text-align: right;\n",
              "    }\n",
              "</style>\n",
              "<table border=\"1\" class=\"dataframe\">\n",
              "  <thead>\n",
              "    <tr style=\"text-align: right;\">\n",
              "      <th></th>\n",
              "      <th>NOBOX</th>\n",
              "      <th>SCGB1D4</th>\n",
              "      <th>RPL9</th>\n",
              "      <th>SPATA8</th>\n",
              "      <th>C2orf78</th>\n",
              "      <th>FAM138B</th>\n",
              "      <th>LCE3C</th>\n",
              "      <th>POU5F2</th>\n",
              "      <th>OR2D3</th>\n",
              "      <th>PABPC1P2</th>\n",
              "      <th>CATSPER4</th>\n",
              "      <th>FTHL17</th>\n",
              "      <th>OR5K1</th>\n",
              "      <th>SNORA3</th>\n",
              "      <th>IL13</th>\n",
              "      <th>C10orf122</th>\n",
              "      <th>SULT1C3</th>\n",
              "      <th>KRT38</th>\n",
              "      <th>TMPRSS12</th>\n",
              "      <th>C4orf11</th>\n",
              "    </tr>\n",
              "  </thead>\n",
              "  <tbody>\n",
              "    <tr>\n",
              "      <th>1</th>\n",
              "      <td>3.321928</td>\n",
              "      <td>3.321928</td>\n",
              "      <td>7.556077</td>\n",
              "      <td>3.321928</td>\n",
              "      <td>3.321928</td>\n",
              "      <td>3.321928</td>\n",
              "      <td>3.321928</td>\n",
              "      <td>3.389608</td>\n",
              "      <td>3.321928</td>\n",
              "      <td>3.321928</td>\n",
              "      <td>3.321928</td>\n",
              "      <td>3.321928</td>\n",
              "      <td>3.321928</td>\n",
              "      <td>3.321928</td>\n",
              "      <td>3.321928</td>\n",
              "      <td>3.321928</td>\n",
              "      <td>3.321928</td>\n",
              "      <td>3.321928</td>\n",
              "      <td>3.321928</td>\n",
              "      <td>3.321928</td>\n",
              "    </tr>\n",
              "    <tr>\n",
              "      <th>2</th>\n",
              "      <td>3.321928</td>\n",
              "      <td>3.321928</td>\n",
              "      <td>8.111351</td>\n",
              "      <td>3.321928</td>\n",
              "      <td>3.321928</td>\n",
              "      <td>3.321928</td>\n",
              "      <td>3.321928</td>\n",
              "      <td>3.321928</td>\n",
              "      <td>3.321928</td>\n",
              "      <td>3.321928</td>\n",
              "      <td>3.321928</td>\n",
              "      <td>3.321928</td>\n",
              "      <td>3.321928</td>\n",
              "      <td>3.321928</td>\n",
              "      <td>3.586549</td>\n",
              "      <td>3.321928</td>\n",
              "      <td>3.321928</td>\n",
              "      <td>3.321928</td>\n",
              "      <td>3.321928</td>\n",
              "      <td>3.321928</td>\n",
              "    </tr>\n",
              "    <tr>\n",
              "      <th>3</th>\n",
              "      <td>3.321928</td>\n",
              "      <td>3.321928</td>\n",
              "      <td>8.297134</td>\n",
              "      <td>3.321928</td>\n",
              "      <td>3.321928</td>\n",
              "      <td>3.321928</td>\n",
              "      <td>3.321928</td>\n",
              "      <td>3.321928</td>\n",
              "      <td>3.321928</td>\n",
              "      <td>3.404971</td>\n",
              "      <td>3.404971</td>\n",
              "      <td>3.321928</td>\n",
              "      <td>3.321928</td>\n",
              "      <td>3.321928</td>\n",
              "      <td>3.993221</td>\n",
              "      <td>3.321928</td>\n",
              "      <td>3.321928</td>\n",
              "      <td>3.321928</td>\n",
              "      <td>3.321928</td>\n",
              "      <td>3.321928</td>\n",
              "    </tr>\n",
              "    <tr>\n",
              "      <th>4</th>\n",
              "      <td>3.321928</td>\n",
              "      <td>3.321928</td>\n",
              "      <td>8.482979</td>\n",
              "      <td>3.321928</td>\n",
              "      <td>3.529721</td>\n",
              "      <td>3.321928</td>\n",
              "      <td>3.321928</td>\n",
              "      <td>3.429562</td>\n",
              "      <td>3.321928</td>\n",
              "      <td>3.321928</td>\n",
              "      <td>3.321928</td>\n",
              "      <td>3.321928</td>\n",
              "      <td>3.321928</td>\n",
              "      <td>3.321928</td>\n",
              "      <td>6.718019</td>\n",
              "      <td>3.321928</td>\n",
              "      <td>3.321928</td>\n",
              "      <td>3.321928</td>\n",
              "      <td>3.321928</td>\n",
              "      <td>3.321928</td>\n",
              "    </tr>\n",
              "    <tr>\n",
              "      <th>5</th>\n",
              "      <td>3.321928</td>\n",
              "      <td>3.321928</td>\n",
              "      <td>11.794430</td>\n",
              "      <td>3.400388</td>\n",
              "      <td>3.321928</td>\n",
              "      <td>3.321928</td>\n",
              "      <td>3.321928</td>\n",
              "      <td>3.400388</td>\n",
              "      <td>3.321928</td>\n",
              "      <td>3.400388</td>\n",
              "      <td>3.321928</td>\n",
              "      <td>3.321928</td>\n",
              "      <td>3.321928</td>\n",
              "      <td>3.321928</td>\n",
              "      <td>3.321928</td>\n",
              "      <td>3.321928</td>\n",
              "      <td>3.321928</td>\n",
              "      <td>3.321928</td>\n",
              "      <td>3.321928</td>\n",
              "      <td>3.321928</td>\n",
              "    </tr>\n",
              "  </tbody>\n",
              "</table>\n",
              "</div>"
            ],
            "text/plain": [
              "0     NOBOX   SCGB1D4       RPL9  ...     KRT38  TMPRSS12   C4orf11\n",
              "1  3.321928  3.321928   7.556077  ...  3.321928  3.321928  3.321928\n",
              "2  3.321928  3.321928   8.111351  ...  3.321928  3.321928  3.321928\n",
              "3  3.321928  3.321928   8.297134  ...  3.321928  3.321928  3.321928\n",
              "4  3.321928  3.321928   8.482979  ...  3.321928  3.321928  3.321928\n",
              "5  3.321928  3.321928  11.794430  ...  3.321928  3.321928  3.321928\n",
              "\n",
              "[5 rows x 20 columns]"
            ]
          },
          "metadata": {
            "tags": []
          },
          "execution_count": 217
        }
      ]
    },
    {
      "cell_type": "code",
      "metadata": {
        "id": "QZXDcejmuQ96",
        "colab_type": "code",
        "outputId": "7bbd82d6-4376-4b39-8a55-bca762ea96db",
        "colab": {
          "base_uri": "https://localhost:8080/",
          "height": 195
        }
      },
      "source": [
        "tissue_types_dataframe.head()"
      ],
      "execution_count": 218,
      "outputs": [
        {
          "output_type": "execute_result",
          "data": {
            "text/html": [
              "<div>\n",
              "<style scoped>\n",
              "    .dataframe tbody tr th:only-of-type {\n",
              "        vertical-align: middle;\n",
              "    }\n",
              "\n",
              "    .dataframe tbody tr th {\n",
              "        vertical-align: top;\n",
              "    }\n",
              "\n",
              "    .dataframe thead th {\n",
              "        text-align: right;\n",
              "    }\n",
              "</style>\n",
              "<table border=\"1\" class=\"dataframe\">\n",
              "  <thead>\n",
              "    <tr style=\"text-align: right;\">\n",
              "      <th></th>\n",
              "      <th>cancerType</th>\n",
              "    </tr>\n",
              "  </thead>\n",
              "  <tbody>\n",
              "    <tr>\n",
              "      <th>1</th>\n",
              "      <td>ACC</td>\n",
              "    </tr>\n",
              "    <tr>\n",
              "      <th>2</th>\n",
              "      <td>ACC</td>\n",
              "    </tr>\n",
              "    <tr>\n",
              "      <th>3</th>\n",
              "      <td>ACC</td>\n",
              "    </tr>\n",
              "    <tr>\n",
              "      <th>4</th>\n",
              "      <td>ACC</td>\n",
              "    </tr>\n",
              "    <tr>\n",
              "      <th>5</th>\n",
              "      <td>ACC</td>\n",
              "    </tr>\n",
              "  </tbody>\n",
              "</table>\n",
              "</div>"
            ],
            "text/plain": [
              "  cancerType\n",
              "1        ACC\n",
              "2        ACC\n",
              "3        ACC\n",
              "4        ACC\n",
              "5        ACC"
            ]
          },
          "metadata": {
            "tags": []
          },
          "execution_count": 218
        }
      ]
    },
    {
      "cell_type": "markdown",
      "metadata": {
        "id": "bKeRF2EHpvkU",
        "colab_type": "text"
      },
      "source": [
        "**1.3** Explore data shape"
      ]
    },
    {
      "cell_type": "code",
      "metadata": {
        "id": "dt6msv1rp0qj",
        "colab_type": "code",
        "outputId": "3ff2e1a8-4af0-451c-bfb6-fb1605407ba1",
        "colab": {
          "base_uri": "https://localhost:8080/",
          "height": 34
        }
      },
      "source": [
        "micro_rna_dataframe.shape"
      ],
      "execution_count": 219,
      "outputs": [
        {
          "output_type": "execute_result",
          "data": {
            "text/plain": [
              "(8895, 21)"
            ]
          },
          "metadata": {
            "tags": []
          },
          "execution_count": 219
        }
      ]
    },
    {
      "cell_type": "code",
      "metadata": {
        "id": "--LRn-CSqC2b",
        "colab_type": "code",
        "outputId": "8b1a8139-93d3-45e2-fe31-04770a662da8",
        "colab": {
          "base_uri": "https://localhost:8080/",
          "height": 34
        }
      },
      "source": [
        "mrna_well_dataframe.shape"
      ],
      "execution_count": 220,
      "outputs": [
        {
          "output_type": "execute_result",
          "data": {
            "text/plain": [
              "(8895, 35)"
            ]
          },
          "metadata": {
            "tags": []
          },
          "execution_count": 220
        }
      ]
    },
    {
      "cell_type": "code",
      "metadata": {
        "id": "eHB8MGn2qF5q",
        "colab_type": "code",
        "outputId": "3275f522-41be-4a42-872a-8f1faefd57d7",
        "colab": {
          "base_uri": "https://localhost:8080/",
          "height": 34
        }
      },
      "source": [
        "mrna_poor_dataframe.shape"
      ],
      "execution_count": 221,
      "outputs": [
        {
          "output_type": "execute_result",
          "data": {
            "text/plain": [
              "(8895, 20)"
            ]
          },
          "metadata": {
            "tags": []
          },
          "execution_count": 221
        }
      ]
    },
    {
      "cell_type": "code",
      "metadata": {
        "id": "181GH0KvqJ-S",
        "colab_type": "code",
        "outputId": "48e0b4ac-6fb7-4415-b788-f499cfd061a1",
        "colab": {
          "base_uri": "https://localhost:8080/",
          "height": 34
        }
      },
      "source": [
        "tissue_types_dataframe.shape"
      ],
      "execution_count": 222,
      "outputs": [
        {
          "output_type": "execute_result",
          "data": {
            "text/plain": [
              "(8895, 1)"
            ]
          },
          "metadata": {
            "tags": []
          },
          "execution_count": 222
        }
      ]
    },
    {
      "cell_type": "markdown",
      "metadata": {
        "id": "ZkY2kP_tqiVq",
        "colab_type": "text"
      },
      "source": [
        "**1.4** Explore data description"
      ]
    },
    {
      "cell_type": "code",
      "metadata": {
        "id": "xrSMf5mLqndL",
        "colab_type": "code",
        "outputId": "f13fe2dc-f1bc-43f5-9c71-5882d6c95d1c",
        "colab": {
          "base_uri": "https://localhost:8080/",
          "height": 304
        }
      },
      "source": [
        "micro_rna_dataframe.describe()"
      ],
      "execution_count": 223,
      "outputs": [
        {
          "output_type": "execute_result",
          "data": {
            "text/html": [
              "<div>\n",
              "<style scoped>\n",
              "    .dataframe tbody tr th:only-of-type {\n",
              "        vertical-align: middle;\n",
              "    }\n",
              "\n",
              "    .dataframe tbody tr th {\n",
              "        vertical-align: top;\n",
              "    }\n",
              "\n",
              "    .dataframe thead th {\n",
              "        text-align: right;\n",
              "    }\n",
              "</style>\n",
              "<table border=\"1\" class=\"dataframe\">\n",
              "  <thead>\n",
              "    <tr style=\"text-align: right;\">\n",
              "      <th></th>\n",
              "      <th>MIRC1</th>\n",
              "      <th>MIRC2</th>\n",
              "      <th>MIRC3</th>\n",
              "      <th>MIRC4</th>\n",
              "      <th>MIRC5</th>\n",
              "      <th>MIRC6</th>\n",
              "      <th>MIRC7</th>\n",
              "      <th>MIRC8</th>\n",
              "      <th>MIRC9</th>\n",
              "      <th>MIRC10</th>\n",
              "      <th>MIRC11</th>\n",
              "      <th>MIRC12</th>\n",
              "      <th>MIRC13</th>\n",
              "      <th>MIRC14</th>\n",
              "      <th>MIRC15</th>\n",
              "      <th>MIRC16</th>\n",
              "      <th>MIRC17</th>\n",
              "      <th>MIRC18</th>\n",
              "      <th>MIRC19</th>\n",
              "      <th>MIRC20</th>\n",
              "      <th>MIRC21</th>\n",
              "    </tr>\n",
              "  </thead>\n",
              "  <tbody>\n",
              "    <tr>\n",
              "      <th>count</th>\n",
              "      <td>8895.000000</td>\n",
              "      <td>8895.000000</td>\n",
              "      <td>8895.000000</td>\n",
              "      <td>8895.000000</td>\n",
              "      <td>8895.000000</td>\n",
              "      <td>8895.000000</td>\n",
              "      <td>8895.000000</td>\n",
              "      <td>8895.000000</td>\n",
              "      <td>8895.000000</td>\n",
              "      <td>8895.000000</td>\n",
              "      <td>8895.000000</td>\n",
              "      <td>8895.000000</td>\n",
              "      <td>8895.000000</td>\n",
              "      <td>8895.000000</td>\n",
              "      <td>8895.000000</td>\n",
              "      <td>8895.000000</td>\n",
              "      <td>8895.000000</td>\n",
              "      <td>8895.000000</td>\n",
              "      <td>8895.000000</td>\n",
              "      <td>8895.000000</td>\n",
              "      <td>8895.000000</td>\n",
              "    </tr>\n",
              "    <tr>\n",
              "      <th>mean</th>\n",
              "      <td>4.129920</td>\n",
              "      <td>4.765170</td>\n",
              "      <td>5.057100</td>\n",
              "      <td>4.097146</td>\n",
              "      <td>2.846338</td>\n",
              "      <td>4.797431</td>\n",
              "      <td>5.383079</td>\n",
              "      <td>3.425811</td>\n",
              "      <td>4.792121</td>\n",
              "      <td>3.453612</td>\n",
              "      <td>7.859492</td>\n",
              "      <td>2.851375</td>\n",
              "      <td>3.649230</td>\n",
              "      <td>4.651203</td>\n",
              "      <td>4.903554</td>\n",
              "      <td>4.026922</td>\n",
              "      <td>6.893040</td>\n",
              "      <td>5.199461</td>\n",
              "      <td>7.382938</td>\n",
              "      <td>5.445934</td>\n",
              "      <td>4.740501</td>\n",
              "    </tr>\n",
              "    <tr>\n",
              "      <th>std</th>\n",
              "      <td>1.099592</td>\n",
              "      <td>0.828207</td>\n",
              "      <td>0.987020</td>\n",
              "      <td>0.835212</td>\n",
              "      <td>1.521580</td>\n",
              "      <td>0.799616</td>\n",
              "      <td>0.874974</td>\n",
              "      <td>0.875548</td>\n",
              "      <td>0.977154</td>\n",
              "      <td>0.773364</td>\n",
              "      <td>0.882516</td>\n",
              "      <td>0.617543</td>\n",
              "      <td>0.837230</td>\n",
              "      <td>1.257902</td>\n",
              "      <td>0.913718</td>\n",
              "      <td>0.711169</td>\n",
              "      <td>1.036150</td>\n",
              "      <td>2.423279</td>\n",
              "      <td>2.677375</td>\n",
              "      <td>0.824836</td>\n",
              "      <td>0.775925</td>\n",
              "    </tr>\n",
              "    <tr>\n",
              "      <th>min</th>\n",
              "      <td>0.668085</td>\n",
              "      <td>1.305794</td>\n",
              "      <td>2.193773</td>\n",
              "      <td>0.728425</td>\n",
              "      <td>0.073645</td>\n",
              "      <td>2.380204</td>\n",
              "      <td>2.716960</td>\n",
              "      <td>1.086365</td>\n",
              "      <td>0.879080</td>\n",
              "      <td>1.117544</td>\n",
              "      <td>4.459917</td>\n",
              "      <td>0.899994</td>\n",
              "      <td>0.435114</td>\n",
              "      <td>0.672520</td>\n",
              "      <td>2.212343</td>\n",
              "      <td>1.447088</td>\n",
              "      <td>2.643597</td>\n",
              "      <td>1.193575</td>\n",
              "      <td>0.530771</td>\n",
              "      <td>1.428634</td>\n",
              "      <td>2.218998</td>\n",
              "    </tr>\n",
              "    <tr>\n",
              "      <th>25%</th>\n",
              "      <td>3.390396</td>\n",
              "      <td>4.331190</td>\n",
              "      <td>4.376916</td>\n",
              "      <td>3.567006</td>\n",
              "      <td>1.926821</td>\n",
              "      <td>4.272392</td>\n",
              "      <td>4.758908</td>\n",
              "      <td>2.866235</td>\n",
              "      <td>4.276781</td>\n",
              "      <td>2.910465</td>\n",
              "      <td>7.288990</td>\n",
              "      <td>2.447650</td>\n",
              "      <td>3.222392</td>\n",
              "      <td>3.737002</td>\n",
              "      <td>4.303779</td>\n",
              "      <td>3.517319</td>\n",
              "      <td>6.447339</td>\n",
              "      <td>3.579986</td>\n",
              "      <td>5.268867</td>\n",
              "      <td>5.119781</td>\n",
              "      <td>4.247824</td>\n",
              "    </tr>\n",
              "    <tr>\n",
              "      <th>50%</th>\n",
              "      <td>4.139365</td>\n",
              "      <td>4.829788</td>\n",
              "      <td>5.103757</td>\n",
              "      <td>4.090588</td>\n",
              "      <td>2.623955</td>\n",
              "      <td>4.695558</td>\n",
              "      <td>5.374751</td>\n",
              "      <td>3.242166</td>\n",
              "      <td>4.791324</td>\n",
              "      <td>3.379283</td>\n",
              "      <td>7.801186</td>\n",
              "      <td>2.822985</td>\n",
              "      <td>3.677365</td>\n",
              "      <td>4.569216</td>\n",
              "      <td>4.744346</td>\n",
              "      <td>3.947587</td>\n",
              "      <td>7.133301</td>\n",
              "      <td>4.226871</td>\n",
              "      <td>8.475008</td>\n",
              "      <td>5.482303</td>\n",
              "      <td>4.651004</td>\n",
              "    </tr>\n",
              "    <tr>\n",
              "      <th>75%</th>\n",
              "      <td>4.913180</td>\n",
              "      <td>5.327773</td>\n",
              "      <td>5.694544</td>\n",
              "      <td>4.596960</td>\n",
              "      <td>3.370140</td>\n",
              "      <td>5.217066</td>\n",
              "      <td>5.983875</td>\n",
              "      <td>3.750545</td>\n",
              "      <td>5.426297</td>\n",
              "      <td>3.904954</td>\n",
              "      <td>8.343808</td>\n",
              "      <td>3.220396</td>\n",
              "      <td>4.154977</td>\n",
              "      <td>5.542658</td>\n",
              "      <td>5.277193</td>\n",
              "      <td>4.510465</td>\n",
              "      <td>7.590129</td>\n",
              "      <td>5.691993</td>\n",
              "      <td>9.415745</td>\n",
              "      <td>5.900317</td>\n",
              "      <td>5.122929</td>\n",
              "    </tr>\n",
              "    <tr>\n",
              "      <th>max</th>\n",
              "      <td>7.923561</td>\n",
              "      <td>6.974327</td>\n",
              "      <td>8.134850</td>\n",
              "      <td>7.393546</td>\n",
              "      <td>9.563560</td>\n",
              "      <td>8.406599</td>\n",
              "      <td>8.029896</td>\n",
              "      <td>7.569143</td>\n",
              "      <td>8.414998</td>\n",
              "      <td>6.977404</td>\n",
              "      <td>11.898551</td>\n",
              "      <td>5.590978</td>\n",
              "      <td>6.459934</td>\n",
              "      <td>10.067625</td>\n",
              "      <td>8.956072</td>\n",
              "      <td>6.734989</td>\n",
              "      <td>9.154822</td>\n",
              "      <td>12.814622</td>\n",
              "      <td>12.092160</td>\n",
              "      <td>7.651443</td>\n",
              "      <td>7.945005</td>\n",
              "    </tr>\n",
              "  </tbody>\n",
              "</table>\n",
              "</div>"
            ],
            "text/plain": [
              "             MIRC1        MIRC2  ...       MIRC20       MIRC21\n",
              "count  8895.000000  8895.000000  ...  8895.000000  8895.000000\n",
              "mean      4.129920     4.765170  ...     5.445934     4.740501\n",
              "std       1.099592     0.828207  ...     0.824836     0.775925\n",
              "min       0.668085     1.305794  ...     1.428634     2.218998\n",
              "25%       3.390396     4.331190  ...     5.119781     4.247824\n",
              "50%       4.139365     4.829788  ...     5.482303     4.651004\n",
              "75%       4.913180     5.327773  ...     5.900317     5.122929\n",
              "max       7.923561     6.974327  ...     7.651443     7.945005\n",
              "\n",
              "[8 rows x 21 columns]"
            ]
          },
          "metadata": {
            "tags": []
          },
          "execution_count": 223
        }
      ]
    },
    {
      "cell_type": "code",
      "metadata": {
        "id": "THy6IBjT4Miu",
        "colab_type": "code",
        "outputId": "070bb2bf-5f3c-4efc-8874-ce07bbc9f1b9",
        "colab": {
          "base_uri": "https://localhost:8080/",
          "height": 304
        }
      },
      "source": [
        "mrna_well_dataframe.describe()"
      ],
      "execution_count": 224,
      "outputs": [
        {
          "output_type": "execute_result",
          "data": {
            "text/html": [
              "<div>\n",
              "<style scoped>\n",
              "    .dataframe tbody tr th:only-of-type {\n",
              "        vertical-align: middle;\n",
              "    }\n",
              "\n",
              "    .dataframe tbody tr th {\n",
              "        vertical-align: top;\n",
              "    }\n",
              "\n",
              "    .dataframe thead th {\n",
              "        text-align: right;\n",
              "    }\n",
              "</style>\n",
              "<table border=\"1\" class=\"dataframe\">\n",
              "  <thead>\n",
              "    <tr style=\"text-align: right;\">\n",
              "      <th></th>\n",
              "      <th>SNORD88B</th>\n",
              "      <th>GRHL2</th>\n",
              "      <th>C1orf172</th>\n",
              "      <th>RAB25</th>\n",
              "      <th>ANKS4B</th>\n",
              "      <th>HNF4A</th>\n",
              "      <th>AP1M2</th>\n",
              "      <th>PKP3</th>\n",
              "      <th>STMN4</th>\n",
              "      <th>ESRP1</th>\n",
              "      <th>CDHR5</th>\n",
              "      <th>MEG3</th>\n",
              "      <th>PRSS8</th>\n",
              "      <th>OVOL2</th>\n",
              "      <th>SPINT1</th>\n",
              "      <th>TM4SF5</th>\n",
              "      <th>ELAVL3</th>\n",
              "      <th>FAM123A</th>\n",
              "      <th>ZDHHC22</th>\n",
              "      <th>MMD2</th>\n",
              "      <th>SH2D3A</th>\n",
              "      <th>C21orf131</th>\n",
              "      <th>NCAN</th>\n",
              "      <th>CRB3</th>\n",
              "      <th>CLDN4</th>\n",
              "      <th>CACNG7</th>\n",
              "      <th>C1orf210</th>\n",
              "      <th>KCNJ9</th>\n",
              "      <th>CLDN7</th>\n",
              "      <th>ATCAY</th>\n",
              "      <th>C2orf80</th>\n",
              "      <th>ATP6V1G2</th>\n",
              "      <th>ST14</th>\n",
              "      <th>SHISA7</th>\n",
              "      <th>ELF3</th>\n",
              "    </tr>\n",
              "  </thead>\n",
              "  <tbody>\n",
              "    <tr>\n",
              "      <th>count</th>\n",
              "      <td>8.895000e+03</td>\n",
              "      <td>8895.000000</td>\n",
              "      <td>8895.000000</td>\n",
              "      <td>8895.000000</td>\n",
              "      <td>8895.000000</td>\n",
              "      <td>8895.000000</td>\n",
              "      <td>8895.000000</td>\n",
              "      <td>8895.000000</td>\n",
              "      <td>8895.000000</td>\n",
              "      <td>8895.000000</td>\n",
              "      <td>8895.000000</td>\n",
              "      <td>8895.000000</td>\n",
              "      <td>8895.000000</td>\n",
              "      <td>8895.000000</td>\n",
              "      <td>8895.000000</td>\n",
              "      <td>8895.000000</td>\n",
              "      <td>8895.000000</td>\n",
              "      <td>8895.000000</td>\n",
              "      <td>8895.000000</td>\n",
              "      <td>8895.000000</td>\n",
              "      <td>8895.000000</td>\n",
              "      <td>8895.000000</td>\n",
              "      <td>8895.000000</td>\n",
              "      <td>8895.000000</td>\n",
              "      <td>8895.000000</td>\n",
              "      <td>8895.000000</td>\n",
              "      <td>8895.000000</td>\n",
              "      <td>8895.000000</td>\n",
              "      <td>8895.000000</td>\n",
              "      <td>8895.000000</td>\n",
              "      <td>8895.000000</td>\n",
              "      <td>8895.000000</td>\n",
              "      <td>8895.000000</td>\n",
              "      <td>8895.000000</td>\n",
              "      <td>8895.000000</td>\n",
              "    </tr>\n",
              "    <tr>\n",
              "      <th>mean</th>\n",
              "      <td>3.321928e+00</td>\n",
              "      <td>8.155817</td>\n",
              "      <td>7.593661</td>\n",
              "      <td>8.785721</td>\n",
              "      <td>4.627285</td>\n",
              "      <td>5.378231</td>\n",
              "      <td>8.976169</td>\n",
              "      <td>8.860184</td>\n",
              "      <td>4.044450</td>\n",
              "      <td>9.361552</td>\n",
              "      <td>5.359268</td>\n",
              "      <td>6.365150</td>\n",
              "      <td>9.773930</td>\n",
              "      <td>6.348790</td>\n",
              "      <td>10.782612</td>\n",
              "      <td>4.534172</td>\n",
              "      <td>4.239040</td>\n",
              "      <td>3.894851</td>\n",
              "      <td>4.056129</td>\n",
              "      <td>3.704895</td>\n",
              "      <td>7.709817</td>\n",
              "      <td>3.585181</td>\n",
              "      <td>4.240817</td>\n",
              "      <td>7.642334</td>\n",
              "      <td>10.707382</td>\n",
              "      <td>3.914341</td>\n",
              "      <td>7.076422</td>\n",
              "      <td>3.824674</td>\n",
              "      <td>9.725093</td>\n",
              "      <td>4.468322</td>\n",
              "      <td>3.601279</td>\n",
              "      <td>5.252473</td>\n",
              "      <td>11.016779</td>\n",
              "      <td>4.015498</td>\n",
              "      <td>10.302955</td>\n",
              "    </tr>\n",
              "    <tr>\n",
              "      <th>std</th>\n",
              "      <td>3.286445e-13</td>\n",
              "      <td>3.178686</td>\n",
              "      <td>2.162151</td>\n",
              "      <td>3.414385</td>\n",
              "      <td>2.251971</td>\n",
              "      <td>3.201652</td>\n",
              "      <td>3.026656</td>\n",
              "      <td>3.212414</td>\n",
              "      <td>1.939588</td>\n",
              "      <td>3.152476</td>\n",
              "      <td>3.170327</td>\n",
              "      <td>2.448115</td>\n",
              "      <td>3.333205</td>\n",
              "      <td>2.019891</td>\n",
              "      <td>2.696889</td>\n",
              "      <td>2.391540</td>\n",
              "      <td>2.039951</td>\n",
              "      <td>1.627266</td>\n",
              "      <td>1.935259</td>\n",
              "      <td>1.385978</td>\n",
              "      <td>2.042799</td>\n",
              "      <td>1.061898</td>\n",
              "      <td>2.478874</td>\n",
              "      <td>2.121472</td>\n",
              "      <td>3.465986</td>\n",
              "      <td>1.798836</td>\n",
              "      <td>2.144705</td>\n",
              "      <td>1.398936</td>\n",
              "      <td>2.856072</td>\n",
              "      <td>2.449587</td>\n",
              "      <td>1.044203</td>\n",
              "      <td>1.856013</td>\n",
              "      <td>2.539577</td>\n",
              "      <td>1.584956</td>\n",
              "      <td>3.407289</td>\n",
              "    </tr>\n",
              "    <tr>\n",
              "      <th>min</th>\n",
              "      <td>3.321928e+00</td>\n",
              "      <td>3.321928</td>\n",
              "      <td>3.321928</td>\n",
              "      <td>3.321928</td>\n",
              "      <td>3.321928</td>\n",
              "      <td>3.321928</td>\n",
              "      <td>3.321928</td>\n",
              "      <td>3.321928</td>\n",
              "      <td>3.321928</td>\n",
              "      <td>3.321928</td>\n",
              "      <td>3.321928</td>\n",
              "      <td>3.321928</td>\n",
              "      <td>3.321928</td>\n",
              "      <td>3.321928</td>\n",
              "      <td>3.321928</td>\n",
              "      <td>3.321928</td>\n",
              "      <td>3.321928</td>\n",
              "      <td>3.321928</td>\n",
              "      <td>3.321928</td>\n",
              "      <td>3.321928</td>\n",
              "      <td>3.321928</td>\n",
              "      <td>3.321928</td>\n",
              "      <td>3.321928</td>\n",
              "      <td>3.321928</td>\n",
              "      <td>3.321928</td>\n",
              "      <td>3.321928</td>\n",
              "      <td>3.321928</td>\n",
              "      <td>3.321928</td>\n",
              "      <td>3.321928</td>\n",
              "      <td>3.321928</td>\n",
              "      <td>3.321928</td>\n",
              "      <td>3.321928</td>\n",
              "      <td>3.456596</td>\n",
              "      <td>3.321928</td>\n",
              "      <td>3.321928</td>\n",
              "    </tr>\n",
              "    <tr>\n",
              "      <th>25%</th>\n",
              "      <td>3.321928e+00</td>\n",
              "      <td>3.827169</td>\n",
              "      <td>6.568491</td>\n",
              "      <td>4.138856</td>\n",
              "      <td>3.321928</td>\n",
              "      <td>3.321928</td>\n",
              "      <td>7.390474</td>\n",
              "      <td>5.492842</td>\n",
              "      <td>3.321928</td>\n",
              "      <td>7.868540</td>\n",
              "      <td>3.420213</td>\n",
              "      <td>4.570809</td>\n",
              "      <td>8.432295</td>\n",
              "      <td>3.791871</td>\n",
              "      <td>10.121418</td>\n",
              "      <td>3.321928</td>\n",
              "      <td>3.321928</td>\n",
              "      <td>3.321928</td>\n",
              "      <td>3.321928</td>\n",
              "      <td>3.321928</td>\n",
              "      <td>6.649594</td>\n",
              "      <td>3.321928</td>\n",
              "      <td>3.321928</td>\n",
              "      <td>7.091705</td>\n",
              "      <td>8.336141</td>\n",
              "      <td>3.321928</td>\n",
              "      <td>5.705131</td>\n",
              "      <td>3.321928</td>\n",
              "      <td>8.154926</td>\n",
              "      <td>3.321928</td>\n",
              "      <td>3.321928</td>\n",
              "      <td>4.087904</td>\n",
              "      <td>9.768306</td>\n",
              "      <td>3.380293</td>\n",
              "      <td>8.762381</td>\n",
              "    </tr>\n",
              "    <tr>\n",
              "      <th>50%</th>\n",
              "      <td>3.321928e+00</td>\n",
              "      <td>9.721445</td>\n",
              "      <td>8.584962</td>\n",
              "      <td>10.578029</td>\n",
              "      <td>3.380397</td>\n",
              "      <td>3.487615</td>\n",
              "      <td>10.362406</td>\n",
              "      <td>10.032601</td>\n",
              "      <td>3.382280</td>\n",
              "      <td>10.825702</td>\n",
              "      <td>3.616934</td>\n",
              "      <td>5.775633</td>\n",
              "      <td>11.172563</td>\n",
              "      <td>7.065259</td>\n",
              "      <td>11.868456</td>\n",
              "      <td>3.321928</td>\n",
              "      <td>3.434668</td>\n",
              "      <td>3.321928</td>\n",
              "      <td>3.398610</td>\n",
              "      <td>3.321928</td>\n",
              "      <td>8.352049</td>\n",
              "      <td>3.321928</td>\n",
              "      <td>3.445316</td>\n",
              "      <td>8.492150</td>\n",
              "      <td>12.129232</td>\n",
              "      <td>3.321928</td>\n",
              "      <td>7.871400</td>\n",
              "      <td>3.399144</td>\n",
              "      <td>10.862832</td>\n",
              "      <td>3.401125</td>\n",
              "      <td>3.321928</td>\n",
              "      <td>4.682478</td>\n",
              "      <td>11.992357</td>\n",
              "      <td>3.487332</td>\n",
              "      <td>11.465436</td>\n",
              "    </tr>\n",
              "    <tr>\n",
              "      <th>75%</th>\n",
              "      <td>3.321928e+00</td>\n",
              "      <td>10.602422</td>\n",
              "      <td>9.106035</td>\n",
              "      <td>11.346711</td>\n",
              "      <td>4.613274</td>\n",
              "      <td>6.889222</td>\n",
              "      <td>11.159029</td>\n",
              "      <td>11.314739</td>\n",
              "      <td>3.548504</td>\n",
              "      <td>11.592149</td>\n",
              "      <td>5.771523</td>\n",
              "      <td>7.415182</td>\n",
              "      <td>12.132662</td>\n",
              "      <td>7.976795</td>\n",
              "      <td>12.536744</td>\n",
              "      <td>3.958196</td>\n",
              "      <td>3.806989</td>\n",
              "      <td>3.466366</td>\n",
              "      <td>3.599824</td>\n",
              "      <td>3.321928</td>\n",
              "      <td>9.185166</td>\n",
              "      <td>3.321928</td>\n",
              "      <td>3.667188</td>\n",
              "      <td>9.067013</td>\n",
              "      <td>13.256996</td>\n",
              "      <td>3.391637</td>\n",
              "      <td>8.679830</td>\n",
              "      <td>3.539184</td>\n",
              "      <td>11.819972</td>\n",
              "      <td>3.889011</td>\n",
              "      <td>3.321928</td>\n",
              "      <td>5.645023</td>\n",
              "      <td>12.805950</td>\n",
              "      <td>3.726068</td>\n",
              "      <td>12.869153</td>\n",
              "    </tr>\n",
              "    <tr>\n",
              "      <th>max</th>\n",
              "      <td>3.321928e+00</td>\n",
              "      <td>13.214960</td>\n",
              "      <td>11.400681</td>\n",
              "      <td>13.952766</td>\n",
              "      <td>11.334583</td>\n",
              "      <td>14.143314</td>\n",
              "      <td>14.195280</td>\n",
              "      <td>15.187468</td>\n",
              "      <td>13.293996</td>\n",
              "      <td>13.750252</td>\n",
              "      <td>16.494252</td>\n",
              "      <td>16.003397</td>\n",
              "      <td>16.222350</td>\n",
              "      <td>10.315371</td>\n",
              "      <td>15.279120</td>\n",
              "      <td>15.933825</td>\n",
              "      <td>13.872720</td>\n",
              "      <td>11.958680</td>\n",
              "      <td>13.540386</td>\n",
              "      <td>11.930154</td>\n",
              "      <td>11.773909</td>\n",
              "      <td>10.807282</td>\n",
              "      <td>17.157491</td>\n",
              "      <td>11.553039</td>\n",
              "      <td>16.765540</td>\n",
              "      <td>11.635063</td>\n",
              "      <td>11.841375</td>\n",
              "      <td>11.694423</td>\n",
              "      <td>14.485464</td>\n",
              "      <td>14.530785</td>\n",
              "      <td>10.079880</td>\n",
              "      <td>13.195618</td>\n",
              "      <td>15.532057</td>\n",
              "      <td>11.369453</td>\n",
              "      <td>15.908748</td>\n",
              "    </tr>\n",
              "  </tbody>\n",
              "</table>\n",
              "</div>"
            ],
            "text/plain": [
              "0          SNORD88B        GRHL2  ...       SHISA7         ELF3\n",
              "count  8.895000e+03  8895.000000  ...  8895.000000  8895.000000\n",
              "mean   3.321928e+00     8.155817  ...     4.015498    10.302955\n",
              "std    3.286445e-13     3.178686  ...     1.584956     3.407289\n",
              "min    3.321928e+00     3.321928  ...     3.321928     3.321928\n",
              "25%    3.321928e+00     3.827169  ...     3.380293     8.762381\n",
              "50%    3.321928e+00     9.721445  ...     3.487332    11.465436\n",
              "75%    3.321928e+00    10.602422  ...     3.726068    12.869153\n",
              "max    3.321928e+00    13.214960  ...    11.369453    15.908748\n",
              "\n",
              "[8 rows x 35 columns]"
            ]
          },
          "metadata": {
            "tags": []
          },
          "execution_count": 224
        }
      ]
    },
    {
      "cell_type": "markdown",
      "metadata": {
        "id": "3pRGMU8MLZ6C",
        "colab_type": "text"
      },
      "source": [
        "### Subproblem 1 - Computer R<sup>2</sup> and RMSE Mean and Standard Deviation"
      ]
    },
    {
      "cell_type": "markdown",
      "metadata": {
        "id": "P2Um4yCF0ww9",
        "colab_type": "text"
      },
      "source": [
        "**1.5** Import linear regression library from scikit."
      ]
    },
    {
      "cell_type": "code",
      "metadata": {
        "id": "HUPvijNa09uM",
        "colab_type": "code",
        "colab": {}
      },
      "source": [
        "from sklearn.linear_model import LinearRegression\n",
        "from sklearn.model_selection import train_test_split \n",
        "from sklearn import metrics"
      ],
      "execution_count": 0,
      "outputs": []
    },
    {
      "cell_type": "markdown",
      "metadata": {
        "id": "Ep-D88hypQvU",
        "colab_type": "text"
      },
      "source": [
        "**1.6** Setup x (microRNA features) and y (mRNA targets) values for regression. *Proof of concept*: let's try a single target value for now (SNORD88B)."
      ]
    },
    {
      "cell_type": "code",
      "metadata": {
        "id": "DsUlNsQspXGa",
        "colab_type": "code",
        "outputId": "21f93d5b-2e6c-4b3d-9321-a345917315b4",
        "colab": {
          "base_uri": "https://localhost:8080/",
          "height": 185
        }
      },
      "source": [
        "x = micro_rna_dataframe.values\n",
        "print(f'Micro RNA Features:\\n {x}')\n",
        "y = mrna_well_dataframe[\"SNORD88B\"].values\n",
        "print(f'mRNA Target Value SNORD88B:\\n {y}')"
      ],
      "execution_count": 226,
      "outputs": [
        {
          "output_type": "stream",
          "text": [
            "Micro RNA Features:\n",
            " [[5.45376694 4.3838276  3.2169834  ... 3.97732759 5.50102704 4.75696249]\n",
            " [4.32198812 3.98658259 3.82988503 ... 4.19998992 5.22425381 4.42951072]\n",
            " [4.08911559 4.17859005 3.39378873 ... 3.1384791  5.68200738 4.40325252]\n",
            " ...\n",
            " [3.02645513 4.1710086  4.45773238 ... 2.69657029 4.73838707 5.70546468]\n",
            " [2.72775755 4.33952219 4.56746271 ... 3.01168894 5.60531597 5.87649015]\n",
            " [2.41979846 4.25275134 4.75874578 ... 2.74892305 5.13766053 6.12771056]]\n",
            "mRNA Target Value SNORD88B:\n",
            " [3.32192809 3.32192809 3.32192809 ... 3.32192809 3.32192809 3.32192809]\n"
          ],
          "name": "stdout"
        }
      ]
    },
    {
      "cell_type": "markdown",
      "metadata": {
        "id": "9FjsRSODwgCH",
        "colab_type": "text"
      },
      "source": [
        "**1.7** Split data 80/20 and run linear regression."
      ]
    },
    {
      "cell_type": "code",
      "metadata": {
        "id": "MpvHAl2AwmxV",
        "colab_type": "code",
        "outputId": "a38b1fc8-5cc7-4dd0-eb61-35e4cde0e387",
        "colab": {
          "base_uri": "https://localhost:8080/",
          "height": 195
        }
      },
      "source": [
        "x_train, x_test, y_train, y_test = train_test_split(x, y, test_size=0.2)\n",
        "r = LinearRegression()  \n",
        "r.fit(x_train, y_train)\n",
        "y_prediction = r.predict(x_test)\n",
        "df = pd.DataFrame({'Actual': y_test, 'Predicted': y_prediction})\n",
        "df.head()"
      ],
      "execution_count": 227,
      "outputs": [
        {
          "output_type": "execute_result",
          "data": {
            "text/html": [
              "<div>\n",
              "<style scoped>\n",
              "    .dataframe tbody tr th:only-of-type {\n",
              "        vertical-align: middle;\n",
              "    }\n",
              "\n",
              "    .dataframe tbody tr th {\n",
              "        vertical-align: top;\n",
              "    }\n",
              "\n",
              "    .dataframe thead th {\n",
              "        text-align: right;\n",
              "    }\n",
              "</style>\n",
              "<table border=\"1\" class=\"dataframe\">\n",
              "  <thead>\n",
              "    <tr style=\"text-align: right;\">\n",
              "      <th></th>\n",
              "      <th>Actual</th>\n",
              "      <th>Predicted</th>\n",
              "    </tr>\n",
              "  </thead>\n",
              "  <tbody>\n",
              "    <tr>\n",
              "      <th>0</th>\n",
              "      <td>3.321928</td>\n",
              "      <td>3.321928</td>\n",
              "    </tr>\n",
              "    <tr>\n",
              "      <th>1</th>\n",
              "      <td>3.321928</td>\n",
              "      <td>3.321928</td>\n",
              "    </tr>\n",
              "    <tr>\n",
              "      <th>2</th>\n",
              "      <td>3.321928</td>\n",
              "      <td>3.321928</td>\n",
              "    </tr>\n",
              "    <tr>\n",
              "      <th>3</th>\n",
              "      <td>3.321928</td>\n",
              "      <td>3.321928</td>\n",
              "    </tr>\n",
              "    <tr>\n",
              "      <th>4</th>\n",
              "      <td>3.321928</td>\n",
              "      <td>3.321928</td>\n",
              "    </tr>\n",
              "  </tbody>\n",
              "</table>\n",
              "</div>"
            ],
            "text/plain": [
              "     Actual  Predicted\n",
              "0  3.321928   3.321928\n",
              "1  3.321928   3.321928\n",
              "2  3.321928   3.321928\n",
              "3  3.321928   3.321928\n",
              "4  3.321928   3.321928"
            ]
          },
          "metadata": {
            "tags": []
          },
          "execution_count": 227
        }
      ]
    },
    {
      "cell_type": "markdown",
      "metadata": {
        "id": "FmPegxCxgxTy",
        "colab_type": "text"
      },
      "source": [
        "**1.8** Let's take a look at some of the metrics. In particular, R<sup>2</sup> and RMSE."
      ]
    },
    {
      "cell_type": "code",
      "metadata": {
        "id": "udGf6Ypeg3BQ",
        "colab_type": "code",
        "outputId": "e5d9f4f6-64e8-46b5-ac14-fee7e703fa59",
        "colab": {
          "base_uri": "https://localhost:8080/",
          "height": 34
        }
      },
      "source": [
        "rmse = np.sqrt(metrics.mean_squared_error(y_test, y_prediction))\n",
        "r2 = metrics.r2_score(y_test, y_prediction)\n",
        "print(f'RMSE: {rmse}; R2: {r2}') # Notice how error is essentially zero, so we have a perfect prediciton"
      ],
      "execution_count": 228,
      "outputs": [
        {
          "output_type": "stream",
          "text": [
            "RMSE: 0.0; R2: 1.0\n"
          ],
          "name": "stdout"
        }
      ]
    },
    {
      "cell_type": "markdown",
      "metadata": {
        "id": "r9qGpiFb4FEP",
        "colab_type": "text"
      },
      "source": [
        "**1.9** Turns out SNORD88B is extremely stable. In other words, it's fairly easy to predict regardless of which features we choose. Let's try creating an experiment for all target values.\n",
        "\n"
      ]
    },
    {
      "cell_type": "code",
      "metadata": {
        "id": "TKqmZeuKjCOz",
        "colab_type": "code",
        "colab": {}
      },
      "source": [
        "def experiment(features, targets):\n",
        "  rmse_list = []\n",
        "  r2_list = []\n",
        "  for _ in range(10):\n",
        "    y = targets.values\n",
        "    x_train, x_test, y_train, y_test = train_test_split(features, y, test_size=0.2)\n",
        "    r = LinearRegression()  \n",
        "    r.fit(x_train, y_train)\n",
        "    y_prediction = r.predict(x_test)\n",
        "    rmse = np.sqrt(metrics.mean_squared_error(y_test, y_prediction))\n",
        "    rmse_list.append(rmse)\n",
        "    r2 = metrics.r2_score(y_test, y_prediction)\n",
        "    r2_list.append(r2)\n",
        "  return {\n",
        "      \"rmse_avg\": np.average(rmse_list),\n",
        "      \"rmse_std\": np.std(rmse_list), \n",
        "      \"r2_avg\": np.average(r2_list),\n",
        "      \"r2_std\": np.std(r2_list)\n",
        "  }"
      ],
      "execution_count": 0,
      "outputs": []
    },
    {
      "cell_type": "code",
      "metadata": {
        "id": "_LaArQZBAPhX",
        "colab_type": "code",
        "colab": {}
      },
      "source": [
        "def compute_experiment_error(features, targets):\n",
        "  error_columns = {}\n",
        "  for column in targets:\n",
        "    error = experiment(features, targets[column])\n",
        "    error_columns[column] = error\n",
        "  return error_columns"
      ],
      "execution_count": 0,
      "outputs": []
    },
    {
      "cell_type": "markdown",
      "metadata": {
        "id": "JIVacT6djupL",
        "colab_type": "text"
      },
      "source": [
        "**1.10** Great! Now, we can quickly iterate over every column and report the average mean and rmse."
      ]
    },
    {
      "cell_type": "code",
      "metadata": {
        "id": "bmFmzqpp4kTJ",
        "colab_type": "code",
        "colab": {}
      },
      "source": [
        "well_error = compute_experiment_error(x, mrna_well_dataframe)\n",
        "poor_error = compute_experiment_error(x, mrna_poor_dataframe)"
      ],
      "execution_count": 0,
      "outputs": []
    },
    {
      "cell_type": "markdown",
      "metadata": {
        "id": "dlps9uqvLrPy",
        "colab_type": "text"
      },
      "source": [
        "### Subproblem 2 - Visualize Error"
      ]
    },
    {
      "cell_type": "markdown",
      "metadata": {
        "id": "1ZC_OL_3nXXB",
        "colab_type": "text"
      },
      "source": [
        "**1.11** Time to visualize the error between the two target sets."
      ]
    },
    {
      "cell_type": "code",
      "metadata": {
        "id": "_KkNZSpInf5Z",
        "colab_type": "code",
        "outputId": "b60fa004-1f3a-4538-b97c-13dcabfa0467",
        "colab": {
          "base_uri": "https://localhost:8080/",
          "height": 0
        }
      },
      "source": [
        "well_r2_dataframe = pd.DataFrame.from_dict(well_error).T[\"r2_avg\"]\n",
        "poor_r2_dataframe = pd.DataFrame.from_dict(poor_error).T[\"r2_avg\"]\n",
        "r2_dataframe = pd.DataFrame([well_r2_dataframe, poor_r2_dataframe]).T\n",
        "r2_dataframe.columns = [\"Well\", \"Poor\"]\n",
        "r2_dataframe.plot(kind='bar',figsize=(16,10))"
      ],
      "execution_count": 232,
      "outputs": [
        {
          "output_type": "execute_result",
          "data": {
            "text/plain": [
              "<matplotlib.axes._subplots.AxesSubplot at 0x7f2c9c0377b8>"
            ]
          },
          "metadata": {
            "tags": []
          },
          "execution_count": 232
        },
        {
          "output_type": "display_data",
          "data": {
            "image/png": "[encoded data removed]",
            "text/plain": [
              "<Figure size 1152x720 with 1 Axes>"
            ]
          },
          "metadata": {
            "tags": []
          }
        }
      ]
    },
    {
      "cell_type": "markdown",
      "metadata": {
        "id": "ZZHVcwIDq62M",
        "colab_type": "text"
      },
      "source": [
        "Here, we can see that the R<sup>2</sup> value for the well expressed genes is much higher than the poorly expressed genes. In other words, the 21 features more clearly fit the well expressed genes on average. \n",
        "\n"
      ]
    },
    {
      "cell_type": "markdown",
      "metadata": {
        "id": "eKYo-Tgxs481",
        "colab_type": "text"
      },
      "source": [
        "**1.12** That said, I think we can get an even more convincing plot by computing the average of all R<sup>2</sup> values for each set."
      ]
    },
    {
      "cell_type": "code",
      "metadata": {
        "id": "IL_jzaVhtFEk",
        "colab_type": "code",
        "outputId": "b9bab604-0dfb-4025-c49c-913288af98e5",
        "colab": {
          "base_uri": "https://localhost:8080/",
          "height": 0
        }
      },
      "source": [
        "well_r2_avg = np.average(well_r2_dataframe.values)\n",
        "poor_r2_avg = np.average(poor_r2_dataframe.values)\n",
        "avg_dict = {\n",
        "    \"R2\": {\n",
        "        \"Well\": well_r2_avg,\n",
        "        \"Poor\": poor_r2_avg\n",
        "    }\n",
        "}\n",
        "pd.DataFrame.from_dict(avg_dict).plot(kind='bar',figsize=(12,8))"
      ],
      "execution_count": 233,
      "outputs": [
        {
          "output_type": "execute_result",
          "data": {
            "text/plain": [
              "<matplotlib.axes._subplots.AxesSubplot at 0x7f2c9bdfb4e0>"
            ]
          },
          "metadata": {
            "tags": []
          },
          "execution_count": 233
        },
        {
          "output_type": "display_data",
          "data": {
            "image/png": "[encoded data removed]",
            "text/plain": [
              "<Figure size 864x576 with 1 Axes>"
            ]
          },
          "metadata": {
            "tags": []
          }
        }
      ]
    },
    {
      "cell_type": "markdown",
      "metadata": {
        "id": "zOawgH6ZLy2m",
        "colab_type": "text"
      },
      "source": [
        "### Subproblem 3 - Introduce Categorical Variable"
      ]
    },
    {
      "cell_type": "markdown",
      "metadata": {
        "id": "3urM1OA6zuXh",
        "colab_type": "text"
      },
      "source": [
        "**1.13** At this point, we can introduce another categorical variable, tissue type. To do that, we'll need to treat the feature as a dummy variable: either 0 or 1. According to the assignment, we'll need 32 columns for our 33 tissues. "
      ]
    },
    {
      "cell_type": "code",
      "metadata": {
        "id": "_fm_twfe0UW_",
        "colab_type": "code",
        "outputId": "a1c0b6cd-0e11-4f66-e08c-0efd7ff48de3",
        "colab": {
          "base_uri": "https://localhost:8080/",
          "height": 0
        }
      },
      "source": [
        "dummies = pd.get_dummies(tissue_types_dataframe)  # Generates dummies for us\n",
        "dummies.head()"
      ],
      "execution_count": 234,
      "outputs": [
        {
          "output_type": "execute_result",
          "data": {
            "text/html": [
              "<div>\n",
              "<style scoped>\n",
              "    .dataframe tbody tr th:only-of-type {\n",
              "        vertical-align: middle;\n",
              "    }\n",
              "\n",
              "    .dataframe tbody tr th {\n",
              "        vertical-align: top;\n",
              "    }\n",
              "\n",
              "    .dataframe thead th {\n",
              "        text-align: right;\n",
              "    }\n",
              "</style>\n",
              "<table border=\"1\" class=\"dataframe\">\n",
              "  <thead>\n",
              "    <tr style=\"text-align: right;\">\n",
              "      <th></th>\n",
              "      <th>cancerType_ACC</th>\n",
              "      <th>cancerType_BLCA</th>\n",
              "      <th>cancerType_BRCA</th>\n",
              "      <th>cancerType_CESC</th>\n",
              "      <th>cancerType_CHOL</th>\n",
              "      <th>cancerType_COAD</th>\n",
              "      <th>cancerType_DLBC</th>\n",
              "      <th>cancerType_ESCA</th>\n",
              "      <th>cancerType_GBM</th>\n",
              "      <th>cancerType_HNSC</th>\n",
              "      <th>cancerType_KICH</th>\n",
              "      <th>cancerType_KIRC</th>\n",
              "      <th>cancerType_KIRP</th>\n",
              "      <th>cancerType_LGG</th>\n",
              "      <th>cancerType_LIHC</th>\n",
              "      <th>cancerType_LUAD</th>\n",
              "      <th>cancerType_LUSC</th>\n",
              "      <th>cancerType_MESO</th>\n",
              "      <th>cancerType_OV</th>\n",
              "      <th>cancerType_PAAD</th>\n",
              "      <th>cancerType_PCPG</th>\n",
              "      <th>cancerType_PRAD</th>\n",
              "      <th>cancerType_READ</th>\n",
              "      <th>cancerType_SARC</th>\n",
              "      <th>cancerType_SKCM</th>\n",
              "      <th>cancerType_STAD</th>\n",
              "      <th>cancerType_TGCT</th>\n",
              "      <th>cancerType_THCA</th>\n",
              "      <th>cancerType_THYM</th>\n",
              "      <th>cancerType_UCEC</th>\n",
              "      <th>cancerType_UCS</th>\n",
              "      <th>cancerType_UVM</th>\n",
              "    </tr>\n",
              "  </thead>\n",
              "  <tbody>\n",
              "    <tr>\n",
              "      <th>1</th>\n",
              "      <td>1</td>\n",
              "      <td>0</td>\n",
              "      <td>0</td>\n",
              "      <td>0</td>\n",
              "      <td>0</td>\n",
              "      <td>0</td>\n",
              "      <td>0</td>\n",
              "      <td>0</td>\n",
              "      <td>0</td>\n",
              "      <td>0</td>\n",
              "      <td>0</td>\n",
              "      <td>0</td>\n",
              "      <td>0</td>\n",
              "      <td>0</td>\n",
              "      <td>0</td>\n",
              "      <td>0</td>\n",
              "      <td>0</td>\n",
              "      <td>0</td>\n",
              "      <td>0</td>\n",
              "      <td>0</td>\n",
              "      <td>0</td>\n",
              "      <td>0</td>\n",
              "      <td>0</td>\n",
              "      <td>0</td>\n",
              "      <td>0</td>\n",
              "      <td>0</td>\n",
              "      <td>0</td>\n",
              "      <td>0</td>\n",
              "      <td>0</td>\n",
              "      <td>0</td>\n",
              "      <td>0</td>\n",
              "      <td>0</td>\n",
              "    </tr>\n",
              "    <tr>\n",
              "      <th>2</th>\n",
              "      <td>1</td>\n",
              "      <td>0</td>\n",
              "      <td>0</td>\n",
              "      <td>0</td>\n",
              "      <td>0</td>\n",
              "      <td>0</td>\n",
              "      <td>0</td>\n",
              "      <td>0</td>\n",
              "      <td>0</td>\n",
              "      <td>0</td>\n",
              "      <td>0</td>\n",
              "      <td>0</td>\n",
              "      <td>0</td>\n",
              "      <td>0</td>\n",
              "      <td>0</td>\n",
              "      <td>0</td>\n",
              "      <td>0</td>\n",
              "      <td>0</td>\n",
              "      <td>0</td>\n",
              "      <td>0</td>\n",
              "      <td>0</td>\n",
              "      <td>0</td>\n",
              "      <td>0</td>\n",
              "      <td>0</td>\n",
              "      <td>0</td>\n",
              "      <td>0</td>\n",
              "      <td>0</td>\n",
              "      <td>0</td>\n",
              "      <td>0</td>\n",
              "      <td>0</td>\n",
              "      <td>0</td>\n",
              "      <td>0</td>\n",
              "    </tr>\n",
              "    <tr>\n",
              "      <th>3</th>\n",
              "      <td>1</td>\n",
              "      <td>0</td>\n",
              "      <td>0</td>\n",
              "      <td>0</td>\n",
              "      <td>0</td>\n",
              "      <td>0</td>\n",
              "      <td>0</td>\n",
              "      <td>0</td>\n",
              "      <td>0</td>\n",
              "      <td>0</td>\n",
              "      <td>0</td>\n",
              "      <td>0</td>\n",
              "      <td>0</td>\n",
              "      <td>0</td>\n",
              "      <td>0</td>\n",
              "      <td>0</td>\n",
              "      <td>0</td>\n",
              "      <td>0</td>\n",
              "      <td>0</td>\n",
              "      <td>0</td>\n",
              "      <td>0</td>\n",
              "      <td>0</td>\n",
              "      <td>0</td>\n",
              "      <td>0</td>\n",
              "      <td>0</td>\n",
              "      <td>0</td>\n",
              "      <td>0</td>\n",
              "      <td>0</td>\n",
              "      <td>0</td>\n",
              "      <td>0</td>\n",
              "      <td>0</td>\n",
              "      <td>0</td>\n",
              "    </tr>\n",
              "    <tr>\n",
              "      <th>4</th>\n",
              "      <td>1</td>\n",
              "      <td>0</td>\n",
              "      <td>0</td>\n",
              "      <td>0</td>\n",
              "      <td>0</td>\n",
              "      <td>0</td>\n",
              "      <td>0</td>\n",
              "      <td>0</td>\n",
              "      <td>0</td>\n",
              "      <td>0</td>\n",
              "      <td>0</td>\n",
              "      <td>0</td>\n",
              "      <td>0</td>\n",
              "      <td>0</td>\n",
              "      <td>0</td>\n",
              "      <td>0</td>\n",
              "      <td>0</td>\n",
              "      <td>0</td>\n",
              "      <td>0</td>\n",
              "      <td>0</td>\n",
              "      <td>0</td>\n",
              "      <td>0</td>\n",
              "      <td>0</td>\n",
              "      <td>0</td>\n",
              "      <td>0</td>\n",
              "      <td>0</td>\n",
              "      <td>0</td>\n",
              "      <td>0</td>\n",
              "      <td>0</td>\n",
              "      <td>0</td>\n",
              "      <td>0</td>\n",
              "      <td>0</td>\n",
              "    </tr>\n",
              "    <tr>\n",
              "      <th>5</th>\n",
              "      <td>1</td>\n",
              "      <td>0</td>\n",
              "      <td>0</td>\n",
              "      <td>0</td>\n",
              "      <td>0</td>\n",
              "      <td>0</td>\n",
              "      <td>0</td>\n",
              "      <td>0</td>\n",
              "      <td>0</td>\n",
              "      <td>0</td>\n",
              "      <td>0</td>\n",
              "      <td>0</td>\n",
              "      <td>0</td>\n",
              "      <td>0</td>\n",
              "      <td>0</td>\n",
              "      <td>0</td>\n",
              "      <td>0</td>\n",
              "      <td>0</td>\n",
              "      <td>0</td>\n",
              "      <td>0</td>\n",
              "      <td>0</td>\n",
              "      <td>0</td>\n",
              "      <td>0</td>\n",
              "      <td>0</td>\n",
              "      <td>0</td>\n",
              "      <td>0</td>\n",
              "      <td>0</td>\n",
              "      <td>0</td>\n",
              "      <td>0</td>\n",
              "      <td>0</td>\n",
              "      <td>0</td>\n",
              "      <td>0</td>\n",
              "    </tr>\n",
              "  </tbody>\n",
              "</table>\n",
              "</div>"
            ],
            "text/plain": [
              "   cancerType_ACC  cancerType_BLCA  ...  cancerType_UCS  cancerType_UVM\n",
              "1               1                0  ...               0               0\n",
              "2               1                0  ...               0               0\n",
              "3               1                0  ...               0               0\n",
              "4               1                0  ...               0               0\n",
              "5               1                0  ...               0               0\n",
              "\n",
              "[5 rows x 32 columns]"
            ]
          },
          "metadata": {
            "tags": []
          },
          "execution_count": 234
        }
      ]
    },
    {
      "cell_type": "markdown",
      "metadata": {
        "id": "v4Lz-kDz2zGm",
        "colab_type": "text"
      },
      "source": [
        "**1.14** At this point, we can try appending this data to our existing data and rerun our experiments."
      ]
    },
    {
      "cell_type": "code",
      "metadata": {
        "id": "QfkdNIE1264e",
        "colab_type": "code",
        "outputId": "0f6b45bc-0966-43f7-ea8e-581e84404281",
        "colab": {
          "base_uri": "https://localhost:8080/",
          "height": 0
        }
      },
      "source": [
        "x = pd.concat([micro_rna_dataframe, dummies], axis=1)\n",
        "  \n",
        "well_error = compute_experiment_error(x, mrna_well_dataframe)\n",
        "poor_error = compute_experiment_error(x, mrna_poor_dataframe)\n",
        "\n",
        "well_r2_dataframe = pd.DataFrame.from_dict(well_error).T[\"r2_avg\"]\n",
        "poor_r2_dataframe = pd.DataFrame.from_dict(poor_error).T[\"r2_avg\"]\n",
        "r2_dataframe = pd.DataFrame([well_r2_dataframe, poor_r2_dataframe]).T\n",
        "r2_dataframe.columns = [\"Well\", \"Poor\"]\n",
        "r2_dataframe.plot(kind='bar',figsize=(16,10))"
      ],
      "execution_count": 235,
      "outputs": [
        {
          "output_type": "execute_result",
          "data": {
            "text/plain": [
              "<matplotlib.axes._subplots.AxesSubplot at 0x7f2c9bdbd898>"
            ]
          },
          "metadata": {
            "tags": []
          },
          "execution_count": 235
        },
        {
          "output_type": "display_data",
          "data": {
            "image/png": "[encoded data removed]",
            "text/plain": [
              "<Figure size 1152x720 with 1 Axes>"
            ]
          },
          "metadata": {
            "tags": []
          }
        }
      ]
    },
    {
      "cell_type": "markdown",
      "metadata": {
        "id": "nr_f_LauC6be",
        "colab_type": "text"
      },
      "source": [
        "Here, it seems like the additional features improved the R<sup>2</sup> for just about every possible target value. I suspect the additional categorical feature data is causing some overfitting. That said, prediction performance appears to have improved overall."
      ]
    },
    {
      "cell_type": "markdown",
      "metadata": {
        "id": "T6aWpq_zCJmi",
        "colab_type": "text"
      },
      "source": [
        "## Part 2 - Logistic Regression"
      ]
    },
    {
      "cell_type": "markdown",
      "metadata": {
        "id": "QzcaSlT0CQOF",
        "colab_type": "text"
      },
      "source": [
        "In this portion of the lab, we were asked to modify the hands-on lab to support logistic regression. In other words, modify the gradient descent code to support logistic functions rather than linear functions. "
      ]
    },
    {
      "cell_type": "markdown",
      "metadata": {
        "id": "x4-k06s-IVmW",
        "colab_type": "text"
      },
      "source": [
        "**2.0** Set up the environment."
      ]
    },
    {
      "cell_type": "code",
      "metadata": {
        "id": "C2bnUIq3IZbs",
        "colab_type": "code",
        "colab": {}
      },
      "source": [
        "import matplotlib.pyplot as plt\n",
        "import pandas as pd\n",
        "import numpy as np\n",
        "import seaborn as sns\n",
        "from sklearn.linear_model import LogisticRegression"
      ],
      "execution_count": 0,
      "outputs": []
    },
    {
      "cell_type": "markdown",
      "metadata": {
        "id": "Cb4-6IS2IdR7",
        "colab_type": "text"
      },
      "source": [
        "**2.1** Read the data from GitHub into a pandas dataframe."
      ]
    },
    {
      "cell_type": "code",
      "metadata": {
        "id": "VVrOCeniIhfM",
        "colab_type": "code",
        "colab": {}
      },
      "source": [
        "basketball_data_url = 'https://raw.githubusercontent.com/efosler/cse5522data/master/height_vs_weight.csv'\n",
        "basketball_dataframe = pd.read_csv(basketball_data_url)"
      ],
      "execution_count": 0,
      "outputs": []
    },
    {
      "cell_type": "markdown",
      "metadata": {
        "id": "YEGVu6xUIzb9",
        "colab_type": "text"
      },
      "source": [
        "**2.2** Print out the top of the dataframe to make sure that the data loaded correctly."
      ]
    },
    {
      "cell_type": "code",
      "metadata": {
        "id": "pD3aP79XI2nL",
        "colab_type": "code",
        "outputId": "6d02ed92-0a85-4d9d-82a5-b8175f1acc48",
        "colab": {
          "base_uri": "https://localhost:8080/",
          "height": 195
        }
      },
      "source": [
        "basketball_dataframe.head()"
      ],
      "execution_count": 238,
      "outputs": [
        {
          "output_type": "execute_result",
          "data": {
            "text/html": [
              "<div>\n",
              "<style scoped>\n",
              "    .dataframe tbody tr th:only-of-type {\n",
              "        vertical-align: middle;\n",
              "    }\n",
              "\n",
              "    .dataframe tbody tr th {\n",
              "        vertical-align: top;\n",
              "    }\n",
              "\n",
              "    .dataframe thead th {\n",
              "        text-align: right;\n",
              "    }\n",
              "</style>\n",
              "<table border=\"1\" class=\"dataframe\">\n",
              "  <thead>\n",
              "    <tr style=\"text-align: right;\">\n",
              "      <th></th>\n",
              "      <th>height</th>\n",
              "      <th>weight</th>\n",
              "      <th>female</th>\n",
              "      <th>basketball</th>\n",
              "    </tr>\n",
              "  </thead>\n",
              "  <tbody>\n",
              "    <tr>\n",
              "      <th>0</th>\n",
              "      <td>74.8</td>\n",
              "      <td>221.2</td>\n",
              "      <td>0</td>\n",
              "      <td>1</td>\n",
              "    </tr>\n",
              "    <tr>\n",
              "      <th>1</th>\n",
              "      <td>65.6</td>\n",
              "      <td>147.3</td>\n",
              "      <td>1</td>\n",
              "      <td>1</td>\n",
              "    </tr>\n",
              "    <tr>\n",
              "      <th>2</th>\n",
              "      <td>74.8</td>\n",
              "      <td>166.8</td>\n",
              "      <td>0</td>\n",
              "      <td>0</td>\n",
              "    </tr>\n",
              "    <tr>\n",
              "      <th>3</th>\n",
              "      <td>68.5</td>\n",
              "      <td>174.1</td>\n",
              "      <td>0</td>\n",
              "      <td>0</td>\n",
              "    </tr>\n",
              "    <tr>\n",
              "      <th>4</th>\n",
              "      <td>66.8</td>\n",
              "      <td>156.6</td>\n",
              "      <td>1</td>\n",
              "      <td>0</td>\n",
              "    </tr>\n",
              "  </tbody>\n",
              "</table>\n",
              "</div>"
            ],
            "text/plain": [
              "   height  weight  female  basketball\n",
              "0    74.8   221.2       0           1\n",
              "1    65.6   147.3       1           1\n",
              "2    74.8   166.8       0           0\n",
              "3    68.5   174.1       0           0\n",
              "4    66.8   156.6       1           0"
            ]
          },
          "metadata": {
            "tags": []
          },
          "execution_count": 238
        }
      ]
    },
    {
      "cell_type": "markdown",
      "metadata": {
        "id": "b8cBSsS0MCjs",
        "colab_type": "text"
      },
      "source": [
        "### Subproblem 1 - Train Model for Height"
      ]
    },
    {
      "cell_type": "markdown",
      "metadata": {
        "id": "m2c48JHOxVLr",
        "colab_type": "text"
      },
      "source": [
        "**2.3** Take a look at the data. "
      ]
    },
    {
      "cell_type": "code",
      "metadata": {
        "id": "2iC-cjfqwQ4b",
        "colab_type": "code",
        "colab": {
          "base_uri": "https://localhost:8080/",
          "height": 514
        },
        "outputId": "ba898eb3-a466-4340-b96e-5c3e8e29e96d"
      },
      "source": [
        "basketball_dataframe.plot(x=\"height\", y=\"basketball\", kind=\"scatter\", figsize=(12,8))"
      ],
      "execution_count": 239,
      "outputs": [
        {
          "output_type": "execute_result",
          "data": {
            "text/plain": [
              "<matplotlib.axes._subplots.AxesSubplot at 0x7f2c9bdd9828>"
            ]
          },
          "metadata": {
            "tags": []
          },
          "execution_count": 239
        },
        {
          "output_type": "display_data",
          "data": {
            "image/png": "[encoded data removed]",
            "text/plain": [
              "<Figure size 864x576 with 1 Axes>"
            ]
          },
          "metadata": {
            "tags": []
          }
        }
      ]
    },
    {
      "cell_type": "code",
      "metadata": {
        "id": "o5W9HY1Lxx2b",
        "colab_type": "code",
        "colab": {
          "base_uri": "https://localhost:8080/",
          "height": 296
        },
        "outputId": "031d37ad-1ca5-4aa6-8fb0-6e83bb47e9fc"
      },
      "source": [
        "# Let's take a look at the expected logistic curve using seaborn\n",
        "sns.regplot(x='height', y='basketball', data=basketball_dataframe, logistic=True) "
      ],
      "execution_count": 240,
      "outputs": [
        {
          "output_type": "execute_result",
          "data": {
            "text/plain": [
              "<matplotlib.axes._subplots.AxesSubplot at 0x7f2c9bb4d240>"
            ]
          },
          "metadata": {
            "tags": []
          },
          "execution_count": 240
        },
        {
          "output_type": "display_data",
          "data": {
            "image/png": "[encoded data removed]",
            "text/plain": [
              "<Figure size 432x288 with 1 Axes>"
            ]
          },
          "metadata": {
            "tags": []
          }
        }
      ]
    },
    {
      "cell_type": "markdown",
      "metadata": {
        "id": "XL2PO8HSMb5m",
        "colab_type": "text"
      },
      "source": [
        "**2.4** Select Height and Basketball Columns and construct our test and training sets. "
      ]
    },
    {
      "cell_type": "code",
      "metadata": {
        "id": "DfLHCQPuMgQo",
        "colab_type": "code",
        "colab": {}
      },
      "source": [
        "height = np.array(basketball_dataframe['height'], dtype='float').reshape(-1, 1)\n",
        "basketball = np.array(basketball_dataframe['basketball'], dtype='float').reshape(-1, 1)\n",
        "x_train, x_test, y_train, y_test = train_test_split(height, basketball.ravel(), test_size=0.2, random_state=7)"
      ],
      "execution_count": 0,
      "outputs": []
    },
    {
      "cell_type": "markdown",
      "metadata": {
        "id": "Rti0Y6MxUPII",
        "colab_type": "text"
      },
      "source": [
        "**2.5** Now, let's borrow some code from the hands-on, and adjust it for the logistic regression."
      ]
    },
    {
      "cell_type": "code",
      "metadata": {
        "id": "rGP63WWxUajU",
        "colab_type": "code",
        "colab": {}
      },
      "source": [
        "def computeMSEBatchGradient(weights, features, targets):\n",
        "  \"\"\"\n",
        "  Computes the average gradient over the batch of features.\n",
        "\n",
        "  :param weights: vector of weights (univariate linear = 2 weights)\n",
        "  :param features: vector (or matrix) of feature values\n",
        "  :param targets: vector of target values, same length as features\n",
        "  :returns: vector of gradient values\n",
        "  \"\"\"\n",
        "  predictions = features * weights[1] + weights[0]\n",
        "  sigmoid = 1 / (1 + np.exp(-1 * predictions))\n",
        "  errors= targets - sigmoid\n",
        "  gradient=np.array([-2.0 * np.average(errors), -2.0 * np.average(features * errors)])\n",
        "  \n",
        "  return gradient"
      ],
      "execution_count": 0,
      "outputs": []
    },
    {
      "cell_type": "code",
      "metadata": {
        "id": "y8AAGWkhaS9_",
        "colab_type": "code",
        "colab": {}
      },
      "source": [
        "def computeGradientDescentWeightUpdate(weights, features, targets, learning_rate):\n",
        "  \"\"\"\n",
        "  Updates weights by computing gradient.\n",
        "\n",
        "  :param weights: vector of weights (univariate linear = 2 weights)\n",
        "  :param features: vector (or matrix) of feature values\n",
        "  :param targets: vector of target values, same length as features\n",
        "  :param learning_rate: a scalar for adjusting corrections in error\n",
        "  \"\"\"\n",
        "\n",
        "  gradient = computeMSEBatchGradient(weights, features, targets)\n",
        "  weights = weights - learning_rate * gradient\n",
        "\n",
        "  return weights"
      ],
      "execution_count": 0,
      "outputs": []
    },
    {
      "cell_type": "markdown",
      "metadata": {
        "id": "92YAO-zpeV7d",
        "colab_type": "text"
      },
      "source": [
        "**2.6** Let's run our experiment!"
      ]
    },
    {
      "cell_type": "code",
      "metadata": {
        "id": "SYPAe2WieaAR",
        "colab_type": "code",
        "outputId": "7c1359db-1788-48f0-85f2-a9c17ab8c984",
        "colab": {
          "base_uri": "https://localhost:8080/",
          "height": 202
        }
      },
      "source": [
        "# naively selected the same weights and learning rate from the linear regression hands-on\n",
        "weights = [20000.,150.]\n",
        "learning_rate = 0.0001\n",
        "\n",
        "def run(weights, features, targets, learning_rate):\n",
        "  for step in range(10000):\n",
        "    weights = computeGradientDescentWeightUpdate(weights, features, targets, learning_rate)\n",
        "    if (step % 1000 == 0):\n",
        "      print(weights)\n",
        "  print(weights)\n",
        "  return weights\n",
        "\n",
        "final_weights = run(weights, x_train, y_train, learning_rate)"
      ],
      "execution_count": 309,
      "outputs": [
        {
          "output_type": "stream",
          "text": [
            "[19999.99990313   149.99323392]\n",
            "[19999.90302813   143.22715091]\n",
            "[19999.80615313   136.4610679 ]\n",
            "[19999.70927813   129.69498489]\n",
            "[19999.61240313   122.92890189]\n",
            "[19999.51552813   116.16281888]\n",
            "[19999.41865313   109.39673587]\n",
            "[19999.32177813   102.63065286]\n",
            "[19999.22490313    95.86456985]\n",
            "[19999.12802813    89.09848685]\n",
            "[19999.03125001    82.33916992]\n"
          ],
          "name": "stdout"
        }
      ]
    },
    {
      "cell_type": "markdown",
      "metadata": {
        "id": "rQSc9ntDzAA0",
        "colab_type": "text"
      },
      "source": [
        "**2.7** Get some sample weights for comparison with our own model."
      ]
    },
    {
      "cell_type": "code",
      "metadata": {
        "id": "aVjZSEd5zF0q",
        "colab_type": "code",
        "colab": {}
      },
      "source": [
        "regression = LogisticRegression()\n",
        "regression.fit(x_train, y_train)\n",
        "predictions = regression.predict(x_test)"
      ],
      "execution_count": 0,
      "outputs": []
    },
    {
      "cell_type": "code",
      "metadata": {
        "id": "7gZOZN0b029z",
        "colab_type": "code",
        "colab": {
          "base_uri": "https://localhost:8080/",
          "height": 34
        },
        "outputId": "d9512afc-b166-4777-8317-b167eb21f6fd"
      },
      "source": [
        "regression.coef_  # slope"
      ],
      "execution_count": 311,
      "outputs": [
        {
          "output_type": "execute_result",
          "data": {
            "text/plain": [
              "array([[0.13487366]])"
            ]
          },
          "metadata": {
            "tags": []
          },
          "execution_count": 311
        }
      ]
    },
    {
      "cell_type": "code",
      "metadata": {
        "id": "4iTuXWH103_7",
        "colab_type": "code",
        "colab": {
          "base_uri": "https://localhost:8080/",
          "height": 34
        },
        "outputId": "836e97c3-0bdf-45ae-c99d-43f839bc2fc7"
      },
      "source": [
        "regression.intercept_  # intercept"
      ],
      "execution_count": 312,
      "outputs": [
        {
          "output_type": "execute_result",
          "data": {
            "text/plain": [
              "array([-9.342453])"
            ]
          },
          "metadata": {
            "tags": []
          },
          "execution_count": 312
        }
      ]
    },
    {
      "cell_type": "markdown",
      "metadata": {
        "id": "_hwPZuwE2Er2",
        "colab_type": "text"
      },
      "source": [
        "**2.8** Let's try toying with the learning rates for the two parameters with a new definition of the run function."
      ]
    },
    {
      "cell_type": "code",
      "metadata": {
        "id": "VF5cm52q2SR9",
        "colab_type": "code",
        "colab": {
          "base_uri": "https://localhost:8080/",
          "height": 974
        },
        "outputId": "b7d21256-0356-4bbb-9de7-4661b5661273"
      },
      "source": [
        "epsilon = 0.00000001\n",
        "def run(weights, features, targets, learning_rate):\n",
        "  for step in range(1000000):\n",
        "    prev_weights = weights\n",
        "    weights=computeGradientDescentWeightUpdate(weights, features, targets, learning_rate)\n",
        "    avg_gradient=(weights-prev_weights) / learning_rate\n",
        "    if (np.linalg.norm(avg_gradient) < epsilon):\n",
        "      break\n",
        "    if (step % 1000 == 0):\n",
        "      print(weights)\n",
        "  print(weights)\n",
        "  return weights\n",
        "\n",
        "#weights = [2000., 50.]\n",
        "learning_rate = [2.1, .0003]\n",
        "final_weights = run(weights, x_train, y_train, learning_rate)"
      ],
      "execution_count": 313,
      "outputs": [
        {
          "output_type": "stream",
          "text": [
            "[19997.965625     149.97970175]\n",
            "[17963.590625     129.68145273]\n",
            "[15929.215625    109.3832037]\n",
            "[13894.840625      89.08495468]\n",
            "[11860.465625      68.78670566]\n",
            "[9826.090625     48.48845663]\n",
            "[7791.715625     28.19020761]\n",
            "[5757.340625      7.89195859]\n",
            "[3722.965625    -12.40629044]\n",
            "[2026.31652948  -29.05505255]\n",
            "[1971.73543193  -28.32323891]\n",
            "[1919.31039533  -27.56998605]\n",
            "[1866.88550546  -26.81673692]\n",
            "[1814.46076299  -26.06349206]\n",
            "[1762.03616794  -25.31025209]\n",
            "[1709.61171981  -24.55701772]\n",
            "[1657.18741767  -23.80378977]\n",
            "[1604.76326044  -23.05056915]\n",
            "[1552.3392473  -22.2973569]\n",
            "[1499.91537821  -21.54415419]\n",
            "[1447.49165473  -20.79096236]\n",
            "[1395.06808103  -20.03778289]\n",
            "[1342.64466529  -19.28461746]\n",
            "[1290.22142145  -18.53146796]\n",
            "[1237.79837135  -17.77833648]\n",
            "[1185.37554752  -17.02522537]\n",
            "[1132.95299641  -16.27213725]\n",
            "[1080.53078242  -15.51907504]\n",
            "[1028.10899267  -14.76604202]\n",
            "[975.68774291 -14.01304185]\n",
            "[923.26718476 -13.26007869]\n",
            "[870.84751523 -12.50715728]\n",
            "[818.42898938 -11.75428309]\n",
            "[766.01193861 -11.00146256]\n",
            "[713.59679813 -10.24870347]\n",
            "[661.18415076  -9.4960154 ]\n",
            "[608.77479983  -8.74341069]\n",
            "[556.36989561  -7.99090577]\n",
            "[503.97116266  -7.23852361]\n",
            "[451.58132258  -6.48629805]\n",
            "[399.20490653  -5.7342819 ]\n",
            "[346.84986949  -4.98256332]\n",
            "[294.53091719  -4.23130147]\n",
            "[242.27670348  -3.48081176]\n",
            "[190.14674003  -2.73179254]\n",
            "[138.27821178  -1.98602082]\n",
            "[87.06494889 -1.2491208 ]\n",
            "[38.36804266 -0.5486744 ]\n",
            "[ 6.20156626 -0.08767391]\n",
            "[ 0.57896432 -0.00737639]\n",
            "[ 0.10498881 -0.0006066 ]\n",
            "[ 6.60124871e-02 -4.98804557e-05]\n",
            "[ 6.28075134e-02 -4.10165038e-06]\n",
            "[ 6.25439698e-02 -3.37277313e-07]\n",
            "[ 6.25222987e-02 -2.77341998e-08]\n",
            "[ 6.25205166e-02 -2.28057392e-09]\n",
            "[ 6.25204408e-02 -1.19707541e-09]\n"
          ],
          "name": "stdout"
        }
      ]
    },
    {
      "cell_type": "markdown",
      "metadata": {
        "id": "PXFQMiAv3Tln",
        "colab_type": "text"
      },
      "source": [
        "**2.9** Looks great! "
      ]
    }
  ]
}