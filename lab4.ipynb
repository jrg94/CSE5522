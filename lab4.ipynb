{
  "nbformat": 4,
  "nbformat_minor": 0,
  "metadata": {
    "colab": {
      "name": "lab4.ipynb",
      "provenance": [],
      "collapsed_sections": [],
      "include_colab_link": true
    },
    "kernelspec": {
      "name": "python3",
      "display_name": "Python 3"
    }
  },
  "cells": [
    {
      "cell_type": "markdown",
      "metadata": {
        "id": "view-in-github",
        "colab_type": "text"
      },
      "source": [
        "<a href=\"https://colab.research.google.com/github/jrg94/CSE5522/blob/lab4/lab4.ipynb\" target=\"_parent\"><img src=\"https://colab.research.google.com/assets/colab-badge.svg\" alt=\"Open In Colab\"/></a>"
      ]
    },
    {
      "cell_type": "markdown",
      "metadata": {
        "id": "5uQ78FQhx29R",
        "colab_type": "text"
      },
      "source": [
        "# Perceptron Learning\n",
        "\n",
        "**Overview**\n",
        "\n",
        "The perceptron learning rule is a simple method for training a linear classifier.\n",
        "\n",
        "The basic idea is: when you classify something incorrectly, move the linear classifier a bit in a way that updates the boundary line.  This is related to the gradient descent algorithm used for linear regression.\n",
        "\n",
        "In the first part of the exercise, you will learn the \"and\" function to show the basic operation of the PLR, and in the second you'll try to classify some vowels.\n",
        "\n",
        "There is an optional part to play around with PyTorch, a toolkit that can be used to quickly learn neural networks.  I'll provide a quick walkthrough for learning the XOR problem (based on some code from U. Washington); see if you can adapt this to the vowel classification problem.\n",
        "\n",
        "Note: you may want to change your runtime type to GPU/TPU to speed up computation if you go to PyTorch.\n",
        "\n"
      ]
    },
    {
      "cell_type": "markdown",
      "metadata": {
        "id": "i3ESV2lnTNfG",
        "colab_type": "text"
      },
      "source": [
        "## **Part 1**\n",
        "\n",
        "In the first part of the hands-on, you'll code the Perceptron Learning Rule (PLR) algorithm."
      ]
    },
    {
      "cell_type": "code",
      "metadata": {
        "id": "BnYO6oisBzPQ",
        "colab_type": "code",
        "outputId": "429b0994-eb04-4173-facd-b0115c75a6d1",
        "colab": {
          "base_uri": "https://localhost:8080/",
          "height": 265
        }
      },
      "source": [
        "# set up some preliminaries\n",
        "\n",
        "import numpy as np\n",
        "import matplotlib.pyplot as plt\n",
        "\n",
        "# set classification data for \"and\"\n",
        "data=np.array([[0,0],[0,1],[1,0],[1,1]])\n",
        "targets=np.array([0,0,0,1])\n",
        "bias=-1\n",
        "\n",
        "# set some initial weights : w1, w2, bias\n",
        "weights_init=np.array([-1,1,0.5])\n",
        "\n",
        "# here is a function for plotting both the dataset and the current decision\n",
        "# boundary, with errors in red\n",
        "def plotgraph(data,targets,weights):\n",
        "  classification=(np.sign(np.dot(np.hstack((data,np.ones((data.shape[0],1))*bias)),weights))+1)/2\n",
        "\n",
        "  plt.plot(data[np.logical_and(targets==1,classification==1),0],\n",
        "           data[np.logical_and(targets==1,classification==1),1],'bo')\n",
        "  plt.plot(data[np.logical_and(targets==1,classification==0),0],\n",
        "           data[np.logical_and(targets==1,classification==0),1],'ro')\n",
        "  plt.plot(data[np.logical_and(targets==0,classification==1),0],\n",
        "           data[np.logical_and(targets==0,classification==1),1],'rx')\n",
        "  plt.plot(data[np.logical_and(targets==0,classification==0),0],\n",
        "           data[np.logical_and(targets==0,classification==0),1],'bx')\n",
        "\n",
        "  # note weights are in form w_1*x + w_2*y + w_b = 0\n",
        "  # so to plot line we need y= -(w_1*x + w_b)/(w_2)\n",
        "  dmin=np.min(data[:,0])\n",
        "  dmax=np.max(data[:,0])\n",
        "  plt.plot(np.array([dmin,dmax]),\n",
        "           np.array([-(dmin*weights[0]+weights[2]*bias)/(weights[1]),\n",
        "                     -(dmax*weights[0]+weights[2]*bias)/(weights[1])]),\n",
        "           'b--'\n",
        "           )\n",
        "\n",
        "\n",
        "#Plot the current situation.  Red items are misclassified, blue\n",
        "#correctly classified. x=0, circle=1.\n",
        "plotgraph(data,targets,weights_init)\n"
      ],
      "execution_count": 155,
      "outputs": [
        {
          "output_type": "display_data",
          "data": {
            "image/png": "[encoded data removed]",
            "text/plain": [
              "<Figure size 432x288 with 1 Axes>"
            ]
          },
          "metadata": {
            "tags": [],
            "needs_background": "light"
          }
        }
      ]
    },
    {
      "cell_type": "markdown",
      "metadata": {
        "id": "hpBjACAdzlG0",
        "colab_type": "text"
      },
      "source": [
        "**1.1** This is where you will need to code the perceptron learning algorithm.\n",
        "\n",
        "You should assume that the nonlinear function is a step function that outputs 1 if the input is greater than 0, and 0 otherwise.\n",
        "\n",
        "Note that I had a sign bug in the slides.  The error should be the difference between the output and target (i.e. if output is 1 and target is 0, the error is 1).  \n",
        "\n",
        "Remember that there should be a bias.  You can choose to define the fixed bias as -1 (as traditionally done) or 1.  Note if you change the bias you may need to pay attention to the plotting function above.\n",
        "\n",
        "The function should return the updated weight vector.  "
      ]
    },
    {
      "cell_type": "code",
      "metadata": {
        "id": "UZEDDtyaAE-B",
        "colab_type": "code",
        "colab": {}
      },
      "source": [
        "def plr(weights, example, target, learningrate):\n",
        "  # compute weight update\n",
        "  # return updated weights\n",
        "  example_with_bias = np.append(example, bias)\n",
        "  # weights[0] * example[0] + weights[1] * example[1] + weights[2] * bias\n",
        "  g = np.sum(weights * example_with_bias)\n",
        "  output = 1 if g > 0 else 0\n",
        "  error = output - target\n",
        "  return weights - learningrate * error * example_with_bias"
      ],
      "execution_count": 0,
      "outputs": []
    },
    {
      "cell_type": "markdown",
      "metadata": {
        "id": "CKLlwQtH1dO9",
        "colab_type": "text"
      },
      "source": [
        "**1.2** The following function will randomize your training examples, and run the PLR for each example."
      ]
    },
    {
      "cell_type": "code",
      "metadata": {
        "id": "K9u9zBAZ1TzX",
        "colab_type": "code",
        "colab": {}
      },
      "source": [
        "def run_epoch(weights, data, targets, learningrate):\n",
        "  nexamples=data.shape[0]\n",
        "  order=np.random.permutation(nexamples)\n",
        "  for i in range(nexamples):\n",
        "    weights=plr(weights,data[order[i]],targets[order[i]],learningrate)\n",
        "  return weights"
      ],
      "execution_count": 0,
      "outputs": []
    },
    {
      "cell_type": "markdown",
      "metadata": {
        "id": "27HN_7pb2BBi",
        "colab_type": "text"
      },
      "source": [
        "**1.3** Now write a bit of code to run through epochs until convergence."
      ]
    },
    {
      "cell_type": "code",
      "metadata": {
        "id": "JTLXmyEGPJEM",
        "colab_type": "code",
        "outputId": "a6aa7435-c34b-43c2-ffe0-00ef98db4fe1",
        "colab": {
          "base_uri": "https://localhost:8080/",
          "height": 84
        }
      },
      "source": [
        "print(data)"
      ],
      "execution_count": 158,
      "outputs": [
        {
          "output_type": "stream",
          "text": [
            "[[0 0]\n",
            " [0 1]\n",
            " [1 0]\n",
            " [1 1]]\n"
          ],
          "name": "stdout"
        }
      ]
    },
    {
      "cell_type": "code",
      "metadata": {
        "id": "vcsiD2m0OZUM",
        "colab_type": "code",
        "colab": {}
      },
      "source": [
        "def experiment(iterations, weights, data, targets, learningrate):\n",
        "  for _ in range(iterations):\n",
        "    weights = run_epoch(weights, data, targets, learningrate)\n",
        "  return weights"
      ],
      "execution_count": 0,
      "outputs": []
    },
    {
      "cell_type": "code",
      "metadata": {
        "id": "jnkEdM3nBEWE",
        "colab_type": "code",
        "outputId": "edca3c7a-6157-4ea7-9c3f-6f72734a6d06",
        "colab": {
          "base_uri": "https://localhost:8080/",
          "height": 34
        }
      },
      "source": [
        "# write code to run through convergence\n",
        "# put final weights into \"finalweights\"\n",
        "LEARNING_RATE = .0111\n",
        "ITERS = 10000\n",
        "finalweights = experiment(ITERS, weights_init, data, targets, LEARNING_RATE)\n",
        "print(finalweights)"
      ],
      "execution_count": 160,
      "outputs": [
        {
          "output_type": "stream",
          "text": [
            "[0.0212 0.7447 0.7553]\n"
          ],
          "name": "stdout"
        }
      ]
    },
    {
      "cell_type": "markdown",
      "metadata": {
        "id": "Wfya2cJn2I4u",
        "colab_type": "text"
      },
      "source": [
        "**1.4** Plot the final weights to show the boundary that you have learned."
      ]
    },
    {
      "cell_type": "code",
      "metadata": {
        "id": "8fvq7bmI2HQj",
        "colab_type": "code",
        "outputId": "8b835330-0e91-43fa-e706-1d4b2f2083fc",
        "colab": {
          "base_uri": "https://localhost:8080/",
          "height": 265
        }
      },
      "source": [
        "plotgraph(data,targets,finalweights)"
      ],
      "execution_count": 161,
      "outputs": [
        {
          "output_type": "display_data",
          "data": {
            "image/png": "[encoded data removed]",
            "text/plain": [
              "<Figure size 432x288 with 1 Axes>"
            ]
          },
          "metadata": {
            "tags": [],
            "needs_background": "light"
          }
        }
      ]
    },
    {
      "cell_type": "markdown",
      "metadata": {
        "id": "mUrKN_-H2b4w",
        "colab_type": "text"
      },
      "source": [
        "**1.5** Optional extensions:\n",
        "\n",
        "**1.5.1** Rerun your code for the \"or\" function.\n",
        "\n",
        "**1.5.2** Modify your code to allow for the majority class function for three inputs (i.e. 1 if 2 or more inputs are on).\n",
        "\n",
        "**1.5.3** Investigate what happens if you run the \"xor\" function through the training.\n"
      ]
    },
    {
      "cell_type": "markdown",
      "metadata": {
        "id": "2d0V3Z7q22Rm",
        "colab_type": "text"
      },
      "source": [
        "## **Part 2: Vowel Classification**\n",
        "\n",
        "In this section, you will look at some actual (noisy) vowel formant data.  Go to the International Phonetic Alphabet (IPA) vowel chart at https://en.wikipedia.org/wiki/IPA_vowel_chart_with_audio and play the sounds.  The chart is written in IPA, but here are the two letter (ARPABET) symbols for some of the vowels of English:\n",
        "\n",
        "* iy: close front unrounded\n",
        "* ih: near-close front unrounded\n",
        "* ey: close-mid front unrounded\n",
        "* eh: open-mid front unrounded\n",
        "* ah: open back rounded\n",
        "* ao: open-mid back rounded\n",
        "* ow: close-mid back rounded\n",
        "* uw: close back rounded\n",
        "* ax: mid central unrounded\n",
        "\n",
        "I've prepared a csv datafile with the following features:\n",
        "\n",
        "* f1, f2: formants\n",
        "* h1: close\n",
        "* h2: near-close or higher\n",
        "* h3: close-mid or higher\n",
        "* h4: mid or higher\n",
        "* h5: open-mid or higher\n",
        "* b1: back\n",
        "* b2: central or back\n",
        "* r: rounded\n",
        "\n",
        "First, let's read in the data.\n",
        "\n"
      ]
    },
    {
      "cell_type": "code",
      "metadata": {
        "id": "9YZyTz4sBrx6",
        "colab_type": "code",
        "outputId": "d4ef4d61-9f63-43f9-ce0c-69828b2bb819",
        "colab": {
          "base_uri": "https://localhost:8080/",
          "height": 378
        }
      },
      "source": [
        "# first, read in the data and build a scatterplot showing the vowel formants\n",
        "import pandas as pd\n",
        "url='https://raw.githubusercontent.com/efosler/cse5522data/master/vowelfmts.csv'\n",
        "df=pd.read_csv(url)\n",
        "\n",
        "# This function will plot the vowels as a scatterplot with different colors\n",
        "# using the traditional F2 vs F1 inverted plot.  This puts high (close) vowels\n",
        "# at the top of the plot and low vowels (open) at the bottom.  Front vowels\n",
        "# are to the left; back vowels to the right.  Optionally can plot a boundary.\n",
        "\n",
        "def plotvowels(df,weights=None):\n",
        "  # this next bit converts the label into a colormap value between 0 and 1\n",
        "  vowels=df['vowel'].unique()\n",
        "  vmap={}\n",
        "  for i in range(vowels.shape[0]):\n",
        "    vmap[vowels[i]]=float(i)/float(vowels.shape[0]-1)\n",
        "  df['color']=df['vowel'].map(vmap)\n",
        "  # plot the scatterplot\n",
        "  plt.figure(num=1,figsize=(6,6))\n",
        "  plt.scatter(df['f2'],df['f1'],s=1,c=df['color'],cmap='gist_rainbow')\n",
        "  plt.gca().set_ylim([100,1000])\n",
        "  plt.gca().set_xlim([750,2500])\n",
        "  plt.gca().invert_xaxis()\n",
        "  plt.gca().invert_yaxis()\n",
        "  if weights is not None:\n",
        "    dmin=df['f2'].min()\n",
        "    dmax=df['f2'].max()\n",
        "    plt.plot(np.array([dmin,dmax]),\n",
        "             np.array([-(dmin*weights[0]+weights[2])/(weights[1]),\n",
        "                       -(dmax*weights[0]+weights[2])/(weights[1])]),\n",
        "             'b--'\n",
        "             )\n",
        "\n",
        "# Plot the vowel data.  Compare against the IPA chart online.      \n",
        "plotvowels(df)"
      ],
      "execution_count": 162,
      "outputs": [
        {
          "output_type": "display_data",
          "data": {
            "image/png": "[encoded data removed]",
            "text/plain": [
              "<Figure size 432x432 with 1 Axes>"
            ]
          },
          "metadata": {
            "tags": [],
            "needs_background": "light"
          }
        }
      ]
    },
    {
      "cell_type": "markdown",
      "metadata": {
        "id": "OKy9yHIA4fgW",
        "colab_type": "text"
      },
      "source": [
        "You will notice that the vowel classes aren't linearly separable.  The idea will be to try to separate the different kinds of vowels (back/front/close/open) with different separators.\n",
        "\n",
        "**2.2** A bit of code to create training/test sets."
      ]
    },
    {
      "cell_type": "code",
      "metadata": {
        "id": "z55b8iWFBIFC",
        "colab_type": "code",
        "colab": {}
      },
      "source": [
        "from sklearn.model_selection import train_test_split\n",
        "train_data, test_data, train_targets, test_targets = train_test_split(df[['f1','f2']],df[['close','near-close+','close-mid+','mid+','open-mid+','back','central-or-back','rounded','vowel']])"
      ],
      "execution_count": 0,
      "outputs": []
    },
    {
      "cell_type": "markdown",
      "metadata": {
        "id": "SLtkJHnL4rb9",
        "colab_type": "text"
      },
      "source": [
        "**2.3** At this point, the project becomes a bit open-ended and exploratory.  What you should do is normalize F1 and F2 (perhaps it would be best to do that before the data splits, but that is your choice).  The main reason is that the bias term needs to be pretty high.\n",
        "\n",
        "Try to predict one of the targets (e.g. train_targets['central-or-back']) from the f2/f1 data.  If you can get reasonable classifiers for the 8 vowel features (h1-h5,b1,b2,r) then see if you can predict the vowel category based on the output of the classifiers.  \n",
        "\n",
        "WARNING: since your classes will not be linearly separable, you will need to NOT run to convergence (as they won't converge).  See if you can figure out a reasonable place to stop training.\n",
        "\n",
        "If you get stuck on this point, and want to try something different, move on to Part 3."
      ]
    },
    {
      "cell_type": "code",
      "metadata": {
        "id": "o_dO_JvEDi9F",
        "colab_type": "code",
        "outputId": "1ceb5b37-78dc-4644-ca3f-cbb8e29c1588",
        "colab": {
          "base_uri": "https://localhost:8080/",
          "height": 252
        }
      },
      "source": [
        "# normalize training data (borrowed from https://stackoverflow.com/questions/26414913/normalize-columns-of-pandas-data-frame)\n",
        "from sklearn import preprocessing\n",
        "x = train_data.values \n",
        "min_max_scaler = preprocessing.MinMaxScaler()\n",
        "x_scaled = min_max_scaler.fit_transform(x)\n",
        "train_data = pd.DataFrame(x_scaled)\n",
        "print(train_data)"
      ],
      "execution_count": 164,
      "outputs": [
        {
          "output_type": "stream",
          "text": [
            "             0         1\n",
            "0     0.196807  0.253341\n",
            "1     0.381982  0.300400\n",
            "2     0.138558  0.891653\n",
            "3     0.350840  0.300079\n",
            "4     0.308122  0.194127\n",
            "...        ...       ...\n",
            "2422  0.237039  0.041732\n",
            "2423  0.213833  0.602026\n",
            "2424  0.053358  0.897447\n",
            "2425  0.049502  0.069919\n",
            "2426  0.354483  0.366718\n",
            "\n",
            "[2427 rows x 2 columns]\n"
          ],
          "name": "stdout"
        }
      ]
    },
    {
      "cell_type": "code",
      "metadata": {
        "id": "SfZO4CdrQeP0",
        "colab_type": "code",
        "outputId": "bec4cd4a-26fd-4ab8-ec8d-5e4944a5e52f",
        "colab": {
          "base_uri": "https://localhost:8080/",
          "height": 67
        }
      },
      "source": [
        "print(train_targets.columns)"
      ],
      "execution_count": 165,
      "outputs": [
        {
          "output_type": "stream",
          "text": [
            "Index(['close', 'near-close+', 'close-mid+', 'mid+', 'open-mid+', 'back',\n",
            "       'central-or-back', 'rounded', 'vowel'],\n",
            "      dtype='object')\n"
          ],
          "name": "stdout"
        }
      ]
    },
    {
      "cell_type": "code",
      "metadata": {
        "id": "xtevCTxiNmXs",
        "colab_type": "code",
        "outputId": "70956bfe-eadb-47f5-93cb-d04a539c27a5",
        "colab": {
          "base_uri": "https://localhost:8080/",
          "height": 151
        }
      },
      "source": [
        "# predict one of the attributes from training data\n",
        "ITER = 100\n",
        "close_weights = experiment(ITER, weights_init, train_data.values, train_targets[\"close\"].values, LEARNING_RATE)\n",
        "near_close_weights = experiment(ITER, weights_init, train_data.values, train_targets[\"near-close+\"].values, LEARNING_RATE)\n",
        "close_mid_weights = experiment(ITER, weights_init, train_data.values, train_targets[\"close-mid+\"].values, LEARNING_RATE)\n",
        "mid_weights = experiment(ITER, weights_init, train_data.values, train_targets[\"mid+\"].values, LEARNING_RATE)\n",
        "open_mid_weights = experiment(ITER, weights_init, train_data.values, train_targets[\"open-mid+\"].values, LEARNING_RATE)\n",
        "back_weights = experiment(ITER, weights_init, train_data.values, train_targets[\"back\"].values, LEARNING_RATE)\n",
        "central_or_back_weights = experiment(ITER, weights_init, train_data.values, train_targets[\"central-or-back\"].values, LEARNING_RATE)\n",
        "rounded_weights = experiment(ITER, weights_init, train_data.values, train_targets[\"rounded\"].values, LEARNING_RATE)\n",
        "\n",
        "display(\n",
        "    close_weights,\n",
        "    near_close_weights,\n",
        "    close_mid_weights,\n",
        "    mid_weights,\n",
        "    open_mid_weights,\n",
        "    back_weights,\n",
        "    central_or_back_weights,\n",
        "    rounded_weights\n",
        ")"
      ],
      "execution_count": 166,
      "outputs": [
        {
          "output_type": "display_data",
          "data": {
            "text/plain": [
              "array([-0.05130468,  0.02995915,  0.0116    ])"
            ]
          },
          "metadata": {
            "tags": []
          }
        },
        {
          "output_type": "display_data",
          "data": {
            "text/plain": [
              "array([-0.05779901,  0.02973657,  0.0005    ])"
            ]
          },
          "metadata": {
            "tags": []
          }
        },
        {
          "output_type": "display_data",
          "data": {
            "text/plain": [
              "array([-0.01949842,  0.00876263,  0.0005    ])"
            ]
          },
          "metadata": {
            "tags": []
          }
        },
        {
          "output_type": "display_data",
          "data": {
            "text/plain": [
              "array([-0.03044548,  0.01980304, -0.0106    ])"
            ]
          },
          "metadata": {
            "tags": []
          }
        },
        {
          "output_type": "display_data",
          "data": {
            "text/plain": [
              "array([-2.14896689e-02, -3.28762951e-05, -1.06000000e-02])"
            ]
          },
          "metadata": {
            "tags": []
          }
        },
        {
          "output_type": "display_data",
          "data": {
            "text/plain": [
              "array([ 0.00428064, -0.05486531, -0.0328    ])"
            ]
          },
          "metadata": {
            "tags": []
          }
        },
        {
          "output_type": "display_data",
          "data": {
            "text/plain": [
              "array([-0.01089553, -0.0657866 , -0.0328    ])"
            ]
          },
          "metadata": {
            "tags": []
          }
        },
        {
          "output_type": "display_data",
          "data": {
            "text/plain": [
              "array([-0.00822806, -0.06756127, -0.0328    ])"
            ]
          },
          "metadata": {
            "tags": []
          }
        }
      ]
    },
    {
      "cell_type": "code",
      "metadata": {
        "id": "pT7z66xNSxeD",
        "colab_type": "code",
        "outputId": "b60754e8-086c-4bd6-b59c-12fa4573db31",
        "colab": {
          "base_uri": "https://localhost:8080/",
          "height": 378
        }
      },
      "source": [
        "plotvowels(df, close_weights)"
      ],
      "execution_count": 167,
      "outputs": [
        {
          "output_type": "display_data",
          "data": {
            "image/png": "[encoded data removed]",
            "text/plain": [
              "<Figure size 432x432 with 1 Axes>"
            ]
          },
          "metadata": {
            "tags": [],
            "needs_background": "light"
          }
        }
      ]
    },
    {
      "cell_type": "code",
      "metadata": {
        "id": "FanO1XglRq8s",
        "colab_type": "code",
        "colab": {}
      },
      "source": [
        "# if you get this far, take the classifiers and try to predict vowel class (\"and\" function)!"
      ],
      "execution_count": 0,
      "outputs": []
    },
    {
      "cell_type": "markdown",
      "metadata": {
        "id": "5ropho7s6URu",
        "colab_type": "text"
      },
      "source": [
        "## **Part 3: PyTorch Neural Networks**\n",
        "\n",
        "This is a quick runthrough of PyTorch, and how to build a neural network.  The code below is a modified version of https://courses.cs.washington.edu/courses/cse446/18wi/sections/section8/XOR-Pytorch.html with some additional annotations to help you along.\n",
        "\n",
        "This part is mostly read-and-run, but at the end you can test your understanding by modifying the code.\n",
        "\n",
        "**3.1** First some library preliminaries."
      ]
    },
    {
      "cell_type": "code",
      "metadata": {
        "id": "GyIQ-0oOiU7F",
        "colab_type": "code",
        "outputId": "d20bdbbf-9ec1-477d-88d4-047c6e718ffe",
        "colab": {
          "base_uri": "https://localhost:8080/",
          "height": 34
        }
      },
      "source": [
        "import torch\n",
        "from torch.autograd import Variable\n",
        "import torch.nn as nn\n",
        "import torch.nn.functional as F\n",
        "import torch.optim as optim\n",
        "import numpy as np\n",
        "import matplotlib.pyplot as plt\n",
        "%matplotlib inline\n",
        "torch.manual_seed(2)"
      ],
      "execution_count": 169,
      "outputs": [
        {
          "output_type": "execute_result",
          "data": {
            "text/plain": [
              "<torch._C.Generator at 0x7fe81f699c50>"
            ]
          },
          "metadata": {
            "tags": []
          },
          "execution_count": 169
        }
      ]
    },
    {
      "cell_type": "markdown",
      "metadata": {
        "id": "Zo7_euBB64as",
        "colab_type": "text"
      },
      "source": [
        "**3.2** Now set up the data into *tensors* (i.e. multidimensional arrays).  X is the data array, Y is the target."
      ]
    },
    {
      "cell_type": "code",
      "metadata": {
        "id": "OOrD5aDP62CX",
        "colab_type": "code",
        "colab": {}
      },
      "source": [
        "X = torch.Tensor([[0,0],[0,1], [1,0], [1,1]])\n",
        "Y = torch.Tensor([0,1,1,0]).view(-1,1)"
      ],
      "execution_count": 0,
      "outputs": []
    },
    {
      "cell_type": "markdown",
      "metadata": {
        "id": "MpflPWlf7Nsj",
        "colab_type": "text"
      },
      "source": [
        "**3.3** Let's define a multi-layer perceptron with 2 layers.  Each layer will create a linear combination of the inputs, and feed to a sigmoid output.\n",
        "\n",
        "Note that the initializer (with the calls to nn.Linear) will create a set of parameters that are associated with the model."
      ]
    },
    {
      "cell_type": "code",
      "metadata": {
        "id": "fn7n4-VH7OQL",
        "colab_type": "code",
        "colab": {}
      },
      "source": [
        "class MLP2(nn.Module):\n",
        "    def __init__(self, input_dim = 2, hid_dim=2, output_dim=1):\n",
        "        # initialze the superclass\n",
        "        super(MLP2, self).__init__()\n",
        "        # this will create a linear layer with input_dim x hid_dim parameters\n",
        "        # in addition to a bias unit with hid_dim parameters\n",
        "        self.lin1 = nn.Linear(input_dim, hid_dim)\n",
        "        # same thing here except hid_dim x output_dim\n",
        "        self.lin2 = nn.Linear(hid_dim, output_dim)\n",
        "    \n",
        "    # this is where the meat of the action is\n",
        "    def forward(self, x):\n",
        "        x = self.lin1(x)  # linear combination of inputs\n",
        "        x = torch.sigmoid(x) # then through sigmoid - output of first layer\n",
        "        x = self.lin2(x) # linear combination of hidden units\n",
        "        x = torch.sigmoid(x) # then through sigmoid - net output\n",
        "        return x"
      ],
      "execution_count": 0,
      "outputs": []
    },
    {
      "cell_type": "markdown",
      "metadata": {
        "id": "Usrqoiw48CcX",
        "colab_type": "text"
      },
      "source": [
        "**3.4** We also define a function to initialize weights of our model."
      ]
    },
    {
      "cell_type": "code",
      "metadata": {
        "id": "bJP5EfDS7-Hw",
        "colab_type": "code",
        "colab": {}
      },
      "source": [
        "def weights_init(model):\n",
        "    for m in model.modules():\n",
        "        if isinstance(m, nn.Linear):\n",
        "            # initialize the weight tensor, here we use a normal distribution\n",
        "            m.weight.data.normal_(0, 1)"
      ],
      "execution_count": 0,
      "outputs": []
    },
    {
      "cell_type": "markdown",
      "metadata": {
        "id": "IhhgEm298OSk",
        "colab_type": "text"
      },
      "source": [
        "**3.5** Now create a model and initialize it.  Also define a loss function and the optimizer."
      ]
    },
    {
      "cell_type": "code",
      "metadata": {
        "id": "QD8pE8kb8MuO",
        "colab_type": "code",
        "colab": {}
      },
      "source": [
        "model1 = MLP2()\n",
        "weights_init(model1)\n",
        "loss_func = nn.MSELoss()\n",
        "optimizer = optim.SGD(model1.parameters(), lr=0.02, momentum=0.9)"
      ],
      "execution_count": 0,
      "outputs": []
    },
    {
      "cell_type": "markdown",
      "metadata": {
        "id": "GPT4oaWy9LD-",
        "colab_type": "text"
      },
      "source": [
        "**3.6** Now we run the training."
      ]
    },
    {
      "cell_type": "code",
      "metadata": {
        "id": "jj3tKoee8nMH",
        "colab_type": "code",
        "outputId": "f3a26f99-c2c1-4208-f846-b68ac238aceb",
        "colab": {
          "base_uri": "https://localhost:8080/",
          "height": 202
        }
      },
      "source": [
        "epochs = 5001\n",
        "steps = X.size(0)\n",
        "for i in range(epochs):\n",
        "    for j in range(steps):\n",
        "        data_point = np.random.randint(X.size(0))\n",
        "        x_var = Variable(X[data_point], requires_grad=False)\n",
        "        y_var = Variable(Y[data_point], requires_grad=False)\n",
        "        \n",
        "        optimizer.zero_grad()\n",
        "        y_hat = model1(x_var)\n",
        "        loss = loss_func.forward(y_hat, y_var)\n",
        "        loss.backward()\n",
        "        optimizer.step()\n",
        "\n",
        "    if i % 500 == 0:\n",
        "        print(\"Epoch: {0}, Loss: {1}, \".format(i, loss.data.numpy()))"
      ],
      "execution_count": 174,
      "outputs": [
        {
          "output_type": "stream",
          "text": [
            "Epoch: 0, Loss: 0.028447603806853294, \n",
            "Epoch: 500, Loss: 0.07371318340301514, \n",
            "Epoch: 1000, Loss: 0.2238992303609848, \n",
            "Epoch: 1500, Loss: 0.005031181965023279, \n",
            "Epoch: 2000, Loss: 0.2326277643442154, \n",
            "Epoch: 2500, Loss: 0.10757620632648468, \n",
            "Epoch: 3000, Loss: 0.18000562489032745, \n",
            "Epoch: 3500, Loss: 0.0020730055402964354, \n",
            "Epoch: 4000, Loss: 0.45582693815231323, \n",
            "Epoch: 4500, Loss: 0.2988351285457611, \n",
            "Epoch: 5000, Loss: 0.16282859444618225, \n"
          ],
          "name": "stdout"
        }
      ]
    },
    {
      "cell_type": "markdown",
      "metadata": {
        "id": "sqFt7zng-cIO",
        "colab_type": "text"
      },
      "source": [
        "**3.7** This is a neat little bit of code that will print out the first layer's decision boundaries."
      ]
    },
    {
      "cell_type": "code",
      "metadata": {
        "id": "DX6bK_Z--TV9",
        "colab_type": "code",
        "outputId": "ad370c96-c561-4171-d266-c57b2702eda8",
        "colab": {
          "base_uri": "https://localhost:8080/",
          "height": 265
        }
      },
      "source": [
        "model_params = list(model1.parameters())\n",
        "model_weights = model_params[0].data.numpy()\n",
        "model_bias = model_params[1].data.numpy()\n",
        "\n",
        "plt.scatter(X.numpy()[[0,-1], 0], X.numpy()[[0, -1], 1], s=50)\n",
        "plt.scatter(X.numpy()[[1,2], 0], X.numpy()[[1, 2], 1], c='red', s=50)\n",
        "\n",
        "x_1 = np.arange(-0.1, 1.1, 0.1)\n",
        "y_1 = ((x_1 * model_weights[0,0]) + model_bias[0]) / (-model_weights[0,1])\n",
        "plt.plot(x_1, y_1)\n",
        "\n",
        "x_2 = np.arange(-0.1, 1.1, 0.1)\n",
        "y_2 = ((x_2 * model_weights[1,0]) + model_bias[1]) / (-model_weights[1,1])\n",
        "plt.plot(x_2, y_2)\n",
        "plt.legend([\"neuron_1\", \"neuron_2\"], loc=8)\n",
        "plt.show()"
      ],
      "execution_count": 175,
      "outputs": [
        {
          "output_type": "display_data",
          "data": {
            "image/png": "[encoded data removed]",
            "text/plain": [
              "<Figure size 432x288 with 1 Axes>"
            ]
          },
          "metadata": {
            "tags": [],
            "needs_background": "light"
          }
        }
      ]
    },
    {
      "cell_type": "markdown",
      "metadata": {
        "id": "8WHZknJg-09E",
        "colab_type": "text"
      },
      "source": [
        "**3.8** Now take a look at the parameters that were learned.  Can you trace how the xor decision works for each of the datapoints?  \n",
        "\n",
        "The first tensor is the input-hidden weights, second is the bias-hidden weights, third is hidden-output, and last is bias-output."
      ]
    },
    {
      "cell_type": "code",
      "metadata": {
        "id": "MtJ_Y3kw-wzE",
        "colab_type": "code",
        "outputId": "a24131ee-9043-4b5a-b10c-8951a4165d7b",
        "colab": {
          "base_uri": "https://localhost:8080/",
          "height": 118
        }
      },
      "source": [
        "model_params"
      ],
      "execution_count": 176,
      "outputs": [
        {
          "output_type": "execute_result",
          "data": {
            "text/plain": [
              "[Parameter containing:\n",
              " tensor([[-3.9771, -7.6147],\n",
              "         [-3.9789,  7.9316]], requires_grad=True), Parameter containing:\n",
              " tensor([0.8149, 2.7217], requires_grad=True), Parameter containing:\n",
              " tensor([[-5.6859, -4.7469]], requires_grad=True), Parameter containing:\n",
              " tensor([4.3322], requires_grad=True)]"
            ]
          },
          "metadata": {
            "tags": []
          },
          "execution_count": 176
        }
      ]
    },
    {
      "cell_type": "markdown",
      "metadata": {
        "id": "o0ZO61uX_XRa",
        "colab_type": "text"
      },
      "source": [
        "**3.9** Can you modify the above code to add a third layer?  What happens if you replace the sigmoid in the middle layer(s) with tanh?"
      ]
    },
    {
      "cell_type": "markdown",
      "metadata": {
        "id": "KTlDScM7csqW",
        "colab_type": "text"
      },
      "source": [
        "To do this, I modified the constructor to include another linear layer. "
      ]
    },
    {
      "cell_type": "code",
      "metadata": {
        "colab_type": "code",
        "id": "aLZmWNqpcaK9",
        "colab": {}
      },
      "source": [
        "class MLP3(nn.Module):\n",
        "    def __init__(self, input_dim = 2, hid_dim=2, output_dim=1):\n",
        "        # initialze the superclass\n",
        "        super(MLP3, self).__init__()\n",
        "        # this will create a linear layer with input_dim x hid_dim parameters\n",
        "        # in addition to a bias unit with hid_dim parameters\n",
        "        self.lin1 = nn.Linear(input_dim, hid_dim)\n",
        "        # a hidden layer between input layer and output layer\n",
        "        self.lin_hid = nn.Linear(hid_dim, hid_dim)\n",
        "        # same thing here except hid_dim x output_dim\n",
        "        self.lin2 = nn.Linear(hid_dim, output_dim)\n",
        "    \n",
        "    # this is where the meat of the action is\n",
        "    def forward(self, x):\n",
        "        x = self.lin1(x)  # linear combination of inputs\n",
        "        x = torch.sigmoid(x) # then through sigmoid - output of first layer\n",
        "        x = self.lin_hid(x)\n",
        "        x = torch.sigmoid(x)\n",
        "        x = self.lin2(x) # linear combination of hidden units\n",
        "        x = torch.sigmoid(x) # then through sigmoid - net output\n",
        "        return x"
      ],
      "execution_count": 0,
      "outputs": []
    },
    {
      "cell_type": "code",
      "metadata": {
        "id": "Ef4cigg8fZu-",
        "colab_type": "code",
        "colab": {}
      },
      "source": [
        "model2 = MLP3()\n",
        "weights_init(model2)\n",
        "loss_func = nn.MSELoss()\n",
        "optimizer = optim.SGD(model2.parameters(), lr=0.02, momentum=0.9)"
      ],
      "execution_count": 0,
      "outputs": []
    },
    {
      "cell_type": "code",
      "metadata": {
        "id": "qm9ULLwmfdMM",
        "colab_type": "code",
        "outputId": "4f761b62-bdfd-4fd1-bbcd-962d9c7ebbbb",
        "colab": {
          "base_uri": "https://localhost:8080/",
          "height": 202
        }
      },
      "source": [
        "epochs = 5001\n",
        "steps = X.size(0)\n",
        "for i in range(epochs):\n",
        "    for j in range(steps):\n",
        "        data_point = np.random.randint(X.size(0))\n",
        "        x_var = Variable(X[data_point], requires_grad=False)\n",
        "        y_var = Variable(Y[data_point], requires_grad=False)\n",
        "        \n",
        "        optimizer.zero_grad()\n",
        "        y_hat = model2(x_var)\n",
        "        loss = loss_func.forward(y_hat, y_var)\n",
        "        loss.backward()\n",
        "        optimizer.step()\n",
        "\n",
        "    if i % 500 == 0:\n",
        "        print(\"Epoch: {0}, Loss: {1}, \".format(i, loss.data.numpy()))"
      ],
      "execution_count": 179,
      "outputs": [
        {
          "output_type": "stream",
          "text": [
            "Epoch: 0, Loss: 0.33797892928123474, \n",
            "Epoch: 500, Loss: 0.2534691393375397, \n",
            "Epoch: 1000, Loss: 0.2036408632993698, \n",
            "Epoch: 1500, Loss: 0.2590152323246002, \n",
            "Epoch: 2000, Loss: 0.14031323790550232, \n",
            "Epoch: 2500, Loss: 0.0027612459380179644, \n",
            "Epoch: 3000, Loss: 0.0023822770453989506, \n",
            "Epoch: 3500, Loss: 0.0014222991885617375, \n",
            "Epoch: 4000, Loss: 0.000687586551066488, \n",
            "Epoch: 4500, Loss: 0.0007928067352622747, \n",
            "Epoch: 5000, Loss: 0.00039633127744309604, \n"
          ],
          "name": "stdout"
        }
      ]
    },
    {
      "cell_type": "code",
      "metadata": {
        "id": "LUcrOFqxfkgU",
        "colab_type": "code",
        "outputId": "592d6168-3243-4ed5-eb27-64c976c030ea",
        "colab": {
          "base_uri": "https://localhost:8080/",
          "height": 265
        }
      },
      "source": [
        "model_params = list(model2.parameters())\n",
        "model_weights = model_params[0].data.numpy()\n",
        "model_bias = model_params[1].data.numpy()\n",
        "\n",
        "plt.scatter(X.numpy()[[0,-1], 0], X.numpy()[[0, -1], 1], s=50)\n",
        "plt.scatter(X.numpy()[[1,2], 0], X.numpy()[[1, 2], 1], c='red', s=50)\n",
        "\n",
        "x_1 = np.arange(-0.1, 1.1, 0.1)\n",
        "y_1 = ((x_1 * model_weights[0,0]) + model_bias[0]) / (-model_weights[0,1])\n",
        "plt.plot(x_1, y_1)\n",
        "\n",
        "x_2 = np.arange(-0.1, 1.1, 0.1)\n",
        "y_2 = ((x_2 * model_weights[1,0]) + model_bias[1]) / (-model_weights[1,1])\n",
        "plt.plot(x_2, y_2)\n",
        "plt.legend([\"neuron_1\", \"neuron_2\"], loc=8)\n",
        "plt.show()"
      ],
      "execution_count": 180,
      "outputs": [
        {
          "output_type": "display_data",
          "data": {
            "image/png": "[encoded data removed]",
            "text/plain": [
              "<Figure size 432x288 with 1 Axes>"
            ]
          },
          "metadata": {
            "tags": [],
            "needs_background": "light"
          }
        }
      ]
    },
    {
      "cell_type": "markdown",
      "metadata": {
        "id": "Fm6nZTSdf4at",
        "colab_type": "text"
      },
      "source": [
        "I have executed these models a few times, and I continue to get different results. However, in general, the second model (model2) draws better decision boundaries (although it doesn't always converge on the proper boundaries): each line separates a different point of the same color in parallel. Meanwhile, the first model (model1) gets confused around the decision boundaries. For example, one line separates off a blue point while the other line separates off an orange point—both lines cross in the middle.\n",
        "\n",
        "If I increase the epochs, I don't really see a difference. The first model (model1) still fails to get the right decision boundaries. That said, the second model (model2) does almost certainly converge with more epochs. \n",
        "\n",
        "At any rate, the following model introduces tanh into the new middle layer:"
      ]
    },
    {
      "cell_type": "code",
      "metadata": {
        "id": "i5w_OjG0l2Ck",
        "colab_type": "code",
        "colab": {}
      },
      "source": [
        "class MLP4(nn.Module):\n",
        "    def __init__(self, input_dim = 2, hid_dim=2, output_dim=1):\n",
        "        # initialze the superclass\n",
        "        super(MLP4, self).__init__()\n",
        "        # this will create a linear layer with input_dim x hid_dim parameters\n",
        "        # in addition to a bias unit with hid_dim parameters\n",
        "        self.lin1 = nn.Linear(input_dim, hid_dim)\n",
        "        # a hidden layer between input layer and output layer\n",
        "        self.lin_hid = nn.Linear(hid_dim, hid_dim)\n",
        "        # same thing here except hid_dim x output_dim\n",
        "        self.lin2 = nn.Linear(hid_dim, output_dim)\n",
        "    \n",
        "    # this is where the meat of the action is\n",
        "    def forward(self, x):\n",
        "        x = self.lin1(x)  # linear combination of inputs\n",
        "        x = torch.sigmoid(x) # then through sigmoid - output of first layer\n",
        "        x = self.lin_hid(x)\n",
        "        x = torch.tanh(x)\n",
        "        x = self.lin2(x) # linear combination of hidden units\n",
        "        x = torch.sigmoid(x) # then through sigmoid - net output\n",
        "        return x"
      ],
      "execution_count": 0,
      "outputs": []
    },
    {
      "cell_type": "code",
      "metadata": {
        "id": "GxKFUNncl93y",
        "colab_type": "code",
        "colab": {}
      },
      "source": [
        "model3 = MLP4()\n",
        "weights_init(model3)\n",
        "loss_func = nn.MSELoss()\n",
        "optimizer = optim.SGD(model3.parameters(), lr=0.02, momentum=0.9)"
      ],
      "execution_count": 0,
      "outputs": []
    },
    {
      "cell_type": "code",
      "metadata": {
        "id": "sWmo3ihgmCUS",
        "colab_type": "code",
        "outputId": "e1a6ef78-5d0b-45ae-c4b2-84cbac3f7cb8",
        "colab": {
          "base_uri": "https://localhost:8080/",
          "height": 202
        }
      },
      "source": [
        "epochs = 5001\n",
        "steps = X.size(0)\n",
        "for i in range(epochs):\n",
        "    for j in range(steps):\n",
        "        data_point = np.random.randint(X.size(0))\n",
        "        x_var = Variable(X[data_point], requires_grad=False)\n",
        "        y_var = Variable(Y[data_point], requires_grad=False)\n",
        "        \n",
        "        optimizer.zero_grad()\n",
        "        y_hat = model3(x_var)\n",
        "        loss = loss_func.forward(y_hat, y_var)\n",
        "        loss.backward()\n",
        "        optimizer.step()\n",
        "\n",
        "    if i % 500 == 0:\n",
        "        print(\"Epoch: {0}, Loss: {1}, \".format(i, loss.data.numpy()))"
      ],
      "execution_count": 183,
      "outputs": [
        {
          "output_type": "stream",
          "text": [
            "Epoch: 0, Loss: 0.25434422492980957, \n",
            "Epoch: 500, Loss: 0.24658311903476715, \n",
            "Epoch: 1000, Loss: 0.2696942687034607, \n",
            "Epoch: 1500, Loss: 0.005623612552881241, \n",
            "Epoch: 2000, Loss: 0.002061679260805249, \n",
            "Epoch: 2500, Loss: 0.0011397205526009202, \n",
            "Epoch: 3000, Loss: 0.0004495891625992954, \n",
            "Epoch: 3500, Loss: 0.0006114618154242635, \n",
            "Epoch: 4000, Loss: 0.0004935131291858852, \n",
            "Epoch: 4500, Loss: 0.0004296132829040289, \n",
            "Epoch: 5000, Loss: 0.00020645819313358516, \n"
          ],
          "name": "stdout"
        }
      ]
    },
    {
      "cell_type": "code",
      "metadata": {
        "id": "5cI-Q6txmGNK",
        "colab_type": "code",
        "outputId": "3d744a45-8bc8-4d2f-e75e-c9645dc4ce92",
        "colab": {
          "base_uri": "https://localhost:8080/",
          "height": 266
        }
      },
      "source": [
        "model_params = list(model3.parameters())\n",
        "model_weights = model_params[0].data.numpy()\n",
        "model_bias = model_params[1].data.numpy()\n",
        "\n",
        "plt.scatter(X.numpy()[[0,-1], 0], X.numpy()[[0, -1], 1], s=50)\n",
        "plt.scatter(X.numpy()[[1,2], 0], X.numpy()[[1, 2], 1], c='red', s=50)\n",
        "\n",
        "x_1 = np.arange(-0.1, 1.1, 0.1)\n",
        "y_1 = ((x_1 * model_weights[0,0]) + model_bias[0]) / (-model_weights[0,1])\n",
        "plt.plot(x_1, y_1)\n",
        "\n",
        "x_2 = np.arange(-0.1, 1.1, 0.1)\n",
        "y_2 = ((x_2 * model_weights[1,0]) + model_bias[1]) / (-model_weights[1,1])\n",
        "plt.plot(x_2, y_2)\n",
        "plt.legend([\"neuron_1\", \"neuron_2\"], loc=8)\n",
        "plt.show()"
      ],
      "execution_count": 184,
      "outputs": [
        {
          "output_type": "display_data",
          "data": {
            "image/png": "[encoded data removed]",
            "text/plain": [
              "<Figure size 432x288 with 1 Axes>"
            ]
          },
          "metadata": {
            "tags": [],
            "needs_background": "light"
          }
        }
      ]
    },
    {
      "cell_type": "markdown",
      "metadata": {
        "id": "2zjEYlJDmw-O",
        "colab_type": "text"
      },
      "source": [
        "The only difference I can see between this new model with tanh as the activation function is that the two lines swapped places (i.e. orange is the top decision boundary while blue is the bottom decision boundary). It also seems to have converged slightly faster. "
      ]
    },
    {
      "cell_type": "markdown",
      "metadata": {
        "id": "NniWfU91_mhn",
        "colab_type": "text"
      },
      "source": [
        "## **Part 4: MLP classification of vowels**\n",
        "\n",
        "If you've gotten this far, then here is a challenge for you.  Taking the data from Part 2, can you build a MLP that can classify the vowels directly into vowel classes?\n",
        "\n",
        "You should have a hidden layer with a reasonable number of hidden units (maybe 100), and your output should be a softmax layer with 9 outputs (one for each vowel class). The target should be 1 for the correct class, and 0 otherwise. The loss function should also be changed to a Cross Entropy loss.  You may need to do a bit of googling of \"pytorch ___\" to find the different kinds of functions you need."
      ]
    },
    {
      "cell_type": "markdown",
      "metadata": {
        "id": "iE0u2lCk_mM7",
        "colab_type": "text"
      },
      "source": [
        "**4.1**: Let's setup some code for training a vowel classification model."
      ]
    },
    {
      "cell_type": "code",
      "metadata": {
        "id": "2oBeGwHQ_lNj",
        "colab_type": "code",
        "colab": {}
      },
      "source": [
        "class MLPVowel(nn.Module):\n",
        "    def __init__(self, input_dim = 2, hid_dim=100, output_dim=9):\n",
        "        super(MLPVowel, self).__init__()\n",
        "        \n",
        "        self.lin1 = nn.Linear(input_dim, hid_dim)\n",
        "        self.lin2 = nn.Linear(hid_dim, output_dim)\n",
        "    \n",
        "    # this is where the meat of the action is\n",
        "    def forward(self, x):\n",
        "        x = self.lin1(x)  # linear combination of inputs\n",
        "        x = torch.sigmoid(x) # then through sigmoid - output of first layer\n",
        "        x = self.lin2(x) # linear combination of hidden units\n",
        "        x = torch.sigmoid(x) # then through sigmoid - net output\n",
        "        return x"
      ],
      "execution_count": 0,
      "outputs": []
    },
    {
      "cell_type": "code",
      "metadata": {
        "id": "9ivlzedOWRdl",
        "colab_type": "code",
        "colab": {}
      },
      "source": [
        "def weights_init(model):\n",
        "    \"\"\"\n",
        "    Initializes model weights.\n",
        "\n",
        "    :param model: the model\n",
        "    \"\"\"\n",
        "    for m in model.modules():\n",
        "        if isinstance(m, nn.Linear):\n",
        "            # initialize the weight tensor, here we use a normal distribution\n",
        "            m.weight.data.normal_(0, 1)"
      ],
      "execution_count": 0,
      "outputs": []
    },
    {
      "cell_type": "code",
      "metadata": {
        "id": "vlO79T87ouKb",
        "colab_type": "code",
        "colab": {}
      },
      "source": [
        "def get_tensors(data, targets):\n",
        "  \"\"\"\n",
        "  Generates tensors from input data and target data. Input data is normalized\n",
        "  using the preprocessing library of sklearn. Target data is then categorized\n",
        "  and converted to indices. Finally, both data sets are transformed into\n",
        "  the appropriate tensors for the CrossEntropy function.\n",
        "\n",
        "  :param data: input data as DataFrame\n",
        "  :param targets: target data as DataFrame\n",
        "  :return: a tuple of input and output tensors\n",
        "  \"\"\"\n",
        "  # Normalize test data\n",
        "  x = data.values \n",
        "  min_max_scaler = preprocessing.MinMaxScaler()\n",
        "  x_scaled = min_max_scaler.fit_transform(x)\n",
        "  normal_x = pd.DataFrame(x_scaled)\n",
        "\n",
        "  # Convert test data to categorical values\n",
        "  vowels = targets['vowel'].astype('category').cat.codes # I fear this isn't returning the same thing for both test and train data....\n",
        "\n",
        "  # Setup tensors\n",
        "  X = torch.Tensor(normal_x.values)\n",
        "  Y = torch.Tensor(vowels.values).long().view(-1, 1)\n",
        "  return X, Y"
      ],
      "execution_count": 0,
      "outputs": []
    },
    {
      "cell_type": "code",
      "metadata": {
        "id": "3ZU5Tc6mSpy8",
        "colab_type": "code",
        "colab": {}
      },
      "source": [
        "# Define data and convert it into useful tensors\n",
        "train_data, test_data, train_targets, test_targets = train_test_split(df[['f1','f2']],df[['close','near-close+','close-mid+','mid+','open-mid+','back','central-or-back','rounded','vowel']])\n",
        "train_x, train_y = get_tensors(train_data, train_targets)\n",
        "test_x, test_y = get_tensors(test_data, test_targets)"
      ],
      "execution_count": 0,
      "outputs": []
    },
    {
      "cell_type": "code",
      "metadata": {
        "id": "J4ENBBxItkdp",
        "colab_type": "code",
        "colab": {}
      },
      "source": [
        "# Initialize model\n",
        "vowel_model = MLPVowel()\n",
        "weights_init(vowel_model)\n",
        "loss_func = nn.CrossEntropyLoss()\n",
        "optimizer = optim.SGD(vowel_model.parameters(), lr=0.02, momentum=0.9)"
      ],
      "execution_count": 0,
      "outputs": []
    },
    {
      "cell_type": "code",
      "metadata": {
        "id": "jYzCsIZ2Sf_2",
        "colab_type": "code",
        "outputId": "beefe138-d0dd-4574-89fd-7bc344b7eac0",
        "colab": {
          "base_uri": "https://localhost:8080/",
          "height": 202
        }
      },
      "source": [
        "# Train model\n",
        "epochs = 101\n",
        "steps = train_x.size(0)\n",
        "for i in range(epochs):\n",
        "    for j in range(steps):\n",
        "        data_point = np.random.randint(X.size(0))\n",
        "        x_var = Variable(train_x[data_point], requires_grad=False)\n",
        "        y_var = Variable(train_y[data_point], requires_grad=False)\n",
        "        \n",
        "        optimizer.zero_grad()\n",
        "        y_hat = vowel_model(x_var).view(1, -1)\n",
        "        loss = loss_func.forward(y_hat, y_var)\n",
        "        loss.backward()\n",
        "        optimizer.step()\n",
        "\n",
        "    if i % 10 == 0:\n",
        "        print(\"Epoch: {0}, Loss: {1}, \".format(i, loss.data.numpy()))"
      ],
      "execution_count": 190,
      "outputs": [
        {
          "output_type": "stream",
          "text": [
            "Epoch: 0, Loss: 1.8666834831237793, \n",
            "Epoch: 10, Loss: 1.6504921913146973, \n",
            "Epoch: 20, Loss: 1.6501020193099976, \n",
            "Epoch: 30, Loss: 1.7647441625595093, \n",
            "Epoch: 40, Loss: 1.6500775814056396, \n",
            "Epoch: 50, Loss: 1.650072693824768, \n",
            "Epoch: 60, Loss: 1.7646715641021729, \n",
            "Epoch: 70, Loss: 1.6500864028930664, \n",
            "Epoch: 80, Loss: 1.7646325826644897, \n",
            "Epoch: 90, Loss: 1.7643238306045532, \n",
            "Epoch: 100, Loss: 1.5208706855773926, \n"
          ],
          "name": "stdout"
        }
      ]
    },
    {
      "cell_type": "markdown",
      "metadata": {
        "id": "_FxLSGRO1L71",
        "colab_type": "text"
      },
      "source": [
        "**4.2** With the model trained, let's try testing its performance."
      ]
    },
    {
      "cell_type": "code",
      "metadata": {
        "id": "0Q_OOOzG3j5c",
        "colab_type": "code",
        "outputId": "ad92a12c-7eed-4518-d575-468c2184c0f0",
        "colab": {
          "base_uri": "https://localhost:8080/",
          "height": 34
        }
      },
      "source": [
        "# Test performance\n",
        "total = 0\n",
        "correct = 0\n",
        "steps = test_x.size(0)\n",
        "for i in range(steps):\n",
        "  x_var = test_x[i]\n",
        "  y_var = test_y[i]\n",
        "  y_hat = vowel_model(x_var).view(1, -1)\n",
        "  # Borrowed from docs: https://pytorch.org/tutorials/beginner/blitz/cifar10_tutorial.html\n",
        "  _, predicted = torch.max(y_hat.data, 1)\n",
        "  total += 1\n",
        "  correct += 1 if y_var == predicted else 0\n",
        "\n",
        "print(correct/total)"
      ],
      "execution_count": 191,
      "outputs": [
        {
          "output_type": "stream",
          "text": [
            "0.18641975308641975\n"
          ],
          "name": "stdout"
        }
      ]
    },
    {
      "cell_type": "markdown",
      "metadata": {
        "id": "ajBesTGNeJK5",
        "colab_type": "text"
      },
      "source": [
        "Also, let's get this performance code into a reusable function:"
      ]
    },
    {
      "cell_type": "code",
      "metadata": {
        "id": "tNemKx6GeIS9",
        "colab_type": "code",
        "colab": {}
      },
      "source": [
        "def performance(x, y, model):\n",
        "  \"\"\"\n",
        "  Calculates the accuracy of the model by computing the number of correct\n",
        "  classifications versus the number of total classifications. For example,\n",
        "  if there were 100 classifications and the model predicted 25 of them\n",
        "  correctly, we would say the model had an accuracy of 25%.\n",
        "\n",
        "  :param x: a test input data set \n",
        "  :param y: a test output data set (true classifications)\n",
        "  :param model: the model\n",
        "  \"\"\"\n",
        "  total = 0\n",
        "  correct = 0\n",
        "  steps = x.size(0)\n",
        "  for i in range(steps):\n",
        "    x_var = x[i]\n",
        "    y_var = y[i]\n",
        "    y_hat = model(x_var).view(1, -1)\n",
        "    # Borrowed from docs: https://pytorch.org/tutorials/beginner/blitz/cifar10_tutorial.html\n",
        "    _, predicted = torch.max(y_hat.data, 1)\n",
        "    #print(f'{y_var}: {predicted}: {(y_var == predicted)[0]}')\n",
        "    total += 1\n",
        "    if y_var == predicted:\n",
        "      correct += 1\n",
        "  \n",
        "  print(correct/total)"
      ],
      "execution_count": 0,
      "outputs": []
    },
    {
      "cell_type": "code",
      "metadata": {
        "id": "dHbd4cyPekEk",
        "colab_type": "code",
        "outputId": "b53d4d0b-285e-4b5b-d1d7-27766fb9b787",
        "colab": {
          "base_uri": "https://localhost:8080/",
          "height": 34
        }
      },
      "source": [
        "performance(test_x, test_y, vowel_model)"
      ],
      "execution_count": 193,
      "outputs": [
        {
          "output_type": "stream",
          "text": [
            "0.18641975308641975\n"
          ],
          "name": "stdout"
        }
      ]
    },
    {
      "cell_type": "markdown",
      "metadata": {
        "id": "fVJlbWnvXzrG",
        "colab_type": "text"
      },
      "source": [
        "**4.3** Unfortunately, this is really slow! Let's try passing the full dataset:"
      ]
    },
    {
      "cell_type": "code",
      "metadata": {
        "id": "vK7BH7YuX7gY",
        "colab_type": "code",
        "colab": {}
      },
      "source": [
        "def training(x, y, model, loss_func, optimizer, epochs):\n",
        "  for i in range(epochs):\n",
        "    x_var = Variable(x, requires_grad=False)\n",
        "    y_var = Variable(y, requires_grad=False)\n",
        "        \n",
        "    optimizer.zero_grad()\n",
        "    y_hat = model(x_var)\n",
        "    loss = loss_func.forward(y_hat, y_var.view(-1))\n",
        "    loss.backward()\n",
        "    optimizer.step()\n",
        "\n",
        "    if i % 2000 == 0:\n",
        "      print(\"Epoch: {0}, Loss: {1}, \".format(i, loss.data.numpy()))"
      ],
      "execution_count": 0,
      "outputs": []
    },
    {
      "cell_type": "code",
      "metadata": {
        "id": "Z5mZFsCdLa33",
        "colab_type": "code",
        "colab": {}
      },
      "source": [
        "EPOCHS = 100001 # Defined for all following tests"
      ],
      "execution_count": 0,
      "outputs": []
    },
    {
      "cell_type": "code",
      "metadata": {
        "id": "LSPMXdnvYeyB",
        "colab_type": "code",
        "outputId": "79e2a042-5b4b-46dd-fbaf-bf7ffa3936f6",
        "colab": {
          "base_uri": "https://localhost:8080/",
          "height": 874
        }
      },
      "source": [
        "vowel_model_batch = MLPVowel()\n",
        "weights_init(vowel_model_batch)\n",
        "loss_func = nn.CrossEntropyLoss()\n",
        "optimizer = optim.SGD(vowel_model_batch.parameters(), lr=0.02, momentum=0.9)\n",
        "\n",
        "# played with epochs until it seemed like loss was shrinking so slowly that it wasn't worth the effort\n",
        "training(train_x, train_y, vowel_model_batch, loss_func, optimizer, EPOCHS) "
      ],
      "execution_count": 195,
      "outputs": [
        {
          "output_type": "stream",
          "text": [
            "Epoch: 0, Loss: 2.154534101486206, \n",
            "Epoch: 2000, Loss: 2.0382540225982666, \n",
            "Epoch: 4000, Loss: 2.013300657272339, \n",
            "Epoch: 6000, Loss: 2.0057590007781982, \n",
            "Epoch: 8000, Loss: 2.0015971660614014, \n",
            "Epoch: 10000, Loss: 1.9988880157470703, \n",
            "Epoch: 12000, Loss: 1.9969536066055298, \n",
            "Epoch: 14000, Loss: 1.9954899549484253, \n",
            "Epoch: 16000, Loss: 1.994335412979126, \n",
            "Epoch: 18000, Loss: 1.9933875799179077, \n",
            "Epoch: 20000, Loss: 1.9925898313522339, \n",
            "Epoch: 22000, Loss: 1.9919074773788452, \n",
            "Epoch: 24000, Loss: 1.9913151264190674, \n",
            "Epoch: 26000, Loss: 1.990786075592041, \n",
            "Epoch: 28000, Loss: 1.9903160333633423, \n",
            "Epoch: 30000, Loss: 1.9898935556411743, \n",
            "Epoch: 32000, Loss: 1.9895076751708984, \n",
            "Epoch: 34000, Loss: 1.989154577255249, \n",
            "Epoch: 36000, Loss: 1.9888300895690918, \n",
            "Epoch: 38000, Loss: 1.9885258674621582, \n",
            "Epoch: 40000, Loss: 1.9882464408874512, \n",
            "Epoch: 42000, Loss: 1.9879801273345947, \n",
            "Epoch: 44000, Loss: 1.9877326488494873, \n",
            "Epoch: 46000, Loss: 1.9874975681304932, \n",
            "Epoch: 48000, Loss: 1.9872708320617676, \n",
            "Epoch: 50000, Loss: 1.9870566129684448, \n",
            "Epoch: 52000, Loss: 1.9868518114089966, \n",
            "Epoch: 54000, Loss: 1.9866530895233154, \n",
            "Epoch: 56000, Loss: 1.9864600896835327, \n",
            "Epoch: 58000, Loss: 1.9862760305404663, \n",
            "Epoch: 60000, Loss: 1.9860955476760864, \n",
            "Epoch: 62000, Loss: 1.985914707183838, \n",
            "Epoch: 64000, Loss: 1.985740065574646, \n",
            "Epoch: 66000, Loss: 1.9855642318725586, \n",
            "Epoch: 68000, Loss: 1.9853907823562622, \n",
            "Epoch: 70000, Loss: 1.9852173328399658, \n",
            "Epoch: 72000, Loss: 1.9850393533706665, \n",
            "Epoch: 74000, Loss: 1.9848610162734985, \n",
            "Epoch: 76000, Loss: 1.9846810102462769, \n",
            "Epoch: 78000, Loss: 1.984492540359497, \n",
            "Epoch: 80000, Loss: 1.9843019247055054, \n",
            "Epoch: 82000, Loss: 1.9841002225875854, \n",
            "Epoch: 84000, Loss: 1.9838995933532715, \n",
            "Epoch: 86000, Loss: 1.983689308166504, \n",
            "Epoch: 88000, Loss: 1.983473300933838, \n",
            "Epoch: 90000, Loss: 1.983255386352539, \n",
            "Epoch: 92000, Loss: 1.9830321073532104, \n",
            "Epoch: 94000, Loss: 1.9828028678894043, \n",
            "Epoch: 96000, Loss: 1.9825727939605713, \n",
            "Epoch: 98000, Loss: 1.9823359251022339, \n",
            "Epoch: 100000, Loss: 1.9821059703826904, \n"
          ],
          "name": "stdout"
        }
      ]
    },
    {
      "cell_type": "markdown",
      "metadata": {
        "id": "HlVYBPZuftBt",
        "colab_type": "text"
      },
      "source": [
        "While we're here, let's take a look at performace:"
      ]
    },
    {
      "cell_type": "code",
      "metadata": {
        "id": "mX_MBHUefw_E",
        "colab_type": "code",
        "outputId": "91ee8864-2c4d-4f10-ceab-17a75867ebd3",
        "colab": {
          "base_uri": "https://localhost:8080/",
          "height": 34
        }
      },
      "source": [
        "performance(test_x, test_y, vowel_model_batch)"
      ],
      "execution_count": 196,
      "outputs": [
        {
          "output_type": "stream",
          "text": [
            "0.0728395061728395\n"
          ],
          "name": "stdout"
        }
      ]
    },
    {
      "cell_type": "markdown",
      "metadata": {
        "id": "i1Wxgg85_y0z",
        "colab_type": "text"
      },
      "source": [
        "**4.4** At this point, we were asked to modify our models. I figure there are basically two things worth trying: expanding the width of the hidden layer and adding an additional layer. First, we'll take a look at expanding the width of the hidden layer. I like this option because it's very easy to change. Also, it gives us potentially more information we can learn (assuming we increase the width)."
      ]
    },
    {
      "cell_type": "code",
      "metadata": {
        "colab_type": "code",
        "id": "0900L9zPCU0Q",
        "outputId": "5c86e00e-7377-4f8b-9e8e-2175f773b5fa",
        "colab": {
          "base_uri": "https://localhost:8080/",
          "height": 874
        }
      },
      "source": [
        "vowel_model_200 = MLPVowel(hid_dim=200)\n",
        "weights_init(vowel_model_200)\n",
        "loss_func = nn.CrossEntropyLoss()\n",
        "optimizer = optim.SGD(vowel_model_200.parameters(), lr=0.02, momentum=0.9)\n",
        "training(train_x, train_y, vowel_model_200, loss_func, optimizer, EPOCHS)"
      ],
      "execution_count": 197,
      "outputs": [
        {
          "output_type": "stream",
          "text": [
            "Epoch: 0, Loss: 2.250758409500122, \n",
            "Epoch: 2000, Loss: 1.9802870750427246, \n",
            "Epoch: 4000, Loss: 1.9714982509613037, \n",
            "Epoch: 6000, Loss: 1.9673454761505127, \n",
            "Epoch: 8000, Loss: 1.964660882949829, \n",
            "Epoch: 10000, Loss: 1.9626500606536865, \n",
            "Epoch: 12000, Loss: 1.9610211849212646, \n",
            "Epoch: 14000, Loss: 1.959643840789795, \n",
            "Epoch: 16000, Loss: 1.958448052406311, \n",
            "Epoch: 18000, Loss: 1.9573785066604614, \n",
            "Epoch: 20000, Loss: 1.9564127922058105, \n",
            "Epoch: 22000, Loss: 1.9555268287658691, \n",
            "Epoch: 24000, Loss: 1.9547075033187866, \n",
            "Epoch: 26000, Loss: 1.953946590423584, \n",
            "Epoch: 28000, Loss: 1.9532251358032227, \n",
            "Epoch: 30000, Loss: 1.9525471925735474, \n",
            "Epoch: 32000, Loss: 1.951905608177185, \n",
            "Epoch: 34000, Loss: 1.9512888193130493, \n",
            "Epoch: 36000, Loss: 1.9507055282592773, \n",
            "Epoch: 38000, Loss: 1.950147032737732, \n",
            "Epoch: 40000, Loss: 1.9496084451675415, \n",
            "Epoch: 42000, Loss: 1.9490958452224731, \n",
            "Epoch: 44000, Loss: 1.9486011266708374, \n",
            "Epoch: 46000, Loss: 1.9481207132339478, \n",
            "Epoch: 48000, Loss: 1.9476629495620728, \n",
            "Epoch: 50000, Loss: 1.9472211599349976, \n",
            "Epoch: 52000, Loss: 1.9467970132827759, \n",
            "Epoch: 54000, Loss: 1.9463868141174316, \n",
            "Epoch: 56000, Loss: 1.9459950923919678, \n",
            "Epoch: 58000, Loss: 1.945609211921692, \n",
            "Epoch: 60000, Loss: 1.9452428817749023, \n",
            "Epoch: 62000, Loss: 1.9448859691619873, \n",
            "Epoch: 64000, Loss: 1.9445427656173706, \n",
            "Epoch: 66000, Loss: 1.944207787513733, \n",
            "Epoch: 68000, Loss: 1.9438879489898682, \n",
            "Epoch: 70000, Loss: 1.9435741901397705, \n",
            "Epoch: 72000, Loss: 1.9432669878005981, \n",
            "Epoch: 74000, Loss: 1.9429699182510376, \n",
            "Epoch: 76000, Loss: 1.9426838159561157, \n",
            "Epoch: 78000, Loss: 1.9424012899398804, \n",
            "Epoch: 80000, Loss: 1.9421238899230957, \n",
            "Epoch: 82000, Loss: 1.9418524503707886, \n",
            "Epoch: 84000, Loss: 1.9415843486785889, \n",
            "Epoch: 86000, Loss: 1.9413176774978638, \n",
            "Epoch: 88000, Loss: 1.9410529136657715, \n",
            "Epoch: 90000, Loss: 1.9407860040664673, \n",
            "Epoch: 92000, Loss: 1.9405115842819214, \n",
            "Epoch: 94000, Loss: 1.9402316808700562, \n",
            "Epoch: 96000, Loss: 1.9399367570877075, \n",
            "Epoch: 98000, Loss: 1.9396222829818726, \n",
            "Epoch: 100000, Loss: 1.939291000366211, \n"
          ],
          "name": "stdout"
        }
      ]
    },
    {
      "cell_type": "markdown",
      "metadata": {
        "id": "7zzfhmWZg2r8",
        "colab_type": "text"
      },
      "source": [
        "And again, performance:"
      ]
    },
    {
      "cell_type": "code",
      "metadata": {
        "id": "btnqnnK_g5aN",
        "colab_type": "code",
        "outputId": "7e1468c2-978a-4345-9bde-03edbb8d98f1",
        "colab": {
          "base_uri": "https://localhost:8080/",
          "height": 34
        }
      },
      "source": [
        "performance(test_x, test_y, vowel_model_200)"
      ],
      "execution_count": 198,
      "outputs": [
        {
          "output_type": "stream",
          "text": [
            "0.3074074074074074\n"
          ],
          "name": "stdout"
        }
      ]
    },
    {
      "cell_type": "markdown",
      "metadata": {
        "id": "6JDVCzCbPFdP",
        "colab_type": "text"
      },
      "source": [
        "**4.5** Now, I want to try adding a layer to see if we can improve performance."
      ]
    },
    {
      "cell_type": "code",
      "metadata": {
        "colab_type": "code",
        "id": "XPZrePCbPNWF",
        "colab": {}
      },
      "source": [
        "class MLPVowel2(nn.Module):\n",
        "    def __init__(self, input_dim = 2, hid_dim=100, output_dim=9):\n",
        "        super(MLPVowel2, self).__init__()\n",
        "        \n",
        "        self.lin1 = nn.Linear(input_dim, hid_dim)\n",
        "        self.lin2 = nn.Linear(hid_dim, hid_dim)\n",
        "        self.lin3 = nn.Linear(hid_dim, output_dim)\n",
        "    \n",
        "    # this is where the meat of the action is\n",
        "    def forward(self, x):\n",
        "        x = self.lin1(x)  # linear combination of inputs\n",
        "        x = torch.sigmoid(x) # then through sigmoid - output of first layer\n",
        "        x = self.lin2(x) # linear combination of hidden units\n",
        "        x = torch.sigmoid(x) # then through sigmoid - net output\n",
        "        x = self.lin3(x) # linear combination of hidden units\n",
        "        x = torch.sigmoid(x) # then through sigmoid - net output\n",
        "        return x"
      ],
      "execution_count": 0,
      "outputs": []
    },
    {
      "cell_type": "code",
      "metadata": {
        "colab_type": "code",
        "id": "mWJpHf0HPeLF",
        "outputId": "2422e3cd-7fc3-4c41-88d4-3df3d98f504b",
        "colab": {
          "base_uri": "https://localhost:8080/",
          "height": 874
        }
      },
      "source": [
        "vowel_model_extra_layer = MLPVowel2()\n",
        "weights_init(vowel_model_extra_layer)\n",
        "loss_func = nn.CrossEntropyLoss()\n",
        "optimizer = optim.SGD(vowel_model_extra_layer.parameters(), lr=0.02, momentum=0.9)\n",
        "training(train_x, train_y, vowel_model_extra_layer, loss_func, optimizer, EPOCHS)"
      ],
      "execution_count": 200,
      "outputs": [
        {
          "output_type": "stream",
          "text": [
            "Epoch: 0, Loss: 2.3672730922698975, \n",
            "Epoch: 2000, Loss: 1.9931503534317017, \n",
            "Epoch: 4000, Loss: 1.9593195915222168, \n",
            "Epoch: 6000, Loss: 1.943913459777832, \n",
            "Epoch: 8000, Loss: 1.9350181818008423, \n",
            "Epoch: 10000, Loss: 1.9289145469665527, \n",
            "Epoch: 12000, Loss: 1.9241526126861572, \n",
            "Epoch: 14000, Loss: 1.9202576875686646, \n",
            "Epoch: 16000, Loss: 1.9169925451278687, \n",
            "Epoch: 18000, Loss: 1.9141684770584106, \n",
            "Epoch: 20000, Loss: 1.9116671085357666, \n",
            "Epoch: 22000, Loss: 1.9094126224517822, \n",
            "Epoch: 24000, Loss: 1.9073874950408936, \n",
            "Epoch: 26000, Loss: 1.9055657386779785, \n",
            "Epoch: 28000, Loss: 1.9039077758789062, \n",
            "Epoch: 30000, Loss: 1.9023833274841309, \n",
            "Epoch: 32000, Loss: 1.900949478149414, \n",
            "Epoch: 34000, Loss: 1.899593710899353, \n",
            "Epoch: 36000, Loss: 1.8983081579208374, \n",
            "Epoch: 38000, Loss: 1.8970928192138672, \n",
            "Epoch: 40000, Loss: 1.8959661722183228, \n",
            "Epoch: 42000, Loss: 1.894925594329834, \n",
            "Epoch: 44000, Loss: 1.8939592838287354, \n",
            "Epoch: 46000, Loss: 1.8930550813674927, \n",
            "Epoch: 48000, Loss: 1.8921951055526733, \n",
            "Epoch: 50000, Loss: 1.8913416862487793, \n",
            "Epoch: 52000, Loss: 1.890392780303955, \n",
            "Epoch: 54000, Loss: 1.889283537864685, \n",
            "Epoch: 56000, Loss: 1.8882031440734863, \n",
            "Epoch: 58000, Loss: 1.8871824741363525, \n",
            "Epoch: 60000, Loss: 1.8862011432647705, \n",
            "Epoch: 62000, Loss: 1.8852612972259521, \n",
            "Epoch: 64000, Loss: 1.8843700885772705, \n",
            "Epoch: 66000, Loss: 1.8835339546203613, \n",
            "Epoch: 68000, Loss: 1.8827461004257202, \n",
            "Epoch: 70000, Loss: 1.8820041418075562, \n",
            "Epoch: 72000, Loss: 1.8813080787658691, \n",
            "Epoch: 74000, Loss: 1.880652904510498, \n",
            "Epoch: 76000, Loss: 1.880035161972046, \n",
            "Epoch: 78000, Loss: 1.8794548511505127, \n",
            "Epoch: 80000, Loss: 1.87890625, \n",
            "Epoch: 82000, Loss: 1.8783916234970093, \n",
            "Epoch: 84000, Loss: 1.8779009580612183, \n",
            "Epoch: 86000, Loss: 1.8774385452270508, \n",
            "Epoch: 88000, Loss: 1.8770043849945068, \n",
            "Epoch: 90000, Loss: 1.8765895366668701, \n",
            "Epoch: 92000, Loss: 1.876193642616272, \n",
            "Epoch: 94000, Loss: 1.8758224248886108, \n",
            "Epoch: 96000, Loss: 1.8754663467407227, \n",
            "Epoch: 98000, Loss: 1.8751249313354492, \n",
            "Epoch: 100000, Loss: 1.874800443649292, \n"
          ],
          "name": "stdout"
        }
      ]
    },
    {
      "cell_type": "markdown",
      "metadata": {
        "id": "2U802tmphGyk",
        "colab_type": "text"
      },
      "source": [
        "And again, performance:"
      ]
    },
    {
      "cell_type": "code",
      "metadata": {
        "id": "Et08983vhKFL",
        "colab_type": "code",
        "outputId": "dba9461a-84ae-4fc9-8b35-deaf75d3b779",
        "colab": {
          "base_uri": "https://localhost:8080/",
          "height": 34
        }
      },
      "source": [
        "performance(test_x, test_y, vowel_model_extra_layer)"
      ],
      "execution_count": 201,
      "outputs": [
        {
          "output_type": "stream",
          "text": [
            "0.3160493827160494\n"
          ],
          "name": "stdout"
        }
      ]
    },
    {
      "cell_type": "markdown",
      "metadata": {
        "id": "fo1jiMHMyioD",
        "colab_type": "text"
      },
      "source": [
        "## Summary and Observations\n",
        "\n",
        "There are a few things I noticed while running these experiments. First, online training seems to be much better when it comes to accuracy. For example, I was ably to get decent accuracy with just a few hundred epochs. However, training was extremely slow.\n",
        "\n",
        "When I switched over to batch training, the training speed was much better, but the actual loss decreased very slowly. In many cases, I wasn't able to even approach the accuracy of online training. \n",
        "\n",
        "Then, when it came to actually modifying the network, I found that changes had a serious impact in more ways than one. For example, my first modification (+100 hidden nodes) resulted in better convergence for the same amount of epochs. However, training was quite a bit slower. With my second modifiaction (+1 hidden layer), I noticed similar results; performance was better but training was slower. \n",
        "\n",
        "Since I used the test_train_split function, I realized the results were different for every execution. As a result, I decided to document those results for a few executions (online: 100 epochs, batch: 100,000 epochs):\n",
        "\n",
        "| Execution | Online | Batch | +100 Nodes | +1 Layer |\n",
        "|-----------|--------|------|------------|----------|\n",
        "| 04/09/2020 5:21 PM EST | 0.3308641975308642 | 0.08765432098765433 | 0.345679012345679 | 0.2654320987654321 |\n",
        "| 04/09/2020 6:26 PM EST | 0.18888888888888888 |  0.06296296296296296 | 0.2975308641975309 | 0.362962962962963 |\n",
        "| 04/09/2020 11:19 PM EST | 0.3395061728395062 | 0.06296296296296296 | 0.29506172839506173 | 0.23950617283950618 |\n",
        "\n",
        "In all this testing, I never really saw a performance above 50%. I wonder what needs to be done to get better results. Below, I decided to run one last experiment (+1 layer) for a ridiculous amount of epochs (1,000,000). "
      ]
    },
    {
      "cell_type": "code",
      "metadata": {
        "id": "nEoPD5yADhwD",
        "colab_type": "code",
        "outputId": "ee18a9ed-97ca-4b19-e3d4-f5ba4e4aa82b",
        "colab": {
          "base_uri": "https://localhost:8080/",
          "height": 1000
        }
      },
      "source": [
        "vowel_model_extra_layer_long = MLPVowel2()\n",
        "weights_init(vowel_model_extra_layer_long)\n",
        "loss_func = nn.CrossEntropyLoss()\n",
        "optimizer = optim.SGD(vowel_model_extra_layer_long.parameters(), lr=0.02, momentum=0.9)\n",
        "training(train_x, train_y, vowel_model_extra_layer_long, loss_func, optimizer, 1000001)"
      ],
      "execution_count": 202,
      "outputs": [
        {
          "output_type": "stream",
          "text": [
            "Epoch: 0, Loss: 2.249422073364258, \n",
            "Epoch: 2000, Loss: 1.8740813732147217, \n",
            "Epoch: 4000, Loss: 1.8523509502410889, \n",
            "Epoch: 6000, Loss: 1.79360032081604, \n",
            "Epoch: 8000, Loss: 1.7827634811401367, \n",
            "Epoch: 10000, Loss: 1.745322585105896, \n",
            "Epoch: 12000, Loss: 1.7323426008224487, \n",
            "Epoch: 14000, Loss: 1.725908637046814, \n",
            "Epoch: 16000, Loss: 1.7212694883346558, \n",
            "Epoch: 18000, Loss: 1.7173328399658203, \n",
            "Epoch: 20000, Loss: 1.713903784751892, \n",
            "Epoch: 22000, Loss: 1.7108354568481445, \n",
            "Epoch: 24000, Loss: 1.707982063293457, \n",
            "Epoch: 26000, Loss: 1.705300211906433, \n",
            "Epoch: 28000, Loss: 1.7027982473373413, \n",
            "Epoch: 30000, Loss: 1.7004945278167725, \n",
            "Epoch: 32000, Loss: 1.6983952522277832, \n",
            "Epoch: 34000, Loss: 1.696463704109192, \n",
            "Epoch: 36000, Loss: 1.6946594715118408, \n",
            "Epoch: 38000, Loss: 1.692948341369629, \n",
            "Epoch: 40000, Loss: 1.6913179159164429, \n",
            "Epoch: 42000, Loss: 1.689795970916748, \n",
            "Epoch: 44000, Loss: 1.688408374786377, \n",
            "Epoch: 46000, Loss: 1.6871657371520996, \n",
            "Epoch: 48000, Loss: 1.6860548257827759, \n",
            "Epoch: 50000, Loss: 1.6850558519363403, \n",
            "Epoch: 52000, Loss: 1.684145450592041, \n",
            "Epoch: 54000, Loss: 1.6833069324493408, \n",
            "Epoch: 56000, Loss: 1.6825213432312012, \n",
            "Epoch: 58000, Loss: 1.6817246675491333, \n",
            "Epoch: 60000, Loss: 1.6774990558624268, \n",
            "Epoch: 62000, Loss: 1.6759802103042603, \n",
            "Epoch: 64000, Loss: 1.6749305725097656, \n",
            "Epoch: 66000, Loss: 1.6740491390228271, \n",
            "Epoch: 68000, Loss: 1.673263669013977, \n",
            "Epoch: 70000, Loss: 1.672537088394165, \n",
            "Epoch: 72000, Loss: 1.6718409061431885, \n",
            "Epoch: 74000, Loss: 1.6711595058441162, \n",
            "Epoch: 76000, Loss: 1.6704572439193726, \n",
            "Epoch: 78000, Loss: 1.6696199178695679, \n",
            "Epoch: 80000, Loss: 1.6687018871307373, \n",
            "Epoch: 82000, Loss: 1.6678190231323242, \n",
            "Epoch: 84000, Loss: 1.666954755783081, \n",
            "Epoch: 86000, Loss: 1.666113018989563, \n",
            "Epoch: 88000, Loss: 1.6653209924697876, \n",
            "Epoch: 90000, Loss: 1.664595127105713, \n",
            "Epoch: 92000, Loss: 1.6639333963394165, \n",
            "Epoch: 94000, Loss: 1.663309931755066, \n",
            "Epoch: 96000, Loss: 1.6627267599105835, \n",
            "Epoch: 98000, Loss: 1.6621767282485962, \n",
            "Epoch: 100000, Loss: 1.661674976348877, \n",
            "Epoch: 102000, Loss: 1.6612143516540527, \n",
            "Epoch: 104000, Loss: 1.6607874631881714, \n",
            "Epoch: 106000, Loss: 1.6603856086730957, \n",
            "Epoch: 108000, Loss: 1.660006046295166, \n",
            "Epoch: 110000, Loss: 1.6596463918685913, \n",
            "Epoch: 112000, Loss: 1.659303069114685, \n",
            "Epoch: 114000, Loss: 1.658977746963501, \n",
            "Epoch: 116000, Loss: 1.6586672067642212, \n",
            "Epoch: 118000, Loss: 1.6583682298660278, \n",
            "Epoch: 120000, Loss: 1.6580814123153687, \n",
            "Epoch: 122000, Loss: 1.6578028202056885, \n",
            "Epoch: 124000, Loss: 1.6575344800949097, \n",
            "Epoch: 126000, Loss: 1.6572763919830322, \n",
            "Epoch: 128000, Loss: 1.6570264101028442, \n",
            "Epoch: 130000, Loss: 1.6567820310592651, \n",
            "Epoch: 132000, Loss: 1.6565475463867188, \n",
            "Epoch: 134000, Loss: 1.656314730644226, \n",
            "Epoch: 136000, Loss: 1.6560930013656616, \n",
            "Epoch: 138000, Loss: 1.6558724641799927, \n",
            "Epoch: 140000, Loss: 1.6556599140167236, \n",
            "Epoch: 142000, Loss: 1.6554489135742188, \n",
            "Epoch: 144000, Loss: 1.655243158340454, \n",
            "Epoch: 146000, Loss: 1.655042290687561, \n",
            "Epoch: 148000, Loss: 1.6548454761505127, \n",
            "Epoch: 150000, Loss: 1.6546489000320435, \n",
            "Epoch: 152000, Loss: 1.6544556617736816, \n",
            "Epoch: 154000, Loss: 1.6542669534683228, \n",
            "Epoch: 156000, Loss: 1.6540782451629639, \n",
            "Epoch: 158000, Loss: 1.6538909673690796, \n",
            "Epoch: 160000, Loss: 1.6537055969238281, \n",
            "Epoch: 162000, Loss: 1.6535208225250244, \n",
            "Epoch: 164000, Loss: 1.6533373594284058, \n",
            "Epoch: 166000, Loss: 1.6531575918197632, \n",
            "Epoch: 168000, Loss: 1.6529762744903564, \n",
            "Epoch: 170000, Loss: 1.6527990102767944, \n",
            "Epoch: 172000, Loss: 1.6526212692260742, \n",
            "Epoch: 174000, Loss: 1.6524444818496704, \n",
            "Epoch: 176000, Loss: 1.6522728204727173, \n",
            "Epoch: 178000, Loss: 1.6521012783050537, \n",
            "Epoch: 180000, Loss: 1.6519315242767334, \n",
            "Epoch: 182000, Loss: 1.6517664194107056, \n",
            "Epoch: 184000, Loss: 1.651602864265442, \n",
            "Epoch: 186000, Loss: 1.6514408588409424, \n",
            "Epoch: 188000, Loss: 1.6512829065322876, \n",
            "Epoch: 190000, Loss: 1.651126503944397, \n",
            "Epoch: 192000, Loss: 1.6509733200073242, \n",
            "Epoch: 194000, Loss: 1.6508208513259888, \n",
            "Epoch: 196000, Loss: 1.650673508644104, \n",
            "Epoch: 198000, Loss: 1.6505268812179565, \n",
            "Epoch: 200000, Loss: 1.6503825187683105, \n",
            "Epoch: 202000, Loss: 1.6502418518066406, \n",
            "Epoch: 204000, Loss: 1.6501059532165527, \n",
            "Epoch: 206000, Loss: 1.6499660015106201, \n",
            "Epoch: 208000, Loss: 1.6498346328735352, \n",
            "Epoch: 210000, Loss: 1.6497032642364502, \n",
            "Epoch: 212000, Loss: 1.6495741605758667, \n",
            "Epoch: 214000, Loss: 1.6494472026824951, \n",
            "Epoch: 216000, Loss: 1.6493216753005981, \n",
            "Epoch: 218000, Loss: 1.649195671081543, \n",
            "Epoch: 220000, Loss: 1.649072527885437, \n",
            "Epoch: 222000, Loss: 1.6489495038986206, \n",
            "Epoch: 224000, Loss: 1.6488234996795654, \n",
            "Epoch: 226000, Loss: 1.648693323135376, \n",
            "Epoch: 228000, Loss: 1.6485509872436523, \n",
            "Epoch: 230000, Loss: 1.6483412981033325, \n",
            "Epoch: 232000, Loss: 1.6477810144424438, \n",
            "Epoch: 234000, Loss: 1.6472326517105103, \n",
            "Epoch: 236000, Loss: 1.646828055381775, \n",
            "Epoch: 238000, Loss: 1.646507978439331, \n",
            "Epoch: 240000, Loss: 1.6462481021881104, \n",
            "Epoch: 242000, Loss: 1.6460319757461548, \n",
            "Epoch: 244000, Loss: 1.6458451747894287, \n",
            "Epoch: 246000, Loss: 1.645675778388977, \n",
            "Epoch: 248000, Loss: 1.6455175876617432, \n",
            "Epoch: 250000, Loss: 1.6453620195388794, \n",
            "Epoch: 252000, Loss: 1.6451963186264038, \n",
            "Epoch: 254000, Loss: 1.6450024843215942, \n",
            "Epoch: 256000, Loss: 1.644780158996582, \n",
            "Epoch: 258000, Loss: 1.644560694694519, \n",
            "Epoch: 260000, Loss: 1.6443477869033813, \n",
            "Epoch: 262000, Loss: 1.6441470384597778, \n",
            "Epoch: 264000, Loss: 1.643953800201416, \n",
            "Epoch: 266000, Loss: 1.6437735557556152, \n",
            "Epoch: 268000, Loss: 1.6436076164245605, \n",
            "Epoch: 270000, Loss: 1.6434532403945923, \n",
            "Epoch: 272000, Loss: 1.6433038711547852, \n",
            "Epoch: 274000, Loss: 1.6431635618209839, \n",
            "Epoch: 276000, Loss: 1.6430282592773438, \n",
            "Epoch: 278000, Loss: 1.6428978443145752, \n",
            "Epoch: 280000, Loss: 1.642769694328308, \n",
            "Epoch: 282000, Loss: 1.6426478624343872, \n",
            "Epoch: 284000, Loss: 1.6425261497497559, \n",
            "Epoch: 286000, Loss: 1.6424039602279663, \n",
            "Epoch: 288000, Loss: 1.6422789096832275, \n",
            "Epoch: 290000, Loss: 1.6421444416046143, \n",
            "Epoch: 292000, Loss: 1.6419802904129028, \n",
            "Epoch: 294000, Loss: 1.6417603492736816, \n",
            "Epoch: 296000, Loss: 1.6415252685546875, \n",
            "Epoch: 298000, Loss: 1.641326665878296, \n",
            "Epoch: 300000, Loss: 1.6411656141281128, \n",
            "Epoch: 302000, Loss: 1.6410290002822876, \n",
            "Epoch: 304000, Loss: 1.6409064531326294, \n",
            "Epoch: 306000, Loss: 1.6407965421676636, \n",
            "Epoch: 308000, Loss: 1.6406939029693604, \n",
            "Epoch: 310000, Loss: 1.6405969858169556, \n",
            "Epoch: 312000, Loss: 1.6405085325241089, \n",
            "Epoch: 314000, Loss: 1.6404210329055786, \n",
            "Epoch: 316000, Loss: 1.6403371095657349, \n",
            "Epoch: 318000, Loss: 1.6402581930160522, \n",
            "Epoch: 320000, Loss: 1.6401803493499756, \n",
            "Epoch: 322000, Loss: 1.640108585357666, \n",
            "Epoch: 324000, Loss: 1.6400370597839355, \n",
            "Epoch: 326000, Loss: 1.639967918395996, \n",
            "Epoch: 328000, Loss: 1.6398991346359253, \n",
            "Epoch: 330000, Loss: 1.639832615852356, \n",
            "Epoch: 332000, Loss: 1.6397682428359985, \n",
            "Epoch: 334000, Loss: 1.6397029161453247, \n",
            "Epoch: 336000, Loss: 1.6396433115005493, \n",
            "Epoch: 338000, Loss: 1.6395810842514038, \n",
            "Epoch: 340000, Loss: 1.6395238637924194, \n",
            "Epoch: 342000, Loss: 1.639462947845459, \n",
            "Epoch: 344000, Loss: 1.6394058465957642, \n",
            "Epoch: 346000, Loss: 1.6393471956253052, \n",
            "Epoch: 348000, Loss: 1.6392914056777954, \n",
            "Epoch: 350000, Loss: 1.6392384767532349, \n",
            "Epoch: 352000, Loss: 1.6391825675964355, \n",
            "Epoch: 354000, Loss: 1.6391303539276123, \n",
            "Epoch: 356000, Loss: 1.639075517654419, \n",
            "Epoch: 358000, Loss: 1.6390254497528076, \n",
            "Epoch: 360000, Loss: 1.638972282409668, \n",
            "Epoch: 362000, Loss: 1.6389230489730835, \n",
            "Epoch: 364000, Loss: 1.6388732194900513, \n",
            "Epoch: 366000, Loss: 1.6388238668441772, \n",
            "Epoch: 368000, Loss: 1.6387752294540405, \n",
            "Epoch: 370000, Loss: 1.6387282609939575, \n",
            "Epoch: 372000, Loss: 1.6386781930923462, \n",
            "Epoch: 374000, Loss: 1.6386321783065796, \n",
            "Epoch: 376000, Loss: 1.638586163520813, \n",
            "Epoch: 378000, Loss: 1.6385407447814941, \n",
            "Epoch: 380000, Loss: 1.638492465019226, \n",
            "Epoch: 382000, Loss: 1.6384483575820923, \n",
            "Epoch: 384000, Loss: 1.6384057998657227, \n",
            "Epoch: 386000, Loss: 1.6383590698242188, \n",
            "Epoch: 388000, Loss: 1.6383153200149536, \n",
            "Epoch: 390000, Loss: 1.6382702589035034, \n",
            "Epoch: 392000, Loss: 1.638229489326477, \n",
            "Epoch: 394000, Loss: 1.6381853818893433, \n",
            "Epoch: 396000, Loss: 1.6381434202194214, \n",
            "Epoch: 398000, Loss: 1.6381016969680786, \n",
            "Epoch: 400000, Loss: 1.638058066368103, \n",
            "Epoch: 402000, Loss: 1.6380170583724976, \n",
            "Epoch: 404000, Loss: 1.6379762887954712, \n",
            "Epoch: 406000, Loss: 1.6379342079162598, \n",
            "Epoch: 408000, Loss: 1.637894630432129, \n",
            "Epoch: 410000, Loss: 1.6378536224365234, \n",
            "Epoch: 412000, Loss: 1.6378145217895508, \n",
            "Epoch: 414000, Loss: 1.637772798538208, \n",
            "Epoch: 416000, Loss: 1.6377339363098145, \n",
            "Epoch: 418000, Loss: 1.6376934051513672, \n",
            "Epoch: 420000, Loss: 1.6376550197601318, \n",
            "Epoch: 422000, Loss: 1.6376153230667114, \n",
            "Epoch: 424000, Loss: 1.6375758647918701, \n",
            "Epoch: 426000, Loss: 1.6375373601913452, \n",
            "Epoch: 428000, Loss: 1.6374986171722412, \n",
            "Epoch: 430000, Loss: 1.6374613046646118, \n",
            "Epoch: 432000, Loss: 1.6374239921569824, \n",
            "Epoch: 434000, Loss: 1.6373862028121948, \n",
            "Epoch: 436000, Loss: 1.637349009513855, \n",
            "Epoch: 438000, Loss: 1.6373122930526733, \n",
            "Epoch: 440000, Loss: 1.6372790336608887, \n",
            "Epoch: 442000, Loss: 1.6372431516647339, \n",
            "Epoch: 444000, Loss: 1.637206792831421, \n",
            "Epoch: 446000, Loss: 1.6371726989746094, \n",
            "Epoch: 448000, Loss: 1.6371371746063232, \n",
            "Epoch: 450000, Loss: 1.6371018886566162, \n",
            "Epoch: 452000, Loss: 1.6370651721954346, \n",
            "Epoch: 454000, Loss: 1.6370333433151245, \n",
            "Epoch: 456000, Loss: 1.6369997262954712, \n",
            "Epoch: 458000, Loss: 1.6369638442993164, \n",
            "Epoch: 460000, Loss: 1.636932134628296, \n",
            "Epoch: 462000, Loss: 1.6368985176086426, \n",
            "Epoch: 464000, Loss: 1.636865258216858, \n",
            "Epoch: 466000, Loss: 1.6368330717086792, \n",
            "Epoch: 468000, Loss: 1.6367994546890259, \n",
            "Epoch: 470000, Loss: 1.6367663145065308, \n",
            "Epoch: 472000, Loss: 1.6367348432540894, \n",
            "Epoch: 474000, Loss: 1.6367032527923584, \n",
            "Epoch: 476000, Loss: 1.6366711854934692, \n",
            "Epoch: 478000, Loss: 1.6366417407989502, \n",
            "Epoch: 480000, Loss: 1.6366078853607178, \n",
            "Epoch: 482000, Loss: 1.636576771736145, \n",
            "Epoch: 484000, Loss: 1.6365454196929932, \n",
            "Epoch: 486000, Loss: 1.6365162134170532, \n",
            "Epoch: 488000, Loss: 1.6364856958389282, \n",
            "Epoch: 490000, Loss: 1.6364542245864868, \n",
            "Epoch: 492000, Loss: 1.636423110961914, \n",
            "Epoch: 494000, Loss: 1.6363924741744995, \n",
            "Epoch: 496000, Loss: 1.6363639831542969, \n",
            "Epoch: 498000, Loss: 1.6363343000411987, \n",
            "Epoch: 500000, Loss: 1.6363047361373901, \n",
            "Epoch: 502000, Loss: 1.6362738609313965, \n",
            "Epoch: 504000, Loss: 1.636245846748352, \n",
            "Epoch: 506000, Loss: 1.6362175941467285, \n",
            "Epoch: 508000, Loss: 1.6361879110336304, \n",
            "Epoch: 510000, Loss: 1.6361596584320068, \n",
            "Epoch: 512000, Loss: 1.63612961769104, \n",
            "Epoch: 514000, Loss: 1.6361018419265747, \n",
            "Epoch: 516000, Loss: 1.6360726356506348, \n",
            "Epoch: 518000, Loss: 1.6360442638397217, \n",
            "Epoch: 520000, Loss: 1.636016607284546, \n",
            "Epoch: 522000, Loss: 1.6359881162643433, \n",
            "Epoch: 524000, Loss: 1.6359612941741943, \n",
            "Epoch: 526000, Loss: 1.6359319686889648, \n",
            "Epoch: 528000, Loss: 1.635904312133789, \n",
            "Epoch: 530000, Loss: 1.635875940322876, \n",
            "Epoch: 532000, Loss: 1.6358493566513062, \n",
            "Epoch: 534000, Loss: 1.6358211040496826, \n",
            "Epoch: 536000, Loss: 1.635796070098877, \n",
            "Epoch: 538000, Loss: 1.635766625404358, \n",
            "Epoch: 540000, Loss: 1.6357392072677612, \n",
            "Epoch: 542000, Loss: 1.635712742805481, \n",
            "Epoch: 544000, Loss: 1.6356858015060425, \n",
            "Epoch: 546000, Loss: 1.6356576681137085, \n",
            "Epoch: 548000, Loss: 1.6356314420700073, \n",
            "Epoch: 550000, Loss: 1.635603666305542, \n",
            "Epoch: 552000, Loss: 1.635576844215393, \n",
            "Epoch: 554000, Loss: 1.6355494260787964, \n",
            "Epoch: 556000, Loss: 1.6355241537094116, \n",
            "Epoch: 558000, Loss: 1.6354966163635254, \n",
            "Epoch: 560000, Loss: 1.6354694366455078, \n",
            "Epoch: 562000, Loss: 1.6354423761367798, \n",
            "Epoch: 564000, Loss: 1.635417103767395, \n",
            "Epoch: 566000, Loss: 1.6353894472122192, \n",
            "Epoch: 568000, Loss: 1.6353631019592285, \n",
            "Epoch: 570000, Loss: 1.635335922241211, \n",
            "Epoch: 572000, Loss: 1.635308861732483, \n",
            "Epoch: 574000, Loss: 1.6352832317352295, \n",
            "Epoch: 576000, Loss: 1.6352568864822388, \n",
            "Epoch: 578000, Loss: 1.6352323293685913, \n",
            "Epoch: 580000, Loss: 1.6352061033248901, \n",
            "Epoch: 582000, Loss: 1.635178804397583, \n",
            "Epoch: 584000, Loss: 1.6351522207260132, \n",
            "Epoch: 586000, Loss: 1.635127305984497, \n",
            "Epoch: 588000, Loss: 1.6351025104522705, \n",
            "Epoch: 590000, Loss: 1.6350750923156738, \n",
            "Epoch: 592000, Loss: 1.6350500583648682, \n",
            "Epoch: 594000, Loss: 1.6350257396697998, \n",
            "Epoch: 596000, Loss: 1.635000467300415, \n",
            "Epoch: 598000, Loss: 1.6349751949310303, \n",
            "Epoch: 600000, Loss: 1.634950876235962, \n",
            "Epoch: 602000, Loss: 1.6349226236343384, \n",
            "Epoch: 604000, Loss: 1.6348992586135864, \n",
            "Epoch: 606000, Loss: 1.6348742246627808, \n",
            "Epoch: 608000, Loss: 1.6348505020141602, \n",
            "Epoch: 610000, Loss: 1.63482666015625, \n",
            "Epoch: 612000, Loss: 1.6347994804382324, \n",
            "Epoch: 614000, Loss: 1.6347742080688477, \n",
            "Epoch: 616000, Loss: 1.6347512006759644, \n",
            "Epoch: 618000, Loss: 1.6347270011901855, \n",
            "Epoch: 620000, Loss: 1.634702205657959, \n",
            "Epoch: 622000, Loss: 1.6346787214279175, \n",
            "Epoch: 624000, Loss: 1.6346529722213745, \n",
            "Epoch: 626000, Loss: 1.6346291303634644, \n",
            "Epoch: 628000, Loss: 1.6346055269241333, \n",
            "Epoch: 630000, Loss: 1.6345816850662231, \n",
            "Epoch: 632000, Loss: 1.6345559358596802, \n",
            "Epoch: 634000, Loss: 1.634534478187561, \n",
            "Epoch: 636000, Loss: 1.6345089673995972, \n",
            "Epoch: 638000, Loss: 1.6344835758209229, \n",
            "Epoch: 640000, Loss: 1.6344586610794067, \n",
            "Epoch: 642000, Loss: 1.634433627128601, \n",
            "Epoch: 644000, Loss: 1.6344081163406372, \n",
            "Epoch: 646000, Loss: 1.6343846321105957, \n",
            "Epoch: 648000, Loss: 1.6343590021133423, \n",
            "Epoch: 650000, Loss: 1.6343339681625366, \n",
            "Epoch: 652000, Loss: 1.63430917263031, \n",
            "Epoch: 654000, Loss: 1.6342846155166626, \n",
            "Epoch: 656000, Loss: 1.634260892868042, \n",
            "Epoch: 658000, Loss: 1.6342359781265259, \n",
            "Epoch: 660000, Loss: 1.6342103481292725, \n",
            "Epoch: 662000, Loss: 1.634186863899231, \n",
            "Epoch: 664000, Loss: 1.6341638565063477, \n",
            "Epoch: 666000, Loss: 1.6341391801834106, \n",
            "Epoch: 668000, Loss: 1.634115219116211, \n",
            "Epoch: 670000, Loss: 1.6340919733047485, \n",
            "Epoch: 672000, Loss: 1.6340669393539429, \n",
            "Epoch: 674000, Loss: 1.6340445280075073, \n",
            "Epoch: 676000, Loss: 1.6340203285217285, \n",
            "Epoch: 678000, Loss: 1.6339988708496094, \n",
            "Epoch: 680000, Loss: 1.633975625038147, \n",
            "Epoch: 682000, Loss: 1.6339524984359741, \n",
            "Epoch: 684000, Loss: 1.6339298486709595, \n",
            "Epoch: 686000, Loss: 1.6339073181152344, \n",
            "Epoch: 688000, Loss: 1.6338858604431152, \n",
            "Epoch: 690000, Loss: 1.6338626146316528, \n",
            "Epoch: 692000, Loss: 1.6338403224945068, \n",
            "Epoch: 694000, Loss: 1.6338189840316772, \n",
            "Epoch: 696000, Loss: 1.6337968111038208, \n",
            "Epoch: 698000, Loss: 1.6337741613388062, \n",
            "Epoch: 700000, Loss: 1.6337546110153198, \n",
            "Epoch: 702000, Loss: 1.6337318420410156, \n",
            "Epoch: 704000, Loss: 1.633711814880371, \n",
            "Epoch: 706000, Loss: 1.6336874961853027, \n",
            "Epoch: 708000, Loss: 1.633666753768921, \n",
            "Epoch: 710000, Loss: 1.63364577293396, \n",
            "Epoch: 712000, Loss: 1.6336256265640259, \n",
            "Epoch: 714000, Loss: 1.6336026191711426, \n",
            "Epoch: 716000, Loss: 1.6335811614990234, \n",
            "Epoch: 718000, Loss: 1.6335606575012207, \n",
            "Epoch: 720000, Loss: 1.6335397958755493, \n",
            "Epoch: 722000, Loss: 1.6335195302963257, \n",
            "Epoch: 724000, Loss: 1.633500099182129, \n",
            "Epoch: 726000, Loss: 1.633479118347168, \n",
            "Epoch: 728000, Loss: 1.6334588527679443, \n",
            "Epoch: 730000, Loss: 1.6334372758865356, \n",
            "Epoch: 732000, Loss: 1.6334160566329956, \n",
            "Epoch: 734000, Loss: 1.633397102355957, \n",
            "Epoch: 736000, Loss: 1.633378267288208, \n",
            "Epoch: 738000, Loss: 1.6333580017089844, \n",
            "Epoch: 740000, Loss: 1.6333386898040771, \n",
            "Epoch: 742000, Loss: 1.633319616317749, \n",
            "Epoch: 744000, Loss: 1.633298397064209, \n",
            "Epoch: 746000, Loss: 1.6332788467407227, \n",
            "Epoch: 748000, Loss: 1.6332578659057617, \n",
            "Epoch: 750000, Loss: 1.6332392692565918, \n",
            "Epoch: 752000, Loss: 1.6332205533981323, \n",
            "Epoch: 754000, Loss: 1.6332011222839355, \n",
            "Epoch: 756000, Loss: 1.6331835985183716, \n",
            "Epoch: 758000, Loss: 1.633164644241333, \n",
            "Epoch: 760000, Loss: 1.6331429481506348, \n",
            "Epoch: 762000, Loss: 1.6331253051757812, \n",
            "Epoch: 764000, Loss: 1.6331077814102173, \n",
            "Epoch: 766000, Loss: 1.633087396621704, \n",
            "Epoch: 768000, Loss: 1.6330698728561401, \n",
            "Epoch: 770000, Loss: 1.6330492496490479, \n",
            "Epoch: 772000, Loss: 1.633031964302063, \n",
            "Epoch: 774000, Loss: 1.633012056350708, \n",
            "Epoch: 776000, Loss: 1.6329938173294067, \n",
            "Epoch: 778000, Loss: 1.6329758167266846, \n",
            "Epoch: 780000, Loss: 1.6329578161239624, \n",
            "Epoch: 782000, Loss: 1.6329386234283447, \n",
            "Epoch: 784000, Loss: 1.6329203844070435, \n",
            "Epoch: 786000, Loss: 1.6329013109207153, \n",
            "Epoch: 788000, Loss: 1.6328842639923096, \n",
            "Epoch: 790000, Loss: 1.632865071296692, \n",
            "Epoch: 792000, Loss: 1.6328480243682861, \n",
            "Epoch: 794000, Loss: 1.632828950881958, \n",
            "Epoch: 796000, Loss: 1.6328126192092896, \n",
            "Epoch: 798000, Loss: 1.6327941417694092, \n",
            "Epoch: 800000, Loss: 1.6327770948410034, \n",
            "Epoch: 802000, Loss: 1.632758617401123, \n",
            "Epoch: 804000, Loss: 1.6327415704727173, \n",
            "Epoch: 806000, Loss: 1.632725477218628, \n",
            "Epoch: 808000, Loss: 1.6327075958251953, \n",
            "Epoch: 810000, Loss: 1.6326887607574463, \n",
            "Epoch: 812000, Loss: 1.6326713562011719, \n",
            "Epoch: 814000, Loss: 1.6326550245285034, \n",
            "Epoch: 816000, Loss: 1.632636308670044, \n",
            "Epoch: 818000, Loss: 1.6326191425323486, \n",
            "Epoch: 820000, Loss: 1.632603406906128, \n",
            "Epoch: 822000, Loss: 1.6325862407684326, \n",
            "Epoch: 824000, Loss: 1.6325669288635254, \n",
            "Epoch: 826000, Loss: 1.6325514316558838, \n",
            "Epoch: 828000, Loss: 1.6325349807739258, \n",
            "Epoch: 830000, Loss: 1.6325163841247559, \n",
            "Epoch: 832000, Loss: 1.6324998140335083, \n",
            "Epoch: 834000, Loss: 1.6324830055236816, \n",
            "Epoch: 836000, Loss: 1.6324671506881714, \n",
            "Epoch: 838000, Loss: 1.6324515342712402, \n",
            "Epoch: 840000, Loss: 1.6324337720870972, \n",
            "Epoch: 842000, Loss: 1.6324173212051392, \n",
            "Epoch: 844000, Loss: 1.6324012279510498, \n",
            "Epoch: 846000, Loss: 1.6323853731155396, \n",
            "Epoch: 848000, Loss: 1.6323679685592651, \n",
            "Epoch: 850000, Loss: 1.6323522329330444, \n",
            "Epoch: 852000, Loss: 1.6323354244232178, \n",
            "Epoch: 854000, Loss: 1.6323198080062866, \n",
            "Epoch: 856000, Loss: 1.6323038339614868, \n",
            "Epoch: 858000, Loss: 1.6322869062423706, \n",
            "Epoch: 860000, Loss: 1.6322722434997559, \n",
            "Epoch: 862000, Loss: 1.6322548389434814, \n",
            "Epoch: 864000, Loss: 1.6322396993637085, \n",
            "Epoch: 866000, Loss: 1.6322250366210938, \n",
            "Epoch: 868000, Loss: 1.632208228111267, \n",
            "Epoch: 870000, Loss: 1.6321921348571777, \n",
            "Epoch: 872000, Loss: 1.632175087928772, \n",
            "Epoch: 874000, Loss: 1.63215970993042, \n",
            "Epoch: 876000, Loss: 1.6321443319320679, \n",
            "Epoch: 878000, Loss: 1.6321295499801636, \n",
            "Epoch: 880000, Loss: 1.632114052772522, \n",
            "Epoch: 882000, Loss: 1.6320984363555908, \n",
            "Epoch: 884000, Loss: 1.6320823431015015, \n",
            "Epoch: 886000, Loss: 1.6320669651031494, \n",
            "Epoch: 888000, Loss: 1.6320520639419556, \n",
            "Epoch: 890000, Loss: 1.6320353746414185, \n",
            "Epoch: 892000, Loss: 1.6320186853408813, \n",
            "Epoch: 894000, Loss: 1.632002830505371, \n",
            "Epoch: 896000, Loss: 1.6319866180419922, \n",
            "Epoch: 898000, Loss: 1.6319732666015625, \n",
            "Epoch: 900000, Loss: 1.631957769393921, \n",
            "Epoch: 902000, Loss: 1.6319420337677002, \n",
            "Epoch: 904000, Loss: 1.6319260597229004, \n",
            "Epoch: 906000, Loss: 1.6319111585617065, \n",
            "Epoch: 908000, Loss: 1.6318961381912231, \n",
            "Epoch: 910000, Loss: 1.6318804025650024, \n",
            "Epoch: 912000, Loss: 1.631865382194519, \n",
            "Epoch: 914000, Loss: 1.631850004196167, \n",
            "Epoch: 916000, Loss: 1.631833553314209, \n",
            "Epoch: 918000, Loss: 1.631820797920227, \n",
            "Epoch: 920000, Loss: 1.6318063735961914, \n",
            "Epoch: 922000, Loss: 1.6317919492721558, \n",
            "Epoch: 924000, Loss: 1.6317765712738037, \n",
            "Epoch: 926000, Loss: 1.6317615509033203, \n",
            "Epoch: 928000, Loss: 1.6317453384399414, \n",
            "Epoch: 930000, Loss: 1.6317309141159058, \n",
            "Epoch: 932000, Loss: 1.6317152976989746, \n",
            "Epoch: 934000, Loss: 1.6317012310028076, \n",
            "Epoch: 936000, Loss: 1.6316871643066406, \n",
            "Epoch: 938000, Loss: 1.6316713094711304, \n",
            "Epoch: 940000, Loss: 1.6316558122634888, \n",
            "Epoch: 942000, Loss: 1.6316416263580322, \n",
            "Epoch: 944000, Loss: 1.6316251754760742, \n",
            "Epoch: 946000, Loss: 1.6316099166870117, \n",
            "Epoch: 948000, Loss: 1.6315972805023193, \n",
            "Epoch: 950000, Loss: 1.6315832138061523, \n",
            "Epoch: 952000, Loss: 1.6315680742263794, \n",
            "Epoch: 954000, Loss: 1.6315536499023438, \n",
            "Epoch: 956000, Loss: 1.6315380334854126, \n",
            "Epoch: 958000, Loss: 1.6315231323242188, \n",
            "Epoch: 960000, Loss: 1.6315090656280518, \n",
            "Epoch: 962000, Loss: 1.631494164466858, \n",
            "Epoch: 964000, Loss: 1.631480097770691, \n",
            "Epoch: 966000, Loss: 1.6314657926559448, \n",
            "Epoch: 968000, Loss: 1.631450891494751, \n",
            "Epoch: 970000, Loss: 1.6314369440078735, \n",
            "Epoch: 972000, Loss: 1.6314233541488647, \n",
            "Epoch: 974000, Loss: 1.63140869140625, \n",
            "Epoch: 976000, Loss: 1.6313934326171875, \n",
            "Epoch: 978000, Loss: 1.631380558013916, \n",
            "Epoch: 980000, Loss: 1.6313673257827759, \n",
            "Epoch: 982000, Loss: 1.6313514709472656, \n",
            "Epoch: 984000, Loss: 1.6313380002975464, \n",
            "Epoch: 986000, Loss: 1.631324052810669, \n",
            "Epoch: 988000, Loss: 1.6313087940216064, \n",
            "Epoch: 990000, Loss: 1.6312958002090454, \n",
            "Epoch: 992000, Loss: 1.6312817335128784, \n",
            "Epoch: 994000, Loss: 1.631266713142395, \n",
            "Epoch: 996000, Loss: 1.6312516927719116, \n",
            "Epoch: 998000, Loss: 1.6312378644943237, \n",
            "Epoch: 1000000, Loss: 1.6312240362167358, \n"
          ],
          "name": "stdout"
        }
      ]
    },
    {
      "cell_type": "code",
      "metadata": {
        "colab_type": "code",
        "outputId": "4abd8763-ee46-4a43-fbb6-cd0f5802053d",
        "id": "-IJ4uLt-1TQ-",
        "colab": {
          "base_uri": "https://localhost:8080/",
          "height": 34
        }
      },
      "source": [
        "performance(test_x, test_y, vowel_model_extra_layer_long)"
      ],
      "execution_count": 203,
      "outputs": [
        {
          "output_type": "stream",
          "text": [
            "0.4777777777777778\n"
          ],
          "name": "stdout"
        }
      ]
    },
    {
      "cell_type": "markdown",
      "metadata": {
        "id": "bWCsqCffGFa8",
        "colab_type": "text"
      },
      "source": [
        "At this point, I tried looking into what was happening. For instance, am I overfitting the training set? Underfitting? I wasn't sure. It seems that continuing to train is working. It's just a very slow process. \n",
        "\n",
        "Then, I reached out to the instructor (Joe Barker) who tipped me off on a different idea of accuracy:\n",
        "\n",
        "> Accuracy for multi-class predictions is an odd thing.\n",
        ">\n",
        "> Consider the flip-a-coin/roll-a-dice (random) classifier. (Let us assume even distribution of outputs.) For a 2-class problem, for when we flip the coin, one out of two possible outcomes is the correct answer. So we would expect to get 50% accuracy (25% correct, 25% wrong for each class). For this example, 45% accuracy would be pretty bad (so bad that there's almost certainly something wrong with the algorithm, if random guessing is expected to do better).\n",
        ">\n",
        "> But for the lab's 9-class problem, then when we roll our 9-sided dice, only one out of nine possible outcomes is the correct answer. Thus we would expect ~11% accuracy. So compared to random guessing, 45% accuracy is actually pretty good.\n",
        ">\n",
        "> We can take this further by turning the 9-class classifier into a binary classifier. That is, use the ability to answer \"What class is it?\" to now answer \"Is it class X or not?\"\n",
        ">\n",
        "> Consider the random classifier case. Note first of all, our outputs are no longer evenly spread. Only 1/9th of our outputs are class X and 8/9ths are not class X. So we have to consider both cases separately. So, ~11% of the time it is class X, and of that, we expect to correctly roll class X ~11% of the time. And ~89% of the time it is not class X, and of that, we expect to roll something other than class X ~89% of the time. Thus our overall expected accuracy is 11%*11%+89%*89% = ~80%. (Much higher than 11%, though a bit misleading.)\n",
        ">\n",
        "> If you did something similar with your classifier and used it to evaluate each vowel class separately, I bet you would get accuracies much more to your liking...\n",
        "\n",
        "That's when I recalled the idea of precision and recall. Instead of measuring overall accuracy, I should be thinking about the distribution of performance for different classes. As a result, I decided to write some new code to measure performance of each vowel class individually.\n",
        "\n",
        "Rather than write my own confusion matrix code, I found an article which discusses this topic in more detail (https://towardsdatascience.com/multi-class-metrics-made-simple-part-i-precision-and-recall-9250280bddc2), and it points to a nice library in sklearn which can help out:"
      ]
    },
    {
      "cell_type": "code",
      "metadata": {
        "id": "yXk1xZOU2_BE",
        "colab_type": "code",
        "colab": {}
      },
      "source": [
        "def get_predictions(model, test_x):\n",
        "  pred_y = []\n",
        "  for data_point in test_x:\n",
        "    y_hat = model(data_point).view(1, -1)\n",
        "    _, predicted = torch.max(y_hat.data, 1)\n",
        "    pred_y.append(predicted.numpy()[0])\n",
        "  return pred_y"
      ],
      "execution_count": 0,
      "outputs": []
    },
    {
      "cell_type": "code",
      "metadata": {
        "id": "cUchyZSUAOYx",
        "colab_type": "code",
        "colab": {}
      },
      "source": [
        "from sklearn import metrics\n",
        "def report(model, test_x, test_y):\n",
        "  pred_y = get_predictions(model, test_x)\n",
        "  true_y = test_y.view(-1).numpy()\n",
        "  print(metrics.classification_report(true_y, pred_y, digits=3, zero_division=0))\n",
        "  #print(np.sum(pred_y == true_y) / len(pred_y))"
      ],
      "execution_count": 0,
      "outputs": []
    },
    {
      "cell_type": "code",
      "metadata": {
        "id": "gMJCGf1_8InK",
        "colab_type": "code",
        "colab": {
          "base_uri": "https://localhost:8080/",
          "height": 1000
        },
        "outputId": "63c30be4-017f-47f8-9825-d2ae97e740c9"
      },
      "source": [
        "report(vowel_model, test_x, test_y)\n",
        "report(vowel_model_batch, test_x, test_y)\n",
        "report(vowel_model_200, test_x, test_y)\n",
        "report(vowel_model_extra_layer, test_x, test_y)\n",
        "report(vowel_model_extra_layer_long, test_x, test_y)"
      ],
      "execution_count": 208,
      "outputs": [
        {
          "output_type": "stream",
          "text": [
            "              precision    recall  f1-score   support\n",
            "\n",
            "           0      0.000     0.000     0.000        49\n",
            "           1      0.632     0.716     0.671        67\n",
            "           2      0.000     0.000     0.000        27\n",
            "           3      0.000     0.000     0.000        61\n",
            "           4      0.000     0.000     0.000        97\n",
            "           5      0.000     0.000     0.000        72\n",
            "           6      1.000     0.078     0.144       116\n",
            "           7      0.000     0.000     0.000       224\n",
            "           8      0.130     0.969     0.229        97\n",
            "\n",
            "    accuracy                          0.186       810\n",
            "   macro avg      0.196     0.196     0.116       810\n",
            "weighted avg      0.211     0.186     0.104       810\n",
            "\n",
            "              precision    recall  f1-score   support\n",
            "\n",
            "           0      0.000     0.000     0.000        49\n",
            "           1      0.000     0.000     0.000        67\n",
            "           2      0.000     0.000     0.000        27\n",
            "           3      0.000     0.000     0.000        61\n",
            "           4      0.029     0.186     0.051        97\n",
            "           5      0.000     0.000     0.000        72\n",
            "           6      0.297     0.353     0.323       116\n",
            "           7      0.000     0.000     0.000       224\n",
            "           8      0.000     0.000     0.000        97\n",
            "\n",
            "    accuracy                          0.073       810\n",
            "   macro avg      0.036     0.060     0.041       810\n",
            "weighted avg      0.046     0.073     0.052       810\n",
            "\n",
            "              precision    recall  f1-score   support\n",
            "\n",
            "           0      0.000     0.000     0.000        49\n",
            "           1      0.957     0.328     0.489        67\n",
            "           2      0.000     0.000     0.000        27\n",
            "           3      0.000     0.000     0.000        61\n",
            "           4      0.000     0.000     0.000        97\n",
            "           5      0.000     0.000     0.000        72\n",
            "           6      1.000     0.034     0.067       116\n",
            "           7      0.285     0.996     0.443       224\n",
            "           8      0.000     0.000     0.000        97\n",
            "\n",
            "    accuracy                          0.307       810\n",
            "   macro avg      0.249     0.151     0.111       810\n",
            "weighted avg      0.301     0.307     0.172       810\n",
            "\n",
            "              precision    recall  f1-score   support\n",
            "\n",
            "           0      0.000     0.000     0.000        49\n",
            "           1      0.283     0.985     0.440        67\n",
            "           2      0.000     0.000     0.000        27\n",
            "           3      0.500     0.754     0.601        61\n",
            "           4      0.457     0.598     0.518        97\n",
            "           5      0.195     0.306     0.238        72\n",
            "           6      0.188     0.207     0.197       116\n",
            "           7      0.000     0.000     0.000       224\n",
            "           8      0.400     0.412     0.406        97\n",
            "\n",
            "    accuracy                          0.316       810\n",
            "   macro avg      0.225     0.362     0.267       810\n",
            "weighted avg      0.208     0.316     0.242       810\n",
            "\n",
            "              precision    recall  f1-score   support\n",
            "\n",
            "           0      0.321     0.184     0.234        49\n",
            "           1      0.000     0.000     0.000        67\n",
            "           2      0.000     0.000     0.000        27\n",
            "           3      0.587     0.607     0.597        61\n",
            "           4      0.401     0.773     0.528        97\n",
            "           5      0.342     0.181     0.236        72\n",
            "           6      0.234     0.216     0.224       116\n",
            "           7      0.634     0.906     0.746       224\n",
            "           8      0.373     0.258     0.305        97\n",
            "\n",
            "    accuracy                          0.478       810\n",
            "   macro avg      0.321     0.347     0.319       810\n",
            "weighted avg      0.396     0.478     0.418       810\n",
            "\n"
          ],
          "name": "stdout"
        }
      ]
    },
    {
      "cell_type": "markdown",
      "metadata": {
        "id": "V3580mq4xtcM",
        "colab_type": "text"
      },
      "source": [
        "At this point, I was wondering why these models keep performing so poorly for vowels 1 and 2. As a result, I think it's important to put the data set into context. "
      ]
    },
    {
      "cell_type": "code",
      "metadata": {
        "id": "aZblCpsYyAkA",
        "colab_type": "code",
        "colab": {
          "base_uri": "https://localhost:8080/",
          "height": 101
        },
        "outputId": "32b56dd0-d9ff-41d2-dca2-58eefc0a19d2"
      },
      "source": [
        "df[\"vowel\"].astype(\"category\").describe()"
      ],
      "execution_count": 226,
      "outputs": [
        {
          "output_type": "execute_result",
          "data": {
            "text/plain": [
              "count     3237\n",
              "unique       9\n",
              "top         ow\n",
              "freq       917\n",
              "Name: vowel, dtype: object"
            ]
          },
          "metadata": {
            "tags": []
          },
          "execution_count": 226
        }
      ]
    },
    {
      "cell_type": "code",
      "metadata": {
        "id": "1HE6sJz3zoiQ",
        "colab_type": "code",
        "colab": {
          "base_uri": "https://localhost:8080/",
          "height": 185
        },
        "outputId": "136e730b-8a8f-481b-bd27-aed9ace84aae"
      },
      "source": [
        "df[\"vowel\"].astype(\"category\").value_counts()"
      ],
      "execution_count": 230,
      "outputs": [
        {
          "output_type": "execute_result",
          "data": {
            "text/plain": [
              "ow    917\n",
              "iy    468\n",
              "ey    415\n",
              "uw    370\n",
              "ih    283\n",
              "ao    258\n",
              "eh    236\n",
              "ah    175\n",
              "ax    115\n",
              "Name: vowel, dtype: int64"
            ]
          },
          "metadata": {
            "tags": []
          },
          "execution_count": 230
        }
      ]
    },
    {
      "cell_type": "code",
      "metadata": {
        "id": "-hOEiczVzxin",
        "colab_type": "code",
        "colab": {
          "base_uri": "https://localhost:8080/",
          "height": 34
        },
        "outputId": "23799e72-5c4f-419a-d2d9-14633e87df43"
      },
      "source": [
        "df[\"vowel\"].astype(\"category\").cat.categories"
      ],
      "execution_count": 229,
      "outputs": [
        {
          "output_type": "execute_result",
          "data": {
            "text/plain": [
              "Index(['ah', 'ao', 'ax', 'eh', 'ey', 'ih', 'iy', 'ow', 'uw'], dtype='object')"
            ]
          },
          "metadata": {
            "tags": []
          },
          "execution_count": 229
        }
      ]
    },
    {
      "cell_type": "markdown",
      "metadata": {
        "id": "UNP_F6DfzFho",
        "colab_type": "text"
      },
      "source": [
        "Now, it makes sense why we're having so much success with 7 ('ow'); it has the most data points. Meanwhile, 2 ('ax') has terrible performance which makes sense; we only have 115 data points in the set. I'm wondering if more data would improve the performance of our model. "
      ]
    }
  ]
}