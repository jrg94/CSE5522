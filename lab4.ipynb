{
  "nbformat": 4,
  "nbformat_minor": 0,
  "metadata": {
    "colab": {
      "name": "lab4.ipynb",
      "provenance": [],
      "collapsed_sections": [],
      "include_colab_link": true
    },
    "kernelspec": {
      "name": "python3",
      "display_name": "Python 3"
    }
  },
  "cells": [
    {
      "cell_type": "markdown",
      "metadata": {
        "id": "view-in-github",
        "colab_type": "text"
      },
      "source": [
        "<a href=\"https://colab.research.google.com/github/jrg94/CSE5522/blob/lab4/lab4.ipynb\" target=\"_parent\"><img src=\"https://colab.research.google.com/assets/colab-badge.svg\" alt=\"Open In Colab\"/></a>"
      ]
    },
    {
      "cell_type": "markdown",
      "metadata": {
        "id": "5uQ78FQhx29R",
        "colab_type": "text"
      },
      "source": [
        "# Perceptron Learning\n",
        "\n",
        "**Overview**\n",
        "\n",
        "The perceptron learning rule is a simple method for training a linear classifier.\n",
        "\n",
        "The basic idea is: when you classify something incorrectly, move the linear classifier a bit in a way that updates the boundary line.  This is related to the gradient descent algorithm used for linear regression.\n",
        "\n",
        "In the first part of the exercise, you will learn the \"and\" function to show the basic operation of the PLR, and in the second you'll try to classify some vowels.\n",
        "\n",
        "There is an optional part to play around with PyTorch, a toolkit that can be used to quickly learn neural networks.  I'll provide a quick walkthrough for learning the XOR problem (based on some code from U. Washington); see if you can adapt this to the vowel classification problem.\n",
        "\n",
        "Note: you may want to change your runtime type to GPU/TPU to speed up computation if you go to PyTorch.\n",
        "\n"
      ]
    },
    {
      "cell_type": "markdown",
      "metadata": {
        "id": "i3ESV2lnTNfG",
        "colab_type": "text"
      },
      "source": [
        "## **Part 1**\n",
        "\n",
        "In the first part of the hands-on, you'll code the Perceptron Learning Rule (PLR) algorithm."
      ]
    },
    {
      "cell_type": "code",
      "metadata": {
        "id": "BnYO6oisBzPQ",
        "colab_type": "code",
        "outputId": "c56d7bd5-429d-4f0d-d840-a7ff50509d5a",
        "colab": {
          "base_uri": "https://localhost:8080/",
          "height": 265
        }
      },
      "source": [
        "# set up some preliminaries\n",
        "\n",
        "import numpy as np\n",
        "import matplotlib.pyplot as plt\n",
        "\n",
        "# set classification data for \"and\"\n",
        "data=np.array([[0,0],[0,1],[1,0],[1,1]])\n",
        "targets=np.array([0,0,0,1])\n",
        "bias=-1\n",
        "\n",
        "# set some initial weights : w1, w2, bias\n",
        "weights_init=np.array([-1,1,0.5])\n",
        "\n",
        "# here is a function for plotting both the dataset and the current decision\n",
        "# boundary, with errors in red\n",
        "def plotgraph(data,targets,weights):\n",
        "  classification=(np.sign(np.dot(np.hstack((data,np.ones((data.shape[0],1))*bias)),weights))+1)/2\n",
        "\n",
        "  plt.plot(data[np.logical_and(targets==1,classification==1),0],\n",
        "           data[np.logical_and(targets==1,classification==1),1],'bo')\n",
        "  plt.plot(data[np.logical_and(targets==1,classification==0),0],\n",
        "           data[np.logical_and(targets==1,classification==0),1],'ro')\n",
        "  plt.plot(data[np.logical_and(targets==0,classification==1),0],\n",
        "           data[np.logical_and(targets==0,classification==1),1],'rx')\n",
        "  plt.plot(data[np.logical_and(targets==0,classification==0),0],\n",
        "           data[np.logical_and(targets==0,classification==0),1],'bx')\n",
        "\n",
        "  # note weights are in form w_1*x + w_2*y + w_b = 0\n",
        "  # so to plot line we need y= -(w_1*x + w_b)/(w_2)\n",
        "  dmin=np.min(data[:,0])\n",
        "  dmax=np.max(data[:,0])\n",
        "  plt.plot(np.array([dmin,dmax]),\n",
        "           np.array([-(dmin*weights[0]+weights[2]*bias)/(weights[1]),\n",
        "                     -(dmax*weights[0]+weights[2]*bias)/(weights[1])]),\n",
        "           'b--'\n",
        "           )\n",
        "\n",
        "\n",
        "#Plot the current situation.  Red items are misclassified, blue\n",
        "#correctly classified. x=0, circle=1.\n",
        "plotgraph(data,targets,weights_init)\n"
      ],
      "execution_count": 477,
      "outputs": [
        {
          "output_type": "display_data",
          "data": {
            "image/png": "[encoded data removed]",
            "text/plain": [
              "<Figure size 432x288 with 1 Axes>"
            ]
          },
          "metadata": {
            "tags": []
          }
        }
      ]
    },
    {
      "cell_type": "markdown",
      "metadata": {
        "id": "hpBjACAdzlG0",
        "colab_type": "text"
      },
      "source": [
        "**1.1** This is where you will need to code the perceptron learning algorithm.\n",
        "\n",
        "You should assume that the nonlinear function is a step function that outputs 1 if the input is greater than 0, and 0 otherwise.\n",
        "\n",
        "Note that I had a sign bug in the slides.  The error should be the difference between the output and target (i.e. if output is 1 and target is 0, the error is 1).  \n",
        "\n",
        "Remember that there should be a bias.  You can choose to define the fixed bias as -1 (as traditionally done) or 1.  Note if you change the bias you may need to pay attention to the plotting function above.\n",
        "\n",
        "The function should return the updated weight vector.  "
      ]
    },
    {
      "cell_type": "code",
      "metadata": {
        "id": "UZEDDtyaAE-B",
        "colab_type": "code",
        "colab": {}
      },
      "source": [
        "def plr(weights, example, target, learningrate):\n",
        "  # compute weight update\n",
        "  # return updated weights\n",
        "  example_with_bias = np.append(example, bias)\n",
        "  # weights[0] * example[0] + weights[1] * example[1] + weights[2] * bias\n",
        "  g = np.sum(weights * example_with_bias)\n",
        "  output = 1 if g > 0 else 0\n",
        "  error = output - target\n",
        "  return weights - learningrate * error * example_with_bias"
      ],
      "execution_count": 0,
      "outputs": []
    },
    {
      "cell_type": "markdown",
      "metadata": {
        "id": "CKLlwQtH1dO9",
        "colab_type": "text"
      },
      "source": [
        "**1.2** The following function will randomize your training examples, and run the PLR for each example."
      ]
    },
    {
      "cell_type": "code",
      "metadata": {
        "id": "K9u9zBAZ1TzX",
        "colab_type": "code",
        "colab": {}
      },
      "source": [
        "def run_epoch(weights, data, targets, learningrate):\n",
        "  nexamples=data.shape[0]\n",
        "  order=np.random.permutation(nexamples)\n",
        "  for i in range(nexamples):\n",
        "    weights=plr(weights,data[order[i]],targets[order[i]],learningrate)\n",
        "  return weights"
      ],
      "execution_count": 0,
      "outputs": []
    },
    {
      "cell_type": "markdown",
      "metadata": {
        "id": "27HN_7pb2BBi",
        "colab_type": "text"
      },
      "source": [
        "**1.3** Now write a bit of code to run through epochs until convergence."
      ]
    },
    {
      "cell_type": "code",
      "metadata": {
        "id": "JTLXmyEGPJEM",
        "colab_type": "code",
        "outputId": "407152a5-0ed0-4980-d333-276dcc6be987",
        "colab": {
          "base_uri": "https://localhost:8080/",
          "height": 84
        }
      },
      "source": [
        "print(data)"
      ],
      "execution_count": 480,
      "outputs": [
        {
          "output_type": "stream",
          "text": [
            "[[0 0]\n",
            " [0 1]\n",
            " [1 0]\n",
            " [1 1]]\n"
          ],
          "name": "stdout"
        }
      ]
    },
    {
      "cell_type": "code",
      "metadata": {
        "id": "vcsiD2m0OZUM",
        "colab_type": "code",
        "colab": {}
      },
      "source": [
        "def experiment(iterations, weights, data, targets, learningrate):\n",
        "  for _ in range(iterations):\n",
        "    weights = run_epoch(weights, data, targets, learningrate)\n",
        "  return weights"
      ],
      "execution_count": 0,
      "outputs": []
    },
    {
      "cell_type": "code",
      "metadata": {
        "id": "jnkEdM3nBEWE",
        "colab_type": "code",
        "outputId": "a7b9474d-a67b-4e73-dfe2-8a5ced719a7f",
        "colab": {
          "base_uri": "https://localhost:8080/",
          "height": 34
        }
      },
      "source": [
        "# write code to run through convergence\n",
        "# put final weights into \"finalweights\"\n",
        "LEARNING_RATE = .0111\n",
        "ITERS = 10000\n",
        "finalweights = experiment(ITERS, weights_init, data, targets, LEARNING_RATE)\n",
        "print(finalweights)"
      ],
      "execution_count": 482,
      "outputs": [
        {
          "output_type": "stream",
          "text": [
            "[0.0212 0.7447 0.7553]\n"
          ],
          "name": "stdout"
        }
      ]
    },
    {
      "cell_type": "markdown",
      "metadata": {
        "id": "Wfya2cJn2I4u",
        "colab_type": "text"
      },
      "source": [
        "**1.4** Plot the final weights to show the boundary that you have learned."
      ]
    },
    {
      "cell_type": "code",
      "metadata": {
        "id": "8fvq7bmI2HQj",
        "colab_type": "code",
        "outputId": "a0d0fece-67cc-4fae-fe0f-f89a8cc23994",
        "colab": {
          "base_uri": "https://localhost:8080/",
          "height": 265
        }
      },
      "source": [
        "plotgraph(data,targets,finalweights)"
      ],
      "execution_count": 483,
      "outputs": [
        {
          "output_type": "display_data",
          "data": {
            "image/png": "[encoded data removed]",
            "text/plain": [
              "<Figure size 432x288 with 1 Axes>"
            ]
          },
          "metadata": {
            "tags": []
          }
        }
      ]
    },
    {
      "cell_type": "markdown",
      "metadata": {
        "id": "mUrKN_-H2b4w",
        "colab_type": "text"
      },
      "source": [
        "**1.5** Optional extensions:\n",
        "\n",
        "**1.5.1** Rerun your code for the \"or\" function.\n",
        "\n",
        "**1.5.2** Modify your code to allow for the majority class function for three inputs (i.e. 1 if 2 or more inputs are on).\n",
        "\n",
        "**1.5.3** Investigate what happens if you run the \"xor\" function through the training.\n"
      ]
    },
    {
      "cell_type": "markdown",
      "metadata": {
        "id": "2d0V3Z7q22Rm",
        "colab_type": "text"
      },
      "source": [
        "## **Part 2: Vowel Classification**\n",
        "\n",
        "In this section, you will look at some actual (noisy) vowel formant data.  Go to the International Phonetic Alphabet (IPA) vowel chart at https://en.wikipedia.org/wiki/IPA_vowel_chart_with_audio and play the sounds.  The chart is written in IPA, but here are the two letter (ARPABET) symbols for some of the vowels of English:\n",
        "\n",
        "* iy: close front unrounded\n",
        "* ih: near-close front unrounded\n",
        "* ey: close-mid front unrounded\n",
        "* eh: open-mid front unrounded\n",
        "* ah: open back rounded\n",
        "* ao: open-mid back rounded\n",
        "* ow: close-mid back rounded\n",
        "* uw: close back rounded\n",
        "* ax: mid central unrounded\n",
        "\n",
        "I've prepared a csv datafile with the following features:\n",
        "\n",
        "* f1, f2: formants\n",
        "* h1: close\n",
        "* h2: near-close or higher\n",
        "* h3: close-mid or higher\n",
        "* h4: mid or higher\n",
        "* h5: open-mid or higher\n",
        "* b1: back\n",
        "* b2: central or back\n",
        "* r: rounded\n",
        "\n",
        "First, let's read in the data.\n",
        "\n"
      ]
    },
    {
      "cell_type": "code",
      "metadata": {
        "id": "9YZyTz4sBrx6",
        "colab_type": "code",
        "outputId": "501f2019-591a-47c0-a2a7-8cfed4b79373",
        "colab": {
          "base_uri": "https://localhost:8080/",
          "height": 378
        }
      },
      "source": [
        "# first, read in the data and build a scatterplot showing the vowel formants\n",
        "import pandas as pd\n",
        "url='https://raw.githubusercontent.com/efosler/cse5522data/master/vowelfmts.csv'\n",
        "df=pd.read_csv(url)\n",
        "\n",
        "# This function will plot the vowels as a scatterplot with different colors\n",
        "# using the traditional F2 vs F1 inverted plot.  This puts high (close) vowels\n",
        "# at the top of the plot and low vowels (open) at the bottom.  Front vowels\n",
        "# are to the left; back vowels to the right.  Optionally can plot a boundary.\n",
        "\n",
        "def plotvowels(df,weights=None):\n",
        "  # this next bit converts the label into a colormap value between 0 and 1\n",
        "  vowels=df['vowel'].unique()\n",
        "  vmap={}\n",
        "  for i in range(vowels.shape[0]):\n",
        "    vmap[vowels[i]]=float(i)/float(vowels.shape[0]-1)\n",
        "  df['color']=df['vowel'].map(vmap)\n",
        "  # plot the scatterplot\n",
        "  plt.figure(num=1,figsize=(6,6))\n",
        "  plt.scatter(df['f2'],df['f1'],s=1,c=df['color'],cmap='gist_rainbow')\n",
        "  plt.gca().set_ylim([100,1000])\n",
        "  plt.gca().set_xlim([750,2500])\n",
        "  plt.gca().invert_xaxis()\n",
        "  plt.gca().invert_yaxis()\n",
        "  if weights is not None:\n",
        "    dmin=df['f2'].min()\n",
        "    dmax=df['f2'].max()\n",
        "    plt.plot(np.array([dmin,dmax]),\n",
        "             np.array([-(dmin*weights[0]+weights[2])/(weights[1]),\n",
        "                       -(dmax*weights[0]+weights[2])/(weights[1])]),\n",
        "             'b--'\n",
        "             )\n",
        "\n",
        "# Plot the vowel data.  Compare against the IPA chart online.      \n",
        "plotvowels(df)"
      ],
      "execution_count": 484,
      "outputs": [
        {
          "output_type": "display_data",
          "data": {
            "image/png": "[encoded data removed]",
            "text/plain": [
              "<Figure size 432x432 with 1 Axes>"
            ]
          },
          "metadata": {
            "tags": []
          }
        }
      ]
    },
    {
      "cell_type": "markdown",
      "metadata": {
        "id": "OKy9yHIA4fgW",
        "colab_type": "text"
      },
      "source": [
        "You will notice that the vowel classes aren't linearly separable.  The idea will be to try to separate the different kinds of vowels (back/front/close/open) with different separators.\n",
        "\n",
        "**2.2** A bit of code to create training/test sets."
      ]
    },
    {
      "cell_type": "code",
      "metadata": {
        "id": "z55b8iWFBIFC",
        "colab_type": "code",
        "colab": {}
      },
      "source": [
        "from sklearn.model_selection import train_test_split\n",
        "train_data, test_data, train_targets, test_targets = train_test_split(df[['f1','f2']],df[['close','near-close+','close-mid+','mid+','open-mid+','back','central-or-back','rounded','vowel']])"
      ],
      "execution_count": 0,
      "outputs": []
    },
    {
      "cell_type": "markdown",
      "metadata": {
        "id": "SLtkJHnL4rb9",
        "colab_type": "text"
      },
      "source": [
        "**2.3** At this point, the project becomes a bit open-ended and exploratory.  What you should do is normalize F1 and F2 (perhaps it would be best to do that before the data splits, but that is your choice).  The main reason is that the bias term needs to be pretty high.\n",
        "\n",
        "Try to predict one of the targets (e.g. train_targets['central-or-back']) from the f2/f1 data.  If you can get reasonable classifiers for the 8 vowel features (h1-h5,b1,b2,r) then see if you can predict the vowel category based on the output of the classifiers.  \n",
        "\n",
        "WARNING: since your classes will not be linearly separable, you will need to NOT run to convergence (as they won't converge).  See if you can figure out a reasonable place to stop training.\n",
        "\n",
        "If you get stuck on this point, and want to try something different, move on to Part 3."
      ]
    },
    {
      "cell_type": "code",
      "metadata": {
        "id": "o_dO_JvEDi9F",
        "colab_type": "code",
        "outputId": "ab3437b6-9dda-4bcb-a8bc-84493c3dafbb",
        "colab": {
          "base_uri": "https://localhost:8080/",
          "height": 252
        }
      },
      "source": [
        "# normalize training data (borrowed from https://stackoverflow.com/questions/26414913/normalize-columns-of-pandas-data-frame)\n",
        "from sklearn import preprocessing\n",
        "x = train_data.values \n",
        "min_max_scaler = preprocessing.MinMaxScaler()\n",
        "x_scaled = min_max_scaler.fit_transform(x)\n",
        "train_data = pd.DataFrame(x_scaled)\n",
        "print(train_data)"
      ],
      "execution_count": 486,
      "outputs": [
        {
          "output_type": "stream",
          "text": [
            "             0         1\n",
            "0     0.482673  0.421160\n",
            "1     0.245720  0.177065\n",
            "2     0.229427  0.142058\n",
            "3     0.423654  0.713156\n",
            "4     0.032207  0.131238\n",
            "...        ...       ...\n",
            "2422  0.311477  0.520500\n",
            "2423  0.306352  0.185700\n",
            "2424  0.037100  0.140979\n",
            "2425  0.574277  0.352759\n",
            "2426  0.257888  0.831397\n",
            "\n",
            "[2427 rows x 2 columns]\n"
          ],
          "name": "stdout"
        }
      ]
    },
    {
      "cell_type": "code",
      "metadata": {
        "id": "SfZO4CdrQeP0",
        "colab_type": "code",
        "outputId": "a3935d21-6c04-4108-9177-e11a6b93b8c8",
        "colab": {
          "base_uri": "https://localhost:8080/",
          "height": 67
        }
      },
      "source": [
        "print(train_targets.columns)"
      ],
      "execution_count": 487,
      "outputs": [
        {
          "output_type": "stream",
          "text": [
            "Index(['close', 'near-close+', 'close-mid+', 'mid+', 'open-mid+', 'back',\n",
            "       'central-or-back', 'rounded', 'vowel'],\n",
            "      dtype='object')\n"
          ],
          "name": "stdout"
        }
      ]
    },
    {
      "cell_type": "code",
      "metadata": {
        "id": "xtevCTxiNmXs",
        "colab_type": "code",
        "outputId": "19351d5a-759f-48f8-cfe1-d7ddefc2de7e",
        "colab": {
          "base_uri": "https://localhost:8080/",
          "height": 151
        }
      },
      "source": [
        "# predict one of the attributes from training data\n",
        "ITER = 100\n",
        "close_weights = experiment(ITER, weights_init, train_data.values, train_targets[\"close\"].values, LEARNING_RATE)\n",
        "near_close_weights = experiment(ITER, weights_init, train_data.values, train_targets[\"near-close+\"].values, LEARNING_RATE)\n",
        "close_mid_weights = experiment(ITER, weights_init, train_data.values, train_targets[\"close-mid+\"].values, LEARNING_RATE)\n",
        "mid_weights = experiment(ITER, weights_init, train_data.values, train_targets[\"mid+\"].values, LEARNING_RATE)\n",
        "open_mid_weights = experiment(ITER, weights_init, train_data.values, train_targets[\"open-mid+\"].values, LEARNING_RATE)\n",
        "back_weights = experiment(ITER, weights_init, train_data.values, train_targets[\"back\"].values, LEARNING_RATE)\n",
        "central_or_back_weights = experiment(ITER, weights_init, train_data.values, train_targets[\"central-or-back\"].values, LEARNING_RATE)\n",
        "rounded_weights = experiment(ITER, weights_init, train_data.values, train_targets[\"rounded\"].values, LEARNING_RATE)\n",
        "\n",
        "display(\n",
        "    close_weights,\n",
        "    near_close_weights,\n",
        "    close_mid_weights,\n",
        "    mid_weights,\n",
        "    open_mid_weights,\n",
        "    back_weights,\n",
        "    central_or_back_weights,\n",
        "    rounded_weights\n",
        ")"
      ],
      "execution_count": 488,
      "outputs": [
        {
          "output_type": "display_data",
          "data": {
            "text/plain": [
              "array([-0.037722  ,  0.01248974,  0.0005    ])"
            ]
          },
          "metadata": {
            "tags": []
          }
        },
        {
          "output_type": "display_data",
          "data": {
            "text/plain": [
              "array([-0.04073683,  0.03219146,  0.0005    ])"
            ]
          },
          "metadata": {
            "tags": []
          }
        },
        {
          "output_type": "display_data",
          "data": {
            "text/plain": [
              "array([-0.03691033,  0.01872936, -0.0106    ])"
            ]
          },
          "metadata": {
            "tags": []
          }
        },
        {
          "output_type": "display_data",
          "data": {
            "text/plain": [
              "array([-0.01894618,  0.00976376, -0.0106    ])"
            ]
          },
          "metadata": {
            "tags": []
          }
        },
        {
          "output_type": "display_data",
          "data": {
            "text/plain": [
              "array([-0.02428017, -0.00348569,  0.0005    ])"
            ]
          },
          "metadata": {
            "tags": []
          }
        },
        {
          "output_type": "display_data",
          "data": {
            "text/plain": [
              "array([-0.01456693, -0.06799609, -0.0217    ])"
            ]
          },
          "metadata": {
            "tags": []
          }
        },
        {
          "output_type": "display_data",
          "data": {
            "text/plain": [
              "array([-0.00616341, -0.06101684, -0.0328    ])"
            ]
          },
          "metadata": {
            "tags": []
          }
        },
        {
          "output_type": "display_data",
          "data": {
            "text/plain": [
              "array([-0.00301859, -0.06244155, -0.0328    ])"
            ]
          },
          "metadata": {
            "tags": []
          }
        }
      ]
    },
    {
      "cell_type": "code",
      "metadata": {
        "id": "pT7z66xNSxeD",
        "colab_type": "code",
        "outputId": "70497c70-6cc3-4db1-9e5c-155334a20e63",
        "colab": {
          "base_uri": "https://localhost:8080/",
          "height": 378
        }
      },
      "source": [
        "plotvowels(df, close_weights)"
      ],
      "execution_count": 489,
      "outputs": [
        {
          "output_type": "display_data",
          "data": {
            "image/png": "[encoded data removed]",
            "text/plain": [
              "<Figure size 432x432 with 1 Axes>"
            ]
          },
          "metadata": {
            "tags": []
          }
        }
      ]
    },
    {
      "cell_type": "code",
      "metadata": {
        "id": "FanO1XglRq8s",
        "colab_type": "code",
        "colab": {}
      },
      "source": [
        "# if you get this far, take the classifiers and try to predict vowel class (\"and\" function)!"
      ],
      "execution_count": 0,
      "outputs": []
    },
    {
      "cell_type": "markdown",
      "metadata": {
        "id": "5ropho7s6URu",
        "colab_type": "text"
      },
      "source": [
        "## **Part 3: PyTorch Neural Networks**\n",
        "\n",
        "This is a quick runthrough of PyTorch, and how to build a neural network.  The code below is a modified version of https://courses.cs.washington.edu/courses/cse446/18wi/sections/section8/XOR-Pytorch.html with some additional annotations to help you along.\n",
        "\n",
        "This part is mostly read-and-run, but at the end you can test your understanding by modifying the code.\n",
        "\n",
        "**3.1** First some library preliminaries."
      ]
    },
    {
      "cell_type": "code",
      "metadata": {
        "id": "GyIQ-0oOiU7F",
        "colab_type": "code",
        "outputId": "34b16333-60c6-4903-b1f1-abe6d46ad93f",
        "colab": {
          "base_uri": "https://localhost:8080/",
          "height": 34
        }
      },
      "source": [
        "import torch\n",
        "from torch.autograd import Variable\n",
        "import torch.nn as nn\n",
        "import torch.nn.functional as F\n",
        "import torch.optim as optim\n",
        "import numpy as np\n",
        "import matplotlib.pyplot as plt\n",
        "%matplotlib inline\n",
        "torch.manual_seed(2)"
      ],
      "execution_count": 491,
      "outputs": [
        {
          "output_type": "execute_result",
          "data": {
            "text/plain": [
              "<torch._C.Generator at 0x7f7565b726f0>"
            ]
          },
          "metadata": {
            "tags": []
          },
          "execution_count": 491
        }
      ]
    },
    {
      "cell_type": "markdown",
      "metadata": {
        "id": "Zo7_euBB64as",
        "colab_type": "text"
      },
      "source": [
        "**3.2** Now set up the data into *tensors* (i.e. multidimensional arrays).  X is the data array, Y is the target."
      ]
    },
    {
      "cell_type": "code",
      "metadata": {
        "id": "OOrD5aDP62CX",
        "colab_type": "code",
        "colab": {}
      },
      "source": [
        "X = torch.Tensor([[0,0],[0,1], [1,0], [1,1]])\n",
        "Y = torch.Tensor([0,1,1,0]).view(-1,1)"
      ],
      "execution_count": 0,
      "outputs": []
    },
    {
      "cell_type": "markdown",
      "metadata": {
        "id": "MpflPWlf7Nsj",
        "colab_type": "text"
      },
      "source": [
        "**3.3** Let's define a multi-layer perceptron with 2 layers.  Each layer will create a linear combination of the inputs, and feed to a sigmoid output.\n",
        "\n",
        "Note that the initializer (with the calls to nn.Linear) will create a set of parameters that are associated with the model."
      ]
    },
    {
      "cell_type": "code",
      "metadata": {
        "id": "fn7n4-VH7OQL",
        "colab_type": "code",
        "colab": {}
      },
      "source": [
        "class MLP2(nn.Module):\n",
        "    def __init__(self, input_dim = 2, hid_dim=2, output_dim=1):\n",
        "        # initialze the superclass\n",
        "        super(MLP2, self).__init__()\n",
        "        # this will create a linear layer with input_dim x hid_dim parameters\n",
        "        # in addition to a bias unit with hid_dim parameters\n",
        "        self.lin1 = nn.Linear(input_dim, hid_dim)\n",
        "        # same thing here except hid_dim x output_dim\n",
        "        self.lin2 = nn.Linear(hid_dim, output_dim)\n",
        "    \n",
        "    # this is where the meat of the action is\n",
        "    def forward(self, x):\n",
        "        x = self.lin1(x)  # linear combination of inputs\n",
        "        x = torch.sigmoid(x) # then through sigmoid - output of first layer\n",
        "        x = self.lin2(x) # linear combination of hidden units\n",
        "        x = torch.sigmoid(x) # then through sigmoid - net output\n",
        "        return x"
      ],
      "execution_count": 0,
      "outputs": []
    },
    {
      "cell_type": "markdown",
      "metadata": {
        "id": "Usrqoiw48CcX",
        "colab_type": "text"
      },
      "source": [
        "**3.4** We also define a function to initialize weights of our model."
      ]
    },
    {
      "cell_type": "code",
      "metadata": {
        "id": "bJP5EfDS7-Hw",
        "colab_type": "code",
        "colab": {}
      },
      "source": [
        "def weights_init(model):\n",
        "    for m in model.modules():\n",
        "        if isinstance(m, nn.Linear):\n",
        "            # initialize the weight tensor, here we use a normal distribution\n",
        "            m.weight.data.normal_(0, 1)"
      ],
      "execution_count": 0,
      "outputs": []
    },
    {
      "cell_type": "markdown",
      "metadata": {
        "id": "IhhgEm298OSk",
        "colab_type": "text"
      },
      "source": [
        "**3.5** Now create a model and initialize it.  Also define a loss function and the optimizer."
      ]
    },
    {
      "cell_type": "code",
      "metadata": {
        "id": "QD8pE8kb8MuO",
        "colab_type": "code",
        "colab": {}
      },
      "source": [
        "model1 = MLP2()\n",
        "weights_init(model1)\n",
        "loss_func = nn.MSELoss()\n",
        "optimizer = optim.SGD(model1.parameters(), lr=0.02, momentum=0.9)"
      ],
      "execution_count": 0,
      "outputs": []
    },
    {
      "cell_type": "markdown",
      "metadata": {
        "id": "GPT4oaWy9LD-",
        "colab_type": "text"
      },
      "source": [
        "**3.6** Now we run the training."
      ]
    },
    {
      "cell_type": "code",
      "metadata": {
        "id": "jj3tKoee8nMH",
        "colab_type": "code",
        "outputId": "c5388a08-f457-4439-bd8e-00cc6174c569",
        "colab": {
          "base_uri": "https://localhost:8080/",
          "height": 202
        }
      },
      "source": [
        "epochs = 5001\n",
        "steps = X.size(0)\n",
        "for i in range(epochs):\n",
        "    for j in range(steps):\n",
        "        data_point = np.random.randint(X.size(0))\n",
        "        x_var = Variable(X[data_point], requires_grad=False)\n",
        "        y_var = Variable(Y[data_point], requires_grad=False)\n",
        "        \n",
        "        optimizer.zero_grad()\n",
        "        y_hat = model1(x_var)\n",
        "        loss = loss_func.forward(y_hat, y_var)\n",
        "        loss.backward()\n",
        "        optimizer.step()\n",
        "\n",
        "    if i % 500 == 0:\n",
        "        print(\"Epoch: {0}, Loss: {1}, \".format(i, loss.data.numpy()))"
      ],
      "execution_count": 496,
      "outputs": [
        {
          "output_type": "stream",
          "text": [
            "Epoch: 0, Loss: 0.5366964340209961, \n",
            "Epoch: 500, Loss: 0.0870356336236, \n",
            "Epoch: 1000, Loss: 0.014565312303602695, \n",
            "Epoch: 1500, Loss: 0.2009461522102356, \n",
            "Epoch: 2000, Loss: 0.2969650626182556, \n",
            "Epoch: 2500, Loss: 0.002992975991219282, \n",
            "Epoch: 3000, Loss: 0.1844065934419632, \n",
            "Epoch: 3500, Loss: 0.2632010579109192, \n",
            "Epoch: 4000, Loss: 0.3264200985431671, \n",
            "Epoch: 4500, Loss: 0.11139678955078125, \n",
            "Epoch: 5000, Loss: 0.29302123188972473, \n"
          ],
          "name": "stdout"
        }
      ]
    },
    {
      "cell_type": "markdown",
      "metadata": {
        "id": "sqFt7zng-cIO",
        "colab_type": "text"
      },
      "source": [
        "**3.7** This is a neat little bit of code that will print out the first layer's decision boundaries."
      ]
    },
    {
      "cell_type": "code",
      "metadata": {
        "id": "DX6bK_Z--TV9",
        "colab_type": "code",
        "outputId": "aa2edc06-6a6f-4d15-8700-535d79390c20",
        "colab": {
          "base_uri": "https://localhost:8080/",
          "height": 265
        }
      },
      "source": [
        "model_params = list(model1.parameters())\n",
        "model_weights = model_params[0].data.numpy()\n",
        "model_bias = model_params[1].data.numpy()\n",
        "\n",
        "plt.scatter(X.numpy()[[0,-1], 0], X.numpy()[[0, -1], 1], s=50)\n",
        "plt.scatter(X.numpy()[[1,2], 0], X.numpy()[[1, 2], 1], c='red', s=50)\n",
        "\n",
        "x_1 = np.arange(-0.1, 1.1, 0.1)\n",
        "y_1 = ((x_1 * model_weights[0,0]) + model_bias[0]) / (-model_weights[0,1])\n",
        "plt.plot(x_1, y_1)\n",
        "\n",
        "x_2 = np.arange(-0.1, 1.1, 0.1)\n",
        "y_2 = ((x_2 * model_weights[1,0]) + model_bias[1]) / (-model_weights[1,1])\n",
        "plt.plot(x_2, y_2)\n",
        "plt.legend([\"neuron_1\", \"neuron_2\"], loc=8)\n",
        "plt.show()"
      ],
      "execution_count": 497,
      "outputs": [
        {
          "output_type": "display_data",
          "data": {
            "image/png": "[encoded data removed]",
            "text/plain": [
              "<Figure size 432x288 with 1 Axes>"
            ]
          },
          "metadata": {
            "tags": []
          }
        }
      ]
    },
    {
      "cell_type": "markdown",
      "metadata": {
        "id": "8WHZknJg-09E",
        "colab_type": "text"
      },
      "source": [
        "**3.8** Now take a look at the parameters that were learned.  Can you trace how the xor decision works for each of the datapoints?  \n",
        "\n",
        "The first tensor is the input-hidden weights, second is the bias-hidden weights, third is hidden-output, and last is bias-output."
      ]
    },
    {
      "cell_type": "code",
      "metadata": {
        "id": "MtJ_Y3kw-wzE",
        "colab_type": "code",
        "outputId": "eb287ca6-0659-4c3e-ba05-296100121316",
        "colab": {
          "base_uri": "https://localhost:8080/",
          "height": 118
        }
      },
      "source": [
        "model_params"
      ],
      "execution_count": 498,
      "outputs": [
        {
          "output_type": "execute_result",
          "data": {
            "text/plain": [
              "[Parameter containing:\n",
              " tensor([[-4.0847, -7.6550],\n",
              "         [-3.8931,  7.9348]], requires_grad=True), Parameter containing:\n",
              " tensor([0.8090, 2.6006], requires_grad=True), Parameter containing:\n",
              " tensor([[-5.7178, -4.4459]], requires_grad=True), Parameter containing:\n",
              " tensor([4.6042], requires_grad=True)]"
            ]
          },
          "metadata": {
            "tags": []
          },
          "execution_count": 498
        }
      ]
    },
    {
      "cell_type": "markdown",
      "metadata": {
        "id": "o0ZO61uX_XRa",
        "colab_type": "text"
      },
      "source": [
        "**3.9** Can you modify the above code to add a third layer?  What happens if you replace the sigmoid in the middle layer(s) with tanh?"
      ]
    },
    {
      "cell_type": "markdown",
      "metadata": {
        "id": "KTlDScM7csqW",
        "colab_type": "text"
      },
      "source": [
        "To do this, I modified the constructor to include another linear layer. "
      ]
    },
    {
      "cell_type": "code",
      "metadata": {
        "colab_type": "code",
        "id": "aLZmWNqpcaK9",
        "colab": {}
      },
      "source": [
        "class MLP3(nn.Module):\n",
        "    def __init__(self, input_dim = 2, hid_dim=2, output_dim=1):\n",
        "        # initialze the superclass\n",
        "        super(MLP3, self).__init__()\n",
        "        # this will create a linear layer with input_dim x hid_dim parameters\n",
        "        # in addition to a bias unit with hid_dim parameters\n",
        "        self.lin1 = nn.Linear(input_dim, hid_dim)\n",
        "        # a hidden layer between input layer and output layer\n",
        "        self.lin_hid = nn.Linear(hid_dim, hid_dim)\n",
        "        # same thing here except hid_dim x output_dim\n",
        "        self.lin2 = nn.Linear(hid_dim, output_dim)\n",
        "    \n",
        "    # this is where the meat of the action is\n",
        "    def forward(self, x):\n",
        "        x = self.lin1(x)  # linear combination of inputs\n",
        "        x = torch.sigmoid(x) # then through sigmoid - output of first layer\n",
        "        x = self.lin_hid(x)\n",
        "        x = torch.sigmoid(x)\n",
        "        x = self.lin2(x) # linear combination of hidden units\n",
        "        x = torch.sigmoid(x) # then through sigmoid - net output\n",
        "        return x"
      ],
      "execution_count": 0,
      "outputs": []
    },
    {
      "cell_type": "code",
      "metadata": {
        "id": "Ef4cigg8fZu-",
        "colab_type": "code",
        "colab": {}
      },
      "source": [
        "model2 = MLP3()\n",
        "weights_init(model2)\n",
        "loss_func = nn.MSELoss()\n",
        "optimizer = optim.SGD(model2.parameters(), lr=0.02, momentum=0.9)"
      ],
      "execution_count": 0,
      "outputs": []
    },
    {
      "cell_type": "code",
      "metadata": {
        "id": "qm9ULLwmfdMM",
        "colab_type": "code",
        "outputId": "a14e178a-6c8e-498f-b07a-def56b0ed74b",
        "colab": {
          "base_uri": "https://localhost:8080/",
          "height": 202
        }
      },
      "source": [
        "epochs = 5001\n",
        "steps = X.size(0)\n",
        "for i in range(epochs):\n",
        "    for j in range(steps):\n",
        "        data_point = np.random.randint(X.size(0))\n",
        "        x_var = Variable(X[data_point], requires_grad=False)\n",
        "        y_var = Variable(Y[data_point], requires_grad=False)\n",
        "        \n",
        "        optimizer.zero_grad()\n",
        "        y_hat = model2(x_var)\n",
        "        loss = loss_func.forward(y_hat, y_var)\n",
        "        loss.backward()\n",
        "        optimizer.step()\n",
        "\n",
        "    if i % 500 == 0:\n",
        "        print(\"Epoch: {0}, Loss: {1}, \".format(i, loss.data.numpy()))"
      ],
      "execution_count": 501,
      "outputs": [
        {
          "output_type": "stream",
          "text": [
            "Epoch: 0, Loss: 0.3560476303100586, \n",
            "Epoch: 500, Loss: 0.22215937077999115, \n",
            "Epoch: 1000, Loss: 0.21421822905540466, \n",
            "Epoch: 1500, Loss: 0.29524415731430054, \n",
            "Epoch: 2000, Loss: 0.15420103073120117, \n",
            "Epoch: 2500, Loss: 0.02404543198645115, \n",
            "Epoch: 3000, Loss: 0.0031898680608719587, \n",
            "Epoch: 3500, Loss: 0.0013014827854931355, \n",
            "Epoch: 4000, Loss: 0.0006644009845331311, \n",
            "Epoch: 4500, Loss: 0.0008939969120547175, \n",
            "Epoch: 5000, Loss: 0.000499208748806268, \n"
          ],
          "name": "stdout"
        }
      ]
    },
    {
      "cell_type": "code",
      "metadata": {
        "id": "LUcrOFqxfkgU",
        "colab_type": "code",
        "outputId": "69efec68-f042-4816-ad97-9f523c433725",
        "colab": {
          "base_uri": "https://localhost:8080/",
          "height": 265
        }
      },
      "source": [
        "model_params = list(model2.parameters())\n",
        "model_weights = model_params[0].data.numpy()\n",
        "model_bias = model_params[1].data.numpy()\n",
        "\n",
        "plt.scatter(X.numpy()[[0,-1], 0], X.numpy()[[0, -1], 1], s=50)\n",
        "plt.scatter(X.numpy()[[1,2], 0], X.numpy()[[1, 2], 1], c='red', s=50)\n",
        "\n",
        "x_1 = np.arange(-0.1, 1.1, 0.1)\n",
        "y_1 = ((x_1 * model_weights[0,0]) + model_bias[0]) / (-model_weights[0,1])\n",
        "plt.plot(x_1, y_1)\n",
        "\n",
        "x_2 = np.arange(-0.1, 1.1, 0.1)\n",
        "y_2 = ((x_2 * model_weights[1,0]) + model_bias[1]) / (-model_weights[1,1])\n",
        "plt.plot(x_2, y_2)\n",
        "plt.legend([\"neuron_1\", \"neuron_2\"], loc=8)\n",
        "plt.show()"
      ],
      "execution_count": 502,
      "outputs": [
        {
          "output_type": "display_data",
          "data": {
            "image/png": "[encoded data removed]",
            "text/plain": [
              "<Figure size 432x288 with 1 Axes>"
            ]
          },
          "metadata": {
            "tags": []
          }
        }
      ]
    },
    {
      "cell_type": "markdown",
      "metadata": {
        "id": "Fm6nZTSdf4at",
        "colab_type": "text"
      },
      "source": [
        "I have executed these models a few times, and I continue to get different results. However, in general, the second model (model2) draws better decision boundaries (although it doesn't always converge on the proper boundaries): each line separates a different point of the same color in parallel. Meanwhile, the first model (model1) gets confused around the decision boundaries. For example, one line separates off a blue point while the other line separates off an orange point—both lines cross in the middle.\n",
        "\n",
        "If I increase the epochs, I don't really see a difference. The first model (model1) still fails to get the right decision boundaries. That said, the second model (model2) does almost certainly converge with more epochs. \n",
        "\n",
        "At any rate, the following model introduces tanh into the new middle layer:"
      ]
    },
    {
      "cell_type": "code",
      "metadata": {
        "id": "i5w_OjG0l2Ck",
        "colab_type": "code",
        "colab": {}
      },
      "source": [
        "class MLP4(nn.Module):\n",
        "    def __init__(self, input_dim = 2, hid_dim=2, output_dim=1):\n",
        "        # initialze the superclass\n",
        "        super(MLP4, self).__init__()\n",
        "        # this will create a linear layer with input_dim x hid_dim parameters\n",
        "        # in addition to a bias unit with hid_dim parameters\n",
        "        self.lin1 = nn.Linear(input_dim, hid_dim)\n",
        "        # a hidden layer between input layer and output layer\n",
        "        self.lin_hid = nn.Linear(hid_dim, hid_dim)\n",
        "        # same thing here except hid_dim x output_dim\n",
        "        self.lin2 = nn.Linear(hid_dim, output_dim)\n",
        "    \n",
        "    # this is where the meat of the action is\n",
        "    def forward(self, x):\n",
        "        x = self.lin1(x)  # linear combination of inputs\n",
        "        x = torch.sigmoid(x) # then through sigmoid - output of first layer\n",
        "        x = self.lin_hid(x)\n",
        "        x = torch.tanh(x)\n",
        "        x = self.lin2(x) # linear combination of hidden units\n",
        "        x = torch.sigmoid(x) # then through sigmoid - net output\n",
        "        return x"
      ],
      "execution_count": 0,
      "outputs": []
    },
    {
      "cell_type": "code",
      "metadata": {
        "id": "GxKFUNncl93y",
        "colab_type": "code",
        "colab": {}
      },
      "source": [
        "model3 = MLP4()\n",
        "weights_init(model3)\n",
        "loss_func = nn.MSELoss()\n",
        "optimizer = optim.SGD(model3.parameters(), lr=0.02, momentum=0.9)"
      ],
      "execution_count": 0,
      "outputs": []
    },
    {
      "cell_type": "code",
      "metadata": {
        "id": "sWmo3ihgmCUS",
        "colab_type": "code",
        "outputId": "067526ec-b0d9-4f1d-bb45-6084f4781bbe",
        "colab": {
          "base_uri": "https://localhost:8080/",
          "height": 202
        }
      },
      "source": [
        "epochs = 5001\n",
        "steps = X.size(0)\n",
        "for i in range(epochs):\n",
        "    for j in range(steps):\n",
        "        data_point = np.random.randint(X.size(0))\n",
        "        x_var = Variable(X[data_point], requires_grad=False)\n",
        "        y_var = Variable(Y[data_point], requires_grad=False)\n",
        "        \n",
        "        optimizer.zero_grad()\n",
        "        y_hat = model3(x_var)\n",
        "        loss = loss_func.forward(y_hat, y_var)\n",
        "        loss.backward()\n",
        "        optimizer.step()\n",
        "\n",
        "    if i % 500 == 0:\n",
        "        print(\"Epoch: {0}, Loss: {1}, \".format(i, loss.data.numpy()))"
      ],
      "execution_count": 505,
      "outputs": [
        {
          "output_type": "stream",
          "text": [
            "Epoch: 0, Loss: 0.27417129278182983, \n",
            "Epoch: 500, Loss: 0.29901379346847534, \n",
            "Epoch: 1000, Loss: 0.33592480421066284, \n",
            "Epoch: 1500, Loss: 0.5141273140907288, \n",
            "Epoch: 2000, Loss: 0.002273821970447898, \n",
            "Epoch: 2500, Loss: 0.00029593665385618806, \n",
            "Epoch: 3000, Loss: 0.0006660976214334369, \n",
            "Epoch: 3500, Loss: 0.0004620673425961286, \n",
            "Epoch: 4000, Loss: 6.676305929431692e-05, \n",
            "Epoch: 4500, Loss: 0.00014582450967282057, \n",
            "Epoch: 5000, Loss: 0.00011901193647645414, \n"
          ],
          "name": "stdout"
        }
      ]
    },
    {
      "cell_type": "code",
      "metadata": {
        "id": "5cI-Q6txmGNK",
        "colab_type": "code",
        "outputId": "8e311171-dd4c-4e1c-9a17-0c04e006e39a",
        "colab": {
          "base_uri": "https://localhost:8080/",
          "height": 265
        }
      },
      "source": [
        "model_params = list(model3.parameters())\n",
        "model_weights = model_params[0].data.numpy()\n",
        "model_bias = model_params[1].data.numpy()\n",
        "\n",
        "plt.scatter(X.numpy()[[0,-1], 0], X.numpy()[[0, -1], 1], s=50)\n",
        "plt.scatter(X.numpy()[[1,2], 0], X.numpy()[[1, 2], 1], c='red', s=50)\n",
        "\n",
        "x_1 = np.arange(-0.1, 1.1, 0.1)\n",
        "y_1 = ((x_1 * model_weights[0,0]) + model_bias[0]) / (-model_weights[0,1])\n",
        "plt.plot(x_1, y_1)\n",
        "\n",
        "x_2 = np.arange(-0.1, 1.1, 0.1)\n",
        "y_2 = ((x_2 * model_weights[1,0]) + model_bias[1]) / (-model_weights[1,1])\n",
        "plt.plot(x_2, y_2)\n",
        "plt.legend([\"neuron_1\", \"neuron_2\"], loc=8)\n",
        "plt.show()"
      ],
      "execution_count": 506,
      "outputs": [
        {
          "output_type": "display_data",
          "data": {
            "image/png": "[encoded data removed]",
            "text/plain": [
              "<Figure size 432x288 with 1 Axes>"
            ]
          },
          "metadata": {
            "tags": []
          }
        }
      ]
    },
    {
      "cell_type": "markdown",
      "metadata": {
        "id": "2zjEYlJDmw-O",
        "colab_type": "text"
      },
      "source": [
        "The only difference I can see between this new model with tanh as the activation function is that the two lines swapped places (i.e. orange is the top decision boundary while blue is the bottom decision boundary). It also seems to have converged slightly faster. "
      ]
    },
    {
      "cell_type": "markdown",
      "metadata": {
        "id": "NniWfU91_mhn",
        "colab_type": "text"
      },
      "source": [
        "## **Part 4: MLP classification of vowels**\n",
        "\n",
        "If you've gotten this far, then here is a challenge for you.  Taking the data from Part 2, can you build a MLP that can classify the vowels directly into vowel classes?\n",
        "\n",
        "You should have a hidden layer with a reasonable number of hidden units (maybe 100), and your output should be a softmax layer with 9 outputs (one for each vowel class). The target should be 1 for the correct class, and 0 otherwise. The loss function should also be changed to a Cross Entropy loss.  You may need to do a bit of googling of \"pytorch ___\" to find the different kinds of functions you need."
      ]
    },
    {
      "cell_type": "markdown",
      "metadata": {
        "id": "iE0u2lCk_mM7",
        "colab_type": "text"
      },
      "source": [
        "**4.1**: Let's setup some code for training a vowel classification model."
      ]
    },
    {
      "cell_type": "code",
      "metadata": {
        "id": "2oBeGwHQ_lNj",
        "colab_type": "code",
        "colab": {}
      },
      "source": [
        "class MLPVowel(nn.Module):\n",
        "    def __init__(self, input_dim = 2, hid_dim=100, output_dim=9):\n",
        "        super(MLPVowel, self).__init__()\n",
        "        \n",
        "        self.lin1 = nn.Linear(input_dim, hid_dim)\n",
        "        self.lin2 = nn.Linear(hid_dim, output_dim)\n",
        "    \n",
        "    # this is where the meat of the action is\n",
        "    def forward(self, x):\n",
        "        x = self.lin1(x)  # linear combination of inputs\n",
        "        x = torch.sigmoid(x) # then through sigmoid - output of first layer\n",
        "        x = self.lin2(x) # linear combination of hidden units\n",
        "        x = torch.sigmoid(x) # then through sigmoid - net output\n",
        "        return x"
      ],
      "execution_count": 0,
      "outputs": []
    },
    {
      "cell_type": "code",
      "metadata": {
        "id": "9ivlzedOWRdl",
        "colab_type": "code",
        "colab": {}
      },
      "source": [
        "def weights_init(model):\n",
        "    for m in model.modules():\n",
        "        if isinstance(m, nn.Linear):\n",
        "            # initialize the weight tensor, here we use a normal distribution\n",
        "            m.weight.data.normal_(0, 1)"
      ],
      "execution_count": 0,
      "outputs": []
    },
    {
      "cell_type": "code",
      "metadata": {
        "id": "vlO79T87ouKb",
        "colab_type": "code",
        "colab": {}
      },
      "source": [
        "def get_tensors(data, targets):\n",
        "  # Normalize test data\n",
        "  x = data.values \n",
        "  min_max_scaler = preprocessing.MinMaxScaler()\n",
        "  x_scaled = min_max_scaler.fit_transform(x)\n",
        "  normal_x = pd.DataFrame(x_scaled)\n",
        "\n",
        "  # Convert test data to categorical values\n",
        "  vowels = targets['vowel'].astype('category').cat.codes\n",
        "\n",
        "  # Setup tensors\n",
        "  X = torch.Tensor(normal_x.values)\n",
        "  Y = torch.Tensor(vowels.values).long().view(-1, 1)\n",
        "  return X, Y"
      ],
      "execution_count": 0,
      "outputs": []
    },
    {
      "cell_type": "code",
      "metadata": {
        "id": "3ZU5Tc6mSpy8",
        "colab_type": "code",
        "colab": {}
      },
      "source": [
        "# Define data and convert it into useful tensors\n",
        "train_data, test_data, train_targets, test_targets = train_test_split(df[['f1','f2']],df[['close','near-close+','close-mid+','mid+','open-mid+','back','central-or-back','rounded','vowel']])\n",
        "train_x, train_y = get_tensors(train_data, train_targets)\n",
        "test_x, test_y = get_tensors(test_data, test_targets)"
      ],
      "execution_count": 0,
      "outputs": []
    },
    {
      "cell_type": "code",
      "metadata": {
        "id": "J4ENBBxItkdp",
        "colab_type": "code",
        "colab": {}
      },
      "source": [
        "# Initialize model\n",
        "vowel_model = MLPVowel()\n",
        "weights_init(vowel_model)\n",
        "loss_func = nn.CrossEntropyLoss()\n",
        "optimizer = optim.SGD(vowel_model.parameters(), lr=0.02, momentum=0.9)"
      ],
      "execution_count": 0,
      "outputs": []
    },
    {
      "cell_type": "code",
      "metadata": {
        "id": "jYzCsIZ2Sf_2",
        "colab_type": "code",
        "outputId": "3cef636d-14a6-4419-e4dc-a56da357ea76",
        "colab": {
          "base_uri": "https://localhost:8080/",
          "height": 202
        }
      },
      "source": [
        "# Train model\n",
        "epochs = 101\n",
        "steps = train_x.size(0)\n",
        "for i in range(epochs):\n",
        "    for j in range(steps):\n",
        "        data_point = np.random.randint(X.size(0))\n",
        "        x_var = Variable(train_x[data_point], requires_grad=False)\n",
        "        y_var = Variable(train_y[data_point], requires_grad=False)\n",
        "        \n",
        "        optimizer.zero_grad()\n",
        "        y_hat = vowel_model(x_var).view(1, -1)\n",
        "        loss = loss_func.forward(y_hat, y_var)\n",
        "        loss.backward()\n",
        "        optimizer.step()\n",
        "\n",
        "    if i % 10 == 0:\n",
        "        print(\"Epoch: {0}, Loss: {1}, \".format(i, loss.data.numpy()))"
      ],
      "execution_count": 512,
      "outputs": [
        {
          "output_type": "stream",
          "text": [
            "Epoch: 0, Loss: 1.7630923986434937, \n",
            "Epoch: 10, Loss: 1.5208070278167725, \n",
            "Epoch: 20, Loss: 1.5206586122512817, \n",
            "Epoch: 30, Loss: 1.6501617431640625, \n",
            "Epoch: 40, Loss: 1.5207319259643555, \n",
            "Epoch: 50, Loss: 1.5047739744186401, \n",
            "Epoch: 60, Loss: 1.3720160722732544, \n",
            "Epoch: 70, Loss: 1.371989369392395, \n",
            "Epoch: 80, Loss: 1.52334725856781, \n",
            "Epoch: 90, Loss: 1.5228068828582764, \n",
            "Epoch: 100, Loss: 1.5206547975540161, \n"
          ],
          "name": "stdout"
        }
      ]
    },
    {
      "cell_type": "markdown",
      "metadata": {
        "id": "_FxLSGRO1L71",
        "colab_type": "text"
      },
      "source": [
        "**4.2** With the model trained, let's try testing its performance."
      ]
    },
    {
      "cell_type": "code",
      "metadata": {
        "id": "0Q_OOOzG3j5c",
        "colab_type": "code",
        "outputId": "145241f5-23bd-44d7-ccd9-3154a2471964",
        "colab": {
          "base_uri": "https://localhost:8080/",
          "height": 34
        }
      },
      "source": [
        "# Test performance\n",
        "total = 0\n",
        "correct = 0\n",
        "steps = test_x.size(0)\n",
        "for i in range(steps):\n",
        "  x_var = test_x[i]\n",
        "  y_var = test_y[i]\n",
        "  y_hat = vowel_model(x_var).view(1, -1)\n",
        "  # Borrowed from docs: https://pytorch.org/tutorials/beginner/blitz/cifar10_tutorial.html\n",
        "  _, predicted = torch.max(y_hat.data, 1)\n",
        "  total += 1\n",
        "  correct += 1 if y_var == predicted else 0\n",
        "\n",
        "print(correct/total)"
      ],
      "execution_count": 513,
      "outputs": [
        {
          "output_type": "stream",
          "text": [
            "0.3308641975308642\n"
          ],
          "name": "stdout"
        }
      ]
    },
    {
      "cell_type": "markdown",
      "metadata": {
        "id": "ajBesTGNeJK5",
        "colab_type": "text"
      },
      "source": [
        "Also, let's get this performance code into a reusable function:"
      ]
    },
    {
      "cell_type": "code",
      "metadata": {
        "id": "tNemKx6GeIS9",
        "colab_type": "code",
        "colab": {}
      },
      "source": [
        "def performance(x, y, model):\n",
        "  # Run experiment\n",
        "  total = 0\n",
        "  correct = 0\n",
        "  steps = x.size(0)\n",
        "  for i in range(steps):\n",
        "    x_var = x[i]\n",
        "    y_var = y[i]\n",
        "    y_hat = model(x_var).view(1, -1)\n",
        "    # Borrowed from docs: https://pytorch.org/tutorials/beginner/blitz/cifar10_tutorial.html\n",
        "    _, predicted = torch.max(y_hat.data, 1)\n",
        "    total += 1\n",
        "    correct += 1 if y_var == predicted else 0\n",
        "  \n",
        "  print(correct/total)"
      ],
      "execution_count": 0,
      "outputs": []
    },
    {
      "cell_type": "code",
      "metadata": {
        "id": "dHbd4cyPekEk",
        "colab_type": "code",
        "colab": {
          "base_uri": "https://localhost:8080/",
          "height": 34
        },
        "outputId": "602615ab-71bb-401a-debc-5b4826f0626b"
      },
      "source": [
        "performance(test_x, test_y, vowel_model)"
      ],
      "execution_count": 515,
      "outputs": [
        {
          "output_type": "stream",
          "text": [
            "0.3308641975308642\n"
          ],
          "name": "stdout"
        }
      ]
    },
    {
      "cell_type": "markdown",
      "metadata": {
        "id": "fVJlbWnvXzrG",
        "colab_type": "text"
      },
      "source": [
        "**4.3** Unfortunately, this is really slow! Let's try passing the full dataset:"
      ]
    },
    {
      "cell_type": "code",
      "metadata": {
        "id": "vK7BH7YuX7gY",
        "colab_type": "code",
        "colab": {}
      },
      "source": [
        "def training(x, y, model, loss_func, optimizer, epochs):\n",
        "  for i in range(epochs):\n",
        "    x_var = Variable(x, requires_grad=False)\n",
        "    y_var = Variable(y, requires_grad=False)\n",
        "        \n",
        "    optimizer.zero_grad()\n",
        "    y_hat = model(x_var)\n",
        "    loss = loss_func.forward(y_hat, y_var.view(-1))\n",
        "    loss.backward()\n",
        "    optimizer.step()\n",
        "\n",
        "    if i % 2000 == 0:\n",
        "      print(\"Epoch: {0}, Loss: {1}, \".format(i, loss.data.numpy()))"
      ],
      "execution_count": 0,
      "outputs": []
    },
    {
      "cell_type": "code",
      "metadata": {
        "id": "LSPMXdnvYeyB",
        "colab_type": "code",
        "colab": {
          "base_uri": "https://localhost:8080/",
          "height": 874
        },
        "outputId": "3897a592-2828-42a3-c8e8-a12bf1b7d8b8"
      },
      "source": [
        "vowel_model = MLPVowel()\n",
        "weights_init(vowel_model)\n",
        "loss_func = nn.CrossEntropyLoss()\n",
        "optimizer = optim.SGD(vowel_model.parameters(), lr=0.02, momentum=0.9)\n",
        "\n",
        "# played with epochs until it seemed like loss was shrinking so slowly that it wasn't worth the effort\n",
        "training(train_x, train_y, vowel_model, loss_func, optimizer, 100001) "
      ],
      "execution_count": 517,
      "outputs": [
        {
          "output_type": "stream",
          "text": [
            "Epoch: 0, Loss: 2.1592721939086914, \n",
            "Epoch: 2000, Loss: 2.06437611579895, \n",
            "Epoch: 4000, Loss: 2.019575834274292, \n",
            "Epoch: 6000, Loss: 2.0107836723327637, \n",
            "Epoch: 8000, Loss: 2.006155252456665, \n",
            "Epoch: 10000, Loss: 2.0031778812408447, \n",
            "Epoch: 12000, Loss: 2.0010669231414795, \n",
            "Epoch: 14000, Loss: 1.999466061592102, \n",
            "Epoch: 16000, Loss: 1.9981951713562012, \n",
            "Epoch: 18000, Loss: 1.9971542358398438, \n",
            "Epoch: 20000, Loss: 1.9962838888168335, \n",
            "Epoch: 22000, Loss: 1.9955352544784546, \n",
            "Epoch: 24000, Loss: 1.9948874711990356, \n",
            "Epoch: 26000, Loss: 1.994314193725586, \n",
            "Epoch: 28000, Loss: 1.9938030242919922, \n",
            "Epoch: 30000, Loss: 1.9933459758758545, \n",
            "Epoch: 32000, Loss: 1.9929306507110596, \n",
            "Epoch: 34000, Loss: 1.9925490617752075, \n",
            "Epoch: 36000, Loss: 1.9922027587890625, \n",
            "Epoch: 38000, Loss: 1.9918794631958008, \n",
            "Epoch: 40000, Loss: 1.9915797710418701, \n",
            "Epoch: 42000, Loss: 1.9913004636764526, \n",
            "Epoch: 44000, Loss: 1.9910407066345215, \n",
            "Epoch: 46000, Loss: 1.990791916847229, \n",
            "Epoch: 48000, Loss: 1.9905599355697632, \n",
            "Epoch: 50000, Loss: 1.990337610244751, \n",
            "Epoch: 52000, Loss: 1.9901295900344849, \n",
            "Epoch: 54000, Loss: 1.9899269342422485, \n",
            "Epoch: 56000, Loss: 1.9897297620773315, \n",
            "Epoch: 58000, Loss: 1.989540934562683, \n",
            "Epoch: 60000, Loss: 1.9893598556518555, \n",
            "Epoch: 62000, Loss: 1.9891847372055054, \n",
            "Epoch: 64000, Loss: 1.9890094995498657, \n",
            "Epoch: 66000, Loss: 1.9888380765914917, \n",
            "Epoch: 68000, Loss: 1.9886667728424072, \n",
            "Epoch: 70000, Loss: 1.9884980916976929, \n",
            "Epoch: 72000, Loss: 1.9883272647857666, \n",
            "Epoch: 74000, Loss: 1.9881563186645508, \n",
            "Epoch: 76000, Loss: 1.9879778623580933, \n",
            "Epoch: 78000, Loss: 1.987799048423767, \n",
            "Epoch: 80000, Loss: 1.9876090288162231, \n",
            "Epoch: 82000, Loss: 1.9874155521392822, \n",
            "Epoch: 84000, Loss: 1.9872186183929443, \n",
            "Epoch: 86000, Loss: 1.98701012134552, \n",
            "Epoch: 88000, Loss: 1.9867979288101196, \n",
            "Epoch: 90000, Loss: 1.986576795578003, \n",
            "Epoch: 92000, Loss: 1.9863547086715698, \n",
            "Epoch: 94000, Loss: 1.986122488975525, \n",
            "Epoch: 96000, Loss: 1.9858884811401367, \n",
            "Epoch: 98000, Loss: 1.9856523275375366, \n",
            "Epoch: 100000, Loss: 1.9854121208190918, \n"
          ],
          "name": "stdout"
        }
      ]
    },
    {
      "cell_type": "markdown",
      "metadata": {
        "id": "HlVYBPZuftBt",
        "colab_type": "text"
      },
      "source": [
        "While we're here, let's take a look at performace:"
      ]
    },
    {
      "cell_type": "code",
      "metadata": {
        "id": "mX_MBHUefw_E",
        "colab_type": "code",
        "colab": {
          "base_uri": "https://localhost:8080/",
          "height": 34
        },
        "outputId": "85b6170d-9ed1-4b84-9b25-8613f42100da"
      },
      "source": [
        "performance(test_x, test_y, vowel_model)"
      ],
      "execution_count": 518,
      "outputs": [
        {
          "output_type": "stream",
          "text": [
            "0.08765432098765433\n"
          ],
          "name": "stdout"
        }
      ]
    },
    {
      "cell_type": "markdown",
      "metadata": {
        "id": "i1Wxgg85_y0z",
        "colab_type": "text"
      },
      "source": [
        "**4.4** At this point, we were asked to modify our models. I figure there are basically two things worth trying: expanding the width of the hidden layer and adding an additional layer. First, we'll take a look at expanding the width of the hidden layer. I like this option because it's very easy to change. Also, it gives us potentially more information we can learn (assuming we increase the width)."
      ]
    },
    {
      "cell_type": "code",
      "metadata": {
        "colab_type": "code",
        "id": "0900L9zPCU0Q",
        "colab": {
          "base_uri": "https://localhost:8080/",
          "height": 874
        },
        "outputId": "4aab2b2d-beec-4c68-e103-29c72f9de1c8"
      },
      "source": [
        "vowel_model_200 = MLPVowel(hid_dim=200)\n",
        "weights_init(vowel_model_200)\n",
        "loss_func = nn.CrossEntropyLoss()\n",
        "optimizer = optim.SGD(vowel_model_200.parameters(), lr=0.02, momentum=0.9)\n",
        "training(train_x, train_y, vowel_model_200, loss_func, optimizer, 100001)"
      ],
      "execution_count": 519,
      "outputs": [
        {
          "output_type": "stream",
          "text": [
            "Epoch: 0, Loss: 2.2522003650665283, \n",
            "Epoch: 2000, Loss: 1.9833704233169556, \n",
            "Epoch: 4000, Loss: 1.974315881729126, \n",
            "Epoch: 6000, Loss: 1.970106840133667, \n",
            "Epoch: 8000, Loss: 1.9674179553985596, \n",
            "Epoch: 10000, Loss: 1.9654219150543213, \n",
            "Epoch: 12000, Loss: 1.963818073272705, \n",
            "Epoch: 14000, Loss: 1.9624743461608887, \n",
            "Epoch: 16000, Loss: 1.9613114595413208, \n",
            "Epoch: 18000, Loss: 1.9602864980697632, \n",
            "Epoch: 20000, Loss: 1.9593684673309326, \n",
            "Epoch: 22000, Loss: 1.958533525466919, \n",
            "Epoch: 24000, Loss: 1.9577629566192627, \n",
            "Epoch: 26000, Loss: 1.957051396369934, \n",
            "Epoch: 28000, Loss: 1.9563814401626587, \n",
            "Epoch: 30000, Loss: 1.955751895904541, \n",
            "Epoch: 32000, Loss: 1.9551596641540527, \n",
            "Epoch: 34000, Loss: 1.9545947313308716, \n",
            "Epoch: 36000, Loss: 1.9540568590164185, \n",
            "Epoch: 38000, Loss: 1.953538179397583, \n",
            "Epoch: 40000, Loss: 1.9530483484268188, \n",
            "Epoch: 42000, Loss: 1.9525784254074097, \n",
            "Epoch: 44000, Loss: 1.9521218538284302, \n",
            "Epoch: 46000, Loss: 1.9516850709915161, \n",
            "Epoch: 48000, Loss: 1.9512676000595093, \n",
            "Epoch: 50000, Loss: 1.950860857963562, \n",
            "Epoch: 52000, Loss: 1.9504694938659668, \n",
            "Epoch: 54000, Loss: 1.950093150138855, \n",
            "Epoch: 56000, Loss: 1.949732780456543, \n",
            "Epoch: 58000, Loss: 1.949378490447998, \n",
            "Epoch: 60000, Loss: 1.9490399360656738, \n",
            "Epoch: 62000, Loss: 1.9487111568450928, \n",
            "Epoch: 64000, Loss: 1.948388695716858, \n",
            "Epoch: 66000, Loss: 1.948080062866211, \n",
            "Epoch: 68000, Loss: 1.9477792978286743, \n",
            "Epoch: 70000, Loss: 1.9474841356277466, \n",
            "Epoch: 72000, Loss: 1.9472014904022217, \n",
            "Epoch: 74000, Loss: 1.9469245672225952, \n",
            "Epoch: 76000, Loss: 1.9466520547866821, \n",
            "Epoch: 78000, Loss: 1.9463876485824585, \n",
            "Epoch: 80000, Loss: 1.9461333751678467, \n",
            "Epoch: 82000, Loss: 1.945878267288208, \n",
            "Epoch: 84000, Loss: 1.9456284046173096, \n",
            "Epoch: 86000, Loss: 1.945381760597229, \n",
            "Epoch: 88000, Loss: 1.9451398849487305, \n",
            "Epoch: 90000, Loss: 1.9448988437652588, \n",
            "Epoch: 92000, Loss: 1.9446600675582886, \n",
            "Epoch: 94000, Loss: 1.9444252252578735, \n",
            "Epoch: 96000, Loss: 1.9441899061203003, \n",
            "Epoch: 98000, Loss: 1.9439570903778076, \n",
            "Epoch: 100000, Loss: 1.9437224864959717, \n"
          ],
          "name": "stdout"
        }
      ]
    },
    {
      "cell_type": "markdown",
      "metadata": {
        "id": "7zzfhmWZg2r8",
        "colab_type": "text"
      },
      "source": [
        "And again, performance:"
      ]
    },
    {
      "cell_type": "code",
      "metadata": {
        "id": "btnqnnK_g5aN",
        "colab_type": "code",
        "colab": {
          "base_uri": "https://localhost:8080/",
          "height": 34
        },
        "outputId": "ace13453-0a98-4dbd-b65d-0abce0ce983f"
      },
      "source": [
        "performance(test_x, test_y, vowel_model_200)"
      ],
      "execution_count": 520,
      "outputs": [
        {
          "output_type": "stream",
          "text": [
            "0.345679012345679\n"
          ],
          "name": "stdout"
        }
      ]
    },
    {
      "cell_type": "markdown",
      "metadata": {
        "id": "6JDVCzCbPFdP",
        "colab_type": "text"
      },
      "source": [
        "**4.5** Now, I want to try adding a layer to see if we can improve performance."
      ]
    },
    {
      "cell_type": "code",
      "metadata": {
        "colab_type": "code",
        "id": "XPZrePCbPNWF",
        "colab": {}
      },
      "source": [
        "class MLPVowel2(nn.Module):\n",
        "    def __init__(self, input_dim = 2, hid_dim=100, output_dim=9):\n",
        "        super(MLPVowel2, self).__init__()\n",
        "        \n",
        "        self.lin1 = nn.Linear(input_dim, hid_dim)\n",
        "        self.lin2 = nn.Linear(hid_dim, hid_dim)\n",
        "        self.lin3 = nn.Linear(hid_dim, output_dim)\n",
        "    \n",
        "    # this is where the meat of the action is\n",
        "    def forward(self, x):\n",
        "        x = self.lin1(x)  # linear combination of inputs\n",
        "        x = torch.sigmoid(x) # then through sigmoid - output of first layer\n",
        "        x = self.lin2(x) # linear combination of hidden units\n",
        "        x = torch.sigmoid(x) # then through sigmoid - net output\n",
        "        x = self.lin3(x) # linear combination of hidden units\n",
        "        x = torch.sigmoid(x) # then through sigmoid - net output\n",
        "        return x"
      ],
      "execution_count": 0,
      "outputs": []
    },
    {
      "cell_type": "code",
      "metadata": {
        "colab_type": "code",
        "id": "mWJpHf0HPeLF",
        "colab": {
          "base_uri": "https://localhost:8080/",
          "height": 874
        },
        "outputId": "32f02f63-61bf-43c7-928f-b9855899e519"
      },
      "source": [
        "vowel_model_extra_layer = MLPVowel2()\n",
        "weights_init(vowel_model_extra_layer)\n",
        "loss_func = nn.CrossEntropyLoss()\n",
        "optimizer = optim.SGD(vowel_model_extra_layer.parameters(), lr=0.02, momentum=0.9)\n",
        "training(train_x, train_y, vowel_model_extra_layer, loss_func, optimizer, 100001)"
      ],
      "execution_count": 522,
      "outputs": [
        {
          "output_type": "stream",
          "text": [
            "Epoch: 0, Loss: 2.3660497665405273, \n",
            "Epoch: 2000, Loss: 2.004023790359497, \n",
            "Epoch: 4000, Loss: 1.9822231531143188, \n",
            "Epoch: 6000, Loss: 1.9731624126434326, \n",
            "Epoch: 8000, Loss: 1.9680758714675903, \n",
            "Epoch: 10000, Loss: 1.964669942855835, \n",
            "Epoch: 12000, Loss: 1.9621230363845825, \n",
            "Epoch: 14000, Loss: 1.9601101875305176, \n",
            "Epoch: 16000, Loss: 1.9584319591522217, \n",
            "Epoch: 18000, Loss: 1.9569493532180786, \n",
            "Epoch: 20000, Loss: 1.9555720090866089, \n",
            "Epoch: 22000, Loss: 1.954233169555664, \n",
            "Epoch: 24000, Loss: 1.952907919883728, \n",
            "Epoch: 26000, Loss: 1.9516338109970093, \n",
            "Epoch: 28000, Loss: 1.9503830671310425, \n",
            "Epoch: 30000, Loss: 1.9491572380065918, \n",
            "Epoch: 32000, Loss: 1.947959542274475, \n",
            "Epoch: 34000, Loss: 1.9467878341674805, \n",
            "Epoch: 36000, Loss: 1.9456287622451782, \n",
            "Epoch: 38000, Loss: 1.9444503784179688, \n",
            "Epoch: 40000, Loss: 1.9431487321853638, \n",
            "Epoch: 42000, Loss: 1.9416567087173462, \n",
            "Epoch: 44000, Loss: 1.94016432762146, \n",
            "Epoch: 46000, Loss: 1.9387785196304321, \n",
            "Epoch: 48000, Loss: 1.9374921321868896, \n",
            "Epoch: 50000, Loss: 1.9362893104553223, \n",
            "Epoch: 52000, Loss: 1.9350138902664185, \n",
            "Epoch: 54000, Loss: 1.9036558866500854, \n",
            "Epoch: 56000, Loss: 1.8987786769866943, \n",
            "Epoch: 58000, Loss: 1.8954253196716309, \n",
            "Epoch: 60000, Loss: 1.8930108547210693, \n",
            "Epoch: 62000, Loss: 1.8911337852478027, \n",
            "Epoch: 64000, Loss: 1.8895667791366577, \n",
            "Epoch: 66000, Loss: 1.8881946802139282, \n",
            "Epoch: 68000, Loss: 1.88694167137146, \n",
            "Epoch: 70000, Loss: 1.885785698890686, \n",
            "Epoch: 72000, Loss: 1.8847179412841797, \n",
            "Epoch: 74000, Loss: 1.883725881576538, \n",
            "Epoch: 76000, Loss: 1.8828128576278687, \n",
            "Epoch: 78000, Loss: 1.8819650411605835, \n",
            "Epoch: 80000, Loss: 1.8811784982681274, \n",
            "Epoch: 82000, Loss: 1.8804445266723633, \n",
            "Epoch: 84000, Loss: 1.8797526359558105, \n",
            "Epoch: 86000, Loss: 1.8791002035140991, \n",
            "Epoch: 88000, Loss: 1.8784949779510498, \n",
            "Epoch: 90000, Loss: 1.8779171705245972, \n",
            "Epoch: 92000, Loss: 1.8773694038391113, \n",
            "Epoch: 94000, Loss: 1.876847505569458, \n",
            "Epoch: 96000, Loss: 1.8763554096221924, \n",
            "Epoch: 98000, Loss: 1.8758814334869385, \n",
            "Epoch: 100000, Loss: 1.8754327297210693, \n"
          ],
          "name": "stdout"
        }
      ]
    },
    {
      "cell_type": "markdown",
      "metadata": {
        "id": "2U802tmphGyk",
        "colab_type": "text"
      },
      "source": [
        "And again, performance:"
      ]
    },
    {
      "cell_type": "code",
      "metadata": {
        "id": "Et08983vhKFL",
        "colab_type": "code",
        "colab": {
          "base_uri": "https://localhost:8080/",
          "height": 34
        },
        "outputId": "ebe892f0-fdc2-42f6-ba2d-90aab3e7dfa1"
      },
      "source": [
        "performance(test_x, test_y, vowel_model_extra_layer)"
      ],
      "execution_count": 523,
      "outputs": [
        {
          "output_type": "stream",
          "text": [
            "0.2654320987654321\n"
          ],
          "name": "stdout"
        }
      ]
    },
    {
      "cell_type": "markdown",
      "metadata": {
        "id": "fo1jiMHMyioD",
        "colab_type": "text"
      },
      "source": [
        "## Summary and Observations\n",
        "\n",
        "There are a few things I noticed while running these experiments. First, online training seems to be much better when it comes to accuracy. For example, I was ably to get decent accuracy with just a few hundred epochs. However, training was extremely slow.\n",
        "\n",
        "When I switched over to batch training, the training speed was much better, but the actual loss decreased very slowly. In many cases, I wasn't able to even approach the accuracy of online training. \n",
        "\n",
        "Then, when it came to actually modifying the network, I found that changes had a serious impact in more ways than one. For example, my first modification (+100 hidden nodes) resulted in better convergence for the same amount of epochs. However, training was quite a bit slower. With my second modifiaction (+1 hidden layer), I noticed similar results; performance was better but training was slower. \n",
        "\n",
        "Since I used the test_train_split function, I realized the results were different for every execution. As a result, I decided to document those results for a few executions:\n",
        "\n",
        "| Execution | Online | Batch | +100 Nodes | +1 Layer |\n",
        "|-----------|--------|------|------------|----------|\n",
        "| 04/08/2020 5:21 PM | 0.3308641975308642 | 0.08765432098765433 | 0.345679012345679 | 0.2654320987654321 |"
      ]
    }
  ]
}