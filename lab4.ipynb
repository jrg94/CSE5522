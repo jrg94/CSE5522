{
  "nbformat": 4,
  "nbformat_minor": 0,
  "metadata": {
    "colab": {
      "name": "lab4.ipynb",
      "provenance": [],
      "collapsed_sections": [],
      "include_colab_link": true
    },
    "kernelspec": {
      "name": "python3",
      "display_name": "Python 3"
    }
  },
  "cells": [
    {
      "cell_type": "markdown",
      "metadata": {
        "id": "view-in-github",
        "colab_type": "text"
      },
      "source": [
        "<a href=\"https://colab.research.google.com/github/jrg94/CSE5522/blob/lab4/lab4.ipynb\" target=\"_parent\"><img src=\"https://colab.research.google.com/assets/colab-badge.svg\" alt=\"Open In Colab\"/></a>"
      ]
    },
    {
      "cell_type": "markdown",
      "metadata": {
        "id": "5uQ78FQhx29R",
        "colab_type": "text"
      },
      "source": [
        "# Perceptron Learning\n",
        "\n",
        "**Overview**\n",
        "\n",
        "The perceptron learning rule is a simple method for training a linear classifier.\n",
        "\n",
        "The basic idea is: when you classify something incorrectly, move the linear classifier a bit in a way that updates the boundary line.  This is related to the gradient descent algorithm used for linear regression.\n",
        "\n",
        "In the first part of the exercise, you will learn the \"and\" function to show the basic operation of the PLR, and in the second you'll try to classify some vowels.\n",
        "\n",
        "There is an optional part to play around with PyTorch, a toolkit that can be used to quickly learn neural networks.  I'll provide a quick walkthrough for learning the XOR problem (based on some code from U. Washington); see if you can adapt this to the vowel classification problem.\n",
        "\n",
        "Note: you may want to change your runtime type to GPU/TPU to speed up computation if you go to PyTorch.\n",
        "\n"
      ]
    },
    {
      "cell_type": "markdown",
      "metadata": {
        "id": "i3ESV2lnTNfG",
        "colab_type": "text"
      },
      "source": [
        "## **Part 1**\n",
        "\n",
        "In the first part of the hands-on, you'll code the Perceptron Learning Rule (PLR) algorithm."
      ]
    },
    {
      "cell_type": "code",
      "metadata": {
        "id": "BnYO6oisBzPQ",
        "colab_type": "code",
        "outputId": "7c36c972-1832-454f-cd31-9e795ef2d9ff",
        "colab": {
          "base_uri": "https://localhost:8080/",
          "height": 265
        }
      },
      "source": [
        "# set up some preliminaries\n",
        "\n",
        "import numpy as np\n",
        "import matplotlib.pyplot as plt\n",
        "\n",
        "# set classification data for \"and\"\n",
        "data=np.array([[0,0],[0,1],[1,0],[1,1]])\n",
        "targets=np.array([0,0,0,1])\n",
        "bias=-1\n",
        "\n",
        "# set some initial weights : w1, w2, bias\n",
        "weights_init=np.array([-1,1,0.5])\n",
        "\n",
        "# here is a function for plotting both the dataset and the current decision\n",
        "# boundary, with errors in red\n",
        "def plotgraph(data,targets,weights):\n",
        "  classification=(np.sign(np.dot(np.hstack((data,np.ones((data.shape[0],1))*bias)),weights))+1)/2\n",
        "\n",
        "  plt.plot(data[np.logical_and(targets==1,classification==1),0],\n",
        "           data[np.logical_and(targets==1,classification==1),1],'bo')\n",
        "  plt.plot(data[np.logical_and(targets==1,classification==0),0],\n",
        "           data[np.logical_and(targets==1,classification==0),1],'ro')\n",
        "  plt.plot(data[np.logical_and(targets==0,classification==1),0],\n",
        "           data[np.logical_and(targets==0,classification==1),1],'rx')\n",
        "  plt.plot(data[np.logical_and(targets==0,classification==0),0],\n",
        "           data[np.logical_and(targets==0,classification==0),1],'bx')\n",
        "\n",
        "  # note weights are in form w_1*x + w_2*y + w_b = 0\n",
        "  # so to plot line we need y= -(w_1*x + w_b)/(w_2)\n",
        "  dmin=np.min(data[:,0])\n",
        "  dmax=np.max(data[:,0])\n",
        "  plt.plot(np.array([dmin,dmax]),\n",
        "           np.array([-(dmin*weights[0]+weights[2]*bias)/(weights[1]),\n",
        "                     -(dmax*weights[0]+weights[2]*bias)/(weights[1])]),\n",
        "           'b--'\n",
        "           )\n",
        "\n",
        "\n",
        "#Plot the current situation.  Red items are misclassified, blue\n",
        "#correctly classified. x=0, circle=1.\n",
        "plotgraph(data,targets,weights_init)\n"
      ],
      "execution_count": 584,
      "outputs": [
        {
          "output_type": "display_data",
          "data": {
            "image/png": "[encoded data removed]",
            "text/plain": [
              "<Figure size 432x288 with 1 Axes>"
            ]
          },
          "metadata": {
            "tags": []
          }
        }
      ]
    },
    {
      "cell_type": "markdown",
      "metadata": {
        "id": "hpBjACAdzlG0",
        "colab_type": "text"
      },
      "source": [
        "**1.1** This is where you will need to code the perceptron learning algorithm.\n",
        "\n",
        "You should assume that the nonlinear function is a step function that outputs 1 if the input is greater than 0, and 0 otherwise.\n",
        "\n",
        "Note that I had a sign bug in the slides.  The error should be the difference between the output and target (i.e. if output is 1 and target is 0, the error is 1).  \n",
        "\n",
        "Remember that there should be a bias.  You can choose to define the fixed bias as -1 (as traditionally done) or 1.  Note if you change the bias you may need to pay attention to the plotting function above.\n",
        "\n",
        "The function should return the updated weight vector.  "
      ]
    },
    {
      "cell_type": "code",
      "metadata": {
        "id": "UZEDDtyaAE-B",
        "colab_type": "code",
        "colab": {}
      },
      "source": [
        "def plr(weights, example, target, learningrate):\n",
        "  # compute weight update\n",
        "  # return updated weights\n",
        "  example_with_bias = np.append(example, bias)\n",
        "  # weights[0] * example[0] + weights[1] * example[1] + weights[2] * bias\n",
        "  g = np.sum(weights * example_with_bias)\n",
        "  output = 1 if g > 0 else 0\n",
        "  error = output - target\n",
        "  return weights - learningrate * error * example_with_bias"
      ],
      "execution_count": 0,
      "outputs": []
    },
    {
      "cell_type": "markdown",
      "metadata": {
        "id": "CKLlwQtH1dO9",
        "colab_type": "text"
      },
      "source": [
        "**1.2** The following function will randomize your training examples, and run the PLR for each example."
      ]
    },
    {
      "cell_type": "code",
      "metadata": {
        "id": "K9u9zBAZ1TzX",
        "colab_type": "code",
        "colab": {}
      },
      "source": [
        "def run_epoch(weights, data, targets, learningrate):\n",
        "  nexamples=data.shape[0]\n",
        "  order=np.random.permutation(nexamples)\n",
        "  for i in range(nexamples):\n",
        "    weights=plr(weights,data[order[i]],targets[order[i]],learningrate)\n",
        "  return weights"
      ],
      "execution_count": 0,
      "outputs": []
    },
    {
      "cell_type": "markdown",
      "metadata": {
        "id": "27HN_7pb2BBi",
        "colab_type": "text"
      },
      "source": [
        "**1.3** Now write a bit of code to run through epochs until convergence."
      ]
    },
    {
      "cell_type": "code",
      "metadata": {
        "id": "JTLXmyEGPJEM",
        "colab_type": "code",
        "outputId": "3e255417-b938-45ad-9db8-63443a3a4f01",
        "colab": {
          "base_uri": "https://localhost:8080/",
          "height": 84
        }
      },
      "source": [
        "print(data)"
      ],
      "execution_count": 587,
      "outputs": [
        {
          "output_type": "stream",
          "text": [
            "[[0 0]\n",
            " [0 1]\n",
            " [1 0]\n",
            " [1 1]]\n"
          ],
          "name": "stdout"
        }
      ]
    },
    {
      "cell_type": "code",
      "metadata": {
        "id": "vcsiD2m0OZUM",
        "colab_type": "code",
        "colab": {}
      },
      "source": [
        "def experiment(iterations, weights, data, targets, learningrate):\n",
        "  for _ in range(iterations):\n",
        "    weights = run_epoch(weights, data, targets, learningrate)\n",
        "  return weights"
      ],
      "execution_count": 0,
      "outputs": []
    },
    {
      "cell_type": "code",
      "metadata": {
        "id": "jnkEdM3nBEWE",
        "colab_type": "code",
        "outputId": "6ba8e325-2048-4851-de16-31eb2e6245cf",
        "colab": {
          "base_uri": "https://localhost:8080/",
          "height": 34
        }
      },
      "source": [
        "# write code to run through convergence\n",
        "# put final weights into \"finalweights\"\n",
        "LEARNING_RATE = .0111\n",
        "ITERS = 10000\n",
        "finalweights = experiment(ITERS, weights_init, data, targets, LEARNING_RATE)\n",
        "print(finalweights)"
      ],
      "execution_count": 589,
      "outputs": [
        {
          "output_type": "stream",
          "text": [
            "[0.0212 0.7447 0.7553]\n"
          ],
          "name": "stdout"
        }
      ]
    },
    {
      "cell_type": "markdown",
      "metadata": {
        "id": "Wfya2cJn2I4u",
        "colab_type": "text"
      },
      "source": [
        "**1.4** Plot the final weights to show the boundary that you have learned."
      ]
    },
    {
      "cell_type": "code",
      "metadata": {
        "id": "8fvq7bmI2HQj",
        "colab_type": "code",
        "outputId": "243680d1-2631-4bee-c552-a2d26701a375",
        "colab": {
          "base_uri": "https://localhost:8080/",
          "height": 265
        }
      },
      "source": [
        "plotgraph(data,targets,finalweights)"
      ],
      "execution_count": 590,
      "outputs": [
        {
          "output_type": "display_data",
          "data": {
            "image/png": "[encoded data removed]",
            "text/plain": [
              "<Figure size 432x288 with 1 Axes>"
            ]
          },
          "metadata": {
            "tags": []
          }
        }
      ]
    },
    {
      "cell_type": "markdown",
      "metadata": {
        "id": "mUrKN_-H2b4w",
        "colab_type": "text"
      },
      "source": [
        "**1.5** Optional extensions:\n",
        "\n",
        "**1.5.1** Rerun your code for the \"or\" function.\n",
        "\n",
        "**1.5.2** Modify your code to allow for the majority class function for three inputs (i.e. 1 if 2 or more inputs are on).\n",
        "\n",
        "**1.5.3** Investigate what happens if you run the \"xor\" function through the training.\n"
      ]
    },
    {
      "cell_type": "markdown",
      "metadata": {
        "id": "2d0V3Z7q22Rm",
        "colab_type": "text"
      },
      "source": [
        "## **Part 2: Vowel Classification**\n",
        "\n",
        "In this section, you will look at some actual (noisy) vowel formant data.  Go to the International Phonetic Alphabet (IPA) vowel chart at https://en.wikipedia.org/wiki/IPA_vowel_chart_with_audio and play the sounds.  The chart is written in IPA, but here are the two letter (ARPABET) symbols for some of the vowels of English:\n",
        "\n",
        "* iy: close front unrounded\n",
        "* ih: near-close front unrounded\n",
        "* ey: close-mid front unrounded\n",
        "* eh: open-mid front unrounded\n",
        "* ah: open back rounded\n",
        "* ao: open-mid back rounded\n",
        "* ow: close-mid back rounded\n",
        "* uw: close back rounded\n",
        "* ax: mid central unrounded\n",
        "\n",
        "I've prepared a csv datafile with the following features:\n",
        "\n",
        "* f1, f2: formants\n",
        "* h1: close\n",
        "* h2: near-close or higher\n",
        "* h3: close-mid or higher\n",
        "* h4: mid or higher\n",
        "* h5: open-mid or higher\n",
        "* b1: back\n",
        "* b2: central or back\n",
        "* r: rounded\n",
        "\n",
        "First, let's read in the data.\n",
        "\n"
      ]
    },
    {
      "cell_type": "code",
      "metadata": {
        "id": "9YZyTz4sBrx6",
        "colab_type": "code",
        "outputId": "c263ca6c-1e61-411c-cf66-60ac25ed55ab",
        "colab": {
          "base_uri": "https://localhost:8080/",
          "height": 378
        }
      },
      "source": [
        "# first, read in the data and build a scatterplot showing the vowel formants\n",
        "import pandas as pd\n",
        "url='https://raw.githubusercontent.com/efosler/cse5522data/master/vowelfmts.csv'\n",
        "df=pd.read_csv(url)\n",
        "\n",
        "# This function will plot the vowels as a scatterplot with different colors\n",
        "# using the traditional F2 vs F1 inverted plot.  This puts high (close) vowels\n",
        "# at the top of the plot and low vowels (open) at the bottom.  Front vowels\n",
        "# are to the left; back vowels to the right.  Optionally can plot a boundary.\n",
        "\n",
        "def plotvowels(df,weights=None):\n",
        "  # this next bit converts the label into a colormap value between 0 and 1\n",
        "  vowels=df['vowel'].unique()\n",
        "  vmap={}\n",
        "  for i in range(vowels.shape[0]):\n",
        "    vmap[vowels[i]]=float(i)/float(vowels.shape[0]-1)\n",
        "  df['color']=df['vowel'].map(vmap)\n",
        "  # plot the scatterplot\n",
        "  plt.figure(num=1,figsize=(6,6))\n",
        "  plt.scatter(df['f2'],df['f1'],s=1,c=df['color'],cmap='gist_rainbow')\n",
        "  plt.gca().set_ylim([100,1000])\n",
        "  plt.gca().set_xlim([750,2500])\n",
        "  plt.gca().invert_xaxis()\n",
        "  plt.gca().invert_yaxis()\n",
        "  if weights is not None:\n",
        "    dmin=df['f2'].min()\n",
        "    dmax=df['f2'].max()\n",
        "    plt.plot(np.array([dmin,dmax]),\n",
        "             np.array([-(dmin*weights[0]+weights[2])/(weights[1]),\n",
        "                       -(dmax*weights[0]+weights[2])/(weights[1])]),\n",
        "             'b--'\n",
        "             )\n",
        "\n",
        "# Plot the vowel data.  Compare against the IPA chart online.      \n",
        "plotvowels(df)"
      ],
      "execution_count": 591,
      "outputs": [
        {
          "output_type": "display_data",
          "data": {
            "image/png": "[encoded data removed]",
            "text/plain": [
              "<Figure size 432x432 with 1 Axes>"
            ]
          },
          "metadata": {
            "tags": []
          }
        }
      ]
    },
    {
      "cell_type": "markdown",
      "metadata": {
        "id": "OKy9yHIA4fgW",
        "colab_type": "text"
      },
      "source": [
        "You will notice that the vowel classes aren't linearly separable.  The idea will be to try to separate the different kinds of vowels (back/front/close/open) with different separators.\n",
        "\n",
        "**2.2** A bit of code to create training/test sets."
      ]
    },
    {
      "cell_type": "code",
      "metadata": {
        "id": "z55b8iWFBIFC",
        "colab_type": "code",
        "colab": {}
      },
      "source": [
        "from sklearn.model_selection import train_test_split\n",
        "train_data, test_data, train_targets, test_targets = train_test_split(df[['f1','f2']],df[['close','near-close+','close-mid+','mid+','open-mid+','back','central-or-back','rounded','vowel']])"
      ],
      "execution_count": 0,
      "outputs": []
    },
    {
      "cell_type": "markdown",
      "metadata": {
        "id": "SLtkJHnL4rb9",
        "colab_type": "text"
      },
      "source": [
        "**2.3** At this point, the project becomes a bit open-ended and exploratory.  What you should do is normalize F1 and F2 (perhaps it would be best to do that before the data splits, but that is your choice).  The main reason is that the bias term needs to be pretty high.\n",
        "\n",
        "Try to predict one of the targets (e.g. train_targets['central-or-back']) from the f2/f1 data.  If you can get reasonable classifiers for the 8 vowel features (h1-h5,b1,b2,r) then see if you can predict the vowel category based on the output of the classifiers.  \n",
        "\n",
        "WARNING: since your classes will not be linearly separable, you will need to NOT run to convergence (as they won't converge).  See if you can figure out a reasonable place to stop training.\n",
        "\n",
        "If you get stuck on this point, and want to try something different, move on to Part 3."
      ]
    },
    {
      "cell_type": "code",
      "metadata": {
        "id": "o_dO_JvEDi9F",
        "colab_type": "code",
        "outputId": "e8a9c2b3-81ca-4d42-fd5f-98ab81806158",
        "colab": {
          "base_uri": "https://localhost:8080/",
          "height": 252
        }
      },
      "source": [
        "# normalize training data (borrowed from https://stackoverflow.com/questions/26414913/normalize-columns-of-pandas-data-frame)\n",
        "from sklearn import preprocessing\n",
        "x = train_data.values \n",
        "min_max_scaler = preprocessing.MinMaxScaler()\n",
        "x_scaled = min_max_scaler.fit_transform(x)\n",
        "train_data = pd.DataFrame(x_scaled)\n",
        "print(train_data)"
      ],
      "execution_count": 593,
      "outputs": [
        {
          "output_type": "stream",
          "text": [
            "             0         1\n",
            "0     0.293272  0.272548\n",
            "1     0.129183  0.816979\n",
            "2     0.042942  0.267615\n",
            "3     0.184652  0.070026\n",
            "4     0.236020  0.501286\n",
            "...        ...       ...\n",
            "2422  0.300255  0.332970\n",
            "2423  0.276100  0.224089\n",
            "2424  0.147996  0.802594\n",
            "2425  0.359353  0.358175\n",
            "2426  0.203334  0.792277\n",
            "\n",
            "[2427 rows x 2 columns]\n"
          ],
          "name": "stdout"
        }
      ]
    },
    {
      "cell_type": "code",
      "metadata": {
        "id": "SfZO4CdrQeP0",
        "colab_type": "code",
        "outputId": "1995f2a2-eaa9-431d-b1e1-d619965ecd18",
        "colab": {
          "base_uri": "https://localhost:8080/",
          "height": 67
        }
      },
      "source": [
        "print(train_targets.columns)"
      ],
      "execution_count": 594,
      "outputs": [
        {
          "output_type": "stream",
          "text": [
            "Index(['close', 'near-close+', 'close-mid+', 'mid+', 'open-mid+', 'back',\n",
            "       'central-or-back', 'rounded', 'vowel'],\n",
            "      dtype='object')\n"
          ],
          "name": "stdout"
        }
      ]
    },
    {
      "cell_type": "code",
      "metadata": {
        "id": "xtevCTxiNmXs",
        "colab_type": "code",
        "outputId": "40588cfc-1caf-4fe6-c970-d50af56c2ce9",
        "colab": {
          "base_uri": "https://localhost:8080/",
          "height": 151
        }
      },
      "source": [
        "# predict one of the attributes from training data\n",
        "ITER = 100\n",
        "close_weights = experiment(ITER, weights_init, train_data.values, train_targets[\"close\"].values, LEARNING_RATE)\n",
        "near_close_weights = experiment(ITER, weights_init, train_data.values, train_targets[\"near-close+\"].values, LEARNING_RATE)\n",
        "close_mid_weights = experiment(ITER, weights_init, train_data.values, train_targets[\"close-mid+\"].values, LEARNING_RATE)\n",
        "mid_weights = experiment(ITER, weights_init, train_data.values, train_targets[\"mid+\"].values, LEARNING_RATE)\n",
        "open_mid_weights = experiment(ITER, weights_init, train_data.values, train_targets[\"open-mid+\"].values, LEARNING_RATE)\n",
        "back_weights = experiment(ITER, weights_init, train_data.values, train_targets[\"back\"].values, LEARNING_RATE)\n",
        "central_or_back_weights = experiment(ITER, weights_init, train_data.values, train_targets[\"central-or-back\"].values, LEARNING_RATE)\n",
        "rounded_weights = experiment(ITER, weights_init, train_data.values, train_targets[\"rounded\"].values, LEARNING_RATE)\n",
        "\n",
        "display(\n",
        "    close_weights,\n",
        "    near_close_weights,\n",
        "    close_mid_weights,\n",
        "    mid_weights,\n",
        "    open_mid_weights,\n",
        "    back_weights,\n",
        "    central_or_back_weights,\n",
        "    rounded_weights\n",
        ")"
      ],
      "execution_count": 595,
      "outputs": [
        {
          "output_type": "display_data",
          "data": {
            "text/plain": [
              "array([-0.04987949,  0.01865903,  0.0116    ])"
            ]
          },
          "metadata": {
            "tags": []
          }
        },
        {
          "output_type": "display_data",
          "data": {
            "text/plain": [
              "array([-0.05690387,  0.01963869,  0.0116    ])"
            ]
          },
          "metadata": {
            "tags": []
          }
        },
        {
          "output_type": "display_data",
          "data": {
            "text/plain": [
              "array([-0.0230061 ,  0.01030564, -0.0106    ])"
            ]
          },
          "metadata": {
            "tags": []
          }
        },
        {
          "output_type": "display_data",
          "data": {
            "text/plain": [
              "array([-0.0260171 ,  0.01618811, -0.0106    ])"
            ]
          },
          "metadata": {
            "tags": []
          }
        },
        {
          "output_type": "display_data",
          "data": {
            "text/plain": [
              "array([-0.02125018,  0.00264779, -0.0217    ])"
            ]
          },
          "metadata": {
            "tags": []
          }
        },
        {
          "output_type": "display_data",
          "data": {
            "text/plain": [
              "array([ 0.00301025, -0.06766031, -0.0217    ])"
            ]
          },
          "metadata": {
            "tags": []
          }
        },
        {
          "output_type": "display_data",
          "data": {
            "text/plain": [
              "array([-0.00736695, -0.05567013, -0.0439    ])"
            ]
          },
          "metadata": {
            "tags": []
          }
        },
        {
          "output_type": "display_data",
          "data": {
            "text/plain": [
              "array([-0.01290171, -0.06554404, -0.0328    ])"
            ]
          },
          "metadata": {
            "tags": []
          }
        }
      ]
    },
    {
      "cell_type": "code",
      "metadata": {
        "id": "pT7z66xNSxeD",
        "colab_type": "code",
        "outputId": "8e9d7210-3a4a-4969-a2e3-6409e30cd117",
        "colab": {
          "base_uri": "https://localhost:8080/",
          "height": 378
        }
      },
      "source": [
        "plotvowels(df, close_weights)"
      ],
      "execution_count": 596,
      "outputs": [
        {
          "output_type": "display_data",
          "data": {
            "image/png": "[encoded data removed]",
            "text/plain": [
              "<Figure size 432x432 with 1 Axes>"
            ]
          },
          "metadata": {
            "tags": []
          }
        }
      ]
    },
    {
      "cell_type": "code",
      "metadata": {
        "id": "FanO1XglRq8s",
        "colab_type": "code",
        "colab": {}
      },
      "source": [
        "# if you get this far, take the classifiers and try to predict vowel class (\"and\" function)!"
      ],
      "execution_count": 0,
      "outputs": []
    },
    {
      "cell_type": "markdown",
      "metadata": {
        "id": "5ropho7s6URu",
        "colab_type": "text"
      },
      "source": [
        "## **Part 3: PyTorch Neural Networks**\n",
        "\n",
        "This is a quick runthrough of PyTorch, and how to build a neural network.  The code below is a modified version of https://courses.cs.washington.edu/courses/cse446/18wi/sections/section8/XOR-Pytorch.html with some additional annotations to help you along.\n",
        "\n",
        "This part is mostly read-and-run, but at the end you can test your understanding by modifying the code.\n",
        "\n",
        "**3.1** First some library preliminaries."
      ]
    },
    {
      "cell_type": "code",
      "metadata": {
        "id": "GyIQ-0oOiU7F",
        "colab_type": "code",
        "outputId": "14f030af-578c-421a-a51b-adba8d3f3bd8",
        "colab": {
          "base_uri": "https://localhost:8080/",
          "height": 34
        }
      },
      "source": [
        "import torch\n",
        "from torch.autograd import Variable\n",
        "import torch.nn as nn\n",
        "import torch.nn.functional as F\n",
        "import torch.optim as optim\n",
        "import numpy as np\n",
        "import matplotlib.pyplot as plt\n",
        "%matplotlib inline\n",
        "torch.manual_seed(2)"
      ],
      "execution_count": 598,
      "outputs": [
        {
          "output_type": "execute_result",
          "data": {
            "text/plain": [
              "<torch._C.Generator at 0x7f7565b726f0>"
            ]
          },
          "metadata": {
            "tags": []
          },
          "execution_count": 598
        }
      ]
    },
    {
      "cell_type": "markdown",
      "metadata": {
        "id": "Zo7_euBB64as",
        "colab_type": "text"
      },
      "source": [
        "**3.2** Now set up the data into *tensors* (i.e. multidimensional arrays).  X is the data array, Y is the target."
      ]
    },
    {
      "cell_type": "code",
      "metadata": {
        "id": "OOrD5aDP62CX",
        "colab_type": "code",
        "colab": {}
      },
      "source": [
        "X = torch.Tensor([[0,0],[0,1], [1,0], [1,1]])\n",
        "Y = torch.Tensor([0,1,1,0]).view(-1,1)"
      ],
      "execution_count": 0,
      "outputs": []
    },
    {
      "cell_type": "markdown",
      "metadata": {
        "id": "MpflPWlf7Nsj",
        "colab_type": "text"
      },
      "source": [
        "**3.3** Let's define a multi-layer perceptron with 2 layers.  Each layer will create a linear combination of the inputs, and feed to a sigmoid output.\n",
        "\n",
        "Note that the initializer (with the calls to nn.Linear) will create a set of parameters that are associated with the model."
      ]
    },
    {
      "cell_type": "code",
      "metadata": {
        "id": "fn7n4-VH7OQL",
        "colab_type": "code",
        "colab": {}
      },
      "source": [
        "class MLP2(nn.Module):\n",
        "    def __init__(self, input_dim = 2, hid_dim=2, output_dim=1):\n",
        "        # initialze the superclass\n",
        "        super(MLP2, self).__init__()\n",
        "        # this will create a linear layer with input_dim x hid_dim parameters\n",
        "        # in addition to a bias unit with hid_dim parameters\n",
        "        self.lin1 = nn.Linear(input_dim, hid_dim)\n",
        "        # same thing here except hid_dim x output_dim\n",
        "        self.lin2 = nn.Linear(hid_dim, output_dim)\n",
        "    \n",
        "    # this is where the meat of the action is\n",
        "    def forward(self, x):\n",
        "        x = self.lin1(x)  # linear combination of inputs\n",
        "        x = torch.sigmoid(x) # then through sigmoid - output of first layer\n",
        "        x = self.lin2(x) # linear combination of hidden units\n",
        "        x = torch.sigmoid(x) # then through sigmoid - net output\n",
        "        return x"
      ],
      "execution_count": 0,
      "outputs": []
    },
    {
      "cell_type": "markdown",
      "metadata": {
        "id": "Usrqoiw48CcX",
        "colab_type": "text"
      },
      "source": [
        "**3.4** We also define a function to initialize weights of our model."
      ]
    },
    {
      "cell_type": "code",
      "metadata": {
        "id": "bJP5EfDS7-Hw",
        "colab_type": "code",
        "colab": {}
      },
      "source": [
        "def weights_init(model):\n",
        "    for m in model.modules():\n",
        "        if isinstance(m, nn.Linear):\n",
        "            # initialize the weight tensor, here we use a normal distribution\n",
        "            m.weight.data.normal_(0, 1)"
      ],
      "execution_count": 0,
      "outputs": []
    },
    {
      "cell_type": "markdown",
      "metadata": {
        "id": "IhhgEm298OSk",
        "colab_type": "text"
      },
      "source": [
        "**3.5** Now create a model and initialize it.  Also define a loss function and the optimizer."
      ]
    },
    {
      "cell_type": "code",
      "metadata": {
        "id": "QD8pE8kb8MuO",
        "colab_type": "code",
        "colab": {}
      },
      "source": [
        "model1 = MLP2()\n",
        "weights_init(model1)\n",
        "loss_func = nn.MSELoss()\n",
        "optimizer = optim.SGD(model1.parameters(), lr=0.02, momentum=0.9)"
      ],
      "execution_count": 0,
      "outputs": []
    },
    {
      "cell_type": "markdown",
      "metadata": {
        "id": "GPT4oaWy9LD-",
        "colab_type": "text"
      },
      "source": [
        "**3.6** Now we run the training."
      ]
    },
    {
      "cell_type": "code",
      "metadata": {
        "id": "jj3tKoee8nMH",
        "colab_type": "code",
        "outputId": "88c60d9d-3784-4e70-e57d-4f8e087ed8ba",
        "colab": {
          "base_uri": "https://localhost:8080/",
          "height": 202
        }
      },
      "source": [
        "epochs = 5001\n",
        "steps = X.size(0)\n",
        "for i in range(epochs):\n",
        "    for j in range(steps):\n",
        "        data_point = np.random.randint(X.size(0))\n",
        "        x_var = Variable(X[data_point], requires_grad=False)\n",
        "        y_var = Variable(Y[data_point], requires_grad=False)\n",
        "        \n",
        "        optimizer.zero_grad()\n",
        "        y_hat = model1(x_var)\n",
        "        loss = loss_func.forward(y_hat, y_var)\n",
        "        loss.backward()\n",
        "        optimizer.step()\n",
        "\n",
        "    if i % 500 == 0:\n",
        "        print(\"Epoch: {0}, Loss: {1}, \".format(i, loss.data.numpy()))"
      ],
      "execution_count": 603,
      "outputs": [
        {
          "output_type": "stream",
          "text": [
            "Epoch: 0, Loss: 0.5460707545280457, \n",
            "Epoch: 500, Loss: 0.09408916532993317, \n",
            "Epoch: 1000, Loss: 0.29471176862716675, \n",
            "Epoch: 1500, Loss: 0.15507563948631287, \n",
            "Epoch: 2000, Loss: 0.002382668200880289, \n",
            "Epoch: 2500, Loss: 0.0034802425652742386, \n",
            "Epoch: 3000, Loss: 0.0012568219099193811, \n",
            "Epoch: 3500, Loss: 0.0006062108441255987, \n",
            "Epoch: 4000, Loss: 0.001020321506075561, \n",
            "Epoch: 4500, Loss: 0.24175657331943512, \n",
            "Epoch: 5000, Loss: 0.2709232270717621, \n"
          ],
          "name": "stdout"
        }
      ]
    },
    {
      "cell_type": "markdown",
      "metadata": {
        "id": "sqFt7zng-cIO",
        "colab_type": "text"
      },
      "source": [
        "**3.7** This is a neat little bit of code that will print out the first layer's decision boundaries."
      ]
    },
    {
      "cell_type": "code",
      "metadata": {
        "id": "DX6bK_Z--TV9",
        "colab_type": "code",
        "outputId": "0ee73b0d-30f0-43f9-f26b-83fe3e55c2fd",
        "colab": {
          "base_uri": "https://localhost:8080/",
          "height": 265
        }
      },
      "source": [
        "model_params = list(model1.parameters())\n",
        "model_weights = model_params[0].data.numpy()\n",
        "model_bias = model_params[1].data.numpy()\n",
        "\n",
        "plt.scatter(X.numpy()[[0,-1], 0], X.numpy()[[0, -1], 1], s=50)\n",
        "plt.scatter(X.numpy()[[1,2], 0], X.numpy()[[1, 2], 1], c='red', s=50)\n",
        "\n",
        "x_1 = np.arange(-0.1, 1.1, 0.1)\n",
        "y_1 = ((x_1 * model_weights[0,0]) + model_bias[0]) / (-model_weights[0,1])\n",
        "plt.plot(x_1, y_1)\n",
        "\n",
        "x_2 = np.arange(-0.1, 1.1, 0.1)\n",
        "y_2 = ((x_2 * model_weights[1,0]) + model_bias[1]) / (-model_weights[1,1])\n",
        "plt.plot(x_2, y_2)\n",
        "plt.legend([\"neuron_1\", \"neuron_2\"], loc=8)\n",
        "plt.show()"
      ],
      "execution_count": 604,
      "outputs": [
        {
          "output_type": "display_data",
          "data": {
            "image/png": "[encoded data removed]",
            "text/plain": [
              "<Figure size 432x288 with 1 Axes>"
            ]
          },
          "metadata": {
            "tags": []
          }
        }
      ]
    },
    {
      "cell_type": "markdown",
      "metadata": {
        "id": "8WHZknJg-09E",
        "colab_type": "text"
      },
      "source": [
        "**3.8** Now take a look at the parameters that were learned.  Can you trace how the xor decision works for each of the datapoints?  \n",
        "\n",
        "The first tensor is the input-hidden weights, second is the bias-hidden weights, third is hidden-output, and last is bias-output."
      ]
    },
    {
      "cell_type": "code",
      "metadata": {
        "id": "MtJ_Y3kw-wzE",
        "colab_type": "code",
        "outputId": "c5228ed1-4243-4100-e10f-5bf139577498",
        "colab": {
          "base_uri": "https://localhost:8080/",
          "height": 118
        }
      },
      "source": [
        "model_params"
      ],
      "execution_count": 605,
      "outputs": [
        {
          "output_type": "execute_result",
          "data": {
            "text/plain": [
              "[Parameter containing:\n",
              " tensor([[-5.0591, -7.9767],\n",
              "         [-2.4865,  7.6391]], requires_grad=True), Parameter containing:\n",
              " tensor([0.9480, 1.3167], requires_grad=True), Parameter containing:\n",
              " tensor([[-6.4563, -4.3053]], requires_grad=True), Parameter containing:\n",
              " tensor([4.3453], requires_grad=True)]"
            ]
          },
          "metadata": {
            "tags": []
          },
          "execution_count": 605
        }
      ]
    },
    {
      "cell_type": "markdown",
      "metadata": {
        "id": "o0ZO61uX_XRa",
        "colab_type": "text"
      },
      "source": [
        "**3.9** Can you modify the above code to add a third layer?  What happens if you replace the sigmoid in the middle layer(s) with tanh?"
      ]
    },
    {
      "cell_type": "markdown",
      "metadata": {
        "id": "KTlDScM7csqW",
        "colab_type": "text"
      },
      "source": [
        "To do this, I modified the constructor to include another linear layer. "
      ]
    },
    {
      "cell_type": "code",
      "metadata": {
        "colab_type": "code",
        "id": "aLZmWNqpcaK9",
        "colab": {}
      },
      "source": [
        "class MLP3(nn.Module):\n",
        "    def __init__(self, input_dim = 2, hid_dim=2, output_dim=1):\n",
        "        # initialze the superclass\n",
        "        super(MLP3, self).__init__()\n",
        "        # this will create a linear layer with input_dim x hid_dim parameters\n",
        "        # in addition to a bias unit with hid_dim parameters\n",
        "        self.lin1 = nn.Linear(input_dim, hid_dim)\n",
        "        # a hidden layer between input layer and output layer\n",
        "        self.lin_hid = nn.Linear(hid_dim, hid_dim)\n",
        "        # same thing here except hid_dim x output_dim\n",
        "        self.lin2 = nn.Linear(hid_dim, output_dim)\n",
        "    \n",
        "    # this is where the meat of the action is\n",
        "    def forward(self, x):\n",
        "        x = self.lin1(x)  # linear combination of inputs\n",
        "        x = torch.sigmoid(x) # then through sigmoid - output of first layer\n",
        "        x = self.lin_hid(x)\n",
        "        x = torch.sigmoid(x)\n",
        "        x = self.lin2(x) # linear combination of hidden units\n",
        "        x = torch.sigmoid(x) # then through sigmoid - net output\n",
        "        return x"
      ],
      "execution_count": 0,
      "outputs": []
    },
    {
      "cell_type": "code",
      "metadata": {
        "id": "Ef4cigg8fZu-",
        "colab_type": "code",
        "colab": {}
      },
      "source": [
        "model2 = MLP3()\n",
        "weights_init(model2)\n",
        "loss_func = nn.MSELoss()\n",
        "optimizer = optim.SGD(model2.parameters(), lr=0.02, momentum=0.9)"
      ],
      "execution_count": 0,
      "outputs": []
    },
    {
      "cell_type": "code",
      "metadata": {
        "id": "qm9ULLwmfdMM",
        "colab_type": "code",
        "outputId": "c6de96ef-4ad6-4299-d7e7-9151f9ff401b",
        "colab": {
          "base_uri": "https://localhost:8080/",
          "height": 202
        }
      },
      "source": [
        "epochs = 5001\n",
        "steps = X.size(0)\n",
        "for i in range(epochs):\n",
        "    for j in range(steps):\n",
        "        data_point = np.random.randint(X.size(0))\n",
        "        x_var = Variable(X[data_point], requires_grad=False)\n",
        "        y_var = Variable(Y[data_point], requires_grad=False)\n",
        "        \n",
        "        optimizer.zero_grad()\n",
        "        y_hat = model2(x_var)\n",
        "        loss = loss_func.forward(y_hat, y_var)\n",
        "        loss.backward()\n",
        "        optimizer.step()\n",
        "\n",
        "    if i % 500 == 0:\n",
        "        print(\"Epoch: {0}, Loss: {1}, \".format(i, loss.data.numpy()))"
      ],
      "execution_count": 608,
      "outputs": [
        {
          "output_type": "stream",
          "text": [
            "Epoch: 0, Loss: 0.3450237214565277, \n",
            "Epoch: 500, Loss: 0.18764014542102814, \n",
            "Epoch: 1000, Loss: 0.2927212417125702, \n",
            "Epoch: 1500, Loss: 0.3041369616985321, \n",
            "Epoch: 2000, Loss: 0.2431139200925827, \n",
            "Epoch: 2500, Loss: 0.2611093521118164, \n",
            "Epoch: 3000, Loss: 0.19136536121368408, \n",
            "Epoch: 3500, Loss: 0.03867514804005623, \n",
            "Epoch: 4000, Loss: 0.004272096324712038, \n",
            "Epoch: 4500, Loss: 0.002061272971332073, \n",
            "Epoch: 5000, Loss: 0.0013451080303639174, \n"
          ],
          "name": "stdout"
        }
      ]
    },
    {
      "cell_type": "code",
      "metadata": {
        "id": "LUcrOFqxfkgU",
        "colab_type": "code",
        "outputId": "1fdc49ae-192e-498e-8074-92bbe7e50fb1",
        "colab": {
          "base_uri": "https://localhost:8080/",
          "height": 265
        }
      },
      "source": [
        "model_params = list(model2.parameters())\n",
        "model_weights = model_params[0].data.numpy()\n",
        "model_bias = model_params[1].data.numpy()\n",
        "\n",
        "plt.scatter(X.numpy()[[0,-1], 0], X.numpy()[[0, -1], 1], s=50)\n",
        "plt.scatter(X.numpy()[[1,2], 0], X.numpy()[[1, 2], 1], c='red', s=50)\n",
        "\n",
        "x_1 = np.arange(-0.1, 1.1, 0.1)\n",
        "y_1 = ((x_1 * model_weights[0,0]) + model_bias[0]) / (-model_weights[0,1])\n",
        "plt.plot(x_1, y_1)\n",
        "\n",
        "x_2 = np.arange(-0.1, 1.1, 0.1)\n",
        "y_2 = ((x_2 * model_weights[1,0]) + model_bias[1]) / (-model_weights[1,1])\n",
        "plt.plot(x_2, y_2)\n",
        "plt.legend([\"neuron_1\", \"neuron_2\"], loc=8)\n",
        "plt.show()"
      ],
      "execution_count": 609,
      "outputs": [
        {
          "output_type": "display_data",
          "data": {
            "image/png": "[encoded data removed]",
            "text/plain": [
              "<Figure size 432x288 with 1 Axes>"
            ]
          },
          "metadata": {
            "tags": []
          }
        }
      ]
    },
    {
      "cell_type": "markdown",
      "metadata": {
        "id": "Fm6nZTSdf4at",
        "colab_type": "text"
      },
      "source": [
        "I have executed these models a few times, and I continue to get different results. However, in general, the second model (model2) draws better decision boundaries (although it doesn't always converge on the proper boundaries): each line separates a different point of the same color in parallel. Meanwhile, the first model (model1) gets confused around the decision boundaries. For example, one line separates off a blue point while the other line separates off an orange point—both lines cross in the middle.\n",
        "\n",
        "If I increase the epochs, I don't really see a difference. The first model (model1) still fails to get the right decision boundaries. That said, the second model (model2) does almost certainly converge with more epochs. \n",
        "\n",
        "At any rate, the following model introduces tanh into the new middle layer:"
      ]
    },
    {
      "cell_type": "code",
      "metadata": {
        "id": "i5w_OjG0l2Ck",
        "colab_type": "code",
        "colab": {}
      },
      "source": [
        "class MLP4(nn.Module):\n",
        "    def __init__(self, input_dim = 2, hid_dim=2, output_dim=1):\n",
        "        # initialze the superclass\n",
        "        super(MLP4, self).__init__()\n",
        "        # this will create a linear layer with input_dim x hid_dim parameters\n",
        "        # in addition to a bias unit with hid_dim parameters\n",
        "        self.lin1 = nn.Linear(input_dim, hid_dim)\n",
        "        # a hidden layer between input layer and output layer\n",
        "        self.lin_hid = nn.Linear(hid_dim, hid_dim)\n",
        "        # same thing here except hid_dim x output_dim\n",
        "        self.lin2 = nn.Linear(hid_dim, output_dim)\n",
        "    \n",
        "    # this is where the meat of the action is\n",
        "    def forward(self, x):\n",
        "        x = self.lin1(x)  # linear combination of inputs\n",
        "        x = torch.sigmoid(x) # then through sigmoid - output of first layer\n",
        "        x = self.lin_hid(x)\n",
        "        x = torch.tanh(x)\n",
        "        x = self.lin2(x) # linear combination of hidden units\n",
        "        x = torch.sigmoid(x) # then through sigmoid - net output\n",
        "        return x"
      ],
      "execution_count": 0,
      "outputs": []
    },
    {
      "cell_type": "code",
      "metadata": {
        "id": "GxKFUNncl93y",
        "colab_type": "code",
        "colab": {}
      },
      "source": [
        "model3 = MLP4()\n",
        "weights_init(model3)\n",
        "loss_func = nn.MSELoss()\n",
        "optimizer = optim.SGD(model3.parameters(), lr=0.02, momentum=0.9)"
      ],
      "execution_count": 0,
      "outputs": []
    },
    {
      "cell_type": "code",
      "metadata": {
        "id": "sWmo3ihgmCUS",
        "colab_type": "code",
        "outputId": "9bc741fd-a65d-401c-8c0e-16a6e7b176a9",
        "colab": {
          "base_uri": "https://localhost:8080/",
          "height": 202
        }
      },
      "source": [
        "epochs = 5001\n",
        "steps = X.size(0)\n",
        "for i in range(epochs):\n",
        "    for j in range(steps):\n",
        "        data_point = np.random.randint(X.size(0))\n",
        "        x_var = Variable(X[data_point], requires_grad=False)\n",
        "        y_var = Variable(Y[data_point], requires_grad=False)\n",
        "        \n",
        "        optimizer.zero_grad()\n",
        "        y_hat = model3(x_var)\n",
        "        loss = loss_func.forward(y_hat, y_var)\n",
        "        loss.backward()\n",
        "        optimizer.step()\n",
        "\n",
        "    if i % 500 == 0:\n",
        "        print(\"Epoch: {0}, Loss: {1}, \".format(i, loss.data.numpy()))"
      ],
      "execution_count": 612,
      "outputs": [
        {
          "output_type": "stream",
          "text": [
            "Epoch: 0, Loss: 0.1740853637456894, \n",
            "Epoch: 500, Loss: 0.1644439995288849, \n",
            "Epoch: 1000, Loss: 0.048173971474170685, \n",
            "Epoch: 1500, Loss: 0.0014877277426421642, \n",
            "Epoch: 2000, Loss: 0.0008057039231061935, \n",
            "Epoch: 2500, Loss: 0.0003501272003632039, \n",
            "Epoch: 3000, Loss: 0.00025649910094216466, \n",
            "Epoch: 3500, Loss: 0.00038044495158828795, \n",
            "Epoch: 4000, Loss: 0.00014951553021091968, \n",
            "Epoch: 4500, Loss: 0.0002508780744392425, \n",
            "Epoch: 5000, Loss: 0.0001034746237564832, \n"
          ],
          "name": "stdout"
        }
      ]
    },
    {
      "cell_type": "code",
      "metadata": {
        "id": "5cI-Q6txmGNK",
        "colab_type": "code",
        "outputId": "b5495a65-9291-49fb-e95f-24a07f648d46",
        "colab": {
          "base_uri": "https://localhost:8080/",
          "height": 265
        }
      },
      "source": [
        "model_params = list(model3.parameters())\n",
        "model_weights = model_params[0].data.numpy()\n",
        "model_bias = model_params[1].data.numpy()\n",
        "\n",
        "plt.scatter(X.numpy()[[0,-1], 0], X.numpy()[[0, -1], 1], s=50)\n",
        "plt.scatter(X.numpy()[[1,2], 0], X.numpy()[[1, 2], 1], c='red', s=50)\n",
        "\n",
        "x_1 = np.arange(-0.1, 1.1, 0.1)\n",
        "y_1 = ((x_1 * model_weights[0,0]) + model_bias[0]) / (-model_weights[0,1])\n",
        "plt.plot(x_1, y_1)\n",
        "\n",
        "x_2 = np.arange(-0.1, 1.1, 0.1)\n",
        "y_2 = ((x_2 * model_weights[1,0]) + model_bias[1]) / (-model_weights[1,1])\n",
        "plt.plot(x_2, y_2)\n",
        "plt.legend([\"neuron_1\", \"neuron_2\"], loc=8)\n",
        "plt.show()"
      ],
      "execution_count": 613,
      "outputs": [
        {
          "output_type": "display_data",
          "data": {
            "image/png": "[encoded data removed]",
            "text/plain": [
              "<Figure size 432x288 with 1 Axes>"
            ]
          },
          "metadata": {
            "tags": []
          }
        }
      ]
    },
    {
      "cell_type": "markdown",
      "metadata": {
        "id": "2zjEYlJDmw-O",
        "colab_type": "text"
      },
      "source": [
        "The only difference I can see between this new model with tanh as the activation function is that the two lines swapped places (i.e. orange is the top decision boundary while blue is the bottom decision boundary). It also seems to have converged slightly faster. "
      ]
    },
    {
      "cell_type": "markdown",
      "metadata": {
        "id": "NniWfU91_mhn",
        "colab_type": "text"
      },
      "source": [
        "## **Part 4: MLP classification of vowels**\n",
        "\n",
        "If you've gotten this far, then here is a challenge for you.  Taking the data from Part 2, can you build a MLP that can classify the vowels directly into vowel classes?\n",
        "\n",
        "You should have a hidden layer with a reasonable number of hidden units (maybe 100), and your output should be a softmax layer with 9 outputs (one for each vowel class). The target should be 1 for the correct class, and 0 otherwise. The loss function should also be changed to a Cross Entropy loss.  You may need to do a bit of googling of \"pytorch ___\" to find the different kinds of functions you need."
      ]
    },
    {
      "cell_type": "markdown",
      "metadata": {
        "id": "iE0u2lCk_mM7",
        "colab_type": "text"
      },
      "source": [
        "**4.1**: Let's setup some code for training a vowel classification model."
      ]
    },
    {
      "cell_type": "code",
      "metadata": {
        "id": "2oBeGwHQ_lNj",
        "colab_type": "code",
        "colab": {}
      },
      "source": [
        "class MLPVowel(nn.Module):\n",
        "    def __init__(self, input_dim = 2, hid_dim=100, output_dim=9):\n",
        "        super(MLPVowel, self).__init__()\n",
        "        \n",
        "        self.lin1 = nn.Linear(input_dim, hid_dim)\n",
        "        self.lin2 = nn.Linear(hid_dim, output_dim)\n",
        "    \n",
        "    # this is where the meat of the action is\n",
        "    def forward(self, x):\n",
        "        x = self.lin1(x)  # linear combination of inputs\n",
        "        x = torch.sigmoid(x) # then through sigmoid - output of first layer\n",
        "        x = self.lin2(x) # linear combination of hidden units\n",
        "        x = torch.sigmoid(x) # then through sigmoid - net output\n",
        "        return x"
      ],
      "execution_count": 0,
      "outputs": []
    },
    {
      "cell_type": "code",
      "metadata": {
        "id": "9ivlzedOWRdl",
        "colab_type": "code",
        "colab": {}
      },
      "source": [
        "def weights_init(model):\n",
        "    for m in model.modules():\n",
        "        if isinstance(m, nn.Linear):\n",
        "            # initialize the weight tensor, here we use a normal distribution\n",
        "            m.weight.data.normal_(0, 1)"
      ],
      "execution_count": 0,
      "outputs": []
    },
    {
      "cell_type": "code",
      "metadata": {
        "id": "vlO79T87ouKb",
        "colab_type": "code",
        "colab": {}
      },
      "source": [
        "def get_tensors(data, targets):\n",
        "  # Normalize test data\n",
        "  x = data.values \n",
        "  min_max_scaler = preprocessing.MinMaxScaler()\n",
        "  x_scaled = min_max_scaler.fit_transform(x)\n",
        "  normal_x = pd.DataFrame(x_scaled)\n",
        "\n",
        "  # Convert test data to categorical values\n",
        "  vowels = targets['vowel'].astype('category').cat.codes # I fear this isn't returning the same thing for both test and train data....\n",
        "\n",
        "  # Setup tensors\n",
        "  X = torch.Tensor(normal_x.values)\n",
        "  Y = torch.Tensor(vowels.values).long().view(-1, 1)\n",
        "  return X, Y"
      ],
      "execution_count": 0,
      "outputs": []
    },
    {
      "cell_type": "code",
      "metadata": {
        "id": "3ZU5Tc6mSpy8",
        "colab_type": "code",
        "colab": {}
      },
      "source": [
        "# Define data and convert it into useful tensors\n",
        "train_data, test_data, train_targets, test_targets = train_test_split(df[['f1','f2']],df[['close','near-close+','close-mid+','mid+','open-mid+','back','central-or-back','rounded','vowel']])\n",
        "train_x, train_y = get_tensors(train_data, train_targets)\n",
        "test_x, test_y = get_tensors(test_data, test_targets)"
      ],
      "execution_count": 0,
      "outputs": []
    },
    {
      "cell_type": "code",
      "metadata": {
        "id": "J4ENBBxItkdp",
        "colab_type": "code",
        "colab": {}
      },
      "source": [
        "# Initialize model\n",
        "vowel_model = MLPVowel()\n",
        "weights_init(vowel_model)\n",
        "loss_func = nn.CrossEntropyLoss()\n",
        "optimizer = optim.SGD(vowel_model.parameters(), lr=0.02, momentum=0.9)"
      ],
      "execution_count": 0,
      "outputs": []
    },
    {
      "cell_type": "code",
      "metadata": {
        "id": "jYzCsIZ2Sf_2",
        "colab_type": "code",
        "outputId": "109f681a-f8f3-4fb5-ab82-307f51bc1460",
        "colab": {
          "base_uri": "https://localhost:8080/",
          "height": 202
        }
      },
      "source": [
        "# Train model\n",
        "epochs = 101\n",
        "steps = train_x.size(0)\n",
        "for i in range(epochs):\n",
        "    for j in range(steps):\n",
        "        data_point = np.random.randint(X.size(0))\n",
        "        x_var = Variable(train_x[data_point], requires_grad=False)\n",
        "        y_var = Variable(train_y[data_point], requires_grad=False)\n",
        "        \n",
        "        optimizer.zero_grad()\n",
        "        y_hat = vowel_model(x_var).view(1, -1)\n",
        "        loss = loss_func.forward(y_hat, y_var)\n",
        "        loss.backward()\n",
        "        optimizer.step()\n",
        "\n",
        "    if i % 10 == 0:\n",
        "        print(\"Epoch: {0}, Loss: {1}, \".format(i, loss.data.numpy()))"
      ],
      "execution_count": 619,
      "outputs": [
        {
          "output_type": "stream",
          "text": [
            "Epoch: 0, Loss: 1.6538898944854736, \n",
            "Epoch: 10, Loss: 1.6504573822021484, \n",
            "Epoch: 20, Loss: 1.653986930847168, \n",
            "Epoch: 30, Loss: 1.5219367742538452, \n",
            "Epoch: 40, Loss: 1.3730542659759521, \n",
            "Epoch: 50, Loss: 1.5211024284362793, \n",
            "Epoch: 60, Loss: 1.3719823360443115, \n",
            "Epoch: 70, Loss: 1.3720637559890747, \n",
            "Epoch: 80, Loss: 1.372273325920105, \n",
            "Epoch: 90, Loss: 1.3720290660858154, \n",
            "Epoch: 100, Loss: 1.520808458328247, \n"
          ],
          "name": "stdout"
        }
      ]
    },
    {
      "cell_type": "markdown",
      "metadata": {
        "id": "_FxLSGRO1L71",
        "colab_type": "text"
      },
      "source": [
        "**4.2** With the model trained, let's try testing its performance."
      ]
    },
    {
      "cell_type": "code",
      "metadata": {
        "id": "0Q_OOOzG3j5c",
        "colab_type": "code",
        "outputId": "e485c6ce-60c5-46c9-8b6d-d0f63beaf74b",
        "colab": {
          "base_uri": "https://localhost:8080/",
          "height": 34
        }
      },
      "source": [
        "# Test performance\n",
        "total = 0\n",
        "correct = 0\n",
        "steps = test_x.size(0)\n",
        "for i in range(steps):\n",
        "  x_var = test_x[i]\n",
        "  y_var = test_y[i]\n",
        "  y_hat = vowel_model(x_var).view(1, -1)\n",
        "  # Borrowed from docs: https://pytorch.org/tutorials/beginner/blitz/cifar10_tutorial.html\n",
        "  _, predicted = torch.max(y_hat.data, 1)\n",
        "  total += 1\n",
        "  correct += 1 if y_var == predicted else 0\n",
        "\n",
        "print(correct/total)"
      ],
      "execution_count": 620,
      "outputs": [
        {
          "output_type": "stream",
          "text": [
            "0.3395061728395062\n"
          ],
          "name": "stdout"
        }
      ]
    },
    {
      "cell_type": "markdown",
      "metadata": {
        "id": "ajBesTGNeJK5",
        "colab_type": "text"
      },
      "source": [
        "Also, let's get this performance code into a reusable function:"
      ]
    },
    {
      "cell_type": "code",
      "metadata": {
        "id": "tNemKx6GeIS9",
        "colab_type": "code",
        "colab": {}
      },
      "source": [
        "def performance(x, y, model):\n",
        "  # Run experiment\n",
        "  total = 0\n",
        "  correct = 0\n",
        "  steps = x.size(0)\n",
        "  for i in range(steps):\n",
        "    x_var = x[i]\n",
        "    y_var = y[i]\n",
        "    y_hat = model(x_var).view(1, -1)\n",
        "    # Borrowed from docs: https://pytorch.org/tutorials/beginner/blitz/cifar10_tutorial.html\n",
        "    _, predicted = torch.max(y_hat.data, 1)\n",
        "    total += 1\n",
        "    correct += 1 if y_var == predicted else 0\n",
        "  \n",
        "  print(correct/total)"
      ],
      "execution_count": 0,
      "outputs": []
    },
    {
      "cell_type": "code",
      "metadata": {
        "id": "dHbd4cyPekEk",
        "colab_type": "code",
        "colab": {
          "base_uri": "https://localhost:8080/",
          "height": 34
        },
        "outputId": "7f36675d-4b12-4881-ea4a-87304f73bbf8"
      },
      "source": [
        "performance(test_x, test_y, vowel_model)"
      ],
      "execution_count": 622,
      "outputs": [
        {
          "output_type": "stream",
          "text": [
            "0.3395061728395062\n"
          ],
          "name": "stdout"
        }
      ]
    },
    {
      "cell_type": "markdown",
      "metadata": {
        "id": "fVJlbWnvXzrG",
        "colab_type": "text"
      },
      "source": [
        "**4.3** Unfortunately, this is really slow! Let's try passing the full dataset:"
      ]
    },
    {
      "cell_type": "code",
      "metadata": {
        "id": "vK7BH7YuX7gY",
        "colab_type": "code",
        "colab": {}
      },
      "source": [
        "def training(x, y, model, loss_func, optimizer, epochs):\n",
        "  for i in range(epochs):\n",
        "    x_var = Variable(x, requires_grad=False)\n",
        "    y_var = Variable(y, requires_grad=False)\n",
        "        \n",
        "    optimizer.zero_grad()\n",
        "    y_hat = model(x_var)\n",
        "    loss = loss_func.forward(y_hat, y_var.view(-1))\n",
        "    loss.backward()\n",
        "    optimizer.step()\n",
        "\n",
        "    if i % 2000 == 0:\n",
        "      print(\"Epoch: {0}, Loss: {1}, \".format(i, loss.data.numpy()))"
      ],
      "execution_count": 0,
      "outputs": []
    },
    {
      "cell_type": "code",
      "metadata": {
        "id": "LSPMXdnvYeyB",
        "colab_type": "code",
        "colab": {
          "base_uri": "https://localhost:8080/",
          "height": 874
        },
        "outputId": "53b6a81f-b02e-4837-e39a-5347d87a32cc"
      },
      "source": [
        "vowel_model = MLPVowel()\n",
        "weights_init(vowel_model)\n",
        "loss_func = nn.CrossEntropyLoss()\n",
        "optimizer = optim.SGD(vowel_model.parameters(), lr=0.02, momentum=0.9)\n",
        "\n",
        "# played with epochs until it seemed like loss was shrinking so slowly that it wasn't worth the effort\n",
        "training(train_x, train_y, vowel_model, loss_func, optimizer, 100001) "
      ],
      "execution_count": 624,
      "outputs": [
        {
          "output_type": "stream",
          "text": [
            "Epoch: 0, Loss: 2.155388593673706, \n",
            "Epoch: 2000, Loss: 2.0280773639678955, \n",
            "Epoch: 4000, Loss: 2.007263660430908, \n",
            "Epoch: 6000, Loss: 2.000629186630249, \n",
            "Epoch: 8000, Loss: 1.997056245803833, \n",
            "Epoch: 10000, Loss: 1.9947409629821777, \n",
            "Epoch: 12000, Loss: 1.993086814880371, \n",
            "Epoch: 14000, Loss: 1.9918243885040283, \n",
            "Epoch: 16000, Loss: 1.9908208847045898, \n",
            "Epoch: 18000, Loss: 1.9899927377700806, \n",
            "Epoch: 20000, Loss: 1.9892903566360474, \n",
            "Epoch: 22000, Loss: 1.9886890649795532, \n",
            "Epoch: 24000, Loss: 1.9881597757339478, \n",
            "Epoch: 26000, Loss: 1.9876940250396729, \n",
            "Epoch: 28000, Loss: 1.9872772693634033, \n",
            "Epoch: 30000, Loss: 1.9869003295898438, \n",
            "Epoch: 32000, Loss: 1.9865572452545166, \n",
            "Epoch: 34000, Loss: 1.9862440824508667, \n",
            "Epoch: 36000, Loss: 1.9859530925750732, \n",
            "Epoch: 38000, Loss: 1.9856865406036377, \n",
            "Epoch: 40000, Loss: 1.9854376316070557, \n",
            "Epoch: 42000, Loss: 1.9852062463760376, \n",
            "Epoch: 44000, Loss: 1.9849879741668701, \n",
            "Epoch: 46000, Loss: 1.9847813844680786, \n",
            "Epoch: 48000, Loss: 1.9845900535583496, \n",
            "Epoch: 50000, Loss: 1.9844095706939697, \n",
            "Epoch: 52000, Loss: 1.9842365980148315, \n",
            "Epoch: 54000, Loss: 1.984074592590332, \n",
            "Epoch: 56000, Loss: 1.9839168787002563, \n",
            "Epoch: 58000, Loss: 1.9837712049484253, \n",
            "Epoch: 60000, Loss: 1.983628749847412, \n",
            "Epoch: 62000, Loss: 1.9834938049316406, \n",
            "Epoch: 64000, Loss: 1.9833616018295288, \n",
            "Epoch: 66000, Loss: 1.9832360744476318, \n",
            "Epoch: 68000, Loss: 1.9831143617630005, \n",
            "Epoch: 70000, Loss: 1.9829912185668945, \n",
            "Epoch: 72000, Loss: 1.9828771352767944, \n",
            "Epoch: 74000, Loss: 1.9827667474746704, \n",
            "Epoch: 76000, Loss: 1.9826562404632568, \n",
            "Epoch: 78000, Loss: 1.982544183731079, \n",
            "Epoch: 80000, Loss: 1.9824397563934326, \n",
            "Epoch: 82000, Loss: 1.9823325872421265, \n",
            "Epoch: 84000, Loss: 1.9822252988815308, \n",
            "Epoch: 86000, Loss: 1.9821200370788574, \n",
            "Epoch: 88000, Loss: 1.9820082187652588, \n",
            "Epoch: 90000, Loss: 1.9819008111953735, \n",
            "Epoch: 92000, Loss: 1.9817858934402466, \n",
            "Epoch: 94000, Loss: 1.9816641807556152, \n",
            "Epoch: 96000, Loss: 1.9815424680709839, \n",
            "Epoch: 98000, Loss: 1.9814082384109497, \n",
            "Epoch: 100000, Loss: 1.9812723398208618, \n"
          ],
          "name": "stdout"
        }
      ]
    },
    {
      "cell_type": "markdown",
      "metadata": {
        "id": "HlVYBPZuftBt",
        "colab_type": "text"
      },
      "source": [
        "While we're here, let's take a look at performace:"
      ]
    },
    {
      "cell_type": "code",
      "metadata": {
        "id": "mX_MBHUefw_E",
        "colab_type": "code",
        "colab": {
          "base_uri": "https://localhost:8080/",
          "height": 34
        },
        "outputId": "f0d0f930-74b5-445d-be8b-53e8eedf2e9c"
      },
      "source": [
        "performance(test_x, test_y, vowel_model)"
      ],
      "execution_count": 625,
      "outputs": [
        {
          "output_type": "stream",
          "text": [
            "0.06296296296296296\n"
          ],
          "name": "stdout"
        }
      ]
    },
    {
      "cell_type": "markdown",
      "metadata": {
        "id": "i1Wxgg85_y0z",
        "colab_type": "text"
      },
      "source": [
        "**4.4** At this point, we were asked to modify our models. I figure there are basically two things worth trying: expanding the width of the hidden layer and adding an additional layer. First, we'll take a look at expanding the width of the hidden layer. I like this option because it's very easy to change. Also, it gives us potentially more information we can learn (assuming we increase the width)."
      ]
    },
    {
      "cell_type": "code",
      "metadata": {
        "colab_type": "code",
        "id": "0900L9zPCU0Q",
        "colab": {
          "base_uri": "https://localhost:8080/",
          "height": 874
        },
        "outputId": "7e816b6c-1602-415a-ed40-90fa9f0277d9"
      },
      "source": [
        "vowel_model_200 = MLPVowel(hid_dim=200)\n",
        "weights_init(vowel_model_200)\n",
        "loss_func = nn.CrossEntropyLoss()\n",
        "optimizer = optim.SGD(vowel_model_200.parameters(), lr=0.02, momentum=0.9)\n",
        "training(train_x, train_y, vowel_model_200, loss_func, optimizer, 100001)"
      ],
      "execution_count": 626,
      "outputs": [
        {
          "output_type": "stream",
          "text": [
            "Epoch: 0, Loss: 2.2576239109039307, \n",
            "Epoch: 2000, Loss: 1.9725910425186157, \n",
            "Epoch: 4000, Loss: 1.963929533958435, \n",
            "Epoch: 6000, Loss: 1.9437719583511353, \n",
            "Epoch: 8000, Loss: 1.9360758066177368, \n",
            "Epoch: 10000, Loss: 1.931929349899292, \n",
            "Epoch: 12000, Loss: 1.9291263818740845, \n",
            "Epoch: 14000, Loss: 1.9270201921463013, \n",
            "Epoch: 16000, Loss: 1.9253298044204712, \n",
            "Epoch: 18000, Loss: 1.9239234924316406, \n",
            "Epoch: 20000, Loss: 1.9227097034454346, \n",
            "Epoch: 22000, Loss: 1.9216392040252686, \n",
            "Epoch: 24000, Loss: 1.920678734779358, \n",
            "Epoch: 26000, Loss: 1.9198057651519775, \n",
            "Epoch: 28000, Loss: 1.9189988374710083, \n",
            "Epoch: 30000, Loss: 1.9182446002960205, \n",
            "Epoch: 32000, Loss: 1.9175368547439575, \n",
            "Epoch: 34000, Loss: 1.916861653327942, \n",
            "Epoch: 36000, Loss: 1.9162204265594482, \n",
            "Epoch: 38000, Loss: 1.915604829788208, \n",
            "Epoch: 40000, Loss: 1.915004014968872, \n",
            "Epoch: 42000, Loss: 1.9144262075424194, \n",
            "Epoch: 44000, Loss: 1.9138609170913696, \n",
            "Epoch: 46000, Loss: 1.9133071899414062, \n",
            "Epoch: 48000, Loss: 1.9127638339996338, \n",
            "Epoch: 50000, Loss: 1.9122284650802612, \n",
            "Epoch: 52000, Loss: 1.9117032289505005, \n",
            "Epoch: 54000, Loss: 1.911186695098877, \n",
            "Epoch: 56000, Loss: 1.9106720685958862, \n",
            "Epoch: 58000, Loss: 1.910162329673767, \n",
            "Epoch: 60000, Loss: 1.9096611738204956, \n",
            "Epoch: 62000, Loss: 1.9091659784317017, \n",
            "Epoch: 64000, Loss: 1.908676266670227, \n",
            "Epoch: 66000, Loss: 1.90819251537323, \n",
            "Epoch: 68000, Loss: 1.9077154397964478, \n",
            "Epoch: 70000, Loss: 1.907241702079773, \n",
            "Epoch: 72000, Loss: 1.9067742824554443, \n",
            "Epoch: 74000, Loss: 1.906314730644226, \n",
            "Epoch: 76000, Loss: 1.9058597087860107, \n",
            "Epoch: 78000, Loss: 1.9054088592529297, \n",
            "Epoch: 80000, Loss: 1.9049642086029053, \n",
            "Epoch: 82000, Loss: 1.9045268297195435, \n",
            "Epoch: 84000, Loss: 1.9040902853012085, \n",
            "Epoch: 86000, Loss: 1.9036632776260376, \n",
            "Epoch: 88000, Loss: 1.9032392501831055, \n",
            "Epoch: 90000, Loss: 1.902820348739624, \n",
            "Epoch: 92000, Loss: 1.9024033546447754, \n",
            "Epoch: 94000, Loss: 1.9019924402236938, \n",
            "Epoch: 96000, Loss: 1.9015820026397705, \n",
            "Epoch: 98000, Loss: 1.9011735916137695, \n",
            "Epoch: 100000, Loss: 1.9007712602615356, \n"
          ],
          "name": "stdout"
        }
      ]
    },
    {
      "cell_type": "markdown",
      "metadata": {
        "id": "7zzfhmWZg2r8",
        "colab_type": "text"
      },
      "source": [
        "And again, performance:"
      ]
    },
    {
      "cell_type": "code",
      "metadata": {
        "id": "btnqnnK_g5aN",
        "colab_type": "code",
        "colab": {
          "base_uri": "https://localhost:8080/",
          "height": 34
        },
        "outputId": "6929e39e-9bf9-4dcc-8421-b44422d89a05"
      },
      "source": [
        "performance(test_x, test_y, vowel_model_200)"
      ],
      "execution_count": 627,
      "outputs": [
        {
          "output_type": "stream",
          "text": [
            "0.29506172839506173\n"
          ],
          "name": "stdout"
        }
      ]
    },
    {
      "cell_type": "markdown",
      "metadata": {
        "id": "6JDVCzCbPFdP",
        "colab_type": "text"
      },
      "source": [
        "**4.5** Now, I want to try adding a layer to see if we can improve performance."
      ]
    },
    {
      "cell_type": "code",
      "metadata": {
        "colab_type": "code",
        "id": "XPZrePCbPNWF",
        "colab": {}
      },
      "source": [
        "class MLPVowel2(nn.Module):\n",
        "    def __init__(self, input_dim = 2, hid_dim=100, output_dim=9):\n",
        "        super(MLPVowel2, self).__init__()\n",
        "        \n",
        "        self.lin1 = nn.Linear(input_dim, hid_dim)\n",
        "        self.lin2 = nn.Linear(hid_dim, hid_dim)\n",
        "        self.lin3 = nn.Linear(hid_dim, output_dim)\n",
        "    \n",
        "    # this is where the meat of the action is\n",
        "    def forward(self, x):\n",
        "        x = self.lin1(x)  # linear combination of inputs\n",
        "        x = torch.sigmoid(x) # then through sigmoid - output of first layer\n",
        "        x = self.lin2(x) # linear combination of hidden units\n",
        "        x = torch.sigmoid(x) # then through sigmoid - net output\n",
        "        x = self.lin3(x) # linear combination of hidden units\n",
        "        x = torch.sigmoid(x) # then through sigmoid - net output\n",
        "        return x"
      ],
      "execution_count": 0,
      "outputs": []
    },
    {
      "cell_type": "code",
      "metadata": {
        "colab_type": "code",
        "id": "mWJpHf0HPeLF",
        "colab": {
          "base_uri": "https://localhost:8080/",
          "height": 874
        },
        "outputId": "6834173c-0367-4845-cb03-b5469e32204b"
      },
      "source": [
        "vowel_model_extra_layer = MLPVowel2()\n",
        "weights_init(vowel_model_extra_layer)\n",
        "loss_func = nn.CrossEntropyLoss()\n",
        "optimizer = optim.SGD(vowel_model_extra_layer.parameters(), lr=0.02, momentum=0.9)\n",
        "training(train_x, train_y, vowel_model_extra_layer, loss_func, optimizer, 100001)"
      ],
      "execution_count": 629,
      "outputs": [
        {
          "output_type": "stream",
          "text": [
            "Epoch: 0, Loss: 2.364774227142334, \n",
            "Epoch: 2000, Loss: 1.974924087524414, \n",
            "Epoch: 4000, Loss: 1.9489943981170654, \n",
            "Epoch: 6000, Loss: 1.9375442266464233, \n",
            "Epoch: 8000, Loss: 1.93063223361969, \n",
            "Epoch: 10000, Loss: 1.9255735874176025, \n",
            "Epoch: 12000, Loss: 1.9213547706604004, \n",
            "Epoch: 14000, Loss: 1.9174909591674805, \n",
            "Epoch: 16000, Loss: 1.9137767553329468, \n",
            "Epoch: 18000, Loss: 1.9103397130966187, \n",
            "Epoch: 20000, Loss: 1.907175064086914, \n",
            "Epoch: 22000, Loss: 1.9042598009109497, \n",
            "Epoch: 24000, Loss: 1.9016029834747314, \n",
            "Epoch: 26000, Loss: 1.899176001548767, \n",
            "Epoch: 28000, Loss: 1.8969471454620361, \n",
            "Epoch: 30000, Loss: 1.8949130773544312, \n",
            "Epoch: 32000, Loss: 1.893075704574585, \n",
            "Epoch: 34000, Loss: 1.891424298286438, \n",
            "Epoch: 36000, Loss: 1.889931082725525, \n",
            "Epoch: 38000, Loss: 1.8885761499404907, \n",
            "Epoch: 40000, Loss: 1.8873398303985596, \n",
            "Epoch: 42000, Loss: 1.8861916065216064, \n",
            "Epoch: 44000, Loss: 1.885125994682312, \n",
            "Epoch: 46000, Loss: 1.8841352462768555, \n",
            "Epoch: 48000, Loss: 1.883208990097046, \n",
            "Epoch: 50000, Loss: 1.882340669631958, \n",
            "Epoch: 52000, Loss: 1.8815337419509888, \n",
            "Epoch: 54000, Loss: 1.8807722330093384, \n",
            "Epoch: 56000, Loss: 1.8800544738769531, \n",
            "Epoch: 58000, Loss: 1.879376769065857, \n",
            "Epoch: 60000, Loss: 1.8787397146224976, \n",
            "Epoch: 62000, Loss: 1.8781315088272095, \n",
            "Epoch: 64000, Loss: 1.877556324005127, \n",
            "Epoch: 66000, Loss: 1.877012014389038, \n",
            "Epoch: 68000, Loss: 1.8764950037002563, \n",
            "Epoch: 70000, Loss: 1.8760014772415161, \n",
            "Epoch: 72000, Loss: 1.875533103942871, \n",
            "Epoch: 74000, Loss: 1.8750851154327393, \n",
            "Epoch: 76000, Loss: 1.8746579885482788, \n",
            "Epoch: 78000, Loss: 1.8742493391036987, \n",
            "Epoch: 80000, Loss: 1.873860239982605, \n",
            "Epoch: 82000, Loss: 1.8734830617904663, \n",
            "Epoch: 84000, Loss: 1.8731231689453125, \n",
            "Epoch: 86000, Loss: 1.872778058052063, \n",
            "Epoch: 88000, Loss: 1.8724480867385864, \n",
            "Epoch: 90000, Loss: 1.8721264600753784, \n",
            "Epoch: 92000, Loss: 1.8718225955963135, \n",
            "Epoch: 94000, Loss: 1.8715256452560425, \n",
            "Epoch: 96000, Loss: 1.871238350868225, \n",
            "Epoch: 98000, Loss: 1.870963215827942, \n",
            "Epoch: 100000, Loss: 1.8706927299499512, \n"
          ],
          "name": "stdout"
        }
      ]
    },
    {
      "cell_type": "markdown",
      "metadata": {
        "id": "2U802tmphGyk",
        "colab_type": "text"
      },
      "source": [
        "And again, performance:"
      ]
    },
    {
      "cell_type": "code",
      "metadata": {
        "id": "Et08983vhKFL",
        "colab_type": "code",
        "colab": {
          "base_uri": "https://localhost:8080/",
          "height": 34
        },
        "outputId": "17db0116-6235-46c1-aec4-722e9c72c066"
      },
      "source": [
        "performance(test_x, test_y, vowel_model_extra_layer)"
      ],
      "execution_count": 630,
      "outputs": [
        {
          "output_type": "stream",
          "text": [
            "0.23950617283950618\n"
          ],
          "name": "stdout"
        }
      ]
    },
    {
      "cell_type": "markdown",
      "metadata": {
        "id": "fo1jiMHMyioD",
        "colab_type": "text"
      },
      "source": [
        "## Summary and Observations\n",
        "\n",
        "There are a few things I noticed while running these experiments. First, online training seems to be much better when it comes to accuracy. For example, I was ably to get decent accuracy with just a few hundred epochs. However, training was extremely slow.\n",
        "\n",
        "When I switched over to batch training, the training speed was much better, but the actual loss decreased very slowly. In many cases, I wasn't able to even approach the accuracy of online training. \n",
        "\n",
        "Then, when it came to actually modifying the network, I found that changes had a serious impact in more ways than one. For example, my first modification (+100 hidden nodes) resulted in better convergence for the same amount of epochs. However, training was quite a bit slower. With my second modifiaction (+1 hidden layer), I noticed similar results; performance was better but training was slower. \n",
        "\n",
        "Since I used the test_train_split function, I realized the results were different for every execution. As a result, I decided to document those results for a few executions (online: 100 epochs, batch: 100,000 epochs):\n",
        "\n",
        "| Execution | Online | Batch | +100 Nodes | +1 Layer |\n",
        "|-----------|--------|------|------------|----------|\n",
        "| 04/09/2020 5:21 PM EST | 0.3308641975308642 | 0.08765432098765433 | 0.345679012345679 | 0.2654320987654321 |\n",
        "| 04/09/2020 6:26 PM EST | 0.18888888888888888 |  0.06296296296296296 | 0.2975308641975309 | 0.362962962962963 |\n",
        "| 04/09/2020 11:19 PM EST | 0.3395061728395062 | 0.06296296296296296 | 0.29506172839506173 | 0.23950617283950618 |\n",
        "\n",
        "In all this testing, I never really saw a performance above 50%. I wonder what needs to be done to get better results. Below, I decided to run one last experiment (+1 layer) for a ridiculous amount of epochs (1,000,000). "
      ]
    },
    {
      "cell_type": "code",
      "metadata": {
        "id": "nEoPD5yADhwD",
        "colab_type": "code",
        "colab": {
          "base_uri": "https://localhost:8080/",
          "height": 1000
        },
        "outputId": "9454e901-efb8-4de5-fe48-64c7b14b01ac"
      },
      "source": [
        "vowel_model_extra_layer = MLPVowel2()\n",
        "weights_init(vowel_model_extra_layer)\n",
        "loss_func = nn.CrossEntropyLoss()\n",
        "optimizer = optim.SGD(vowel_model_extra_layer.parameters(), lr=0.02, momentum=0.9)\n",
        "training(train_x, train_y, vowel_model_extra_layer, loss_func, optimizer, 1000001)"
      ],
      "execution_count": 631,
      "outputs": [
        {
          "output_type": "stream",
          "text": [
            "Epoch: 0, Loss: 2.254279851913452, \n",
            "Epoch: 2000, Loss: 1.8721425533294678, \n",
            "Epoch: 4000, Loss: 1.8227053880691528, \n",
            "Epoch: 6000, Loss: 1.7968156337738037, \n",
            "Epoch: 8000, Loss: 1.735722303390503, \n",
            "Epoch: 10000, Loss: 1.7261202335357666, \n",
            "Epoch: 12000, Loss: 1.7202180624008179, \n",
            "Epoch: 14000, Loss: 1.7154282331466675, \n",
            "Epoch: 16000, Loss: 1.7110601663589478, \n",
            "Epoch: 18000, Loss: 1.7059590816497803, \n",
            "Epoch: 20000, Loss: 1.6993064880371094, \n",
            "Epoch: 22000, Loss: 1.6952135562896729, \n",
            "Epoch: 24000, Loss: 1.6919164657592773, \n",
            "Epoch: 26000, Loss: 1.6890921592712402, \n",
            "Epoch: 28000, Loss: 1.6865876913070679, \n",
            "Epoch: 30000, Loss: 1.6843589544296265, \n",
            "Epoch: 32000, Loss: 1.6823681592941284, \n",
            "Epoch: 34000, Loss: 1.6805773973464966, \n",
            "Epoch: 36000, Loss: 1.6789755821228027, \n",
            "Epoch: 38000, Loss: 1.677529215812683, \n",
            "Epoch: 40000, Loss: 1.6761983633041382, \n",
            "Epoch: 42000, Loss: 1.6749420166015625, \n",
            "Epoch: 44000, Loss: 1.6737332344055176, \n",
            "Epoch: 46000, Loss: 1.672513484954834, \n",
            "Epoch: 48000, Loss: 1.6712498664855957, \n",
            "Epoch: 50000, Loss: 1.670049786567688, \n",
            "Epoch: 52000, Loss: 1.6689404249191284, \n",
            "Epoch: 54000, Loss: 1.667915940284729, \n",
            "Epoch: 56000, Loss: 1.6669776439666748, \n",
            "Epoch: 58000, Loss: 1.6661107540130615, \n",
            "Epoch: 60000, Loss: 1.6653119325637817, \n",
            "Epoch: 62000, Loss: 1.6645718812942505, \n",
            "Epoch: 64000, Loss: 1.66388738155365, \n",
            "Epoch: 66000, Loss: 1.6632485389709473, \n",
            "Epoch: 68000, Loss: 1.6626508235931396, \n",
            "Epoch: 70000, Loss: 1.6620897054672241, \n",
            "Epoch: 72000, Loss: 1.6615628004074097, \n",
            "Epoch: 74000, Loss: 1.6610661745071411, \n",
            "Epoch: 76000, Loss: 1.6605947017669678, \n",
            "Epoch: 78000, Loss: 1.6601487398147583, \n",
            "Epoch: 80000, Loss: 1.6597230434417725, \n",
            "Epoch: 82000, Loss: 1.659319281578064, \n",
            "Epoch: 84000, Loss: 1.658931851387024, \n",
            "Epoch: 86000, Loss: 1.658560872077942, \n",
            "Epoch: 88000, Loss: 1.6582038402557373, \n",
            "Epoch: 90000, Loss: 1.6578617095947266, \n",
            "Epoch: 92000, Loss: 1.6575300693511963, \n",
            "Epoch: 94000, Loss: 1.6572048664093018, \n",
            "Epoch: 96000, Loss: 1.656894564628601, \n",
            "Epoch: 98000, Loss: 1.65659499168396, \n",
            "Epoch: 100000, Loss: 1.6563024520874023, \n",
            "Epoch: 102000, Loss: 1.6560167074203491, \n",
            "Epoch: 104000, Loss: 1.6557374000549316, \n",
            "Epoch: 106000, Loss: 1.6554675102233887, \n",
            "Epoch: 108000, Loss: 1.655202031135559, \n",
            "Epoch: 110000, Loss: 1.6549443006515503, \n",
            "Epoch: 112000, Loss: 1.6546878814697266, \n",
            "Epoch: 114000, Loss: 1.654435396194458, \n",
            "Epoch: 116000, Loss: 1.6541874408721924, \n",
            "Epoch: 118000, Loss: 1.6539418697357178, \n",
            "Epoch: 120000, Loss: 1.6537013053894043, \n",
            "Epoch: 122000, Loss: 1.6534650325775146, \n",
            "Epoch: 124000, Loss: 1.653237223625183, \n",
            "Epoch: 126000, Loss: 1.6530131101608276, \n",
            "Epoch: 128000, Loss: 1.6527949571609497, \n",
            "Epoch: 130000, Loss: 1.652577519416809, \n",
            "Epoch: 132000, Loss: 1.652368187904358, \n",
            "Epoch: 134000, Loss: 1.652163028717041, \n",
            "Epoch: 136000, Loss: 1.6519596576690674, \n",
            "Epoch: 138000, Loss: 1.6517573595046997, \n",
            "Epoch: 140000, Loss: 1.651561975479126, \n",
            "Epoch: 142000, Loss: 1.6513646841049194, \n",
            "Epoch: 144000, Loss: 1.6511746644973755, \n",
            "Epoch: 146000, Loss: 1.650986909866333, \n",
            "Epoch: 148000, Loss: 1.6507999897003174, \n",
            "Epoch: 150000, Loss: 1.6506155729293823, \n",
            "Epoch: 152000, Loss: 1.6504329442977905, \n",
            "Epoch: 154000, Loss: 1.6502511501312256, \n",
            "Epoch: 156000, Loss: 1.6500730514526367, \n",
            "Epoch: 158000, Loss: 1.6498974561691284, \n",
            "Epoch: 160000, Loss: 1.649724006652832, \n",
            "Epoch: 162000, Loss: 1.649552345275879, \n",
            "Epoch: 164000, Loss: 1.6493834257125854, \n",
            "Epoch: 166000, Loss: 1.6492184400558472, \n",
            "Epoch: 168000, Loss: 1.649053692817688, \n",
            "Epoch: 170000, Loss: 1.6488937139511108, \n",
            "Epoch: 172000, Loss: 1.6487321853637695, \n",
            "Epoch: 174000, Loss: 1.6485755443572998, \n",
            "Epoch: 176000, Loss: 1.64841890335083, \n",
            "Epoch: 178000, Loss: 1.648263692855835, \n",
            "Epoch: 180000, Loss: 1.6481071710586548, \n",
            "Epoch: 182000, Loss: 1.6479460000991821, \n",
            "Epoch: 184000, Loss: 1.6477816104888916, \n",
            "Epoch: 186000, Loss: 1.6476130485534668, \n",
            "Epoch: 188000, Loss: 1.6474487781524658, \n",
            "Epoch: 190000, Loss: 1.6472927331924438, \n",
            "Epoch: 192000, Loss: 1.6471412181854248, \n",
            "Epoch: 194000, Loss: 1.646997332572937, \n",
            "Epoch: 196000, Loss: 1.6468571424484253, \n",
            "Epoch: 198000, Loss: 1.6467195749282837, \n",
            "Epoch: 200000, Loss: 1.6465857028961182, \n",
            "Epoch: 202000, Loss: 1.6464537382125854, \n",
            "Epoch: 204000, Loss: 1.6463271379470825, \n",
            "Epoch: 206000, Loss: 1.6462007761001587, \n",
            "Epoch: 208000, Loss: 1.646074891090393, \n",
            "Epoch: 210000, Loss: 1.6459565162658691, \n",
            "Epoch: 212000, Loss: 1.6458367109298706, \n",
            "Epoch: 214000, Loss: 1.6457200050354004, \n",
            "Epoch: 216000, Loss: 1.645605206489563, \n",
            "Epoch: 218000, Loss: 1.645491361618042, \n",
            "Epoch: 220000, Loss: 1.6453808546066284, \n",
            "Epoch: 222000, Loss: 1.6452722549438477, \n",
            "Epoch: 224000, Loss: 1.6451647281646729, \n",
            "Epoch: 226000, Loss: 1.6450598239898682, \n",
            "Epoch: 228000, Loss: 1.6449528932571411, \n",
            "Epoch: 230000, Loss: 1.6448508501052856, \n",
            "Epoch: 232000, Loss: 1.6447486877441406, \n",
            "Epoch: 234000, Loss: 1.644649863243103, \n",
            "Epoch: 236000, Loss: 1.6445502042770386, \n",
            "Epoch: 238000, Loss: 1.6444531679153442, \n",
            "Epoch: 240000, Loss: 1.6443573236465454, \n",
            "Epoch: 242000, Loss: 1.6442629098892212, \n",
            "Epoch: 244000, Loss: 1.6441696882247925, \n",
            "Epoch: 246000, Loss: 1.6440765857696533, \n",
            "Epoch: 248000, Loss: 1.6439874172210693, \n",
            "Epoch: 250000, Loss: 1.6438981294631958, \n",
            "Epoch: 252000, Loss: 1.6438097953796387, \n",
            "Epoch: 254000, Loss: 1.643722653388977, \n",
            "Epoch: 256000, Loss: 1.643638014793396, \n",
            "Epoch: 258000, Loss: 1.6435530185699463, \n",
            "Epoch: 260000, Loss: 1.6434687376022339, \n",
            "Epoch: 262000, Loss: 1.6433857679367065, \n",
            "Epoch: 264000, Loss: 1.6433035135269165, \n",
            "Epoch: 266000, Loss: 1.6432225704193115, \n",
            "Epoch: 268000, Loss: 1.6431429386138916, \n",
            "Epoch: 270000, Loss: 1.643064022064209, \n",
            "Epoch: 272000, Loss: 1.6429871320724487, \n",
            "Epoch: 274000, Loss: 1.6429107189178467, \n",
            "Epoch: 276000, Loss: 1.6428370475769043, \n",
            "Epoch: 278000, Loss: 1.6427605152130127, \n",
            "Epoch: 280000, Loss: 1.6426870822906494, \n",
            "Epoch: 282000, Loss: 1.6426140069961548, \n",
            "Epoch: 284000, Loss: 1.6425423622131348, \n",
            "Epoch: 286000, Loss: 1.6424692869186401, \n",
            "Epoch: 288000, Loss: 1.642399549484253, \n",
            "Epoch: 290000, Loss: 1.6423304080963135, \n",
            "Epoch: 292000, Loss: 1.6422594785690308, \n",
            "Epoch: 294000, Loss: 1.6421924829483032, \n",
            "Epoch: 296000, Loss: 1.6421231031417847, \n",
            "Epoch: 298000, Loss: 1.6420567035675049, \n",
            "Epoch: 300000, Loss: 1.6419916152954102, \n",
            "Epoch: 302000, Loss: 1.6419228315353394, \n",
            "Epoch: 304000, Loss: 1.641858696937561, \n",
            "Epoch: 306000, Loss: 1.6417902708053589, \n",
            "Epoch: 308000, Loss: 1.6417248249053955, \n",
            "Epoch: 310000, Loss: 1.6416603326797485, \n",
            "Epoch: 312000, Loss: 1.6415935754776, \n",
            "Epoch: 314000, Loss: 1.641528844833374, \n",
            "Epoch: 316000, Loss: 1.6414626836776733, \n",
            "Epoch: 318000, Loss: 1.6413960456848145, \n",
            "Epoch: 320000, Loss: 1.641326904296875, \n",
            "Epoch: 322000, Loss: 1.641258955001831, \n",
            "Epoch: 324000, Loss: 1.641191005706787, \n",
            "Epoch: 326000, Loss: 1.6411231756210327, \n",
            "Epoch: 328000, Loss: 1.6410555839538574, \n",
            "Epoch: 330000, Loss: 1.6409902572631836, \n",
            "Epoch: 332000, Loss: 1.6409262418746948, \n",
            "Epoch: 334000, Loss: 1.640864372253418, \n",
            "Epoch: 336000, Loss: 1.6408036947250366, \n",
            "Epoch: 338000, Loss: 1.6407434940338135, \n",
            "Epoch: 340000, Loss: 1.6406855583190918, \n",
            "Epoch: 342000, Loss: 1.6406257152557373, \n",
            "Epoch: 344000, Loss: 1.6405696868896484, \n",
            "Epoch: 346000, Loss: 1.640512228012085, \n",
            "Epoch: 348000, Loss: 1.6404566764831543, \n",
            "Epoch: 350000, Loss: 1.640401005744934, \n",
            "Epoch: 352000, Loss: 1.6403461694717407, \n",
            "Epoch: 354000, Loss: 1.6402944326400757, \n",
            "Epoch: 356000, Loss: 1.6402417421340942, \n",
            "Epoch: 358000, Loss: 1.6401878595352173, \n",
            "Epoch: 360000, Loss: 1.6401360034942627, \n",
            "Epoch: 362000, Loss: 1.6400861740112305, \n",
            "Epoch: 364000, Loss: 1.640034794807434, \n",
            "Epoch: 366000, Loss: 1.6399860382080078, \n",
            "Epoch: 368000, Loss: 1.6399383544921875, \n",
            "Epoch: 370000, Loss: 1.6398886442184448, \n",
            "Epoch: 372000, Loss: 1.6398415565490723, \n",
            "Epoch: 374000, Loss: 1.6397935152053833, \n",
            "Epoch: 376000, Loss: 1.6397465467453003, \n",
            "Epoch: 378000, Loss: 1.639700174331665, \n",
            "Epoch: 380000, Loss: 1.639654278755188, \n",
            "Epoch: 382000, Loss: 1.639609694480896, \n",
            "Epoch: 384000, Loss: 1.6395659446716309, \n",
            "Epoch: 386000, Loss: 1.6395196914672852, \n",
            "Epoch: 388000, Loss: 1.6394760608673096, \n",
            "Epoch: 390000, Loss: 1.6394319534301758, \n",
            "Epoch: 392000, Loss: 1.6393874883651733, \n",
            "Epoch: 394000, Loss: 1.6393429040908813, \n",
            "Epoch: 396000, Loss: 1.6393005847930908, \n",
            "Epoch: 398000, Loss: 1.6392589807510376, \n",
            "Epoch: 400000, Loss: 1.6392161846160889, \n",
            "Epoch: 402000, Loss: 1.639176368713379, \n",
            "Epoch: 404000, Loss: 1.639133334159851, \n",
            "Epoch: 406000, Loss: 1.6390910148620605, \n",
            "Epoch: 408000, Loss: 1.6390509605407715, \n",
            "Epoch: 410000, Loss: 1.6390091180801392, \n",
            "Epoch: 412000, Loss: 1.6389702558517456, \n",
            "Epoch: 414000, Loss: 1.6389282941818237, \n",
            "Epoch: 416000, Loss: 1.638889193534851, \n",
            "Epoch: 418000, Loss: 1.6388510465621948, \n",
            "Epoch: 420000, Loss: 1.638809084892273, \n",
            "Epoch: 422000, Loss: 1.6387710571289062, \n",
            "Epoch: 424000, Loss: 1.638731598854065, \n",
            "Epoch: 426000, Loss: 1.6386945247650146, \n",
            "Epoch: 428000, Loss: 1.638655424118042, \n",
            "Epoch: 430000, Loss: 1.6386178731918335, \n",
            "Epoch: 432000, Loss: 1.6385798454284668, \n",
            "Epoch: 434000, Loss: 1.6385422945022583, \n",
            "Epoch: 436000, Loss: 1.6385045051574707, \n",
            "Epoch: 438000, Loss: 1.638468623161316, \n",
            "Epoch: 440000, Loss: 1.6384317874908447, \n",
            "Epoch: 442000, Loss: 1.6383962631225586, \n",
            "Epoch: 444000, Loss: 1.6383613348007202, \n",
            "Epoch: 446000, Loss: 1.6383224725723267, \n",
            "Epoch: 448000, Loss: 1.6382877826690674, \n",
            "Epoch: 450000, Loss: 1.6382514238357544, \n",
            "Epoch: 452000, Loss: 1.6382155418395996, \n",
            "Epoch: 454000, Loss: 1.6381818056106567, \n",
            "Epoch: 456000, Loss: 1.6381458044052124, \n",
            "Epoch: 458000, Loss: 1.6381127834320068, \n",
            "Epoch: 460000, Loss: 1.638075828552246, \n",
            "Epoch: 462000, Loss: 1.6380436420440674, \n",
            "Epoch: 464000, Loss: 1.6380096673965454, \n",
            "Epoch: 466000, Loss: 1.6379759311676025, \n",
            "Epoch: 468000, Loss: 1.6379438638687134, \n",
            "Epoch: 470000, Loss: 1.6379109621047974, \n",
            "Epoch: 472000, Loss: 1.6378759145736694, \n",
            "Epoch: 474000, Loss: 1.6378450393676758, \n",
            "Epoch: 476000, Loss: 1.637811541557312, \n",
            "Epoch: 478000, Loss: 1.6377795934677124, \n",
            "Epoch: 480000, Loss: 1.6377466917037964, \n",
            "Epoch: 482000, Loss: 1.6377148628234863, \n",
            "Epoch: 484000, Loss: 1.6376807689666748, \n",
            "Epoch: 486000, Loss: 1.6376503705978394, \n",
            "Epoch: 488000, Loss: 1.6376183032989502, \n",
            "Epoch: 490000, Loss: 1.6375889778137207, \n",
            "Epoch: 492000, Loss: 1.637556791305542, \n",
            "Epoch: 494000, Loss: 1.6375268697738647, \n",
            "Epoch: 496000, Loss: 1.6374967098236084, \n",
            "Epoch: 498000, Loss: 1.6374655961990356, \n",
            "Epoch: 500000, Loss: 1.6374372243881226, \n",
            "Epoch: 502000, Loss: 1.6374059915542603, \n",
            "Epoch: 504000, Loss: 1.6373754739761353, \n",
            "Epoch: 506000, Loss: 1.637345790863037, \n",
            "Epoch: 508000, Loss: 1.637316346168518, \n",
            "Epoch: 510000, Loss: 1.637288212776184, \n",
            "Epoch: 512000, Loss: 1.6372578144073486, \n",
            "Epoch: 514000, Loss: 1.6372278928756714, \n",
            "Epoch: 516000, Loss: 1.637198567390442, \n",
            "Epoch: 518000, Loss: 1.637169599533081, \n",
            "Epoch: 520000, Loss: 1.6371394395828247, \n",
            "Epoch: 522000, Loss: 1.637110948562622, \n",
            "Epoch: 524000, Loss: 1.637084722518921, \n",
            "Epoch: 526000, Loss: 1.6370553970336914, \n",
            "Epoch: 528000, Loss: 1.6370253562927246, \n",
            "Epoch: 530000, Loss: 1.6369999647140503, \n",
            "Epoch: 532000, Loss: 1.6369704008102417, \n",
            "Epoch: 534000, Loss: 1.636942982673645, \n",
            "Epoch: 536000, Loss: 1.6369155645370483, \n",
            "Epoch: 538000, Loss: 1.6368881464004517, \n",
            "Epoch: 540000, Loss: 1.6368608474731445, \n",
            "Epoch: 542000, Loss: 1.6368327140808105, \n",
            "Epoch: 544000, Loss: 1.636805534362793, \n",
            "Epoch: 546000, Loss: 1.6367793083190918, \n",
            "Epoch: 548000, Loss: 1.636751413345337, \n",
            "Epoch: 550000, Loss: 1.636725664138794, \n",
            "Epoch: 552000, Loss: 1.6366997957229614, \n",
            "Epoch: 554000, Loss: 1.6366729736328125, \n",
            "Epoch: 556000, Loss: 1.6366459131240845, \n",
            "Epoch: 558000, Loss: 1.636620044708252, \n",
            "Epoch: 560000, Loss: 1.6365947723388672, \n",
            "Epoch: 562000, Loss: 1.63656747341156, \n",
            "Epoch: 564000, Loss: 1.6365419626235962, \n",
            "Epoch: 566000, Loss: 1.6365162134170532, \n",
            "Epoch: 568000, Loss: 1.6364907026290894, \n",
            "Epoch: 570000, Loss: 1.6364656686782837, \n",
            "Epoch: 572000, Loss: 1.6364398002624512, \n",
            "Epoch: 574000, Loss: 1.6364134550094604, \n",
            "Epoch: 576000, Loss: 1.6363872289657593, \n",
            "Epoch: 578000, Loss: 1.6363612413406372, \n",
            "Epoch: 580000, Loss: 1.636338233947754, \n",
            "Epoch: 582000, Loss: 1.6363121271133423, \n",
            "Epoch: 584000, Loss: 1.636286973953247, \n",
            "Epoch: 586000, Loss: 1.6362615823745728, \n",
            "Epoch: 588000, Loss: 1.636235237121582, \n",
            "Epoch: 590000, Loss: 1.6362109184265137, \n",
            "Epoch: 592000, Loss: 1.636186122894287, \n",
            "Epoch: 594000, Loss: 1.6361640691757202, \n",
            "Epoch: 596000, Loss: 1.636139154434204, \n",
            "Epoch: 598000, Loss: 1.6361137628555298, \n",
            "Epoch: 600000, Loss: 1.6360890865325928, \n",
            "Epoch: 602000, Loss: 1.6360671520233154, \n",
            "Epoch: 604000, Loss: 1.6360394954681396, \n",
            "Epoch: 606000, Loss: 1.6360163688659668, \n",
            "Epoch: 608000, Loss: 1.6359937191009521, \n",
            "Epoch: 610000, Loss: 1.6359671354293823, \n",
            "Epoch: 612000, Loss: 1.6359447240829468, \n",
            "Epoch: 614000, Loss: 1.6359211206436157, \n",
            "Epoch: 616000, Loss: 1.6358965635299683, \n",
            "Epoch: 618000, Loss: 1.6358734369277954, \n",
            "Epoch: 620000, Loss: 1.6358484029769897, \n",
            "Epoch: 622000, Loss: 1.6358262300491333, \n",
            "Epoch: 624000, Loss: 1.6358027458190918, \n",
            "Epoch: 626000, Loss: 1.635778784751892, \n",
            "Epoch: 628000, Loss: 1.6357566118240356, \n",
            "Epoch: 630000, Loss: 1.6357314586639404, \n",
            "Epoch: 632000, Loss: 1.6357089281082153, \n",
            "Epoch: 634000, Loss: 1.6356858015060425, \n",
            "Epoch: 636000, Loss: 1.6356632709503174, \n",
            "Epoch: 638000, Loss: 1.635638952255249, \n",
            "Epoch: 640000, Loss: 1.6356174945831299, \n",
            "Epoch: 642000, Loss: 1.635594129562378, \n",
            "Epoch: 644000, Loss: 1.6355705261230469, \n",
            "Epoch: 646000, Loss: 1.6355479955673218, \n",
            "Epoch: 648000, Loss: 1.6355265378952026, \n",
            "Epoch: 650000, Loss: 1.6355022192001343, \n",
            "Epoch: 652000, Loss: 1.63547945022583, \n",
            "Epoch: 654000, Loss: 1.6354560852050781, \n",
            "Epoch: 656000, Loss: 1.635434627532959, \n",
            "Epoch: 658000, Loss: 1.6354124546051025, \n",
            "Epoch: 660000, Loss: 1.6353904008865356, \n",
            "Epoch: 662000, Loss: 1.6353679895401, \n",
            "Epoch: 664000, Loss: 1.635344386100769, \n",
            "Epoch: 666000, Loss: 1.6353245973587036, \n",
            "Epoch: 668000, Loss: 1.6353014707565308, \n",
            "Epoch: 670000, Loss: 1.6352797746658325, \n",
            "Epoch: 672000, Loss: 1.6352579593658447, \n",
            "Epoch: 674000, Loss: 1.635236382484436, \n",
            "Epoch: 676000, Loss: 1.63521409034729, \n",
            "Epoch: 678000, Loss: 1.6351919174194336, \n",
            "Epoch: 680000, Loss: 1.6351717710494995, \n",
            "Epoch: 682000, Loss: 1.6351505517959595, \n",
            "Epoch: 684000, Loss: 1.6351292133331299, \n",
            "Epoch: 686000, Loss: 1.6351081132888794, \n",
            "Epoch: 688000, Loss: 1.635085105895996, \n",
            "Epoch: 690000, Loss: 1.6350656747817993, \n",
            "Epoch: 692000, Loss: 1.6350432634353638, \n",
            "Epoch: 694000, Loss: 1.6350220441818237, \n",
            "Epoch: 696000, Loss: 1.635000467300415, \n",
            "Epoch: 698000, Loss: 1.6349780559539795, \n",
            "Epoch: 700000, Loss: 1.6349565982818604, \n",
            "Epoch: 702000, Loss: 1.6349352598190308, \n",
            "Epoch: 704000, Loss: 1.6349153518676758, \n",
            "Epoch: 706000, Loss: 1.6348929405212402, \n",
            "Epoch: 708000, Loss: 1.6348708868026733, \n",
            "Epoch: 710000, Loss: 1.6348505020141602, \n",
            "Epoch: 712000, Loss: 1.6348291635513306, \n",
            "Epoch: 714000, Loss: 1.6348062753677368, \n",
            "Epoch: 716000, Loss: 1.6347852945327759, \n",
            "Epoch: 718000, Loss: 1.6347627639770508, \n",
            "Epoch: 720000, Loss: 1.6347426176071167, \n",
            "Epoch: 722000, Loss: 1.6347177028656006, \n",
            "Epoch: 724000, Loss: 1.6346962451934814, \n",
            "Epoch: 726000, Loss: 1.6346712112426758, \n",
            "Epoch: 728000, Loss: 1.6346510648727417, \n",
            "Epoch: 730000, Loss: 1.634626865386963, \n",
            "Epoch: 732000, Loss: 1.6346012353897095, \n",
            "Epoch: 734000, Loss: 1.6345669031143188, \n",
            "Epoch: 736000, Loss: 1.6344077587127686, \n",
            "Epoch: 738000, Loss: 1.6326924562454224, \n",
            "Epoch: 740000, Loss: 1.632359266281128, \n",
            "Epoch: 742000, Loss: 1.63214910030365, \n",
            "Epoch: 744000, Loss: 1.6319992542266846, \n",
            "Epoch: 746000, Loss: 1.6318693161010742, \n",
            "Epoch: 748000, Loss: 1.6317256689071655, \n",
            "Epoch: 750000, Loss: 1.6315207481384277, \n",
            "Epoch: 752000, Loss: 1.631253719329834, \n",
            "Epoch: 754000, Loss: 1.631028652191162, \n",
            "Epoch: 756000, Loss: 1.6308674812316895, \n",
            "Epoch: 758000, Loss: 1.6307390928268433, \n",
            "Epoch: 760000, Loss: 1.6306297779083252, \n",
            "Epoch: 762000, Loss: 1.6305348873138428, \n",
            "Epoch: 764000, Loss: 1.6304489374160767, \n",
            "Epoch: 766000, Loss: 1.630373239517212, \n",
            "Epoch: 768000, Loss: 1.6303046941757202, \n",
            "Epoch: 770000, Loss: 1.6302416324615479, \n",
            "Epoch: 772000, Loss: 1.6301829814910889, \n",
            "Epoch: 774000, Loss: 1.6301249265670776, \n",
            "Epoch: 776000, Loss: 1.630071759223938, \n",
            "Epoch: 778000, Loss: 1.6300195455551147, \n",
            "Epoch: 780000, Loss: 1.629972219467163, \n",
            "Epoch: 782000, Loss: 1.6299240589141846, \n",
            "Epoch: 784000, Loss: 1.6298792362213135, \n",
            "Epoch: 786000, Loss: 1.6298338174819946, \n",
            "Epoch: 788000, Loss: 1.6297929286956787, \n",
            "Epoch: 790000, Loss: 1.6297519207000732, \n",
            "Epoch: 792000, Loss: 1.629711627960205, \n",
            "Epoch: 794000, Loss: 1.6296725273132324, \n",
            "Epoch: 796000, Loss: 1.6296372413635254, \n",
            "Epoch: 798000, Loss: 1.6296005249023438, \n",
            "Epoch: 800000, Loss: 1.629563570022583, \n",
            "Epoch: 802000, Loss: 1.6295294761657715, \n",
            "Epoch: 804000, Loss: 1.629495620727539, \n",
            "Epoch: 806000, Loss: 1.6294618844985962, \n",
            "Epoch: 808000, Loss: 1.6294296979904175, \n",
            "Epoch: 810000, Loss: 1.6293952465057373, \n",
            "Epoch: 812000, Loss: 1.6293623447418213, \n",
            "Epoch: 814000, Loss: 1.6293294429779053, \n",
            "Epoch: 816000, Loss: 1.6292986869812012, \n",
            "Epoch: 818000, Loss: 1.629269003868103, \n",
            "Epoch: 820000, Loss: 1.6292380094528198, \n",
            "Epoch: 822000, Loss: 1.6292070150375366, \n",
            "Epoch: 824000, Loss: 1.6291767358779907, \n",
            "Epoch: 826000, Loss: 1.6291477680206299, \n",
            "Epoch: 828000, Loss: 1.6291184425354004, \n",
            "Epoch: 830000, Loss: 1.6290873289108276, \n",
            "Epoch: 832000, Loss: 1.6290587186813354, \n",
            "Epoch: 834000, Loss: 1.6290299892425537, \n",
            "Epoch: 836000, Loss: 1.629002571105957, \n",
            "Epoch: 838000, Loss: 1.6289739608764648, \n",
            "Epoch: 840000, Loss: 1.6289441585540771, \n",
            "Epoch: 842000, Loss: 1.628918170928955, \n",
            "Epoch: 844000, Loss: 1.628888487815857, \n",
            "Epoch: 846000, Loss: 1.6288613080978394, \n",
            "Epoch: 848000, Loss: 1.6288344860076904, \n",
            "Epoch: 850000, Loss: 1.628807783126831, \n",
            "Epoch: 852000, Loss: 1.6287786960601807, \n",
            "Epoch: 854000, Loss: 1.6287519931793213, \n",
            "Epoch: 856000, Loss: 1.6287235021591187, \n",
            "Epoch: 858000, Loss: 1.6286972761154175, \n",
            "Epoch: 860000, Loss: 1.6286712884902954, \n",
            "Epoch: 862000, Loss: 1.628645658493042, \n",
            "Epoch: 864000, Loss: 1.6286191940307617, \n",
            "Epoch: 866000, Loss: 1.6285929679870605, \n",
            "Epoch: 868000, Loss: 1.628566861152649, \n",
            "Epoch: 870000, Loss: 1.628540277481079, \n",
            "Epoch: 872000, Loss: 1.6285144090652466, \n",
            "Epoch: 874000, Loss: 1.6284898519515991, \n",
            "Epoch: 876000, Loss: 1.6284632682800293, \n",
            "Epoch: 878000, Loss: 1.6284376382827759, \n",
            "Epoch: 880000, Loss: 1.6284127235412598, \n",
            "Epoch: 882000, Loss: 1.628388524055481, \n",
            "Epoch: 884000, Loss: 1.6283634901046753, \n",
            "Epoch: 886000, Loss: 1.628337025642395, \n",
            "Epoch: 888000, Loss: 1.6283133029937744, \n",
            "Epoch: 890000, Loss: 1.6282899379730225, \n",
            "Epoch: 892000, Loss: 1.6282649040222168, \n",
            "Epoch: 894000, Loss: 1.6282402276992798, \n",
            "Epoch: 896000, Loss: 1.6282166242599487, \n",
            "Epoch: 898000, Loss: 1.6281929016113281, \n",
            "Epoch: 900000, Loss: 1.6281691789627075, \n",
            "Epoch: 902000, Loss: 1.6281450986862183, \n",
            "Epoch: 904000, Loss: 1.6281216144561768, \n",
            "Epoch: 906000, Loss: 1.628097653388977, \n",
            "Epoch: 908000, Loss: 1.62807297706604, \n",
            "Epoch: 910000, Loss: 1.6280488967895508, \n",
            "Epoch: 912000, Loss: 1.628025770187378, \n",
            "Epoch: 914000, Loss: 1.6280021667480469, \n",
            "Epoch: 916000, Loss: 1.6279780864715576, \n",
            "Epoch: 918000, Loss: 1.6279561519622803, \n",
            "Epoch: 920000, Loss: 1.6279317140579224, \n",
            "Epoch: 922000, Loss: 1.627909541130066, \n",
            "Epoch: 924000, Loss: 1.6278862953186035, \n",
            "Epoch: 926000, Loss: 1.6278634071350098, \n",
            "Epoch: 928000, Loss: 1.6278400421142578, \n",
            "Epoch: 930000, Loss: 1.6278190612792969, \n",
            "Epoch: 932000, Loss: 1.6277966499328613, \n",
            "Epoch: 934000, Loss: 1.6277745962142944, \n",
            "Epoch: 936000, Loss: 1.627751350402832, \n",
            "Epoch: 938000, Loss: 1.6277294158935547, \n",
            "Epoch: 940000, Loss: 1.6277062892913818, \n",
            "Epoch: 942000, Loss: 1.6276828050613403, \n",
            "Epoch: 944000, Loss: 1.6276613473892212, \n",
            "Epoch: 946000, Loss: 1.6276391744613647, \n",
            "Epoch: 948000, Loss: 1.627612590789795, \n",
            "Epoch: 950000, Loss: 1.6275904178619385, \n",
            "Epoch: 952000, Loss: 1.627568006515503, \n",
            "Epoch: 954000, Loss: 1.6275430917739868, \n",
            "Epoch: 956000, Loss: 1.6275197267532349, \n",
            "Epoch: 958000, Loss: 1.6274977922439575, \n",
            "Epoch: 960000, Loss: 1.6274733543395996, \n",
            "Epoch: 962000, Loss: 1.6274501085281372, \n",
            "Epoch: 964000, Loss: 1.6274267435073853, \n",
            "Epoch: 966000, Loss: 1.6274025440216064, \n",
            "Epoch: 968000, Loss: 1.6273809671401978, \n",
            "Epoch: 970000, Loss: 1.627359390258789, \n",
            "Epoch: 972000, Loss: 1.6273350715637207, \n",
            "Epoch: 974000, Loss: 1.6273123025894165, \n",
            "Epoch: 976000, Loss: 1.6272903680801392, \n",
            "Epoch: 978000, Loss: 1.6272681951522827, \n",
            "Epoch: 980000, Loss: 1.6272464990615845, \n",
            "Epoch: 982000, Loss: 1.6272239685058594, \n",
            "Epoch: 984000, Loss: 1.6272014379501343, \n",
            "Epoch: 986000, Loss: 1.6271796226501465, \n",
            "Epoch: 988000, Loss: 1.6271593570709229, \n",
            "Epoch: 990000, Loss: 1.627137541770935, \n",
            "Epoch: 992000, Loss: 1.6271138191223145, \n",
            "Epoch: 994000, Loss: 1.6270935535430908, \n",
            "Epoch: 996000, Loss: 1.6270723342895508, \n",
            "Epoch: 998000, Loss: 1.6270502805709839, \n",
            "Epoch: 1000000, Loss: 1.627029299736023, \n"
          ],
          "name": "stdout"
        }
      ]
    },
    {
      "cell_type": "code",
      "metadata": {
        "colab_type": "code",
        "outputId": "7dca34ac-93e6-475b-e607-140125fe756f",
        "id": "-IJ4uLt-1TQ-",
        "colab": {
          "base_uri": "https://localhost:8080/",
          "height": 34
        }
      },
      "source": [
        "performance(test_x, test_y, vowel_model_extra_layer)"
      ],
      "execution_count": 632,
      "outputs": [
        {
          "output_type": "stream",
          "text": [
            "0.4308641975308642\n"
          ],
          "name": "stdout"
        }
      ]
    },
    {
      "cell_type": "markdown",
      "metadata": {
        "id": "bWCsqCffGFa8",
        "colab_type": "text"
      },
      "source": [
        "At this point, I tried looking into what was happening. For instance, am I overfitting the training set? Underfitting? I wasn't sure. It seems that continuing to train is working. It's just a very slow process. "
      ]
    }
  ]
}