{
  "nbformat": 4,
  "nbformat_minor": 0,
  "metadata": {
    "colab": {
      "name": "lab4.ipynb",
      "provenance": [],
      "collapsed_sections": [],
      "include_colab_link": true
    },
    "kernelspec": {
      "name": "python3",
      "display_name": "Python 3"
    }
  },
  "cells": [
    {
      "cell_type": "markdown",
      "metadata": {
        "id": "view-in-github",
        "colab_type": "text"
      },
      "source": [
        "<a href=\"https://colab.research.google.com/github/jrg94/CSE5522/blob/lab4/lab4.ipynb\" target=\"_parent\"><img src=\"https://colab.research.google.com/assets/colab-badge.svg\" alt=\"Open In Colab\"/></a>"
      ]
    },
    {
      "cell_type": "markdown",
      "metadata": {
        "id": "5uQ78FQhx29R",
        "colab_type": "text"
      },
      "source": [
        "# Perceptron Learning\n",
        "\n",
        "**Overview**\n",
        "\n",
        "The perceptron learning rule is a simple method for training a linear classifier.\n",
        "\n",
        "The basic idea is: when you classify something incorrectly, move the linear classifier a bit in a way that updates the boundary line.  This is related to the gradient descent algorithm used for linear regression.\n",
        "\n",
        "In the first part of the exercise, you will learn the \"and\" function to show the basic operation of the PLR, and in the second you'll try to classify some vowels.\n",
        "\n",
        "There is an optional part to play around with PyTorch, a toolkit that can be used to quickly learn neural networks.  I'll provide a quick walkthrough for learning the XOR problem (based on some code from U. Washington); see if you can adapt this to the vowel classification problem.\n",
        "\n",
        "Note: you may want to change your runtime type to GPU/TPU to speed up computation if you go to PyTorch.\n",
        "\n"
      ]
    },
    {
      "cell_type": "markdown",
      "metadata": {
        "id": "i3ESV2lnTNfG",
        "colab_type": "text"
      },
      "source": [
        "## **Part 1**\n",
        "\n",
        "In the first part of the hands-on, you'll code the Perceptron Learning Rule (PLR) algorithm."
      ]
    },
    {
      "cell_type": "code",
      "metadata": {
        "id": "BnYO6oisBzPQ",
        "colab_type": "code",
        "outputId": "af749377-d3cc-4f13-cf01-6e86f2edb7d8",
        "colab": {
          "base_uri": "https://localhost:8080/",
          "height": 0
        }
      },
      "source": [
        "# set up some preliminaries\n",
        "\n",
        "import numpy as np\n",
        "import matplotlib.pyplot as plt\n",
        "\n",
        "# set classification data for \"and\"\n",
        "data=np.array([[0,0],[0,1],[1,0],[1,1]])\n",
        "targets=np.array([0,0,0,1])\n",
        "bias=-1\n",
        "\n",
        "# set some initial weights : w1, w2, bias\n",
        "weights_init=np.array([-1,1,0.5])\n",
        "\n",
        "# here is a function for plotting both the dataset and the current decision\n",
        "# boundary, with errors in red\n",
        "def plotgraph(data,targets,weights):\n",
        "  classification=(np.sign(np.dot(np.hstack((data,np.ones((data.shape[0],1))*bias)),weights))+1)/2\n",
        "\n",
        "  plt.plot(data[np.logical_and(targets==1,classification==1),0],\n",
        "           data[np.logical_and(targets==1,classification==1),1],'bo')\n",
        "  plt.plot(data[np.logical_and(targets==1,classification==0),0],\n",
        "           data[np.logical_and(targets==1,classification==0),1],'ro')\n",
        "  plt.plot(data[np.logical_and(targets==0,classification==1),0],\n",
        "           data[np.logical_and(targets==0,classification==1),1],'rx')\n",
        "  plt.plot(data[np.logical_and(targets==0,classification==0),0],\n",
        "           data[np.logical_and(targets==0,classification==0),1],'bx')\n",
        "\n",
        "  # note weights are in form w_1*x + w_2*y + w_b = 0\n",
        "  # so to plot line we need y= -(w_1*x + w_b)/(w_2)\n",
        "  dmin=np.min(data[:,0])\n",
        "  dmax=np.max(data[:,0])\n",
        "  plt.plot(np.array([dmin,dmax]),\n",
        "           np.array([-(dmin*weights[0]+weights[2]*bias)/(weights[1]),\n",
        "                     -(dmax*weights[0]+weights[2]*bias)/(weights[1])]),\n",
        "           'b--'\n",
        "           )\n",
        "\n",
        "\n",
        "#Plot the current situation.  Red items are misclassified, blue\n",
        "#correctly classified. x=0, circle=1.\n",
        "plotgraph(data,targets,weights_init)\n"
      ],
      "execution_count": 175,
      "outputs": [
        {
          "output_type": "display_data",
          "data": {
            "image/png": "[encoded data removed]",
            "text/plain": [
              "<Figure size 432x288 with 1 Axes>"
            ]
          },
          "metadata": {
            "tags": []
          }
        }
      ]
    },
    {
      "cell_type": "markdown",
      "metadata": {
        "id": "hpBjACAdzlG0",
        "colab_type": "text"
      },
      "source": [
        "**1.1** This is where you will need to code the perceptron learning algorithm.\n",
        "\n",
        "You should assume that the nonlinear function is a step function that outputs 1 if the input is greater than 0, and 0 otherwise.\n",
        "\n",
        "Note that I had a sign bug in the slides.  The error should be the difference between the output and target (i.e. if output is 1 and target is 0, the error is 1).  \n",
        "\n",
        "Remember that there should be a bias.  You can choose to define the fixed bias as -1 (as traditionally done) or 1.  Note if you change the bias you may need to pay attention to the plotting function above.\n",
        "\n",
        "The function should return the updated weight vector.  "
      ]
    },
    {
      "cell_type": "code",
      "metadata": {
        "id": "UZEDDtyaAE-B",
        "colab_type": "code",
        "colab": {}
      },
      "source": [
        "def plr(weights, example, target, learningrate):\n",
        "  # compute weight update\n",
        "  # return updated weights\n",
        "  example_with_bias = np.append(example, bias)\n",
        "  # weights[0] * example[0] + weights[1] * example[1] + weights[2] * bias\n",
        "  g = np.sum(weights * example_with_bias)\n",
        "  output = 1 if g > 0 else 0\n",
        "  error = output - target\n",
        "  return weights - learningrate * error * example_with_bias"
      ],
      "execution_count": 0,
      "outputs": []
    },
    {
      "cell_type": "markdown",
      "metadata": {
        "id": "CKLlwQtH1dO9",
        "colab_type": "text"
      },
      "source": [
        "**1.2** The following function will randomize your training examples, and run the PLR for each example."
      ]
    },
    {
      "cell_type": "code",
      "metadata": {
        "id": "K9u9zBAZ1TzX",
        "colab_type": "code",
        "colab": {}
      },
      "source": [
        "def run_epoch(weights, data, targets, learningrate):\n",
        "  nexamples=data.shape[0]\n",
        "  order=np.random.permutation(nexamples)\n",
        "  for i in range(nexamples):\n",
        "    weights=plr(weights,data[order[i]],targets[order[i]],learningrate)\n",
        "  return weights"
      ],
      "execution_count": 0,
      "outputs": []
    },
    {
      "cell_type": "markdown",
      "metadata": {
        "id": "27HN_7pb2BBi",
        "colab_type": "text"
      },
      "source": [
        "**1.3** Now write a bit of code to run through epochs until convergence."
      ]
    },
    {
      "cell_type": "code",
      "metadata": {
        "id": "JTLXmyEGPJEM",
        "colab_type": "code",
        "outputId": "6736e569-bbe9-40cb-e0a1-735b9fe2589f",
        "colab": {
          "base_uri": "https://localhost:8080/",
          "height": 0
        }
      },
      "source": [
        "print(data)"
      ],
      "execution_count": 178,
      "outputs": [
        {
          "output_type": "stream",
          "text": [
            "[[0 0]\n",
            " [0 1]\n",
            " [1 0]\n",
            " [1 1]]\n"
          ],
          "name": "stdout"
        }
      ]
    },
    {
      "cell_type": "code",
      "metadata": {
        "id": "vcsiD2m0OZUM",
        "colab_type": "code",
        "colab": {}
      },
      "source": [
        "def experiment(iterations, weights, data, targets, learningrate):\n",
        "  for _ in range(iterations):\n",
        "    weights = run_epoch(weights, data, targets, learningrate)\n",
        "  return weights"
      ],
      "execution_count": 0,
      "outputs": []
    },
    {
      "cell_type": "code",
      "metadata": {
        "id": "jnkEdM3nBEWE",
        "colab_type": "code",
        "outputId": "5c9b57de-e029-4f12-836a-7325917d32e7",
        "colab": {
          "base_uri": "https://localhost:8080/",
          "height": 0
        }
      },
      "source": [
        "# write code to run through convergence\n",
        "# put final weights into \"finalweights\"\n",
        "LEARNING_RATE = .0111\n",
        "ITERS = 10000\n",
        "finalweights = experiment(ITERS, weights_init, data, targets, LEARNING_RATE)\n",
        "print(finalweights)"
      ],
      "execution_count": 180,
      "outputs": [
        {
          "output_type": "stream",
          "text": [
            "[0.0212 0.7447 0.7553]\n"
          ],
          "name": "stdout"
        }
      ]
    },
    {
      "cell_type": "markdown",
      "metadata": {
        "id": "Wfya2cJn2I4u",
        "colab_type": "text"
      },
      "source": [
        "**1.4** Plot the final weights to show the boundary that you have learned."
      ]
    },
    {
      "cell_type": "code",
      "metadata": {
        "id": "8fvq7bmI2HQj",
        "colab_type": "code",
        "outputId": "5d242e06-bf80-42c5-f949-e50371d8ade3",
        "colab": {
          "base_uri": "https://localhost:8080/",
          "height": 0
        }
      },
      "source": [
        "plotgraph(data,targets,finalweights)"
      ],
      "execution_count": 181,
      "outputs": [
        {
          "output_type": "display_data",
          "data": {
            "image/png": "[encoded data removed]",
            "text/plain": [
              "<Figure size 432x288 with 1 Axes>"
            ]
          },
          "metadata": {
            "tags": []
          }
        }
      ]
    },
    {
      "cell_type": "markdown",
      "metadata": {
        "id": "mUrKN_-H2b4w",
        "colab_type": "text"
      },
      "source": [
        "**1.5** Optional extensions:\n",
        "\n",
        "**1.5.1** Rerun your code for the \"or\" function.\n",
        "\n",
        "**1.5.2** Modify your code to allow for the majority class function for three inputs (i.e. 1 if 2 or more inputs are on).\n",
        "\n",
        "**1.5.3** Investigate what happens if you run the \"xor\" function through the training.\n"
      ]
    },
    {
      "cell_type": "markdown",
      "metadata": {
        "id": "2d0V3Z7q22Rm",
        "colab_type": "text"
      },
      "source": [
        "## **Part 2: Vowel Classification**\n",
        "\n",
        "In this section, you will look at some actual (noisy) vowel formant data.  Go to the International Phonetic Alphabet (IPA) vowel chart at https://en.wikipedia.org/wiki/IPA_vowel_chart_with_audio and play the sounds.  The chart is written in IPA, but here are the two letter (ARPABET) symbols for some of the vowels of English:\n",
        "\n",
        "* iy: close front unrounded\n",
        "* ih: near-close front unrounded\n",
        "* ey: close-mid front unrounded\n",
        "* eh: open-mid front unrounded\n",
        "* ah: open back rounded\n",
        "* ao: open-mid back rounded\n",
        "* ow: close-mid back rounded\n",
        "* uw: close back rounded\n",
        "* ax: mid central unrounded\n",
        "\n",
        "I've prepared a csv datafile with the following features:\n",
        "\n",
        "* f1, f2: formants\n",
        "* h1: close\n",
        "* h2: near-close or higher\n",
        "* h3: close-mid or higher\n",
        "* h4: mid or higher\n",
        "* h5: open-mid or higher\n",
        "* b1: back\n",
        "* b2: central or back\n",
        "* r: rounded\n",
        "\n",
        "First, let's read in the data.\n",
        "\n"
      ]
    },
    {
      "cell_type": "code",
      "metadata": {
        "id": "9YZyTz4sBrx6",
        "colab_type": "code",
        "outputId": "c0d3494c-4573-4104-f29f-da5e2f47a459",
        "colab": {
          "base_uri": "https://localhost:8080/",
          "height": 0
        }
      },
      "source": [
        "# first, read in the data and build a scatterplot showing the vowel formants\n",
        "import pandas as pd\n",
        "url='https://raw.githubusercontent.com/efosler/cse5522data/master/vowelfmts.csv'\n",
        "df=pd.read_csv(url)\n",
        "\n",
        "# This function will plot the vowels as a scatterplot with different colors\n",
        "# using the traditional F2 vs F1 inverted plot.  This puts high (close) vowels\n",
        "# at the top of the plot and low vowels (open) at the bottom.  Front vowels\n",
        "# are to the left; back vowels to the right.  Optionally can plot a boundary.\n",
        "\n",
        "def plotvowels(df,weights=None):\n",
        "  # this next bit converts the label into a colormap value between 0 and 1\n",
        "  vowels=df['vowel'].unique()\n",
        "  vmap={}\n",
        "  for i in range(vowels.shape[0]):\n",
        "    vmap[vowels[i]]=float(i)/float(vowels.shape[0]-1)\n",
        "  df['color']=df['vowel'].map(vmap)\n",
        "  # plot the scatterplot\n",
        "  plt.figure(num=1,figsize=(6,6))\n",
        "  plt.scatter(df['f2'],df['f1'],s=1,c=df['color'],cmap='gist_rainbow')\n",
        "  plt.gca().set_ylim([100,1000])\n",
        "  plt.gca().set_xlim([750,2500])\n",
        "  plt.gca().invert_xaxis()\n",
        "  plt.gca().invert_yaxis()\n",
        "  if weights is not None:\n",
        "    dmin=df['f2'].min()\n",
        "    dmax=df['f2'].max()\n",
        "    plt.plot(np.array([dmin,dmax]),\n",
        "             np.array([-(dmin*weights[0]+weights[2])/(weights[1]),\n",
        "                       -(dmax*weights[0]+weights[2])/(weights[1])]),\n",
        "             'b--'\n",
        "             )\n",
        "\n",
        "# Plot the vowel data.  Compare against the IPA chart online.      \n",
        "plotvowels(df)"
      ],
      "execution_count": 182,
      "outputs": [
        {
          "output_type": "display_data",
          "data": {
            "image/png": "[encoded data removed]",
            "text/plain": [
              "<Figure size 432x432 with 1 Axes>"
            ]
          },
          "metadata": {
            "tags": []
          }
        }
      ]
    },
    {
      "cell_type": "markdown",
      "metadata": {
        "id": "OKy9yHIA4fgW",
        "colab_type": "text"
      },
      "source": [
        "You will notice that the vowel classes aren't linearly separable.  The idea will be to try to separate the different kinds of vowels (back/front/close/open) with different separators.\n",
        "\n",
        "**2.2** A bit of code to create training/test sets."
      ]
    },
    {
      "cell_type": "code",
      "metadata": {
        "id": "z55b8iWFBIFC",
        "colab_type": "code",
        "colab": {}
      },
      "source": [
        "from sklearn.model_selection import train_test_split\n",
        "train_data, test_data, train_targets, test_targets = train_test_split(df[['f1','f2']],df[['close','near-close+','close-mid+','mid+','open-mid+','back','central-or-back','rounded','vowel']])"
      ],
      "execution_count": 0,
      "outputs": []
    },
    {
      "cell_type": "markdown",
      "metadata": {
        "id": "SLtkJHnL4rb9",
        "colab_type": "text"
      },
      "source": [
        "**2.3** At this point, the project becomes a bit open-ended and exploratory.  What you should do is normalize F1 and F2 (perhaps it would be best to do that before the data splits, but that is your choice).  The main reason is that the bias term needs to be pretty high.\n",
        "\n",
        "Try to predict one of the targets (e.g. train_targets['central-or-back']) from the f2/f1 data.  If you can get reasonable classifiers for the 8 vowel features (h1-h5,b1,b2,r) then see if you can predict the vowel category based on the output of the classifiers.  \n",
        "\n",
        "WARNING: since your classes will not be linearly separable, you will need to NOT run to convergence (as they won't converge).  See if you can figure out a reasonable place to stop training.\n",
        "\n",
        "If you get stuck on this point, and want to try something different, move on to Part 3."
      ]
    },
    {
      "cell_type": "code",
      "metadata": {
        "id": "o_dO_JvEDi9F",
        "colab_type": "code",
        "outputId": "52d4c44d-2428-407e-a5df-d8e2b90c9b98",
        "colab": {
          "base_uri": "https://localhost:8080/",
          "height": 0
        }
      },
      "source": [
        "# normalize training data (borrowed from https://stackoverflow.com/questions/26414913/normalize-columns-of-pandas-data-frame)\n",
        "from sklearn import preprocessing\n",
        "x = train_data.values \n",
        "min_max_scaler = preprocessing.MinMaxScaler()\n",
        "x_scaled = min_max_scaler.fit_transform(x)\n",
        "train_data = pd.DataFrame(x_scaled)\n",
        "print(train_data)"
      ],
      "execution_count": 184,
      "outputs": [
        {
          "output_type": "stream",
          "text": [
            "             0         1\n",
            "0     0.101472  0.680990\n",
            "1     0.317179  0.724325\n",
            "2     0.474267  0.369286\n",
            "3     0.213675  0.582888\n",
            "4     0.591444  0.341251\n",
            "...        ...       ...\n",
            "2422  0.278764  0.421969\n",
            "2423  0.277967  0.237721\n",
            "2424  0.317514  0.654532\n",
            "2425  0.267169  0.374926\n",
            "2426  0.480546  0.346436\n",
            "\n",
            "[2427 rows x 2 columns]\n"
          ],
          "name": "stdout"
        }
      ]
    },
    {
      "cell_type": "code",
      "metadata": {
        "id": "SfZO4CdrQeP0",
        "colab_type": "code",
        "outputId": "3836ff28-1341-4bdd-b71c-f2f6c2222ed5",
        "colab": {
          "base_uri": "https://localhost:8080/",
          "height": 0
        }
      },
      "source": [
        "print(train_targets.columns)"
      ],
      "execution_count": 185,
      "outputs": [
        {
          "output_type": "stream",
          "text": [
            "Index(['close', 'near-close+', 'close-mid+', 'mid+', 'open-mid+', 'back',\n",
            "       'central-or-back', 'rounded', 'vowel'],\n",
            "      dtype='object')\n"
          ],
          "name": "stdout"
        }
      ]
    },
    {
      "cell_type": "code",
      "metadata": {
        "id": "xtevCTxiNmXs",
        "colab_type": "code",
        "outputId": "a1f93ac1-0bb1-4e8b-8c74-11d6e4882180",
        "colab": {
          "base_uri": "https://localhost:8080/",
          "height": 0
        }
      },
      "source": [
        "# predict one of the attributes from training data\n",
        "ITER = 100\n",
        "close_weights = experiment(ITER, weights_init, train_data.values, train_targets[\"close\"].values, LEARNING_RATE)\n",
        "near_close_weights = experiment(ITER, weights_init, train_data.values, train_targets[\"near-close+\"].values, LEARNING_RATE)\n",
        "close_mid_weights = experiment(ITER, weights_init, train_data.values, train_targets[\"close-mid+\"].values, LEARNING_RATE)\n",
        "mid_weights = experiment(ITER, weights_init, train_data.values, train_targets[\"mid+\"].values, LEARNING_RATE)\n",
        "open_mid_weights = experiment(ITER, weights_init, train_data.values, train_targets[\"open-mid+\"].values, LEARNING_RATE)\n",
        "back_weights = experiment(ITER, weights_init, train_data.values, train_targets[\"back\"].values, LEARNING_RATE)\n",
        "central_or_back_weights = experiment(ITER, weights_init, train_data.values, train_targets[\"central-or-back\"].values, LEARNING_RATE)\n",
        "rounded_weights = experiment(ITER, weights_init, train_data.values, train_targets[\"rounded\"].values, LEARNING_RATE)\n",
        "\n",
        "display(\n",
        "    close_weights,\n",
        "    near_close_weights,\n",
        "    close_mid_weights,\n",
        "    mid_weights,\n",
        "    open_mid_weights,\n",
        "    back_weights,\n",
        "    central_or_back_weights,\n",
        "    rounded_weights\n",
        ")"
      ],
      "execution_count": 186,
      "outputs": [
        {
          "output_type": "display_data",
          "data": {
            "text/plain": [
              "array([-0.0219383,  0.0106271,  0.0116   ])"
            ]
          },
          "metadata": {
            "tags": []
          }
        },
        {
          "output_type": "display_data",
          "data": {
            "text/plain": [
              "array([-0.02428273,  0.02330376,  0.0005    ])"
            ]
          },
          "metadata": {
            "tags": []
          }
        },
        {
          "output_type": "display_data",
          "data": {
            "text/plain": [
              "array([-0.00833731,  0.03449688,  0.0005    ])"
            ]
          },
          "metadata": {
            "tags": []
          }
        },
        {
          "output_type": "display_data",
          "data": {
            "text/plain": [
              "array([-0.02578683,  0.01519955, -0.0106    ])"
            ]
          },
          "metadata": {
            "tags": []
          }
        },
        {
          "output_type": "display_data",
          "data": {
            "text/plain": [
              "array([-0.02041799,  0.01963786, -0.0106    ])"
            ]
          },
          "metadata": {
            "tags": []
          }
        },
        {
          "output_type": "display_data",
          "data": {
            "text/plain": [
              "array([-0.01473369, -0.0737297 , -0.0328    ])"
            ]
          },
          "metadata": {
            "tags": []
          }
        },
        {
          "output_type": "display_data",
          "data": {
            "text/plain": [
              "array([-0.02438398, -0.07453886, -0.0328    ])"
            ]
          },
          "metadata": {
            "tags": []
          }
        },
        {
          "output_type": "display_data",
          "data": {
            "text/plain": [
              "array([-0.01790642, -0.06821652, -0.055     ])"
            ]
          },
          "metadata": {
            "tags": []
          }
        }
      ]
    },
    {
      "cell_type": "code",
      "metadata": {
        "id": "pT7z66xNSxeD",
        "colab_type": "code",
        "outputId": "fa5fb34f-21bc-4cc8-c992-8b0b9cb6bf6f",
        "colab": {
          "base_uri": "https://localhost:8080/",
          "height": 0
        }
      },
      "source": [
        "plotvowels(df, close_weights)"
      ],
      "execution_count": 187,
      "outputs": [
        {
          "output_type": "display_data",
          "data": {
            "image/png": "[encoded data removed]",
            "text/plain": [
              "<Figure size 432x432 with 1 Axes>"
            ]
          },
          "metadata": {
            "tags": []
          }
        }
      ]
    },
    {
      "cell_type": "code",
      "metadata": {
        "id": "FanO1XglRq8s",
        "colab_type": "code",
        "colab": {}
      },
      "source": [
        "# if you get this far, take the classifiers and try to predict vowel class (\"and\" function)!"
      ],
      "execution_count": 0,
      "outputs": []
    },
    {
      "cell_type": "markdown",
      "metadata": {
        "id": "5ropho7s6URu",
        "colab_type": "text"
      },
      "source": [
        "## **Part 3: PyTorch Neural Networks**\n",
        "\n",
        "This is a quick runthrough of PyTorch, and how to build a neural network.  The code below is a modified version of https://courses.cs.washington.edu/courses/cse446/18wi/sections/section8/XOR-Pytorch.html with some additional annotations to help you along.\n",
        "\n",
        "This part is mostly read-and-run, but at the end you can test your understanding by modifying the code.\n",
        "\n",
        "**3.1** First some library preliminaries."
      ]
    },
    {
      "cell_type": "code",
      "metadata": {
        "id": "GyIQ-0oOiU7F",
        "colab_type": "code",
        "outputId": "7258e820-ec85-4893-f788-df69e9fb5641",
        "colab": {
          "base_uri": "https://localhost:8080/",
          "height": 0
        }
      },
      "source": [
        "import torch\n",
        "from torch.autograd import Variable\n",
        "import torch.nn as nn\n",
        "import torch.nn.functional as F\n",
        "import torch.optim as optim\n",
        "import numpy as np\n",
        "import matplotlib.pyplot as plt\n",
        "%matplotlib inline\n",
        "torch.manual_seed(2)"
      ],
      "execution_count": 189,
      "outputs": [
        {
          "output_type": "execute_result",
          "data": {
            "text/plain": [
              "<torch._C.Generator at 0x7f5443aacf30>"
            ]
          },
          "metadata": {
            "tags": []
          },
          "execution_count": 189
        }
      ]
    },
    {
      "cell_type": "markdown",
      "metadata": {
        "id": "Zo7_euBB64as",
        "colab_type": "text"
      },
      "source": [
        "**3.2** Now set up the data into *tensors* (i.e. multidimensional arrays).  X is the data array, Y is the target."
      ]
    },
    {
      "cell_type": "code",
      "metadata": {
        "id": "OOrD5aDP62CX",
        "colab_type": "code",
        "colab": {}
      },
      "source": [
        "X = torch.Tensor([[0,0],[0,1], [1,0], [1,1]])\n",
        "Y = torch.Tensor([0,1,1,0]).view(-1,1)"
      ],
      "execution_count": 0,
      "outputs": []
    },
    {
      "cell_type": "markdown",
      "metadata": {
        "id": "MpflPWlf7Nsj",
        "colab_type": "text"
      },
      "source": [
        "**3.3** Let's define a multi-layer perceptron with 2 layers.  Each layer will create a linear combination of the inputs, and feed to a sigmoid output.\n",
        "\n",
        "Note that the initializer (with the calls to nn.Linear) will create a set of parameters that are associated with the model."
      ]
    },
    {
      "cell_type": "code",
      "metadata": {
        "id": "fn7n4-VH7OQL",
        "colab_type": "code",
        "colab": {}
      },
      "source": [
        "class MLP2(nn.Module):\n",
        "    def __init__(self, input_dim = 2, hid_dim=2, output_dim=1):\n",
        "        # initialze the superclass\n",
        "        super(MLP2, self).__init__()\n",
        "        # this will create a linear layer with input_dim x hid_dim parameters\n",
        "        # in addition to a bias unit with hid_dim parameters\n",
        "        self.lin1 = nn.Linear(input_dim, hid_dim)\n",
        "        # same thing here except hid_dim x output_dim\n",
        "        self.lin2 = nn.Linear(hid_dim, output_dim)\n",
        "    \n",
        "    # this is where the meat of the action is\n",
        "    def forward(self, x):\n",
        "        x = self.lin1(x)  # linear combination of inputs\n",
        "        x = torch.sigmoid(x) # then through sigmoid - output of first layer\n",
        "        x = self.lin2(x) # linear combination of hidden units\n",
        "        x = torch.sigmoid(x) # then through sigmoid - net output\n",
        "        return x"
      ],
      "execution_count": 0,
      "outputs": []
    },
    {
      "cell_type": "markdown",
      "metadata": {
        "id": "Usrqoiw48CcX",
        "colab_type": "text"
      },
      "source": [
        "**3.4** We also define a function to initialize weights of our model."
      ]
    },
    {
      "cell_type": "code",
      "metadata": {
        "id": "bJP5EfDS7-Hw",
        "colab_type": "code",
        "colab": {}
      },
      "source": [
        "def weights_init(model):\n",
        "    for m in model.modules():\n",
        "        if isinstance(m, nn.Linear):\n",
        "            # initialize the weight tensor, here we use a normal distribution\n",
        "            m.weight.data.normal_(0, 1)"
      ],
      "execution_count": 0,
      "outputs": []
    },
    {
      "cell_type": "markdown",
      "metadata": {
        "id": "IhhgEm298OSk",
        "colab_type": "text"
      },
      "source": [
        "**3.5** Now create a model and initialize it.  Also define a loss function and the optimizer."
      ]
    },
    {
      "cell_type": "code",
      "metadata": {
        "id": "QD8pE8kb8MuO",
        "colab_type": "code",
        "colab": {}
      },
      "source": [
        "model1 = MLP2()\n",
        "weights_init(model1)\n",
        "loss_func = nn.MSELoss()\n",
        "optimizer = optim.SGD(model1.parameters(), lr=0.02, momentum=0.9)"
      ],
      "execution_count": 0,
      "outputs": []
    },
    {
      "cell_type": "markdown",
      "metadata": {
        "id": "GPT4oaWy9LD-",
        "colab_type": "text"
      },
      "source": [
        "**3.6** Now we run the training."
      ]
    },
    {
      "cell_type": "code",
      "metadata": {
        "id": "jj3tKoee8nMH",
        "colab_type": "code",
        "outputId": "0570c6e3-c445-4673-f604-41ccd26ef9f2",
        "colab": {
          "base_uri": "https://localhost:8080/",
          "height": 0
        }
      },
      "source": [
        "epochs = 5001\n",
        "steps = X.size(0)\n",
        "for i in range(epochs):\n",
        "    for j in range(steps):\n",
        "        data_point = np.random.randint(X.size(0))\n",
        "        x_var = Variable(X[data_point], requires_grad=False)\n",
        "        y_var = Variable(Y[data_point], requires_grad=False)\n",
        "        \n",
        "        optimizer.zero_grad()\n",
        "        y_hat = model1(x_var)\n",
        "        loss = loss_func.forward(y_hat, y_var)\n",
        "        loss.backward()\n",
        "        optimizer.step()\n",
        "\n",
        "    if i % 500 == 0:\n",
        "        print(\"Epoch: {0}, Loss: {1}, \".format(i, loss.data.numpy()))"
      ],
      "execution_count": 194,
      "outputs": [
        {
          "output_type": "stream",
          "text": [
            "Epoch: 0, Loss: 0.7393645644187927, \n",
            "Epoch: 500, Loss: 0.16356316208839417, \n",
            "Epoch: 1000, Loss: 0.020125767216086388, \n",
            "Epoch: 1500, Loss: 0.11702773720026016, \n",
            "Epoch: 2000, Loss: 0.005233379080891609, \n",
            "Epoch: 2500, Loss: 0.0012654472375288606, \n",
            "Epoch: 3000, Loss: 0.0015148435486480594, \n",
            "Epoch: 3500, Loss: 0.0010512451408430934, \n",
            "Epoch: 4000, Loss: 0.0006524514174088836, \n",
            "Epoch: 4500, Loss: 0.1409645974636078, \n",
            "Epoch: 5000, Loss: 0.0016853810520842671, \n"
          ],
          "name": "stdout"
        }
      ]
    },
    {
      "cell_type": "markdown",
      "metadata": {
        "id": "sqFt7zng-cIO",
        "colab_type": "text"
      },
      "source": [
        "**3.7** This is a neat little bit of code that will print out the first layer's decision boundaries."
      ]
    },
    {
      "cell_type": "code",
      "metadata": {
        "id": "DX6bK_Z--TV9",
        "colab_type": "code",
        "outputId": "16e5480c-1b5b-4529-b8d5-79d2c25eebf1",
        "colab": {
          "base_uri": "https://localhost:8080/",
          "height": 0
        }
      },
      "source": [
        "model_params = list(model1.parameters())\n",
        "model_weights = model_params[0].data.numpy()\n",
        "model_bias = model_params[1].data.numpy()\n",
        "\n",
        "plt.scatter(X.numpy()[[0,-1], 0], X.numpy()[[0, -1], 1], s=50)\n",
        "plt.scatter(X.numpy()[[1,2], 0], X.numpy()[[1, 2], 1], c='red', s=50)\n",
        "\n",
        "x_1 = np.arange(-0.1, 1.1, 0.1)\n",
        "y_1 = ((x_1 * model_weights[0,0]) + model_bias[0]) / (-model_weights[0,1])\n",
        "plt.plot(x_1, y_1)\n",
        "\n",
        "x_2 = np.arange(-0.1, 1.1, 0.1)\n",
        "y_2 = ((x_2 * model_weights[1,0]) + model_bias[1]) / (-model_weights[1,1])\n",
        "plt.plot(x_2, y_2)\n",
        "plt.legend([\"neuron_1\", \"neuron_2\"], loc=8)\n",
        "plt.show()"
      ],
      "execution_count": 195,
      "outputs": [
        {
          "output_type": "display_data",
          "data": {
            "image/png": "[encoded data removed]",
            "text/plain": [
              "<Figure size 432x288 with 1 Axes>"
            ]
          },
          "metadata": {
            "tags": []
          }
        }
      ]
    },
    {
      "cell_type": "markdown",
      "metadata": {
        "id": "8WHZknJg-09E",
        "colab_type": "text"
      },
      "source": [
        "**3.8** Now take a look at the parameters that were learned.  Can you trace how the xor decision works for each of the datapoints?  \n",
        "\n",
        "The first tensor is the input-hidden weights, second is the bias-hidden weights, third is hidden-output, and last is bias-output."
      ]
    },
    {
      "cell_type": "code",
      "metadata": {
        "id": "MtJ_Y3kw-wzE",
        "colab_type": "code",
        "outputId": "c467e475-b40b-47d0-e64a-d5d7d294b816",
        "colab": {
          "base_uri": "https://localhost:8080/",
          "height": 0
        }
      },
      "source": [
        "model_params"
      ],
      "execution_count": 196,
      "outputs": [
        {
          "output_type": "execute_result",
          "data": {
            "text/plain": [
              "[Parameter containing:\n",
              " tensor([[-3.5832, -7.4736],\n",
              "         [-4.4793,  8.0468]], requires_grad=True), Parameter containing:\n",
              " tensor([0.7210, 3.1172], requires_grad=True), Parameter containing:\n",
              " tensor([[-5.5396, -4.5333]], requires_grad=True), Parameter containing:\n",
              " tensor([4.9300], requires_grad=True)]"
            ]
          },
          "metadata": {
            "tags": []
          },
          "execution_count": 196
        }
      ]
    },
    {
      "cell_type": "markdown",
      "metadata": {
        "id": "o0ZO61uX_XRa",
        "colab_type": "text"
      },
      "source": [
        "**3.9** Can you modify the above code to add a third layer?  What happens if you replace the sigmoid in the middle layer(s) with tanh?"
      ]
    },
    {
      "cell_type": "markdown",
      "metadata": {
        "id": "KTlDScM7csqW",
        "colab_type": "text"
      },
      "source": [
        "To do this, I modified the constructor to include another linear layer. "
      ]
    },
    {
      "cell_type": "code",
      "metadata": {
        "colab_type": "code",
        "id": "aLZmWNqpcaK9",
        "colab": {}
      },
      "source": [
        "class MLP3(nn.Module):\n",
        "    def __init__(self, input_dim = 2, hid_dim=2, output_dim=1):\n",
        "        # initialze the superclass\n",
        "        super(MLP3, self).__init__()\n",
        "        # this will create a linear layer with input_dim x hid_dim parameters\n",
        "        # in addition to a bias unit with hid_dim parameters\n",
        "        self.lin1 = nn.Linear(input_dim, hid_dim)\n",
        "        # a hidden layer between input layer and output layer\n",
        "        self.lin_hid = nn.Linear(hid_dim, hid_dim)\n",
        "        # same thing here except hid_dim x output_dim\n",
        "        self.lin2 = nn.Linear(hid_dim, output_dim)\n",
        "    \n",
        "    # this is where the meat of the action is\n",
        "    def forward(self, x):\n",
        "        x = self.lin1(x)  # linear combination of inputs\n",
        "        x = torch.sigmoid(x) # then through sigmoid - output of first layer\n",
        "        x = self.lin_hid(x)\n",
        "        x = torch.sigmoid(x)\n",
        "        x = self.lin2(x) # linear combination of hidden units\n",
        "        x = torch.sigmoid(x) # then through sigmoid - net output\n",
        "        return x"
      ],
      "execution_count": 0,
      "outputs": []
    },
    {
      "cell_type": "code",
      "metadata": {
        "id": "Ef4cigg8fZu-",
        "colab_type": "code",
        "colab": {}
      },
      "source": [
        "model2 = MLP3()\n",
        "weights_init(model2)\n",
        "loss_func = nn.MSELoss()\n",
        "optimizer = optim.SGD(model2.parameters(), lr=0.02, momentum=0.9)"
      ],
      "execution_count": 0,
      "outputs": []
    },
    {
      "cell_type": "code",
      "metadata": {
        "id": "qm9ULLwmfdMM",
        "colab_type": "code",
        "outputId": "c1a3c7ae-85e6-41e4-ad99-4359a8d76b56",
        "colab": {
          "base_uri": "https://localhost:8080/",
          "height": 0
        }
      },
      "source": [
        "epochs = 5001\n",
        "steps = X.size(0)\n",
        "for i in range(epochs):\n",
        "    for j in range(steps):\n",
        "        data_point = np.random.randint(X.size(0))\n",
        "        x_var = Variable(X[data_point], requires_grad=False)\n",
        "        y_var = Variable(Y[data_point], requires_grad=False)\n",
        "        \n",
        "        optimizer.zero_grad()\n",
        "        y_hat = model2(x_var)\n",
        "        loss = loss_func.forward(y_hat, y_var)\n",
        "        loss.backward()\n",
        "        optimizer.step()\n",
        "\n",
        "    if i % 500 == 0:\n",
        "        print(\"Epoch: {0}, Loss: {1}, \".format(i, loss.data.numpy()))"
      ],
      "execution_count": 199,
      "outputs": [
        {
          "output_type": "stream",
          "text": [
            "Epoch: 0, Loss: 0.34183433651924133, \n",
            "Epoch: 500, Loss: 0.31827226281166077, \n",
            "Epoch: 1000, Loss: 0.2405960112810135, \n",
            "Epoch: 1500, Loss: 0.2650201618671417, \n",
            "Epoch: 2000, Loss: 0.3157420754432678, \n",
            "Epoch: 2500, Loss: 0.10245584696531296, \n",
            "Epoch: 3000, Loss: 0.009518804959952831, \n",
            "Epoch: 3500, Loss: 0.002240872709080577, \n",
            "Epoch: 4000, Loss: 0.0014487867010757327, \n",
            "Epoch: 4500, Loss: 0.0012658140622079372, \n",
            "Epoch: 5000, Loss: 0.0009685119148343801, \n"
          ],
          "name": "stdout"
        }
      ]
    },
    {
      "cell_type": "code",
      "metadata": {
        "id": "LUcrOFqxfkgU",
        "colab_type": "code",
        "outputId": "44e52eeb-5465-4dfc-a916-77408fbf7f9f",
        "colab": {
          "base_uri": "https://localhost:8080/",
          "height": 0
        }
      },
      "source": [
        "model_params = list(model2.parameters())\n",
        "model_weights = model_params[0].data.numpy()\n",
        "model_bias = model_params[1].data.numpy()\n",
        "\n",
        "plt.scatter(X.numpy()[[0,-1], 0], X.numpy()[[0, -1], 1], s=50)\n",
        "plt.scatter(X.numpy()[[1,2], 0], X.numpy()[[1, 2], 1], c='red', s=50)\n",
        "\n",
        "x_1 = np.arange(-0.1, 1.1, 0.1)\n",
        "y_1 = ((x_1 * model_weights[0,0]) + model_bias[0]) / (-model_weights[0,1])\n",
        "plt.plot(x_1, y_1)\n",
        "\n",
        "x_2 = np.arange(-0.1, 1.1, 0.1)\n",
        "y_2 = ((x_2 * model_weights[1,0]) + model_bias[1]) / (-model_weights[1,1])\n",
        "plt.plot(x_2, y_2)\n",
        "plt.legend([\"neuron_1\", \"neuron_2\"], loc=8)\n",
        "plt.show()"
      ],
      "execution_count": 200,
      "outputs": [
        {
          "output_type": "display_data",
          "data": {
            "image/png": "[encoded data removed]",
            "text/plain": [
              "<Figure size 432x288 with 1 Axes>"
            ]
          },
          "metadata": {
            "tags": []
          }
        }
      ]
    },
    {
      "cell_type": "markdown",
      "metadata": {
        "id": "Fm6nZTSdf4at",
        "colab_type": "text"
      },
      "source": [
        "I have executed these models a few times, and I continue to get different results. However, in general, the second model (model2) draws better decision boundaries (although it doesn't always converge on the proper boundaries): each line separates a different point of the same color in parallel. Meanwhile, the first model (model1) gets confused around the decision boundaries. For example, one line separates off a blue point while the other line separates off an orange point—both lines cross in the middle.\n",
        "\n",
        "If I increase the epochs, I don't really see a difference. The first model (model1) still fails to get the right decision boundaries. That said, the second model (model2) does almost certainly converge with more epochs. \n",
        "\n",
        "At any rate, the following model introduces tanh into the new middle layer:"
      ]
    },
    {
      "cell_type": "code",
      "metadata": {
        "id": "i5w_OjG0l2Ck",
        "colab_type": "code",
        "colab": {}
      },
      "source": [
        "class MLP4(nn.Module):\n",
        "    def __init__(self, input_dim = 2, hid_dim=2, output_dim=1):\n",
        "        # initialze the superclass\n",
        "        super(MLP4, self).__init__()\n",
        "        # this will create a linear layer with input_dim x hid_dim parameters\n",
        "        # in addition to a bias unit with hid_dim parameters\n",
        "        self.lin1 = nn.Linear(input_dim, hid_dim)\n",
        "        # a hidden layer between input layer and output layer\n",
        "        self.lin_hid = nn.Linear(hid_dim, hid_dim)\n",
        "        # same thing here except hid_dim x output_dim\n",
        "        self.lin2 = nn.Linear(hid_dim, output_dim)\n",
        "    \n",
        "    # this is where the meat of the action is\n",
        "    def forward(self, x):\n",
        "        x = self.lin1(x)  # linear combination of inputs\n",
        "        x = torch.sigmoid(x) # then through sigmoid - output of first layer\n",
        "        x = self.lin_hid(x)\n",
        "        x = torch.tanh(x)\n",
        "        x = self.lin2(x) # linear combination of hidden units\n",
        "        x = torch.sigmoid(x) # then through sigmoid - net output\n",
        "        return x"
      ],
      "execution_count": 0,
      "outputs": []
    },
    {
      "cell_type": "code",
      "metadata": {
        "id": "GxKFUNncl93y",
        "colab_type": "code",
        "colab": {}
      },
      "source": [
        "model3 = MLP4()\n",
        "weights_init(model3)\n",
        "loss_func = nn.MSELoss()\n",
        "optimizer = optim.SGD(model3.parameters(), lr=0.02, momentum=0.9)"
      ],
      "execution_count": 0,
      "outputs": []
    },
    {
      "cell_type": "code",
      "metadata": {
        "id": "sWmo3ihgmCUS",
        "colab_type": "code",
        "outputId": "2b0f02c1-cf21-4ae4-8a9c-5eff77e94fcb",
        "colab": {
          "base_uri": "https://localhost:8080/",
          "height": 0
        }
      },
      "source": [
        "epochs = 5001\n",
        "steps = X.size(0)\n",
        "for i in range(epochs):\n",
        "    for j in range(steps):\n",
        "        data_point = np.random.randint(X.size(0))\n",
        "        x_var = Variable(X[data_point], requires_grad=False)\n",
        "        y_var = Variable(Y[data_point], requires_grad=False)\n",
        "        \n",
        "        optimizer.zero_grad()\n",
        "        y_hat = model3(x_var)\n",
        "        loss = loss_func.forward(y_hat, y_var)\n",
        "        loss.backward()\n",
        "        optimizer.step()\n",
        "\n",
        "    if i % 500 == 0:\n",
        "        print(\"Epoch: {0}, Loss: {1}, \".format(i, loss.data.numpy()))"
      ],
      "execution_count": 203,
      "outputs": [
        {
          "output_type": "stream",
          "text": [
            "Epoch: 0, Loss: 0.16334378719329834, \n",
            "Epoch: 500, Loss: 0.38111063838005066, \n",
            "Epoch: 1000, Loss: 0.2825388014316559, \n",
            "Epoch: 1500, Loss: 0.490969181060791, \n",
            "Epoch: 2000, Loss: 0.003550273831933737, \n",
            "Epoch: 2500, Loss: 0.0159889105707407, \n",
            "Epoch: 3000, Loss: 0.0012643110239878297, \n",
            "Epoch: 3500, Loss: 0.0005269758403301239, \n",
            "Epoch: 4000, Loss: 0.0003564255021046847, \n",
            "Epoch: 4500, Loss: 0.00026149090263061225, \n",
            "Epoch: 5000, Loss: 0.0002023813285632059, \n"
          ],
          "name": "stdout"
        }
      ]
    },
    {
      "cell_type": "code",
      "metadata": {
        "id": "5cI-Q6txmGNK",
        "colab_type": "code",
        "outputId": "d7d7a362-9c29-4bf4-e526-0c3c83bf2bb9",
        "colab": {
          "base_uri": "https://localhost:8080/",
          "height": 0
        }
      },
      "source": [
        "model_params = list(model3.parameters())\n",
        "model_weights = model_params[0].data.numpy()\n",
        "model_bias = model_params[1].data.numpy()\n",
        "\n",
        "plt.scatter(X.numpy()[[0,-1], 0], X.numpy()[[0, -1], 1], s=50)\n",
        "plt.scatter(X.numpy()[[1,2], 0], X.numpy()[[1, 2], 1], c='red', s=50)\n",
        "\n",
        "x_1 = np.arange(-0.1, 1.1, 0.1)\n",
        "y_1 = ((x_1 * model_weights[0,0]) + model_bias[0]) / (-model_weights[0,1])\n",
        "plt.plot(x_1, y_1)\n",
        "\n",
        "x_2 = np.arange(-0.1, 1.1, 0.1)\n",
        "y_2 = ((x_2 * model_weights[1,0]) + model_bias[1]) / (-model_weights[1,1])\n",
        "plt.plot(x_2, y_2)\n",
        "plt.legend([\"neuron_1\", \"neuron_2\"], loc=8)\n",
        "plt.show()"
      ],
      "execution_count": 204,
      "outputs": [
        {
          "output_type": "display_data",
          "data": {
            "image/png": "[encoded data removed]",
            "text/plain": [
              "<Figure size 432x288 with 1 Axes>"
            ]
          },
          "metadata": {
            "tags": []
          }
        }
      ]
    },
    {
      "cell_type": "markdown",
      "metadata": {
        "id": "2zjEYlJDmw-O",
        "colab_type": "text"
      },
      "source": [
        "The only difference I can see between this new model with tanh as the activation function is that the two lines swapped places (i.e. orange is the top decision boundary while blue is the bottom decision boundary). It also seems to have converged slightly faster. "
      ]
    },
    {
      "cell_type": "markdown",
      "metadata": {
        "id": "NniWfU91_mhn",
        "colab_type": "text"
      },
      "source": [
        "## **Part 4: MLP classification of vowels**\n",
        "\n",
        "If you've gotten this far, then here is a challenge for you.  Taking the data from Part 2, can you build a MLP that can classify the vowels directly into vowel classes?\n",
        "\n",
        "You should have a hidden layer with a reasonable number of hidden units (maybe 100), and your output should be a softmax layer with 9 outputs (one for each vowel class). The target should be 1 for the correct class, and 0 otherwise. The loss function should also be changed to a Cross Entropy loss.  You may need to do a bit of googling of \"pytorch ___\" to find the different kinds of functions you need."
      ]
    },
    {
      "cell_type": "code",
      "metadata": {
        "id": "2oBeGwHQ_lNj",
        "colab_type": "code",
        "colab": {}
      },
      "source": [
        "class MLPVowel(nn.Module):\n",
        "    def __init__(self, input_dim = 2, hid_dim=100, output_dim=9):\n",
        "        super(MLPVowel, self).__init__()\n",
        "        \n",
        "        self.lin1 = nn.Linear(input_dim, hid_dim)\n",
        "        self.lin2 = nn.Linear(hid_dim, output_dim)\n",
        "        #self.lin3 = nn.Softmax(output_dim)\n",
        "    \n",
        "    # this is where the meat of the action is\n",
        "    def forward(self, x):\n",
        "        x = self.lin1(x)  # linear combination of inputs\n",
        "        x = torch.sigmoid(x) # then through sigmoid - output of first layer\n",
        "        x = self.lin2(x) # linear combination of hidden units\n",
        "        x = torch.sigmoid(x) # then through sigmoid - net output\n",
        "        return x"
      ],
      "execution_count": 0,
      "outputs": []
    },
    {
      "cell_type": "code",
      "metadata": {
        "id": "9ivlzedOWRdl",
        "colab_type": "code",
        "colab": {}
      },
      "source": [
        "def weights_init(model):\n",
        "    for m in model.modules():\n",
        "        if isinstance(m, nn.Linear):\n",
        "            # initialize the weight tensor, here we use a normal distribution\n",
        "            m.weight.data.normal_(0, 1)"
      ],
      "execution_count": 0,
      "outputs": []
    },
    {
      "cell_type": "code",
      "metadata": {
        "id": "J4ENBBxItkdp",
        "colab_type": "code",
        "colab": {}
      },
      "source": [
        "vowel_model = MLPVowel()\n",
        "weights_init(vowel_model)\n",
        "loss_func = nn.CrossEntropyLoss()\n",
        "optimizer = optim.SGD(vowel_model.parameters(), lr=0.02, momentum=0.9)"
      ],
      "execution_count": 0,
      "outputs": []
    },
    {
      "cell_type": "code",
      "metadata": {
        "id": "3ZU5Tc6mSpy8",
        "colab_type": "code",
        "colab": {}
      },
      "source": [
        "train_data, test_data, train_targets, test_targets = train_test_split(df[['f1','f2']],df[['close','near-close+','close-mid+','mid+','open-mid+','back','central-or-back','rounded','vowel']])\n",
        "\n",
        "# Normalize training data\n",
        "x = train_data.values \n",
        "min_max_scaler = preprocessing.MinMaxScaler()\n",
        "x_scaled = min_max_scaler.fit_transform(x)\n",
        "train_data = pd.DataFrame(x_scaled)\n",
        "\n",
        "# Convert targets to categorical indices\n",
        "train_vowels = train_targets['vowel'].astype('category').cat.codes\n",
        "train_vowels\n",
        "\n",
        "# Setup tensors\n",
        "X = torch.Tensor(train_data.values)\n",
        "Y = torch.Tensor(train_vowels.values).long().view(-1, 1)"
      ],
      "execution_count": 0,
      "outputs": []
    },
    {
      "cell_type": "code",
      "metadata": {
        "id": "jYzCsIZ2Sf_2",
        "colab_type": "code",
        "outputId": "c33b132d-0c28-4121-87a5-33d7c18b0837",
        "colab": {
          "base_uri": "https://localhost:8080/",
          "height": 370
        }
      },
      "source": [
        "epochs = 2001\n",
        "steps = X.size(0)\n",
        "for i in range(epochs):\n",
        "    for j in range(steps):\n",
        "        data_point = np.random.randint(X.size(0))\n",
        "        x_var = Variable(X[data_point], requires_grad=False)\n",
        "        y_var = Variable(Y[data_point], requires_grad=False)\n",
        "        \n",
        "        optimizer.zero_grad()\n",
        "        y_hat = vowel_model(x_var).view(1, -1)\n",
        "        loss = loss_func.forward(y_hat, y_var)\n",
        "        loss.backward()\n",
        "        optimizer.step()\n",
        "\n",
        "    if i % 100 == 0:\n",
        "        print(\"Epoch: {0}, Loss: {1}, \".format(i, loss.data.numpy()))"
      ],
      "execution_count": 240,
      "outputs": [
        {
          "output_type": "stream",
          "text": [
            "Epoch: 0, Loss: 1.6934599876403809, \n",
            "Epoch: 100, Loss: 1.7251968383789062, \n",
            "Epoch: 200, Loss: 1.6501214504241943, \n",
            "Epoch: 300, Loss: 1.3727335929870605, \n",
            "Epoch: 400, Loss: 2.445502758026123, \n",
            "Epoch: 500, Loss: 2.3719632625579834, \n",
            "Epoch: 600, Loss: 1.4396624565124512, \n",
            "Epoch: 700, Loss: 1.5267726182937622, \n",
            "Epoch: 800, Loss: 2.473177909851074, \n",
            "Epoch: 900, Loss: 2.640355110168457, \n",
            "Epoch: 1000, Loss: 1.648474931716919, \n",
            "Epoch: 1100, Loss: 1.3753571510314941, \n",
            "Epoch: 1200, Loss: 1.6460766792297363, \n",
            "Epoch: 1300, Loss: 1.5183072090148926, \n",
            "Epoch: 1400, Loss: 1.6482651233673096, \n",
            "Epoch: 1500, Loss: 1.4909462928771973, \n",
            "Epoch: 1600, Loss: 1.519770860671997, \n",
            "Epoch: 1700, Loss: 1.524449110031128, \n",
            "Epoch: 1800, Loss: 1.6514031887054443, \n",
            "Epoch: 1900, Loss: 1.5192564725875854, \n",
            "Epoch: 2000, Loss: 1.6715011596679688, \n"
          ],
          "name": "stdout"
        }
      ]
    }
  ]
}