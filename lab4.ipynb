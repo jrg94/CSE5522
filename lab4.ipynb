{
  "nbformat": 4,
  "nbformat_minor": 0,
  "metadata": {
    "colab": {
      "name": "lab4.ipynb",
      "provenance": [],
      "collapsed_sections": [],
      "include_colab_link": true
    },
    "kernelspec": {
      "name": "python3",
      "display_name": "Python 3"
    }
  },
  "cells": [
    {
      "cell_type": "markdown",
      "metadata": {
        "id": "view-in-github",
        "colab_type": "text"
      },
      "source": [
        "<a href=\"https://colab.research.google.com/github/jrg94/CSE5522/blob/lab4/lab4.ipynb\" target=\"_parent\"><img src=\"https://colab.research.google.com/assets/colab-badge.svg\" alt=\"Open In Colab\"/></a>"
      ]
    },
    {
      "cell_type": "markdown",
      "metadata": {
        "id": "5uQ78FQhx29R",
        "colab_type": "text"
      },
      "source": [
        "# Perceptron Learning\n",
        "\n",
        "**Overview**\n",
        "\n",
        "The perceptron learning rule is a simple method for training a linear classifier.\n",
        "\n",
        "The basic idea is: when you classify something incorrectly, move the linear classifier a bit in a way that updates the boundary line.  This is related to the gradient descent algorithm used for linear regression.\n",
        "\n",
        "In the first part of the exercise, you will learn the \"and\" function to show the basic operation of the PLR, and in the second you'll try to classify some vowels.\n",
        "\n",
        "There is an optional part to play around with PyTorch, a toolkit that can be used to quickly learn neural networks.  I'll provide a quick walkthrough for learning the XOR problem (based on some code from U. Washington); see if you can adapt this to the vowel classification problem.\n",
        "\n",
        "Note: you may want to change your runtime type to GPU/TPU to speed up computation if you go to PyTorch.\n",
        "\n"
      ]
    },
    {
      "cell_type": "markdown",
      "metadata": {
        "id": "i3ESV2lnTNfG",
        "colab_type": "text"
      },
      "source": [
        "## **Part 1**\n",
        "\n",
        "In the first part of the hands-on, you'll code the Perceptron Learning Rule (PLR) algorithm."
      ]
    },
    {
      "cell_type": "code",
      "metadata": {
        "id": "BnYO6oisBzPQ",
        "colab_type": "code",
        "outputId": "5587edfa-1949-4195-c2bc-f953cc919f07",
        "colab": {
          "base_uri": "https://localhost:8080/",
          "height": 265
        }
      },
      "source": [
        "# set up some preliminaries\n",
        "\n",
        "import numpy as np\n",
        "import matplotlib.pyplot as plt\n",
        "\n",
        "# set classification data for \"and\"\n",
        "data=np.array([[0,0],[0,1],[1,0],[1,1]])\n",
        "targets=np.array([0,0,0,1])\n",
        "bias=-1\n",
        "\n",
        "# set some initial weights : w1, w2, bias\n",
        "weights_init=np.array([-1,1,0.5])\n",
        "\n",
        "# here is a function for plotting both the dataset and the current decision\n",
        "# boundary, with errors in red\n",
        "def plotgraph(data,targets,weights):\n",
        "  classification=(np.sign(np.dot(np.hstack((data,np.ones((data.shape[0],1))*bias)),weights))+1)/2\n",
        "\n",
        "  plt.plot(data[np.logical_and(targets==1,classification==1),0],\n",
        "           data[np.logical_and(targets==1,classification==1),1],'bo')\n",
        "  plt.plot(data[np.logical_and(targets==1,classification==0),0],\n",
        "           data[np.logical_and(targets==1,classification==0),1],'ro')\n",
        "  plt.plot(data[np.logical_and(targets==0,classification==1),0],\n",
        "           data[np.logical_and(targets==0,classification==1),1],'rx')\n",
        "  plt.plot(data[np.logical_and(targets==0,classification==0),0],\n",
        "           data[np.logical_and(targets==0,classification==0),1],'bx')\n",
        "\n",
        "  # note weights are in form w_1*x + w_2*y + w_b = 0\n",
        "  # so to plot line we need y= -(w_1*x + w_b)/(w_2)\n",
        "  dmin=np.min(data[:,0])\n",
        "  dmax=np.max(data[:,0])\n",
        "  plt.plot(np.array([dmin,dmax]),\n",
        "           np.array([-(dmin*weights[0]+weights[2]*bias)/(weights[1]),\n",
        "                     -(dmax*weights[0]+weights[2]*bias)/(weights[1])]),\n",
        "           'b--'\n",
        "           )\n",
        "\n",
        "\n",
        "#Plot the current situation.  Red items are misclassified, blue\n",
        "#correctly classified. x=0, circle=1.\n",
        "plotgraph(data,targets,weights_init)\n"
      ],
      "execution_count": 524,
      "outputs": [
        {
          "output_type": "display_data",
          "data": {
            "image/png": "[encoded data removed]",
            "text/plain": [
              "<Figure size 432x288 with 1 Axes>"
            ]
          },
          "metadata": {
            "tags": []
          }
        }
      ]
    },
    {
      "cell_type": "markdown",
      "metadata": {
        "id": "hpBjACAdzlG0",
        "colab_type": "text"
      },
      "source": [
        "**1.1** This is where you will need to code the perceptron learning algorithm.\n",
        "\n",
        "You should assume that the nonlinear function is a step function that outputs 1 if the input is greater than 0, and 0 otherwise.\n",
        "\n",
        "Note that I had a sign bug in the slides.  The error should be the difference between the output and target (i.e. if output is 1 and target is 0, the error is 1).  \n",
        "\n",
        "Remember that there should be a bias.  You can choose to define the fixed bias as -1 (as traditionally done) or 1.  Note if you change the bias you may need to pay attention to the plotting function above.\n",
        "\n",
        "The function should return the updated weight vector.  "
      ]
    },
    {
      "cell_type": "code",
      "metadata": {
        "id": "UZEDDtyaAE-B",
        "colab_type": "code",
        "colab": {}
      },
      "source": [
        "def plr(weights, example, target, learningrate):\n",
        "  # compute weight update\n",
        "  # return updated weights\n",
        "  example_with_bias = np.append(example, bias)\n",
        "  # weights[0] * example[0] + weights[1] * example[1] + weights[2] * bias\n",
        "  g = np.sum(weights * example_with_bias)\n",
        "  output = 1 if g > 0 else 0\n",
        "  error = output - target\n",
        "  return weights - learningrate * error * example_with_bias"
      ],
      "execution_count": 0,
      "outputs": []
    },
    {
      "cell_type": "markdown",
      "metadata": {
        "id": "CKLlwQtH1dO9",
        "colab_type": "text"
      },
      "source": [
        "**1.2** The following function will randomize your training examples, and run the PLR for each example."
      ]
    },
    {
      "cell_type": "code",
      "metadata": {
        "id": "K9u9zBAZ1TzX",
        "colab_type": "code",
        "colab": {}
      },
      "source": [
        "def run_epoch(weights, data, targets, learningrate):\n",
        "  nexamples=data.shape[0]\n",
        "  order=np.random.permutation(nexamples)\n",
        "  for i in range(nexamples):\n",
        "    weights=plr(weights,data[order[i]],targets[order[i]],learningrate)\n",
        "  return weights"
      ],
      "execution_count": 0,
      "outputs": []
    },
    {
      "cell_type": "markdown",
      "metadata": {
        "id": "27HN_7pb2BBi",
        "colab_type": "text"
      },
      "source": [
        "**1.3** Now write a bit of code to run through epochs until convergence."
      ]
    },
    {
      "cell_type": "code",
      "metadata": {
        "id": "JTLXmyEGPJEM",
        "colab_type": "code",
        "outputId": "66d478cf-85d4-4a36-c80b-1e4969a17a4e",
        "colab": {
          "base_uri": "https://localhost:8080/",
          "height": 84
        }
      },
      "source": [
        "print(data)"
      ],
      "execution_count": 527,
      "outputs": [
        {
          "output_type": "stream",
          "text": [
            "[[0 0]\n",
            " [0 1]\n",
            " [1 0]\n",
            " [1 1]]\n"
          ],
          "name": "stdout"
        }
      ]
    },
    {
      "cell_type": "code",
      "metadata": {
        "id": "vcsiD2m0OZUM",
        "colab_type": "code",
        "colab": {}
      },
      "source": [
        "def experiment(iterations, weights, data, targets, learningrate):\n",
        "  for _ in range(iterations):\n",
        "    weights = run_epoch(weights, data, targets, learningrate)\n",
        "  return weights"
      ],
      "execution_count": 0,
      "outputs": []
    },
    {
      "cell_type": "code",
      "metadata": {
        "id": "jnkEdM3nBEWE",
        "colab_type": "code",
        "outputId": "9f295dac-9349-4790-9296-8b966fe157c4",
        "colab": {
          "base_uri": "https://localhost:8080/",
          "height": 34
        }
      },
      "source": [
        "# write code to run through convergence\n",
        "# put final weights into \"finalweights\"\n",
        "LEARNING_RATE = .0111\n",
        "ITERS = 10000\n",
        "finalweights = experiment(ITERS, weights_init, data, targets, LEARNING_RATE)\n",
        "print(finalweights)"
      ],
      "execution_count": 529,
      "outputs": [
        {
          "output_type": "stream",
          "text": [
            "[0.0212 0.7447 0.7553]\n"
          ],
          "name": "stdout"
        }
      ]
    },
    {
      "cell_type": "markdown",
      "metadata": {
        "id": "Wfya2cJn2I4u",
        "colab_type": "text"
      },
      "source": [
        "**1.4** Plot the final weights to show the boundary that you have learned."
      ]
    },
    {
      "cell_type": "code",
      "metadata": {
        "id": "8fvq7bmI2HQj",
        "colab_type": "code",
        "outputId": "bc878faa-a389-4efd-b269-d20e5c0d3191",
        "colab": {
          "base_uri": "https://localhost:8080/",
          "height": 265
        }
      },
      "source": [
        "plotgraph(data,targets,finalweights)"
      ],
      "execution_count": 530,
      "outputs": [
        {
          "output_type": "display_data",
          "data": {
            "image/png": "[encoded data removed]",
            "text/plain": [
              "<Figure size 432x288 with 1 Axes>"
            ]
          },
          "metadata": {
            "tags": []
          }
        }
      ]
    },
    {
      "cell_type": "markdown",
      "metadata": {
        "id": "mUrKN_-H2b4w",
        "colab_type": "text"
      },
      "source": [
        "**1.5** Optional extensions:\n",
        "\n",
        "**1.5.1** Rerun your code for the \"or\" function.\n",
        "\n",
        "**1.5.2** Modify your code to allow for the majority class function for three inputs (i.e. 1 if 2 or more inputs are on).\n",
        "\n",
        "**1.5.3** Investigate what happens if you run the \"xor\" function through the training.\n"
      ]
    },
    {
      "cell_type": "markdown",
      "metadata": {
        "id": "2d0V3Z7q22Rm",
        "colab_type": "text"
      },
      "source": [
        "## **Part 2: Vowel Classification**\n",
        "\n",
        "In this section, you will look at some actual (noisy) vowel formant data.  Go to the International Phonetic Alphabet (IPA) vowel chart at https://en.wikipedia.org/wiki/IPA_vowel_chart_with_audio and play the sounds.  The chart is written in IPA, but here are the two letter (ARPABET) symbols for some of the vowels of English:\n",
        "\n",
        "* iy: close front unrounded\n",
        "* ih: near-close front unrounded\n",
        "* ey: close-mid front unrounded\n",
        "* eh: open-mid front unrounded\n",
        "* ah: open back rounded\n",
        "* ao: open-mid back rounded\n",
        "* ow: close-mid back rounded\n",
        "* uw: close back rounded\n",
        "* ax: mid central unrounded\n",
        "\n",
        "I've prepared a csv datafile with the following features:\n",
        "\n",
        "* f1, f2: formants\n",
        "* h1: close\n",
        "* h2: near-close or higher\n",
        "* h3: close-mid or higher\n",
        "* h4: mid or higher\n",
        "* h5: open-mid or higher\n",
        "* b1: back\n",
        "* b2: central or back\n",
        "* r: rounded\n",
        "\n",
        "First, let's read in the data.\n",
        "\n"
      ]
    },
    {
      "cell_type": "code",
      "metadata": {
        "id": "9YZyTz4sBrx6",
        "colab_type": "code",
        "outputId": "26d67d1f-90e5-4c75-f39c-ea3872de9721",
        "colab": {
          "base_uri": "https://localhost:8080/",
          "height": 378
        }
      },
      "source": [
        "# first, read in the data and build a scatterplot showing the vowel formants\n",
        "import pandas as pd\n",
        "url='https://raw.githubusercontent.com/efosler/cse5522data/master/vowelfmts.csv'\n",
        "df=pd.read_csv(url)\n",
        "\n",
        "# This function will plot the vowels as a scatterplot with different colors\n",
        "# using the traditional F2 vs F1 inverted plot.  This puts high (close) vowels\n",
        "# at the top of the plot and low vowels (open) at the bottom.  Front vowels\n",
        "# are to the left; back vowels to the right.  Optionally can plot a boundary.\n",
        "\n",
        "def plotvowels(df,weights=None):\n",
        "  # this next bit converts the label into a colormap value between 0 and 1\n",
        "  vowels=df['vowel'].unique()\n",
        "  vmap={}\n",
        "  for i in range(vowels.shape[0]):\n",
        "    vmap[vowels[i]]=float(i)/float(vowels.shape[0]-1)\n",
        "  df['color']=df['vowel'].map(vmap)\n",
        "  # plot the scatterplot\n",
        "  plt.figure(num=1,figsize=(6,6))\n",
        "  plt.scatter(df['f2'],df['f1'],s=1,c=df['color'],cmap='gist_rainbow')\n",
        "  plt.gca().set_ylim([100,1000])\n",
        "  plt.gca().set_xlim([750,2500])\n",
        "  plt.gca().invert_xaxis()\n",
        "  plt.gca().invert_yaxis()\n",
        "  if weights is not None:\n",
        "    dmin=df['f2'].min()\n",
        "    dmax=df['f2'].max()\n",
        "    plt.plot(np.array([dmin,dmax]),\n",
        "             np.array([-(dmin*weights[0]+weights[2])/(weights[1]),\n",
        "                       -(dmax*weights[0]+weights[2])/(weights[1])]),\n",
        "             'b--'\n",
        "             )\n",
        "\n",
        "# Plot the vowel data.  Compare against the IPA chart online.      \n",
        "plotvowels(df)"
      ],
      "execution_count": 531,
      "outputs": [
        {
          "output_type": "display_data",
          "data": {
            "image/png": "[encoded data removed]",
            "text/plain": [
              "<Figure size 432x432 with 1 Axes>"
            ]
          },
          "metadata": {
            "tags": []
          }
        }
      ]
    },
    {
      "cell_type": "markdown",
      "metadata": {
        "id": "OKy9yHIA4fgW",
        "colab_type": "text"
      },
      "source": [
        "You will notice that the vowel classes aren't linearly separable.  The idea will be to try to separate the different kinds of vowels (back/front/close/open) with different separators.\n",
        "\n",
        "**2.2** A bit of code to create training/test sets."
      ]
    },
    {
      "cell_type": "code",
      "metadata": {
        "id": "z55b8iWFBIFC",
        "colab_type": "code",
        "colab": {}
      },
      "source": [
        "from sklearn.model_selection import train_test_split\n",
        "train_data, test_data, train_targets, test_targets = train_test_split(df[['f1','f2']],df[['close','near-close+','close-mid+','mid+','open-mid+','back','central-or-back','rounded','vowel']])"
      ],
      "execution_count": 0,
      "outputs": []
    },
    {
      "cell_type": "markdown",
      "metadata": {
        "id": "SLtkJHnL4rb9",
        "colab_type": "text"
      },
      "source": [
        "**2.3** At this point, the project becomes a bit open-ended and exploratory.  What you should do is normalize F1 and F2 (perhaps it would be best to do that before the data splits, but that is your choice).  The main reason is that the bias term needs to be pretty high.\n",
        "\n",
        "Try to predict one of the targets (e.g. train_targets['central-or-back']) from the f2/f1 data.  If you can get reasonable classifiers for the 8 vowel features (h1-h5,b1,b2,r) then see if you can predict the vowel category based on the output of the classifiers.  \n",
        "\n",
        "WARNING: since your classes will not be linearly separable, you will need to NOT run to convergence (as they won't converge).  See if you can figure out a reasonable place to stop training.\n",
        "\n",
        "If you get stuck on this point, and want to try something different, move on to Part 3."
      ]
    },
    {
      "cell_type": "code",
      "metadata": {
        "id": "o_dO_JvEDi9F",
        "colab_type": "code",
        "outputId": "e0d55f64-1251-474f-d65d-ba0333d2a13e",
        "colab": {
          "base_uri": "https://localhost:8080/",
          "height": 252
        }
      },
      "source": [
        "# normalize training data (borrowed from https://stackoverflow.com/questions/26414913/normalize-columns-of-pandas-data-frame)\n",
        "from sklearn import preprocessing\n",
        "x = train_data.values \n",
        "min_max_scaler = preprocessing.MinMaxScaler()\n",
        "x_scaled = min_max_scaler.fit_transform(x)\n",
        "train_data = pd.DataFrame(x_scaled)\n",
        "print(train_data)"
      ],
      "execution_count": 533,
      "outputs": [
        {
          "output_type": "stream",
          "text": [
            "             0         1\n",
            "0     0.225211  0.747851\n",
            "1     0.148429  0.800838\n",
            "2     0.312225  0.332858\n",
            "3     0.194189  0.731647\n",
            "4     0.274631  0.232307\n",
            "...        ...       ...\n",
            "2422  0.159025  0.683687\n",
            "2423  0.384561  0.365520\n",
            "2424  0.294408  0.190656\n",
            "2425  0.253253  0.235486\n",
            "2426  0.338552  0.556131\n",
            "\n",
            "[2427 rows x 2 columns]\n"
          ],
          "name": "stdout"
        }
      ]
    },
    {
      "cell_type": "code",
      "metadata": {
        "id": "SfZO4CdrQeP0",
        "colab_type": "code",
        "outputId": "c4dc7cc5-0e90-4399-ca0b-9274f9d8e0f3",
        "colab": {
          "base_uri": "https://localhost:8080/",
          "height": 67
        }
      },
      "source": [
        "print(train_targets.columns)"
      ],
      "execution_count": 534,
      "outputs": [
        {
          "output_type": "stream",
          "text": [
            "Index(['close', 'near-close+', 'close-mid+', 'mid+', 'open-mid+', 'back',\n",
            "       'central-or-back', 'rounded', 'vowel'],\n",
            "      dtype='object')\n"
          ],
          "name": "stdout"
        }
      ]
    },
    {
      "cell_type": "code",
      "metadata": {
        "id": "xtevCTxiNmXs",
        "colab_type": "code",
        "outputId": "fa59b4b9-07ff-4ce0-ff70-301f8888649c",
        "colab": {
          "base_uri": "https://localhost:8080/",
          "height": 151
        }
      },
      "source": [
        "# predict one of the attributes from training data\n",
        "ITER = 100\n",
        "close_weights = experiment(ITER, weights_init, train_data.values, train_targets[\"close\"].values, LEARNING_RATE)\n",
        "near_close_weights = experiment(ITER, weights_init, train_data.values, train_targets[\"near-close+\"].values, LEARNING_RATE)\n",
        "close_mid_weights = experiment(ITER, weights_init, train_data.values, train_targets[\"close-mid+\"].values, LEARNING_RATE)\n",
        "mid_weights = experiment(ITER, weights_init, train_data.values, train_targets[\"mid+\"].values, LEARNING_RATE)\n",
        "open_mid_weights = experiment(ITER, weights_init, train_data.values, train_targets[\"open-mid+\"].values, LEARNING_RATE)\n",
        "back_weights = experiment(ITER, weights_init, train_data.values, train_targets[\"back\"].values, LEARNING_RATE)\n",
        "central_or_back_weights = experiment(ITER, weights_init, train_data.values, train_targets[\"central-or-back\"].values, LEARNING_RATE)\n",
        "rounded_weights = experiment(ITER, weights_init, train_data.values, train_targets[\"rounded\"].values, LEARNING_RATE)\n",
        "\n",
        "display(\n",
        "    close_weights,\n",
        "    near_close_weights,\n",
        "    close_mid_weights,\n",
        "    mid_weights,\n",
        "    open_mid_weights,\n",
        "    back_weights,\n",
        "    central_or_back_weights,\n",
        "    rounded_weights\n",
        ")"
      ],
      "execution_count": 535,
      "outputs": [
        {
          "output_type": "display_data",
          "data": {
            "text/plain": [
              "array([-0.05647002,  0.00477776,  0.0005    ])"
            ]
          },
          "metadata": {
            "tags": []
          }
        },
        {
          "output_type": "display_data",
          "data": {
            "text/plain": [
              "array([-0.05641488,  0.02757013,  0.0005    ])"
            ]
          },
          "metadata": {
            "tags": []
          }
        },
        {
          "output_type": "display_data",
          "data": {
            "text/plain": [
              "array([-0.03363274,  0.00991045, -0.0106    ])"
            ]
          },
          "metadata": {
            "tags": []
          }
        },
        {
          "output_type": "display_data",
          "data": {
            "text/plain": [
              "array([-0.02814124,  0.01484754, -0.0106    ])"
            ]
          },
          "metadata": {
            "tags": []
          }
        },
        {
          "output_type": "display_data",
          "data": {
            "text/plain": [
              "array([-0.02421403, -0.00016553, -0.0106    ])"
            ]
          },
          "metadata": {
            "tags": []
          }
        },
        {
          "output_type": "display_data",
          "data": {
            "text/plain": [
              "array([-0.00549411, -0.06258195, -0.0328    ])"
            ]
          },
          "metadata": {
            "tags": []
          }
        },
        {
          "output_type": "display_data",
          "data": {
            "text/plain": [
              "array([-0.00961085, -0.0542409 , -0.0439    ])"
            ]
          },
          "metadata": {
            "tags": []
          }
        },
        {
          "output_type": "display_data",
          "data": {
            "text/plain": [
              "array([-0.00964819, -0.05077127, -0.0328    ])"
            ]
          },
          "metadata": {
            "tags": []
          }
        }
      ]
    },
    {
      "cell_type": "code",
      "metadata": {
        "id": "pT7z66xNSxeD",
        "colab_type": "code",
        "outputId": "8d87475f-30f2-4f13-e811-7892ffea3b6f",
        "colab": {
          "base_uri": "https://localhost:8080/",
          "height": 378
        }
      },
      "source": [
        "plotvowels(df, close_weights)"
      ],
      "execution_count": 536,
      "outputs": [
        {
          "output_type": "display_data",
          "data": {
            "image/png": "[encoded data removed]",
            "text/plain": [
              "<Figure size 432x432 with 1 Axes>"
            ]
          },
          "metadata": {
            "tags": []
          }
        }
      ]
    },
    {
      "cell_type": "code",
      "metadata": {
        "id": "FanO1XglRq8s",
        "colab_type": "code",
        "colab": {}
      },
      "source": [
        "# if you get this far, take the classifiers and try to predict vowel class (\"and\" function)!"
      ],
      "execution_count": 0,
      "outputs": []
    },
    {
      "cell_type": "markdown",
      "metadata": {
        "id": "5ropho7s6URu",
        "colab_type": "text"
      },
      "source": [
        "## **Part 3: PyTorch Neural Networks**\n",
        "\n",
        "This is a quick runthrough of PyTorch, and how to build a neural network.  The code below is a modified version of https://courses.cs.washington.edu/courses/cse446/18wi/sections/section8/XOR-Pytorch.html with some additional annotations to help you along.\n",
        "\n",
        "This part is mostly read-and-run, but at the end you can test your understanding by modifying the code.\n",
        "\n",
        "**3.1** First some library preliminaries."
      ]
    },
    {
      "cell_type": "code",
      "metadata": {
        "id": "GyIQ-0oOiU7F",
        "colab_type": "code",
        "outputId": "2c24b98b-0bae-4a77-d472-6bf576a1aef0",
        "colab": {
          "base_uri": "https://localhost:8080/",
          "height": 34
        }
      },
      "source": [
        "import torch\n",
        "from torch.autograd import Variable\n",
        "import torch.nn as nn\n",
        "import torch.nn.functional as F\n",
        "import torch.optim as optim\n",
        "import numpy as np\n",
        "import matplotlib.pyplot as plt\n",
        "%matplotlib inline\n",
        "torch.manual_seed(2)"
      ],
      "execution_count": 538,
      "outputs": [
        {
          "output_type": "execute_result",
          "data": {
            "text/plain": [
              "<torch._C.Generator at 0x7f7565b726f0>"
            ]
          },
          "metadata": {
            "tags": []
          },
          "execution_count": 538
        }
      ]
    },
    {
      "cell_type": "markdown",
      "metadata": {
        "id": "Zo7_euBB64as",
        "colab_type": "text"
      },
      "source": [
        "**3.2** Now set up the data into *tensors* (i.e. multidimensional arrays).  X is the data array, Y is the target."
      ]
    },
    {
      "cell_type": "code",
      "metadata": {
        "id": "OOrD5aDP62CX",
        "colab_type": "code",
        "colab": {}
      },
      "source": [
        "X = torch.Tensor([[0,0],[0,1], [1,0], [1,1]])\n",
        "Y = torch.Tensor([0,1,1,0]).view(-1,1)"
      ],
      "execution_count": 0,
      "outputs": []
    },
    {
      "cell_type": "markdown",
      "metadata": {
        "id": "MpflPWlf7Nsj",
        "colab_type": "text"
      },
      "source": [
        "**3.3** Let's define a multi-layer perceptron with 2 layers.  Each layer will create a linear combination of the inputs, and feed to a sigmoid output.\n",
        "\n",
        "Note that the initializer (with the calls to nn.Linear) will create a set of parameters that are associated with the model."
      ]
    },
    {
      "cell_type": "code",
      "metadata": {
        "id": "fn7n4-VH7OQL",
        "colab_type": "code",
        "colab": {}
      },
      "source": [
        "class MLP2(nn.Module):\n",
        "    def __init__(self, input_dim = 2, hid_dim=2, output_dim=1):\n",
        "        # initialze the superclass\n",
        "        super(MLP2, self).__init__()\n",
        "        # this will create a linear layer with input_dim x hid_dim parameters\n",
        "        # in addition to a bias unit with hid_dim parameters\n",
        "        self.lin1 = nn.Linear(input_dim, hid_dim)\n",
        "        # same thing here except hid_dim x output_dim\n",
        "        self.lin2 = nn.Linear(hid_dim, output_dim)\n",
        "    \n",
        "    # this is where the meat of the action is\n",
        "    def forward(self, x):\n",
        "        x = self.lin1(x)  # linear combination of inputs\n",
        "        x = torch.sigmoid(x) # then through sigmoid - output of first layer\n",
        "        x = self.lin2(x) # linear combination of hidden units\n",
        "        x = torch.sigmoid(x) # then through sigmoid - net output\n",
        "        return x"
      ],
      "execution_count": 0,
      "outputs": []
    },
    {
      "cell_type": "markdown",
      "metadata": {
        "id": "Usrqoiw48CcX",
        "colab_type": "text"
      },
      "source": [
        "**3.4** We also define a function to initialize weights of our model."
      ]
    },
    {
      "cell_type": "code",
      "metadata": {
        "id": "bJP5EfDS7-Hw",
        "colab_type": "code",
        "colab": {}
      },
      "source": [
        "def weights_init(model):\n",
        "    for m in model.modules():\n",
        "        if isinstance(m, nn.Linear):\n",
        "            # initialize the weight tensor, here we use a normal distribution\n",
        "            m.weight.data.normal_(0, 1)"
      ],
      "execution_count": 0,
      "outputs": []
    },
    {
      "cell_type": "markdown",
      "metadata": {
        "id": "IhhgEm298OSk",
        "colab_type": "text"
      },
      "source": [
        "**3.5** Now create a model and initialize it.  Also define a loss function and the optimizer."
      ]
    },
    {
      "cell_type": "code",
      "metadata": {
        "id": "QD8pE8kb8MuO",
        "colab_type": "code",
        "colab": {}
      },
      "source": [
        "model1 = MLP2()\n",
        "weights_init(model1)\n",
        "loss_func = nn.MSELoss()\n",
        "optimizer = optim.SGD(model1.parameters(), lr=0.02, momentum=0.9)"
      ],
      "execution_count": 0,
      "outputs": []
    },
    {
      "cell_type": "markdown",
      "metadata": {
        "id": "GPT4oaWy9LD-",
        "colab_type": "text"
      },
      "source": [
        "**3.6** Now we run the training."
      ]
    },
    {
      "cell_type": "code",
      "metadata": {
        "id": "jj3tKoee8nMH",
        "colab_type": "code",
        "outputId": "e19d89c6-5e26-46e4-eb8a-fac9b6a84c97",
        "colab": {
          "base_uri": "https://localhost:8080/",
          "height": 202
        }
      },
      "source": [
        "epochs = 5001\n",
        "steps = X.size(0)\n",
        "for i in range(epochs):\n",
        "    for j in range(steps):\n",
        "        data_point = np.random.randint(X.size(0))\n",
        "        x_var = Variable(X[data_point], requires_grad=False)\n",
        "        y_var = Variable(Y[data_point], requires_grad=False)\n",
        "        \n",
        "        optimizer.zero_grad()\n",
        "        y_hat = model1(x_var)\n",
        "        loss = loss_func.forward(y_hat, y_var)\n",
        "        loss.backward()\n",
        "        optimizer.step()\n",
        "\n",
        "    if i % 500 == 0:\n",
        "        print(\"Epoch: {0}, Loss: {1}, \".format(i, loss.data.numpy()))"
      ],
      "execution_count": 543,
      "outputs": [
        {
          "output_type": "stream",
          "text": [
            "Epoch: 0, Loss: 0.546196699142456, \n",
            "Epoch: 500, Loss: 0.28376320004463196, \n",
            "Epoch: 1000, Loss: 0.013824088498950005, \n",
            "Epoch: 1500, Loss: 0.18451432883739471, \n",
            "Epoch: 2000, Loss: 0.003591624554246664, \n",
            "Epoch: 2500, Loss: 0.30507779121398926, \n",
            "Epoch: 3000, Loss: 0.22130440175533295, \n",
            "Epoch: 3500, Loss: 0.0009261174127459526, \n",
            "Epoch: 4000, Loss: 0.0015603675274178386, \n",
            "Epoch: 4500, Loss: 0.2250307947397232, \n",
            "Epoch: 5000, Loss: 0.19259676337242126, \n"
          ],
          "name": "stdout"
        }
      ]
    },
    {
      "cell_type": "markdown",
      "metadata": {
        "id": "sqFt7zng-cIO",
        "colab_type": "text"
      },
      "source": [
        "**3.7** This is a neat little bit of code that will print out the first layer's decision boundaries."
      ]
    },
    {
      "cell_type": "code",
      "metadata": {
        "id": "DX6bK_Z--TV9",
        "colab_type": "code",
        "outputId": "3c287a68-796f-4c99-94b5-fddb76345457",
        "colab": {
          "base_uri": "https://localhost:8080/",
          "height": 265
        }
      },
      "source": [
        "model_params = list(model1.parameters())\n",
        "model_weights = model_params[0].data.numpy()\n",
        "model_bias = model_params[1].data.numpy()\n",
        "\n",
        "plt.scatter(X.numpy()[[0,-1], 0], X.numpy()[[0, -1], 1], s=50)\n",
        "plt.scatter(X.numpy()[[1,2], 0], X.numpy()[[1, 2], 1], c='red', s=50)\n",
        "\n",
        "x_1 = np.arange(-0.1, 1.1, 0.1)\n",
        "y_1 = ((x_1 * model_weights[0,0]) + model_bias[0]) / (-model_weights[0,1])\n",
        "plt.plot(x_1, y_1)\n",
        "\n",
        "x_2 = np.arange(-0.1, 1.1, 0.1)\n",
        "y_2 = ((x_2 * model_weights[1,0]) + model_bias[1]) / (-model_weights[1,1])\n",
        "plt.plot(x_2, y_2)\n",
        "plt.legend([\"neuron_1\", \"neuron_2\"], loc=8)\n",
        "plt.show()"
      ],
      "execution_count": 544,
      "outputs": [
        {
          "output_type": "display_data",
          "data": {
            "image/png": "[encoded data removed]",
            "text/plain": [
              "<Figure size 432x288 with 1 Axes>"
            ]
          },
          "metadata": {
            "tags": []
          }
        }
      ]
    },
    {
      "cell_type": "markdown",
      "metadata": {
        "id": "8WHZknJg-09E",
        "colab_type": "text"
      },
      "source": [
        "**3.8** Now take a look at the parameters that were learned.  Can you trace how the xor decision works for each of the datapoints?  \n",
        "\n",
        "The first tensor is the input-hidden weights, second is the bias-hidden weights, third is hidden-output, and last is bias-output."
      ]
    },
    {
      "cell_type": "code",
      "metadata": {
        "id": "MtJ_Y3kw-wzE",
        "colab_type": "code",
        "outputId": "a813e95e-fc81-4c34-9093-c78c03f4d217",
        "colab": {
          "base_uri": "https://localhost:8080/",
          "height": 118
        }
      },
      "source": [
        "model_params"
      ],
      "execution_count": 545,
      "outputs": [
        {
          "output_type": "execute_result",
          "data": {
            "text/plain": [
              "[Parameter containing:\n",
              " tensor([[-4.1356, -7.6377],\n",
              "         [-3.8804,  7.9293]], requires_grad=True), Parameter containing:\n",
              " tensor([0.7887, 2.5462], requires_grad=True), Parameter containing:\n",
              " tensor([[-5.7379, -4.6766]], requires_grad=True), Parameter containing:\n",
              " tensor([4.4224], requires_grad=True)]"
            ]
          },
          "metadata": {
            "tags": []
          },
          "execution_count": 545
        }
      ]
    },
    {
      "cell_type": "markdown",
      "metadata": {
        "id": "o0ZO61uX_XRa",
        "colab_type": "text"
      },
      "source": [
        "**3.9** Can you modify the above code to add a third layer?  What happens if you replace the sigmoid in the middle layer(s) with tanh?"
      ]
    },
    {
      "cell_type": "markdown",
      "metadata": {
        "id": "KTlDScM7csqW",
        "colab_type": "text"
      },
      "source": [
        "To do this, I modified the constructor to include another linear layer. "
      ]
    },
    {
      "cell_type": "code",
      "metadata": {
        "colab_type": "code",
        "id": "aLZmWNqpcaK9",
        "colab": {}
      },
      "source": [
        "class MLP3(nn.Module):\n",
        "    def __init__(self, input_dim = 2, hid_dim=2, output_dim=1):\n",
        "        # initialze the superclass\n",
        "        super(MLP3, self).__init__()\n",
        "        # this will create a linear layer with input_dim x hid_dim parameters\n",
        "        # in addition to a bias unit with hid_dim parameters\n",
        "        self.lin1 = nn.Linear(input_dim, hid_dim)\n",
        "        # a hidden layer between input layer and output layer\n",
        "        self.lin_hid = nn.Linear(hid_dim, hid_dim)\n",
        "        # same thing here except hid_dim x output_dim\n",
        "        self.lin2 = nn.Linear(hid_dim, output_dim)\n",
        "    \n",
        "    # this is where the meat of the action is\n",
        "    def forward(self, x):\n",
        "        x = self.lin1(x)  # linear combination of inputs\n",
        "        x = torch.sigmoid(x) # then through sigmoid - output of first layer\n",
        "        x = self.lin_hid(x)\n",
        "        x = torch.sigmoid(x)\n",
        "        x = self.lin2(x) # linear combination of hidden units\n",
        "        x = torch.sigmoid(x) # then through sigmoid - net output\n",
        "        return x"
      ],
      "execution_count": 0,
      "outputs": []
    },
    {
      "cell_type": "code",
      "metadata": {
        "id": "Ef4cigg8fZu-",
        "colab_type": "code",
        "colab": {}
      },
      "source": [
        "model2 = MLP3()\n",
        "weights_init(model2)\n",
        "loss_func = nn.MSELoss()\n",
        "optimizer = optim.SGD(model2.parameters(), lr=0.02, momentum=0.9)"
      ],
      "execution_count": 0,
      "outputs": []
    },
    {
      "cell_type": "code",
      "metadata": {
        "id": "qm9ULLwmfdMM",
        "colab_type": "code",
        "outputId": "ffa546f5-df02-495e-8913-2798777b6f91",
        "colab": {
          "base_uri": "https://localhost:8080/",
          "height": 202
        }
      },
      "source": [
        "epochs = 5001\n",
        "steps = X.size(0)\n",
        "for i in range(epochs):\n",
        "    for j in range(steps):\n",
        "        data_point = np.random.randint(X.size(0))\n",
        "        x_var = Variable(X[data_point], requires_grad=False)\n",
        "        y_var = Variable(Y[data_point], requires_grad=False)\n",
        "        \n",
        "        optimizer.zero_grad()\n",
        "        y_hat = model2(x_var)\n",
        "        loss = loss_func.forward(y_hat, y_var)\n",
        "        loss.backward()\n",
        "        optimizer.step()\n",
        "\n",
        "    if i % 500 == 0:\n",
        "        print(\"Epoch: {0}, Loss: {1}, \".format(i, loss.data.numpy()))"
      ],
      "execution_count": 548,
      "outputs": [
        {
          "output_type": "stream",
          "text": [
            "Epoch: 0, Loss: 0.35206159949302673, \n",
            "Epoch: 500, Loss: 0.18619056046009064, \n",
            "Epoch: 1000, Loss: 0.18661904335021973, \n",
            "Epoch: 1500, Loss: 0.2543376088142395, \n",
            "Epoch: 2000, Loss: 0.32545801997184753, \n",
            "Epoch: 2500, Loss: 0.044899385422468185, \n",
            "Epoch: 3000, Loss: 0.0037707574665546417, \n",
            "Epoch: 3500, Loss: 0.002102543832734227, \n",
            "Epoch: 4000, Loss: 0.0009307260625064373, \n",
            "Epoch: 4500, Loss: 0.0009499363950453699, \n",
            "Epoch: 5000, Loss: 0.0007285471656359732, \n"
          ],
          "name": "stdout"
        }
      ]
    },
    {
      "cell_type": "code",
      "metadata": {
        "id": "LUcrOFqxfkgU",
        "colab_type": "code",
        "outputId": "33c243b6-9e57-452b-e088-88f861f40405",
        "colab": {
          "base_uri": "https://localhost:8080/",
          "height": 265
        }
      },
      "source": [
        "model_params = list(model2.parameters())\n",
        "model_weights = model_params[0].data.numpy()\n",
        "model_bias = model_params[1].data.numpy()\n",
        "\n",
        "plt.scatter(X.numpy()[[0,-1], 0], X.numpy()[[0, -1], 1], s=50)\n",
        "plt.scatter(X.numpy()[[1,2], 0], X.numpy()[[1, 2], 1], c='red', s=50)\n",
        "\n",
        "x_1 = np.arange(-0.1, 1.1, 0.1)\n",
        "y_1 = ((x_1 * model_weights[0,0]) + model_bias[0]) / (-model_weights[0,1])\n",
        "plt.plot(x_1, y_1)\n",
        "\n",
        "x_2 = np.arange(-0.1, 1.1, 0.1)\n",
        "y_2 = ((x_2 * model_weights[1,0]) + model_bias[1]) / (-model_weights[1,1])\n",
        "plt.plot(x_2, y_2)\n",
        "plt.legend([\"neuron_1\", \"neuron_2\"], loc=8)\n",
        "plt.show()"
      ],
      "execution_count": 549,
      "outputs": [
        {
          "output_type": "display_data",
          "data": {
            "image/png": "[encoded data removed]",
            "text/plain": [
              "<Figure size 432x288 with 1 Axes>"
            ]
          },
          "metadata": {
            "tags": []
          }
        }
      ]
    },
    {
      "cell_type": "markdown",
      "metadata": {
        "id": "Fm6nZTSdf4at",
        "colab_type": "text"
      },
      "source": [
        "I have executed these models a few times, and I continue to get different results. However, in general, the second model (model2) draws better decision boundaries (although it doesn't always converge on the proper boundaries): each line separates a different point of the same color in parallel. Meanwhile, the first model (model1) gets confused around the decision boundaries. For example, one line separates off a blue point while the other line separates off an orange point—both lines cross in the middle.\n",
        "\n",
        "If I increase the epochs, I don't really see a difference. The first model (model1) still fails to get the right decision boundaries. That said, the second model (model2) does almost certainly converge with more epochs. \n",
        "\n",
        "At any rate, the following model introduces tanh into the new middle layer:"
      ]
    },
    {
      "cell_type": "code",
      "metadata": {
        "id": "i5w_OjG0l2Ck",
        "colab_type": "code",
        "colab": {}
      },
      "source": [
        "class MLP4(nn.Module):\n",
        "    def __init__(self, input_dim = 2, hid_dim=2, output_dim=1):\n",
        "        # initialze the superclass\n",
        "        super(MLP4, self).__init__()\n",
        "        # this will create a linear layer with input_dim x hid_dim parameters\n",
        "        # in addition to a bias unit with hid_dim parameters\n",
        "        self.lin1 = nn.Linear(input_dim, hid_dim)\n",
        "        # a hidden layer between input layer and output layer\n",
        "        self.lin_hid = nn.Linear(hid_dim, hid_dim)\n",
        "        # same thing here except hid_dim x output_dim\n",
        "        self.lin2 = nn.Linear(hid_dim, output_dim)\n",
        "    \n",
        "    # this is where the meat of the action is\n",
        "    def forward(self, x):\n",
        "        x = self.lin1(x)  # linear combination of inputs\n",
        "        x = torch.sigmoid(x) # then through sigmoid - output of first layer\n",
        "        x = self.lin_hid(x)\n",
        "        x = torch.tanh(x)\n",
        "        x = self.lin2(x) # linear combination of hidden units\n",
        "        x = torch.sigmoid(x) # then through sigmoid - net output\n",
        "        return x"
      ],
      "execution_count": 0,
      "outputs": []
    },
    {
      "cell_type": "code",
      "metadata": {
        "id": "GxKFUNncl93y",
        "colab_type": "code",
        "colab": {}
      },
      "source": [
        "model3 = MLP4()\n",
        "weights_init(model3)\n",
        "loss_func = nn.MSELoss()\n",
        "optimizer = optim.SGD(model3.parameters(), lr=0.02, momentum=0.9)"
      ],
      "execution_count": 0,
      "outputs": []
    },
    {
      "cell_type": "code",
      "metadata": {
        "id": "sWmo3ihgmCUS",
        "colab_type": "code",
        "outputId": "2ed08c4d-4179-44c2-a44c-fe0ec6134710",
        "colab": {
          "base_uri": "https://localhost:8080/",
          "height": 202
        }
      },
      "source": [
        "epochs = 5001\n",
        "steps = X.size(0)\n",
        "for i in range(epochs):\n",
        "    for j in range(steps):\n",
        "        data_point = np.random.randint(X.size(0))\n",
        "        x_var = Variable(X[data_point], requires_grad=False)\n",
        "        y_var = Variable(Y[data_point], requires_grad=False)\n",
        "        \n",
        "        optimizer.zero_grad()\n",
        "        y_hat = model3(x_var)\n",
        "        loss = loss_func.forward(y_hat, y_var)\n",
        "        loss.backward()\n",
        "        optimizer.step()\n",
        "\n",
        "    if i % 500 == 0:\n",
        "        print(\"Epoch: {0}, Loss: {1}, \".format(i, loss.data.numpy()))"
      ],
      "execution_count": 552,
      "outputs": [
        {
          "output_type": "stream",
          "text": [
            "Epoch: 0, Loss: 0.24193350970745087, \n",
            "Epoch: 500, Loss: 0.36526626348495483, \n",
            "Epoch: 1000, Loss: 0.00633761752396822, \n",
            "Epoch: 1500, Loss: 0.007188642863184214, \n",
            "Epoch: 2000, Loss: 0.002022228669375181, \n",
            "Epoch: 2500, Loss: 0.00030018037068657577, \n",
            "Epoch: 3000, Loss: 0.00032175323576666415, \n",
            "Epoch: 3500, Loss: 0.00044414607691578567, \n",
            "Epoch: 4000, Loss: 0.00016753435193095356, \n",
            "Epoch: 4500, Loss: 5.7184424804290757e-05, \n",
            "Epoch: 5000, Loss: 0.0002461254480294883, \n"
          ],
          "name": "stdout"
        }
      ]
    },
    {
      "cell_type": "code",
      "metadata": {
        "id": "5cI-Q6txmGNK",
        "colab_type": "code",
        "outputId": "51dcf935-25ba-426d-cbfd-ff23c579953c",
        "colab": {
          "base_uri": "https://localhost:8080/",
          "height": 265
        }
      },
      "source": [
        "model_params = list(model3.parameters())\n",
        "model_weights = model_params[0].data.numpy()\n",
        "model_bias = model_params[1].data.numpy()\n",
        "\n",
        "plt.scatter(X.numpy()[[0,-1], 0], X.numpy()[[0, -1], 1], s=50)\n",
        "plt.scatter(X.numpy()[[1,2], 0], X.numpy()[[1, 2], 1], c='red', s=50)\n",
        "\n",
        "x_1 = np.arange(-0.1, 1.1, 0.1)\n",
        "y_1 = ((x_1 * model_weights[0,0]) + model_bias[0]) / (-model_weights[0,1])\n",
        "plt.plot(x_1, y_1)\n",
        "\n",
        "x_2 = np.arange(-0.1, 1.1, 0.1)\n",
        "y_2 = ((x_2 * model_weights[1,0]) + model_bias[1]) / (-model_weights[1,1])\n",
        "plt.plot(x_2, y_2)\n",
        "plt.legend([\"neuron_1\", \"neuron_2\"], loc=8)\n",
        "plt.show()"
      ],
      "execution_count": 553,
      "outputs": [
        {
          "output_type": "display_data",
          "data": {
            "image/png": "[encoded data removed]",
            "text/plain": [
              "<Figure size 432x288 with 1 Axes>"
            ]
          },
          "metadata": {
            "tags": []
          }
        }
      ]
    },
    {
      "cell_type": "markdown",
      "metadata": {
        "id": "2zjEYlJDmw-O",
        "colab_type": "text"
      },
      "source": [
        "The only difference I can see between this new model with tanh as the activation function is that the two lines swapped places (i.e. orange is the top decision boundary while blue is the bottom decision boundary). It also seems to have converged slightly faster. "
      ]
    },
    {
      "cell_type": "markdown",
      "metadata": {
        "id": "NniWfU91_mhn",
        "colab_type": "text"
      },
      "source": [
        "## **Part 4: MLP classification of vowels**\n",
        "\n",
        "If you've gotten this far, then here is a challenge for you.  Taking the data from Part 2, can you build a MLP that can classify the vowels directly into vowel classes?\n",
        "\n",
        "You should have a hidden layer with a reasonable number of hidden units (maybe 100), and your output should be a softmax layer with 9 outputs (one for each vowel class). The target should be 1 for the correct class, and 0 otherwise. The loss function should also be changed to a Cross Entropy loss.  You may need to do a bit of googling of \"pytorch ___\" to find the different kinds of functions you need."
      ]
    },
    {
      "cell_type": "markdown",
      "metadata": {
        "id": "iE0u2lCk_mM7",
        "colab_type": "text"
      },
      "source": [
        "**4.1**: Let's setup some code for training a vowel classification model."
      ]
    },
    {
      "cell_type": "code",
      "metadata": {
        "id": "2oBeGwHQ_lNj",
        "colab_type": "code",
        "colab": {}
      },
      "source": [
        "class MLPVowel(nn.Module):\n",
        "    def __init__(self, input_dim = 2, hid_dim=100, output_dim=9):\n",
        "        super(MLPVowel, self).__init__()\n",
        "        \n",
        "        self.lin1 = nn.Linear(input_dim, hid_dim)\n",
        "        self.lin2 = nn.Linear(hid_dim, output_dim)\n",
        "    \n",
        "    # this is where the meat of the action is\n",
        "    def forward(self, x):\n",
        "        x = self.lin1(x)  # linear combination of inputs\n",
        "        x = torch.sigmoid(x) # then through sigmoid - output of first layer\n",
        "        x = self.lin2(x) # linear combination of hidden units\n",
        "        x = torch.sigmoid(x) # then through sigmoid - net output\n",
        "        return x"
      ],
      "execution_count": 0,
      "outputs": []
    },
    {
      "cell_type": "code",
      "metadata": {
        "id": "9ivlzedOWRdl",
        "colab_type": "code",
        "colab": {}
      },
      "source": [
        "def weights_init(model):\n",
        "    for m in model.modules():\n",
        "        if isinstance(m, nn.Linear):\n",
        "            # initialize the weight tensor, here we use a normal distribution\n",
        "            m.weight.data.normal_(0, 1)"
      ],
      "execution_count": 0,
      "outputs": []
    },
    {
      "cell_type": "code",
      "metadata": {
        "id": "vlO79T87ouKb",
        "colab_type": "code",
        "colab": {}
      },
      "source": [
        "def get_tensors(data, targets):\n",
        "  # Normalize test data\n",
        "  x = data.values \n",
        "  min_max_scaler = preprocessing.MinMaxScaler()\n",
        "  x_scaled = min_max_scaler.fit_transform(x)\n",
        "  normal_x = pd.DataFrame(x_scaled)\n",
        "\n",
        "  # Convert test data to categorical values\n",
        "  vowels = targets['vowel'].astype('category').cat.codes # I fear this isn't returning the same thing for both test and train data....\n",
        "\n",
        "  # Setup tensors\n",
        "  X = torch.Tensor(normal_x.values)\n",
        "  Y = torch.Tensor(vowels.values).long().view(-1, 1)\n",
        "  return X, Y"
      ],
      "execution_count": 0,
      "outputs": []
    },
    {
      "cell_type": "code",
      "metadata": {
        "id": "3ZU5Tc6mSpy8",
        "colab_type": "code",
        "colab": {}
      },
      "source": [
        "# Define data and convert it into useful tensors\n",
        "train_data, test_data, train_targets, test_targets = train_test_split(df[['f1','f2']],df[['close','near-close+','close-mid+','mid+','open-mid+','back','central-or-back','rounded','vowel']])\n",
        "train_x, train_y = get_tensors(train_data, train_targets)\n",
        "test_x, test_y = get_tensors(test_data, test_targets)"
      ],
      "execution_count": 0,
      "outputs": []
    },
    {
      "cell_type": "code",
      "metadata": {
        "id": "J4ENBBxItkdp",
        "colab_type": "code",
        "colab": {}
      },
      "source": [
        "# Initialize model\n",
        "vowel_model = MLPVowel()\n",
        "weights_init(vowel_model)\n",
        "loss_func = nn.CrossEntropyLoss()\n",
        "optimizer = optim.SGD(vowel_model.parameters(), lr=0.02, momentum=0.9)"
      ],
      "execution_count": 0,
      "outputs": []
    },
    {
      "cell_type": "code",
      "metadata": {
        "id": "jYzCsIZ2Sf_2",
        "colab_type": "code",
        "outputId": "f21d2d5e-8775-4e7c-e666-8e6c0599d46c",
        "colab": {
          "base_uri": "https://localhost:8080/",
          "height": 202
        }
      },
      "source": [
        "# Train model\n",
        "epochs = 101\n",
        "steps = train_x.size(0)\n",
        "for i in range(epochs):\n",
        "    for j in range(steps):\n",
        "        data_point = np.random.randint(X.size(0))\n",
        "        x_var = Variable(train_x[data_point], requires_grad=False)\n",
        "        y_var = Variable(train_y[data_point], requires_grad=False)\n",
        "        \n",
        "        optimizer.zero_grad()\n",
        "        y_hat = vowel_model(x_var).view(1, -1)\n",
        "        loss = loss_func.forward(y_hat, y_var)\n",
        "        loss.backward()\n",
        "        optimizer.step()\n",
        "\n",
        "    if i % 10 == 0:\n",
        "        print(\"Epoch: {0}, Loss: {1}, \".format(i, loss.data.numpy()))"
      ],
      "execution_count": 559,
      "outputs": [
        {
          "output_type": "stream",
          "text": [
            "Epoch: 0, Loss: 1.867920160293579, \n",
            "Epoch: 10, Loss: 1.6709479093551636, \n",
            "Epoch: 20, Loss: 1.523019552230835, \n",
            "Epoch: 30, Loss: 1.5222846269607544, \n",
            "Epoch: 40, Loss: 1.5210046768188477, \n",
            "Epoch: 50, Loss: 1.3725100755691528, \n",
            "Epoch: 60, Loss: 1.5210357904434204, \n",
            "Epoch: 70, Loss: 1.3722891807556152, \n",
            "Epoch: 80, Loss: 1.5209078788757324, \n",
            "Epoch: 90, Loss: 1.5209619998931885, \n",
            "Epoch: 100, Loss: 1.5208423137664795, \n"
          ],
          "name": "stdout"
        }
      ]
    },
    {
      "cell_type": "markdown",
      "metadata": {
        "id": "_FxLSGRO1L71",
        "colab_type": "text"
      },
      "source": [
        "**4.2** With the model trained, let's try testing its performance."
      ]
    },
    {
      "cell_type": "code",
      "metadata": {
        "id": "0Q_OOOzG3j5c",
        "colab_type": "code",
        "outputId": "d1c9ff7c-342b-480d-f078-a9d64ba19a56",
        "colab": {
          "base_uri": "https://localhost:8080/",
          "height": 34
        }
      },
      "source": [
        "# Test performance\n",
        "total = 0\n",
        "correct = 0\n",
        "steps = test_x.size(0)\n",
        "for i in range(steps):\n",
        "  x_var = test_x[i]\n",
        "  y_var = test_y[i]\n",
        "  y_hat = vowel_model(x_var).view(1, -1)\n",
        "  # Borrowed from docs: https://pytorch.org/tutorials/beginner/blitz/cifar10_tutorial.html\n",
        "  _, predicted = torch.max(y_hat.data, 1)\n",
        "  total += 1\n",
        "  correct += 1 if y_var == predicted else 0\n",
        "\n",
        "print(correct/total)"
      ],
      "execution_count": 560,
      "outputs": [
        {
          "output_type": "stream",
          "text": [
            "0.18888888888888888\n"
          ],
          "name": "stdout"
        }
      ]
    },
    {
      "cell_type": "markdown",
      "metadata": {
        "id": "ajBesTGNeJK5",
        "colab_type": "text"
      },
      "source": [
        "Also, let's get this performance code into a reusable function:"
      ]
    },
    {
      "cell_type": "code",
      "metadata": {
        "id": "tNemKx6GeIS9",
        "colab_type": "code",
        "colab": {}
      },
      "source": [
        "def performance(x, y, model):\n",
        "  # Run experiment\n",
        "  total = 0\n",
        "  correct = 0\n",
        "  steps = x.size(0)\n",
        "  for i in range(steps):\n",
        "    x_var = x[i]\n",
        "    y_var = y[i]\n",
        "    y_hat = model(x_var).view(1, -1)\n",
        "    # Borrowed from docs: https://pytorch.org/tutorials/beginner/blitz/cifar10_tutorial.html\n",
        "    _, predicted = torch.max(y_hat.data, 1)\n",
        "    total += 1\n",
        "    correct += 1 if y_var == predicted else 0\n",
        "  \n",
        "  print(correct/total)"
      ],
      "execution_count": 0,
      "outputs": []
    },
    {
      "cell_type": "code",
      "metadata": {
        "id": "dHbd4cyPekEk",
        "colab_type": "code",
        "colab": {
          "base_uri": "https://localhost:8080/",
          "height": 34
        },
        "outputId": "074990f3-9072-438b-ff20-e688148cb84a"
      },
      "source": [
        "performance(test_x, test_y, vowel_model)"
      ],
      "execution_count": 562,
      "outputs": [
        {
          "output_type": "stream",
          "text": [
            "0.18888888888888888\n"
          ],
          "name": "stdout"
        }
      ]
    },
    {
      "cell_type": "markdown",
      "metadata": {
        "id": "fVJlbWnvXzrG",
        "colab_type": "text"
      },
      "source": [
        "**4.3** Unfortunately, this is really slow! Let's try passing the full dataset:"
      ]
    },
    {
      "cell_type": "code",
      "metadata": {
        "id": "vK7BH7YuX7gY",
        "colab_type": "code",
        "colab": {}
      },
      "source": [
        "def training(x, y, model, loss_func, optimizer, epochs):\n",
        "  for i in range(epochs):\n",
        "    x_var = Variable(x, requires_grad=False)\n",
        "    y_var = Variable(y, requires_grad=False)\n",
        "        \n",
        "    optimizer.zero_grad()\n",
        "    y_hat = model(x_var)\n",
        "    loss = loss_func.forward(y_hat, y_var.view(-1))\n",
        "    loss.backward()\n",
        "    optimizer.step()\n",
        "\n",
        "    if i % 2000 == 0:\n",
        "      print(\"Epoch: {0}, Loss: {1}, \".format(i, loss.data.numpy()))"
      ],
      "execution_count": 0,
      "outputs": []
    },
    {
      "cell_type": "code",
      "metadata": {
        "id": "LSPMXdnvYeyB",
        "colab_type": "code",
        "colab": {
          "base_uri": "https://localhost:8080/",
          "height": 874
        },
        "outputId": "5a7881a2-510a-43d4-cf8d-2c34a09334af"
      },
      "source": [
        "vowel_model = MLPVowel()\n",
        "weights_init(vowel_model)\n",
        "loss_func = nn.CrossEntropyLoss()\n",
        "optimizer = optim.SGD(vowel_model.parameters(), lr=0.02, momentum=0.9)\n",
        "\n",
        "# played with epochs until it seemed like loss was shrinking so slowly that it wasn't worth the effort\n",
        "training(train_x, train_y, vowel_model, loss_func, optimizer, 100001) "
      ],
      "execution_count": 564,
      "outputs": [
        {
          "output_type": "stream",
          "text": [
            "Epoch: 0, Loss: 2.1528735160827637, \n",
            "Epoch: 2000, Loss: 2.029597759246826, \n",
            "Epoch: 4000, Loss: 2.0116944313049316, \n",
            "Epoch: 6000, Loss: 2.0046541690826416, \n",
            "Epoch: 8000, Loss: 2.000624179840088, \n",
            "Epoch: 10000, Loss: 1.9979292154312134, \n",
            "Epoch: 12000, Loss: 1.9959639310836792, \n",
            "Epoch: 14000, Loss: 1.9944387674331665, \n",
            "Epoch: 16000, Loss: 1.9932068586349487, \n",
            "Epoch: 18000, Loss: 1.992179036140442, \n",
            "Epoch: 20000, Loss: 1.991301417350769, \n",
            "Epoch: 22000, Loss: 1.9905303716659546, \n",
            "Epoch: 24000, Loss: 1.9898537397384644, \n",
            "Epoch: 26000, Loss: 1.9892489910125732, \n",
            "Epoch: 28000, Loss: 1.9886926412582397, \n",
            "Epoch: 30000, Loss: 1.9881905317306519, \n",
            "Epoch: 32000, Loss: 1.9877245426177979, \n",
            "Epoch: 34000, Loss: 1.9872915744781494, \n",
            "Epoch: 36000, Loss: 1.9868857860565186, \n",
            "Epoch: 38000, Loss: 1.9865036010742188, \n",
            "Epoch: 40000, Loss: 1.9861400127410889, \n",
            "Epoch: 42000, Loss: 1.9857885837554932, \n",
            "Epoch: 44000, Loss: 1.9854475259780884, \n",
            "Epoch: 46000, Loss: 1.9851222038269043, \n",
            "Epoch: 48000, Loss: 1.9848012924194336, \n",
            "Epoch: 50000, Loss: 1.9844882488250732, \n",
            "Epoch: 52000, Loss: 1.9841806888580322, \n",
            "Epoch: 54000, Loss: 1.98387610912323, \n",
            "Epoch: 56000, Loss: 1.9835752248764038, \n",
            "Epoch: 58000, Loss: 1.9832795858383179, \n",
            "Epoch: 60000, Loss: 1.9829809665679932, \n",
            "Epoch: 62000, Loss: 1.9826868772506714, \n",
            "Epoch: 64000, Loss: 1.9823987483978271, \n",
            "Epoch: 66000, Loss: 1.9821078777313232, \n",
            "Epoch: 68000, Loss: 1.981817364692688, \n",
            "Epoch: 70000, Loss: 1.9815268516540527, \n",
            "Epoch: 72000, Loss: 1.9812372922897339, \n",
            "Epoch: 74000, Loss: 1.980950951576233, \n",
            "Epoch: 76000, Loss: 1.9806642532348633, \n",
            "Epoch: 78000, Loss: 1.9803801774978638, \n",
            "Epoch: 80000, Loss: 1.9800959825515747, \n",
            "Epoch: 82000, Loss: 1.9798130989074707, \n",
            "Epoch: 84000, Loss: 1.97953200340271, \n",
            "Epoch: 86000, Loss: 1.9792546033859253, \n",
            "Epoch: 88000, Loss: 1.9789751768112183, \n",
            "Epoch: 90000, Loss: 1.9786988496780396, \n",
            "Epoch: 92000, Loss: 1.9784302711486816, \n",
            "Epoch: 94000, Loss: 1.9781596660614014, \n",
            "Epoch: 96000, Loss: 1.9778950214385986, \n",
            "Epoch: 98000, Loss: 1.9776326417922974, \n",
            "Epoch: 100000, Loss: 1.977375864982605, \n"
          ],
          "name": "stdout"
        }
      ]
    },
    {
      "cell_type": "markdown",
      "metadata": {
        "id": "HlVYBPZuftBt",
        "colab_type": "text"
      },
      "source": [
        "While we're here, let's take a look at performace:"
      ]
    },
    {
      "cell_type": "code",
      "metadata": {
        "id": "mX_MBHUefw_E",
        "colab_type": "code",
        "colab": {
          "base_uri": "https://localhost:8080/",
          "height": 34
        },
        "outputId": "15808450-8bc8-4a8a-c5c4-72a7ffb816a5"
      },
      "source": [
        "performance(test_x, test_y, vowel_model)"
      ],
      "execution_count": 565,
      "outputs": [
        {
          "output_type": "stream",
          "text": [
            "0.06296296296296296\n"
          ],
          "name": "stdout"
        }
      ]
    },
    {
      "cell_type": "markdown",
      "metadata": {
        "id": "i1Wxgg85_y0z",
        "colab_type": "text"
      },
      "source": [
        "**4.4** At this point, we were asked to modify our models. I figure there are basically two things worth trying: expanding the width of the hidden layer and adding an additional layer. First, we'll take a look at expanding the width of the hidden layer. I like this option because it's very easy to change. Also, it gives us potentially more information we can learn (assuming we increase the width)."
      ]
    },
    {
      "cell_type": "code",
      "metadata": {
        "colab_type": "code",
        "id": "0900L9zPCU0Q",
        "colab": {
          "base_uri": "https://localhost:8080/",
          "height": 874
        },
        "outputId": "13e7f75d-85d2-4da1-b79a-e536f56e69f0"
      },
      "source": [
        "vowel_model_200 = MLPVowel(hid_dim=200)\n",
        "weights_init(vowel_model_200)\n",
        "loss_func = nn.CrossEntropyLoss()\n",
        "optimizer = optim.SGD(vowel_model_200.parameters(), lr=0.02, momentum=0.9)\n",
        "training(train_x, train_y, vowel_model_200, loss_func, optimizer, 100001)"
      ],
      "execution_count": 566,
      "outputs": [
        {
          "output_type": "stream",
          "text": [
            "Epoch: 0, Loss: 2.2536723613739014, \n",
            "Epoch: 2000, Loss: 1.9744209051132202, \n",
            "Epoch: 4000, Loss: 1.965752363204956, \n",
            "Epoch: 6000, Loss: 1.9616066217422485, \n",
            "Epoch: 8000, Loss: 1.9588713645935059, \n",
            "Epoch: 10000, Loss: 1.9568167924880981, \n",
            "Epoch: 12000, Loss: 1.9551732540130615, \n",
            "Epoch: 14000, Loss: 1.9538064002990723, \n",
            "Epoch: 16000, Loss: 1.9526299238204956, \n",
            "Epoch: 18000, Loss: 1.9516037702560425, \n",
            "Epoch: 20000, Loss: 1.9506862163543701, \n",
            "Epoch: 22000, Loss: 1.9498573541641235, \n",
            "Epoch: 24000, Loss: 1.9491016864776611, \n",
            "Epoch: 26000, Loss: 1.9484013319015503, \n",
            "Epoch: 28000, Loss: 1.9477524757385254, \n",
            "Epoch: 30000, Loss: 1.9471465349197388, \n",
            "Epoch: 32000, Loss: 1.946571707725525, \n",
            "Epoch: 34000, Loss: 1.946029782295227, \n",
            "Epoch: 36000, Loss: 1.9455167055130005, \n",
            "Epoch: 38000, Loss: 1.945024013519287, \n",
            "Epoch: 40000, Loss: 1.9445629119873047, \n",
            "Epoch: 42000, Loss: 1.9441146850585938, \n",
            "Epoch: 44000, Loss: 1.943687081336975, \n",
            "Epoch: 46000, Loss: 1.94327974319458, \n",
            "Epoch: 48000, Loss: 1.9428836107254028, \n",
            "Epoch: 50000, Loss: 1.9425048828125, \n",
            "Epoch: 52000, Loss: 1.9421385526657104, \n",
            "Epoch: 54000, Loss: 1.9417877197265625, \n",
            "Epoch: 56000, Loss: 1.9414478540420532, \n",
            "Epoch: 58000, Loss: 1.9411181211471558, \n",
            "Epoch: 60000, Loss: 1.9407978057861328, \n",
            "Epoch: 62000, Loss: 1.9404916763305664, \n",
            "Epoch: 64000, Loss: 1.940190076828003, \n",
            "Epoch: 66000, Loss: 1.9398987293243408, \n",
            "Epoch: 68000, Loss: 1.939615249633789, \n",
            "Epoch: 70000, Loss: 1.9393413066864014, \n",
            "Epoch: 72000, Loss: 1.9390740394592285, \n",
            "Epoch: 74000, Loss: 1.9388113021850586, \n",
            "Epoch: 76000, Loss: 1.938559889793396, \n",
            "Epoch: 78000, Loss: 1.938306212425232, \n",
            "Epoch: 80000, Loss: 1.9380639791488647, \n",
            "Epoch: 82000, Loss: 1.937827706336975, \n",
            "Epoch: 84000, Loss: 1.9375945329666138, \n",
            "Epoch: 86000, Loss: 1.9373677968978882, \n",
            "Epoch: 88000, Loss: 1.937145709991455, \n",
            "Epoch: 90000, Loss: 1.9369244575500488, \n",
            "Epoch: 92000, Loss: 1.9367117881774902, \n",
            "Epoch: 94000, Loss: 1.936500072479248, \n",
            "Epoch: 96000, Loss: 1.9362906217575073, \n",
            "Epoch: 98000, Loss: 1.9360860586166382, \n",
            "Epoch: 100000, Loss: 1.935884714126587, \n"
          ],
          "name": "stdout"
        }
      ]
    },
    {
      "cell_type": "markdown",
      "metadata": {
        "id": "7zzfhmWZg2r8",
        "colab_type": "text"
      },
      "source": [
        "And again, performance:"
      ]
    },
    {
      "cell_type": "code",
      "metadata": {
        "id": "btnqnnK_g5aN",
        "colab_type": "code",
        "colab": {
          "base_uri": "https://localhost:8080/",
          "height": 34
        },
        "outputId": "dd8e06d7-4d6f-432d-8fe8-fe33e5754618"
      },
      "source": [
        "performance(test_x, test_y, vowel_model_200)"
      ],
      "execution_count": 567,
      "outputs": [
        {
          "output_type": "stream",
          "text": [
            "0.2975308641975309\n"
          ],
          "name": "stdout"
        }
      ]
    },
    {
      "cell_type": "markdown",
      "metadata": {
        "id": "6JDVCzCbPFdP",
        "colab_type": "text"
      },
      "source": [
        "**4.5** Now, I want to try adding a layer to see if we can improve performance."
      ]
    },
    {
      "cell_type": "code",
      "metadata": {
        "colab_type": "code",
        "id": "XPZrePCbPNWF",
        "colab": {}
      },
      "source": [
        "class MLPVowel2(nn.Module):\n",
        "    def __init__(self, input_dim = 2, hid_dim=100, output_dim=9):\n",
        "        super(MLPVowel2, self).__init__()\n",
        "        \n",
        "        self.lin1 = nn.Linear(input_dim, hid_dim)\n",
        "        self.lin2 = nn.Linear(hid_dim, hid_dim)\n",
        "        self.lin3 = nn.Linear(hid_dim, output_dim)\n",
        "    \n",
        "    # this is where the meat of the action is\n",
        "    def forward(self, x):\n",
        "        x = self.lin1(x)  # linear combination of inputs\n",
        "        x = torch.sigmoid(x) # then through sigmoid - output of first layer\n",
        "        x = self.lin2(x) # linear combination of hidden units\n",
        "        x = torch.sigmoid(x) # then through sigmoid - net output\n",
        "        x = self.lin3(x) # linear combination of hidden units\n",
        "        x = torch.sigmoid(x) # then through sigmoid - net output\n",
        "        return x"
      ],
      "execution_count": 0,
      "outputs": []
    },
    {
      "cell_type": "code",
      "metadata": {
        "colab_type": "code",
        "id": "mWJpHf0HPeLF",
        "colab": {
          "base_uri": "https://localhost:8080/",
          "height": 874
        },
        "outputId": "f61bb8a1-674c-46ca-b3fd-9015c3cb5b08"
      },
      "source": [
        "vowel_model_extra_layer = MLPVowel2()\n",
        "weights_init(vowel_model_extra_layer)\n",
        "loss_func = nn.CrossEntropyLoss()\n",
        "optimizer = optim.SGD(vowel_model_extra_layer.parameters(), lr=0.02, momentum=0.9)\n",
        "training(train_x, train_y, vowel_model_extra_layer, loss_func, optimizer, 100001)"
      ],
      "execution_count": 569,
      "outputs": [
        {
          "output_type": "stream",
          "text": [
            "Epoch: 0, Loss: 2.368293285369873, \n",
            "Epoch: 2000, Loss: 1.9833943843841553, \n",
            "Epoch: 4000, Loss: 1.9545272588729858, \n",
            "Epoch: 6000, Loss: 1.9415370225906372, \n",
            "Epoch: 8000, Loss: 1.933753490447998, \n",
            "Epoch: 10000, Loss: 1.9282214641571045, \n",
            "Epoch: 12000, Loss: 1.9237743616104126, \n",
            "Epoch: 14000, Loss: 1.9199190139770508, \n",
            "Epoch: 16000, Loss: 1.9164952039718628, \n",
            "Epoch: 18000, Loss: 1.9134209156036377, \n",
            "Epoch: 20000, Loss: 1.910606861114502, \n",
            "Epoch: 22000, Loss: 1.9080027341842651, \n",
            "Epoch: 24000, Loss: 1.9055583477020264, \n",
            "Epoch: 26000, Loss: 1.9032933712005615, \n",
            "Epoch: 28000, Loss: 1.9012084007263184, \n",
            "Epoch: 30000, Loss: 1.899287462234497, \n",
            "Epoch: 32000, Loss: 1.8975074291229248, \n",
            "Epoch: 34000, Loss: 1.8958550691604614, \n",
            "Epoch: 36000, Loss: 1.8943284749984741, \n",
            "Epoch: 38000, Loss: 1.892926812171936, \n",
            "Epoch: 40000, Loss: 1.8916542530059814, \n",
            "Epoch: 42000, Loss: 1.8904948234558105, \n",
            "Epoch: 44000, Loss: 1.8894392251968384, \n",
            "Epoch: 46000, Loss: 1.8884793519973755, \n",
            "Epoch: 48000, Loss: 1.887601613998413, \n",
            "Epoch: 50000, Loss: 1.8867853879928589, \n",
            "Epoch: 52000, Loss: 1.8860327005386353, \n",
            "Epoch: 54000, Loss: 1.8853273391723633, \n",
            "Epoch: 56000, Loss: 1.8846640586853027, \n",
            "Epoch: 58000, Loss: 1.8840386867523193, \n",
            "Epoch: 60000, Loss: 1.8834478855133057, \n",
            "Epoch: 62000, Loss: 1.8828877210617065, \n",
            "Epoch: 64000, Loss: 1.8823590278625488, \n",
            "Epoch: 66000, Loss: 1.881853461265564, \n",
            "Epoch: 68000, Loss: 1.8813707828521729, \n",
            "Epoch: 70000, Loss: 1.8809067010879517, \n",
            "Epoch: 72000, Loss: 1.8804630041122437, \n",
            "Epoch: 74000, Loss: 1.8800383806228638, \n",
            "Epoch: 76000, Loss: 1.8796253204345703, \n",
            "Epoch: 78000, Loss: 1.8792247772216797, \n",
            "Epoch: 80000, Loss: 1.8788374662399292, \n",
            "Epoch: 82000, Loss: 1.8784589767456055, \n",
            "Epoch: 84000, Loss: 1.8780930042266846, \n",
            "Epoch: 86000, Loss: 1.8777353763580322, \n",
            "Epoch: 88000, Loss: 1.8773844242095947, \n",
            "Epoch: 90000, Loss: 1.8770418167114258, \n",
            "Epoch: 92000, Loss: 1.8767062425613403, \n",
            "Epoch: 94000, Loss: 1.8763738870620728, \n",
            "Epoch: 96000, Loss: 1.8760461807250977, \n",
            "Epoch: 98000, Loss: 1.875723123550415, \n",
            "Epoch: 100000, Loss: 1.8754010200500488, \n"
          ],
          "name": "stdout"
        }
      ]
    },
    {
      "cell_type": "markdown",
      "metadata": {
        "id": "2U802tmphGyk",
        "colab_type": "text"
      },
      "source": [
        "And again, performance:"
      ]
    },
    {
      "cell_type": "code",
      "metadata": {
        "id": "Et08983vhKFL",
        "colab_type": "code",
        "colab": {
          "base_uri": "https://localhost:8080/",
          "height": 34
        },
        "outputId": "2a08decc-bc48-4969-f994-f67ebd7172e8"
      },
      "source": [
        "performance(test_x, test_y, vowel_model_extra_layer)"
      ],
      "execution_count": 570,
      "outputs": [
        {
          "output_type": "stream",
          "text": [
            "0.362962962962963\n"
          ],
          "name": "stdout"
        }
      ]
    },
    {
      "cell_type": "markdown",
      "metadata": {
        "id": "fo1jiMHMyioD",
        "colab_type": "text"
      },
      "source": [
        "## Summary and Observations\n",
        "\n",
        "There are a few things I noticed while running these experiments. First, online training seems to be much better when it comes to accuracy. For example, I was ably to get decent accuracy with just a few hundred epochs. However, training was extremely slow.\n",
        "\n",
        "When I switched over to batch training, the training speed was much better, but the actual loss decreased very slowly. In many cases, I wasn't able to even approach the accuracy of online training. \n",
        "\n",
        "Then, when it came to actually modifying the network, I found that changes had a serious impact in more ways than one. For example, my first modification (+100 hidden nodes) resulted in better convergence for the same amount of epochs. However, training was quite a bit slower. With my second modifiaction (+1 hidden layer), I noticed similar results; performance was better but training was slower. \n",
        "\n",
        "Since I used the test_train_split function, I realized the results were different for every execution. As a result, I decided to document those results for a few executions (online: 100 epochs, batch: 100,000 epochs):\n",
        "\n",
        "| Execution | Online | Batch | +100 Nodes | +1 Layer |\n",
        "|-----------|--------|------|------------|----------|\n",
        "| 04/09/2020 5:21 PM EST | 0.3308641975308642 | 0.08765432098765433 | 0.345679012345679 | 0.2654320987654321 |\n",
        "| 04/09/2020 6:26 PM | 0.18888888888888888 |  0.06296296296296296 | 0.2975308641975309 | 0.362962962962963 |\n",
        "\n",
        "In all this testing, I never really saw a performance above 50%. I wonder what needs to be done to get better results. Below, I decided to run one last experiment (+1 layer) for a ridiculous amount of epochs (1,000,000). "
      ]
    },
    {
      "cell_type": "code",
      "metadata": {
        "id": "nEoPD5yADhwD",
        "colab_type": "code",
        "colab": {
          "base_uri": "https://localhost:8080/",
          "height": 1000
        },
        "outputId": "dcc9bd2b-eea3-4eab-e7da-e9779ab1360c"
      },
      "source": [
        "vowel_model_extra_layer = MLPVowel2()\n",
        "weights_init(vowel_model_extra_layer)\n",
        "loss_func = nn.CrossEntropyLoss()\n",
        "optimizer = optim.SGD(vowel_model_extra_layer.parameters(), lr=0.02, momentum=0.9)\n",
        "training(train_x, train_y, vowel_model_extra_layer, loss_func, optimizer, 1000001)"
      ],
      "execution_count": 582,
      "outputs": [
        {
          "output_type": "stream",
          "text": [
            "Epoch: 0, Loss: 2.2295405864715576, \n",
            "Epoch: 2000, Loss: 2.0205020904541016, \n",
            "Epoch: 4000, Loss: 2.0081424713134766, \n",
            "Epoch: 6000, Loss: 1.953155755996704, \n",
            "Epoch: 8000, Loss: 1.9435720443725586, \n",
            "Epoch: 10000, Loss: 1.9399375915527344, \n",
            "Epoch: 12000, Loss: 1.9375571012496948, \n",
            "Epoch: 14000, Loss: 1.9356921911239624, \n",
            "Epoch: 16000, Loss: 1.9341062307357788, \n",
            "Epoch: 18000, Loss: 1.9326902627944946, \n",
            "Epoch: 20000, Loss: 1.931398630142212, \n",
            "Epoch: 22000, Loss: 1.9301989078521729, \n",
            "Epoch: 24000, Loss: 1.929073452949524, \n",
            "Epoch: 26000, Loss: 1.9280065298080444, \n",
            "Epoch: 28000, Loss: 1.9269813299179077, \n",
            "Epoch: 30000, Loss: 1.9259945154190063, \n",
            "Epoch: 32000, Loss: 1.9250320196151733, \n",
            "Epoch: 34000, Loss: 1.9241061210632324, \n",
            "Epoch: 36000, Loss: 1.9232268333435059, \n",
            "Epoch: 38000, Loss: 1.922398328781128, \n",
            "Epoch: 40000, Loss: 1.9216376543045044, \n",
            "Epoch: 42000, Loss: 1.9209215641021729, \n",
            "Epoch: 44000, Loss: 1.920267105102539, \n",
            "Epoch: 46000, Loss: 1.9196605682373047, \n",
            "Epoch: 48000, Loss: 1.919088363647461, \n",
            "Epoch: 50000, Loss: 1.9185606241226196, \n",
            "Epoch: 52000, Loss: 1.9180632829666138, \n",
            "Epoch: 54000, Loss: 1.9175997972488403, \n",
            "Epoch: 56000, Loss: 1.9171589612960815, \n",
            "Epoch: 58000, Loss: 1.9167453050613403, \n",
            "Epoch: 60000, Loss: 1.9163506031036377, \n",
            "Epoch: 62000, Loss: 1.915973424911499, \n",
            "Epoch: 64000, Loss: 1.9156146049499512, \n",
            "Epoch: 66000, Loss: 1.9152649641036987, \n",
            "Epoch: 68000, Loss: 1.914933681488037, \n",
            "Epoch: 70000, Loss: 1.9146075248718262, \n",
            "Epoch: 72000, Loss: 1.914287805557251, \n",
            "Epoch: 74000, Loss: 1.9139732122421265, \n",
            "Epoch: 76000, Loss: 1.913664698600769, \n",
            "Epoch: 78000, Loss: 1.9133665561676025, \n",
            "Epoch: 80000, Loss: 1.913083553314209, \n",
            "Epoch: 82000, Loss: 1.912805438041687, \n",
            "Epoch: 84000, Loss: 1.912537693977356, \n",
            "Epoch: 86000, Loss: 1.9122765064239502, \n",
            "Epoch: 88000, Loss: 1.9120222330093384, \n",
            "Epoch: 90000, Loss: 1.9117717742919922, \n",
            "Epoch: 92000, Loss: 1.9115321636199951, \n",
            "Epoch: 94000, Loss: 1.9112967252731323, \n",
            "Epoch: 96000, Loss: 1.9110698699951172, \n",
            "Epoch: 98000, Loss: 1.9108527898788452, \n",
            "Epoch: 100000, Loss: 1.9106409549713135, \n",
            "Epoch: 102000, Loss: 1.9104342460632324, \n",
            "Epoch: 104000, Loss: 1.9102375507354736, \n",
            "Epoch: 106000, Loss: 1.9100444316864014, \n",
            "Epoch: 108000, Loss: 1.909853219985962, \n",
            "Epoch: 110000, Loss: 1.9096705913543701, \n",
            "Epoch: 112000, Loss: 1.9094949960708618, \n",
            "Epoch: 114000, Loss: 1.9093166589736938, \n",
            "Epoch: 116000, Loss: 1.9091471433639526, \n",
            "Epoch: 118000, Loss: 1.9089772701263428, \n",
            "Epoch: 120000, Loss: 1.908816933631897, \n",
            "Epoch: 122000, Loss: 1.908654808998108, \n",
            "Epoch: 124000, Loss: 1.9084991216659546, \n",
            "Epoch: 126000, Loss: 1.9083400964736938, \n",
            "Epoch: 128000, Loss: 1.9081847667694092, \n",
            "Epoch: 130000, Loss: 1.9080296754837036, \n",
            "Epoch: 132000, Loss: 1.9078819751739502, \n",
            "Epoch: 134000, Loss: 1.9077250957489014, \n",
            "Epoch: 136000, Loss: 1.9075740575790405, \n",
            "Epoch: 138000, Loss: 1.9074243307113647, \n",
            "Epoch: 140000, Loss: 1.9072604179382324, \n",
            "Epoch: 142000, Loss: 1.9065299034118652, \n",
            "Epoch: 144000, Loss: 1.8265416622161865, \n",
            "Epoch: 146000, Loss: 1.8247050046920776, \n",
            "Epoch: 148000, Loss: 1.8232945203781128, \n",
            "Epoch: 150000, Loss: 1.8223837614059448, \n",
            "Epoch: 152000, Loss: 1.8216547966003418, \n",
            "Epoch: 154000, Loss: 1.7827043533325195, \n",
            "Epoch: 156000, Loss: 1.777902603149414, \n",
            "Epoch: 158000, Loss: 1.7759095430374146, \n",
            "Epoch: 160000, Loss: 1.7744249105453491, \n",
            "Epoch: 162000, Loss: 1.7730661630630493, \n",
            "Epoch: 164000, Loss: 1.7719825506210327, \n",
            "Epoch: 166000, Loss: 1.7710882425308228, \n",
            "Epoch: 168000, Loss: 1.7703311443328857, \n",
            "Epoch: 170000, Loss: 1.7696605920791626, \n",
            "Epoch: 172000, Loss: 1.7690600156784058, \n",
            "Epoch: 174000, Loss: 1.768507957458496, \n",
            "Epoch: 176000, Loss: 1.767997145652771, \n",
            "Epoch: 178000, Loss: 1.7675189971923828, \n",
            "Epoch: 180000, Loss: 1.7670701742172241, \n",
            "Epoch: 182000, Loss: 1.7666375637054443, \n",
            "Epoch: 184000, Loss: 1.7662276029586792, \n",
            "Epoch: 186000, Loss: 1.7658346891403198, \n",
            "Epoch: 188000, Loss: 1.7654564380645752, \n",
            "Epoch: 190000, Loss: 1.7650896310806274, \n",
            "Epoch: 192000, Loss: 1.7647337913513184, \n",
            "Epoch: 194000, Loss: 1.764386534690857, \n",
            "Epoch: 196000, Loss: 1.7640495300292969, \n",
            "Epoch: 198000, Loss: 1.763718605041504, \n",
            "Epoch: 200000, Loss: 1.7633960247039795, \n",
            "Epoch: 202000, Loss: 1.7630797624588013, \n",
            "Epoch: 204000, Loss: 1.7627657651901245, \n",
            "Epoch: 206000, Loss: 1.762450098991394, \n",
            "Epoch: 208000, Loss: 1.7621084451675415, \n",
            "Epoch: 210000, Loss: 1.7569385766983032, \n",
            "Epoch: 212000, Loss: 1.664262294769287, \n",
            "Epoch: 214000, Loss: 1.6638002395629883, \n",
            "Epoch: 216000, Loss: 1.6633976697921753, \n",
            "Epoch: 218000, Loss: 1.6630038022994995, \n",
            "Epoch: 220000, Loss: 1.66258704662323, \n",
            "Epoch: 222000, Loss: 1.661964774131775, \n",
            "Epoch: 224000, Loss: 1.6602853536605835, \n",
            "Epoch: 226000, Loss: 1.6590021848678589, \n",
            "Epoch: 228000, Loss: 1.658049464225769, \n",
            "Epoch: 230000, Loss: 1.6572585105895996, \n",
            "Epoch: 232000, Loss: 1.6565349102020264, \n",
            "Epoch: 234000, Loss: 1.6558496952056885, \n",
            "Epoch: 236000, Loss: 1.6552221775054932, \n",
            "Epoch: 238000, Loss: 1.6547366380691528, \n",
            "Epoch: 240000, Loss: 1.6543831825256348, \n",
            "Epoch: 242000, Loss: 1.6540961265563965, \n",
            "Epoch: 244000, Loss: 1.6538481712341309, \n",
            "Epoch: 246000, Loss: 1.6536234617233276, \n",
            "Epoch: 248000, Loss: 1.653415322303772, \n",
            "Epoch: 250000, Loss: 1.6532188653945923, \n",
            "Epoch: 252000, Loss: 1.6530336141586304, \n",
            "Epoch: 254000, Loss: 1.6528569459915161, \n",
            "Epoch: 256000, Loss: 1.6526840925216675, \n",
            "Epoch: 258000, Loss: 1.6525179147720337, \n",
            "Epoch: 260000, Loss: 1.6523590087890625, \n",
            "Epoch: 262000, Loss: 1.6522023677825928, \n",
            "Epoch: 264000, Loss: 1.6520509719848633, \n",
            "Epoch: 266000, Loss: 1.651902675628662, \n",
            "Epoch: 268000, Loss: 1.651759386062622, \n",
            "Epoch: 270000, Loss: 1.6516196727752686, \n",
            "Epoch: 272000, Loss: 1.6514811515808105, \n",
            "Epoch: 274000, Loss: 1.651347041130066, \n",
            "Epoch: 276000, Loss: 1.6512149572372437, \n",
            "Epoch: 278000, Loss: 1.651084542274475, \n",
            "Epoch: 280000, Loss: 1.650957465171814, \n",
            "Epoch: 282000, Loss: 1.6508344411849976, \n",
            "Epoch: 284000, Loss: 1.6507097482681274, \n",
            "Epoch: 286000, Loss: 1.650593876838684, \n",
            "Epoch: 288000, Loss: 1.6504751443862915, \n",
            "Epoch: 290000, Loss: 1.6503567695617676, \n",
            "Epoch: 292000, Loss: 1.6502435207366943, \n",
            "Epoch: 294000, Loss: 1.6501307487487793, \n",
            "Epoch: 296000, Loss: 1.6500229835510254, \n",
            "Epoch: 298000, Loss: 1.64991295337677, \n",
            "Epoch: 300000, Loss: 1.6498045921325684, \n",
            "Epoch: 302000, Loss: 1.6496984958648682, \n",
            "Epoch: 304000, Loss: 1.6495980024337769, \n",
            "Epoch: 306000, Loss: 1.6494958400726318, \n",
            "Epoch: 308000, Loss: 1.6493937969207764, \n",
            "Epoch: 310000, Loss: 1.6492928266525269, \n",
            "Epoch: 312000, Loss: 1.6491948366165161, \n",
            "Epoch: 314000, Loss: 1.6490964889526367, \n",
            "Epoch: 316000, Loss: 1.6490027904510498, \n",
            "Epoch: 318000, Loss: 1.648908257484436, \n",
            "Epoch: 320000, Loss: 1.6488137245178223, \n",
            "Epoch: 322000, Loss: 1.6487219333648682, \n",
            "Epoch: 324000, Loss: 1.6486310958862305, \n",
            "Epoch: 326000, Loss: 1.648540735244751, \n",
            "Epoch: 328000, Loss: 1.648455262184143, \n",
            "Epoch: 330000, Loss: 1.6483664512634277, \n",
            "Epoch: 332000, Loss: 1.6482806205749512, \n",
            "Epoch: 334000, Loss: 1.6481963396072388, \n",
            "Epoch: 336000, Loss: 1.648112177848816, \n",
            "Epoch: 338000, Loss: 1.6480289697647095, \n",
            "Epoch: 340000, Loss: 1.6479471921920776, \n",
            "Epoch: 342000, Loss: 1.647867202758789, \n",
            "Epoch: 344000, Loss: 1.6477861404418945, \n",
            "Epoch: 346000, Loss: 1.6477071046829224, \n",
            "Epoch: 348000, Loss: 1.647627830505371, \n",
            "Epoch: 350000, Loss: 1.6475518941879272, \n",
            "Epoch: 352000, Loss: 1.6474742889404297, \n",
            "Epoch: 354000, Loss: 1.6473994255065918, \n",
            "Epoch: 356000, Loss: 1.6473257541656494, \n",
            "Epoch: 358000, Loss: 1.647253155708313, \n",
            "Epoch: 360000, Loss: 1.6471832990646362, \n",
            "Epoch: 362000, Loss: 1.647109866142273, \n",
            "Epoch: 364000, Loss: 1.6470377445220947, \n",
            "Epoch: 366000, Loss: 1.6469709873199463, \n",
            "Epoch: 368000, Loss: 1.6469022035598755, \n",
            "Epoch: 370000, Loss: 1.646833896636963, \n",
            "Epoch: 372000, Loss: 1.646769404411316, \n",
            "Epoch: 374000, Loss: 1.6467026472091675, \n",
            "Epoch: 376000, Loss: 1.6466383934020996, \n",
            "Epoch: 378000, Loss: 1.6465727090835571, \n",
            "Epoch: 380000, Loss: 1.646510362625122, \n",
            "Epoch: 382000, Loss: 1.6464474201202393, \n",
            "Epoch: 384000, Loss: 1.6463866233825684, \n",
            "Epoch: 386000, Loss: 1.646325945854187, \n",
            "Epoch: 388000, Loss: 1.6462663412094116, \n",
            "Epoch: 390000, Loss: 1.6462037563323975, \n",
            "Epoch: 392000, Loss: 1.6461446285247803, \n",
            "Epoch: 394000, Loss: 1.6460870504379272, \n",
            "Epoch: 396000, Loss: 1.6460305452346802, \n",
            "Epoch: 398000, Loss: 1.645971417427063, \n",
            "Epoch: 400000, Loss: 1.6459171772003174, \n",
            "Epoch: 402000, Loss: 1.6458585262298584, \n",
            "Epoch: 404000, Loss: 1.6458033323287964, \n",
            "Epoch: 406000, Loss: 1.645747423171997, \n",
            "Epoch: 408000, Loss: 1.645694375038147, \n",
            "Epoch: 410000, Loss: 1.6456387042999268, \n",
            "Epoch: 412000, Loss: 1.645586371421814, \n",
            "Epoch: 414000, Loss: 1.6455315351486206, \n",
            "Epoch: 416000, Loss: 1.6454789638519287, \n",
            "Epoch: 418000, Loss: 1.645426869392395, \n",
            "Epoch: 420000, Loss: 1.6453747749328613, \n",
            "Epoch: 422000, Loss: 1.6453256607055664, \n",
            "Epoch: 424000, Loss: 1.6452769041061401, \n",
            "Epoch: 426000, Loss: 1.645225167274475, \n",
            "Epoch: 428000, Loss: 1.645174503326416, \n",
            "Epoch: 430000, Loss: 1.6451255083084106, \n",
            "Epoch: 432000, Loss: 1.6450759172439575, \n",
            "Epoch: 434000, Loss: 1.6450295448303223, \n",
            "Epoch: 436000, Loss: 1.6449819803237915, \n",
            "Epoch: 438000, Loss: 1.6449350118637085, \n",
            "Epoch: 440000, Loss: 1.6448894739151, \n",
            "Epoch: 442000, Loss: 1.6448431015014648, \n",
            "Epoch: 444000, Loss: 1.6447982788085938, \n",
            "Epoch: 446000, Loss: 1.644753098487854, \n",
            "Epoch: 448000, Loss: 1.6447080373764038, \n",
            "Epoch: 450000, Loss: 1.64466392993927, \n",
            "Epoch: 452000, Loss: 1.6446192264556885, \n",
            "Epoch: 454000, Loss: 1.6445765495300293, \n",
            "Epoch: 456000, Loss: 1.6445319652557373, \n",
            "Epoch: 458000, Loss: 1.6444896459579468, \n",
            "Epoch: 460000, Loss: 1.644447922706604, \n",
            "Epoch: 462000, Loss: 1.6444059610366821, \n",
            "Epoch: 464000, Loss: 1.6443629264831543, \n",
            "Epoch: 466000, Loss: 1.6443215608596802, \n",
            "Epoch: 468000, Loss: 1.6442791223526, \n",
            "Epoch: 470000, Loss: 1.644240140914917, \n",
            "Epoch: 472000, Loss: 1.6441997289657593, \n",
            "Epoch: 474000, Loss: 1.644159197807312, \n",
            "Epoch: 476000, Loss: 1.644118070602417, \n",
            "Epoch: 478000, Loss: 1.6440800428390503, \n",
            "Epoch: 480000, Loss: 1.644039273262024, \n",
            "Epoch: 482000, Loss: 1.6440019607543945, \n",
            "Epoch: 484000, Loss: 1.6439638137817383, \n",
            "Epoch: 486000, Loss: 1.6439255475997925, \n",
            "Epoch: 488000, Loss: 1.6438868045806885, \n",
            "Epoch: 490000, Loss: 1.6438480615615845, \n",
            "Epoch: 492000, Loss: 1.6438101530075073, \n",
            "Epoch: 494000, Loss: 1.6437735557556152, \n",
            "Epoch: 496000, Loss: 1.643736720085144, \n",
            "Epoch: 498000, Loss: 1.6436986923217773, \n",
            "Epoch: 500000, Loss: 1.643661379814148, \n",
            "Epoch: 502000, Loss: 1.6436256170272827, \n",
            "Epoch: 504000, Loss: 1.6435892581939697, \n",
            "Epoch: 506000, Loss: 1.643553614616394, \n",
            "Epoch: 508000, Loss: 1.6435188055038452, \n",
            "Epoch: 510000, Loss: 1.64348304271698, \n",
            "Epoch: 512000, Loss: 1.6434460878372192, \n",
            "Epoch: 514000, Loss: 1.6434125900268555, \n",
            "Epoch: 516000, Loss: 1.6433781385421753, \n",
            "Epoch: 518000, Loss: 1.6433418989181519, \n",
            "Epoch: 520000, Loss: 1.643309473991394, \n",
            "Epoch: 522000, Loss: 1.6432744264602661, \n",
            "Epoch: 524000, Loss: 1.64323890209198, \n",
            "Epoch: 526000, Loss: 1.6432064771652222, \n",
            "Epoch: 528000, Loss: 1.6431734561920166, \n",
            "Epoch: 530000, Loss: 1.6431406736373901, \n",
            "Epoch: 532000, Loss: 1.6431084871292114, \n",
            "Epoch: 534000, Loss: 1.643075704574585, \n",
            "Epoch: 536000, Loss: 1.6430426836013794, \n",
            "Epoch: 538000, Loss: 1.6430094242095947, \n",
            "Epoch: 540000, Loss: 1.642976999282837, \n",
            "Epoch: 542000, Loss: 1.6429437398910522, \n",
            "Epoch: 544000, Loss: 1.6429108381271362, \n",
            "Epoch: 546000, Loss: 1.6428799629211426, \n",
            "Epoch: 548000, Loss: 1.6428483724594116, \n",
            "Epoch: 550000, Loss: 1.6428176164627075, \n",
            "Epoch: 552000, Loss: 1.6427865028381348, \n",
            "Epoch: 554000, Loss: 1.6427561044692993, \n",
            "Epoch: 556000, Loss: 1.6427243947982788, \n",
            "Epoch: 558000, Loss: 1.6426918506622314, \n",
            "Epoch: 560000, Loss: 1.642661452293396, \n",
            "Epoch: 562000, Loss: 1.642630934715271, \n",
            "Epoch: 564000, Loss: 1.6426002979278564, \n",
            "Epoch: 566000, Loss: 1.6425694227218628, \n",
            "Epoch: 568000, Loss: 1.642539620399475, \n",
            "Epoch: 570000, Loss: 1.6425111293792725, \n",
            "Epoch: 572000, Loss: 1.6424803733825684, \n",
            "Epoch: 574000, Loss: 1.6424504518508911, \n",
            "Epoch: 576000, Loss: 1.6424199342727661, \n",
            "Epoch: 578000, Loss: 1.6423908472061157, \n",
            "Epoch: 580000, Loss: 1.6423616409301758, \n",
            "Epoch: 582000, Loss: 1.6423336267471313, \n",
            "Epoch: 584000, Loss: 1.6423040628433228, \n",
            "Epoch: 586000, Loss: 1.6422739028930664, \n",
            "Epoch: 588000, Loss: 1.642244815826416, \n",
            "Epoch: 590000, Loss: 1.6422154903411865, \n",
            "Epoch: 592000, Loss: 1.642187476158142, \n",
            "Epoch: 594000, Loss: 1.6421575546264648, \n",
            "Epoch: 596000, Loss: 1.6421294212341309, \n",
            "Epoch: 598000, Loss: 1.6421011686325073, \n",
            "Epoch: 600000, Loss: 1.6420714855194092, \n",
            "Epoch: 602000, Loss: 1.6420446634292603, \n",
            "Epoch: 604000, Loss: 1.6420156955718994, \n",
            "Epoch: 606000, Loss: 1.6419862508773804, \n",
            "Epoch: 608000, Loss: 1.6419588327407837, \n",
            "Epoch: 610000, Loss: 1.6419291496276855, \n",
            "Epoch: 612000, Loss: 1.6419017314910889, \n",
            "Epoch: 614000, Loss: 1.6418734788894653, \n",
            "Epoch: 616000, Loss: 1.6418455839157104, \n",
            "Epoch: 618000, Loss: 1.641817331314087, \n",
            "Epoch: 620000, Loss: 1.6417900323867798, \n",
            "Epoch: 622000, Loss: 1.6417620182037354, \n",
            "Epoch: 624000, Loss: 1.6417346000671387, \n",
            "Epoch: 626000, Loss: 1.6417075395584106, \n",
            "Epoch: 628000, Loss: 1.641678810119629, \n",
            "Epoch: 630000, Loss: 1.6416525840759277, \n",
            "Epoch: 632000, Loss: 1.6416237354278564, \n",
            "Epoch: 634000, Loss: 1.6415975093841553, \n",
            "Epoch: 636000, Loss: 1.6415709257125854, \n",
            "Epoch: 638000, Loss: 1.641542911529541, \n",
            "Epoch: 640000, Loss: 1.6415156126022339, \n",
            "Epoch: 642000, Loss: 1.6414881944656372, \n",
            "Epoch: 644000, Loss: 1.6414616107940674, \n",
            "Epoch: 646000, Loss: 1.6414343118667603, \n",
            "Epoch: 648000, Loss: 1.6414062976837158, \n",
            "Epoch: 650000, Loss: 1.6413803100585938, \n",
            "Epoch: 652000, Loss: 1.6413519382476807, \n",
            "Epoch: 654000, Loss: 1.641326665878296, \n",
            "Epoch: 656000, Loss: 1.641300916671753, \n",
            "Epoch: 658000, Loss: 1.6412749290466309, \n",
            "Epoch: 660000, Loss: 1.641247034072876, \n",
            "Epoch: 662000, Loss: 1.6412218809127808, \n",
            "Epoch: 664000, Loss: 1.6411921977996826, \n",
            "Epoch: 666000, Loss: 1.6411656141281128, \n",
            "Epoch: 668000, Loss: 1.6411398649215698, \n",
            "Epoch: 670000, Loss: 1.6411141157150269, \n",
            "Epoch: 672000, Loss: 1.6410870552062988, \n",
            "Epoch: 674000, Loss: 1.6410608291625977, \n",
            "Epoch: 676000, Loss: 1.6410350799560547, \n",
            "Epoch: 678000, Loss: 1.6410094499588013, \n",
            "Epoch: 680000, Loss: 1.6409815549850464, \n",
            "Epoch: 682000, Loss: 1.6409558057785034, \n",
            "Epoch: 684000, Loss: 1.6409294605255127, \n",
            "Epoch: 686000, Loss: 1.6409043073654175, \n",
            "Epoch: 688000, Loss: 1.640878438949585, \n",
            "Epoch: 690000, Loss: 1.6408520936965942, \n",
            "Epoch: 692000, Loss: 1.6408268213272095, \n",
            "Epoch: 694000, Loss: 1.6408002376556396, \n",
            "Epoch: 696000, Loss: 1.6407744884490967, \n",
            "Epoch: 698000, Loss: 1.6407490968704224, \n",
            "Epoch: 700000, Loss: 1.6407243013381958, \n",
            "Epoch: 702000, Loss: 1.640697956085205, \n",
            "Epoch: 704000, Loss: 1.6406736373901367, \n",
            "Epoch: 706000, Loss: 1.6406478881835938, \n",
            "Epoch: 708000, Loss: 1.6406232118606567, \n",
            "Epoch: 710000, Loss: 1.6405965089797974, \n",
            "Epoch: 712000, Loss: 1.6405730247497559, \n",
            "Epoch: 714000, Loss: 1.6405479907989502, \n",
            "Epoch: 716000, Loss: 1.6405225992202759, \n",
            "Epoch: 718000, Loss: 1.640498399734497, \n",
            "Epoch: 720000, Loss: 1.6404751539230347, \n",
            "Epoch: 722000, Loss: 1.640450358390808, \n",
            "Epoch: 724000, Loss: 1.6404246091842651, \n",
            "Epoch: 726000, Loss: 1.6404006481170654, \n",
            "Epoch: 728000, Loss: 1.6403754949569702, \n",
            "Epoch: 730000, Loss: 1.6403495073318481, \n",
            "Epoch: 732000, Loss: 1.6403251886367798, \n",
            "Epoch: 734000, Loss: 1.64030122756958, \n",
            "Epoch: 736000, Loss: 1.6402777433395386, \n",
            "Epoch: 738000, Loss: 1.640254259109497, \n",
            "Epoch: 740000, Loss: 1.6402311325073242, \n",
            "Epoch: 742000, Loss: 1.6402043104171753, \n",
            "Epoch: 744000, Loss: 1.6401824951171875, \n",
            "Epoch: 746000, Loss: 1.6401582956314087, \n",
            "Epoch: 748000, Loss: 1.6401346921920776, \n",
            "Epoch: 750000, Loss: 1.6401106119155884, \n",
            "Epoch: 752000, Loss: 1.6400866508483887, \n",
            "Epoch: 754000, Loss: 1.6400642395019531, \n",
            "Epoch: 756000, Loss: 1.6400392055511475, \n",
            "Epoch: 758000, Loss: 1.6400163173675537, \n",
            "Epoch: 760000, Loss: 1.6399930715560913, \n",
            "Epoch: 762000, Loss: 1.6399701833724976, \n",
            "Epoch: 764000, Loss: 1.6399457454681396, \n",
            "Epoch: 766000, Loss: 1.6399222612380981, \n",
            "Epoch: 768000, Loss: 1.6398978233337402, \n",
            "Epoch: 770000, Loss: 1.6398764848709106, \n",
            "Epoch: 772000, Loss: 1.6398534774780273, \n",
            "Epoch: 774000, Loss: 1.6398303508758545, \n",
            "Epoch: 776000, Loss: 1.6398061513900757, \n",
            "Epoch: 778000, Loss: 1.639783501625061, \n",
            "Epoch: 780000, Loss: 1.6397607326507568, \n",
            "Epoch: 782000, Loss: 1.6397372484207153, \n",
            "Epoch: 784000, Loss: 1.6397157907485962, \n",
            "Epoch: 786000, Loss: 1.639691948890686, \n",
            "Epoch: 788000, Loss: 1.6396698951721191, \n",
            "Epoch: 790000, Loss: 1.6396487951278687, \n",
            "Epoch: 792000, Loss: 1.6396268606185913, \n",
            "Epoch: 794000, Loss: 1.6396045684814453, \n",
            "Epoch: 796000, Loss: 1.639582633972168, \n",
            "Epoch: 798000, Loss: 1.6395608186721802, \n",
            "Epoch: 800000, Loss: 1.6395370960235596, \n",
            "Epoch: 802000, Loss: 1.6395139694213867, \n",
            "Epoch: 804000, Loss: 1.639492392539978, \n",
            "Epoch: 806000, Loss: 1.6394709348678589, \n",
            "Epoch: 808000, Loss: 1.6394497156143188, \n",
            "Epoch: 810000, Loss: 1.639425277709961, \n",
            "Epoch: 812000, Loss: 1.6394039392471313, \n",
            "Epoch: 814000, Loss: 1.639383316040039, \n",
            "Epoch: 816000, Loss: 1.6393615007400513, \n",
            "Epoch: 818000, Loss: 1.639339566230774, \n",
            "Epoch: 820000, Loss: 1.6393177509307861, \n",
            "Epoch: 822000, Loss: 1.639296531677246, \n",
            "Epoch: 824000, Loss: 1.6392751932144165, \n",
            "Epoch: 826000, Loss: 1.6392542123794556, \n",
            "Epoch: 828000, Loss: 1.6392321586608887, \n",
            "Epoch: 830000, Loss: 1.6392093896865845, \n",
            "Epoch: 832000, Loss: 1.6391890048980713, \n",
            "Epoch: 834000, Loss: 1.6391665935516357, \n",
            "Epoch: 836000, Loss: 1.6391469240188599, \n",
            "Epoch: 838000, Loss: 1.639125108718872, \n",
            "Epoch: 840000, Loss: 1.6391055583953857, \n",
            "Epoch: 842000, Loss: 1.6390831470489502, \n",
            "Epoch: 844000, Loss: 1.6390632390975952, \n",
            "Epoch: 846000, Loss: 1.639043927192688, \n",
            "Epoch: 848000, Loss: 1.6390215158462524, \n",
            "Epoch: 850000, Loss: 1.6390013694763184, \n",
            "Epoch: 852000, Loss: 1.6389790773391724, \n",
            "Epoch: 854000, Loss: 1.6389598846435547, \n",
            "Epoch: 856000, Loss: 1.638939619064331, \n",
            "Epoch: 858000, Loss: 1.6389182806015015, \n",
            "Epoch: 860000, Loss: 1.6388963460922241, \n",
            "Epoch: 862000, Loss: 1.6388764381408691, \n",
            "Epoch: 864000, Loss: 1.6388570070266724, \n",
            "Epoch: 866000, Loss: 1.6388360261917114, \n",
            "Epoch: 868000, Loss: 1.63881516456604, \n",
            "Epoch: 870000, Loss: 1.6387945413589478, \n",
            "Epoch: 872000, Loss: 1.6387739181518555, \n",
            "Epoch: 874000, Loss: 1.638753890991211, \n",
            "Epoch: 876000, Loss: 1.6387346982955933, \n",
            "Epoch: 878000, Loss: 1.638714075088501, \n",
            "Epoch: 880000, Loss: 1.6386934518814087, \n",
            "Epoch: 882000, Loss: 1.6386725902557373, \n",
            "Epoch: 884000, Loss: 1.6386542320251465, \n",
            "Epoch: 886000, Loss: 1.6386336088180542, \n",
            "Epoch: 888000, Loss: 1.6386135816574097, \n",
            "Epoch: 890000, Loss: 1.6385929584503174, \n",
            "Epoch: 892000, Loss: 1.6385730504989624, \n",
            "Epoch: 894000, Loss: 1.6385527849197388, \n",
            "Epoch: 896000, Loss: 1.638532042503357, \n",
            "Epoch: 898000, Loss: 1.6385128498077393, \n",
            "Epoch: 900000, Loss: 1.638492465019226, \n",
            "Epoch: 902000, Loss: 1.6384754180908203, \n",
            "Epoch: 904000, Loss: 1.6384541988372803, \n",
            "Epoch: 906000, Loss: 1.6384336948394775, \n",
            "Epoch: 908000, Loss: 1.6384133100509644, \n",
            "Epoch: 910000, Loss: 1.6383920907974243, \n",
            "Epoch: 912000, Loss: 1.6383718252182007, \n",
            "Epoch: 914000, Loss: 1.6383507251739502, \n",
            "Epoch: 916000, Loss: 1.638328194618225, \n",
            "Epoch: 918000, Loss: 1.6383037567138672, \n",
            "Epoch: 920000, Loss: 1.6382794380187988, \n",
            "Epoch: 922000, Loss: 1.638251781463623, \n",
            "Epoch: 924000, Loss: 1.6382187604904175, \n",
            "Epoch: 926000, Loss: 1.638181209564209, \n",
            "Epoch: 928000, Loss: 1.6381316184997559, \n",
            "Epoch: 930000, Loss: 1.638077735900879, \n",
            "Epoch: 932000, Loss: 1.6380292177200317, \n",
            "Epoch: 934000, Loss: 1.6379824876785278, \n",
            "Epoch: 936000, Loss: 1.6379412412643433, \n",
            "Epoch: 938000, Loss: 1.637903094291687, \n",
            "Epoch: 940000, Loss: 1.6378637552261353, \n",
            "Epoch: 942000, Loss: 1.6378295421600342, \n",
            "Epoch: 944000, Loss: 1.637795329093933, \n",
            "Epoch: 946000, Loss: 1.637763261795044, \n",
            "Epoch: 948000, Loss: 1.6377307176589966, \n",
            "Epoch: 950000, Loss: 1.6376994848251343, \n",
            "Epoch: 952000, Loss: 1.637668251991272, \n",
            "Epoch: 954000, Loss: 1.6376383304595947, \n",
            "Epoch: 956000, Loss: 1.6376099586486816, \n",
            "Epoch: 958000, Loss: 1.6375809907913208, \n",
            "Epoch: 960000, Loss: 1.6375539302825928, \n",
            "Epoch: 962000, Loss: 1.6375253200531006, \n",
            "Epoch: 964000, Loss: 1.637499213218689, \n",
            "Epoch: 966000, Loss: 1.6374727487564087, \n",
            "Epoch: 968000, Loss: 1.6374455690383911, \n",
            "Epoch: 970000, Loss: 1.6374188661575317, \n",
            "Epoch: 972000, Loss: 1.6373940706253052, \n",
            "Epoch: 974000, Loss: 1.6373707056045532, \n",
            "Epoch: 976000, Loss: 1.6373463869094849, \n",
            "Epoch: 978000, Loss: 1.637324571609497, \n",
            "Epoch: 980000, Loss: 1.6373002529144287, \n",
            "Epoch: 982000, Loss: 1.6372778415679932, \n",
            "Epoch: 984000, Loss: 1.6372530460357666, \n",
            "Epoch: 986000, Loss: 1.637230634689331, \n",
            "Epoch: 988000, Loss: 1.6372073888778687, \n",
            "Epoch: 990000, Loss: 1.6371852159500122, \n",
            "Epoch: 992000, Loss: 1.637162685394287, \n",
            "Epoch: 994000, Loss: 1.6371407508850098, \n",
            "Epoch: 996000, Loss: 1.6371181011199951, \n",
            "Epoch: 998000, Loss: 1.6370956897735596, \n",
            "Epoch: 1000000, Loss: 1.6370748281478882, \n"
          ],
          "name": "stdout"
        }
      ]
    },
    {
      "cell_type": "code",
      "metadata": {
        "colab_type": "code",
        "outputId": "e08dcb2b-d384-4473-eb90-c8c9158ab272",
        "id": "-IJ4uLt-1TQ-",
        "colab": {
          "base_uri": "https://localhost:8080/",
          "height": 34
        }
      },
      "source": [
        "performance(test_x, test_y, vowel_model_extra_layer)"
      ],
      "execution_count": 583,
      "outputs": [
        {
          "output_type": "stream",
          "text": [
            "0.45308641975308644\n"
          ],
          "name": "stdout"
        }
      ]
    },
    {
      "cell_type": "markdown",
      "metadata": {
        "id": "bWCsqCffGFa8",
        "colab_type": "text"
      },
      "source": [
        "At this point, I tried looking into what was happening. For instance, am I overfitting the training set? Underfitting? I wasn't sure. "
      ]
    }
  ]
}