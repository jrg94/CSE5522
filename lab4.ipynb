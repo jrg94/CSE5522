{
  "nbformat": 4,
  "nbformat_minor": 0,
  "metadata": {
    "colab": {
      "name": "lab4.ipynb",
      "provenance": [],
      "collapsed_sections": [],
      "include_colab_link": true
    },
    "kernelspec": {
      "name": "python3",
      "display_name": "Python 3"
    }
  },
  "cells": [
    {
      "cell_type": "markdown",
      "metadata": {
        "id": "view-in-github",
        "colab_type": "text"
      },
      "source": [
        "<a href=\"https://colab.research.google.com/github/jrg94/CSE5522/blob/master/lab4.ipynb\" target=\"_parent\"><img src=\"https://colab.research.google.com/assets/colab-badge.svg\" alt=\"Open In Colab\"/></a>"
      ]
    },
    {
      "cell_type": "markdown",
      "metadata": {
        "id": "5uQ78FQhx29R",
        "colab_type": "text"
      },
      "source": [
        "# Perceptron Learning\n",
        "\n",
        "**Overview**\n",
        "\n",
        "The perceptron learning rule is a simple method for training a linear classifier.\n",
        "\n",
        "The basic idea is: when you classify something incorrectly, move the linear classifier a bit in a way that updates the boundary line.  This is related to the gradient descent algorithm used for linear regression.\n",
        "\n",
        "In the first part of the exercise, you will learn the \"and\" function to show the basic operation of the PLR, and in the second you'll try to classify some vowels.\n",
        "\n",
        "There is an optional part to play around with PyTorch, a toolkit that can be used to quickly learn neural networks.  I'll provide a quick walkthrough for learning the XOR problem (based on some code from U. Washington); see if you can adapt this to the vowel classification problem.\n",
        "\n",
        "Note: you may want to change your runtime type to GPU/TPU to speed up computation if you go to PyTorch.\n",
        "\n"
      ]
    },
    {
      "cell_type": "markdown",
      "metadata": {
        "id": "i3ESV2lnTNfG",
        "colab_type": "text"
      },
      "source": [
        "## **Part 1**\n",
        "\n",
        "In the first part of the hands-on, you'll code the Perceptron Learning Rule (PLR) algorithm."
      ]
    },
    {
      "cell_type": "code",
      "metadata": {
        "id": "BnYO6oisBzPQ",
        "colab_type": "code",
        "outputId": "c0d52935-63ba-4800-bbdb-76e209745b47",
        "colab": {
          "base_uri": "https://localhost:8080/",
          "height": 265
        }
      },
      "source": [
        "# set up some preliminaries\n",
        "\n",
        "import numpy as np\n",
        "import matplotlib.pyplot as plt\n",
        "\n",
        "# set classification data for \"and\"\n",
        "data=np.array([[0,0],[0,1],[1,0],[1,1]])\n",
        "targets=np.array([0,0,0,1])\n",
        "bias=-1\n",
        "\n",
        "# set some initial weights : w1, w2, bias\n",
        "weights_init=np.array([-1,1,0.5])\n",
        "\n",
        "# here is a function for plotting both the dataset and the current decision\n",
        "# boundary, with errors in red\n",
        "def plotgraph(data,targets,weights):\n",
        "  classification=(np.sign(np.dot(np.hstack((data,np.ones((data.shape[0],1))*bias)),weights))+1)/2\n",
        "\n",
        "  plt.plot(data[np.logical_and(targets==1,classification==1),0],\n",
        "           data[np.logical_and(targets==1,classification==1),1],'bo')\n",
        "  plt.plot(data[np.logical_and(targets==1,classification==0),0],\n",
        "           data[np.logical_and(targets==1,classification==0),1],'ro')\n",
        "  plt.plot(data[np.logical_and(targets==0,classification==1),0],\n",
        "           data[np.logical_and(targets==0,classification==1),1],'rx')\n",
        "  plt.plot(data[np.logical_and(targets==0,classification==0),0],\n",
        "           data[np.logical_and(targets==0,classification==0),1],'bx')\n",
        "\n",
        "  # note weights are in form w_1*x + w_2*y + w_b = 0\n",
        "  # so to plot line we need y= -(w_1*x + w_b)/(w_2)\n",
        "  dmin=np.min(data[:,0])\n",
        "  dmax=np.max(data[:,0])\n",
        "  plt.plot(np.array([dmin,dmax]),\n",
        "           np.array([-(dmin*weights[0]+weights[2]*bias)/(weights[1]),\n",
        "                     -(dmax*weights[0]+weights[2]*bias)/(weights[1])]),\n",
        "           'b--'\n",
        "           )\n",
        "\n",
        "\n",
        "#Plot the current situation.  Red items are misclassified, blue\n",
        "#correctly classified. x=0, circle=1.\n",
        "plotgraph(data,targets,weights_init)\n"
      ],
      "execution_count": 92,
      "outputs": [
        {
          "output_type": "display_data",
          "data": {
            "image/png": "[encoded data removed]",
            "text/plain": [
              "<Figure size 432x288 with 1 Axes>"
            ]
          },
          "metadata": {
            "tags": [],
            "needs_background": "light"
          }
        }
      ]
    },
    {
      "cell_type": "markdown",
      "metadata": {
        "id": "hpBjACAdzlG0",
        "colab_type": "text"
      },
      "source": [
        "**1.1** This is where you will need to code the perceptron learning algorithm.\n",
        "\n",
        "You should assume that the nonlinear function is a step function that outputs 1 if the input is greater than 0, and 0 otherwise.\n",
        "\n",
        "Note that I had a sign bug in the slides.  The error should be the difference between the output and target (i.e. if output is 1 and target is 0, the error is 1).  \n",
        "\n",
        "Remember that there should be a bias.  You can choose to define the fixed bias as -1 (as traditionally done) or 1.  Note if you change the bias you may need to pay attention to the plotting function above.\n",
        "\n",
        "The function should return the updated weight vector.  "
      ]
    },
    {
      "cell_type": "code",
      "metadata": {
        "id": "UZEDDtyaAE-B",
        "colab_type": "code",
        "colab": {}
      },
      "source": [
        "def plr(weights, example, target, learningrate):\n",
        "  # compute weight update\n",
        "  # return updated weights\n",
        "  example_with_bias = np.append(example, bias)\n",
        "  # weights[0] * example[0] + weights[1] * example[1] + weights[2] * bias\n",
        "  g = np.sum(weights * example_with_bias)\n",
        "  output = 1 if g > 0 else 0\n",
        "  error = output - target\n",
        "  return weights - learningrate * error * example_with_bias"
      ],
      "execution_count": 0,
      "outputs": []
    },
    {
      "cell_type": "markdown",
      "metadata": {
        "id": "CKLlwQtH1dO9",
        "colab_type": "text"
      },
      "source": [
        "**1.2** The following function will randomize your training examples, and run the PLR for each example."
      ]
    },
    {
      "cell_type": "code",
      "metadata": {
        "id": "K9u9zBAZ1TzX",
        "colab_type": "code",
        "colab": {}
      },
      "source": [
        "def run_epoch(weights, data, targets, learningrate):\n",
        "  nexamples=data.shape[0]\n",
        "  order=np.random.permutation(nexamples)\n",
        "  for i in range(nexamples):\n",
        "    weights=plr(weights,data[order[i]],targets[order[i]],learningrate)\n",
        "  return weights"
      ],
      "execution_count": 0,
      "outputs": []
    },
    {
      "cell_type": "markdown",
      "metadata": {
        "id": "27HN_7pb2BBi",
        "colab_type": "text"
      },
      "source": [
        "**1.3** Now write a bit of code to run through epochs until convergence."
      ]
    },
    {
      "cell_type": "code",
      "metadata": {
        "id": "JTLXmyEGPJEM",
        "colab_type": "code",
        "outputId": "7760b173-d024-42ea-eb10-1fcd3eaa2d4f",
        "colab": {
          "base_uri": "https://localhost:8080/",
          "height": 84
        }
      },
      "source": [
        "print(data)"
      ],
      "execution_count": 95,
      "outputs": [
        {
          "output_type": "stream",
          "text": [
            "[[0 0]\n",
            " [0 1]\n",
            " [1 0]\n",
            " [1 1]]\n"
          ],
          "name": "stdout"
        }
      ]
    },
    {
      "cell_type": "code",
      "metadata": {
        "id": "vcsiD2m0OZUM",
        "colab_type": "code",
        "colab": {}
      },
      "source": [
        "def experiment(iterations, weights, data, targets, learningrate):\n",
        "  for _ in range(iterations):\n",
        "    weights = run_epoch(weights, data, targets, learningrate)\n",
        "  return weights"
      ],
      "execution_count": 0,
      "outputs": []
    },
    {
      "cell_type": "code",
      "metadata": {
        "id": "jnkEdM3nBEWE",
        "colab_type": "code",
        "outputId": "4d7ecae0-b5ea-4da3-bf08-6d05e38ced9d",
        "colab": {
          "base_uri": "https://localhost:8080/",
          "height": 34
        }
      },
      "source": [
        "# write code to run through convergence\n",
        "# put final weights into \"finalweights\"\n",
        "LEARNING_RATE = .0111\n",
        "ITERS = 10000\n",
        "finalweights = experiment(ITERS, weights_init, data, targets, LEARNING_RATE)\n",
        "print(finalweights)"
      ],
      "execution_count": 97,
      "outputs": [
        {
          "output_type": "stream",
          "text": [
            "[0.0212 0.7447 0.7553]\n"
          ],
          "name": "stdout"
        }
      ]
    },
    {
      "cell_type": "markdown",
      "metadata": {
        "id": "Wfya2cJn2I4u",
        "colab_type": "text"
      },
      "source": [
        "**1.4** Plot the final weights to show the boundary that you have learned."
      ]
    },
    {
      "cell_type": "code",
      "metadata": {
        "id": "8fvq7bmI2HQj",
        "colab_type": "code",
        "outputId": "c07ac66f-c017-4b15-eea3-b558f0ca8830",
        "colab": {
          "base_uri": "https://localhost:8080/",
          "height": 265
        }
      },
      "source": [
        "plotgraph(data,targets,finalweights)"
      ],
      "execution_count": 98,
      "outputs": [
        {
          "output_type": "display_data",
          "data": {
            "image/png": "[encoded data removed]",
            "text/plain": [
              "<Figure size 432x288 with 1 Axes>"
            ]
          },
          "metadata": {
            "tags": [],
            "needs_background": "light"
          }
        }
      ]
    },
    {
      "cell_type": "markdown",
      "metadata": {
        "id": "mUrKN_-H2b4w",
        "colab_type": "text"
      },
      "source": [
        "**1.5** Optional extensions:\n",
        "\n",
        "**1.5.1** Rerun your code for the \"or\" function.\n",
        "\n",
        "**1.5.2** Modify your code to allow for the majority class function for three inputs (i.e. 1 if 2 or more inputs are on).\n",
        "\n",
        "**1.5.3** Investigate what happens if you run the \"xor\" function through the training.\n"
      ]
    },
    {
      "cell_type": "markdown",
      "metadata": {
        "id": "2d0V3Z7q22Rm",
        "colab_type": "text"
      },
      "source": [
        "## **Part 2: Vowel Classification**\n",
        "\n",
        "In this section, you will look at some actual (noisy) vowel formant data.  Go to the International Phonetic Alphabet (IPA) vowel chart at https://en.wikipedia.org/wiki/IPA_vowel_chart_with_audio and play the sounds.  The chart is written in IPA, but here are the two letter (ARPABET) symbols for some of the vowels of English:\n",
        "\n",
        "* iy: close front unrounded\n",
        "* ih: near-close front unrounded\n",
        "* ey: close-mid front unrounded\n",
        "* eh: open-mid front unrounded\n",
        "* ah: open back rounded\n",
        "* ao: open-mid back rounded\n",
        "* ow: close-mid back rounded\n",
        "* uw: close back rounded\n",
        "* ax: mid central unrounded\n",
        "\n",
        "I've prepared a csv datafile with the following features:\n",
        "\n",
        "* f1, f2: formants\n",
        "* h1: close\n",
        "* h2: near-close or higher\n",
        "* h3: close-mid or higher\n",
        "* h4: mid or higher\n",
        "* h5: open-mid or higher\n",
        "* b1: back\n",
        "* b2: central or back\n",
        "* r: rounded\n",
        "\n",
        "First, let's read in the data.\n",
        "\n"
      ]
    },
    {
      "cell_type": "code",
      "metadata": {
        "id": "9YZyTz4sBrx6",
        "colab_type": "code",
        "outputId": "83169dfa-be7a-411b-8443-d4ce3e1acf4f",
        "colab": {
          "base_uri": "https://localhost:8080/",
          "height": 378
        }
      },
      "source": [
        "# first, read in the data and build a scatterplot showing the vowel formants\n",
        "import pandas as pd\n",
        "url='https://raw.githubusercontent.com/efosler/cse5522data/master/vowelfmts.csv'\n",
        "df=pd.read_csv(url)\n",
        "\n",
        "# This function will plot the vowels as a scatterplot with different colors\n",
        "# using the traditional F2 vs F1 inverted plot.  This puts high (close) vowels\n",
        "# at the top of the plot and low vowels (open) at the bottom.  Front vowels\n",
        "# are to the left; back vowels to the right.  Optionally can plot a boundary.\n",
        "\n",
        "def plotvowels(df,weights=None):\n",
        "  # this next bit converts the label into a colormap value between 0 and 1\n",
        "  vowels=df['vowel'].unique()\n",
        "  vmap={}\n",
        "  for i in range(vowels.shape[0]):\n",
        "    vmap[vowels[i]]=float(i)/float(vowels.shape[0]-1)\n",
        "  df['color']=df['vowel'].map(vmap)\n",
        "  # plot the scatterplot\n",
        "  plt.figure(num=1,figsize=(6,6))\n",
        "  plt.scatter(df['f2'],df['f1'],s=1,c=df['color'],cmap='gist_rainbow')\n",
        "  plt.gca().set_ylim([100,1000])\n",
        "  plt.gca().set_xlim([750,2500])\n",
        "  plt.gca().invert_xaxis()\n",
        "  plt.gca().invert_yaxis()\n",
        "  if weights is not None:\n",
        "    dmin=df['f2'].min()\n",
        "    dmax=df['f2'].max()\n",
        "    plt.plot(np.array([dmin,dmax]),\n",
        "             np.array([-(dmin*weights[0]+weights[2])/(weights[1]),\n",
        "                       -(dmax*weights[0]+weights[2])/(weights[1])]),\n",
        "             'b--'\n",
        "             )\n",
        "\n",
        "# Plot the vowel data.  Compare against the IPA chart online.      \n",
        "plotvowels(df)"
      ],
      "execution_count": 99,
      "outputs": [
        {
          "output_type": "display_data",
          "data": {
            "image/png": "[encoded data removed]",
            "text/plain": [
              "<Figure size 432x432 with 1 Axes>"
            ]
          },
          "metadata": {
            "tags": [],
            "needs_background": "light"
          }
        }
      ]
    },
    {
      "cell_type": "markdown",
      "metadata": {
        "id": "OKy9yHIA4fgW",
        "colab_type": "text"
      },
      "source": [
        "You will notice that the vowel classes aren't linearly separable.  The idea will be to try to separate the different kinds of vowels (back/front/close/open) with different separators.\n",
        "\n",
        "**2.2** A bit of code to create training/test sets."
      ]
    },
    {
      "cell_type": "code",
      "metadata": {
        "id": "z55b8iWFBIFC",
        "colab_type": "code",
        "colab": {}
      },
      "source": [
        "from sklearn.model_selection import train_test_split\n",
        "train_data, test_data, train_targets, test_targets = train_test_split(df[['f1','f2']],df[['close','near-close+','close-mid+','mid+','open-mid+','back','central-or-back','rounded','vowel']])"
      ],
      "execution_count": 0,
      "outputs": []
    },
    {
      "cell_type": "markdown",
      "metadata": {
        "id": "SLtkJHnL4rb9",
        "colab_type": "text"
      },
      "source": [
        "**2.3** At this point, the project becomes a bit open-ended and exploratory.  What you should do is normalize F1 and F2 (perhaps it would be best to do that before the data splits, but that is your choice).  The main reason is that the bias term needs to be pretty high.\n",
        "\n",
        "Try to predict one of the targets (e.g. train_targets['central-or-back']) from the f2/f1 data.  If you can get reasonable classifiers for the 8 vowel features (h1-h5,b1,b2,r) then see if you can predict the vowel category based on the output of the classifiers.  \n",
        "\n",
        "WARNING: since your classes will not be linearly separable, you will need to NOT run to convergence (as they won't converge).  See if you can figure out a reasonable place to stop training.\n",
        "\n",
        "If you get stuck on this point, and want to try something different, move on to Part 3."
      ]
    },
    {
      "cell_type": "code",
      "metadata": {
        "id": "o_dO_JvEDi9F",
        "colab_type": "code",
        "outputId": "233daf31-0805-4f40-eb02-637bf53ccf90",
        "colab": {
          "base_uri": "https://localhost:8080/",
          "height": 252
        }
      },
      "source": [
        "# normalize training data (borrowed from https://stackoverflow.com/questions/26414913/normalize-columns-of-pandas-data-frame)\n",
        "from sklearn import preprocessing\n",
        "x = train_data.values \n",
        "min_max_scaler = preprocessing.MinMaxScaler()\n",
        "x_scaled = min_max_scaler.fit_transform(x)\n",
        "train_data = pd.DataFrame(x_scaled)\n",
        "print(train_data)"
      ],
      "execution_count": 101,
      "outputs": [
        {
          "output_type": "stream",
          "text": [
            "             0         1\n",
            "0     0.196265  0.682138\n",
            "1     0.419993  0.562544\n",
            "2     0.232348  0.758233\n",
            "3     0.136845  0.164003\n",
            "4     0.460381  0.621075\n",
            "...        ...       ...\n",
            "2422  0.054910  0.385269\n",
            "2423  0.214446  0.628884\n",
            "2424  0.240520  0.581384\n",
            "2425  0.236742  0.596677\n",
            "2426  0.201711  0.087649\n",
            "\n",
            "[2427 rows x 2 columns]\n"
          ],
          "name": "stdout"
        }
      ]
    },
    {
      "cell_type": "code",
      "metadata": {
        "id": "SfZO4CdrQeP0",
        "colab_type": "code",
        "outputId": "13f60c6e-ad20-44c1-9606-7645d721f8e3",
        "colab": {
          "base_uri": "https://localhost:8080/",
          "height": 67
        }
      },
      "source": [
        "print(train_targets.columns)"
      ],
      "execution_count": 102,
      "outputs": [
        {
          "output_type": "stream",
          "text": [
            "Index(['close', 'near-close+', 'close-mid+', 'mid+', 'open-mid+', 'back',\n",
            "       'central-or-back', 'rounded', 'vowel'],\n",
            "      dtype='object')\n"
          ],
          "name": "stdout"
        }
      ]
    },
    {
      "cell_type": "code",
      "metadata": {
        "id": "xtevCTxiNmXs",
        "colab_type": "code",
        "outputId": "17afd83c-8546-4dca-a1c2-f47ff4365f64",
        "colab": {
          "base_uri": "https://localhost:8080/",
          "height": 0
        }
      },
      "source": [
        "# predict one of the attributes from training data\n",
        "ITER = 100\n",
        "close_weights = experiment(ITER, weights_init, train_data.values, train_targets[\"close\"].values, LEARNING_RATE)\n",
        "near_close_weights = experiment(ITER, weights_init, train_data.values, train_targets[\"near-close+\"].values, LEARNING_RATE)\n",
        "close_mid_weights = experiment(ITER, weights_init, train_data.values, train_targets[\"close-mid+\"].values, LEARNING_RATE)\n",
        "mid_weights = experiment(ITER, weights_init, train_data.values, train_targets[\"mid+\"].values, LEARNING_RATE)\n",
        "open_mid_weights = experiment(ITER, weights_init, train_data.values, train_targets[\"open-mid+\"].values, LEARNING_RATE)\n",
        "back_weights = experiment(ITER, weights_init, train_data.values, train_targets[\"back\"].values, LEARNING_RATE)\n",
        "central_or_back_weights = experiment(ITER, weights_init, train_data.values, train_targets[\"central-or-back\"].values, LEARNING_RATE)\n",
        "rounded_weights = experiment(ITER, weights_init, train_data.values, train_targets[\"rounded\"].values, LEARNING_RATE)\n",
        "\n",
        "display(\n",
        "    close_weights,\n",
        "    near_close_weights,\n",
        "    close_mid_weights,\n",
        "    mid_weights,\n",
        "    open_mid_weights,\n",
        "    back_weights,\n",
        "    central_or_back_weights,\n",
        "    rounded_weights\n",
        ")"
      ],
      "execution_count": 103,
      "outputs": [
        {
          "output_type": "display_data",
          "data": {
            "text/plain": [
              "array([-0.04599634,  0.0087867 ,  0.0005    ])"
            ]
          },
          "metadata": {
            "tags": []
          }
        },
        {
          "output_type": "display_data",
          "data": {
            "text/plain": [
              "array([-0.05337705,  0.02435572,  0.0005    ])"
            ]
          },
          "metadata": {
            "tags": []
          }
        },
        {
          "output_type": "display_data",
          "data": {
            "text/plain": [
              "array([-0.01406614,  0.01638804, -0.0106    ])"
            ]
          },
          "metadata": {
            "tags": []
          }
        },
        {
          "output_type": "display_data",
          "data": {
            "text/plain": [
              "array([-0.02488238,  0.0152975 ,  0.0005    ])"
            ]
          },
          "metadata": {
            "tags": []
          }
        },
        {
          "output_type": "display_data",
          "data": {
            "text/plain": [
              "array([-0.0236438 ,  0.01287888, -0.0106    ])"
            ]
          },
          "metadata": {
            "tags": []
          }
        },
        {
          "output_type": "display_data",
          "data": {
            "text/plain": [
              "array([-0.00927331, -0.07120655, -0.0439    ])"
            ]
          },
          "metadata": {
            "tags": []
          }
        },
        {
          "output_type": "display_data",
          "data": {
            "text/plain": [
              "array([-0.00564501, -0.07292759, -0.0439    ])"
            ]
          },
          "metadata": {
            "tags": []
          }
        },
        {
          "output_type": "display_data",
          "data": {
            "text/plain": [
              "array([-0.00760208, -0.05935633, -0.0439    ])"
            ]
          },
          "metadata": {
            "tags": []
          }
        }
      ]
    },
    {
      "cell_type": "code",
      "metadata": {
        "id": "pT7z66xNSxeD",
        "colab_type": "code",
        "outputId": "78df4df5-6322-4b33-b4e3-b61e43851f65",
        "colab": {
          "base_uri": "https://localhost:8080/",
          "height": 0
        }
      },
      "source": [
        "plotvowels(df, close_weights)"
      ],
      "execution_count": 104,
      "outputs": [
        {
          "output_type": "display_data",
          "data": {
            "image/png": "[encoded data removed]",
            "text/plain": [
              "<Figure size 432x432 with 1 Axes>"
            ]
          },
          "metadata": {
            "tags": [],
            "needs_background": "light"
          }
        }
      ]
    },
    {
      "cell_type": "code",
      "metadata": {
        "id": "FanO1XglRq8s",
        "colab_type": "code",
        "colab": {}
      },
      "source": [
        "# if you get this far, take the classifiers and try to predict vowel class (\"and\" function)!"
      ],
      "execution_count": 0,
      "outputs": []
    },
    {
      "cell_type": "markdown",
      "metadata": {
        "id": "5ropho7s6URu",
        "colab_type": "text"
      },
      "source": [
        "## **Part 3: PyTorch Neural Networks**\n",
        "\n",
        "This is a quick runthrough of PyTorch, and how to build a neural network.  The code below is a modified version of https://courses.cs.washington.edu/courses/cse446/18wi/sections/section8/XOR-Pytorch.html with some additional annotations to help you along.\n",
        "\n",
        "This part is mostly read-and-run, but at the end you can test your understanding by modifying the code.\n",
        "\n",
        "**3.1** First some library preliminaries."
      ]
    },
    {
      "cell_type": "code",
      "metadata": {
        "id": "GyIQ-0oOiU7F",
        "colab_type": "code",
        "outputId": "0d27b598-6d0b-4276-d5de-5e1f89c5d3fc",
        "colab": {
          "base_uri": "https://localhost:8080/",
          "height": 0
        }
      },
      "source": [
        "import torch\n",
        "from torch.autograd import Variable\n",
        "import torch.nn as nn\n",
        "import torch.nn.functional as F\n",
        "import torch.optim as optim\n",
        "import numpy as np\n",
        "import matplotlib.pyplot as plt\n",
        "%matplotlib inline\n",
        "torch.manual_seed(2)"
      ],
      "execution_count": 106,
      "outputs": [
        {
          "output_type": "execute_result",
          "data": {
            "text/plain": [
              "<torch._C.Generator at 0x7f7f5bf64a90>"
            ]
          },
          "metadata": {
            "tags": []
          },
          "execution_count": 106
        }
      ]
    },
    {
      "cell_type": "markdown",
      "metadata": {
        "id": "Zo7_euBB64as",
        "colab_type": "text"
      },
      "source": [
        "**3.2** Now set up the data into *tensors* (i.e. multidimensional arrays).  X is the data array, Y is the target."
      ]
    },
    {
      "cell_type": "code",
      "metadata": {
        "id": "OOrD5aDP62CX",
        "colab_type": "code",
        "colab": {}
      },
      "source": [
        "X = torch.Tensor([[0,0],[0,1], [1,0], [1,1]])\n",
        "Y = torch.Tensor([0,1,1,0]).view(-1,1)"
      ],
      "execution_count": 0,
      "outputs": []
    },
    {
      "cell_type": "markdown",
      "metadata": {
        "id": "MpflPWlf7Nsj",
        "colab_type": "text"
      },
      "source": [
        "**3.3** Let's define a multi-layer perceptron with 2 layers.  Each layer will create a linear combination of the inputs, and feed to a sigmoid output.\n",
        "\n",
        "Note that the initializer (with the calls to nn.Linear) will create a set of parameters that are associated with the model."
      ]
    },
    {
      "cell_type": "code",
      "metadata": {
        "id": "fn7n4-VH7OQL",
        "colab_type": "code",
        "colab": {}
      },
      "source": [
        "class MLP2(nn.Module):\n",
        "    def __init__(self, input_dim = 2, hid_dim=2, output_dim=1):\n",
        "        # initialze the superclass\n",
        "        super(MLP2, self).__init__()\n",
        "        # this will create a linear layer with input_dim x hid_dim parameters\n",
        "        # in addition to a bias unit with hid_dim parameters\n",
        "        self.lin1 = nn.Linear(input_dim, hid_dim)\n",
        "        # same thing here except hid_dim x output_dim\n",
        "        self.lin2 = nn.Linear(hid_dim, output_dim)\n",
        "    \n",
        "    # this is where the meat of the action is\n",
        "    def forward(self, x):\n",
        "        x = self.lin1(x)  # linear combination of inputs\n",
        "        x = torch.sigmoid(x) # then through sigmoid - output of first layer\n",
        "        x = self.lin2(x) # linear combination of hidden units\n",
        "        x = torch.sigmoid(x) # then through sigmoid - net output\n",
        "        return x"
      ],
      "execution_count": 0,
      "outputs": []
    },
    {
      "cell_type": "markdown",
      "metadata": {
        "id": "Usrqoiw48CcX",
        "colab_type": "text"
      },
      "source": [
        "**3.4** We also define a function to initialize weights of our model."
      ]
    },
    {
      "cell_type": "code",
      "metadata": {
        "id": "bJP5EfDS7-Hw",
        "colab_type": "code",
        "colab": {}
      },
      "source": [
        "def weights_init(model):\n",
        "    for m in model.modules():\n",
        "        if isinstance(m, nn.Linear):\n",
        "            # initialize the weight tensor, here we use a normal distribution\n",
        "            m.weight.data.normal_(0, 1)"
      ],
      "execution_count": 0,
      "outputs": []
    },
    {
      "cell_type": "markdown",
      "metadata": {
        "id": "IhhgEm298OSk",
        "colab_type": "text"
      },
      "source": [
        "**3.5** Now create a model and initialize it.  Also define a loss function and the optimizer."
      ]
    },
    {
      "cell_type": "code",
      "metadata": {
        "id": "QD8pE8kb8MuO",
        "colab_type": "code",
        "colab": {}
      },
      "source": [
        "model1 = MLP2()\n",
        "weights_init(model1)\n",
        "loss_func = nn.MSELoss()\n",
        "optimizer = optim.SGD(model1.parameters(), lr=0.02, momentum=0.9)"
      ],
      "execution_count": 0,
      "outputs": []
    },
    {
      "cell_type": "markdown",
      "metadata": {
        "id": "GPT4oaWy9LD-",
        "colab_type": "text"
      },
      "source": [
        "**3.6** Now we run the training."
      ]
    },
    {
      "cell_type": "code",
      "metadata": {
        "id": "jj3tKoee8nMH",
        "colab_type": "code",
        "outputId": "1e1b903c-169c-4c43-fb40-34514a9875e1",
        "colab": {
          "base_uri": "https://localhost:8080/",
          "height": 0
        }
      },
      "source": [
        "epochs = 5001\n",
        "steps = X.size(0)\n",
        "for i in range(epochs):\n",
        "    for j in range(steps):\n",
        "        data_point = np.random.randint(X.size(0))\n",
        "        x_var = Variable(X[data_point], requires_grad=False)\n",
        "        y_var = Variable(Y[data_point], requires_grad=False)\n",
        "        \n",
        "        optimizer.zero_grad()\n",
        "        y_hat = model1(x_var)\n",
        "        loss = loss_func.forward(y_hat, y_var)\n",
        "        loss.backward()\n",
        "        optimizer.step()\n",
        "\n",
        "    if i % 500 == 0:\n",
        "        print(\"Epoch: {0}, Loss: {1}, \".format(i, loss.data.numpy()))"
      ],
      "execution_count": 111,
      "outputs": [
        {
          "output_type": "stream",
          "text": [
            "Epoch: 0, Loss: 0.043000828474760056, \n",
            "Epoch: 500, Loss: 0.11853368580341339, \n",
            "Epoch: 1000, Loss: 0.23177050054073334, \n",
            "Epoch: 1500, Loss: 0.005536993034183979, \n",
            "Epoch: 2000, Loss: 0.0010358089348301291, \n",
            "Epoch: 2500, Loss: 0.0026646435726433992, \n",
            "Epoch: 3000, Loss: 0.3546530306339264, \n",
            "Epoch: 3500, Loss: 0.0013977307826280594, \n",
            "Epoch: 4000, Loss: 0.2584565281867981, \n",
            "Epoch: 4500, Loss: 0.3137970268726349, \n",
            "Epoch: 5000, Loss: 0.3233095407485962, \n"
          ],
          "name": "stdout"
        }
      ]
    },
    {
      "cell_type": "markdown",
      "metadata": {
        "id": "sqFt7zng-cIO",
        "colab_type": "text"
      },
      "source": [
        "**3.7** This is a neat little bit of code that will print out the first layer's decision boundaries."
      ]
    },
    {
      "cell_type": "code",
      "metadata": {
        "id": "DX6bK_Z--TV9",
        "colab_type": "code",
        "outputId": "3045d392-661a-4b17-f9e7-224a3bfb32cf",
        "colab": {
          "base_uri": "https://localhost:8080/",
          "height": 0
        }
      },
      "source": [
        "model_params = list(model1.parameters())\n",
        "model_weights = model_params[0].data.numpy()\n",
        "model_bias = model_params[1].data.numpy()\n",
        "\n",
        "plt.scatter(X.numpy()[[0,-1], 0], X.numpy()[[0, -1], 1], s=50)\n",
        "plt.scatter(X.numpy()[[1,2], 0], X.numpy()[[1, 2], 1], c='red', s=50)\n",
        "\n",
        "x_1 = np.arange(-0.1, 1.1, 0.1)\n",
        "y_1 = ((x_1 * model_weights[0,0]) + model_bias[0]) / (-model_weights[0,1])\n",
        "plt.plot(x_1, y_1)\n",
        "\n",
        "x_2 = np.arange(-0.1, 1.1, 0.1)\n",
        "y_2 = ((x_2 * model_weights[1,0]) + model_bias[1]) / (-model_weights[1,1])\n",
        "plt.plot(x_2, y_2)\n",
        "plt.legend([\"neuron_1\", \"neuron_2\"], loc=8)\n",
        "plt.show()"
      ],
      "execution_count": 112,
      "outputs": [
        {
          "output_type": "display_data",
          "data": {
            "image/png": "[encoded data removed]",
            "text/plain": [
              "<Figure size 432x288 with 1 Axes>"
            ]
          },
          "metadata": {
            "tags": [],
            "needs_background": "light"
          }
        }
      ]
    },
    {
      "cell_type": "markdown",
      "metadata": {
        "id": "8WHZknJg-09E",
        "colab_type": "text"
      },
      "source": [
        "**3.8** Now take a look at the parameters that were learned.  Can you trace how the xor decision works for each of the datapoints?  \n",
        "\n",
        "The first tensor is the input-hidden weights, second is the bias-hidden weights, third is hidden-output, and last is bias-output."
      ]
    },
    {
      "cell_type": "code",
      "metadata": {
        "id": "MtJ_Y3kw-wzE",
        "colab_type": "code",
        "outputId": "34926511-29f6-4164-8299-2f526cf2c357",
        "colab": {
          "base_uri": "https://localhost:8080/",
          "height": 0
        }
      },
      "source": [
        "model_params"
      ],
      "execution_count": 113,
      "outputs": [
        {
          "output_type": "execute_result",
          "data": {
            "text/plain": [
              "[Parameter containing:\n",
              " tensor([[-4.1718, -7.6417],\n",
              "         [-3.8022,  7.8903]], requires_grad=True), Parameter containing:\n",
              " tensor([0.8058, 2.4992], requires_grad=True), Parameter containing:\n",
              " tensor([[-5.7520, -4.6358]], requires_grad=True), Parameter containing:\n",
              " tensor([4.4008], requires_grad=True)]"
            ]
          },
          "metadata": {
            "tags": []
          },
          "execution_count": 113
        }
      ]
    },
    {
      "cell_type": "markdown",
      "metadata": {
        "id": "o0ZO61uX_XRa",
        "colab_type": "text"
      },
      "source": [
        "**3.9** Can you modify the above code to add a third layer?  What happens if you replace the sigmoid in the middle layer(s) with tanh?"
      ]
    },
    {
      "cell_type": "markdown",
      "metadata": {
        "id": "KTlDScM7csqW",
        "colab_type": "text"
      },
      "source": [
        "To do this, I modified the constructor to include another linear layer. "
      ]
    },
    {
      "cell_type": "code",
      "metadata": {
        "colab_type": "code",
        "id": "aLZmWNqpcaK9",
        "colab": {}
      },
      "source": [
        "class MLP3(nn.Module):\n",
        "    def __init__(self, input_dim = 2, hid_dim=2, output_dim=1):\n",
        "        # initialze the superclass\n",
        "        super(MLP3, self).__init__()\n",
        "        # this will create a linear layer with input_dim x hid_dim parameters\n",
        "        # in addition to a bias unit with hid_dim parameters\n",
        "        self.lin1 = nn.Linear(input_dim, hid_dim)\n",
        "        # a hidden layer between input layer and output layer\n",
        "        self.lin_hid = nn.Linear(hid_dim, hid_dim)\n",
        "        # same thing here except hid_dim x output_dim\n",
        "        self.lin2 = nn.Linear(hid_dim, output_dim)\n",
        "    \n",
        "    # this is where the meat of the action is\n",
        "    def forward(self, x):\n",
        "        x = self.lin1(x)  # linear combination of inputs\n",
        "        x = torch.sigmoid(x) # then through sigmoid - output of first layer\n",
        "        x = self.lin_hid(x)\n",
        "        x = torch.sigmoid(x)\n",
        "        x = self.lin2(x) # linear combination of hidden units\n",
        "        x = torch.sigmoid(x) # then through sigmoid - net output\n",
        "        return x"
      ],
      "execution_count": 0,
      "outputs": []
    },
    {
      "cell_type": "code",
      "metadata": {
        "id": "Ef4cigg8fZu-",
        "colab_type": "code",
        "colab": {}
      },
      "source": [
        "model2 = MLP3()\n",
        "weights_init(model2)\n",
        "loss_func = nn.MSELoss()\n",
        "optimizer = optim.SGD(model2.parameters(), lr=0.02, momentum=0.9)"
      ],
      "execution_count": 0,
      "outputs": []
    },
    {
      "cell_type": "code",
      "metadata": {
        "id": "qm9ULLwmfdMM",
        "colab_type": "code",
        "outputId": "6c85924e-488f-4394-8faf-a622770644ee",
        "colab": {
          "base_uri": "https://localhost:8080/",
          "height": 0
        }
      },
      "source": [
        "epochs = 5001\n",
        "steps = X.size(0)\n",
        "for i in range(epochs):\n",
        "    for j in range(steps):\n",
        "        data_point = np.random.randint(X.size(0))\n",
        "        x_var = Variable(X[data_point], requires_grad=False)\n",
        "        y_var = Variable(Y[data_point], requires_grad=False)\n",
        "        \n",
        "        optimizer.zero_grad()\n",
        "        y_hat = model2(x_var)\n",
        "        loss = loss_func.forward(y_hat, y_var)\n",
        "        loss.backward()\n",
        "        optimizer.step()\n",
        "\n",
        "    if i % 500 == 0:\n",
        "        print(\"Epoch: {0}, Loss: {1}, \".format(i, loss.data.numpy()))"
      ],
      "execution_count": 116,
      "outputs": [
        {
          "output_type": "stream",
          "text": [
            "Epoch: 0, Loss: 0.3410916328430176, \n",
            "Epoch: 500, Loss: 0.26062074303627014, \n",
            "Epoch: 1000, Loss: 0.20958921313285828, \n",
            "Epoch: 1500, Loss: 0.3086843192577362, \n",
            "Epoch: 2000, Loss: 0.04016886651515961, \n",
            "Epoch: 2500, Loss: 0.013318470679223537, \n",
            "Epoch: 3000, Loss: 0.001969753298908472, \n",
            "Epoch: 3500, Loss: 0.0013241892447695136, \n",
            "Epoch: 4000, Loss: 0.001103846705518663, \n",
            "Epoch: 4500, Loss: 0.0006041442393325269, \n",
            "Epoch: 5000, Loss: 0.0003924457705579698, \n"
          ],
          "name": "stdout"
        }
      ]
    },
    {
      "cell_type": "code",
      "metadata": {
        "id": "LUcrOFqxfkgU",
        "colab_type": "code",
        "outputId": "889193e8-7b46-4128-fbe1-7a255f42ad00",
        "colab": {
          "base_uri": "https://localhost:8080/",
          "height": 0
        }
      },
      "source": [
        "model_params = list(model2.parameters())\n",
        "model_weights = model_params[0].data.numpy()\n",
        "model_bias = model_params[1].data.numpy()\n",
        "\n",
        "plt.scatter(X.numpy()[[0,-1], 0], X.numpy()[[0, -1], 1], s=50)\n",
        "plt.scatter(X.numpy()[[1,2], 0], X.numpy()[[1, 2], 1], c='red', s=50)\n",
        "\n",
        "x_1 = np.arange(-0.1, 1.1, 0.1)\n",
        "y_1 = ((x_1 * model_weights[0,0]) + model_bias[0]) / (-model_weights[0,1])\n",
        "plt.plot(x_1, y_1)\n",
        "\n",
        "x_2 = np.arange(-0.1, 1.1, 0.1)\n",
        "y_2 = ((x_2 * model_weights[1,0]) + model_bias[1]) / (-model_weights[1,1])\n",
        "plt.plot(x_2, y_2)\n",
        "plt.legend([\"neuron_1\", \"neuron_2\"], loc=8)\n",
        "plt.show()"
      ],
      "execution_count": 117,
      "outputs": [
        {
          "output_type": "display_data",
          "data": {
            "image/png": "[encoded data removed]",
            "text/plain": [
              "<Figure size 432x288 with 1 Axes>"
            ]
          },
          "metadata": {
            "tags": [],
            "needs_background": "light"
          }
        }
      ]
    },
    {
      "cell_type": "markdown",
      "metadata": {
        "id": "Fm6nZTSdf4at",
        "colab_type": "text"
      },
      "source": [
        "I have executed these models a few times, and I continue to get different results. However, in general, the second model (model2) draws better decision boundaries (although it doesn't always converge on the proper boundaries): each line separates a different point of the same color in parallel. Meanwhile, the first model (model1) gets confused around the decision boundaries. For example, one line separates off a blue point while the other line separates off an orange point—both lines cross in the middle.\n",
        "\n",
        "If I increase the epochs, I don't really see a difference. The first model (model1) still fails to get the right decision boundaries. That said, the second model (model2) does almost certainly converge with more epochs. \n",
        "\n",
        "At any rate, the following model introduces tanh into the new middle layer:"
      ]
    },
    {
      "cell_type": "code",
      "metadata": {
        "id": "i5w_OjG0l2Ck",
        "colab_type": "code",
        "colab": {}
      },
      "source": [
        "class MLP4(nn.Module):\n",
        "    def __init__(self, input_dim = 2, hid_dim=2, output_dim=1):\n",
        "        # initialze the superclass\n",
        "        super(MLP4, self).__init__()\n",
        "        # this will create a linear layer with input_dim x hid_dim parameters\n",
        "        # in addition to a bias unit with hid_dim parameters\n",
        "        self.lin1 = nn.Linear(input_dim, hid_dim)\n",
        "        # a hidden layer between input layer and output layer\n",
        "        self.lin_hid = nn.Linear(hid_dim, hid_dim)\n",
        "        # same thing here except hid_dim x output_dim\n",
        "        self.lin2 = nn.Linear(hid_dim, output_dim)\n",
        "    \n",
        "    # this is where the meat of the action is\n",
        "    def forward(self, x):\n",
        "        x = self.lin1(x)  # linear combination of inputs\n",
        "        x = torch.sigmoid(x) # then through sigmoid - output of first layer\n",
        "        x = self.lin_hid(x)\n",
        "        x = torch.tanh(x)\n",
        "        x = self.lin2(x) # linear combination of hidden units\n",
        "        x = torch.sigmoid(x) # then through sigmoid - net output\n",
        "        return x"
      ],
      "execution_count": 0,
      "outputs": []
    },
    {
      "cell_type": "code",
      "metadata": {
        "id": "GxKFUNncl93y",
        "colab_type": "code",
        "colab": {}
      },
      "source": [
        "model3 = MLP4()\n",
        "weights_init(model3)\n",
        "loss_func = nn.MSELoss()\n",
        "optimizer = optim.SGD(model3.parameters(), lr=0.02, momentum=0.9)"
      ],
      "execution_count": 0,
      "outputs": []
    },
    {
      "cell_type": "code",
      "metadata": {
        "id": "sWmo3ihgmCUS",
        "colab_type": "code",
        "outputId": "7d3e66fa-f85e-4022-ffb1-997537697119",
        "colab": {
          "base_uri": "https://localhost:8080/",
          "height": 0
        }
      },
      "source": [
        "epochs = 5001\n",
        "steps = X.size(0)\n",
        "for i in range(epochs):\n",
        "    for j in range(steps):\n",
        "        data_point = np.random.randint(X.size(0))\n",
        "        x_var = Variable(X[data_point], requires_grad=False)\n",
        "        y_var = Variable(Y[data_point], requires_grad=False)\n",
        "        \n",
        "        optimizer.zero_grad()\n",
        "        y_hat = model3(x_var)\n",
        "        loss = loss_func.forward(y_hat, y_var)\n",
        "        loss.backward()\n",
        "        optimizer.step()\n",
        "\n",
        "    if i % 500 == 0:\n",
        "        print(\"Epoch: {0}, Loss: {1}, \".format(i, loss.data.numpy()))"
      ],
      "execution_count": 120,
      "outputs": [
        {
          "output_type": "stream",
          "text": [
            "Epoch: 0, Loss: 0.197347030043602, \n",
            "Epoch: 500, Loss: 0.22173243761062622, \n",
            "Epoch: 1000, Loss: 0.5112069845199585, \n",
            "Epoch: 1500, Loss: 0.005057595670223236, \n",
            "Epoch: 2000, Loss: 0.0010075190803036094, \n",
            "Epoch: 2500, Loss: 0.00044094357872381806, \n",
            "Epoch: 3000, Loss: 0.0002752399304881692, \n",
            "Epoch: 3500, Loss: 0.000210520374821499, \n",
            "Epoch: 4000, Loss: 0.00016361064626835287, \n",
            "Epoch: 4500, Loss: 0.0002705361694097519, \n",
            "Epoch: 5000, Loss: 4.3232117604929954e-05, \n"
          ],
          "name": "stdout"
        }
      ]
    },
    {
      "cell_type": "code",
      "metadata": {
        "id": "5cI-Q6txmGNK",
        "colab_type": "code",
        "outputId": "6fed4b41-da11-4af5-b07b-73707b536f82",
        "colab": {
          "base_uri": "https://localhost:8080/",
          "height": 0
        }
      },
      "source": [
        "model_params = list(model3.parameters())\n",
        "model_weights = model_params[0].data.numpy()\n",
        "model_bias = model_params[1].data.numpy()\n",
        "\n",
        "plt.scatter(X.numpy()[[0,-1], 0], X.numpy()[[0, -1], 1], s=50)\n",
        "plt.scatter(X.numpy()[[1,2], 0], X.numpy()[[1, 2], 1], c='red', s=50)\n",
        "\n",
        "x_1 = np.arange(-0.1, 1.1, 0.1)\n",
        "y_1 = ((x_1 * model_weights[0,0]) + model_bias[0]) / (-model_weights[0,1])\n",
        "plt.plot(x_1, y_1)\n",
        "\n",
        "x_2 = np.arange(-0.1, 1.1, 0.1)\n",
        "y_2 = ((x_2 * model_weights[1,0]) + model_bias[1]) / (-model_weights[1,1])\n",
        "plt.plot(x_2, y_2)\n",
        "plt.legend([\"neuron_1\", \"neuron_2\"], loc=8)\n",
        "plt.show()"
      ],
      "execution_count": 121,
      "outputs": [
        {
          "output_type": "display_data",
          "data": {
            "image/png": "[encoded data removed]",
            "text/plain": [
              "<Figure size 432x288 with 1 Axes>"
            ]
          },
          "metadata": {
            "tags": [],
            "needs_background": "light"
          }
        }
      ]
    },
    {
      "cell_type": "markdown",
      "metadata": {
        "id": "2zjEYlJDmw-O",
        "colab_type": "text"
      },
      "source": [
        "The only difference I can see between this new model with tanh as the activation function is that the two lines swapped places (i.e. orange is the top decision boundary while blue is the bottom decision boundary). It also seems to have converged slightly faster. "
      ]
    },
    {
      "cell_type": "markdown",
      "metadata": {
        "id": "NniWfU91_mhn",
        "colab_type": "text"
      },
      "source": [
        "## **Part 4: MLP classification of vowels**\n",
        "\n",
        "If you've gotten this far, then here is a challenge for you.  Taking the data from Part 2, can you build a MLP that can classify the vowels directly into vowel classes?\n",
        "\n",
        "You should have a hidden layer with a reasonable number of hidden units (maybe 100), and your output should be a softmax layer with 9 outputs (one for each vowel class). The target should be 1 for the correct class, and 0 otherwise. The loss function should also be changed to a Cross Entropy loss.  You may need to do a bit of googling of \"pytorch ___\" to find the different kinds of functions you need."
      ]
    },
    {
      "cell_type": "markdown",
      "metadata": {
        "id": "iE0u2lCk_mM7",
        "colab_type": "text"
      },
      "source": [
        "**4.1**: Let's setup some code for training a vowel classification model. Based on class (04/16/2020), I have updated this model to exclude the sigmoid call after the second linear combination."
      ]
    },
    {
      "cell_type": "code",
      "metadata": {
        "id": "2oBeGwHQ_lNj",
        "colab_type": "code",
        "colab": {}
      },
      "source": [
        "class MLPVowel(nn.Module):\n",
        "    def __init__(self, input_dim = 2, hid_dim=100, output_dim=9):\n",
        "        super(MLPVowel, self).__init__()\n",
        "        \n",
        "        self.lin1 = nn.Linear(input_dim, hid_dim)\n",
        "        self.lin2 = nn.Linear(hid_dim, output_dim)\n",
        "    \n",
        "    # this is where the meat of the action is\n",
        "    def forward(self, x):\n",
        "        x = self.lin1(x)  # linear combination of inputs\n",
        "        x = torch.sigmoid(x) # then through sigmoid - output of first layer\n",
        "        x = self.lin2(x) # linear combination of hidden units\n",
        "        #x = torch.sigmoid(x) # then through sigmoid - net output\n",
        "        return x"
      ],
      "execution_count": 0,
      "outputs": []
    },
    {
      "cell_type": "code",
      "metadata": {
        "id": "9ivlzedOWRdl",
        "colab_type": "code",
        "colab": {}
      },
      "source": [
        "def weights_init(model):\n",
        "    \"\"\"\n",
        "    Initializes model weights.\n",
        "\n",
        "    :param model: the model\n",
        "    \"\"\"\n",
        "    for m in model.modules():\n",
        "        if isinstance(m, nn.Linear):\n",
        "            # initialize the weight tensor, here we use a normal distribution\n",
        "            m.weight.data.normal_(0, 1)"
      ],
      "execution_count": 0,
      "outputs": []
    },
    {
      "cell_type": "code",
      "metadata": {
        "id": "vlO79T87ouKb",
        "colab_type": "code",
        "colab": {}
      },
      "source": [
        "def get_tensors(data, targets):\n",
        "  \"\"\"\n",
        "  Generates tensors from input data and target data. Input data is normalized\n",
        "  using the preprocessing library of sklearn. Target data is then categorized\n",
        "  and converted to indices. Finally, both data sets are transformed into\n",
        "  the appropriate tensors for the CrossEntropy function.\n",
        "\n",
        "  :param data: input data as DataFrame\n",
        "  :param targets: target data as DataFrame\n",
        "  :return: a tuple of input and output tensors\n",
        "  \"\"\"\n",
        "  # Normalize test data\n",
        "  x = data.values \n",
        "  min_max_scaler = preprocessing.MinMaxScaler()\n",
        "  x_scaled = min_max_scaler.fit_transform(x)\n",
        "  normal_x = pd.DataFrame(x_scaled)\n",
        "\n",
        "  # Convert test data to categorical values\n",
        "  vowels = targets['vowel'].astype('category').cat.codes # I fear this isn't returning the same thing for both test and train data....\n",
        "\n",
        "  # Setup tensors\n",
        "  X = torch.Tensor(normal_x.values)\n",
        "  Y = torch.Tensor(vowels.values).long().view(-1, 1)\n",
        "  return X, Y"
      ],
      "execution_count": 0,
      "outputs": []
    },
    {
      "cell_type": "code",
      "metadata": {
        "id": "3ZU5Tc6mSpy8",
        "colab_type": "code",
        "colab": {}
      },
      "source": [
        "# Define data and convert it into useful tensors\n",
        "train_data, test_data, train_targets, test_targets = train_test_split(df[['f1','f2']],df[['close','near-close+','close-mid+','mid+','open-mid+','back','central-or-back','rounded','vowel']])\n",
        "train_x, train_y = get_tensors(train_data, train_targets)\n",
        "test_x, test_y = get_tensors(test_data, test_targets)"
      ],
      "execution_count": 0,
      "outputs": []
    },
    {
      "cell_type": "code",
      "metadata": {
        "id": "J4ENBBxItkdp",
        "colab_type": "code",
        "colab": {}
      },
      "source": [
        "# Initialize model\n",
        "vowel_model = MLPVowel()\n",
        "weights_init(vowel_model)\n",
        "loss_func = nn.CrossEntropyLoss()\n",
        "optimizer = optim.SGD(vowel_model.parameters(), lr=0.02, momentum=0.9)"
      ],
      "execution_count": 0,
      "outputs": []
    },
    {
      "cell_type": "code",
      "metadata": {
        "id": "jYzCsIZ2Sf_2",
        "colab_type": "code",
        "outputId": "d975777e-3bd4-4d44-a0da-374d08526cdb",
        "colab": {
          "base_uri": "https://localhost:8080/",
          "height": 202
        }
      },
      "source": [
        "# Train model\n",
        "epochs = 101\n",
        "steps = train_x.size(0)\n",
        "for i in range(epochs):\n",
        "    for j in range(steps):\n",
        "        data_point = np.random.randint(X.size(0))\n",
        "        x_var = Variable(train_x[data_point], requires_grad=False)\n",
        "        y_var = Variable(train_y[data_point], requires_grad=False)\n",
        "        \n",
        "        optimizer.zero_grad()\n",
        "        y_hat = vowel_model(x_var).view(1, -1)\n",
        "        loss = loss_func.forward(y_hat, y_var)\n",
        "        loss.backward()\n",
        "        optimizer.step()\n",
        "\n",
        "    if i % 10 == 0:\n",
        "        print(\"Epoch: {0}, Loss: {1}, \".format(i, loss.data.numpy()))"
      ],
      "execution_count": 127,
      "outputs": [
        {
          "output_type": "stream",
          "text": [
            "Epoch: 0, Loss: 0.007742987480014563, \n",
            "Epoch: 10, Loss: 2.3007127310847864e-05, \n",
            "Epoch: 20, Loss: 4.351044481154531e-05, \n",
            "Epoch: 30, Loss: 0.00020382710499688983, \n",
            "Epoch: 40, Loss: 0.00017772526189219207, \n",
            "Epoch: 50, Loss: 1.3232143828645349e-05, \n",
            "Epoch: 60, Loss: 1.07287787614041e-05, \n",
            "Epoch: 70, Loss: 8.77341881277971e-05, \n",
            "Epoch: 80, Loss: 8.77341881277971e-05, \n",
            "Epoch: 90, Loss: 6.603976362384856e-05, \n",
            "Epoch: 100, Loss: 6.09140915912576e-05, \n"
          ],
          "name": "stdout"
        }
      ]
    },
    {
      "cell_type": "markdown",
      "metadata": {
        "id": "_FxLSGRO1L71",
        "colab_type": "text"
      },
      "source": [
        "**4.2** With the model trained, let's try testing its performance (updated the performance function based on class 04/16/2020)."
      ]
    },
    {
      "cell_type": "code",
      "metadata": {
        "id": "0Q_OOOzG3j5c",
        "colab_type": "code",
        "outputId": "6eaefde1-bf2a-4d9b-a1a0-28a2dd0a12de",
        "colab": {
          "base_uri": "https://localhost:8080/",
          "height": 67
        }
      },
      "source": [
        "# Test performance\n",
        "total = 0\n",
        "correct = 0\n",
        "steps = test_x.size(0)\n",
        "for i in range(steps):\n",
        "  x_var = test_x[i]\n",
        "  y_var = test_y[i]\n",
        "  y_hat = vowel_model(x_var).view(1, -1)\n",
        "  m =  nn.Softmax(dim=1)\n",
        "  y_hat = m(y_hat) # Add softmax back in\n",
        "  # Borrowed from docs: https://pytorch.org/tutorials/beginner/blitz/cifar10_tutorial.html\n",
        "  _, predicted = torch.max(y_hat.data, 1)\n",
        "  total += 1\n",
        "  correct += 1 if y_var == predicted else 0\n",
        "\n",
        "print(correct/total)"
      ],
      "execution_count": 128,
      "outputs": [
        {
          "output_type": "stream",
          "text": [
            "0.23333333333333334\n"
          ],
          "name": "stdout"
        },
        {
          "output_type": "stream",
          "text": [
            "/usr/local/lib/python3.6/dist-packages/ipykernel_launcher.py:9: UserWarning: Implicit dimension choice for softmax has been deprecated. Change the call to include dim=X as an argument.\n",
            "  if __name__ == '__main__':\n"
          ],
          "name": "stderr"
        }
      ]
    },
    {
      "cell_type": "markdown",
      "metadata": {
        "id": "ajBesTGNeJK5",
        "colab_type": "text"
      },
      "source": [
        "Also, let's get this performance code into a reusable function:"
      ]
    },
    {
      "cell_type": "code",
      "metadata": {
        "id": "tNemKx6GeIS9",
        "colab_type": "code",
        "colab": {}
      },
      "source": [
        "def performance(x, y, model):\n",
        "  \"\"\"\n",
        "  Calculates the accuracy of the model by computing the number of correct\n",
        "  classifications versus the number of total classifications. For example,\n",
        "  if there were 100 classifications and the model predicted 25 of them\n",
        "  correctly, we would say the model had an accuracy of 25%.\n",
        "\n",
        "  :param x: a test input data set \n",
        "  :param y: a test output data set (true classifications)\n",
        "  :param model: the model\n",
        "  \"\"\"\n",
        "  total = 0\n",
        "  correct = 0\n",
        "  steps = x.size(0)\n",
        "  for i in range(steps):\n",
        "    x_var = x[i]\n",
        "    y_var = y[i]\n",
        "    y_hat = model(x_var).view(1, -1)\n",
        "    m =  nn.Softmax(dim=1)\n",
        "    y_hat = m(y_hat)\n",
        "    # Borrowed from docs: https://pytorch.org/tutorials/beginner/blitz/cifar10_tutorial.html\n",
        "    _, predicted = torch.max(y_hat.data, 1)\n",
        "    #print(f'{y_var}: {predicted}: {(y_var == predicted)[0]}')\n",
        "    total += 1\n",
        "    if y_var == predicted:\n",
        "      correct += 1\n",
        "  \n",
        "  print(correct/total)"
      ],
      "execution_count": 0,
      "outputs": []
    },
    {
      "cell_type": "code",
      "metadata": {
        "id": "dHbd4cyPekEk",
        "colab_type": "code",
        "outputId": "6ba99125-b28b-4832-95f7-a7b1199d3c19",
        "colab": {
          "base_uri": "https://localhost:8080/",
          "height": 34
        }
      },
      "source": [
        "performance(test_x, test_y, vowel_model)"
      ],
      "execution_count": 130,
      "outputs": [
        {
          "output_type": "stream",
          "text": [
            "0.23333333333333334\n"
          ],
          "name": "stdout"
        }
      ]
    },
    {
      "cell_type": "markdown",
      "metadata": {
        "id": "fVJlbWnvXzrG",
        "colab_type": "text"
      },
      "source": [
        "**4.3** Unfortunately, this is really slow! Let's try passing the full dataset:"
      ]
    },
    {
      "cell_type": "code",
      "metadata": {
        "id": "vK7BH7YuX7gY",
        "colab_type": "code",
        "colab": {}
      },
      "source": [
        "def training(x, y, model, loss_func, optimizer, epochs):\n",
        "  for i in range(epochs):\n",
        "    x_var = Variable(x, requires_grad=False)\n",
        "    y_var = Variable(y, requires_grad=False)\n",
        "        \n",
        "    optimizer.zero_grad()\n",
        "    y_hat = model(x_var)\n",
        "    loss = loss_func.forward(y_hat, y_var.view(-1))\n",
        "    loss.backward()\n",
        "    optimizer.step()\n",
        "\n",
        "    if i % 2000 == 0:\n",
        "      print(\"Epoch: {0}, Loss: {1}, \".format(i, loss.data.numpy()))"
      ],
      "execution_count": 0,
      "outputs": []
    },
    {
      "cell_type": "code",
      "metadata": {
        "id": "Z5mZFsCdLa33",
        "colab_type": "code",
        "colab": {}
      },
      "source": [
        "EPOCHS = 100001 # Defined for all following tests"
      ],
      "execution_count": 0,
      "outputs": []
    },
    {
      "cell_type": "code",
      "metadata": {
        "id": "LSPMXdnvYeyB",
        "colab_type": "code",
        "outputId": "59d4907a-0cca-4729-a186-523ebd0ab4f4",
        "colab": {
          "base_uri": "https://localhost:8080/",
          "height": 874
        }
      },
      "source": [
        "vowel_model_batch = MLPVowel()\n",
        "weights_init(vowel_model_batch)\n",
        "loss_func = nn.CrossEntropyLoss()\n",
        "optimizer = optim.SGD(vowel_model_batch.parameters(), lr=0.02, momentum=0.9)\n",
        "\n",
        "# played with epochs until it seemed like loss was shrinking so slowly that it wasn't worth the effort\n",
        "training(train_x, train_y, vowel_model_batch, loss_func, optimizer, EPOCHS) "
      ],
      "execution_count": 133,
      "outputs": [
        {
          "output_type": "stream",
          "text": [
            "Epoch: 0, Loss: 8.86355972290039, \n",
            "Epoch: 2000, Loss: 1.2454626560211182, \n",
            "Epoch: 4000, Loss: 1.223740816116333, \n",
            "Epoch: 6000, Loss: 1.2164479494094849, \n",
            "Epoch: 8000, Loss: 1.2108315229415894, \n",
            "Epoch: 10000, Loss: 1.2051512002944946, \n",
            "Epoch: 12000, Loss: 1.199065089225769, \n",
            "Epoch: 14000, Loss: 1.192615270614624, \n",
            "Epoch: 16000, Loss: 1.1859923601150513, \n",
            "Epoch: 18000, Loss: 1.179386019706726, \n",
            "Epoch: 20000, Loss: 1.1729099750518799, \n",
            "Epoch: 22000, Loss: 1.1665616035461426, \n",
            "Epoch: 24000, Loss: 1.1602575778961182, \n",
            "Epoch: 26000, Loss: 1.1538958549499512, \n",
            "Epoch: 28000, Loss: 1.1473720073699951, \n",
            "Epoch: 30000, Loss: 1.1405911445617676, \n",
            "Epoch: 32000, Loss: 1.1334738731384277, \n",
            "Epoch: 34000, Loss: 1.1259536743164062, \n",
            "Epoch: 36000, Loss: 1.1179747581481934, \n",
            "Epoch: 38000, Loss: 1.1095050573349, \n",
            "Epoch: 40000, Loss: 1.1005408763885498, \n",
            "Epoch: 42000, Loss: 1.0911136865615845, \n",
            "Epoch: 44000, Loss: 1.0812959671020508, \n",
            "Epoch: 46000, Loss: 1.0712080001831055, \n",
            "Epoch: 48000, Loss: 1.0610039234161377, \n",
            "Epoch: 50000, Loss: 1.050861120223999, \n",
            "Epoch: 52000, Loss: 1.0409727096557617, \n",
            "Epoch: 54000, Loss: 1.0315344333648682, \n",
            "Epoch: 56000, Loss: 1.022718906402588, \n",
            "Epoch: 58000, Loss: 1.0146193504333496, \n",
            "Epoch: 60000, Loss: 1.007226824760437, \n",
            "Epoch: 62000, Loss: 1.000451922416687, \n",
            "Epoch: 64000, Loss: 0.9941967725753784, \n",
            "Epoch: 66000, Loss: 0.9883807301521301, \n",
            "Epoch: 68000, Loss: 0.9829404354095459, \n",
            "Epoch: 70000, Loss: 0.9778352379798889, \n",
            "Epoch: 72000, Loss: 0.9730393290519714, \n",
            "Epoch: 74000, Loss: 0.9685254693031311, \n",
            "Epoch: 76000, Loss: 0.9642832279205322, \n",
            "Epoch: 78000, Loss: 0.9602934718132019, \n",
            "Epoch: 80000, Loss: 0.9565466046333313, \n",
            "Epoch: 82000, Loss: 0.9530319571495056, \n",
            "Epoch: 84000, Loss: 0.9497377276420593, \n",
            "Epoch: 86000, Loss: 0.9466550350189209, \n",
            "Epoch: 88000, Loss: 0.9437674880027771, \n",
            "Epoch: 90000, Loss: 0.9410549998283386, \n",
            "Epoch: 92000, Loss: 0.9385031461715698, \n",
            "Epoch: 94000, Loss: 0.9360941052436829, \n",
            "Epoch: 96000, Loss: 0.9338201880455017, \n",
            "Epoch: 98000, Loss: 0.9316688179969788, \n",
            "Epoch: 100000, Loss: 0.9296258091926575, \n"
          ],
          "name": "stdout"
        }
      ]
    },
    {
      "cell_type": "markdown",
      "metadata": {
        "id": "HlVYBPZuftBt",
        "colab_type": "text"
      },
      "source": [
        "While we're here, let's take a look at performace:"
      ]
    },
    {
      "cell_type": "code",
      "metadata": {
        "id": "mX_MBHUefw_E",
        "colab_type": "code",
        "outputId": "50a6ae19-d920-4cf3-ba23-89b5127a1237",
        "colab": {
          "base_uri": "https://localhost:8080/",
          "height": 34
        }
      },
      "source": [
        "performance(test_x, test_y, vowel_model_batch)"
      ],
      "execution_count": 134,
      "outputs": [
        {
          "output_type": "stream",
          "text": [
            "0.5444444444444444\n"
          ],
          "name": "stdout"
        }
      ]
    },
    {
      "cell_type": "markdown",
      "metadata": {
        "id": "i1Wxgg85_y0z",
        "colab_type": "text"
      },
      "source": [
        "**4.4** At this point, we were asked to modify our models. I figure there are basically two things worth trying: expanding the width of the hidden layer and adding an additional layer. First, we'll take a look at expanding the width of the hidden layer. I like this option because it's very easy to change. Also, it gives us potentially more information we can learn (assuming we increase the width)."
      ]
    },
    {
      "cell_type": "code",
      "metadata": {
        "colab_type": "code",
        "id": "0900L9zPCU0Q",
        "outputId": "e065195f-0440-4fdd-b83d-1b4ccdc7cb42",
        "colab": {
          "base_uri": "https://localhost:8080/",
          "height": 874
        }
      },
      "source": [
        "vowel_model_200 = MLPVowel(hid_dim=200)\n",
        "weights_init(vowel_model_200)\n",
        "loss_func = nn.CrossEntropyLoss()\n",
        "optimizer = optim.SGD(vowel_model_200.parameters(), lr=0.02, momentum=0.9)\n",
        "training(train_x, train_y, vowel_model_200, loss_func, optimizer, EPOCHS)"
      ],
      "execution_count": 135,
      "outputs": [
        {
          "output_type": "stream",
          "text": [
            "Epoch: 0, Loss: 9.931859016418457, \n",
            "Epoch: 2000, Loss: 1.231690764427185, \n",
            "Epoch: 4000, Loss: 1.2190521955490112, \n",
            "Epoch: 6000, Loss: 1.2123355865478516, \n",
            "Epoch: 8000, Loss: 1.2062350511550903, \n",
            "Epoch: 10000, Loss: 1.2000789642333984, \n",
            "Epoch: 12000, Loss: 1.193787693977356, \n",
            "Epoch: 14000, Loss: 1.18745756149292, \n",
            "Epoch: 16000, Loss: 1.1812410354614258, \n",
            "Epoch: 18000, Loss: 1.1752759218215942, \n",
            "Epoch: 20000, Loss: 1.1696182489395142, \n",
            "Epoch: 22000, Loss: 1.164227843284607, \n",
            "Epoch: 24000, Loss: 1.159009337425232, \n",
            "Epoch: 26000, Loss: 1.153849482536316, \n",
            "Epoch: 28000, Loss: 1.1486459970474243, \n",
            "Epoch: 30000, Loss: 1.1433131694793701, \n",
            "Epoch: 32000, Loss: 1.1377806663513184, \n",
            "Epoch: 34000, Loss: 1.1319947242736816, \n",
            "Epoch: 36000, Loss: 1.1259034872055054, \n",
            "Epoch: 38000, Loss: 1.1194660663604736, \n",
            "Epoch: 40000, Loss: 1.1126571893692017, \n",
            "Epoch: 42000, Loss: 1.1054692268371582, \n",
            "Epoch: 44000, Loss: 1.0979113578796387, \n",
            "Epoch: 46000, Loss: 1.0900216102600098, \n",
            "Epoch: 48000, Loss: 1.081851840019226, \n",
            "Epoch: 50000, Loss: 1.073472023010254, \n",
            "Epoch: 52000, Loss: 1.0649603605270386, \n",
            "Epoch: 54000, Loss: 1.0564135313034058, \n",
            "Epoch: 56000, Loss: 1.0479549169540405, \n",
            "Epoch: 58000, Loss: 1.039755940437317, \n",
            "Epoch: 60000, Loss: 1.0319923162460327, \n",
            "Epoch: 62000, Loss: 1.0247787237167358, \n",
            "Epoch: 64000, Loss: 1.0181474685668945, \n",
            "Epoch: 66000, Loss: 1.0120683908462524, \n",
            "Epoch: 68000, Loss: 1.006476640701294, \n",
            "Epoch: 70000, Loss: 1.0013092756271362, \n",
            "Epoch: 72000, Loss: 0.9964989423751831, \n",
            "Epoch: 74000, Loss: 0.991987943649292, \n",
            "Epoch: 76000, Loss: 0.9877229332923889, \n",
            "Epoch: 78000, Loss: 0.9836706519126892, \n",
            "Epoch: 80000, Loss: 0.9797950983047485, \n",
            "Epoch: 82000, Loss: 0.9760794639587402, \n",
            "Epoch: 84000, Loss: 0.9725096821784973, \n",
            "Epoch: 86000, Loss: 0.9690746068954468, \n",
            "Epoch: 88000, Loss: 0.9657691121101379, \n",
            "Epoch: 90000, Loss: 0.9625874161720276, \n",
            "Epoch: 92000, Loss: 0.9595269560813904, \n",
            "Epoch: 94000, Loss: 0.9565843939781189, \n",
            "Epoch: 96000, Loss: 0.9537525773048401, \n",
            "Epoch: 98000, Loss: 0.9510320425033569, \n",
            "Epoch: 100000, Loss: 0.9484179019927979, \n"
          ],
          "name": "stdout"
        }
      ]
    },
    {
      "cell_type": "markdown",
      "metadata": {
        "id": "7zzfhmWZg2r8",
        "colab_type": "text"
      },
      "source": [
        "And again, performance:"
      ]
    },
    {
      "cell_type": "code",
      "metadata": {
        "id": "btnqnnK_g5aN",
        "colab_type": "code",
        "outputId": "d124818d-a5f0-4eba-c760-e5913e4d3030",
        "colab": {
          "base_uri": "https://localhost:8080/",
          "height": 34
        }
      },
      "source": [
        "performance(test_x, test_y, vowel_model_200)"
      ],
      "execution_count": 136,
      "outputs": [
        {
          "output_type": "stream",
          "text": [
            "0.5518518518518518\n"
          ],
          "name": "stdout"
        }
      ]
    },
    {
      "cell_type": "markdown",
      "metadata": {
        "id": "6JDVCzCbPFdP",
        "colab_type": "text"
      },
      "source": [
        "**4.5** Now, I want to try adding a layer to see if we can improve performance."
      ]
    },
    {
      "cell_type": "code",
      "metadata": {
        "colab_type": "code",
        "id": "XPZrePCbPNWF",
        "colab": {}
      },
      "source": [
        "class MLPVowel2(nn.Module):\n",
        "    def __init__(self, input_dim = 2, hid_dim=100, output_dim=9):\n",
        "        super(MLPVowel2, self).__init__()\n",
        "        \n",
        "        self.lin1 = nn.Linear(input_dim, hid_dim)\n",
        "        self.lin2 = nn.Linear(hid_dim, hid_dim)\n",
        "        self.lin3 = nn.Linear(hid_dim, output_dim)\n",
        "    \n",
        "    # this is where the meat of the action is\n",
        "    def forward(self, x):\n",
        "        x = self.lin1(x)  # linear combination of inputs\n",
        "        x = torch.sigmoid(x) # then through sigmoid - output of first layer\n",
        "        x = self.lin2(x) # linear combination of hidden units\n",
        "        x = torch.sigmoid(x) # then through sigmoid - net output\n",
        "        x = self.lin3(x) # linear combination of hidden units\n",
        "        #x = torch.sigmoid(x) # then through sigmoid - net output\n",
        "        return x"
      ],
      "execution_count": 0,
      "outputs": []
    },
    {
      "cell_type": "code",
      "metadata": {
        "colab_type": "code",
        "id": "mWJpHf0HPeLF",
        "outputId": "d9d6c94c-25d3-485e-eac0-6d4bc6736f69",
        "colab": {
          "base_uri": "https://localhost:8080/",
          "height": 874
        }
      },
      "source": [
        "vowel_model_extra_layer = MLPVowel2()\n",
        "weights_init(vowel_model_extra_layer)\n",
        "loss_func = nn.CrossEntropyLoss()\n",
        "optimizer = optim.SGD(vowel_model_extra_layer.parameters(), lr=0.02, momentum=0.9)\n",
        "training(train_x, train_y, vowel_model_extra_layer, loss_func, optimizer, EPOCHS)"
      ],
      "execution_count": 138,
      "outputs": [
        {
          "output_type": "stream",
          "text": [
            "Epoch: 0, Loss: 11.257558822631836, \n",
            "Epoch: 2000, Loss: 1.1521598100662231, \n",
            "Epoch: 4000, Loss: 1.0644464492797852, \n",
            "Epoch: 6000, Loss: 0.9983853697776794, \n",
            "Epoch: 8000, Loss: 0.9566983580589294, \n",
            "Epoch: 10000, Loss: 0.9298096299171448, \n",
            "Epoch: 12000, Loss: 0.9108060002326965, \n",
            "Epoch: 14000, Loss: 0.897087037563324, \n",
            "Epoch: 16000, Loss: 0.8867743611335754, \n",
            "Epoch: 18000, Loss: 0.8784260153770447, \n",
            "Epoch: 20000, Loss: 0.8713898062705994, \n",
            "Epoch: 22000, Loss: 0.8653615117073059, \n",
            "Epoch: 24000, Loss: 0.8601122498512268, \n",
            "Epoch: 26000, Loss: 0.8554978370666504, \n",
            "Epoch: 28000, Loss: 0.8514072895050049, \n",
            "Epoch: 30000, Loss: 0.8477412462234497, \n",
            "Epoch: 32000, Loss: 0.8444119095802307, \n",
            "Epoch: 34000, Loss: 0.8413587808609009, \n",
            "Epoch: 36000, Loss: 0.8385487198829651, \n",
            "Epoch: 38000, Loss: 0.8359485864639282, \n",
            "Epoch: 40000, Loss: 0.833538830280304, \n",
            "Epoch: 42000, Loss: 0.831289529800415, \n",
            "Epoch: 44000, Loss: 0.8291696906089783, \n",
            "Epoch: 46000, Loss: 0.8271554708480835, \n",
            "Epoch: 48000, Loss: 0.825222909450531, \n",
            "Epoch: 50000, Loss: 0.8233562707901001, \n",
            "Epoch: 52000, Loss: 0.8215410113334656, \n",
            "Epoch: 54000, Loss: 0.8197640180587769, \n",
            "Epoch: 56000, Loss: 0.8180145621299744, \n",
            "Epoch: 58000, Loss: 0.8163048624992371, \n",
            "Epoch: 60000, Loss: 0.814646303653717, \n",
            "Epoch: 62000, Loss: 0.8130539059638977, \n",
            "Epoch: 64000, Loss: 0.8115336894989014, \n",
            "Epoch: 66000, Loss: 0.8100893497467041, \n",
            "Epoch: 68000, Loss: 0.8087169528007507, \n",
            "Epoch: 70000, Loss: 0.8074139356613159, \n",
            "Epoch: 72000, Loss: 0.8061726093292236, \n",
            "Epoch: 74000, Loss: 0.80499267578125, \n",
            "Epoch: 76000, Loss: 0.8038660287857056, \n",
            "Epoch: 78000, Loss: 0.8027884364128113, \n",
            "Epoch: 80000, Loss: 0.8017569780349731, \n",
            "Epoch: 82000, Loss: 0.8007662892341614, \n",
            "Epoch: 84000, Loss: 0.7998124361038208, \n",
            "Epoch: 86000, Loss: 0.7988935112953186, \n",
            "Epoch: 88000, Loss: 0.7980056405067444, \n",
            "Epoch: 90000, Loss: 0.7971487045288086, \n",
            "Epoch: 92000, Loss: 0.7963173389434814, \n",
            "Epoch: 94000, Loss: 0.795509934425354, \n",
            "Epoch: 96000, Loss: 0.7947267293930054, \n",
            "Epoch: 98000, Loss: 0.7939659357070923, \n",
            "Epoch: 100000, Loss: 0.7932257652282715, \n"
          ],
          "name": "stdout"
        }
      ]
    },
    {
      "cell_type": "markdown",
      "metadata": {
        "id": "2U802tmphGyk",
        "colab_type": "text"
      },
      "source": [
        "And again, performance:"
      ]
    },
    {
      "cell_type": "code",
      "metadata": {
        "id": "Et08983vhKFL",
        "colab_type": "code",
        "outputId": "b5b8582a-ad90-44f2-f678-bb925c7da4ee",
        "colab": {
          "base_uri": "https://localhost:8080/",
          "height": 34
        }
      },
      "source": [
        "performance(test_x, test_y, vowel_model_extra_layer)"
      ],
      "execution_count": 139,
      "outputs": [
        {
          "output_type": "stream",
          "text": [
            "0.5246913580246914\n"
          ],
          "name": "stdout"
        }
      ]
    },
    {
      "cell_type": "markdown",
      "metadata": {
        "id": "fo1jiMHMyioD",
        "colab_type": "text"
      },
      "source": [
        "## Summary and Observations\n",
        "\n",
        "There are a few things I noticed while running these experiments. First, online training seems to be much better when it comes to accuracy. For example, I was ably to get decent accuracy with just a few hundred epochs. However, training was extremely slow.\n",
        "\n",
        "When I switched over to batch training, the training speed was much better, but the actual loss decreased very slowly. In many cases, I wasn't able to even approach the accuracy of online training. \n",
        "\n",
        "Then, when it came to actually modifying the network, I found that changes had a serious impact in more ways than one. For example, my first modification (+100 hidden nodes) resulted in better convergence for the same amount of epochs. However, training was quite a bit slower. With my second modification (+1 hidden layer), I noticed similar results; performance was better but training was slower. \n",
        "\n",
        "Since I used the test_train_split function, I realized the results were different for every execution. As a result, I decided to document those results for a few executions (online: 100 epochs, batch: 100,000 epochs):\n",
        "\n",
        "| Execution | Online | Batch | +100 Nodes | +1 Layer |\n",
        "|-----------|--------|------|------------|----------|\n",
        "| 04/09/2020 5:21 PM EST | 0.3308641975308642 | 0.08765432098765433 | 0.345679012345679 | 0.2654320987654321 |\n",
        "| 04/09/2020 6:26 PM EST | 0.18888888888888888 |  0.06296296296296296 | 0.2975308641975309 | 0.362962962962963 |\n",
        "| 04/09/2020 11:19 PM EST | 0.3395061728395062 | 0.06296296296296296 | 0.29506172839506173 | 0.23950617283950618 |\n",
        "\n",
        "*Note*: These measurements were taken prior to the update in my model and performance algorithm on 04/16/2020. Performance seems to be more stable (and sometimes better) following the update. For example, here were the latest stats following the change:\n",
        "\n",
        "| Execution | Online | Batch | +100 Nodes | +1 Layer |\n",
        "|-----------|--------|------|------------|----------|\n",
        "| 04/16/2020 4:25 PM EST | 0.24320987654320989 | 0.27901234567901234 | 0.26296296296296295 | 0.25679012345679014 |\n",
        "| 04/16/2020 5:15 PM EST | 0.23333333333333334 | 0.5444444444444444 | 0.5518518518518518 | 0.5246913580246914 |\n",
        "\n",
        "In all this testing, I never really saw a performance above 60%. I wonder what needs to be done to get better results. Below, I decided to run one last experiment (+1 layer) for a large amount of epochs (1,000,000). After all, there was a lot of training left to do in the models above. "
      ]
    },
    {
      "cell_type": "code",
      "metadata": {
        "id": "nEoPD5yADhwD",
        "colab_type": "code",
        "outputId": "20dab6a4-4371-45f9-e012-2919cdbc2d1c",
        "colab": {
          "base_uri": "https://localhost:8080/",
          "height": 1000
        }
      },
      "source": [
        "vowel_model_extra_layer_long = MLPVowel2()\n",
        "weights_init(vowel_model_extra_layer_long)\n",
        "loss_func = nn.CrossEntropyLoss()\n",
        "optimizer = optim.SGD(vowel_model_extra_layer_long.parameters(), lr=0.02, momentum=0.9)\n",
        "training(train_x, train_y, vowel_model_extra_layer_long, loss_func, optimizer, 1000001)"
      ],
      "execution_count": 140,
      "outputs": [
        {
          "output_type": "stream",
          "text": [
            "Epoch: 0, Loss: 4.897457122802734, \n",
            "Epoch: 2000, Loss: 1.1329478025436401, \n",
            "Epoch: 4000, Loss: 1.0422801971435547, \n",
            "Epoch: 6000, Loss: 0.9819255471229553, \n",
            "Epoch: 8000, Loss: 0.9450443387031555, \n",
            "Epoch: 10000, Loss: 0.9197896718978882, \n",
            "Epoch: 12000, Loss: 0.9018118381500244, \n",
            "Epoch: 14000, Loss: 0.8892366290092468, \n",
            "Epoch: 16000, Loss: 0.8801674842834473, \n",
            "Epoch: 18000, Loss: 0.8731602430343628, \n",
            "Epoch: 20000, Loss: 0.8674073219299316, \n",
            "Epoch: 22000, Loss: 0.8624458312988281, \n",
            "Epoch: 24000, Loss: 0.8580552339553833, \n",
            "Epoch: 26000, Loss: 0.8541386723518372, \n",
            "Epoch: 28000, Loss: 0.8505717515945435, \n",
            "Epoch: 30000, Loss: 0.8472961187362671, \n",
            "Epoch: 32000, Loss: 0.8442754149436951, \n",
            "Epoch: 34000, Loss: 0.8414598107337952, \n",
            "Epoch: 36000, Loss: 0.8388250470161438, \n",
            "Epoch: 38000, Loss: 0.8363467454910278, \n",
            "Epoch: 40000, Loss: 0.8340251445770264, \n",
            "Epoch: 42000, Loss: 0.8318713307380676, \n",
            "Epoch: 44000, Loss: 0.8298678994178772, \n",
            "Epoch: 46000, Loss: 0.8279956579208374, \n",
            "Epoch: 48000, Loss: 0.826228141784668, \n",
            "Epoch: 50000, Loss: 0.82453852891922, \n",
            "Epoch: 52000, Loss: 0.8229068517684937, \n",
            "Epoch: 54000, Loss: 0.8213249444961548, \n",
            "Epoch: 56000, Loss: 0.8197811841964722, \n",
            "Epoch: 58000, Loss: 0.8182613253593445, \n",
            "Epoch: 60000, Loss: 0.8167528510093689, \n",
            "Epoch: 62000, Loss: 0.8152598142623901, \n",
            "Epoch: 64000, Loss: 0.8137874007225037, \n",
            "Epoch: 66000, Loss: 0.8123493790626526, \n",
            "Epoch: 68000, Loss: 0.810953676700592, \n",
            "Epoch: 70000, Loss: 0.8096046447753906, \n",
            "Epoch: 72000, Loss: 0.8083037734031677, \n",
            "Epoch: 74000, Loss: 0.8070505857467651, \n",
            "Epoch: 76000, Loss: 0.8058429956436157, \n",
            "Epoch: 78000, Loss: 0.8046790957450867, \n",
            "Epoch: 80000, Loss: 0.8035555481910706, \n",
            "Epoch: 82000, Loss: 0.8024710416793823, \n",
            "Epoch: 84000, Loss: 0.801422119140625, \n",
            "Epoch: 86000, Loss: 0.800408661365509, \n",
            "Epoch: 88000, Loss: 0.7994235754013062, \n",
            "Epoch: 90000, Loss: 0.7984673976898193, \n",
            "Epoch: 92000, Loss: 0.7975370287895203, \n",
            "Epoch: 94000, Loss: 0.7966297268867493, \n",
            "Epoch: 96000, Loss: 0.7957412600517273, \n",
            "Epoch: 98000, Loss: 0.794870913028717, \n",
            "Epoch: 100000, Loss: 0.7940136194229126, \n",
            "Epoch: 102000, Loss: 0.7931683659553528, \n",
            "Epoch: 104000, Loss: 0.7923327684402466, \n",
            "Epoch: 106000, Loss: 0.7915058135986328, \n",
            "Epoch: 108000, Loss: 0.7906827926635742, \n",
            "Epoch: 110000, Loss: 0.7898627519607544, \n",
            "Epoch: 112000, Loss: 0.7890453338623047, \n",
            "Epoch: 114000, Loss: 0.7882293462753296, \n",
            "Epoch: 116000, Loss: 0.7874161601066589, \n",
            "Epoch: 118000, Loss: 0.786602795124054, \n",
            "Epoch: 120000, Loss: 0.7857926487922668, \n",
            "Epoch: 122000, Loss: 0.7849831581115723, \n",
            "Epoch: 124000, Loss: 0.7841787338256836, \n",
            "Epoch: 126000, Loss: 0.7833788990974426, \n",
            "Epoch: 128000, Loss: 0.7825852632522583, \n",
            "Epoch: 130000, Loss: 0.781799852848053, \n",
            "Epoch: 132000, Loss: 0.781024158000946, \n",
            "Epoch: 134000, Loss: 0.7802571654319763, \n",
            "Epoch: 136000, Loss: 0.7795050740242004, \n",
            "Epoch: 138000, Loss: 0.7787635326385498, \n",
            "Epoch: 140000, Loss: 0.77803635597229, \n",
            "Epoch: 142000, Loss: 0.7773252725601196, \n",
            "Epoch: 144000, Loss: 0.7766261696815491, \n",
            "Epoch: 146000, Loss: 0.7759425044059753, \n",
            "Epoch: 148000, Loss: 0.7752745747566223, \n",
            "Epoch: 150000, Loss: 0.7746214866638184, \n",
            "Epoch: 152000, Loss: 0.7739797234535217, \n",
            "Epoch: 154000, Loss: 0.7733551859855652, \n",
            "Epoch: 156000, Loss: 0.7727421522140503, \n",
            "Epoch: 158000, Loss: 0.7721409201622009, \n",
            "Epoch: 160000, Loss: 0.7715523838996887, \n",
            "Epoch: 162000, Loss: 0.7709747552871704, \n",
            "Epoch: 164000, Loss: 0.770406186580658, \n",
            "Epoch: 166000, Loss: 0.7698490023612976, \n",
            "Epoch: 168000, Loss: 0.7692988514900208, \n",
            "Epoch: 170000, Loss: 0.7687590718269348, \n",
            "Epoch: 172000, Loss: 0.7682267427444458, \n",
            "Epoch: 174000, Loss: 0.7677000164985657, \n",
            "Epoch: 176000, Loss: 0.767179548740387, \n",
            "Epoch: 178000, Loss: 0.7666662335395813, \n",
            "Epoch: 180000, Loss: 0.7661575675010681, \n",
            "Epoch: 182000, Loss: 0.7656545639038086, \n",
            "Epoch: 184000, Loss: 0.7651560306549072, \n",
            "Epoch: 186000, Loss: 0.7646617889404297, \n",
            "Epoch: 188000, Loss: 0.7641737461090088, \n",
            "Epoch: 190000, Loss: 0.7636895179748535, \n",
            "Epoch: 192000, Loss: 0.7632089853286743, \n",
            "Epoch: 194000, Loss: 0.7627342343330383, \n",
            "Epoch: 196000, Loss: 0.7622637152671814, \n",
            "Epoch: 198000, Loss: 0.7617959380149841, \n",
            "Epoch: 200000, Loss: 0.7613345980644226, \n",
            "Epoch: 202000, Loss: 0.760877251625061, \n",
            "Epoch: 204000, Loss: 0.7604246139526367, \n",
            "Epoch: 206000, Loss: 0.7599747180938721, \n",
            "Epoch: 208000, Loss: 0.7595313787460327, \n",
            "Epoch: 210000, Loss: 0.7590916156768799, \n",
            "Epoch: 212000, Loss: 0.7586538791656494, \n",
            "Epoch: 214000, Loss: 0.7582243084907532, \n",
            "Epoch: 216000, Loss: 0.7577950358390808, \n",
            "Epoch: 218000, Loss: 0.7573727369308472, \n",
            "Epoch: 220000, Loss: 0.756952702999115, \n",
            "Epoch: 222000, Loss: 0.7565380334854126, \n",
            "Epoch: 224000, Loss: 0.756126880645752, \n",
            "Epoch: 226000, Loss: 0.7557204365730286, \n",
            "Epoch: 228000, Loss: 0.7553175091743469, \n",
            "Epoch: 230000, Loss: 0.7549186944961548, \n",
            "Epoch: 232000, Loss: 0.754524290561676, \n",
            "Epoch: 234000, Loss: 0.7541324496269226, \n",
            "Epoch: 236000, Loss: 0.7537431120872498, \n",
            "Epoch: 238000, Loss: 0.7533581256866455, \n",
            "Epoch: 240000, Loss: 0.752975583076477, \n",
            "Epoch: 242000, Loss: 0.7525971531867981, \n",
            "Epoch: 244000, Loss: 0.7522193193435669, \n",
            "Epoch: 246000, Loss: 0.7518451809883118, \n",
            "Epoch: 248000, Loss: 0.7514727711677551, \n",
            "Epoch: 250000, Loss: 0.7511014342308044, \n",
            "Epoch: 252000, Loss: 0.7507323026657104, \n",
            "Epoch: 254000, Loss: 0.7503647804260254, \n",
            "Epoch: 256000, Loss: 0.7499969601631165, \n",
            "Epoch: 258000, Loss: 0.7496309876441956, \n",
            "Epoch: 260000, Loss: 0.7492657899856567, \n",
            "Epoch: 262000, Loss: 0.748901903629303, \n",
            "Epoch: 264000, Loss: 0.7485392093658447, \n",
            "Epoch: 266000, Loss: 0.7481775283813477, \n",
            "Epoch: 268000, Loss: 0.7478176951408386, \n",
            "Epoch: 270000, Loss: 0.7474585175514221, \n",
            "Epoch: 272000, Loss: 0.7471010684967041, \n",
            "Epoch: 274000, Loss: 0.7467444539070129, \n",
            "Epoch: 276000, Loss: 0.7463884353637695, \n",
            "Epoch: 278000, Loss: 0.746033787727356, \n",
            "Epoch: 280000, Loss: 0.7456810474395752, \n",
            "Epoch: 282000, Loss: 0.7453291416168213, \n",
            "Epoch: 284000, Loss: 0.7449776530265808, \n",
            "Epoch: 286000, Loss: 0.7446262240409851, \n",
            "Epoch: 288000, Loss: 0.744276225566864, \n",
            "Epoch: 290000, Loss: 0.7439267039299011, \n",
            "Epoch: 292000, Loss: 0.7435780763626099, \n",
            "Epoch: 294000, Loss: 0.7432296276092529, \n",
            "Epoch: 296000, Loss: 0.7428816556930542, \n",
            "Epoch: 298000, Loss: 0.7425317764282227, \n",
            "Epoch: 300000, Loss: 0.7421850562095642, \n",
            "Epoch: 302000, Loss: 0.7418360710144043, \n",
            "Epoch: 304000, Loss: 0.7414877414703369, \n",
            "Epoch: 306000, Loss: 0.7411404848098755, \n",
            "Epoch: 308000, Loss: 0.7407922148704529, \n",
            "Epoch: 310000, Loss: 0.7404462099075317, \n",
            "Epoch: 312000, Loss: 0.7400988340377808, \n",
            "Epoch: 314000, Loss: 0.73975670337677, \n",
            "Epoch: 316000, Loss: 0.7394148707389832, \n",
            "Epoch: 318000, Loss: 0.7390750646591187, \n",
            "Epoch: 320000, Loss: 0.7387381196022034, \n",
            "Epoch: 322000, Loss: 0.7384033203125, \n",
            "Epoch: 324000, Loss: 0.7380707859992981, \n",
            "Epoch: 326000, Loss: 0.7377411723136902, \n",
            "Epoch: 328000, Loss: 0.737413227558136, \n",
            "Epoch: 330000, Loss: 0.7370873093605042, \n",
            "Epoch: 332000, Loss: 0.7367644309997559, \n",
            "Epoch: 334000, Loss: 0.7364432215690613, \n",
            "Epoch: 336000, Loss: 0.7361243963241577, \n",
            "Epoch: 338000, Loss: 0.7358068823814392, \n",
            "Epoch: 340000, Loss: 0.7354916930198669, \n",
            "Epoch: 342000, Loss: 0.7351781129837036, \n",
            "Epoch: 344000, Loss: 0.734865128993988, \n",
            "Epoch: 346000, Loss: 0.734557032585144, \n",
            "Epoch: 348000, Loss: 0.7342480421066284, \n",
            "Epoch: 350000, Loss: 0.7339432239532471, \n",
            "Epoch: 352000, Loss: 0.7336385250091553, \n",
            "Epoch: 354000, Loss: 0.7333346605300903, \n",
            "Epoch: 356000, Loss: 0.733034074306488, \n",
            "Epoch: 358000, Loss: 0.7327330112457275, \n",
            "Epoch: 360000, Loss: 0.7324356436729431, \n",
            "Epoch: 362000, Loss: 0.7321373224258423, \n",
            "Epoch: 364000, Loss: 0.731842577457428, \n",
            "Epoch: 366000, Loss: 0.731548547744751, \n",
            "Epoch: 368000, Loss: 0.7312541007995605, \n",
            "Epoch: 370000, Loss: 0.7309637069702148, \n",
            "Epoch: 372000, Loss: 0.7306726574897766, \n",
            "Epoch: 374000, Loss: 0.7303837537765503, \n",
            "Epoch: 376000, Loss: 0.730096161365509, \n",
            "Epoch: 378000, Loss: 0.7298089265823364, \n",
            "Epoch: 380000, Loss: 0.7295226454734802, \n",
            "Epoch: 382000, Loss: 0.7292356491088867, \n",
            "Epoch: 384000, Loss: 0.7289537191390991, \n",
            "Epoch: 386000, Loss: 0.7286685109138489, \n",
            "Epoch: 388000, Loss: 0.728385329246521, \n",
            "Epoch: 390000, Loss: 0.728104829788208, \n",
            "Epoch: 392000, Loss: 0.7278233766555786, \n",
            "Epoch: 394000, Loss: 0.7275441288948059, \n",
            "Epoch: 396000, Loss: 0.7272635102272034, \n",
            "Epoch: 398000, Loss: 0.7269850969314575, \n",
            "Epoch: 400000, Loss: 0.7267060875892639, \n",
            "Epoch: 402000, Loss: 0.7264288663864136, \n",
            "Epoch: 404000, Loss: 0.7261514663696289, \n",
            "Epoch: 406000, Loss: 0.7258750200271606, \n",
            "Epoch: 408000, Loss: 0.7255982756614685, \n",
            "Epoch: 410000, Loss: 0.7253226041793823, \n",
            "Epoch: 412000, Loss: 0.7250481843948364, \n",
            "Epoch: 414000, Loss: 0.724773108959198, \n",
            "Epoch: 416000, Loss: 0.7244985699653625, \n",
            "Epoch: 418000, Loss: 0.7242241501808167, \n",
            "Epoch: 420000, Loss: 0.7239506840705872, \n",
            "Epoch: 422000, Loss: 0.7236751317977905, \n",
            "Epoch: 424000, Loss: 0.7234006524085999, \n",
            "Epoch: 426000, Loss: 0.723127007484436, \n",
            "Epoch: 428000, Loss: 0.7228528261184692, \n",
            "Epoch: 430000, Loss: 0.7225791811943054, \n",
            "Epoch: 432000, Loss: 0.7223018407821655, \n",
            "Epoch: 434000, Loss: 0.7220270037651062, \n",
            "Epoch: 436000, Loss: 0.7217527031898499, \n",
            "Epoch: 438000, Loss: 0.7214771509170532, \n",
            "Epoch: 440000, Loss: 0.7212033271789551, \n",
            "Epoch: 442000, Loss: 0.7209304571151733, \n",
            "Epoch: 444000, Loss: 0.7206582427024841, \n",
            "Epoch: 446000, Loss: 0.7203883528709412, \n",
            "Epoch: 448000, Loss: 0.7201158404350281, \n",
            "Epoch: 450000, Loss: 0.7198468446731567, \n",
            "Epoch: 452000, Loss: 0.7195776104927063, \n",
            "Epoch: 454000, Loss: 0.719308614730835, \n",
            "Epoch: 456000, Loss: 0.7190409302711487, \n",
            "Epoch: 458000, Loss: 0.7187739014625549, \n",
            "Epoch: 460000, Loss: 0.7185069918632507, \n",
            "Epoch: 462000, Loss: 0.7182427048683167, \n",
            "Epoch: 464000, Loss: 0.7179769277572632, \n",
            "Epoch: 466000, Loss: 0.7177134156227112, \n",
            "Epoch: 468000, Loss: 0.7174504399299622, \n",
            "Epoch: 470000, Loss: 0.7171882390975952, \n",
            "Epoch: 472000, Loss: 0.716927170753479, \n",
            "Epoch: 474000, Loss: 0.7166675329208374, \n",
            "Epoch: 476000, Loss: 0.7164084315299988, \n",
            "Epoch: 478000, Loss: 0.7161508202552795, \n",
            "Epoch: 480000, Loss: 0.7158941030502319, \n",
            "Epoch: 482000, Loss: 0.71563720703125, \n",
            "Epoch: 484000, Loss: 0.7153823971748352, \n",
            "Epoch: 486000, Loss: 0.7151305675506592, \n",
            "Epoch: 488000, Loss: 0.7148779034614563, \n",
            "Epoch: 490000, Loss: 0.7146261930465698, \n",
            "Epoch: 492000, Loss: 0.7143775820732117, \n",
            "Epoch: 494000, Loss: 0.7141298651695251, \n",
            "Epoch: 496000, Loss: 0.7138826251029968, \n",
            "Epoch: 498000, Loss: 0.713636577129364, \n",
            "Epoch: 500000, Loss: 0.7133914232254028, \n",
            "Epoch: 502000, Loss: 0.7131486535072327, \n",
            "Epoch: 504000, Loss: 0.7129065990447998, \n",
            "Epoch: 506000, Loss: 0.7126646637916565, \n",
            "Epoch: 508000, Loss: 0.7124241590499878, \n",
            "Epoch: 510000, Loss: 0.7121848464012146, \n",
            "Epoch: 512000, Loss: 0.7119482755661011, \n",
            "Epoch: 514000, Loss: 0.7117109894752502, \n",
            "Epoch: 516000, Loss: 0.7114741206169128, \n",
            "Epoch: 518000, Loss: 0.7112399935722351, \n",
            "Epoch: 520000, Loss: 0.7110050320625305, \n",
            "Epoch: 522000, Loss: 0.710771918296814, \n",
            "Epoch: 524000, Loss: 0.7105401158332825, \n",
            "Epoch: 526000, Loss: 0.7103079557418823, \n",
            "Epoch: 528000, Loss: 0.7100779414176941, \n",
            "Epoch: 530000, Loss: 0.7098479866981506, \n",
            "Epoch: 532000, Loss: 0.7096186876296997, \n",
            "Epoch: 534000, Loss: 0.7093897461891174, \n",
            "Epoch: 536000, Loss: 0.7091625928878784, \n",
            "Epoch: 538000, Loss: 0.7089349627494812, \n",
            "Epoch: 540000, Loss: 0.7087087035179138, \n",
            "Epoch: 542000, Loss: 0.7084840536117554, \n",
            "Epoch: 544000, Loss: 0.7082589268684387, \n",
            "Epoch: 546000, Loss: 0.7080342769622803, \n",
            "Epoch: 548000, Loss: 0.7078096866607666, \n",
            "Epoch: 550000, Loss: 0.7075875401496887, \n",
            "Epoch: 552000, Loss: 0.7073637247085571, \n",
            "Epoch: 554000, Loss: 0.7071412205696106, \n",
            "Epoch: 556000, Loss: 0.7069183588027954, \n",
            "Epoch: 558000, Loss: 0.7066974639892578, \n",
            "Epoch: 560000, Loss: 0.7064767479896545, \n",
            "Epoch: 562000, Loss: 0.7062557935714722, \n",
            "Epoch: 564000, Loss: 0.7060355544090271, \n",
            "Epoch: 566000, Loss: 0.7058168649673462, \n",
            "Epoch: 568000, Loss: 0.7055997252464294, \n",
            "Epoch: 570000, Loss: 0.7053830623626709, \n",
            "Epoch: 572000, Loss: 0.7051652669906616, \n",
            "Epoch: 574000, Loss: 0.7049498558044434, \n",
            "Epoch: 576000, Loss: 0.7047333121299744, \n",
            "Epoch: 578000, Loss: 0.7045183181762695, \n",
            "Epoch: 580000, Loss: 0.7043052911758423, \n",
            "Epoch: 582000, Loss: 0.7040911316871643, \n",
            "Epoch: 584000, Loss: 0.7038788199424744, \n",
            "Epoch: 586000, Loss: 0.7036658525466919, \n",
            "Epoch: 588000, Loss: 0.7034539580345154, \n",
            "Epoch: 590000, Loss: 0.7032437324523926, \n",
            "Epoch: 592000, Loss: 0.7030321955680847, \n",
            "Epoch: 594000, Loss: 0.7028220295906067, \n",
            "Epoch: 596000, Loss: 0.7026122808456421, \n",
            "Epoch: 598000, Loss: 0.7024032473564148, \n",
            "Epoch: 600000, Loss: 0.70219486951828, \n",
            "Epoch: 602000, Loss: 0.7019859552383423, \n",
            "Epoch: 604000, Loss: 0.7017784118652344, \n",
            "Epoch: 606000, Loss: 0.7015718817710876, \n",
            "Epoch: 608000, Loss: 0.7013646364212036, \n",
            "Epoch: 610000, Loss: 0.7011593580245972, \n",
            "Epoch: 612000, Loss: 0.7009539604187012, \n",
            "Epoch: 614000, Loss: 0.7007482051849365, \n",
            "Epoch: 616000, Loss: 0.7005437016487122, \n",
            "Epoch: 618000, Loss: 0.7003390192985535, \n",
            "Epoch: 620000, Loss: 0.7001364231109619, \n",
            "Epoch: 622000, Loss: 0.6999326348304749, \n",
            "Epoch: 624000, Loss: 0.6997296810150146, \n",
            "Epoch: 626000, Loss: 0.6995256543159485, \n",
            "Epoch: 628000, Loss: 0.6993249654769897, \n",
            "Epoch: 630000, Loss: 0.6991227865219116, \n",
            "Epoch: 632000, Loss: 0.6989213228225708, \n",
            "Epoch: 634000, Loss: 0.6987210512161255, \n",
            "Epoch: 636000, Loss: 0.6985196471214294, \n",
            "Epoch: 638000, Loss: 0.6983186602592468, \n",
            "Epoch: 640000, Loss: 0.6981192231178284, \n",
            "Epoch: 642000, Loss: 0.6979188323020935, \n",
            "Epoch: 644000, Loss: 0.6977192759513855, \n",
            "Epoch: 646000, Loss: 0.6975206732749939, \n",
            "Epoch: 648000, Loss: 0.6973215341567993, \n",
            "Epoch: 650000, Loss: 0.6971232891082764, \n",
            "Epoch: 652000, Loss: 0.696925699710846, \n",
            "Epoch: 654000, Loss: 0.6967288851737976, \n",
            "Epoch: 656000, Loss: 0.6965322494506836, \n",
            "Epoch: 658000, Loss: 0.6963350772857666, \n",
            "Epoch: 660000, Loss: 0.6961395144462585, \n",
            "Epoch: 662000, Loss: 0.6959449052810669, \n",
            "Epoch: 664000, Loss: 0.6957510709762573, \n",
            "Epoch: 666000, Loss: 0.6955571174621582, \n",
            "Epoch: 668000, Loss: 0.6953635811805725, \n",
            "Epoch: 670000, Loss: 0.6951708793640137, \n",
            "Epoch: 672000, Loss: 0.6949779391288757, \n",
            "Epoch: 674000, Loss: 0.6947859525680542, \n",
            "Epoch: 676000, Loss: 0.6945943832397461, \n",
            "Epoch: 678000, Loss: 0.6944023370742798, \n",
            "Epoch: 680000, Loss: 0.6942123770713806, \n",
            "Epoch: 682000, Loss: 0.6940203309059143, \n",
            "Epoch: 684000, Loss: 0.6938303112983704, \n",
            "Epoch: 686000, Loss: 0.6936413645744324, \n",
            "Epoch: 688000, Loss: 0.6934523582458496, \n",
            "Epoch: 690000, Loss: 0.6932622790336609, \n",
            "Epoch: 692000, Loss: 0.6930738687515259, \n",
            "Epoch: 694000, Loss: 0.6928840279579163, \n",
            "Epoch: 696000, Loss: 0.6926957964897156, \n",
            "Epoch: 698000, Loss: 0.6925076246261597, \n",
            "Epoch: 700000, Loss: 0.6923195123672485, \n",
            "Epoch: 702000, Loss: 0.6921320557594299, \n",
            "Epoch: 704000, Loss: 0.6919439435005188, \n",
            "Epoch: 706000, Loss: 0.6917574405670166, \n",
            "Epoch: 708000, Loss: 0.6915697455406189, \n",
            "Epoch: 710000, Loss: 0.6913840174674988, \n",
            "Epoch: 712000, Loss: 0.6911966800689697, \n",
            "Epoch: 714000, Loss: 0.6910093426704407, \n",
            "Epoch: 716000, Loss: 0.6908232569694519, \n",
            "Epoch: 718000, Loss: 0.690636396408081, \n",
            "Epoch: 720000, Loss: 0.6904516220092773, \n",
            "Epoch: 722000, Loss: 0.6902651786804199, \n",
            "Epoch: 724000, Loss: 0.6900792717933655, \n",
            "Epoch: 726000, Loss: 0.6898932456970215, \n",
            "Epoch: 728000, Loss: 0.6897071003913879, \n",
            "Epoch: 730000, Loss: 0.6895208954811096, \n",
            "Epoch: 732000, Loss: 0.6893346309661865, \n",
            "Epoch: 734000, Loss: 0.6891459226608276, \n",
            "Epoch: 736000, Loss: 0.6889556050300598, \n",
            "Epoch: 738000, Loss: 0.6887640357017517, \n",
            "Epoch: 740000, Loss: 0.6885700225830078, \n",
            "Epoch: 742000, Loss: 0.6883732080459595, \n",
            "Epoch: 744000, Loss: 0.6881750226020813, \n",
            "Epoch: 746000, Loss: 0.6879739761352539, \n",
            "Epoch: 748000, Loss: 0.6877731084823608, \n",
            "Epoch: 750000, Loss: 0.6875700354576111, \n",
            "Epoch: 752000, Loss: 0.6873665452003479, \n",
            "Epoch: 754000, Loss: 0.6871622800827026, \n",
            "Epoch: 756000, Loss: 0.6869572997093201, \n",
            "Epoch: 758000, Loss: 0.6867526173591614, \n",
            "Epoch: 760000, Loss: 0.6865457892417908, \n",
            "Epoch: 762000, Loss: 0.6863397359848022, \n",
            "Epoch: 764000, Loss: 0.6861324906349182, \n",
            "Epoch: 766000, Loss: 0.6859235763549805, \n",
            "Epoch: 768000, Loss: 0.685716450214386, \n",
            "Epoch: 770000, Loss: 0.6855074763298035, \n",
            "Epoch: 772000, Loss: 0.6852981448173523, \n",
            "Epoch: 774000, Loss: 0.6850883364677429, \n",
            "Epoch: 776000, Loss: 0.6848784685134888, \n",
            "Epoch: 778000, Loss: 0.6846681237220764, \n",
            "Epoch: 780000, Loss: 0.6844580769538879, \n",
            "Epoch: 782000, Loss: 0.6842464208602905, \n",
            "Epoch: 784000, Loss: 0.68403559923172, \n",
            "Epoch: 786000, Loss: 0.6838256120681763, \n",
            "Epoch: 788000, Loss: 0.6836150288581848, \n",
            "Epoch: 790000, Loss: 0.6834040880203247, \n",
            "Epoch: 792000, Loss: 0.6831926107406616, \n",
            "Epoch: 794000, Loss: 0.6829825639724731, \n",
            "Epoch: 796000, Loss: 0.6827725768089294, \n",
            "Epoch: 798000, Loss: 0.6825610995292664, \n",
            "Epoch: 800000, Loss: 0.6823511719703674, \n",
            "Epoch: 802000, Loss: 0.6821419596672058, \n",
            "Epoch: 804000, Loss: 0.6819319725036621, \n",
            "Epoch: 806000, Loss: 0.6817219257354736, \n",
            "Epoch: 808000, Loss: 0.6815124154090881, \n",
            "Epoch: 810000, Loss: 0.6813056468963623, \n",
            "Epoch: 812000, Loss: 0.6810961365699768, \n",
            "Epoch: 814000, Loss: 0.6808884739875793, \n",
            "Epoch: 816000, Loss: 0.6806816458702087, \n",
            "Epoch: 818000, Loss: 0.6804729104042053, \n",
            "Epoch: 820000, Loss: 0.6802664399147034, \n",
            "Epoch: 822000, Loss: 0.6800597906112671, \n",
            "Epoch: 824000, Loss: 0.6798530220985413, \n",
            "Epoch: 826000, Loss: 0.6796476244926453, \n",
            "Epoch: 828000, Loss: 0.6794412136077881, \n",
            "Epoch: 830000, Loss: 0.6792364120483398, \n",
            "Epoch: 832000, Loss: 0.6790311932563782, \n",
            "Epoch: 834000, Loss: 0.6788257956504822, \n",
            "Epoch: 836000, Loss: 0.6786209344863892, \n",
            "Epoch: 838000, Loss: 0.6784167885780334, \n",
            "Epoch: 840000, Loss: 0.6782119870185852, \n",
            "Epoch: 842000, Loss: 0.6780070662498474, \n",
            "Epoch: 844000, Loss: 0.6778016090393066, \n",
            "Epoch: 846000, Loss: 0.6775978803634644, \n",
            "Epoch: 848000, Loss: 0.677392303943634, \n",
            "Epoch: 850000, Loss: 0.6771882772445679, \n",
            "Epoch: 852000, Loss: 0.6769840121269226, \n",
            "Epoch: 854000, Loss: 0.6767809987068176, \n",
            "Epoch: 856000, Loss: 0.6765772700309753, \n",
            "Epoch: 858000, Loss: 0.6763740181922913, \n",
            "Epoch: 860000, Loss: 0.6761707067489624, \n",
            "Epoch: 862000, Loss: 0.6759694814682007, \n",
            "Epoch: 864000, Loss: 0.6757664680480957, \n",
            "Epoch: 866000, Loss: 0.6755656003952026, \n",
            "Epoch: 868000, Loss: 0.6753637194633484, \n",
            "Epoch: 870000, Loss: 0.6751636266708374, \n",
            "Epoch: 872000, Loss: 0.674964189529419, \n",
            "Epoch: 874000, Loss: 0.6747625470161438, \n",
            "Epoch: 876000, Loss: 0.6745624542236328, \n",
            "Epoch: 878000, Loss: 0.6743638515472412, \n",
            "Epoch: 880000, Loss: 0.6741648316383362, \n",
            "Epoch: 882000, Loss: 0.673965334892273, \n",
            "Epoch: 884000, Loss: 0.6737675666809082, \n",
            "Epoch: 886000, Loss: 0.6735690236091614, \n",
            "Epoch: 888000, Loss: 0.6733710765838623, \n",
            "Epoch: 890000, Loss: 0.6731746196746826, \n",
            "Epoch: 892000, Loss: 0.6729774475097656, \n",
            "Epoch: 894000, Loss: 0.6727794408798218, \n",
            "Epoch: 896000, Loss: 0.6725839376449585, \n",
            "Epoch: 898000, Loss: 0.6723875999450684, \n",
            "Epoch: 900000, Loss: 0.6721920967102051, \n",
            "Epoch: 902000, Loss: 0.6719957590103149, \n",
            "Epoch: 904000, Loss: 0.671801745891571, \n",
            "Epoch: 906000, Loss: 0.6716052293777466, \n",
            "Epoch: 908000, Loss: 0.6714113354682922, \n",
            "Epoch: 910000, Loss: 0.6712168455123901, \n",
            "Epoch: 912000, Loss: 0.6710229516029358, \n",
            "Epoch: 914000, Loss: 0.6708300113677979, \n",
            "Epoch: 916000, Loss: 0.6706365346908569, \n",
            "Epoch: 918000, Loss: 0.670443594455719, \n",
            "Epoch: 920000, Loss: 0.6702505350112915, \n",
            "Epoch: 922000, Loss: 0.6700583696365356, \n",
            "Epoch: 924000, Loss: 0.669866144657135, \n",
            "Epoch: 926000, Loss: 0.6696743369102478, \n",
            "Epoch: 928000, Loss: 0.669481635093689, \n",
            "Epoch: 930000, Loss: 0.6692900657653809, \n",
            "Epoch: 932000, Loss: 0.6690981984138489, \n",
            "Epoch: 934000, Loss: 0.6689074635505676, \n",
            "Epoch: 936000, Loss: 0.668717086315155, \n",
            "Epoch: 938000, Loss: 0.6685261130332947, \n",
            "Epoch: 940000, Loss: 0.6683354377746582, \n",
            "Epoch: 942000, Loss: 0.6681446433067322, \n",
            "Epoch: 944000, Loss: 0.6679544448852539, \n",
            "Epoch: 946000, Loss: 0.6677629947662354, \n",
            "Epoch: 948000, Loss: 0.6675719618797302, \n",
            "Epoch: 950000, Loss: 0.6673819422721863, \n",
            "Epoch: 952000, Loss: 0.6671909093856812, \n",
            "Epoch: 954000, Loss: 0.667000412940979, \n",
            "Epoch: 956000, Loss: 0.6668097972869873, \n",
            "Epoch: 958000, Loss: 0.6666179895401001, \n",
            "Epoch: 960000, Loss: 0.6664276123046875, \n",
            "Epoch: 962000, Loss: 0.6662353277206421, \n",
            "Epoch: 964000, Loss: 0.6660445928573608, \n",
            "Epoch: 966000, Loss: 0.6658533215522766, \n",
            "Epoch: 968000, Loss: 0.6656610369682312, \n",
            "Epoch: 970000, Loss: 0.6654701232910156, \n",
            "Epoch: 972000, Loss: 0.6652777791023254, \n",
            "Epoch: 974000, Loss: 0.6650839447975159, \n",
            "Epoch: 976000, Loss: 0.6648920774459839, \n",
            "Epoch: 978000, Loss: 0.664699375629425, \n",
            "Epoch: 980000, Loss: 0.664506196975708, \n",
            "Epoch: 982000, Loss: 0.6643144488334656, \n",
            "Epoch: 984000, Loss: 0.6641201972961426, \n",
            "Epoch: 986000, Loss: 0.6639257669448853, \n",
            "Epoch: 988000, Loss: 0.6637310981750488, \n",
            "Epoch: 990000, Loss: 0.6635379791259766, \n",
            "Epoch: 992000, Loss: 0.6633424758911133, \n",
            "Epoch: 994000, Loss: 0.6631473898887634, \n",
            "Epoch: 996000, Loss: 0.6629531383514404, \n",
            "Epoch: 998000, Loss: 0.662757933139801, \n",
            "Epoch: 1000000, Loss: 0.662563145160675, \n"
          ],
          "name": "stdout"
        }
      ]
    },
    {
      "cell_type": "code",
      "metadata": {
        "colab_type": "code",
        "outputId": "22137df9-fade-41f6-a728-bc546eb052bd",
        "id": "-IJ4uLt-1TQ-",
        "colab": {
          "base_uri": "https://localhost:8080/",
          "height": 34
        }
      },
      "source": [
        "performance(test_x, test_y, vowel_model_extra_layer_long)"
      ],
      "execution_count": 141,
      "outputs": [
        {
          "output_type": "stream",
          "text": [
            "0.5074074074074074\n"
          ],
          "name": "stdout"
        }
      ]
    },
    {
      "cell_type": "markdown",
      "metadata": {
        "id": "bWCsqCffGFa8",
        "colab_type": "text"
      },
      "source": [
        "At this point, I tried looking into what was happening. For instance, am I overfitting the training set? Underfitting? I wasn't sure. It seems that continuing to train is working. It's just a very slow process. \n",
        "\n",
        "Then, I reached out to the instructor (Joe Barker) who tipped me off on a different idea of accuracy:\n",
        "\n",
        "> Accuracy for multi-class predictions is an odd thing.\n",
        ">\n",
        "> Consider the flip-a-coin/roll-a-dice (random) classifier. (Let us assume even distribution of outputs.) For a 2-class problem, for when we flip the coin, one out of two possible outcomes is the correct answer. So we would expect to get 50% accuracy (25% correct, 25% wrong for each class). For this example, 45% accuracy would be pretty bad (so bad that there's almost certainly something wrong with the algorithm, if random guessing is expected to do better).\n",
        ">\n",
        "> But for the lab's 9-class problem, then when we roll our 9-sided dice, only one out of nine possible outcomes is the correct answer. Thus we would expect ~11% accuracy. So compared to random guessing, 45% accuracy is actually pretty good.\n",
        ">\n",
        "> We can take this further by turning the 9-class classifier into a binary classifier. That is, use the ability to answer \"What class is it?\" to now answer \"Is it class X or not?\"\n",
        ">\n",
        "> Consider the random classifier case. Note first of all, our outputs are no longer evenly spread. Only 1/9th of our outputs are class X and 8/9ths are not class X. So we have to consider both cases separately. So, ~11% of the time it is class X, and of that, we expect to correctly roll class X ~11% of the time. And ~89% of the time it is not class X, and of that, we expect to roll something other than class X ~89% of the time. Thus our overall expected accuracy is 11%*11%+89%*89% = ~80%. (Much higher than 11%, though a bit misleading.)\n",
        ">\n",
        "> If you did something similar with your classifier and used it to evaluate each vowel class separately, I bet you would get accuracies much more to your liking...\n",
        "\n",
        "That's when I recalled the idea of precision and recall. Instead of measuring overall accuracy, I should be thinking about the distribution of performance for different classes. As a result, I decided to write some new code to measure performance of each vowel class individually.\n",
        "\n",
        "Rather than write my own confusion matrix code, I found an article which discusses this topic in more detail (https://towardsdatascience.com/multi-class-metrics-made-simple-part-i-precision-and-recall-9250280bddc2), and it points to a nice library in sklearn which can help out:"
      ]
    },
    {
      "cell_type": "code",
      "metadata": {
        "id": "yXk1xZOU2_BE",
        "colab_type": "code",
        "colab": {}
      },
      "source": [
        "def get_predictions(model, test_x):\n",
        "  pred_y = []\n",
        "  for data_point in test_x:\n",
        "    y_hat = model(data_point).view(1, -1)\n",
        "    m =  nn.Softmax(dim=1)\n",
        "    y_hat = m(y_hat) # Added softmax back!\n",
        "    _, predicted = torch.max(y_hat.data, 1)\n",
        "    pred_y.append(predicted.numpy()[0])\n",
        "  return pred_y"
      ],
      "execution_count": 0,
      "outputs": []
    },
    {
      "cell_type": "code",
      "metadata": {
        "id": "cUchyZSUAOYx",
        "colab_type": "code",
        "colab": {}
      },
      "source": [
        "from sklearn import metrics\n",
        "def report(model, test_x, test_y):\n",
        "  pred_y = get_predictions(model, test_x)\n",
        "  true_y = test_y.view(-1).numpy()\n",
        "  print(metrics.classification_report(true_y, pred_y, digits=3, zero_division=0))\n",
        "  #print(np.sum(pred_y == true_y) / len(pred_y))"
      ],
      "execution_count": 0,
      "outputs": []
    },
    {
      "cell_type": "code",
      "metadata": {
        "id": "gMJCGf1_8InK",
        "colab_type": "code",
        "outputId": "9d2d8e9e-644b-409d-f8b8-d608d6a536da",
        "colab": {
          "base_uri": "https://localhost:8080/",
          "height": 1000
        }
      },
      "source": [
        "report(vowel_model, test_x, test_y)\n",
        "report(vowel_model_batch, test_x, test_y)\n",
        "report(vowel_model_200, test_x, test_y)\n",
        "report(vowel_model_extra_layer, test_x, test_y)\n",
        "report(vowel_model_extra_layer_long, test_x, test_y)"
      ],
      "execution_count": 144,
      "outputs": [
        {
          "output_type": "stream",
          "text": [
            "              precision    recall  f1-score   support\n",
            "\n",
            "           0      0.000     0.000     0.000        50\n",
            "           1      0.272     0.860     0.413        50\n",
            "           2      0.000     0.000     0.000        31\n",
            "           3      0.000     0.000     0.000        60\n",
            "           4      0.000     0.000     0.000       115\n",
            "           5      0.000     0.000     0.000        73\n",
            "           6      0.000     0.000     0.000       104\n",
            "           7      0.224     0.624     0.330       234\n",
            "           8      0.000     0.000     0.000        93\n",
            "\n",
            "    accuracy                          0.233       810\n",
            "   macro avg      0.055     0.165     0.083       810\n",
            "weighted avg      0.081     0.233     0.121       810\n",
            "\n",
            "              precision    recall  f1-score   support\n",
            "\n",
            "           0      0.324     0.220     0.262        50\n",
            "           1      0.569     0.820     0.672        50\n",
            "           2      0.000     0.000     0.000        31\n",
            "           3      0.915     0.717     0.804        60\n",
            "           4      0.506     0.739     0.601       115\n",
            "           5      0.378     0.192     0.255        73\n",
            "           6      0.279     0.365     0.317       104\n",
            "           7      0.720     0.769     0.744       234\n",
            "           8      0.446     0.312     0.367        93\n",
            "\n",
            "    accuracy                          0.544       810\n",
            "   macro avg      0.460     0.459     0.447       810\n",
            "weighted avg      0.524     0.544     0.523       810\n",
            "\n",
            "              precision    recall  f1-score   support\n",
            "\n",
            "           0      0.500     0.180     0.265        50\n",
            "           1      0.531     0.860     0.656        50\n",
            "           2      0.000     0.000     0.000        31\n",
            "           3      0.900     0.750     0.818        60\n",
            "           4      0.522     0.722     0.606       115\n",
            "           5      0.357     0.205     0.261        73\n",
            "           6      0.294     0.385     0.333       104\n",
            "           7      0.711     0.756     0.733       234\n",
            "           8      0.467     0.376     0.417        93\n",
            "\n",
            "    accuracy                          0.552       810\n",
            "   macro avg      0.476     0.471     0.454       810\n",
            "weighted avg      0.533     0.552     0.529       810\n",
            "\n",
            "              precision    recall  f1-score   support\n",
            "\n",
            "           0      0.229     0.380     0.286        50\n",
            "           1      0.621     0.820     0.707        50\n",
            "           2      0.200     0.065     0.098        31\n",
            "           3      0.717     0.717     0.717        60\n",
            "           4      0.497     0.722     0.589       115\n",
            "           5      0.359     0.315     0.336        73\n",
            "           6      0.302     0.279     0.290       104\n",
            "           7      0.738     0.650     0.691       234\n",
            "           8      0.569     0.355     0.437        93\n",
            "\n",
            "    accuracy                          0.525       810\n",
            "   macro avg      0.470     0.478     0.461       810\n",
            "weighted avg      0.533     0.525     0.519       810\n",
            "\n",
            "              precision    recall  f1-score   support\n",
            "\n",
            "           0      0.298     0.280     0.289        50\n",
            "           1      0.612     0.820     0.701        50\n",
            "           2      0.286     0.129     0.178        31\n",
            "           3      0.667     0.533     0.593        60\n",
            "           4      0.469     0.522     0.494       115\n",
            "           5      0.276     0.329     0.300        73\n",
            "           6      0.229     0.260     0.243       104\n",
            "           7      0.776     0.756     0.766       234\n",
            "           8      0.438     0.344     0.386        93\n",
            "\n",
            "    accuracy                          0.507       810\n",
            "   macro avg      0.450     0.441     0.439       810\n",
            "weighted avg      0.512     0.507     0.506       810\n",
            "\n"
          ],
          "name": "stdout"
        }
      ]
    },
    {
      "cell_type": "markdown",
      "metadata": {
        "id": "V3580mq4xtcM",
        "colab_type": "text"
      },
      "source": [
        "At this point, I was wondering why these models keep performing so poorly for vowels 0 ('ah') and 2 ('ax'). As a result, I think it's important to put the data set into context. "
      ]
    },
    {
      "cell_type": "code",
      "metadata": {
        "id": "aZblCpsYyAkA",
        "colab_type": "code",
        "outputId": "29827635-e89b-427f-8859-56972ea3bf76",
        "colab": {
          "base_uri": "https://localhost:8080/",
          "height": 101
        }
      },
      "source": [
        "df[\"vowel\"].astype(\"category\").describe()"
      ],
      "execution_count": 145,
      "outputs": [
        {
          "output_type": "execute_result",
          "data": {
            "text/plain": [
              "count     3237\n",
              "unique       9\n",
              "top         ow\n",
              "freq       917\n",
              "Name: vowel, dtype: object"
            ]
          },
          "metadata": {
            "tags": []
          },
          "execution_count": 145
        }
      ]
    },
    {
      "cell_type": "code",
      "metadata": {
        "id": "1HE6sJz3zoiQ",
        "colab_type": "code",
        "outputId": "cac978a9-aede-4975-cea0-cb4896d0eb46",
        "colab": {
          "base_uri": "https://localhost:8080/",
          "height": 185
        }
      },
      "source": [
        "df[\"vowel\"].astype(\"category\").value_counts()"
      ],
      "execution_count": 146,
      "outputs": [
        {
          "output_type": "execute_result",
          "data": {
            "text/plain": [
              "ow    917\n",
              "iy    468\n",
              "ey    415\n",
              "uw    370\n",
              "ih    283\n",
              "ao    258\n",
              "eh    236\n",
              "ah    175\n",
              "ax    115\n",
              "Name: vowel, dtype: int64"
            ]
          },
          "metadata": {
            "tags": []
          },
          "execution_count": 146
        }
      ]
    },
    {
      "cell_type": "code",
      "metadata": {
        "id": "-hOEiczVzxin",
        "colab_type": "code",
        "outputId": "f1761c9c-55e0-4792-8f91-f63dab2136ae",
        "colab": {
          "base_uri": "https://localhost:8080/",
          "height": 34
        }
      },
      "source": [
        "df[\"vowel\"].astype(\"category\").cat.categories"
      ],
      "execution_count": 147,
      "outputs": [
        {
          "output_type": "execute_result",
          "data": {
            "text/plain": [
              "Index(['ah', 'ao', 'ax', 'eh', 'ey', 'ih', 'iy', 'ow', 'uw'], dtype='object')"
            ]
          },
          "metadata": {
            "tags": []
          },
          "execution_count": 147
        }
      ]
    },
    {
      "cell_type": "markdown",
      "metadata": {
        "id": "UNP_F6DfzFho",
        "colab_type": "text"
      },
      "source": [
        "Now, it makes sense why we're having so much success with 7 ('ow'); it has the most data points. Meanwhile, 2 ('ax') has terrible performance which makes sense; we only have 115 data points in the set. I'm wondering if more data would improve the performance of our model. \n",
        "\n",
        "I'm most surprised by 1 ('ao') which seemed to be easy to identify in almost every model despite the lack of samples.  \n",
        "\n",
        "Also, it looks like we overfit the data a bit after 1,000,000 epochs because we're getting slightly less performance overall than some of the less trained models. I'd be interested in seeing how these models would perform with more splits of the current data. That said, I don't have to time to continue exploring the data.\n",
        "\n"
      ]
    }
  ]
}